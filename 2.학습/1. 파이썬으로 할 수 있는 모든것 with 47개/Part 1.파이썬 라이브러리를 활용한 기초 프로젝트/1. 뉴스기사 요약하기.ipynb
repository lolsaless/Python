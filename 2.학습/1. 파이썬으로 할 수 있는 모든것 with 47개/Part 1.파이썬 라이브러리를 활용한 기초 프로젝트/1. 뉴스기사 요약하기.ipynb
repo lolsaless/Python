{
 "cells": [
  {
   "cell_type": "markdown",
   "metadata": {},
   "source": [
    "### 바이트 문자열 인코딩/디코딩"
   ]
  },
  {
   "cell_type": "code",
   "execution_count": null,
   "metadata": {},
   "outputs": [],
   "source": [
    "import base64"
   ]
  },
  {
   "cell_type": "code",
   "execution_count": null,
   "metadata": {},
   "outputs": [],
   "source": [
    "string = 'Life is too short, We need Python !'"
   ]
  },
  {
   "cell_type": "code",
   "execution_count": null,
   "metadata": {},
   "outputs": [],
   "source": [
    "encoded = base64.b64encode(string)\n",
    "# b64는 바이너리 타입만 받아서 인코딩을 할 수 있다.\n",
    "# 문자열은 바이러니 파일이 아니기 때문에 에러가 발생한다.\n",
    "# 그렇기 때문에 string에 대해서 아스키 인코등일 거쳐야한다."
   ]
  },
  {
   "cell_type": "code",
   "execution_count": null,
   "metadata": {},
   "outputs": [],
   "source": [
    "# ascii 인코딩\n",
    "bstring = string.encode('ascii')\n",
    "print(bstring)"
   ]
  },
  {
   "cell_type": "code",
   "execution_count": null,
   "metadata": {},
   "outputs": [],
   "source": [
    "# base64 인코딩\n",
    "encoded = base64.b64encode(bstring)\n",
    "print(encoded)"
   ]
  },
  {
   "cell_type": "code",
   "execution_count": null,
   "metadata": {},
   "outputs": [],
   "source": [
    "# base64 디코딩\n",
    "decoded = base64.b64decode(encoded)\n",
    "print(decoded)"
   ]
  },
  {
   "cell_type": "code",
   "execution_count": null,
   "metadata": {},
   "outputs": [],
   "source": [
    "# base64 디코딩\n",
    "decoded = base64.decodebytes(encoded)\n",
    "print(decoded)"
   ]
  },
  {
   "cell_type": "code",
   "execution_count": null,
   "metadata": {},
   "outputs": [],
   "source": [
    "# ascii 디코딩\n",
    "decoded_str = decoded.decode('ascii')\n",
    "print(decoded_str)"
   ]
  },
  {
   "cell_type": "markdown",
   "metadata": {},
   "source": [
    "### 이미지 인코딩/디코딩"
   ]
  },
  {
   "cell_type": "code",
   "execution_count": null,
   "metadata": {},
   "outputs": [],
   "source": [
    "path = \"./img.jpg\""
   ]
  },
  {
   "cell_type": "code",
   "execution_count": null,
   "metadata": {},
   "outputs": [],
   "source": [
    "# 이미지 확인하기\n",
    "from PIL import Image\n",
    "img = Image.open(path)\n",
    "img"
   ]
  },
  {
   "cell_type": "code",
   "execution_count": null,
   "metadata": {},
   "outputs": [],
   "source": [
    "# 바이너리 파일 읽기\n",
    "# rb 는 바이너리 형태로 read 한다는 뜻이다.\n",
    "with open(path, 'rb') as img:\n",
    "    image = img.read()\n",
    "    \n",
    "image"
   ]
  },
  {
   "cell_type": "code",
   "execution_count": null,
   "metadata": {},
   "outputs": [],
   "source": [
    "from bitstring import BitArray\n",
    "input_str = '0xff'\n",
    "c = BitArray(hex = input_str)\n",
    "c.bin"
   ]
  },
  {
   "cell_type": "code",
   "execution_count": null,
   "metadata": {},
   "outputs": [],
   "source": [
    "bit_array = BitArray(bytes=image)"
   ]
  },
  {
   "cell_type": "code",
   "execution_count": null,
   "metadata": {},
   "outputs": [],
   "source": [
    "bit_array.bin"
   ]
  },
  {
   "cell_type": "code",
   "execution_count": null,
   "metadata": {},
   "outputs": [],
   "source": [
    "# base64 인코딩\n",
    "# 다음과 같은 작업을 통해 웹에서 주고 받을 수 있는 형태가 되었다.\n",
    "with open(path, 'rb') as img:\n",
    "    data = img.read()\n",
    "    encoded = base64.b64encode(data)\n",
    "    print(encoded)"
   ]
  },
  {
   "cell_type": "code",
   "execution_count": null,
   "metadata": {},
   "outputs": [],
   "source": [
    "# base64 디코딩\n",
    "decoded = base64.b64decode(encoded)\n",
    "print(decoded)"
   ]
  },
  {
   "cell_type": "code",
   "execution_count": null,
   "metadata": {},
   "outputs": [],
   "source": [
    "# 이미지 파일로 저장\n",
    "file = \"decoded.png\"\n",
    "\n",
    "with open(file, 'wb') as file:\n",
    "    file.write(decoded)"
   ]
  },
  {
   "cell_type": "markdown",
   "metadata": {},
   "source": [
    "### 문자열 다루기"
   ]
  },
  {
   "cell_type": "code",
   "execution_count": null,
   "metadata": {},
   "outputs": [],
   "source": [
    "import textwrap"
   ]
  },
  {
   "cell_type": "code",
   "execution_count": null,
   "metadata": {},
   "outputs": [],
   "source": [
    "text = '의료계 집단행동에 참여하지 않은 의사·의대생 등의 신상 정보가 담긴 이른바 ‘의료계 블랙리스트’를 작성해 게시한 혐의 등으로 재판에 넘겨진 사직 전공의 측의 보석 신청이 받아들이지 않았습니다. 서울중앙지법 형사13단독(판사 이용제)는 오늘(28일) 스토킹 범죄의 처벌 등에 관한 법률 위반 혐의로 구속기소 된 정 모 씨의 보석 청구를 기각했습니다. 이에 따라 정 씨는 구속 상태로 계속 재판을 받게 됐습니다. 앞서 정 씨는 불구속 상태로 재판을 받게 해달라며 지난달 29일 재판부에 보석을 청구한 바 있습니다. 정 씨는 지난 22일에 열린 첫 공판에서 “구속 수감 중이다 보니 증거 기록을 검토하기도 힘들고, 명단에 있는 300명의 이름을 다 기억하지도 못해 방어권 행사에 많은 제한이 있다”며 “보석을 허가해 주면 성실히 출석해 재판을 받겠다”고 말했습니다. 당시 법원은 정 씨에 대한 보석 여부를 추후 결정하겠다고 언급했는데, 오늘 보석 신청을 기각하며 정 씨의 신청을 받아들이지 않았습니다. 사직 전공의인 정 씨는 지난 7월 의료계 집단행동에 동참하지 않는 의사·의대생 등의 신상 정보를 담은 이른바 ‘의료계 블랙리스트’를 만든 뒤 텔레그램 채널과 의료계 커뮤니티 ‘메디스태프’에 여러 차례 글을 올린 혐의로 재판에 넘겨졌습니다.'"
   ]
  },
  {
   "cell_type": "code",
   "execution_count": null,
   "metadata": {},
   "outputs": [],
   "source": [
    "print(text)"
   ]
  },
  {
   "cell_type": "code",
   "execution_count": null,
   "metadata": {},
   "outputs": [],
   "source": [
    "textwrap.shorten(text, width=100)"
   ]
  },
  {
   "cell_type": "code",
   "execution_count": null,
   "metadata": {},
   "outputs": [],
   "source": [
    "textwrap.shorten(text, width=100, placeholder='...[중략]')"
   ]
  },
  {
   "cell_type": "code",
   "execution_count": null,
   "metadata": {},
   "outputs": [],
   "source": [
    "# 40자씩 묶여서, 리스트 형태로 담겨지게된다.\n",
    "wrapped_text = textwrap.wrap(text, width=40)\n",
    "print(wrapped_text)"
   ]
  },
  {
   "cell_type": "code",
   "execution_count": null,
   "metadata": {},
   "outputs": [],
   "source": [
    "wrapped_text[0]"
   ]
  },
  {
   "cell_type": "code",
   "execution_count": null,
   "metadata": {},
   "outputs": [],
   "source": [
    "print('\\n'.join(wrapped_text))"
   ]
  },
  {
   "cell_type": "code",
   "execution_count": null,
   "metadata": {},
   "outputs": [],
   "source": [
    "filled_text = textwrap.fill(text, width = 40)\n",
    "print(filled_text)"
   ]
  },
  {
   "cell_type": "code",
   "execution_count": null,
   "metadata": {},
   "outputs": [],
   "source": [
    "# 정규표현식 처리하는 라이브러리\n",
    "import re"
   ]
  },
  {
   "cell_type": "code",
   "execution_count": null,
   "metadata": {},
   "outputs": [],
   "source": [
    "# 단어 추출\n",
    "# 정규표현식을 이용해서 단어만 추출하는 함수\n",
    "words = re.findall(r'\\w+', text)"
   ]
  },
  {
   "cell_type": "code",
   "execution_count": null,
   "metadata": {},
   "outputs": [],
   "source": [
    "print(words)"
   ]
  },
  {
   "cell_type": "code",
   "execution_count": null,
   "metadata": {},
   "outputs": [],
   "source": [
    "# 연락처 목록\n",
    "contact = '''김하늘 25 010-1234-5678 sky@google.com\n",
    "이준혁 30 010-9876-5432 jhlee@google.com\n",
    "박소민 27 010-4567-8910 somin@google.com\n",
    "최민수 33 010-2222-3333 minsoo@google.com\n",
    "정가영 21 010-7890-1234 gayeong@google.com\n",
    "한지우 29 010-5555-6666 jiwoo@google.com\n",
    "오유진 24 010-3456-7890 yujin@google.com\n",
    "서도윤 28 010-6789-1234 doyun@google.com\n",
    "권예지 26 010-9999-8888 yeji@google.com\n",
    "장우혁 32 010-1111-2222 whjang@google.com\n",
    "'''"
   ]
  },
  {
   "cell_type": "code",
   "execution_count": null,
   "metadata": {},
   "outputs": [],
   "source": [
    "print(contact)"
   ]
  },
  {
   "cell_type": "code",
   "execution_count": null,
   "metadata": {},
   "outputs": [],
   "source": [
    "# 전화번호 추출\n",
    "regex = r'0\\d{1,2}[ -]?\\d{3,4}[ -]?\\d[3,4]'\n",
    "\n",
    "phone = re.findall(regex, contact)\n",
    "print('\\n'.join(phone))\n"
   ]
  },
  {
   "cell_type": "code",
   "execution_count": null,
   "metadata": {},
   "outputs": [],
   "source": [
    "# \\d[3,4]는 숫자 하나를 찾은 후, 3 또는 4라는 문자 그대로를 포함하도록 해석됩니다.\n",
    "# 예: 5432 중 543까지만 일치하고 2를 제외하는 문제 발생.\n",
    "# 전화번호에서 끝 4자리가 온전히 매칭되지 않습니다.\n",
    "\n",
    "regex = r'0\\d{1,2}[- ]?\\d{3,4}[- ]?\\d{4}'\n",
    "phone = re.findall(regex, contact)\n",
    "print('\\n'.join(phone))"
   ]
  },
  {
   "cell_type": "code",
   "execution_count": null,
   "metadata": {},
   "outputs": [],
   "source": [
    "# 변환(마스킹)\n",
    "pat = re.compile(r'0\\d{1,2}[- ]?\\d{3,4}[- ]?\\d{4}')\n",
    "print(pat.sub(\"***-****-00**\", contact))"
   ]
  },
  {
   "cell_type": "code",
   "execution_count": null,
   "metadata": {},
   "outputs": [],
   "source": [
    "# 정규식으로 그룹화하여 원하는 부분만 치환\n",
    "pat = re.compile(r'(0\\d{1,2}[- ]?\\d{3,4}[- ]?)\\d{4}')\n",
    "masked_contact = pat.sub(r'\\1****', contact)\n",
    "\n",
    "print(masked_contact)"
   ]
  },
  {
   "cell_type": "code",
   "execution_count": null,
   "metadata": {},
   "outputs": [],
   "source": [
    "# 정규식으로 그룹화하여 가운데 번호만 치환\n",
    "pat = re.compile(r'(0\\d{1,2}[- ]?)(\\d{3,4})([- ]?\\d{4})')\n",
    "masked_contact = pat.sub(r'\\1****\\3', contact)\n",
    "\n",
    "print(masked_contact)"
   ]
  },
  {
   "cell_type": "code",
   "execution_count": null,
   "metadata": {},
   "outputs": [],
   "source": [
    "# 정규식으로 그룹화하여 마스킹\n",
    "pat = re.compile(r'(0)\\d(0[- ])(\\d)\\d(\\d[- ])(\\d{2})\\d{2}')\n",
    "masked_contact = pat.sub(r'\\1*\\2\\3*\\4*\\5**', contact)\n",
    "\n",
    "print(masked_contact)"
   ]
  },
  {
   "cell_type": "code",
   "execution_count": null,
   "metadata": {},
   "outputs": [],
   "source": [
    "# Refine the regular expression to target the actual phone numbers correctly\n",
    "def refine_mask_phone_numbers(contact):\n",
    "    return re.sub(r'(\\d{3})-(\\d)(\\d{3})-(\\d)(\\d{3})', r'\\1-\\2*\\4*-**', contact)\n",
    "\n",
    "# Apply the refined function\n",
    "refined_masked_contacts = refine_mask_phone_numbers(contact)\n",
    "print(refined_masked_contacts)\n"
   ]
  },
  {
   "cell_type": "markdown",
   "metadata": {},
   "source": [
    "### 단어 개수 구하기"
   ]
  },
  {
   "cell_type": "code",
   "execution_count": null,
   "metadata": {},
   "outputs": [],
   "source": [
    "import collections\n",
    "import textwrap\n",
    "import re"
   ]
  },
  {
   "cell_type": "code",
   "execution_count": null,
   "metadata": {},
   "outputs": [],
   "source": [
    "text = '의료계 집단행동에 참여하지 않은 의사·의대생 등의 신상 정보가 담긴 이른바 ‘의료계 블랙리스트’를 작성해 게시한 혐의 등으로 재판에 넘겨진 사직 전공의 측의 보석 신청이 받아들이지 않았습니다. 서울중앙지법 형사13단독(판사 이용제)는 오늘(28일) 스토킹 범죄의 처벌 등에 관한 법률 위반 혐의로 구속기소 된 정 모 씨의 보석 청구를 기각했습니다. 이에 따라 정 씨는 구속 상태로 계속 재판을 받게 됐습니다. 앞서 정 씨는 불구속 상태로 재판을 받게 해달라며 지난달 29일 재판부에 보석을 청구한 바 있습니다. 정 씨는 지난 22일에 열린 첫 공판에서 “구속 수감 중이다 보니 증거 기록을 검토하기도 힘들고, 명단에 있는 300명의 이름을 다 기억하지도 못해 방어권 행사에 많은 제한이 있다”며 “보석을 허가해 주면 성실히 출석해 재판을 받겠다”고 말했습니다. 당시 법원은 정 씨에 대한 보석 여부를 추후 결정하겠다고 언급했는데, 오늘 보석 신청을 기각하며 정 씨의 신청을 받아들이지 않았습니다. 사직 전공의인 정 씨는 지난 7월 의료계 집단행동에 동참하지 않는 의사·의대생 등의 신상 정보를 담은 이른바 ‘의료계 블랙리스트’를 만든 뒤 텔레그램 채널과 의료계 커뮤니티 ‘메디스태프’에 여러 차례 글을 올린 혐의로 재판에 넘겨졌습니다.'\n",
    "text = textwrap.fill(text, width=50)\n",
    "print(text)"
   ]
  },
  {
   "cell_type": "code",
   "execution_count": null,
   "metadata": {},
   "outputs": [],
   "source": [
    "# 단어 추출\n",
    "words = re.findall(r'\\w+', text)\n",
    "print(words)"
   ]
  },
  {
   "cell_type": "code",
   "execution_count": null,
   "metadata": {},
   "outputs": [],
   "source": [
    "# 빈도수 산출\n",
    "counter = collections.Counter(words)\n",
    "print(counter)"
   ]
  },
  {
   "cell_type": "code",
   "execution_count": null,
   "metadata": {},
   "outputs": [],
   "source": [
    "# 덧셈\n",
    "# 카운터 연산이 기본적으로 딕셔너리 형태이기 때무에 집합 연산이 가능하다.\n",
    "\n",
    "a = collections.Counter(['a', 'b', 'c', 'b', 'd', 'a'])\n",
    "b = collections.Counter(['e', 'f', 'f', 'b', 'a', 'd'])"
   ]
  },
  {
   "cell_type": "code",
   "execution_count": null,
   "metadata": {},
   "outputs": [],
   "source": [
    "print(a)\n",
    "print(b)"
   ]
  },
  {
   "cell_type": "code",
   "execution_count": null,
   "metadata": {},
   "outputs": [],
   "source": [
    "print(a + b)"
   ]
  },
  {
   "cell_type": "code",
   "execution_count": null,
   "metadata": {},
   "outputs": [],
   "source": [
    "# 뺄셈\n",
    "print(a - b)"
   ]
  },
  {
   "cell_type": "code",
   "execution_count": null,
   "metadata": {},
   "outputs": [],
   "source": [
    "# 교집합\n",
    "print(a & b)"
   ]
  },
  {
   "cell_type": "code",
   "execution_count": null,
   "metadata": {},
   "outputs": [],
   "source": [
    "# 합집합\n",
    "print(a | b)"
   ]
  },
  {
   "cell_type": "code",
   "execution_count": null,
   "metadata": {},
   "outputs": [],
   "source": [
    "# 상위 빈도수 단어 추출\n",
    "print(counter.most_common(10))"
   ]
  },
  {
   "cell_type": "markdown",
   "metadata": {},
   "source": [
    "### 텍스트 파일 저장"
   ]
  },
  {
   "cell_type": "code",
   "execution_count": null,
   "metadata": {},
   "outputs": [],
   "source": [
    "# UTF-8 인코딩으로 파일 전체 읽기\n",
    "with open(\"조이오 낄낄.txt\", 'r', encoding='utf-8') as f:\n",
    "    content = f.read()\n",
    "    print(content)  # 파일의 전체 내용을 출력"
   ]
  },
  {
   "cell_type": "code",
   "execution_count": null,
   "metadata": {},
   "outputs": [],
   "source": [
    "# 텍스트 파일 쓰기\n",
    "f = open(\"새파일.txt\", 'w', encoding='utf-8')\n",
    "for i in range(1, 11):\n",
    "    data = \"%d번째 줄입니다.\\n\" % i\n",
    "    f.write(data)\n",
    "f.close()"
   ]
  },
  {
   "cell_type": "code",
   "execution_count": null,
   "metadata": {},
   "outputs": [],
   "source": [
    "# 한줄 읽기\n",
    "f = open(\"새파일.txt\", 'r', encoding='utf-8')\n",
    "line = f.readline()\n",
    "print(line)"
   ]
  },
  {
   "cell_type": "code",
   "execution_count": null,
   "metadata": {},
   "outputs": [],
   "source": [
    "# UTF-8 인코딩으로 파일 전체 줄 단위로 읽기\n",
    "with open(\"조이오 낄낄.txt\", 'r', encoding='utf-8') as f:\n",
    "    lines = f.readlines()\n",
    "    print(lines)\n",
    "    for line in lines:\n",
    "        print(line.strip())  # 각 줄 출력 (strip()으로 개행 문자 제거)"
   ]
  },
  {
   "cell_type": "code",
   "execution_count": null,
   "metadata": {},
   "outputs": [],
   "source": [
    "with open(\"새파일.txt\", 'r', encoding='utf-8') as f:\n",
    "    lines = f.readline()\n",
    "    for line in lines:\n",
    "        print(line.strip())"
   ]
  },
  {
   "cell_type": "code",
   "execution_count": null,
   "metadata": {},
   "outputs": [],
   "source": [
    "with open(\"새파일.txt\", 'r', encoding='utf-8') as f:\n",
    "    lines = f.readlines()  # 각 줄이 리스트의 원소로 저장됨\n",
    "    for line in lines:\n",
    "        print(line.strip())  # 줄바꿈 문자 제거 후 출력"
   ]
  },
  {
   "cell_type": "code",
   "execution_count": 24,
   "metadata": {},
   "outputs": [],
   "source": [
    "# 내용 추가하기\n",
    "# w 모드 사용 시\n",
    "f = open(\"새파일.txt\", \"a\", encoding='utf-8')\n",
    "for i in range(11, 21):\n",
    "    data = \"%d번째 줄입니다.\\n\" % i\n",
    "    f.write(data)\n",
    "f.close()"
   ]
  },
  {
   "cell_type": "code",
   "execution_count": 25,
   "metadata": {},
   "outputs": [],
   "source": [
    "with open(\"새파일.txt\", 'w', encoding='utf-8') as f:\n",
    "    for i in range(1, 11):\n",
    "        data = \"%d번째 줄입니다.\\n\" % i\n",
    "        f.write(data)"
   ]
  },
  {
   "cell_type": "markdown",
   "metadata": {},
   "source": [
    "### 뉴스기사 3줄 요약하기"
   ]
  },
  {
   "cell_type": "code",
   "execution_count": 1,
   "metadata": {},
   "outputs": [],
   "source": [
    "text = '의료계 집단행동에 참여하지 않은 의사·의대생 등의 신상 정보가 담긴 이른바 ‘의료계 블랙리스트’를 작성해 게시한 혐의 등으로 재판에 넘겨진 사직 전공의 측의 보석 신청이 받아들이지 않았습니다. 서울중앙지법 형사13단독(판사 이용제)는 오늘(28일) 스토킹 범죄의 처벌 등에 관한 법률 위반 혐의로 구속기소 된 정 모 씨의 보석 청구를 기각했습니다. 이에 따라 정 씨는 구속 상태로 계속 재판을 받게 됐습니다. 앞서 정 씨는 불구속 상태로 재판을 받게 해달라며 지난달 29일 재판부에 보석을 청구한 바 있습니다. 정 씨는 지난 22일에 열린 첫 공판에서 “구속 수감 중이다 보니 증거 기록을 검토하기도 힘들고, 명단에 있는 300명의 이름을 다 기억하지도 못해 방어권 행사에 많은 제한이 있다”며 “보석을 허가해 주면 성실히 출석해 재판을 받겠다”고 말했습니다. 당시 법원은 정 씨에 대한 보석 여부를 추후 결정하겠다고 언급했는데, 오늘 보석 신청을 기각하며 정 씨의 신청을 받아들이지 않았습니다. 사직 전공의인 정 씨는 지난 7월 의료계 집단행동에 동참하지 않는 의사·의대생 등의 신상 정보를 담은 이른바 ‘의료계 블랙리스트’를 만든 뒤 텔레그램 채널과 의료계 커뮤니티 ‘메디스태프’에 여러 차례 글을 올린 혐의로 재판에 넘겨졌습니다.'"
   ]
  },
  {
   "cell_type": "code",
   "execution_count": 2,
   "metadata": {},
   "outputs": [],
   "source": [
    "import base64"
   ]
  },
  {
   "cell_type": "code",
   "execution_count": 6,
   "metadata": {},
   "outputs": [
    {
     "name": "stdout",
     "output_type": "stream",
     "text": [
      "b'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'\n"
     ]
    }
   ],
   "source": [
    "text_utf8 = text.encode('utf-8')\n",
    "text_base64 = base64.b64encode(text_utf8)\n",
    "print(text_base64)"
   ]
  },
  {
   "cell_type": "code",
   "execution_count": 8,
   "metadata": {},
   "outputs": [
    {
     "name": "stdout",
     "output_type": "stream",
     "text": [
      "b'\\xec\\x9d\\x98\\xeb\\xa3\\x8c\\xea\\xb3\\x84 \\xec\\xa7\\x91\\xeb\\x8b\\xa8\\xed\\x96\\x89\\xeb\\x8f\\x99\\xec\\x97\\x90 \\xec\\xb0\\xb8\\xec\\x97\\xac\\xed\\x95\\x98\\xec\\xa7\\x80 \\xec\\x95\\x8a\\xec\\x9d\\x80 \\xec\\x9d\\x98\\xec\\x82\\xac\\xc2\\xb7\\xec\\x9d\\x98\\xeb\\x8c\\x80\\xec\\x83\\x9d \\xeb\\x93\\xb1\\xec\\x9d\\x98 \\xec\\x8b\\xa0\\xec\\x83\\x81 \\xec\\xa0\\x95\\xeb\\xb3\\xb4\\xea\\xb0\\x80 \\xeb\\x8b\\xb4\\xea\\xb8\\xb4 \\xec\\x9d\\xb4\\xeb\\xa5\\xb8\\xeb\\xb0\\x94 \\xe2\\x80\\x98\\xec\\x9d\\x98\\xeb\\xa3\\x8c\\xea\\xb3\\x84 \\xeb\\xb8\\x94\\xeb\\x9e\\x99\\xeb\\xa6\\xac\\xec\\x8a\\xa4\\xed\\x8a\\xb8\\xe2\\x80\\x99\\xeb\\xa5\\xbc \\xec\\x9e\\x91\\xec\\x84\\xb1\\xed\\x95\\xb4 \\xea\\xb2\\x8c\\xec\\x8b\\x9c\\xed\\x95\\x9c \\xed\\x98\\x90\\xec\\x9d\\x98 \\xeb\\x93\\xb1\\xec\\x9c\\xbc\\xeb\\xa1\\x9c \\xec\\x9e\\xac\\xed\\x8c\\x90\\xec\\x97\\x90 \\xeb\\x84\\x98\\xea\\xb2\\xa8\\xec\\xa7\\x84 \\xec\\x82\\xac\\xec\\xa7\\x81 \\xec\\xa0\\x84\\xea\\xb3\\xb5\\xec\\x9d\\x98 \\xec\\xb8\\xa1\\xec\\x9d\\x98 \\xeb\\xb3\\xb4\\xec\\x84\\x9d \\xec\\x8b\\xa0\\xec\\xb2\\xad\\xec\\x9d\\xb4 \\xeb\\xb0\\x9b\\xec\\x95\\x84\\xeb\\x93\\xa4\\xec\\x9d\\xb4\\xec\\xa7\\x80 \\xec\\x95\\x8a\\xec\\x95\\x98\\xec\\x8a\\xb5\\xeb\\x8b\\x88\\xeb\\x8b\\xa4. \\xec\\x84\\x9c\\xec\\x9a\\xb8\\xec\\xa4\\x91\\xec\\x95\\x99\\xec\\xa7\\x80\\xeb\\xb2\\x95 \\xed\\x98\\x95\\xec\\x82\\xac13\\xeb\\x8b\\xa8\\xeb\\x8f\\x85(\\xed\\x8c\\x90\\xec\\x82\\xac \\xec\\x9d\\xb4\\xec\\x9a\\xa9\\xec\\xa0\\x9c)\\xeb\\x8a\\x94 \\xec\\x98\\xa4\\xeb\\x8a\\x98(28\\xec\\x9d\\xbc) \\xec\\x8a\\xa4\\xed\\x86\\xa0\\xed\\x82\\xb9 \\xeb\\xb2\\x94\\xec\\xa3\\x84\\xec\\x9d\\x98 \\xec\\xb2\\x98\\xeb\\xb2\\x8c \\xeb\\x93\\xb1\\xec\\x97\\x90 \\xea\\xb4\\x80\\xed\\x95\\x9c \\xeb\\xb2\\x95\\xeb\\xa5\\xa0 \\xec\\x9c\\x84\\xeb\\xb0\\x98 \\xed\\x98\\x90\\xec\\x9d\\x98\\xeb\\xa1\\x9c \\xea\\xb5\\xac\\xec\\x86\\x8d\\xea\\xb8\\xb0\\xec\\x86\\x8c \\xeb\\x90\\x9c \\xec\\xa0\\x95 \\xeb\\xaa\\xa8 \\xec\\x94\\xa8\\xec\\x9d\\x98 \\xeb\\xb3\\xb4\\xec\\x84\\x9d \\xec\\xb2\\xad\\xea\\xb5\\xac\\xeb\\xa5\\xbc \\xea\\xb8\\xb0\\xea\\xb0\\x81\\xed\\x96\\x88\\xec\\x8a\\xb5\\xeb\\x8b\\x88\\xeb\\x8b\\xa4. \\xec\\x9d\\xb4\\xec\\x97\\x90 \\xeb\\x94\\xb0\\xeb\\x9d\\xbc \\xec\\xa0\\x95 \\xec\\x94\\xa8\\xeb\\x8a\\x94 \\xea\\xb5\\xac\\xec\\x86\\x8d \\xec\\x83\\x81\\xed\\x83\\x9c\\xeb\\xa1\\x9c \\xea\\xb3\\x84\\xec\\x86\\x8d \\xec\\x9e\\xac\\xed\\x8c\\x90\\xec\\x9d\\x84 \\xeb\\xb0\\x9b\\xea\\xb2\\x8c \\xeb\\x90\\x90\\xec\\x8a\\xb5\\xeb\\x8b\\x88\\xeb\\x8b\\xa4. \\xec\\x95\\x9e\\xec\\x84\\x9c \\xec\\xa0\\x95 \\xec\\x94\\xa8\\xeb\\x8a\\x94 \\xeb\\xb6\\x88\\xea\\xb5\\xac\\xec\\x86\\x8d \\xec\\x83\\x81\\xed\\x83\\x9c\\xeb\\xa1\\x9c \\xec\\x9e\\xac\\xed\\x8c\\x90\\xec\\x9d\\x84 \\xeb\\xb0\\x9b\\xea\\xb2\\x8c \\xed\\x95\\xb4\\xeb\\x8b\\xac\\xeb\\x9d\\xbc\\xeb\\xa9\\xb0 \\xec\\xa7\\x80\\xeb\\x82\\x9c\\xeb\\x8b\\xac 29\\xec\\x9d\\xbc \\xec\\x9e\\xac\\xed\\x8c\\x90\\xeb\\xb6\\x80\\xec\\x97\\x90 \\xeb\\xb3\\xb4\\xec\\x84\\x9d\\xec\\x9d\\x84 \\xec\\xb2\\xad\\xea\\xb5\\xac\\xed\\x95\\x9c \\xeb\\xb0\\x94 \\xec\\x9e\\x88\\xec\\x8a\\xb5\\xeb\\x8b\\x88\\xeb\\x8b\\xa4. \\xec\\xa0\\x95 \\xec\\x94\\xa8\\xeb\\x8a\\x94 \\xec\\xa7\\x80\\xeb\\x82\\x9c 22\\xec\\x9d\\xbc\\xec\\x97\\x90 \\xec\\x97\\xb4\\xeb\\xa6\\xb0 \\xec\\xb2\\xab \\xea\\xb3\\xb5\\xed\\x8c\\x90\\xec\\x97\\x90\\xec\\x84\\x9c \\xe2\\x80\\x9c\\xea\\xb5\\xac\\xec\\x86\\x8d \\xec\\x88\\x98\\xea\\xb0\\x90 \\xec\\xa4\\x91\\xec\\x9d\\xb4\\xeb\\x8b\\xa4 \\xeb\\xb3\\xb4\\xeb\\x8b\\x88 \\xec\\xa6\\x9d\\xea\\xb1\\xb0 \\xea\\xb8\\xb0\\xeb\\xa1\\x9d\\xec\\x9d\\x84 \\xea\\xb2\\x80\\xed\\x86\\xa0\\xed\\x95\\x98\\xea\\xb8\\xb0\\xeb\\x8f\\x84 \\xed\\x9e\\x98\\xeb\\x93\\xa4\\xea\\xb3\\xa0, \\xeb\\xaa\\x85\\xeb\\x8b\\xa8\\xec\\x97\\x90 \\xec\\x9e\\x88\\xeb\\x8a\\x94 300\\xeb\\xaa\\x85\\xec\\x9d\\x98 \\xec\\x9d\\xb4\\xeb\\xa6\\x84\\xec\\x9d\\x84 \\xeb\\x8b\\xa4 \\xea\\xb8\\xb0\\xec\\x96\\xb5\\xed\\x95\\x98\\xec\\xa7\\x80\\xeb\\x8f\\x84 \\xeb\\xaa\\xbb\\xed\\x95\\xb4 \\xeb\\xb0\\xa9\\xec\\x96\\xb4\\xea\\xb6\\x8c \\xed\\x96\\x89\\xec\\x82\\xac\\xec\\x97\\x90 \\xeb\\xa7\\x8e\\xec\\x9d\\x80 \\xec\\xa0\\x9c\\xed\\x95\\x9c\\xec\\x9d\\xb4 \\xec\\x9e\\x88\\xeb\\x8b\\xa4\\xe2\\x80\\x9d\\xeb\\xa9\\xb0 \\xe2\\x80\\x9c\\xeb\\xb3\\xb4\\xec\\x84\\x9d\\xec\\x9d\\x84 \\xed\\x97\\x88\\xea\\xb0\\x80\\xed\\x95\\xb4 \\xec\\xa3\\xbc\\xeb\\xa9\\xb4 \\xec\\x84\\xb1\\xec\\x8b\\xa4\\xed\\x9e\\x88 \\xec\\xb6\\x9c\\xec\\x84\\x9d\\xed\\x95\\xb4 \\xec\\x9e\\xac\\xed\\x8c\\x90\\xec\\x9d\\x84 \\xeb\\xb0\\x9b\\xea\\xb2\\xa0\\xeb\\x8b\\xa4\\xe2\\x80\\x9d\\xea\\xb3\\xa0 \\xeb\\xa7\\x90\\xed\\x96\\x88\\xec\\x8a\\xb5\\xeb\\x8b\\x88\\xeb\\x8b\\xa4. \\xeb\\x8b\\xb9\\xec\\x8b\\x9c \\xeb\\xb2\\x95\\xec\\x9b\\x90\\xec\\x9d\\x80 \\xec\\xa0\\x95 \\xec\\x94\\xa8\\xec\\x97\\x90 \\xeb\\x8c\\x80\\xed\\x95\\x9c \\xeb\\xb3\\xb4\\xec\\x84\\x9d \\xec\\x97\\xac\\xeb\\xb6\\x80\\xeb\\xa5\\xbc \\xec\\xb6\\x94\\xed\\x9b\\x84 \\xea\\xb2\\xb0\\xec\\xa0\\x95\\xed\\x95\\x98\\xea\\xb2\\xa0\\xeb\\x8b\\xa4\\xea\\xb3\\xa0 \\xec\\x96\\xb8\\xea\\xb8\\x89\\xed\\x96\\x88\\xeb\\x8a\\x94\\xeb\\x8d\\xb0, \\xec\\x98\\xa4\\xeb\\x8a\\x98 \\xeb\\xb3\\xb4\\xec\\x84\\x9d \\xec\\x8b\\xa0\\xec\\xb2\\xad\\xec\\x9d\\x84 \\xea\\xb8\\xb0\\xea\\xb0\\x81\\xed\\x95\\x98\\xeb\\xa9\\xb0 \\xec\\xa0\\x95 \\xec\\x94\\xa8\\xec\\x9d\\x98 \\xec\\x8b\\xa0\\xec\\xb2\\xad\\xec\\x9d\\x84 \\xeb\\xb0\\x9b\\xec\\x95\\x84\\xeb\\x93\\xa4\\xec\\x9d\\xb4\\xec\\xa7\\x80 \\xec\\x95\\x8a\\xec\\x95\\x98\\xec\\x8a\\xb5\\xeb\\x8b\\x88\\xeb\\x8b\\xa4. \\xec\\x82\\xac\\xec\\xa7\\x81 \\xec\\xa0\\x84\\xea\\xb3\\xb5\\xec\\x9d\\x98\\xec\\x9d\\xb8 \\xec\\xa0\\x95 \\xec\\x94\\xa8\\xeb\\x8a\\x94 \\xec\\xa7\\x80\\xeb\\x82\\x9c 7\\xec\\x9b\\x94 \\xec\\x9d\\x98\\xeb\\xa3\\x8c\\xea\\xb3\\x84 \\xec\\xa7\\x91\\xeb\\x8b\\xa8\\xed\\x96\\x89\\xeb\\x8f\\x99\\xec\\x97\\x90 \\xeb\\x8f\\x99\\xec\\xb0\\xb8\\xed\\x95\\x98\\xec\\xa7\\x80 \\xec\\x95\\x8a\\xeb\\x8a\\x94 \\xec\\x9d\\x98\\xec\\x82\\xac\\xc2\\xb7\\xec\\x9d\\x98\\xeb\\x8c\\x80\\xec\\x83\\x9d \\xeb\\x93\\xb1\\xec\\x9d\\x98 \\xec\\x8b\\xa0\\xec\\x83\\x81 \\xec\\xa0\\x95\\xeb\\xb3\\xb4\\xeb\\xa5\\xbc \\xeb\\x8b\\xb4\\xec\\x9d\\x80 \\xec\\x9d\\xb4\\xeb\\xa5\\xb8\\xeb\\xb0\\x94 \\xe2\\x80\\x98\\xec\\x9d\\x98\\xeb\\xa3\\x8c\\xea\\xb3\\x84 \\xeb\\xb8\\x94\\xeb\\x9e\\x99\\xeb\\xa6\\xac\\xec\\x8a\\xa4\\xed\\x8a\\xb8\\xe2\\x80\\x99\\xeb\\xa5\\xbc \\xeb\\xa7\\x8c\\xeb\\x93\\xa0 \\xeb\\x92\\xa4 \\xed\\x85\\x94\\xeb\\xa0\\x88\\xea\\xb7\\xb8\\xeb\\x9e\\xa8 \\xec\\xb1\\x84\\xeb\\x84\\x90\\xea\\xb3\\xbc \\xec\\x9d\\x98\\xeb\\xa3\\x8c\\xea\\xb3\\x84 \\xec\\xbb\\xa4\\xeb\\xae\\xa4\\xeb\\x8b\\x88\\xed\\x8b\\xb0 \\xe2\\x80\\x98\\xeb\\xa9\\x94\\xeb\\x94\\x94\\xec\\x8a\\xa4\\xed\\x83\\x9c\\xed\\x94\\x84\\xe2\\x80\\x99\\xec\\x97\\x90 \\xec\\x97\\xac\\xeb\\x9f\\xac \\xec\\xb0\\xa8\\xeb\\xa1\\x80 \\xea\\xb8\\x80\\xec\\x9d\\x84 \\xec\\x98\\xac\\xeb\\xa6\\xb0 \\xed\\x98\\x90\\xec\\x9d\\x98\\xeb\\xa1\\x9c \\xec\\x9e\\xac\\xed\\x8c\\x90\\xec\\x97\\x90 \\xeb\\x84\\x98\\xea\\xb2\\xa8\\xec\\xa1\\x8c\\xec\\x8a\\xb5\\xeb\\x8b\\x88\\xeb\\x8b\\xa4.'\n"
     ]
    }
   ],
   "source": [
    "text_base64_str = base64.b64decode(text_base64)\n",
    "print(text_base64_str)"
   ]
  },
  {
   "cell_type": "code",
   "execution_count": 13,
   "metadata": {},
   "outputs": [
    {
     "name": "stdout",
     "output_type": "stream",
     "text": [
      "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\n"
     ]
    }
   ],
   "source": [
    "text_base64_str = text_base64.decode('utf-8')\n",
    "print(text_base64_str)"
   ]
  },
  {
   "cell_type": "code",
   "execution_count": 27,
   "metadata": {},
   "outputs": [],
   "source": [
    "with open(\"new.txt\", 'w', encoding='utf-8') as f:\n",
    "    f.write(text_base64_str)"
   ]
  },
  {
   "cell_type": "code",
   "execution_count": 28,
   "metadata": {},
   "outputs": [],
   "source": [
    "with open(\"new.txt\", 'r', encoding='utf-8') as f:\n",
    "    data = f.read()"
   ]
  },
  {
   "cell_type": "code",
   "execution_count": 29,
   "metadata": {},
   "outputs": [
    {
     "name": "stdout",
     "output_type": "stream",
     "text": [
      "b'\\xec\\x9d\\x98\\xeb\\xa3\\x8c\\xea\\xb3\\x84 \\xec\\xa7\\x91\\xeb\\x8b\\xa8\\xed\\x96\\x89\\xeb\\x8f\\x99\\xec\\x97\\x90 \\xec\\xb0\\xb8\\xec\\x97\\xac\\xed\\x95\\x98\\xec\\xa7\\x80 \\xec\\x95\\x8a\\xec\\x9d\\x80 \\xec\\x9d\\x98\\xec\\x82\\xac\\xc2\\xb7\\xec\\x9d\\x98\\xeb\\x8c\\x80\\xec\\x83\\x9d \\xeb\\x93\\xb1\\xec\\x9d\\x98 \\xec\\x8b\\xa0\\xec\\x83\\x81 \\xec\\xa0\\x95\\xeb\\xb3\\xb4\\xea\\xb0\\x80 \\xeb\\x8b\\xb4\\xea\\xb8\\xb4 \\xec\\x9d\\xb4\\xeb\\xa5\\xb8\\xeb\\xb0\\x94 \\xe2\\x80\\x98\\xec\\x9d\\x98\\xeb\\xa3\\x8c\\xea\\xb3\\x84 \\xeb\\xb8\\x94\\xeb\\x9e\\x99\\xeb\\xa6\\xac\\xec\\x8a\\xa4\\xed\\x8a\\xb8\\xe2\\x80\\x99\\xeb\\xa5\\xbc \\xec\\x9e\\x91\\xec\\x84\\xb1\\xed\\x95\\xb4 \\xea\\xb2\\x8c\\xec\\x8b\\x9c\\xed\\x95\\x9c \\xed\\x98\\x90\\xec\\x9d\\x98 \\xeb\\x93\\xb1\\xec\\x9c\\xbc\\xeb\\xa1\\x9c \\xec\\x9e\\xac\\xed\\x8c\\x90\\xec\\x97\\x90 \\xeb\\x84\\x98\\xea\\xb2\\xa8\\xec\\xa7\\x84 \\xec\\x82\\xac\\xec\\xa7\\x81 \\xec\\xa0\\x84\\xea\\xb3\\xb5\\xec\\x9d\\x98 \\xec\\xb8\\xa1\\xec\\x9d\\x98 \\xeb\\xb3\\xb4\\xec\\x84\\x9d \\xec\\x8b\\xa0\\xec\\xb2\\xad\\xec\\x9d\\xb4 \\xeb\\xb0\\x9b\\xec\\x95\\x84\\xeb\\x93\\xa4\\xec\\x9d\\xb4\\xec\\xa7\\x80 \\xec\\x95\\x8a\\xec\\x95\\x98\\xec\\x8a\\xb5\\xeb\\x8b\\x88\\xeb\\x8b\\xa4. \\xec\\x84\\x9c\\xec\\x9a\\xb8\\xec\\xa4\\x91\\xec\\x95\\x99\\xec\\xa7\\x80\\xeb\\xb2\\x95 \\xed\\x98\\x95\\xec\\x82\\xac13\\xeb\\x8b\\xa8\\xeb\\x8f\\x85(\\xed\\x8c\\x90\\xec\\x82\\xac \\xec\\x9d\\xb4\\xec\\x9a\\xa9\\xec\\xa0\\x9c)\\xeb\\x8a\\x94 \\xec\\x98\\xa4\\xeb\\x8a\\x98(28\\xec\\x9d\\xbc) \\xec\\x8a\\xa4\\xed\\x86\\xa0\\xed\\x82\\xb9 \\xeb\\xb2\\x94\\xec\\xa3\\x84\\xec\\x9d\\x98 \\xec\\xb2\\x98\\xeb\\xb2\\x8c \\xeb\\x93\\xb1\\xec\\x97\\x90 \\xea\\xb4\\x80\\xed\\x95\\x9c \\xeb\\xb2\\x95\\xeb\\xa5\\xa0 \\xec\\x9c\\x84\\xeb\\xb0\\x98 \\xed\\x98\\x90\\xec\\x9d\\x98\\xeb\\xa1\\x9c \\xea\\xb5\\xac\\xec\\x86\\x8d\\xea\\xb8\\xb0\\xec\\x86\\x8c \\xeb\\x90\\x9c \\xec\\xa0\\x95 \\xeb\\xaa\\xa8 \\xec\\x94\\xa8\\xec\\x9d\\x98 \\xeb\\xb3\\xb4\\xec\\x84\\x9d \\xec\\xb2\\xad\\xea\\xb5\\xac\\xeb\\xa5\\xbc \\xea\\xb8\\xb0\\xea\\xb0\\x81\\xed\\x96\\x88\\xec\\x8a\\xb5\\xeb\\x8b\\x88\\xeb\\x8b\\xa4. \\xec\\x9d\\xb4\\xec\\x97\\x90 \\xeb\\x94\\xb0\\xeb\\x9d\\xbc \\xec\\xa0\\x95 \\xec\\x94\\xa8\\xeb\\x8a\\x94 \\xea\\xb5\\xac\\xec\\x86\\x8d \\xec\\x83\\x81\\xed\\x83\\x9c\\xeb\\xa1\\x9c \\xea\\xb3\\x84\\xec\\x86\\x8d \\xec\\x9e\\xac\\xed\\x8c\\x90\\xec\\x9d\\x84 \\xeb\\xb0\\x9b\\xea\\xb2\\x8c \\xeb\\x90\\x90\\xec\\x8a\\xb5\\xeb\\x8b\\x88\\xeb\\x8b\\xa4. \\xec\\x95\\x9e\\xec\\x84\\x9c \\xec\\xa0\\x95 \\xec\\x94\\xa8\\xeb\\x8a\\x94 \\xeb\\xb6\\x88\\xea\\xb5\\xac\\xec\\x86\\x8d \\xec\\x83\\x81\\xed\\x83\\x9c\\xeb\\xa1\\x9c \\xec\\x9e\\xac\\xed\\x8c\\x90\\xec\\x9d\\x84 \\xeb\\xb0\\x9b\\xea\\xb2\\x8c \\xed\\x95\\xb4\\xeb\\x8b\\xac\\xeb\\x9d\\xbc\\xeb\\xa9\\xb0 \\xec\\xa7\\x80\\xeb\\x82\\x9c\\xeb\\x8b\\xac 29\\xec\\x9d\\xbc \\xec\\x9e\\xac\\xed\\x8c\\x90\\xeb\\xb6\\x80\\xec\\x97\\x90 \\xeb\\xb3\\xb4\\xec\\x84\\x9d\\xec\\x9d\\x84 \\xec\\xb2\\xad\\xea\\xb5\\xac\\xed\\x95\\x9c \\xeb\\xb0\\x94 \\xec\\x9e\\x88\\xec\\x8a\\xb5\\xeb\\x8b\\x88\\xeb\\x8b\\xa4. \\xec\\xa0\\x95 \\xec\\x94\\xa8\\xeb\\x8a\\x94 \\xec\\xa7\\x80\\xeb\\x82\\x9c 22\\xec\\x9d\\xbc\\xec\\x97\\x90 \\xec\\x97\\xb4\\xeb\\xa6\\xb0 \\xec\\xb2\\xab \\xea\\xb3\\xb5\\xed\\x8c\\x90\\xec\\x97\\x90\\xec\\x84\\x9c \\xe2\\x80\\x9c\\xea\\xb5\\xac\\xec\\x86\\x8d \\xec\\x88\\x98\\xea\\xb0\\x90 \\xec\\xa4\\x91\\xec\\x9d\\xb4\\xeb\\x8b\\xa4 \\xeb\\xb3\\xb4\\xeb\\x8b\\x88 \\xec\\xa6\\x9d\\xea\\xb1\\xb0 \\xea\\xb8\\xb0\\xeb\\xa1\\x9d\\xec\\x9d\\x84 \\xea\\xb2\\x80\\xed\\x86\\xa0\\xed\\x95\\x98\\xea\\xb8\\xb0\\xeb\\x8f\\x84 \\xed\\x9e\\x98\\xeb\\x93\\xa4\\xea\\xb3\\xa0, \\xeb\\xaa\\x85\\xeb\\x8b\\xa8\\xec\\x97\\x90 \\xec\\x9e\\x88\\xeb\\x8a\\x94 300\\xeb\\xaa\\x85\\xec\\x9d\\x98 \\xec\\x9d\\xb4\\xeb\\xa6\\x84\\xec\\x9d\\x84 \\xeb\\x8b\\xa4 \\xea\\xb8\\xb0\\xec\\x96\\xb5\\xed\\x95\\x98\\xec\\xa7\\x80\\xeb\\x8f\\x84 \\xeb\\xaa\\xbb\\xed\\x95\\xb4 \\xeb\\xb0\\xa9\\xec\\x96\\xb4\\xea\\xb6\\x8c \\xed\\x96\\x89\\xec\\x82\\xac\\xec\\x97\\x90 \\xeb\\xa7\\x8e\\xec\\x9d\\x80 \\xec\\xa0\\x9c\\xed\\x95\\x9c\\xec\\x9d\\xb4 \\xec\\x9e\\x88\\xeb\\x8b\\xa4\\xe2\\x80\\x9d\\xeb\\xa9\\xb0 \\xe2\\x80\\x9c\\xeb\\xb3\\xb4\\xec\\x84\\x9d\\xec\\x9d\\x84 \\xed\\x97\\x88\\xea\\xb0\\x80\\xed\\x95\\xb4 \\xec\\xa3\\xbc\\xeb\\xa9\\xb4 \\xec\\x84\\xb1\\xec\\x8b\\xa4\\xed\\x9e\\x88 \\xec\\xb6\\x9c\\xec\\x84\\x9d\\xed\\x95\\xb4 \\xec\\x9e\\xac\\xed\\x8c\\x90\\xec\\x9d\\x84 \\xeb\\xb0\\x9b\\xea\\xb2\\xa0\\xeb\\x8b\\xa4\\xe2\\x80\\x9d\\xea\\xb3\\xa0 \\xeb\\xa7\\x90\\xed\\x96\\x88\\xec\\x8a\\xb5\\xeb\\x8b\\x88\\xeb\\x8b\\xa4. \\xeb\\x8b\\xb9\\xec\\x8b\\x9c \\xeb\\xb2\\x95\\xec\\x9b\\x90\\xec\\x9d\\x80 \\xec\\xa0\\x95 \\xec\\x94\\xa8\\xec\\x97\\x90 \\xeb\\x8c\\x80\\xed\\x95\\x9c \\xeb\\xb3\\xb4\\xec\\x84\\x9d \\xec\\x97\\xac\\xeb\\xb6\\x80\\xeb\\xa5\\xbc \\xec\\xb6\\x94\\xed\\x9b\\x84 \\xea\\xb2\\xb0\\xec\\xa0\\x95\\xed\\x95\\x98\\xea\\xb2\\xa0\\xeb\\x8b\\xa4\\xea\\xb3\\xa0 \\xec\\x96\\xb8\\xea\\xb8\\x89\\xed\\x96\\x88\\xeb\\x8a\\x94\\xeb\\x8d\\xb0, \\xec\\x98\\xa4\\xeb\\x8a\\x98 \\xeb\\xb3\\xb4\\xec\\x84\\x9d \\xec\\x8b\\xa0\\xec\\xb2\\xad\\xec\\x9d\\x84 \\xea\\xb8\\xb0\\xea\\xb0\\x81\\xed\\x95\\x98\\xeb\\xa9\\xb0 \\xec\\xa0\\x95 \\xec\\x94\\xa8\\xec\\x9d\\x98 \\xec\\x8b\\xa0\\xec\\xb2\\xad\\xec\\x9d\\x84 \\xeb\\xb0\\x9b\\xec\\x95\\x84\\xeb\\x93\\xa4\\xec\\x9d\\xb4\\xec\\xa7\\x80 \\xec\\x95\\x8a\\xec\\x95\\x98\\xec\\x8a\\xb5\\xeb\\x8b\\x88\\xeb\\x8b\\xa4. \\xec\\x82\\xac\\xec\\xa7\\x81 \\xec\\xa0\\x84\\xea\\xb3\\xb5\\xec\\x9d\\x98\\xec\\x9d\\xb8 \\xec\\xa0\\x95 \\xec\\x94\\xa8\\xeb\\x8a\\x94 \\xec\\xa7\\x80\\xeb\\x82\\x9c 7\\xec\\x9b\\x94 \\xec\\x9d\\x98\\xeb\\xa3\\x8c\\xea\\xb3\\x84 \\xec\\xa7\\x91\\xeb\\x8b\\xa8\\xed\\x96\\x89\\xeb\\x8f\\x99\\xec\\x97\\x90 \\xeb\\x8f\\x99\\xec\\xb0\\xb8\\xed\\x95\\x98\\xec\\xa7\\x80 \\xec\\x95\\x8a\\xeb\\x8a\\x94 \\xec\\x9d\\x98\\xec\\x82\\xac\\xc2\\xb7\\xec\\x9d\\x98\\xeb\\x8c\\x80\\xec\\x83\\x9d \\xeb\\x93\\xb1\\xec\\x9d\\x98 \\xec\\x8b\\xa0\\xec\\x83\\x81 \\xec\\xa0\\x95\\xeb\\xb3\\xb4\\xeb\\xa5\\xbc \\xeb\\x8b\\xb4\\xec\\x9d\\x80 \\xec\\x9d\\xb4\\xeb\\xa5\\xb8\\xeb\\xb0\\x94 \\xe2\\x80\\x98\\xec\\x9d\\x98\\xeb\\xa3\\x8c\\xea\\xb3\\x84 \\xeb\\xb8\\x94\\xeb\\x9e\\x99\\xeb\\xa6\\xac\\xec\\x8a\\xa4\\xed\\x8a\\xb8\\xe2\\x80\\x99\\xeb\\xa5\\xbc \\xeb\\xa7\\x8c\\xeb\\x93\\xa0 \\xeb\\x92\\xa4 \\xed\\x85\\x94\\xeb\\xa0\\x88\\xea\\xb7\\xb8\\xeb\\x9e\\xa8 \\xec\\xb1\\x84\\xeb\\x84\\x90\\xea\\xb3\\xbc \\xec\\x9d\\x98\\xeb\\xa3\\x8c\\xea\\xb3\\x84 \\xec\\xbb\\xa4\\xeb\\xae\\xa4\\xeb\\x8b\\x88\\xed\\x8b\\xb0 \\xe2\\x80\\x98\\xeb\\xa9\\x94\\xeb\\x94\\x94\\xec\\x8a\\xa4\\xed\\x83\\x9c\\xed\\x94\\x84\\xe2\\x80\\x99\\xec\\x97\\x90 \\xec\\x97\\xac\\xeb\\x9f\\xac \\xec\\xb0\\xa8\\xeb\\xa1\\x80 \\xea\\xb8\\x80\\xec\\x9d\\x84 \\xec\\x98\\xac\\xeb\\xa6\\xb0 \\xed\\x98\\x90\\xec\\x9d\\x98\\xeb\\xa1\\x9c \\xec\\x9e\\xac\\xed\\x8c\\x90\\xec\\x97\\x90 \\xeb\\x84\\x98\\xea\\xb2\\xa8\\xec\\xa1\\x8c\\xec\\x8a\\xb5\\xeb\\x8b\\x88\\xeb\\x8b\\xa4.'\n"
     ]
    }
   ],
   "source": [
    "decoded_data = base64.decodebytes(text_base64)\n",
    "print(decoded_data)"
   ]
  },
  {
   "cell_type": "code",
   "execution_count": 30,
   "metadata": {},
   "outputs": [],
   "source": [
    "decoded_data = base64.decodebytes(text_base64)\n",
    "a = decoded_data.decode('utf-8')"
   ]
  },
  {
   "cell_type": "code",
   "execution_count": 24,
   "metadata": {},
   "outputs": [
    {
     "name": "stdout",
     "output_type": "stream",
     "text": [
      "의료계 집단행동에 참여하지 않은 의사·의대생 등의 신상 정보가 담긴 이른바 ‘의료계 블랙리스트’를 작성해 게시한 혐의 등으로 재판에 넘겨진 사직 전공의 측의 보석 신청이 받아들이지 않았습니다. 서울중앙지법 형사13단독(판사 이용제)는 오늘(28일) 스토킹 범죄의 처벌 등에 관한 법률 위반 혐의로 구속기소 된 정 모 씨의 보석 청구를 기각했습니다. 이에 따라 정 씨는 구속 상태로 계속 재판을 받게 됐습니다. 앞서 정 씨는 불구속 상태로 재판을 받게 해달라며 지난달 29일 재판부에 보석을 청구한 바 있습니다. 정 씨는 지난 22일에 열린 첫 공판에서 “구속 수감 중이다 보니 증거 기록을 검토하기도 힘들고, 명단에 있는 300명의 이름을 다 기억하지도 못해 방어권 행사에 많은 제한이 있다”며 “보석을 허가해 주면 성실히 출석해 재판을 받겠다”고 말했습니다. 당시 법원은 정 씨에 대한 보석 여부를 추후 결정하겠다고 언급했는데, 오늘 보석 신청을 기각하며 정 씨의 신청을 받아들이지 않았습니다. 사직 전공의인 정 씨는 지난 7월 의료계 집단행동에 동참하지 않는 의사·의대생 등의 신상 정보를 담은 이른바 ‘의료계 블랙리스트’를 만든 뒤 텔레그램 채널과 의료계 커뮤니티 ‘메디스태프’에 여러 차례 글을 올린 혐의로 재판에 넘겨졌습니다.\n"
     ]
    }
   ],
   "source": [
    "print(a)"
   ]
  }
 ],
 "metadata": {
  "kernelspec": {
   "display_name": "Python 3",
   "language": "python",
   "name": "python3"
  },
  "language_info": {
   "codemirror_mode": {
    "name": "ipython",
    "version": 3
   },
   "file_extension": ".py",
   "mimetype": "text/x-python",
   "name": "python",
   "nbconvert_exporter": "python",
   "pygments_lexer": "ipython3",
   "version": "3.12.3"
  }
 },
 "nbformat": 4,
 "nbformat_minor": 2
}
