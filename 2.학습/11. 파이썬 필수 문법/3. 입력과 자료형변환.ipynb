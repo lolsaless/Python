{
 "cells": [
  {
   "cell_type": "code",
   "execution_count": 3,
   "metadata": {},
   "outputs": [],
   "source": [
    "x = input(\"입력하세요.\")"
   ]
  },
  {
   "cell_type": "code",
   "execution_count": 4,
   "metadata": {},
   "outputs": [
    {
     "name": "stdout",
     "output_type": "stream",
     "text": [
      "조의호\n"
     ]
    }
   ],
   "source": [
    "print(x)"
   ]
  },
  {
   "cell_type": "code",
   "execution_count": 5,
   "metadata": {},
   "outputs": [
    {
     "name": "stdout",
     "output_type": "stream",
     "text": [
      "<class 'str'>\n"
     ]
    }
   ],
   "source": [
    "print(type(x))"
   ]
  },
  {
   "cell_type": "code",
   "execution_count": 10,
   "metadata": {},
   "outputs": [
    {
     "name": "stdout",
     "output_type": "stream",
     "text": [
      "1020\n"
     ]
    }
   ],
   "source": [
    "# 실습\n",
    "# 사용자로부터 두 개의 숫자를 입력 받고, 더한 결과를 출력하기\n",
    "\n",
    "x = input(\"x입력:\")\n",
    "y = input(\"y입력:\")\n",
    "result = x + y\n",
    "print(result)"
   ]
  },
  {
   "cell_type": "code",
   "execution_count": 11,
   "metadata": {},
   "outputs": [
    {
     "name": "stdout",
     "output_type": "stream",
     "text": [
      "30\n"
     ]
    }
   ],
   "source": [
    "# 실습\n",
    "# 사용자로부터 두 개의 숫자를 입력 받고, 더한 결과를 출력하기\n",
    "\n",
    "x = int(input(\"x입력:\"))\n",
    "y = int(input(\"y입력:\"))\n",
    "result = x + y\n",
    "print(result)"
   ]
  },
  {
   "cell_type": "code",
   "execution_count": 13,
   "metadata": {},
   "outputs": [
    {
     "name": "stdout",
     "output_type": "stream",
     "text": [
      "38\n"
     ]
    }
   ],
   "source": [
    "# 태어난 연도 입력\n",
    "brith_year = int(input(\"태어난 연도 입력:\"))\n",
    "year = 2024\n",
    "\n",
    "print(year - brith_year)"
   ]
  },
  {
   "cell_type": "code",
   "execution_count": 21,
   "metadata": {},
   "outputs": [
    {
     "name": "stdout",
     "output_type": "stream",
     "text": [
      "당신의 나이는 38세 입니다.\n",
      "당신의 나이는 38세 입니다.\n",
      "당신의 나이는 38세 입니다.\n",
      "당신의 나이는 38세 입니다.\n",
      "당신의 나이는 38세 입니다.\n"
     ]
    }
   ],
   "source": [
    "from datetime import datetime\n",
    "\n",
    "current_year = datetime.now().year\n",
    "\n",
    "birth_year = int(input(\"태어난 연도 입력:\"))\n",
    "\n",
    "age = current_year - birth_year\n",
    "\n",
    "print(f\"당신의 나이는 {age}세 입니다.\",\n",
    "      \"당신의 나이는 {}세 입니다.\".format(age),\n",
    "      \"당신의 나이는 %d세 입니다.\" % age,\n",
    "      \"당신의 나이는 \" + str(age) + \"세 입니다.\",\n",
    "      \"\".join([\"당신의 나이는 \", str(age), \"세 입니다.\"]),\n",
    "      sep =\"\\n\"\n",
    "      )"
   ]
  }
 ],
 "metadata": {
  "kernelspec": {
   "display_name": "Python 3",
   "language": "python",
   "name": "python3"
  },
  "language_info": {
   "codemirror_mode": {
    "name": "ipython",
    "version": 3
   },
   "file_extension": ".py",
   "mimetype": "text/x-python",
   "name": "python",
   "nbconvert_exporter": "python",
   "pygments_lexer": "ipython3",
   "version": "3.13.0"
  }
 },
 "nbformat": 4,
 "nbformat_minor": 2
}
