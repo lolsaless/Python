{
 "cells": [
  {
   "cell_type": "code",
   "execution_count": null,
   "metadata": {},
   "outputs": [],
   "source": [
    "origin_pass = \"1234\"\n",
    "input_pass = input(\"패스워드를 입력하세요: ****\")\n",
    "\n",
    "\n",
    "if origin_pass == input_pass: # 조건 A\n",
    "    # 조건 A True\n",
    "    print(\"로그인 성공\")\n",
    "elif input_pass == \"\": # 조건 B\n",
    "    # 조건 A False, 조건 B True\n",
    "    print(\"아무것도 입력하지 않았습니다.\")\n",
    "else:\n",
    "    # 조건 A False, 조건 B False\n",
    "    print(\"로그인 실패\")"
   ]
  },
  {
   "cell_type": "code",
   "execution_count": null,
   "metadata": {},
   "outputs": [],
   "source": [
    "By_revenue = \"1000\"\n",
    "\n",
    "subscriber = input(\"현재 구독자 수를 입력하세요>>>\")\n",
    "\n",
    "if By_revenue <= subscriber:\n",
    "    print(\"수익창출이 가능합니다!\")\n",
    "elif subscriber == \"\":\n",
    "    print(\"구독자 수를 입력해 주세요.\")\n",
    "else:\n",
    "    print(\"수익창출이 불가능 합니다.\")\n"
   ]
  },
  {
   "cell_type": "code",
   "execution_count": null,
   "metadata": {},
   "outputs": [],
   "source": [
    "study_time = int(input(\"공부시간을 입력하세요(시간)>>>\"))\n",
    "\n",
    "if study_time >= 10:\n",
    "    print(\"휴대폰 잠금이 해제됩니다.\")\n",
    "elif study_time >= 5:\n",
    "    print(\"휴대폰을 30분간 사용 가능 합니다.\")\n",
    "else:\n",
    "    print(\"휴대폰 사용이 불가능 합니다.\")"
   ]
  },
  {
   "cell_type": "code",
   "execution_count": null,
   "metadata": {},
   "outputs": [],
   "source": [
    "money = int(input(\"현재 가진 금액을 입력>>>\"))\n",
    "\n",
    "if money >= 20000:\n",
    "    print('오늘 저녁은... 치킨!')\n",
    "elif money >= 12000:\n",
    "    print(\"오늘 저녁은... 떡볶이!\")\n",
    "elif money >= 2000:\n",
    "    print(\"오늘 저녁은... 편의점 김밥!\")\n",
    "else:\n",
    "    print(\"굶으세요.\")"
   ]
  },
  {
   "cell_type": "code",
   "execution_count": null,
   "metadata": {},
   "outputs": [],
   "source": [
    "import numpy as np\n",
    "\n",
    "error_message = \"잘못 입력했습니다.\"\n",
    "\n",
    "language = int(input(\"국어 점수를 입력하세요>>>\"))\n",
    "if language < 0 or language > 100:\n",
    "    print(error_message)\n",
    "\n",
    "maths = int(input(\"수학 점수를 입력하세요>>>\"))\n",
    "if maths < 0 or maths > 100:\n",
    "    print(error_message)\n",
    "\n",
    "english = int(input(\"영어 점수를 입력하세요>>>\"))\n",
    "if english < 0 or english > 100:\n",
    "    print(error_message)\n",
    "\n",
    "total_score = np.mean([language, maths, english])\n",
    "\n",
    "if total_score >= 80:\n",
    "    print(\"불합격\")\n",
    "else:\n",
    "    print(\"합격\")"
   ]
  },
  {
   "cell_type": "code",
   "execution_count": null,
   "metadata": {},
   "outputs": [],
   "source": [
    "# 강의 답안\n",
    "import numpy as np\n",
    "\n",
    "language = int(input(\"국어 점수를 입력하세요>>>\"))\n",
    "maths = int(input(\"수학 점수를 입력하세요>>>\"))\n",
    "english = int(input(\"영어 점수를 입력하세요>>>\"))\n",
    "total_score = np.mean([language, maths, english])\n",
    "\n",
    "if 0 <= language <= 100 and 0 <= maths <= 100 and 0 <= english <= 100:\n",
    "    if total_score >= 80:\n",
    "        print(\"불합격\")\n",
    "    elif total_score >= 0:\n",
    "        print(\"합격\")\n",
    "else:\n",
    "    print(\"잘못 입력하였습니다.\")"
   ]
  },
  {
   "cell_type": "code",
   "execution_count": null,
   "metadata": {},
   "outputs": [],
   "source": [
    "# GPT 개선 코드\n",
    "import numpy as np\n",
    "\n",
    "def get_score(subject):\n",
    "    score = int(input(f\"{subject} 점수를 입력하세요>>>\"))\n",
    "    if 0 <= score <= 100:\n",
    "        return score\n",
    "    else:\n",
    "        print(\"잘못 입력했습니다.\")\n",
    "        exit()  # 잘못된 입력 시 프로그램 종료\n",
    "\n",
    "# 점수 입력 및 평균 계산\n",
    "scores = [get_score(subject) for subject in [\"국어\", \"수학\", \"영어\"]]\n",
    "total_score = np.mean(scores)\n",
    "\n",
    "# 합격 여부 출력\n",
    "print(\"합격\" if total_score < 80 else \"불합격\")"
   ]
  },
  {
   "cell_type": "code",
   "execution_count": 4,
   "metadata": {},
   "outputs": [
    {
     "name": "stdout",
     "output_type": "stream",
     "text": [
      "합격\n"
     ]
    }
   ],
   "source": [
    "import numpy as np\n",
    "\n",
    "def get_score(subject):\n",
    "    score = int(input(f\"{subject} 점수를 입력하세요>>>\"))\n",
    "    if 0 <= score <= 100:\n",
    "        return score\n",
    "    else:\n",
    "        print(\"잘못 입력했습니다.\")\n",
    "        \n",
    "scores = [get_score(i) for i in [\"국어\", \"수학\", \"영어\"]]\n",
    "total_score = np.mean(scores)\n",
    "\n",
    "print(\"합격\" if total_score < 80 else \"불합격\")"
   ]
  }
 ],
 "metadata": {
  "kernelspec": {
   "display_name": "Python 3",
   "language": "python",
   "name": "python3"
  },
  "language_info": {
   "codemirror_mode": {
    "name": "ipython",
    "version": 3
   },
   "file_extension": ".py",
   "mimetype": "text/x-python",
   "name": "python",
   "nbconvert_exporter": "python",
   "pygments_lexer": "ipython3",
   "version": "3.13.0"
  }
 },
 "nbformat": 4,
 "nbformat_minor": 2
}
