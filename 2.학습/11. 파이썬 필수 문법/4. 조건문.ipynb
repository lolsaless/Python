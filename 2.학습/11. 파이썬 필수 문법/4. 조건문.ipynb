{
 "cells": [
  {
   "cell_type": "code",
   "execution_count": null,
   "metadata": {},
   "outputs": [],
   "source": [
    "origin_pass = \"1234\"\n",
    "input_pass = input(\"패스워드를 입력하세요: ****\")\n",
    "\n",
    "\n",
    "if origin_pass == input_pass: # 조건 A\n",
    "    # 조건 A True\n",
    "    print(\"로그인 성공\")\n",
    "elif input_pass == \"\": # 조건 B\n",
    "    # 조건 A False, 조건 B True\n",
    "    print(\"아무것도 입력하지 않았습니다.\")\n",
    "else:\n",
    "    # 조건 A False, 조건 B False\n",
    "    print(\"로그인 실패\")"
   ]
  },
  {
   "cell_type": "code",
   "execution_count": null,
   "metadata": {},
   "outputs": [],
   "source": [
    "By_revenue = \"1000\"\n",
    "\n",
    "subscriber = input(\"현재 구독자 수를 입력하세요>>>\")\n",
    "\n",
    "if By_revenue <= subscriber:\n",
    "    print(\"수익창출이 가능합니다!\")\n",
    "elif subscriber == \"\":\n",
    "    print(\"구독자 수를 입력해 주세요.\")\n",
    "else:\n",
    "    print(\"수익창출이 불가능 합니다.\")\n"
   ]
  },
  {
   "cell_type": "code",
   "execution_count": null,
   "metadata": {},
   "outputs": [],
   "source": [
    "study_time = int(input(\"공부시간을 입력하세요(시간)>>>\"))\n",
    "\n",
    "if study_time >= 10:\n",
    "    print(\"휴대폰 잠금이 해제됩니다.\")\n",
    "elif study_time >= 5:\n",
    "    print(\"휴대폰을 30분간 사용 가능 합니다.\")\n",
    "else:\n",
    "    print(\"휴대폰 사용이 불가능 합니다.\")"
   ]
  },
  {
   "cell_type": "code",
   "execution_count": null,
   "metadata": {},
   "outputs": [],
   "source": [
    "money = int(input(\"현재 가진 금액을 입력>>>\"))\n",
    "\n",
    "if money >= 20000:\n",
    "    print('오늘 저녁은... 치킨!')\n",
    "elif money >= 12000:\n",
    "    print(\"오늘 저녁은... 떡볶이!\")\n",
    "elif money >= 2000:\n",
    "    print(\"오늘 저녁은... 편의점 김밥!\")\n",
    "else:\n",
    "    print(\"굶으세요.\")"
   ]
  },
  {
   "cell_type": "code",
   "execution_count": null,
   "metadata": {},
   "outputs": [],
   "source": [
    "import numpy as np\n",
    "\n",
    "error_message = \"잘못 입력했습니다.\"\n",
    "\n",
    "language = int(input(\"국어 점수를 입력하세요>>>\"))\n",
    "if language < 0 or language > 100:\n",
    "    print(error_message)\n",
    "\n",
    "maths = int(input(\"수학 점수를 입력하세요>>>\"))\n",
    "if maths < 0 or maths > 100:\n",
    "    print(error_message)\n",
    "\n",
    "english = int(input(\"영어 점수를 입력하세요>>>\"))\n",
    "if english < 0 or english > 100:\n",
    "    print(error_message)\n",
    "\n",
    "total_score = np.mean([language, maths, english])\n",
    "\n",
    "if total_score >= 80:\n",
    "    print(\"불합격\")\n",
    "else:\n",
    "    print(\"합격\")"
   ]
  },
  {
   "cell_type": "code",
   "execution_count": null,
   "metadata": {},
   "outputs": [],
   "source": [
    "# GPT 개선 코드\n",
    "import numpy as np\n",
    "\n",
    "def get_score(subject):\n",
    "    score = int(input(f\"{subject} 점수를 입력하세요>>>\"))\n",
    "    if 0 <= score <= 100:\n",
    "        return score\n",
    "    else:\n",
    "        print(\"잘못 입력했습니다.\")\n",
    "        exit()  # 잘못된 입력 시 프로그램 종료\n",
    "\n",
    "# 점수 입력 및 평균 계산\n",
    "scores = [get_score(subject) for subject in [\"국어\", \"수학\", \"영어\"]]\n",
    "total_score = np.mean(scores)\n",
    "\n",
    "# 합격 여부 출력\n",
    "print(\"합격\" if total_score < 80 else \"불합격\")"
   ]
  },
  {
   "cell_type": "code",
   "execution_count": null,
   "metadata": {},
   "outputs": [],
   "source": [
    "# 강의 답안\n",
    "import numpy as np\n",
    "\n",
    "language = int(input(\"국어 점수를 입력하세요>>>\"))\n",
    "maths = int(input(\"수학 점수를 입력하세요>>>\"))\n",
    "english = int(input(\"영어 점수를 입력하세요>>>\"))\n",
    "total_score = np.mean([language, maths, english])\n",
    "\n",
    "if 0 <= language <= 100 and 0 <= maths <= 100 and 0 <= english <= 100:\n",
    "    if total_score >= 80:\n",
    "        print(\"불합격\")\n",
    "    elif total_score >= 0:\n",
    "        print(\"합격\")\n",
    "else:\n",
    "    print(\"잘못 입력하였습니다.\")"
   ]
  },
  {
   "cell_type": "code",
   "execution_count": null,
   "metadata": {},
   "outputs": [
    {
     "name": "stdout",
     "output_type": "stream",
     "text": [
      "잘못 입력하였습니다.\n",
      "잘못 입력하였습니다.\n"
     ]
    },
    {
     "ename": "TypeError",
     "evalue": "unsupported operand type(s) for +: 'NoneType' and 'NoneType'",
     "output_type": "error",
     "traceback": [
      "\u001b[0;31m---------------------------------------------------------------------------\u001b[0m",
      "\u001b[0;31mTypeError\u001b[0m                                 Traceback (most recent call last)",
      "Cell \u001b[0;32mIn[6], line 12\u001b[0m\n\u001b[1;32m      9\u001b[0m         exit()\n\u001b[1;32m     11\u001b[0m scores \u001b[38;5;241m=\u001b[39m [get_score(i) \u001b[38;5;28;01mfor\u001b[39;00m i \u001b[38;5;129;01min\u001b[39;00m [\u001b[38;5;124m\"\u001b[39m\u001b[38;5;124m국어\u001b[39m\u001b[38;5;124m\"\u001b[39m, \u001b[38;5;124m\"\u001b[39m\u001b[38;5;124m영어\u001b[39m\u001b[38;5;124m\"\u001b[39m, \u001b[38;5;124m\"\u001b[39m\u001b[38;5;124m수학\u001b[39m\u001b[38;5;124m\"\u001b[39m]]\n\u001b[0;32m---> 12\u001b[0m ave_scores \u001b[38;5;241m=\u001b[39m \u001b[43mnp\u001b[49m\u001b[38;5;241;43m.\u001b[39;49m\u001b[43mmean\u001b[49m\u001b[43m(\u001b[49m\u001b[43mscores\u001b[49m\u001b[43m)\u001b[49m\n\u001b[1;32m     14\u001b[0m \u001b[38;5;28mprint\u001b[39m(\u001b[38;5;124m\"\u001b[39m\u001b[38;5;124m합격\u001b[39m\u001b[38;5;124m\"\u001b[39m \u001b[38;5;28;01mif\u001b[39;00m ave_scores \u001b[38;5;241m>\u001b[39m \u001b[38;5;241m80\u001b[39m \u001b[38;5;28;01melse\u001b[39;00m \u001b[38;5;124m\"\u001b[39m\u001b[38;5;124m불합격\u001b[39m\u001b[38;5;124m\"\u001b[39m)\n",
      "File \u001b[0;32m/Library/Frameworks/Python.framework/Versions/3.13/lib/python3.13/site-packages/numpy/_core/fromnumeric.py:3904\u001b[0m, in \u001b[0;36mmean\u001b[0;34m(a, axis, dtype, out, keepdims, where)\u001b[0m\n\u001b[1;32m   3901\u001b[0m     \u001b[38;5;28;01melse\u001b[39;00m:\n\u001b[1;32m   3902\u001b[0m         \u001b[38;5;28;01mreturn\u001b[39;00m mean(axis\u001b[38;5;241m=\u001b[39maxis, dtype\u001b[38;5;241m=\u001b[39mdtype, out\u001b[38;5;241m=\u001b[39mout, \u001b[38;5;241m*\u001b[39m\u001b[38;5;241m*\u001b[39mkwargs)\n\u001b[0;32m-> 3904\u001b[0m \u001b[38;5;28;01mreturn\u001b[39;00m \u001b[43m_methods\u001b[49m\u001b[38;5;241;43m.\u001b[39;49m\u001b[43m_mean\u001b[49m\u001b[43m(\u001b[49m\u001b[43ma\u001b[49m\u001b[43m,\u001b[49m\u001b[43m \u001b[49m\u001b[43maxis\u001b[49m\u001b[38;5;241;43m=\u001b[39;49m\u001b[43maxis\u001b[49m\u001b[43m,\u001b[49m\u001b[43m \u001b[49m\u001b[43mdtype\u001b[49m\u001b[38;5;241;43m=\u001b[39;49m\u001b[43mdtype\u001b[49m\u001b[43m,\u001b[49m\n\u001b[1;32m   3905\u001b[0m \u001b[43m                      \u001b[49m\u001b[43mout\u001b[49m\u001b[38;5;241;43m=\u001b[39;49m\u001b[43mout\u001b[49m\u001b[43m,\u001b[49m\u001b[43m \u001b[49m\u001b[38;5;241;43m*\u001b[39;49m\u001b[38;5;241;43m*\u001b[39;49m\u001b[43mkwargs\u001b[49m\u001b[43m)\u001b[49m\n",
      "File \u001b[0;32m/Library/Frameworks/Python.framework/Versions/3.13/lib/python3.13/site-packages/numpy/_core/_methods.py:136\u001b[0m, in \u001b[0;36m_mean\u001b[0;34m(a, axis, dtype, out, keepdims, where)\u001b[0m\n\u001b[1;32m    133\u001b[0m         dtype \u001b[38;5;241m=\u001b[39m mu\u001b[38;5;241m.\u001b[39mdtype(\u001b[38;5;124m'\u001b[39m\u001b[38;5;124mf4\u001b[39m\u001b[38;5;124m'\u001b[39m)\n\u001b[1;32m    134\u001b[0m         is_float16_result \u001b[38;5;241m=\u001b[39m \u001b[38;5;28;01mTrue\u001b[39;00m\n\u001b[0;32m--> 136\u001b[0m ret \u001b[38;5;241m=\u001b[39m \u001b[43mumr_sum\u001b[49m\u001b[43m(\u001b[49m\u001b[43marr\u001b[49m\u001b[43m,\u001b[49m\u001b[43m \u001b[49m\u001b[43maxis\u001b[49m\u001b[43m,\u001b[49m\u001b[43m \u001b[49m\u001b[43mdtype\u001b[49m\u001b[43m,\u001b[49m\u001b[43m \u001b[49m\u001b[43mout\u001b[49m\u001b[43m,\u001b[49m\u001b[43m \u001b[49m\u001b[43mkeepdims\u001b[49m\u001b[43m,\u001b[49m\u001b[43m \u001b[49m\u001b[43mwhere\u001b[49m\u001b[38;5;241;43m=\u001b[39;49m\u001b[43mwhere\u001b[49m\u001b[43m)\u001b[49m\n\u001b[1;32m    137\u001b[0m \u001b[38;5;28;01mif\u001b[39;00m \u001b[38;5;28misinstance\u001b[39m(ret, mu\u001b[38;5;241m.\u001b[39mndarray):\n\u001b[1;32m    138\u001b[0m     \u001b[38;5;28;01mwith\u001b[39;00m _no_nep50_warning():\n",
      "\u001b[0;31mTypeError\u001b[0m: unsupported operand type(s) for +: 'NoneType' and 'NoneType'"
     ]
    },
    {
     "ename": "",
     "evalue": "",
     "output_type": "error",
     "traceback": [
      "\u001b[1;31m현재 셀 또는 이전 셀에서 코드를 실행하는 동안 Kernel이 충돌했습니다. \n",
      "\u001b[1;31m셀의 코드를 검토하여 가능한 오류 원인을 식별하세요. \n",
      "\u001b[1;31m자세한 내용을 보려면 <a href='https://aka.ms/vscodeJupyterKernelCrash'>여기</a>를 클릭하세요. \n",
      "\u001b[1;31m자세한 내용은 Jupyter <a href='command:jupyter.viewOutput'>로그</a>를 참조하세요."
     ]
    }
   ],
   "source": [
    "import numpy as np\n",
    "\n",
    "def get_score(subjects):\n",
    "    score = int(input(f\"{subjects} 점수를 입력하세요.\"))\n",
    "    if 0 <= score <= 100:\n",
    "        return score\n",
    "    else:\n",
    "        print(\"잘못 입력하였습니다.\")\n",
    "        exit()\n",
    "        \n",
    "scores = [get_score(i) for i in [\"국어\", \"영어\", \"수학\"]]\n",
    "ave_scores = np.mean(scores)\n",
    "\n",
    "print(\"합격\" if ave_scores > 80 else \"불합격\")"
   ]
  }
 ],
 "metadata": {
  "kernelspec": {
   "display_name": "Python 3",
   "language": "python",
   "name": "python3"
  },
  "language_info": {
   "codemirror_mode": {
    "name": "ipython",
    "version": 3
   },
   "file_extension": ".py",
   "mimetype": "text/x-python",
   "name": "python",
   "nbconvert_exporter": "python",
   "pygments_lexer": "ipython3",
   "version": "3.13.0"
  }
 },
 "nbformat": 4,
 "nbformat_minor": 2
}
