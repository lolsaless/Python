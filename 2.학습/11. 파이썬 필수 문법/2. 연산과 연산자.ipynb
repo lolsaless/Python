{
 "cells": [
  {
   "cell_type": "markdown",
   "metadata": {},
   "source": [
    "### 연산의 종류\n",
    "\n",
    "    1. 대입연산\n",
    "    변수이름 = 데이터\n",
    "    2. 산술연산(+, -, *, /, //, %, **)\n"
   ]
  },
  {
   "cell_type": "code",
   "execution_count": 1,
   "metadata": {},
   "outputs": [
    {
     "name": "stdout",
     "output_type": "stream",
     "text": [
      "7\n",
      "3\n",
      "10\n",
      "2.5\n",
      "2\n",
      "1\n",
      "25\n"
     ]
    }
   ],
   "source": [
    "# 1. 숫자 연산\n",
    "x = 5\n",
    "y = 2\n",
    "\n",
    "print(x + y)\n",
    "print(x - y)\n",
    "print(x * y)\n",
    "print(x / y)\n",
    "print(x // y)\n",
    "print(x % y)\n",
    "print(x ** y)"
   ]
  },
  {
   "cell_type": "code",
   "execution_count": 2,
   "metadata": {},
   "outputs": [
    {
     "name": "stdout",
     "output_type": "stream",
     "text": [
      "#내꺼하자#오늘부터1일#여친생김\n"
     ]
    }
   ],
   "source": [
    "# 2. 문자열 연산\n",
    "tag1 = \"#내꺼하자\"\n",
    "tag2 = \"#오늘부터1일\"\n",
    "tag3 = \"#여친생김\"\n",
    "\n",
    "tag = tag1 + tag2 + tag3\n",
    "print(tag)"
   ]
  },
  {
   "cell_type": "code",
   "execution_count": 3,
   "metadata": {},
   "outputs": [
    {
     "name": "stdout",
     "output_type": "stream",
     "text": [
      "우리 모두 파이썬을 사랑합니다. 잘해봐요.\n",
      "우리 모두 파이썬을 사랑합니다. 잘해봐요.\n",
      "우리 모두 파이썬을 사랑합니다. 잘해봐요.\n",
      "우리 모두 파이썬을 사랑합니다. 잘해봐요.\n",
      "우리 모두 파이썬을 사랑합니다. 잘해봐요.\n",
      "\n"
     ]
    }
   ],
   "source": [
    "message = \"우리 모두 파이썬을 사랑합니다. 잘해봐요.\\n\" * 5\n",
    "print(message)\n"
   ]
  },
  {
   "cell_type": "code",
   "execution_count": 11,
   "metadata": {},
   "outputs": [
    {
     "name": "stdout",
     "output_type": "stream",
     "text": [
      "11 1700 450.0 210.0\n"
     ]
    }
   ],
   "source": [
    "# 복합 할당 연산자\n",
    "level = 10\n",
    "level += 1\n",
    "\n",
    "health = 2000\n",
    "health -= 300\n",
    "\n",
    "attack = 300\n",
    "attack *= 1.5\n",
    "\n",
    "speed = 420\n",
    "speed /= 2\n",
    "\n",
    "print(level, \n",
    "      health, attack ,speed)\n"
   ]
  },
  {
   "cell_type": "markdown",
   "metadata": {},
   "source": [
    "    3. 비교 연산자( >, <, >=, <=, ==, !=)\n",
    "    4. 논리 연산자( a and b, a or b, not a), (in, not in)"
   ]
  },
  {
   "cell_type": "code",
   "execution_count": 30,
   "metadata": {},
   "outputs": [
    {
     "name": "stdout",
     "output_type": "stream",
     "text": [
      "False\n",
      "True\n",
      "True\n",
      "True\n",
      "True\n",
      "True\n"
     ]
    }
   ],
   "source": [
    "# 1. 비교 연산자\n",
    "print(\n",
    "    2 > 3,\n",
    "    15 < 30,\n",
    "    1.5 >= 0,\n",
    "    3 <= 3,\n",
    "    \"조인서\" == \"조인서\",\n",
    "    \"1000\" != \"100\",\n",
    "    sep = \"\\n\"\n",
    ")"
   ]
  },
  {
   "cell_type": "code",
   "execution_count": 28,
   "metadata": {},
   "outputs": [
    {
     "name": "stdout",
     "output_type": "stream",
     "text": [
      "True\n",
      "True\n",
      "True\n",
      "False\n",
      "False\n"
     ]
    }
   ],
   "source": [
    "# 2. 논리 연산자\n",
    "# or 연산자는 하나라도 True면 전체 결과가 True이다.\n",
    "print(\n",
    "    4 < 6 and 10 >= 10,\n",
    "    \"포기하지 말아요\" != \"포기하지 말아요\" or \"나는 할 수 있다.\" == \"나는 할 수 있다.\",\n",
    "    \"포기하지 말아요\" != \"포기하지말아요\" or \"나는 할수 있다.\" == \"나는 할 수 있다.\",\n",
    "    \"포기하지 말아요\" != \"포기하지 말아요\" or \"나는 할수 있다.\" == \"나는 할 수 있다.\",    \n",
    "    not 5 == 5,\n",
    "    sep = \"\\n\"\n",
    ")"
   ]
  },
  {
   "cell_type": "code",
   "execution_count": 33,
   "metadata": {},
   "outputs": [
    {
     "name": "stdout",
     "output_type": "stream",
     "text": [
      "True\n",
      "False\n"
     ]
    }
   ],
   "source": [
    "# 3. 멤버십 연산자\n",
    "print(\"a\" in \"abc\")\n",
    "print(\"a\" not in \"abc\")"
   ]
  }
 ],
 "metadata": {
  "kernelspec": {
   "display_name": "Python 3",
   "language": "python",
   "name": "python3"
  },
  "language_info": {
   "codemirror_mode": {
    "name": "ipython",
    "version": 3
   },
   "file_extension": ".py",
   "mimetype": "text/x-python",
   "name": "python",
   "nbconvert_exporter": "python",
   "pygments_lexer": "ipython3",
   "version": "3.13.0"
  }
 },
 "nbformat": 4,
 "nbformat_minor": 2
}
