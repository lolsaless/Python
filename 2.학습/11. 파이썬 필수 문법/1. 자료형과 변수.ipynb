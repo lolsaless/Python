{
 "cells": [
  {
   "cell_type": "markdown",
   "metadata": {},
   "source": [
    "### 숫자, 문자, 불린형 자료형"
   ]
  },
  {
   "cell_type": "code",
   "execution_count": 1,
   "metadata": {},
   "outputs": [
    {
     "name": "stdout",
     "output_type": "stream",
     "text": [
      "1\n",
      "3\n",
      "0\n"
     ]
    }
   ],
   "source": [
    "# 1. 정수형: 소수점이 없는 수\n",
    "\n",
    "print(1)\n",
    "print(3)\n",
    "print(0)"
   ]
  },
  {
   "cell_type": "code",
   "execution_count": 2,
   "metadata": {},
   "outputs": [
    {
     "name": "stdout",
     "output_type": "stream",
     "text": [
      "1.1 3.1 0 -1.4\n"
     ]
    }
   ],
   "source": [
    "# 2. 실수형: 소수점이 있는 수\n",
    "\n",
    "print(1.1, 3.1, 0, -1.4)"
   ]
  },
  {
   "cell_type": "code",
   "execution_count": 3,
   "metadata": {},
   "outputs": [
    {
     "name": "stdout",
     "output_type": "stream",
     "text": [
      "조의호 조인서 강초롱\n",
      "조인서 강초롱 조의호\n",
      "\"조인서\", \"조의호\", \"강초롱\"\n"
     ]
    }
   ],
   "source": [
    "# 3. 문자열 자료형\n",
    "# \"\", ''를 사용한다.\n",
    "print(\"조의호 조인서 강초롱\")\n",
    "print('조인서 강초롱 조의호')\n",
    "print('\"조인서\", \"조의호\", \"강초롱\"')"
   ]
  },
  {
   "cell_type": "code",
   "execution_count": 4,
   "metadata": {},
   "outputs": [
    {
     "name": "stdout",
     "output_type": "stream",
     "text": [
      "True\n",
      "False\n"
     ]
    }
   ],
   "source": [
    "# 불린형 자료형\n",
    "# True or False\n",
    "\n",
    "print(True)\n",
    "print(False)"
   ]
  },
  {
   "cell_type": "code",
   "execution_count": 5,
   "metadata": {},
   "outputs": [
    {
     "name": "stdout",
     "output_type": "stream",
     "text": [
      "139-1\n"
     ]
    }
   ],
   "source": [
    "print(1, 3, 9, -1, sep = \"\")"
   ]
  },
  {
   "cell_type": "code",
   "execution_count": 6,
   "metadata": {},
   "outputs": [
    {
     "name": "stdout",
     "output_type": "stream",
     "text": [
      "조의호 조인서 강초롱 조인서 강초롱 조의호\n",
      "\"조인서\", \"조의호\", \"강초롱\"\n"
     ]
    }
   ],
   "source": [
    "# 3. 문자열 자료형\n",
    "# \"\", ''를 사용한다.\n",
    "print(\"조의호 조인서 강초롱\", end = \" \")\n",
    "print('조인서 강초롱 조의호')\n",
    "print('\"조인서\", \"조의호\", \"강초롱\"')"
   ]
  },
  {
   "cell_type": "markdown",
   "metadata": {},
   "source": [
    "### 변수\n",
    "\n",
    "    1. 데이터를 표현할 수 있는 이름으로 작성한다.\n",
    "    2. 문자부터 시작해야 한다.\n",
    "    3. 대소문자는 구분한다.\n",
    "    4. _로 시작할 수 있다.\n",
    "    5. 미리 예약된 키워드는 사용할 수 없다."
   ]
  },
  {
   "cell_type": "code",
   "execution_count": 10,
   "metadata": {},
   "outputs": [
    {
     "name": "stdout",
     "output_type": "stream",
     "text": [
      "마스터이 5 800 90\n"
     ]
    }
   ],
   "source": [
    "# 변수\n",
    "# 변수 이름 = 데이터\n",
    "\n",
    "name = \"마스터이\"\n",
    "level = 5\n",
    "health = 800\n",
    "attack = 90\n",
    "print(name, level, health, attack)"
   ]
  },
  {
   "cell_type": "code",
   "execution_count": 8,
   "metadata": {},
   "outputs": [
    {
     "name": "stdout",
     "output_type": "stream",
     "text": [
      "마스터이 6 850 100\n"
     ]
    }
   ],
   "source": [
    "# 변수에 저장된 데이터를 변경하기\n",
    "level = 6\n",
    "health = 850\n",
    "attack = 100\n",
    "print(name, level, health, attack)"
   ]
  },
  {
   "cell_type": "code",
   "execution_count": 37,
   "metadata": {},
   "outputs": [
    {
     "name": "stdout",
     "output_type": "stream",
     "text": [
      "32 2150 2790\n"
     ]
    }
   ],
   "source": [
    "level = level + 1\n",
    "health = health + 50\n",
    "attack = attack + 100\n",
    "print(level, health, attack)"
   ]
  }
 ],
 "metadata": {
  "kernelspec": {
   "display_name": "Python 3",
   "language": "python",
   "name": "python3"
  },
  "language_info": {
   "codemirror_mode": {
    "name": "ipython",
    "version": 3
   },
   "file_extension": ".py",
   "mimetype": "text/x-python",
   "name": "python",
   "nbconvert_exporter": "python",
   "pygments_lexer": "ipython3",
   "version": "3.13.0"
  }
 },
 "nbformat": 4,
 "nbformat_minor": 2
}
