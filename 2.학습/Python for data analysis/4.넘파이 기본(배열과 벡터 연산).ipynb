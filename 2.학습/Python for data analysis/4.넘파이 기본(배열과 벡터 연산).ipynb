{
 "cells": [
  {
   "cell_type": "code",
   "execution_count": null,
   "id": "97d34b01-3758-4a60-b371-385aa1bedf4f",
   "metadata": {},
   "outputs": [],
   "source": [
    "import numpy as np"
   ]
  },
  {
   "cell_type": "code",
   "execution_count": null,
   "id": "0d233d3e-a764-4f47-9444-9849f5a17a40",
   "metadata": {},
   "outputs": [],
   "source": [
    "my_arr = np.arange(1000000)"
   ]
  },
  {
   "cell_type": "code",
   "execution_count": null,
   "id": "09a8d8a1-d375-4f39-95fc-8817d4f2cf37",
   "metadata": {},
   "outputs": [],
   "source": [
    "my_list = list(range(100))"
   ]
  },
  {
   "cell_type": "code",
   "execution_count": null,
   "id": "2be4b38b-260f-4b04-a680-1caf0e9aa934",
   "metadata": {},
   "outputs": [],
   "source": [
    "%timeit my_arr2 = my_arr *2"
   ]
  },
  {
   "cell_type": "code",
   "execution_count": null,
   "id": "bb432022-aab6-477a-9f5b-b5926ae08760",
   "metadata": {},
   "outputs": [],
   "source": [
    "%timeit my_list2 = [x * 2 for x in my_list]"
   ]
  },
  {
   "cell_type": "code",
   "execution_count": null,
   "id": "b66811da-277f-48d7-82b6-1a4a452236ed",
   "metadata": {},
   "outputs": [],
   "source": [
    "print(my_arr)"
   ]
  },
  {
   "cell_type": "code",
   "execution_count": null,
   "id": "ff462c23-6e6c-45f5-a658-665e6ca64454",
   "metadata": {},
   "outputs": [],
   "source": [
    "print(my_list)"
   ]
  },
  {
   "cell_type": "markdown",
   "id": "0f525a9e-d14a-482f-9c6a-954db0d1f384",
   "metadata": {},
   "source": [
    "### 4.1 다차원 배열 객체 ndarray\n",
    "- 넘파이는 대규모 데이터셋을 담을 수 있는 빠르고 유연한 자료 구조다."
   ]
  },
  {
   "cell_type": "code",
   "execution_count": null,
   "id": "f4a89462-17f8-4f05-85c0-ab2e8695ee1a",
   "metadata": {},
   "outputs": [],
   "source": [
    "data = np.array([[1.5, -0.1, 3], [0, -3, 6.5]])"
   ]
  },
  {
   "cell_type": "code",
   "execution_count": null,
   "id": "7f88ad35-9658-452a-89ad-158c4b465fd0",
   "metadata": {},
   "outputs": [],
   "source": [
    "data"
   ]
  },
  {
   "cell_type": "code",
   "execution_count": null,
   "id": "a0368f8d-cc2d-4919-8afb-40c4dbda8e23",
   "metadata": {},
   "outputs": [],
   "source": [
    "data * 10"
   ]
  },
  {
   "cell_type": "code",
   "execution_count": null,
   "id": "434ba8f0-0276-456d-ace5-ea2cd5bf0a46",
   "metadata": {},
   "outputs": [],
   "source": [
    "data + data"
   ]
  },
  {
   "cell_type": "code",
   "execution_count": null,
   "id": "34dc7cb3-bc68-4035-8acc-9d419faf58b0",
   "metadata": {},
   "outputs": [],
   "source": [
    "data.shape"
   ]
  },
  {
   "cell_type": "code",
   "execution_count": null,
   "id": "2e7183c7-eb39-4442-acbe-f2732e8e8daf",
   "metadata": {},
   "outputs": [],
   "source": [
    "data.dtype"
   ]
  },
  {
   "cell_type": "markdown",
   "id": "4eeaea1d-5495-4e3e-b2fc-92d10b5c60f2",
   "metadata": {},
   "source": [
    "#### 4.1.1 ndarray 생성하기"
   ]
  },
  {
   "cell_type": "code",
   "execution_count": null,
   "id": "77312da6-d0de-452b-9ffd-6937303731b6",
   "metadata": {},
   "outputs": [],
   "source": [
    "data1 = [6, 7.5, 8, 0, 1]"
   ]
  },
  {
   "cell_type": "code",
   "execution_count": null,
   "id": "7e164e71-e71d-4b6b-bc49-15cfb3230329",
   "metadata": {},
   "outputs": [],
   "source": [
    "arr1 = np.array(data1)"
   ]
  },
  {
   "cell_type": "code",
   "execution_count": null,
   "id": "097ef8d7-8617-4c2e-b5ab-ae21b3025218",
   "metadata": {},
   "outputs": [],
   "source": [
    "arr1"
   ]
  },
  {
   "cell_type": "code",
   "execution_count": null,
   "id": "d5584977-9b13-41f5-9f5d-328657173605",
   "metadata": {},
   "outputs": [],
   "source": [
    "data1"
   ]
  },
  {
   "cell_type": "markdown",
   "id": "21f7248d-dae3-4507-a4c8-efb9e6ff3229",
   "metadata": {},
   "source": [
    "- 리스트 길이가 동일한 중첩된 순차 데이터는 다차원 배열로 변환 가능하다"
   ]
  },
  {
   "cell_type": "code",
   "execution_count": null,
   "id": "7f27d937-0ce9-4c3c-81f3-30a6b6fa8ce5",
   "metadata": {},
   "outputs": [],
   "source": [
    "data2 = [[1, 2, 3, 4], [5, 6, 7, 8]]"
   ]
  },
  {
   "cell_type": "code",
   "execution_count": null,
   "id": "caa648fa-9f02-41ec-8344-5f3362d4d89b",
   "metadata": {},
   "outputs": [],
   "source": [
    "arr2 = np.array(data2)"
   ]
  },
  {
   "cell_type": "code",
   "execution_count": null,
   "id": "d9f425cd-29be-4488-8336-1414dc2a38fb",
   "metadata": {},
   "outputs": [],
   "source": [
    "arr2"
   ]
  },
  {
   "cell_type": "markdown",
   "id": "5a31f8a2-2cb9-40d2-b5fc-486822b67b96",
   "metadata": {},
   "source": [
    "- data2는 리스트를 담고 있는 리스트이므로 넘파이 배열인 arr2는 해당 데이터로부터 형태를 추론해 2차원 형태로 생성된다."
   ]
  },
  {
   "cell_type": "code",
   "execution_count": null,
   "id": "2b1293f4-6800-4210-9049-c599a0871bbd",
   "metadata": {},
   "outputs": [],
   "source": [
    "arr2.ndim"
   ]
  },
  {
   "cell_type": "code",
   "execution_count": null,
   "id": "05125608-63b0-4b08-9677-76a2c304e493",
   "metadata": {},
   "outputs": [],
   "source": [
    "arr2.shape"
   ]
  },
  {
   "cell_type": "code",
   "execution_count": null,
   "id": "fa3b5f41-c7b4-4d1c-9283-0c31e35cb46d",
   "metadata": {},
   "outputs": [],
   "source": [
    "arr1.dtype"
   ]
  },
  {
   "cell_type": "code",
   "execution_count": null,
   "id": "f49a9a22-f727-40a3-9ecf-61849ec89ae4",
   "metadata": {},
   "outputs": [],
   "source": [
    "arr2.dtype"
   ]
  },
  {
   "cell_type": "code",
   "execution_count": null,
   "id": "4658e674-82a5-406a-87bf-f4f4208506d7",
   "metadata": {},
   "outputs": [],
   "source": [
    "np.zeros(10)"
   ]
  },
  {
   "cell_type": "code",
   "execution_count": null,
   "id": "c632c2fd",
   "metadata": {},
   "outputs": [],
   "source": [
    "np.zeros((3,6))"
   ]
  },
  {
   "cell_type": "code",
   "execution_count": null,
   "id": "570e7815",
   "metadata": {},
   "outputs": [],
   "source": [
    "np.empty((2,3,2))"
   ]
  },
  {
   "cell_type": "code",
   "execution_count": null,
   "id": "90f68a67",
   "metadata": {},
   "outputs": [],
   "source": [
    "arr1 = np.array([1, 2, 3], dtype=np.float64)\n",
    "arr2 = np.array([1, 2, 3], dtype=np.int32)"
   ]
  },
  {
   "cell_type": "code",
   "execution_count": null,
   "id": "f6cf8745",
   "metadata": {},
   "outputs": [],
   "source": [
    "arr1.dtype\n",
    "arr2.dtype\n",
    "\n",
    "print(arr1, arr2)"
   ]
  },
  {
   "cell_type": "code",
   "execution_count": null,
   "id": "382957a8",
   "metadata": {},
   "outputs": [],
   "source": [
    "arr = np.array([1,2,3,4,5])"
   ]
  },
  {
   "cell_type": "code",
   "execution_count": null,
   "id": "173f1b36",
   "metadata": {},
   "outputs": [],
   "source": [
    "arr.dtype "
   ]
  },
  {
   "cell_type": "code",
   "execution_count": null,
   "id": "42c7f6e4",
   "metadata": {},
   "outputs": [],
   "source": [
    "float_arr = arr.astype(np.float64)\n",
    "print(float_arr)\n",
    "print(float_arr.dtype)"
   ]
  },
  {
   "cell_type": "markdown",
   "id": "1d15bd56",
   "metadata": {},
   "source": [
    "#### 4.1.2 숫자 형식의 문자열을 담고 있는 배열이 있다면 'astype'을 사용해 숫자로 변환할 수 있다."
   ]
  },
  {
   "cell_type": "code",
   "execution_count": null,
   "id": "3e86c350",
   "metadata": {},
   "outputs": [],
   "source": [
    "numeric_strings = np.array([\"1.25\", \"-9.6\", \"42\"], dtype=np.str_)"
   ]
  },
  {
   "cell_type": "code",
   "execution_count": null,
   "id": "9ac2aad9",
   "metadata": {},
   "outputs": [],
   "source": [
    "numeric_strings"
   ]
  },
  {
   "cell_type": "code",
   "execution_count": null,
   "id": "6ed2c47a",
   "metadata": {},
   "outputs": [],
   "source": [
    "numeric_strings.astype(float)"
   ]
  },
  {
   "cell_type": "code",
   "execution_count": null,
   "id": "5402963a",
   "metadata": {},
   "outputs": [],
   "source": [
    "arr = np.array([[1,2,3], [4,5,6]])"
   ]
  },
  {
   "cell_type": "code",
   "execution_count": null,
   "id": "75b3c36d",
   "metadata": {},
   "outputs": [],
   "source": [
    "arr"
   ]
  },
  {
   "cell_type": "code",
   "execution_count": null,
   "id": "d2a1b719",
   "metadata": {},
   "outputs": [],
   "source": [
    "arr * arr"
   ]
  },
  {
   "cell_type": "code",
   "execution_count": null,
   "id": "a363e33d",
   "metadata": {},
   "outputs": [],
   "source": [
    "arr = [[1, 2, 3], [4, 5, 6]]\n",
    "total_sum = 0\n",
    "\n",
    "for row in arr:\n",
    "    for element in row:\n",
    "        total_sum += element\n",
    "\n",
    "print(\"Total Sum:\", total_sum)"
   ]
  },
  {
   "cell_type": "code",
   "execution_count": null,
   "id": "5d28a906",
   "metadata": {},
   "outputs": [],
   "source": [
    "arr = [[1, 2, 3], [4, 5, 6]]\n",
    "result = []\n",
    "\n",
    "for row in arr:\n",
    "    new_row = []\n",
    "    for element in row:\n",
    "        new_row.append(element * 2)\n",
    "    result.append(new_row)\n",
    "\n",
    "print(\"Result after multiplying by 2:\", result)\n"
   ]
  },
  {
   "cell_type": "markdown",
   "id": "76051e6d",
   "metadata": {},
   "source": [
    "#### 4.1.3 넘파이 배열의 산술 연산"
   ]
  },
  {
   "cell_type": "code",
   "execution_count": null,
   "id": "cd2871b3",
   "metadata": {},
   "outputs": [],
   "source": [
    "arr2 = np.array([[0, 4, 1], [7, 2, 12]])\n",
    "arr2"
   ]
  },
  {
   "cell_type": "code",
   "execution_count": null,
   "id": "6e963d30",
   "metadata": {},
   "outputs": [],
   "source": [
    "arr2 > arr"
   ]
  },
  {
   "cell_type": "markdown",
   "id": "5c6d6524",
   "metadata": {},
   "source": [
    "#### 4.1.4 색인과 슬라이싱 기초"
   ]
  },
  {
   "cell_type": "code",
   "execution_count": null,
   "id": "12d457a1",
   "metadata": {},
   "outputs": [],
   "source": [
    "arr = np.arange(10)"
   ]
  },
  {
   "cell_type": "code",
   "execution_count": null,
   "id": "7f54a276",
   "metadata": {},
   "outputs": [],
   "source": [
    "print([arr[5], arr[5:8]])"
   ]
  },
  {
   "cell_type": "code",
   "execution_count": null,
   "id": "7256740f",
   "metadata": {},
   "outputs": [],
   "source": [
    "arr[5:8] = 12\n",
    "arr"
   ]
  },
  {
   "cell_type": "code",
   "execution_count": null,
   "id": "c69c40df",
   "metadata": {},
   "outputs": [],
   "source": [
    "arr_slice = arr[5:8]"
   ]
  },
  {
   "cell_type": "code",
   "execution_count": null,
   "id": "7fdf76c5",
   "metadata": {},
   "outputs": [],
   "source": [
    "arr_slice"
   ]
  },
  {
   "cell_type": "code",
   "execution_count": null,
   "id": "08591ae2",
   "metadata": {},
   "outputs": [],
   "source": [
    "arr_slice[1] = 12345"
   ]
  },
  {
   "cell_type": "code",
   "execution_count": null,
   "id": "97bc368e",
   "metadata": {},
   "outputs": [],
   "source": [
    "arr_slice"
   ]
  },
  {
   "cell_type": "code",
   "execution_count": null,
   "id": "cc1a945f",
   "metadata": {},
   "outputs": [],
   "source": [
    "arr_copy = arr[5:8].copy()"
   ]
  },
  {
   "cell_type": "code",
   "execution_count": null,
   "id": "5490a0ab",
   "metadata": {},
   "outputs": [],
   "source": [
    "arr_copy"
   ]
  },
  {
   "cell_type": "code",
   "execution_count": null,
   "id": "3d28abca",
   "metadata": {},
   "outputs": [],
   "source": [
    "arr2d = np.array([[1,2,3], [4,5,6], [7,8,9]])"
   ]
  },
  {
   "cell_type": "code",
   "execution_count": null,
   "id": "981a7e14",
   "metadata": {},
   "outputs": [],
   "source": [
    "arr2d"
   ]
  },
  {
   "cell_type": "code",
   "execution_count": null,
   "id": "6fc7d7f2",
   "metadata": {},
   "outputs": [],
   "source": [
    "arr2d[1, :2]"
   ]
  },
  {
   "cell_type": "code",
   "execution_count": null,
   "id": "b5e818de",
   "metadata": {},
   "outputs": [],
   "source": [
    "arr2d[:, 0]"
   ]
  },
  {
   "cell_type": "code",
   "execution_count": null,
   "id": "320a52e3",
   "metadata": {},
   "outputs": [],
   "source": [
    "arr2d[:, :1]"
   ]
  },
  {
   "cell_type": "code",
   "execution_count": null,
   "id": "bbed5c5d",
   "metadata": {},
   "outputs": [],
   "source": [
    "arr = np.zeros((8,4))"
   ]
  },
  {
   "cell_type": "code",
   "execution_count": null,
   "id": "69592df9",
   "metadata": {},
   "outputs": [],
   "source": [
    "for i in range(8):\n",
    "    arr[i] = i"
   ]
  },
  {
   "cell_type": "code",
   "execution_count": null,
   "id": "4e91db0d",
   "metadata": {},
   "outputs": [],
   "source": [
    "arr"
   ]
  },
  {
   "cell_type": "code",
   "execution_count": null,
   "id": "a53f2057",
   "metadata": {},
   "outputs": [],
   "source": [
    "arr[[4,3,0,6]]"
   ]
  },
  {
   "cell_type": "code",
   "execution_count": null,
   "id": "e95ea214",
   "metadata": {},
   "outputs": [],
   "source": [
    "arr = np.arange(32).reshape((8,4))"
   ]
  },
  {
   "cell_type": "code",
   "execution_count": 73,
   "id": "c3773616",
   "metadata": {},
   "outputs": [
    {
     "data": {
      "text/plain": [
       "array([[ 0,  1,  2,  3],\n",
       "       [ 4,  5,  6,  7],\n",
       "       [ 8,  9, 10, 11],\n",
       "       [12, 13, 14, 15],\n",
       "       [16, 17, 18, 19],\n",
       "       [20, 21, 22, 23],\n",
       "       [24, 25, 26, 27],\n",
       "       [28, 29, 30, 31]])"
      ]
     },
     "execution_count": 73,
     "metadata": {},
     "output_type": "execute_result"
    }
   ],
   "source": [
    "arr"
   ]
  },
  {
   "cell_type": "code",
   "execution_count": 76,
   "id": "14c0c48e",
   "metadata": {},
   "outputs": [
    {
     "data": {
      "text/plain": [
       "array([[ 4,  5,  6,  7],\n",
       "       [20, 21, 22, 23],\n",
       "       [28, 29, 30, 31],\n",
       "       [ 8,  9, 10, 11]])"
      ]
     },
     "execution_count": 76,
     "metadata": {},
     "output_type": "execute_result"
    }
   ],
   "source": [
    "arr[[1,5,7,2]]"
   ]
  },
  {
   "cell_type": "markdown",
   "id": "23e8dbaa",
   "metadata": {},
   "source": [
    "## 4.2 난수 생성"
   ]
  },
  {
   "cell_type": "code",
   "execution_count": 1,
   "id": "fcea3460",
   "metadata": {},
   "outputs": [],
   "source": [
    "import numpy as np"
   ]
  },
  {
   "cell_type": "code",
   "execution_count": 2,
   "id": "ed076a3e",
   "metadata": {},
   "outputs": [],
   "source": [
    "# 표준정규분포 난수 생성\n",
    "samples = np.random.standard_normal(size = (4,4))"
   ]
  },
  {
   "cell_type": "code",
   "execution_count": 3,
   "id": "d0c2ce21",
   "metadata": {},
   "outputs": [
    {
     "data": {
      "text/plain": [
       "array([[-0.09188921,  0.40574723,  0.0054088 ,  0.13926003],\n",
       "       [ 0.70427561, -1.46969075, -0.6028143 , -0.95188781],\n",
       "       [-0.55847324,  1.65700137, -1.17836843,  0.12859294],\n",
       "       [-0.43664928, -1.86050319,  0.26346239,  1.58865492]])"
      ]
     },
     "execution_count": 3,
     "metadata": {},
     "output_type": "execute_result"
    }
   ],
   "source": [
    "samples"
   ]
  },
  {
   "cell_type": "code",
   "execution_count": 4,
   "id": "4a715d3c",
   "metadata": {},
   "outputs": [],
   "source": [
    "from random import normalvariate"
   ]
  },
  {
   "cell_type": "code",
   "execution_count": 5,
   "id": "6b242a72",
   "metadata": {},
   "outputs": [],
   "source": [
    "N = 1000000"
   ]
  },
  {
   "cell_type": "code",
   "execution_count": 6,
   "id": "b17820d5",
   "metadata": {},
   "outputs": [
    {
     "name": "stdout",
     "output_type": "stream",
     "text": [
      "967 ms ± 281 ms per loop (mean ± std. dev. of 7 runs, 1 loop each)\n"
     ]
    }
   ],
   "source": [
    "%timeit samples = [normalvariate(0,1) for _ in range(N)]"
   ]
  },
  {
   "cell_type": "code",
   "execution_count": 10,
   "id": "db0f0400",
   "metadata": {},
   "outputs": [
    {
     "name": "stdout",
     "output_type": "stream",
     "text": [
      "36.6 ms ± 335 μs per loop (mean ± std. dev. of 7 runs, 10 loops each)\n"
     ]
    }
   ],
   "source": [
    "%timeit np.random.standard_normal(N)"
   ]
  },
  {
   "cell_type": "code",
   "execution_count": 15,
   "id": "92789404",
   "metadata": {},
   "outputs": [],
   "source": [
    "rng = np.random.default_rng(seed = 1234)\n",
    "data = rng.standard_normal((2,3))"
   ]
  },
  {
   "cell_type": "code",
   "execution_count": 16,
   "id": "3eb396c8",
   "metadata": {},
   "outputs": [
    {
     "data": {
      "text/plain": [
       "numpy.random._generator.Generator"
      ]
     },
     "execution_count": 16,
     "metadata": {},
     "output_type": "execute_result"
    }
   ],
   "source": [
    "type(rng)"
   ]
  },
  {
   "cell_type": "code",
   "execution_count": 17,
   "id": "9b3b9efa",
   "metadata": {},
   "outputs": [
    {
     "data": {
      "text/plain": [
       "array([[-1.60383681,  0.06409991,  0.7408913 ],\n",
       "       [ 0.15261919,  0.86374389,  2.91309922]])"
      ]
     },
     "execution_count": 17,
     "metadata": {},
     "output_type": "execute_result"
    }
   ],
   "source": [
    "data"
   ]
  },
  {
   "cell_type": "code",
   "execution_count": 18,
   "id": "a5e802a2",
   "metadata": {},
   "outputs": [
    {
     "data": {
      "text/plain": [
       "Generator(PCG64) at 0x1179CD700"
      ]
     },
     "execution_count": 18,
     "metadata": {},
     "output_type": "execute_result"
    }
   ],
   "source": [
    "rng"
   ]
  },
  {
   "cell_type": "markdown",
   "id": "f0608a8c",
   "metadata": {},
   "source": [
    "## 4.3 유니버셜함수: 배열의 각 원소를 빠르게 처리하는 함수"
   ]
  },
  {
   "cell_type": "code",
   "execution_count": 11,
   "id": "9276d016",
   "metadata": {},
   "outputs": [
    {
     "data": {
      "text/plain": [
       "array([0, 1, 2, 3, 4, 5, 6, 7, 8, 9])"
      ]
     },
     "execution_count": 11,
     "metadata": {},
     "output_type": "execute_result"
    }
   ],
   "source": [
    "arr = np.arange(10)\n",
    "\n",
    "arr"
   ]
  },
  {
   "cell_type": "code",
   "execution_count": 12,
   "id": "669fc817",
   "metadata": {},
   "outputs": [
    {
     "data": {
      "text/plain": [
       "array([0.        , 1.        , 1.41421356, 1.73205081, 2.        ,\n",
       "       2.23606798, 2.44948974, 2.64575131, 2.82842712, 3.        ])"
      ]
     },
     "execution_count": 12,
     "metadata": {},
     "output_type": "execute_result"
    }
   ],
   "source": [
    "np.sqrt(arr)"
   ]
  },
  {
   "cell_type": "code",
   "execution_count": 13,
   "id": "d8146fe4",
   "metadata": {},
   "outputs": [
    {
     "data": {
      "text/plain": [
       "array([1.00000000e+00, 2.71828183e+00, 7.38905610e+00, 2.00855369e+01,\n",
       "       5.45981500e+01, 1.48413159e+02, 4.03428793e+02, 1.09663316e+03,\n",
       "       2.98095799e+03, 8.10308393e+03])"
      ]
     },
     "execution_count": 13,
     "metadata": {},
     "output_type": "execute_result"
    }
   ],
   "source": [
    "np.exp(arr)"
   ]
  },
  {
   "cell_type": "code",
   "execution_count": 20,
   "id": "d2ad00c6",
   "metadata": {},
   "outputs": [],
   "source": [
    "x = rng.standard_normal(8)\n",
    "y = rng.standard_normal(8)"
   ]
  },
  {
   "cell_type": "code",
   "execution_count": 21,
   "id": "b13ee16e",
   "metadata": {},
   "outputs": [
    {
     "data": {
      "text/plain": [
       "array([-1.26514372, -2.15913901,  0.43473395,  1.73328932,  0.52013416,\n",
       "       -1.00216579,  0.26834554,  0.7671747 ])"
      ]
     },
     "execution_count": 21,
     "metadata": {},
     "output_type": "execute_result"
    }
   ],
   "source": [
    "x"
   ]
  },
  {
   "cell_type": "code",
   "execution_count": 22,
   "id": "cabab496",
   "metadata": {},
   "outputs": [
    {
     "data": {
      "text/plain": [
       "array([ 1.19127203, -1.15741081,  0.6962794 ,  0.35138369, -0.03241508,\n",
       "        0.01318158, -0.67924997, -0.62053203])"
      ]
     },
     "execution_count": 22,
     "metadata": {},
     "output_type": "execute_result"
    }
   ],
   "source": [
    "y"
   ]
  },
  {
   "cell_type": "code",
   "execution_count": null,
   "id": "0f79d764",
   "metadata": {},
   "outputs": [],
   "source": []
  }
 ],
 "metadata": {
  "kernelspec": {
   "display_name": "Python 3",
   "language": "python",
   "name": "python3"
  },
  "language_info": {
   "codemirror_mode": {
    "name": "ipython",
    "version": 3
   },
   "file_extension": ".py",
   "mimetype": "text/x-python",
   "name": "python",
   "nbconvert_exporter": "python",
   "pygments_lexer": "ipython3",
   "version": "3.13.0"
  }
 },
 "nbformat": 4,
 "nbformat_minor": 5
}
