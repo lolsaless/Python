{
 "cells": [
  {
   "cell_type": "code",
   "execution_count": 5,
   "metadata": {},
   "outputs": [
    {
     "name": "stdout",
     "output_type": "stream",
     "text": [
      "Benzene:\n",
      "  Sample 1: Estimated Concentration = 6.89 µg/L\n",
      "  Sample 2: Estimated Concentration = 6.59 µg/L\n",
      "  Sample 3: Estimated Concentration = 10.46 µg/L\n",
      "  Sample 4: Estimated Concentration = 10.01 µg/L\n",
      "\n",
      "Chloroform:\n",
      "  Sample 1: Estimated Concentration = 15.13 µg/L\n",
      "  Sample 2: Estimated Concentration = 14.73 µg/L\n",
      "  Sample 3: Estimated Concentration = 38.64 µg/L\n",
      "  Sample 4: Estimated Concentration = 37.69 µg/L\n",
      "\n",
      "Bromodichloromethane:\n",
      "  Sample 1: Estimated Concentration = 9.72 µg/L\n",
      "  Sample 2: Estimated Concentration = 9.46 µg/L\n",
      "  Sample 3: Estimated Concentration = 34.45 µg/L\n",
      "  Sample 4: Estimated Concentration = 33.61 µg/L\n",
      "\n",
      "Dibromochloromethane:\n",
      "  Sample 1: Estimated Concentration = 53.56 µg/L\n",
      "  Sample 2: Estimated Concentration = 52.69 µg/L\n",
      "  Sample 3: Estimated Concentration = 47.76 µg/L\n",
      "  Sample 4: Estimated Concentration = 46.94 µg/L\n",
      "\n",
      "Bromoform:\n",
      "  Sample 1: Estimated Concentration = 17.94 µg/L\n",
      "  Sample 2: Estimated Concentration = 17.64 µg/L\n",
      "  Sample 3: Estimated Concentration = 47.10 µg/L\n",
      "  Sample 4: Estimated Concentration = 46.93 µg/L\n",
      "\n"
     ]
    }
   ],
   "source": [
    "import numpy as np\n",
    "import pandas as pd\n",
    "import matplotlib.pyplot as plt\n",
    "from sklearn.linear_model import LinearRegression\n",
    "\n",
    "# 데이터를 로드합니다.\n",
    "data = pd.read_excel('data.xlsx')\n",
    "\n",
    "# 농도 설정\n",
    "concentrations = np.array([1, 2, 5, 10, 20, 40, 50])\n",
    "\n",
    "# 화합물별로 면적값 리스트\n",
    "area_values = {\n",
    "    'Benzene': [420839, 405038, 608286, 584513],\n",
    "    'Chloroform': [410581, 400643, 1004012, 980022],\n",
    "    'Bromodichloromethane': [187823, 183023, 649061, 633448],\n",
    "    'Dibromochloromethane': [712164, 700588, 634841, 623905],\n",
    "    'Bromoform': [177558, 174388, 480616, 478895]\n",
    "}\n",
    "\n",
    "# 각 화합물에 대한 농도 추정\n",
    "estimated_concentrations = {}\n",
    "\n",
    "for compound, areas in area_values.items():\n",
    "    y_values = []\n",
    "    for i in range(1, 8):  # std1부터 std7까지\n",
    "        # 화합물의 신호값을 직접 사용\n",
    "        signal = data.loc[data['compounds'] == compound, f'std{i}'].values[0]\n",
    "        y_values.append(signal)\n",
    "\n",
    "    y_values = np.array(y_values)\n",
    "\n",
    "    # 선형 회귀 모델 피팅\n",
    "    model = LinearRegression()\n",
    "    model.fit(y_values.reshape(-1, 1), concentrations.reshape(-1, 1))\n",
    "    \n",
    "    # 주어진 면적값에 대한 농도 예측\n",
    "    predicted_concentrations = model.predict(np.array(areas).reshape(-1, 1)).flatten()\n",
    "    estimated_concentrations[compound] = predicted_concentrations\n",
    "\n",
    "# 결과 출력\n",
    "for compound, concentrations in estimated_concentrations.items():\n",
    "    print(f'{compound}:')\n",
    "    for i, conc in enumerate(concentrations, 1):\n",
    "        print(f'  Sample {i}: Estimated Concentration = {conc:.2f} µg/L')\n",
    "    print()\n"
   ]
  }
 ],
 "metadata": {
  "kernelspec": {
   "display_name": "Python 3",
   "language": "python",
   "name": "python3"
  },
  "language_info": {
   "codemirror_mode": {
    "name": "ipython",
    "version": 3
   },
   "file_extension": ".py",
   "mimetype": "text/x-python",
   "name": "python",
   "nbconvert_exporter": "python",
   "pygments_lexer": "ipython3",
   "version": "3.12.3"
  }
 },
 "nbformat": 4,
 "nbformat_minor": 2
}
