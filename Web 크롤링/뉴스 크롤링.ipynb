{
 "cells": [
  {
   "cell_type": "code",
   "execution_count": 12,
   "id": "f5ea70cb",
   "metadata": {},
   "outputs": [],
   "source": [
    "from selenium import webdriver\n",
    "from webdriver_manager.chrome import ChromeDriverManager\n",
    "from selenium.webdriver.chrome.service import Service\n",
    "from selenium.webdriver.common.by import By\n",
    "\n",
    "# 크롬드라이버 셋팅\n",
    "def set_chrome_driver(headless=True):\n",
    "    options = webdriver.ChromeOptions()\n",
    "    if headless:\n",
    "        options.add_argument('headless')\n",
    "    options.add_argument(\"user-agent=Mozilla/5.0 (Windows NT 10.0; Win64; x64) AppleWebKit/537.36 (KHTML, like Gecko) Chrome/70.0.3538.77 Safari/537.36\")\n",
    "    driver = webdriver.Chrome(service=Service(ChromeDriverManager().install()), options=options)\n",
    "    return driver"
   ]
  },
  {
   "cell_type": "code",
   "execution_count": 13,
   "id": "41499169",
   "metadata": {},
   "outputs": [],
   "source": [
    "url = 'https://www.investing.com/analysis/us-stock-market-has-plenty-of-reasons-to-rally-after-feds-decision-200634857'"
   ]
  },
  {
   "cell_type": "code",
   "execution_count": 14,
   "id": "8bf764c7",
   "metadata": {},
   "outputs": [
    {
     "name": "stderr",
     "output_type": "stream",
     "text": [
      "[WDM] - Downloading:  75%|███████▌  | 6.24M/8.29M [00:00<00:00, 15.0MB/s]0.02s - Debugger warning: It seems that frozen modules are being used, which may\n",
      "0.00s - make the debugger miss breakpoints. Please pass -Xfrozen_modules=off\n",
      "0.00s - to python to disable frozen modules.\n",
      "0.00s - Note: Debugging will proceed. Set PYDEVD_DISABLE_FILE_VALIDATION=1 to disable this validation.\n",
      "[WDM] - Downloading: 100%|██████████| 8.29M/8.29M [00:00<00:00, 15.2MB/s]\n"
     ]
    },
    {
     "data": {
      "text/plain": [
       "<selenium.webdriver.remote.webelement.WebElement (session=\"d41dccf931e847f8b24bf17af199950a\", element=\"CC24FF7D1294B742FA3BED7D7A85918A_element_58\")>"
      ]
     },
     "execution_count": 14,
     "metadata": {},
     "output_type": "execute_result"
    }
   ],
   "source": [
    "# driver 설정\n",
    "driver = set_chrome_driver(False)\n",
    "\n",
    "# URL 요청\n",
    "driver.get(url)\n",
    "\n",
    "# aritivlePage는 신문기사의 본문입니다\n",
    "article_page = driver.find_element(By.CLASS_NAME, 'articlePage')\n",
    "article_page"
   ]
  },
  {
   "cell_type": "code",
   "execution_count": 15,
   "id": "1689895b",
   "metadata": {},
   "outputs": [
    {
     "name": "stdout",
     "output_type": "stream",
     "text": [
      "Francesco Casarella/Investing.com\n",
      "Articles (60)\n",
      "Follow\n",
      "  US500\n",
      "-0.52%\n",
      "Markets are cautious ahead of the Fed\n",
      "After a tumultuous 2022, many investors are waiting on the sidelines, holding cash and waiting to enter\n",
      "With risk-off sentiment dominating and plenty of liquidity on the sidelines, markets could rally in the second half of the week\n",
      "Yesterday, the S&P 500 closed lower. This is nothing new, considering the same thing happened the last three times Powell spoke.\n",
      "S&P 500 Daily Chart\n",
      "I don't expect any surprises. A 25bp hike and Powell maintaining his stance on fighting inflation (\"we're improving, but it's not time to rest yet\") is likely. As always, the markets are pricing in such a scenario.\n",
      "In the meantime, while the focus is still on the recession and earnings (we will have a dedicated analysis as soon as the quarters are over), there are other situations worthy of consideration.\n",
      "Cash Levels at All-Time Highs\n",
      "After the sell-off in 2022, there is still a lot of liquidity on the sidelines that needs to be deployed. We can see above that several funds are at record highs not seen for years (curiously, they were also at very high levels in 2009 as the market recovered from the subprime bubble).\n",
      "The buyback announcements made by various companies in January could help support prices.\n",
      "US Share Buyback Authorizations\n",
      "Generally, we are not seeing the euphoria typical of bubble bursts, where the collapse comes after markets are taken by surprise.\n",
      "After a year like 2022, the markets are already negative as far as sentiment is concerned, and if we look at the chart below, we can see that traders are still in a risk-off mode.\n",
      "Usually, when traders are negative, there is a lot of caution, and as a result, it is difficult to be caught off guard if the market declines further.\n",
      "Risk Off/Risk On Sentiment\n",
      "However, the surprise could come from the opposite direction. A continuation of the rally could generate a buying frenzy in a self-reinforcing mechanism between closing shorts and new buying.\n",
      "In this sense, this week will not be so much about the FOMC's decision on the size of the hike, nor even about Powell's words (which I think will be confirmed as hawkish).\n",
      "Instead, it will be about how the markets react in the second half of the week and the week after.\n",
      "Disclaimer: This article is written for informational purposes only; it does not constitute a solicitation, offer, advice, counseling, or recommendation to invest as such it is not intended to incentivize the purchase of assets in any way. I want to remind you that any type of asset is evaluated from multiple points of view and is highly risky; therefore, any investment decision and the associated risk remain with the investor.\n"
     ]
    }
   ],
   "source": [
    "print(article_page.text)"
   ]
  },
  {
   "cell_type": "code",
   "execution_count": null,
   "id": "efec7afc",
   "metadata": {},
   "outputs": [],
   "source": [
    "print(\"heheheh\")"
   ]
  }
 ],
 "metadata": {
  "kernelspec": {
   "display_name": "Python 3 (ipykernel)",
   "language": "python",
   "name": "python3"
  },
  "language_info": {
   "codemirror_mode": {
    "name": "ipython",
    "version": 3
   },
   "file_extension": ".py",
   "mimetype": "text/x-python",
   "name": "python",
   "nbconvert_exporter": "python",
   "pygments_lexer": "ipython3",
   "version": "3.11.3"
  }
 },
 "nbformat": 4,
 "nbformat_minor": 5
}
