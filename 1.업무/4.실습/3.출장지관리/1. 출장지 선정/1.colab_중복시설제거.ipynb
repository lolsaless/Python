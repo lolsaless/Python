{
 "cells": [
  {
   "cell_type": "code",
   "execution_count": 1,
   "metadata": {},
   "outputs": [
    {
     "name": "stdout",
     "output_type": "stream",
     "text": [
      "파일이 저장되었습니다: updated 대상시설.xlsx\n"
     ]
    }
   ],
   "source": [
    "import pandas as pd\n",
    "\n",
    "# 파일 경로 설정\n",
    "file_path = '다중이용시설 실내공기질 검사 대상시설.xlsx'  # 원본 파일 경로\n",
    "output_file_path = 'updated 대상시설.xlsx'  # 저장할 파일 경로\n",
    "\n",
    "# Excel 파일 읽기\n",
    "data_2025 = pd.read_excel(file_path, sheet_name='2025')\n",
    "data_2024 = pd.read_excel(file_path, sheet_name='2024')\n",
    "\n",
    "# 열 이름 공백 제거\n",
    "data_2025.columns = data_2025.columns.str.strip()\n",
    "data_2024.columns = data_2024.columns.str.strip()\n",
    "\n",
    "# 비교 대상 열 설정\n",
    "columns_2025 = ['시군', '시설명']\n",
    "columns_2024 = ['시군', '시설명']\n",
    "\n",
    "# 필요한 열만 필터링\n",
    "data_2025_filtered = data_2025[columns_2025]\n",
    "data_2024_filtered = data_2024[columns_2024]\n",
    "\n",
    "# 2025 데이터에 \"2024년 검사 완료\" 여부 추가\n",
    "data_2025['2024년 검사 완료'] = data_2025_filtered.apply(\n",
    "    lambda row: '2024년 검사 완료' if ((data_2024_filtered['시군'] == row['시군']) & \n",
    "                                      (data_2024_filtered['시설명'] == row['시설명'])).any() else '', axis=1\n",
    ")\n",
    "\n",
    "# 업데이트된 데이터를 새로운 Excel 파일로 저장\n",
    "data_2025.to_excel(output_file_path, index=False)\n",
    "\n",
    "print(f\"파일이 저장되었습니다: {output_file_path}\")\n"
   ]
  }
 ],
 "metadata": {
  "kernelspec": {
   "display_name": "Python 3",
   "language": "python",
   "name": "python3"
  },
  "language_info": {
   "codemirror_mode": {
    "name": "ipython",
    "version": 3
   },
   "file_extension": ".py",
   "mimetype": "text/x-python",
   "name": "python",
   "nbconvert_exporter": "python",
   "pygments_lexer": "ipython3",
   "version": "3.13.0"
  }
 },
 "nbformat": 4,
 "nbformat_minor": 2
}
