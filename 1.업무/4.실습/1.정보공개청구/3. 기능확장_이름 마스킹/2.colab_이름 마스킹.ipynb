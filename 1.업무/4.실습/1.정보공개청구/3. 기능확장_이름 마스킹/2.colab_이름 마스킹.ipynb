{
 "cells": [
  {
   "cell_type": "code",
   "execution_count": null,
   "id": "58e0c492",
   "metadata": {},
   "outputs": [],
   "source": [
    "# 1. openpyxl 설치 (처음 1회만)\n",
    "# !pip install openpyxl\n",
    "\n",
    "# 2. 필요한 라이브러리 불러오기\n",
    "import pandas as pd\n",
    "from google.colab import files\n",
    "\n",
    "# 3. 사용자로부터 엑셀 파일 업로드 받기\n",
    "uploaded = files.upload()  # 엑셀파일 선택해서 업로드\n",
    "\n",
    "# 4. 업로드한 파일명 자동으로 가져오기\n",
    "file_name = next(iter(uploaded))  # 업로드된 첫 파일의 이름\n",
    "\n",
    "# 5. 엑셀 파일 불러오기\n",
    "df = pd.read_excel(file_name)\n",
    "\n",
    "# 6. 이름 마스킹 함수 정의\n",
    "def mask_name(name):\n",
    "    if isinstance(name, str) and len(name) > 1:\n",
    "        return name[0] + '0' * (len(name) - 1)\n",
    "    return name\n",
    "\n",
    "# 7. '이름' 컬럼 덮어쓰기 (이름을 마스킹한 값으로 대체)\n",
    "if '이름' in df.columns:\n",
    "    df['이름'] = df['이름'].apply(mask_name)\n",
    "    print(\"✅ 이름 마스킹 후 덮어쓰기 완료.\")\n",
    "else:\n",
    "    raise ValueError(\"❌ 엑셀 파일에 '이름'이라는 컬럼이 존재하지 않습니다.\")\n",
    "\n",
    "# 8. 결과 미리보기\n",
    "display(df[['이름']].head())\n",
    "\n",
    "# 9. 결과 저장 및 다운로드\n",
    "output_file = 'masked_name_overwritten.xlsx'\n",
    "df.to_excel(output_file, index=False)\n",
    "files.download(output_file)\n"
   ]
  }
 ],
 "metadata": {
  "language_info": {
   "name": "python"
  }
 },
 "nbformat": 4,
 "nbformat_minor": 5
}
