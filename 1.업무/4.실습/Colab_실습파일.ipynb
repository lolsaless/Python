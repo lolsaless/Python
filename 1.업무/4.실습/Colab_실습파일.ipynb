{
  "nbformat": 4,
  "nbformat_minor": 0,
  "metadata": {
    "colab": {
      "provenance": []
    },
    "kernelspec": {
      "name": "python3",
      "display_name": "Python 3"
    },
    "language_info": {
      "name": "python"
    }
  },
  "cells": [
    {
      "cell_type": "markdown",
      "source": [
        "## 1. 정보공개청구"
      ],
      "metadata": {
        "id": "ywZvu7fTjH-w"
      }
    },
    {
      "cell_type": "markdown",
      "source": [
        "### 1-1. 출장기록 정리"
      ],
      "metadata": {
        "id": "MhZyKU0gkuTb"
      }
    },
    {
      "cell_type": "code",
      "source": [
        "import pandas as pd\n",
        "import io\n",
        "\n",
        "# 파일을 구글 코랩에 업로드합니다.\n",
        "from google.colab import files\n",
        "uploaded = files.upload()\n",
        "filename = list(uploaded.keys())[0]\n",
        "\n",
        "# 엑셀 파일을 읽어옵니다.\n",
        "# If the file is .xls, use 'xlrd' engine\n",
        "if filename.endswith('.xls'):\n",
        "    raw_data = pd.read_excel(io.BytesIO(uploaded[filename]), engine='xlrd')\n",
        "# If the file is .xlsx, use 'openpyxl' engine\n",
        "elif filename.endswith('.xlsx'):\n",
        "    raw_data = pd.read_excel(io.BytesIO(uploaded[filename]), engine='openpyxl')\n",
        "else:\n",
        "    raise ValueError(f\"Unsupported file format: {filename}\")\n",
        "\n",
        "# 데이터 처리를 시작합니다.\n",
        "raw_data = raw_data[pd.to_numeric(raw_data.iloc[:,0], errors='coerce').notna()]\n",
        "raw_data[['출발일시', '도착일시']] = raw_data['출장기간'].str.split(' ~ ', expand=True)\n",
        "raw_data[['출발일', '출발시간']] = raw_data['출발일시'].str.split(pat=' ', n=1, expand=True)\n",
        "raw_data[['도착일', '도착시간']] = raw_data['도착일시'].str.split(pat=' ', n=1, expand=True)\n",
        "raw_data[['이름', '코드']] = raw_data['성명'].str.split(pat='(', n=1, expand=True)\n",
        "raw_data['코드'] = raw_data['코드'].str.replace(')', '')\n",
        "\n",
        "# 필요없는 열을 삭제하고 원하는 순서대로 정렬합니다.\n",
        "desired_order = [\"순번\", \"소속/직급\", \"성명\", \"이름\", \"코드\", \"출발일\", \"출발시간\", \"도착일\", \"도착시간\",\n",
        "                 \"총출장시간\", \"구분\", \"공용차량\", \"출장지\", \"출장목적\", \"여비등급\", \"일비\", \"식비\", \"숙박비\",\n",
        "                 \"교통비\", \"기타\", \"합계\", \"청구액\\n(수령액)\"]\n",
        "\n",
        "df_reordered = raw_data[desired_order]\n",
        "\n",
        "# 결과를 엑셀 파일로 저장하고 다운로드합니다.\n",
        "output_path = 'cleaned_data_colab.xlsx'\n",
        "df_reordered.to_excel(output_path, index=False)\n",
        "files.download(output_path)"
      ],
      "metadata": {
        "id": "Oj226HAljFxR"
      },
      "execution_count": null,
      "outputs": []
    },
    {
      "cell_type": "code",
      "source": [
        "import shutil\n",
        "import os\n",
        "\n",
        "# /content 폴더 내 모든 파일과 폴더 삭제\n",
        "folder_path = '/content'\n",
        "\n",
        "for filename in os.listdir(folder_path):\n",
        "    file_path = os.path.join(folder_path, filename)\n",
        "    try:\n",
        "        if os.path.isfile(file_path) or os.path.islink(file_path):\n",
        "            os.remove(file_path)  # 파일 또는 링크 삭제\n",
        "        elif os.path.isdir(file_path):\n",
        "            shutil.rmtree(file_path)  # 폴더 삭제\n",
        "    except Exception as e:\n",
        "        print(f'Failed to delete {file_path}. Reason: {e}')\n"
      ],
      "metadata": {
        "id": "FQpOvNnom1Dc"
      },
      "execution_count": 5,
      "outputs": []
    },
    {
      "cell_type": "markdown",
      "source": [
        "### 1-2. 이름 마스킹 하기"
      ],
      "metadata": {
        "id": "BFp2YhbkkaqC"
      }
    },
    {
      "cell_type": "code",
      "source": [
        "# 1. openpyxl 설치 (처음 1회만)\n",
        "# !pip install openpyxl\n",
        "\n",
        "# 2. 필요한 라이브러리 불러오기\n",
        "import pandas as pd\n",
        "from google.colab import files\n",
        "\n",
        "# 3. 사용자로부터 엑셀 파일 업로드 받기\n",
        "uploaded = files.upload()  # 엑셀파일 선택해서 업로드\n",
        "\n",
        "# 4. 업로드한 파일명 자동으로 가져오기\n",
        "file_name = next(iter(uploaded))  # 업로드된 첫 파일의 이름\n",
        "\n",
        "# 5. 엑셀 파일 불러오기\n",
        "df = pd.read_excel(file_name)\n",
        "\n",
        "# 6. 이름 마스킹 함수 정의\n",
        "def mask_name(name):\n",
        "    if isinstance(name, str) and len(name) > 1:\n",
        "        return name[0] + '0' * (len(name) - 1)\n",
        "    return name\n",
        "\n",
        "# 7. '이름' 컬럼 덮어쓰기 (이름을 마스킹한 값으로 대체)\n",
        "if '이름' in df.columns:\n",
        "    df['이름'] = df['이름'].apply(mask_name)\n",
        "    print(\"✅ 이름 마스킹 후 덮어쓰기 완료.\")\n",
        "else:\n",
        "    raise ValueError(\"❌ 엑셀 파일에 '이름'이라는 컬럼이 존재하지 않습니다.\")\n",
        "\n",
        "# 8. 결과 미리보기\n",
        "display(df[['이름']].head())\n",
        "\n",
        "# 9. 결과 저장 및 다운로드\n",
        "output_file = 'masked_name_overwritten.xlsx'\n",
        "df.to_excel(output_file, index=False)\n",
        "files.download(output_file)\n"
      ],
      "metadata": {
        "id": "1FeqEUDUk2yh"
      },
      "execution_count": null,
      "outputs": []
    },
    {
      "cell_type": "code",
      "source": [
        "import shutil\n",
        "import os\n",
        "\n",
        "# /content 폴더 내 모든 파일과 폴더 삭제\n",
        "folder_path = '/content'\n",
        "\n",
        "for filename in os.listdir(folder_path):\n",
        "    file_path = os.path.join(folder_path, filename)\n",
        "    try:\n",
        "        if os.path.isfile(file_path) or os.path.islink(file_path):\n",
        "            os.remove(file_path)  # 파일 또는 링크 삭제\n",
        "        elif os.path.isdir(file_path):\n",
        "            shutil.rmtree(file_path)  # 폴더 삭제\n",
        "    except Exception as e:\n",
        "        print(f'Failed to delete {file_path}. Reason: {e}')\n"
      ],
      "metadata": {
        "id": "-xdAmyspm375"
      },
      "execution_count": null,
      "outputs": []
    },
    {
      "cell_type": "markdown",
      "source": [
        "## 2. 실내공기질 실적 처리"
      ],
      "metadata": {
        "id": "k6t_Ff7elkqe"
      }
    },
    {
      "cell_type": "markdown",
      "source": [
        "### 2-1. 데이터 병합, 추출"
      ],
      "metadata": {
        "id": "8rm0af2Ylo6X"
      }
    },
    {
      "cell_type": "code",
      "source": [
        "import pandas as pd\n",
        "\n",
        "# 데이터를 읽어오기(실험노트, 조회통계 자료 excel통합문서 양식으로 저장한 다음 저장)\n",
        "data_df = pd.read_excel('실험노트.xlsx')\n",
        "result_df = pd.read_excel('조회통계.xlsx')\n",
        "\n",
        "# '접수번호'를 기준으로 데이터 병합\n",
        "merged_df = pd.merge(data_df, result_df, on='접수번호', how='inner')\n",
        "\n",
        "# 병합된 데이터를 Excel 파일로 저장\n",
        "merged_df.to_excel('1.병합 데이터.xlsx', index=False)\n",
        "\n",
        "# 병합 데이터에서 '실내공기질'이 포함된 데이터만 필터링\n",
        "filtered_df = merged_df[merged_df['검체유형_x'].str.contains('실내공기질', na=False)]\n",
        "\n",
        "# 필터링된 데이터 확인\n",
        "print(filtered_df.head())\n",
        "\n",
        "# 대기 제외, 실내공기질만 필터링된 데이터를 Excel 파일로 저장\n",
        "filtered_df.to_excel('2.실내공기질 필터링 데이터.xlsx', index=False)\n",
        "\n",
        "# '시설군' 컬럼 추가 (검체유형_x 열에서 파생)\n",
        "filtered_df['시설군'] = filtered_df['검체유형_x'].str.split('/').str[2]\n",
        "\n",
        "# 지정된 열 선택(필요한 변수만 추출)\n",
        "selected_columns = [\n",
        "    '의뢰기관', '시설군', '배출시설', '시설명', '채취장소_x', '시료명_x',\n",
        "    'PM10', 'PM2.5', 'CO2', '폼알데하이드', '부유세균', '일산화탄소', '라돈', '라돈(밀폐)', '벤젠', '톨루엔', '에틸벤젠', '자일렌', '스틸렌', '부적합항목', '확인일', '검사결과','접수번호', '접수일자'\n",
        "]\n",
        "\n",
        "# 해당 열만 포함된 새 DataFrame 생성\n",
        "extracted_df = filtered_df[selected_columns]\n",
        "\n",
        "# 필요한 경우, 데이터를 Excel 파일로 저장\n",
        "extracted_df.to_excel('3.추출 데이터.xlsx', index=False)\n",
        "\n",
        "# 데이터 확인\n",
        "print(extracted_df.head())\n"
      ],
      "metadata": {
        "id": "e_7wqSNzlnOT"
      },
      "execution_count": null,
      "outputs": []
    },
    {
      "cell_type": "markdown",
      "source": [
        "### 2. 기존 신축 공동주택 추출"
      ],
      "metadata": {
        "id": "BQamTY9ulrTj"
      }
    },
    {
      "cell_type": "code",
      "source": [
        "import pandas as pd\n",
        "\n",
        "# 엑셀 파일 로드\n",
        "file_path = '3.추출 데이터.xlsx'\n",
        "df = pd.read_excel(file_path, sheet_name='Sheet1')\n",
        "\n",
        "# 열 이름 변경\n",
        "rename_columns = {\n",
        "    '의뢰기관': '시군명',\n",
        "    '배출시설': '세부시설군',\n",
        "    '채취장소_x': '주소',\n",
        "    'PM10': '미세먼지(PM10)',\n",
        "    'PM2.5': '초미세먼지(PM2.5)',\n",
        "    'CO2': '이산화탄소',\n",
        "    '부유세균': '총부유세균',\n",
        "    '시료명_x': '시료명'\n",
        "}\n",
        "\n",
        "df.rename(columns=rename_columns, inplace=True)\n",
        "\n",
        "# '시설군'에서 '기존공동주택'과 '신축공동주택'만 필터링\n",
        "filtered_df = df[df['시설군'].isin(['기존공동주택', '신축공동주택'])]\n",
        "\n",
        "# 열 순서 정의 및 데이터 정렬\n",
        "desired_column_order = [\n",
        "    '시군명', '시설군', '시설명', '세부시설군', '주소', '시료명', '검사결과', '부적합항목', '접수일자',\n",
        "    '확인일', '접수번호_10자리', '접수번호', '채취지점', '미세먼지(PM10)', '초미세먼지(PM2.5)',\n",
        "    '이산화탄소', '폼알데하이드', '총부유세균', '일산화탄소','라돈', '라돈(밀폐)', '벤젠', '톨루엔',\n",
        "    '에틸벤젠', '자일렌', '스틸렌'\n",
        "]\n",
        "\n",
        "# 실제 데이터에 존재하는 열만 선택하도록 처리\n",
        "filtered_df = filtered_df[[col for col in desired_column_order if col in filtered_df.columns]]\n",
        "\n",
        "# 필터링된 데이터 출력 또는 저장\n",
        "filtered_df.to_excel('4.기존신축공동주택 데이터.xlsx', index=False)\n",
        "\n",
        "print(filtered_df)"
      ],
      "metadata": {
        "id": "IVZSLlz_lwbO"
      },
      "execution_count": null,
      "outputs": []
    },
    {
      "cell_type": "markdown",
      "source": [
        "### 2-3. 다중이용시설 데이터 처리"
      ],
      "metadata": {
        "id": "Q02351ntlxc5"
      }
    },
    {
      "cell_type": "code",
      "source": [
        "import pandas as pd\n",
        "\n",
        "# 데이터 파일 로드\n",
        "file_path = '3.추출 데이터.xlsx'\n",
        "data = pd.read_excel(file_path)\n",
        "\n",
        "# 열 이름 변경\n",
        "rename_columns = {\n",
        "    '의뢰기관': '시군명',\n",
        "    '배출시설': '세부시설군',\n",
        "    '채취장소_x': '주소',\n",
        "    'PM10': '미세먼지(PM10)',\n",
        "    'PM2.5': '초미세먼지(PM2.5)',\n",
        "    'CO2': '이산화탄소',\n",
        "    '부유세균': '총부유세균'\n",
        "}\n",
        "data.rename(columns=rename_columns, inplace=True)\n",
        "\n",
        "# 텍스트 데이터를 숫자로 변환 및 \"불검출\" 처리\n",
        "columns_to_clean = ['미세먼지(PM10)', '초미세먼지(PM2.5)', '이산화탄소', '폼알데하이드', '총부유세균', '일산화탄소', '라돈', '벤젠', '톨루엔', '에틸벤젠', '자일렌', '스틸렌']\n",
        "for col in columns_to_clean:\n",
        "    if col in data.columns:\n",
        "        data[col] = data[col].replace(\"불검출\", None)  # \"불검출\"을 NaN으로 처리\n",
        "        data[col] = pd.to_numeric(data[col], errors='coerce')  # 숫자로 변환 가능한 값만 남김\n",
        "\n",
        "# 접수번호의 앞 10자리를 기준으로 새로운 열 생성\n",
        "data['접수번호_10자리'] = data['접수번호'].str[:10]\n",
        "\n",
        "# 수치 데이터의 평균 계산 (접수번호의 앞 10자리를 기준으로)\n",
        "numeric_columns = ['미세먼지(PM10)', '초미세먼지(PM2.5)', '이산화탄소', '폼알데하이드', '총부유세균', '일산화탄소', '라돈']\n",
        "data_avg = data.groupby(['시설명', '접수번호_10자리']).agg({col: 'mean' for col in numeric_columns if col in data.columns}).reset_index()\n",
        "\n",
        "# 시료명 데이터 결합 및 채취지점 생성\n",
        "data['채취지점'] = data.groupby('시설명')['시료명_x'].transform(lambda x: ', '.join(x.unique()))\n",
        "\n",
        "# 채취지점 데이터와 합치기\n",
        "columns_to_drop = numeric_columns + ['미세먼지(PM10_1)', '초미세먼지(PM2.5_1)', '미세먼지(PM10_2)', '초미세먼지(PM2.5_2)', 'CO2', '이산화탄소', '일산화탄소']\n",
        "columns_to_drop = [col for col in columns_to_drop if col in data.columns]  # 실제 존재하는 열만 제거\n",
        "data_merged = data_avg.merge(data.drop(columns=columns_to_drop).drop_duplicates(['시설명', '접수번호_10자리']), on=['시설명', '접수번호_10자리'])\n",
        "\n",
        "# 불필요한 시료명_x 열 제거\n",
        "if '시료명_x' in data_merged.columns:\n",
        "    data_merged.drop(columns='시료명_x', inplace=True)\n",
        "\n",
        "# 1. 검사결과가 '적합'이면 부적합항목을 빈칸으로 설정\n",
        "data_merged.loc[data_merged['검사결과'] == '적합', '부적합항목'] = \"\"\n",
        "\n",
        "# 2. '시설군'에서 '기존공동주택', '신축공동주택' 제거\n",
        "data_filtered = data_merged[~data_merged['시설군'].isin(['기존공동주택', '신축공동주택'])]\n",
        "\n",
        "# 열 순서 정의 및 데이터 정렬\n",
        "desired_column_order = [\n",
        "    '시군명', '시설군', '시설명', '세부시설군', '주소', '검사결과', '부적합항목', '접수일자',\n",
        "    '확인일', '접수번호_10자리', '접수번호', '채취지점', '미세먼지(PM10)', '초미세먼지(PM2.5)',\n",
        "    '이산화탄소', '폼알데하이드', '총부유세균', '일산화탄소', '라돈', '라돈(밀폐)', '벤젠', '톨루엔',\n",
        "    '에틸벤젠', '자일렌', '스틸렌'\n",
        "]\n",
        "\n",
        "# 열 순서 변경 및 데이터 정렬\n",
        "data_sorted = data_filtered[desired_column_order].sort_values(by=['시군명', '시설군', '세부시설군', '시설명', '주소', '채취지점'])\n",
        "\n",
        "# 결과 파일로 저장 (xlsx 파일로 저장)\n",
        "output_path = '5.다중이용시설 데이터.xlsx'\n",
        "data_sorted.to_excel(output_path, index=False)\n"
      ],
      "metadata": {
        "id": "fIheAmcmlz-I"
      },
      "execution_count": null,
      "outputs": []
    },
    {
      "cell_type": "markdown",
      "source": [
        "### 2-4. 데이터 통합"
      ],
      "metadata": {
        "id": "82IBhVARl3nC"
      }
    },
    {
      "cell_type": "code",
      "source": [
        "import pandas as pd\n",
        "from openpyxl import load_workbook\n",
        "from openpyxl.utils import get_column_letter\n",
        "from openpyxl.styles import Font\n",
        "\n",
        "# 두 개의 엑셀 파일 로드\n",
        "file_1 = '4.기존신축공동주택 데이터.xlsx'\n",
        "file_2 = '5.다중이용시설 데이터.xlsx'\n",
        "\n",
        "# 각 파일의 데이터를 불러옴\n",
        "df1 = pd.read_excel(file_1)\n",
        "df2 = pd.read_excel(file_2)\n",
        "\n",
        "# 1. 숫자 데이터를 올바른 형식으로 변환\n",
        "def convert_numeric_with_preservation(df, columns):\n",
        "    for col in columns:\n",
        "        df[col] = pd.to_numeric(df[col], errors='coerce').combine_first(df[col])  # 숫자로 변환 가능한 값은 숫자로 변환, 나머지는 그대로 유지\n",
        "    return df\n",
        "\n",
        "# 변환할 열 리스트\n",
        "columns_to_convert = ['벤젠', '톨루엔', '에틸벤젠', '자일렌', '스틸렌']\n",
        "\n",
        "# 기존신축공동주택 시트 데이터에 변환 적용\n",
        "df1 = convert_numeric_with_preservation(df1, columns_to_convert)\n",
        "\n",
        "# 2. 확인일 변수를 날짜 형식으로 변환하고, 시간 제거 및 데이터프레임을 오름차순으로 정렬\n",
        "def sort_by_date(df, date_column):\n",
        "    # '확인일'을 날짜 형식으로 변환 (시간 제거)\n",
        "    df[date_column] = pd.to_datetime(df[date_column], errors='coerce').dt.date  # 날짜만 남기고 시간 제거\n",
        "    df = df.sort_values(by=date_column, ascending=True)  # 오름차순 정렬\n",
        "    return df\n",
        "\n",
        "# 확인일 기준 정렬 적용\n",
        "df1 = sort_by_date(df1, '확인일')\n",
        "df2 = sort_by_date(df2, '확인일')\n",
        "\n",
        "# 3. 다중이용시설 데이터에서 \"접수번호\" 변수 제거\n",
        "if '접수번호' in df2.columns:\n",
        "    df2 = df2.drop(columns=['접수번호'])\n",
        "\n",
        "# 결과를 하나의 엑셀 파일로 저장 (두 개의 시트에 각각 저장)\n",
        "output_file = '6.통합 데이터.xlsx'\n",
        "with pd.ExcelWriter(output_file, engine='openpyxl') as writer:\n",
        "    df2.to_excel(writer, sheet_name='다중이용시설', index=False)  # 결과를 시트1에 저장\n",
        "    df1.to_excel(writer, sheet_name='기존신축공동주택', index=False)  # 기존, 신축공동주택 데이터를 시트2에 저장\n",
        "\n",
        "# 저장된 엑셀 파일을 다시 불러옴\n",
        "wb = load_workbook(output_file)\n",
        "\n",
        "# 각 시트에 대해 서식 지정\n",
        "for sheet in wb.sheetnames:\n",
        "    ws = wb[sheet]\n",
        "\n",
        "    # 글자 크기를 10으로 설정\n",
        "    for row in ws.iter_rows():\n",
        "        for cell in row:\n",
        "            cell.font = Font(size=10)\n",
        "\n",
        "    # 모든 열의 너비를 11로 고정\n",
        "    for col in ws.columns:\n",
        "        column = col[0].column_letter  # 열 이름 가져오기 (A, B, C...)\n",
        "        ws.column_dimensions[column].width = 11  # 열 너비 고정\n",
        "\n",
        "# 파일 저장\n",
        "wb.save(output_file)\n",
        "\n",
        "print(\"엑셀 파일이 서식과 함께 '6.통합 데이터.xlsx'로 저장되었습니다.\")"
      ],
      "metadata": {
        "id": "yuf1MXa0l7oB"
      },
      "execution_count": null,
      "outputs": []
    },
    {
      "cell_type": "code",
      "source": [
        "import shutil\n",
        "import os\n",
        "\n",
        "# /content 폴더 내 모든 파일과 폴더 삭제\n",
        "folder_path = '/content'\n",
        "\n",
        "for filename in os.listdir(folder_path):\n",
        "    file_path = os.path.join(folder_path, filename)\n",
        "    try:\n",
        "        if os.path.isfile(file_path) or os.path.islink(file_path):\n",
        "            os.remove(file_path)  # 파일 또는 링크 삭제\n",
        "        elif os.path.isdir(file_path):\n",
        "            shutil.rmtree(file_path)  # 폴더 삭제\n",
        "    except Exception as e:\n",
        "        print(f'Failed to delete {file_path}. Reason: {e}')\n"
      ],
      "metadata": {
        "id": "CmbMU0kjm5_1"
      },
      "execution_count": null,
      "outputs": []
    },
    {
      "cell_type": "markdown",
      "source": [
        "## 3. 출장지 선정"
      ],
      "metadata": {
        "id": "iMn1MOotmLPq"
      }
    },
    {
      "cell_type": "markdown",
      "source": [
        "### 3-1. 중복시설 제거"
      ],
      "metadata": {
        "id": "4k5t6CjSmN4s"
      }
    },
    {
      "cell_type": "code",
      "source": [
        "import pandas as pd\n",
        "\n",
        "# 파일 경로 설정\n",
        "file_path = '다중이용시설 실내공기질 검사 대상시설.xlsx'  # 원본 파일 경로\n",
        "output_file_path = 'updated 대상시설.xlsx'  # 저장할 파일 경로\n",
        "\n",
        "# Excel 파일 읽기\n",
        "data_2025 = pd.read_excel(file_path, sheet_name='2025')\n",
        "data_2024 = pd.read_excel(file_path, sheet_name='2024')\n",
        "\n",
        "# 열 이름 공백 제거\n",
        "data_2025.columns = data_2025.columns.str.strip()\n",
        "data_2024.columns = data_2024.columns.str.strip()\n",
        "\n",
        "# 비교 대상 열 설정\n",
        "columns_2025 = ['시군', '시설명']\n",
        "columns_2024 = ['시군', '시설명']\n",
        "\n",
        "# 필요한 열만 필터링\n",
        "data_2025_filtered = data_2025[columns_2025]\n",
        "data_2024_filtered = data_2024[columns_2024]\n",
        "\n",
        "# 2025 데이터에 \"2024년 검사 완료\" 여부 추가\n",
        "data_2025['2024년 검사 완료'] = data_2025_filtered.apply(\n",
        "    lambda row: '2024년 검사 완료' if ((data_2024_filtered['시군'] == row['시군']) &\n",
        "                                      (data_2024_filtered['시설명'] == row['시설명'])).any() else '', axis=1\n",
        ")\n",
        "\n",
        "# 업데이트된 데이터를 새로운 Excel 파일로 저장\n",
        "data_2025.to_excel(output_file_path, index=False)\n",
        "\n",
        "print(f\"파일이 저장되었습니다: {output_file_path}\")\n"
      ],
      "metadata": {
        "colab": {
          "base_uri": "https://localhost:8080/"
        },
        "id": "7LfWUdq9mNOd",
        "outputId": "3370a971-a84e-4538-f113-61c27e562ea5"
      },
      "execution_count": 1,
      "outputs": [
        {
          "output_type": "stream",
          "name": "stdout",
          "text": [
            "파일이 저장되었습니다: updated 대상시설.xlsx\n"
          ]
        }
      ]
    },
    {
      "cell_type": "code",
      "source": [
        "import shutil\n",
        "import os\n",
        "\n",
        "# /content 폴더 내 모든 파일과 폴더 삭제\n",
        "folder_path = '/content'\n",
        "\n",
        "for filename in os.listdir(folder_path):\n",
        "    file_path = os.path.join(folder_path, filename)\n",
        "    try:\n",
        "        if os.path.isfile(file_path) or os.path.islink(file_path):\n",
        "            os.remove(file_path)  # 파일 또는 링크 삭제\n",
        "        elif os.path.isdir(file_path):\n",
        "            shutil.rmtree(file_path)  # 폴더 삭제\n",
        "    except Exception as e:\n",
        "        print(f'Failed to delete {file_path}. Reason: {e}')\n"
      ],
      "metadata": {
        "id": "Dtuz_ld0m8kP"
      },
      "execution_count": 2,
      "outputs": []
    },
    {
      "cell_type": "markdown",
      "source": [
        "## 4. 유튜브 영상 다운로드"
      ],
      "metadata": {
        "id": "iwp8R5Tdmacx"
      }
    },
    {
      "cell_type": "code",
      "source": [
        "pip install yt_dlp xlsxwriter"
      ],
      "metadata": {
        "id": "aEbCw5avmcpk"
      },
      "execution_count": null,
      "outputs": []
    },
    {
      "cell_type": "code",
      "source": [
        "import yt_dlp\n",
        "import xlsxwriter\n",
        "import os\n",
        "\n",
        "url = \"https://youtu.be/cAL-Z_FfObI?si=ZxsGC75_kqkHLRPn\"\n",
        "\n",
        "# Define options to list available formats\n",
        "list_opts = {\n",
        "    'listformats': False,  # Do not use the built-in listformats to allow more detailed output\n",
        "}\n",
        "\n",
        "try:\n",
        "    # List available formats\n",
        "    with yt_dlp.YoutubeDL(list_opts) as ydl:\n",
        "        info = ydl.extract_info(url, download=False)\n",
        "        formats = info.get('formats', [])\n",
        "        print(\"Available formats:\")\n",
        "\n",
        "        # Create a workbook and add a worksheet\n",
        "        workbook = xlsxwriter.Workbook('available_formats.xlsx')\n",
        "        worksheet = workbook.add_worksheet()\n",
        "\n",
        "        # Write headers\n",
        "        worksheet.write('A1', 'Format ID')\n",
        "        worksheet.write('B1', 'Resolution')\n",
        "        worksheet.write('C1', 'Filesize')\n",
        "        worksheet.write('D1', 'Note')\n",
        "        worksheet.write('E1', 'Type')\n",
        "        worksheet.write('F1', 'Extension')\n",
        "\n",
        "        # Write format details to worksheet\n",
        "        row = 1\n",
        "        for f in formats:\n",
        "            format_id = f['format_id']\n",
        "            resolution = f.get('height', 'audio only') if 'height' in f else 'unknown'\n",
        "            filesize = f.get('filesize', 'unknown')\n",
        "            format_note = f.get('format_note', 'unknown')\n",
        "            ext = f.get('ext', 'unknown')\n",
        "            media_type = 'audio' if f.get('vcodec', 'none') == 'none' else 'video'\n",
        "\n",
        "            # Print to console\n",
        "            print(f\"Format ID: {format_id}, Resolution: {resolution}, Filesize: {filesize}, Note: {format_note}, Type: {media_type}, Extension: {ext}\")\n",
        "\n",
        "            # Write to Excel file\n",
        "            worksheet.write(row, 0, format_id)\n",
        "            worksheet.write(row, 1, resolution)\n",
        "            worksheet.write(row, 2, filesize)\n",
        "            worksheet.write(row, 3, format_note)\n",
        "            worksheet.write(row, 4, media_type)\n",
        "            worksheet.write(row, 5, ext)\n",
        "            row += 1\n",
        "\n",
        "        # Close the workbook\n",
        "        workbook.close()\n",
        "        print(\"Format list saved to available_formats.xlsx\")\n",
        "\n",
        "    # Prompt the user to select a video format\n",
        "    selected_video_format = input(\"Enter the video format ID you want to download: \")\n",
        "\n",
        "    # Find the selected video format in the formats list\n",
        "    video_format = next((f for f in formats if f['format_id'] == selected_video_format), None)\n",
        "    if not video_format:\n",
        "        raise ValueError(\"Invalid video format ID selected.\")\n",
        "\n",
        "    # Define options to download the selected video format with throttled download speed\n",
        "    video_output = 'video_only.' + video_format['ext']\n",
        "    ydl_opts_video = {\n",
        "        'format': selected_video_format,  # Use the selected format ID for video\n",
        "        'outtmpl': video_output,  # Output file name format for video\n",
        "        'ratelimit': 500000,  # Limit download speed to 500 KB/s\n",
        "    }\n",
        "\n",
        "    # Download the video in the selected format\n",
        "    with yt_dlp.YoutubeDL(ydl_opts_video) as ydl:\n",
        "        ydl.download([url])\n",
        "    print(\"Video downloaded successfully!\")\n",
        "\n",
        "    # Prompt the user to select an audio format\n",
        "    selected_audio_format = input(\"Enter the audio format ID you want to download: \")\n",
        "\n",
        "    # Find the selected audio format in the formats list\n",
        "    audio_format = next((f for f in formats if f['format_id'] == selected_audio_format), None)\n",
        "    if not audio_format:\n",
        "        raise ValueError(\"Invalid audio format ID selected.\")\n",
        "\n",
        "    # Define options to download the selected audio format\n",
        "    audio_output = 'audio_only.' + audio_format['ext']\n",
        "    ydl_opts_audio = {\n",
        "        'format': selected_audio_format,  # Use the selected format ID for audio\n",
        "        'outtmpl': audio_output,  # Output file name format for audio\n",
        "        'ratelimit': 500000,  # Limit download speed to 500 KB/s\n",
        "    }\n",
        "\n",
        "    # Download the audio in the selected format\n",
        "    with yt_dlp.YoutubeDL(ydl_opts_audio) as ydl:\n",
        "        ydl.download([url])\n",
        "    print(\"Audio downloaded successfully!\")\n",
        "\n",
        "    # Merge video and audio using ffmpeg\n",
        "    merged_output = 'final_output.mp4'\n",
        "    os.system(f\"ffmpeg -i {video_output} -i {audio_output} -c:v copy -c:a aac -strict experimental {merged_output}\")\n",
        "    print(f\"Video and audio merged successfully into {merged_output}!\")\n",
        "\n",
        "except Exception as e:\n",
        "    print(f\"An error occurred: {e}\")\n"
      ],
      "metadata": {
        "id": "O6e7QaQGmdfK"
      },
      "execution_count": null,
      "outputs": []
    }
  ]
}