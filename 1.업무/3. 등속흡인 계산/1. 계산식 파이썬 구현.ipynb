{
 "cells": [
  {
   "cell_type": "markdown",
   "metadata": {},
   "source": [
    "### 1. 수분량 계산"
   ]
  },
  {
   "cell_type": "code",
   "execution_count": 1,
   "metadata": {},
   "outputs": [
    {
     "name": "stdout",
     "output_type": "stream",
     "text": [
      "Calculated X_w: 155.10\n"
     ]
    }
   ],
   "source": [
    "def calculate_X_w(m_a, theta_m, p_a, p_s):\n",
    "    # Constants\n",
    "    V_m = 22.4  # Standard molar volume in liters\n",
    "    molecular_weight_ratio = 22.4 / 18  # Ratio of molar volume of gas to water\n",
    "\n",
    "    # Numerator\n",
    "    numerator = molecular_weight_ratio * m_a\n",
    "\n",
    "    # Denominator\n",
    "    denominator = (\n",
    "        V_m *\n",
    "        (273 / (273 + theta_m)) *\n",
    "        ((p_a + p_s) / 760) *\n",
    "        molecular_weight_ratio *\n",
    "        m_a\n",
    "    )\n",
    "\n",
    "    # X_w calculation\n",
    "    X_w = (numerator / denominator) * 100\n",
    "\n",
    "    return X_w\n",
    "\n",
    "# Example input\n",
    "m_a = float(input(\"Enter m_a (mass of air in g): \"))\n",
    "theta_m = float(input(\"Enter theta_m (temperature in °C): \"))\n",
    "p_a = float(input(\"Enter p_a (partial pressure of air in mmHg): \"))\n",
    "p_s = float(input(\"Enter p_s (partial pressure of water vapor in mmHg): \"))\n",
    "\n",
    "# Calculate X_w\n",
    "result = calculate_X_w(m_a, theta_m, p_a, p_s)\n",
    "print(f\"Calculated X_w: {result:.2f}\")\n"
   ]
  },
  {
   "cell_type": "code",
   "execution_count": null,
   "metadata": {},
   "outputs": [],
   "source": []
  }
 ],
 "metadata": {
  "kernelspec": {
   "display_name": "Python 3",
   "language": "python",
   "name": "python3"
  },
  "language_info": {
   "codemirror_mode": {
    "name": "ipython",
    "version": 3
   },
   "file_extension": ".py",
   "mimetype": "text/x-python",
   "name": "python",
   "nbconvert_exporter": "python",
   "pygments_lexer": "ipython3",
   "version": "3.13.0"
  }
 },
 "nbformat": 4,
 "nbformat_minor": 2
}
