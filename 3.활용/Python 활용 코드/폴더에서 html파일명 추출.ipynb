{
 "cells": [
  {
   "cell_type": "code",
   "execution_count": 1,
   "id": "1f67de26",
   "metadata": {},
   "outputs": [
    {
     "name": "stdout",
     "output_type": "stream",
     "text": [
      "엑셀 파일이 저장되었습니다: C:\\Users\\waste\\Documents\\티스토리 백업 파일\\html_file_list.xlsx\n"
     ]
    }
   ],
   "source": [
    "import os\n",
    "import re\n",
    "import pandas as pd\n",
    "\n",
    "# 경로 설정\n",
    "base_path = r'C:\\Users\\waste\\Documents\\티스토리 백업 파일'\n",
    "\n",
    "# 숫자로 된 폴더만 필터링\n",
    "folders = [f for f in os.listdir(base_path) if os.path.isdir(os.path.join(base_path, f)) and re.fullmatch(r'\\d+', f)]\n",
    "\n",
    "# HTML 파일 이름 수집\n",
    "data = []\n",
    "\n",
    "for folder in folders:\n",
    "    folder_path = os.path.join(base_path, folder)\n",
    "    for file in os.listdir(folder_path):\n",
    "        if file.lower().endswith('.html'):\n",
    "            data.append({'Folder': folder, 'HTML File': file})\n",
    "\n",
    "# DataFrame 생성\n",
    "df = pd.DataFrame(data)\n",
    "\n",
    "# 엑셀로 저장\n",
    "output_path = os.path.join(base_path, 'html_file_list.xlsx')\n",
    "df.to_excel(output_path, index=False)\n",
    "\n",
    "print(f\"엑셀 파일이 저장되었습니다: {output_path}\")\n"
   ]
  }
 ],
 "metadata": {
  "kernelspec": {
   "display_name": ".venv",
   "language": "python",
   "name": "python3"
  },
  "language_info": {
   "codemirror_mode": {
    "name": "ipython",
    "version": 3
   },
   "file_extension": ".py",
   "mimetype": "text/x-python",
   "name": "python",
   "nbconvert_exporter": "python",
   "pygments_lexer": "ipython3",
   "version": "3.13.3"
  }
 },
 "nbformat": 4,
 "nbformat_minor": 5
}
