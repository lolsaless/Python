{
 "cells": [
  {
   "cell_type": "code",
   "execution_count": 1,
   "metadata": {},
   "outputs": [
    {
     "ename": "ModuleNotFoundError",
     "evalue": "No module named 'pyheif'",
     "output_type": "error",
     "traceback": [
      "\u001b[0;31m---------------------------------------------------------------------------\u001b[0m",
      "\u001b[0;31mModuleNotFoundError\u001b[0m                       Traceback (most recent call last)",
      "Cell \u001b[0;32mIn[1], line 2\u001b[0m\n\u001b[1;32m      1\u001b[0m \u001b[38;5;28;01mimport\u001b[39;00m\u001b[38;5;250m \u001b[39m\u001b[38;5;21;01mos\u001b[39;00m\n\u001b[0;32m----> 2\u001b[0m \u001b[38;5;28;01mimport\u001b[39;00m\u001b[38;5;250m \u001b[39m\u001b[38;5;21;01mpyheif\u001b[39;00m\n\u001b[1;32m      3\u001b[0m \u001b[38;5;28;01mfrom\u001b[39;00m\u001b[38;5;250m \u001b[39m\u001b[38;5;21;01mPIL\u001b[39;00m\u001b[38;5;250m \u001b[39m\u001b[38;5;28;01mimport\u001b[39;00m Image\n\u001b[1;32m      5\u001b[0m \u001b[38;5;66;03m# 변환할 폴더 경로 설정\u001b[39;00m\n\u001b[1;32m      6\u001b[0m \u001b[38;5;66;03m# input_folder = \"/Users/lol/Documents/GitHub/Photos-001\"\u001b[39;00m\n",
      "\u001b[0;31mModuleNotFoundError\u001b[0m: No module named 'pyheif'"
     ]
    }
   ],
   "source": [
    "import os\n",
    "import pyheif\n",
    "from PIL import Image\n",
    "\n",
    "# 변환할 폴더 경로 설정\n",
    "# input_folder = \"/Users/lol/Documents/GitHub/Photos-001\"\n",
    "input_folder = \"C:/Users/waste/Downloads/Photos-001\"\n",
    "output_folder = os.path.join(input_folder, \"converted_jpg\")\n",
    "\n",
    "# 출력 폴더가 없으면 생성\n",
    "os.makedirs(output_folder, exist_ok=True)\n",
    "\n",
    "# 폴더 내 모든 HEIC/HEIF 파일 변환\n",
    "for filename in os.listdir(input_folder):\n",
    "    if filename.lower().endswith((\".heic\", \".heif\")):\n",
    "        input_path = os.path.join(input_folder, filename)\n",
    "        output_path = os.path.join(output_folder, f\"{os.path.splitext(filename)[0]}.jpg\")\n",
    "\n",
    "        try:\n",
    "            # HEIC 파일 열기 및 변환\n",
    "            heif_file = pyheif.read(input_path)\n",
    "            image = Image.frombytes(heif_file.mode, heif_file.size, heif_file.data, \"raw\", heif_file.mode)\n",
    "\n",
    "            # JPG로 저장\n",
    "            image.convert(\"RGB\").save(output_path, \"JPEG\", quality=95)\n",
    "            print(f\"✅ 변환 완료: {filename} → {output_path}\")\n",
    "\n",
    "        except Exception as e:\n",
    "            print(f\"⚠️ 변환 실패: {filename} | 오류: {e}\")\n",
    "\n",
    "print(\"✅ 모든 변환이 완료되었습니다!\")\n"
   ]
  },
  {
   "cell_type": "code",
   "execution_count": null,
   "metadata": {},
   "outputs": [],
   "source": [
    "import os\n",
    "import subprocess\n",
    "\n",
    "# input_folder = \"/Users/lol/Documents/GitHub/Photos-001\"\n",
    "input_folder = \"C:/Users/waste/Downloads/Photos-001\"\n",
    "output_folder = os.path.join(input_folder, \"converted_jpg\")\n",
    "\n",
    "os.makedirs(output_folder, exist_ok=True)\n",
    "\n",
    "for filename in os.listdir(input_folder):\n",
    "    if filename.lower().endswith(\".heic\"):\n",
    "        input_path = os.path.join(input_folder, filename)\n",
    "        output_path = os.path.join(output_folder, f\"{os.path.splitext(filename)[0]}.jpg\")\n",
    "\n",
    "        try:\n",
    "            subprocess.run([\"ffmpeg\", \"-i\", input_path, output_path], check=True)\n",
    "            print(f\"✅ 변환 완료: {filename} → {output_path}\")\n",
    "        except Exception as e:\n",
    "            print(f\"⚠️ 변환 실패: {filename} | 오류: {e}\")\n",
    "\n",
    "print(\"✅ 모든 변환이 완료되었습니다!\")\n"
   ]
  },
  {
   "cell_type": "code",
   "execution_count": 3,
   "metadata": {},
   "outputs": [
    {
     "name": "stdout",
     "output_type": "stream",
     "text": [
      "✅ 모든 변환이 완료되었습니다!\n"
     ]
    }
   ],
   "source": [
    "import os\n",
    "import subprocess\n",
    "\n",
    "# input_folder = \"/Users/lol/Documents/GitHub/Photos-001\"\n",
    "input_folder = \"C:/Users/waste/Downloads/Photos-001\"\n",
    "output_folder = os.path.join(input_folder, \"converted_jpg\")\n",
    "\n",
    "os.makedirs(output_folder, exist_ok=True)\n",
    "\n",
    "# 환경 변수에 FFmpeg 경로 추가\n",
    "os.environ[\"PATH\"] += os.pathsep + \"/opt/homebrew/bin\" # macOS Homebrew 기준\n",
    "\n",
    "for filename in os.listdir(input_folder):\n",
    "    if filename.lower().endswith(\".heic\"):\n",
    "        input_path = os.path.join(input_folder, filename)\n",
    "        output_path = os.path.join(output_folder, f\"{os.path.splitext(filename)[0]}.jpg\")\n",
    "\n",
    "        try:\n",
    "            subprocess.run([\"ffmpeg\", \"-i\", input_path, output_path], check=True)\n",
    "            print(f\"✅ 변환 완료: {filename} → {output_path}\")\n",
    "        except Exception as e:\n",
    "            print(f\"⚠️ 변환 실패: {filename} | 오류: {e}\")\n",
    "\n",
    "print(\"✅ 모든 변환이 완료되었습니다!\")\n"
   ]
  },
  {
   "cell_type": "code",
   "execution_count": 4,
   "metadata": {},
   "outputs": [
    {
     "ename": "ModuleNotFoundError",
     "evalue": "No module named 'PIL'",
     "output_type": "error",
     "traceback": [
      "\u001b[0;31m---------------------------------------------------------------------------\u001b[0m",
      "\u001b[0;31mModuleNotFoundError\u001b[0m                       Traceback (most recent call last)",
      "Cell \u001b[0;32mIn[4], line 4\u001b[0m\n\u001b[1;32m      1\u001b[0m \u001b[38;5;66;03m# windows\u001b[39;00m\n\u001b[1;32m      3\u001b[0m \u001b[38;5;28;01mimport\u001b[39;00m\u001b[38;5;250m \u001b[39m\u001b[38;5;21;01mos\u001b[39;00m\n\u001b[0;32m----> 4\u001b[0m \u001b[38;5;28;01mfrom\u001b[39;00m\u001b[38;5;250m \u001b[39m\u001b[38;5;21;01mPIL\u001b[39;00m\u001b[38;5;250m \u001b[39m\u001b[38;5;28;01mimport\u001b[39;00m Image\n\u001b[1;32m      5\u001b[0m \u001b[38;5;28;01mfrom\u001b[39;00m\u001b[38;5;250m \u001b[39m\u001b[38;5;21;01mpillow_heif\u001b[39;00m\u001b[38;5;250m \u001b[39m\u001b[38;5;28;01mimport\u001b[39;00m register_heif_opener\n\u001b[1;32m      7\u001b[0m \u001b[38;5;66;03m# HEIC 오프너 등록\u001b[39;00m\n",
      "\u001b[0;31mModuleNotFoundError\u001b[0m: No module named 'PIL'"
     ]
    }
   ],
   "source": [
    "# windows\n",
    "\n",
    "import os\n",
    "from PIL import Image\n",
    "from pillow_heif import register_heif_opener\n",
    "\n",
    "# HEIC 오프너 등록\n",
    "register_heif_opener()\n",
    "\n",
    "# 입력 폴더와 출력 폴더 설정\n",
    "# input_folder = \"C:/Users/waste/Downloads/Photos-001\"\n",
    "input_folder = \"/Users/lol/Documents/GitHub/Photos-001\"\n",
    "output_folder = os.path.join(input_folder, \"ConvertedJPGs\")\n",
    "\n",
    "# 출력 폴더가 없으면 생성\n",
    "if not os.path.exists(output_folder):\n",
    "    os.makedirs(output_folder)\n",
    "\n",
    "# HEIC 파일 변환\n",
    "for filename in os.listdir(input_folder):\n",
    "    if filename.lower().endswith(('.heic', '.heif')):\n",
    "        input_path = os.path.join(input_folder, filename)\n",
    "        output_path = os.path.join(output_folder, f\"{os.path.splitext(filename)[0]}.jpg\")\n",
    "        \n",
    "        try:\n",
    "            with Image.open(input_path) as img:\n",
    "                img.convert('RGB').save(output_path, 'JPEG')\n",
    "            print(f\"변환 완료: {filename}\")\n",
    "        except Exception as e:\n",
    "            print(f\"변환 실패: {filename}. 오류: {str(e)}\")\n",
    "\n",
    "print(\"모든 변환 작업이 완료되었습니다.\")\n"
   ]
  }
 ],
 "metadata": {
  "kernelspec": {
   "display_name": "Python 3",
   "language": "python",
   "name": "python3"
  },
  "language_info": {
   "codemirror_mode": {
    "name": "ipython",
    "version": 3
   },
   "file_extension": ".py",
   "mimetype": "text/x-python",
   "name": "python",
   "nbconvert_exporter": "python",
   "pygments_lexer": "ipython3",
   "version": "3.13.2"
  }
 },
 "nbformat": 4,
 "nbformat_minor": 2
}
