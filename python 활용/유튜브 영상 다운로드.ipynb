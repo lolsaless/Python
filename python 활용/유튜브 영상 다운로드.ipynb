{
 "cells": [
  {
   "cell_type": "code",
   "execution_count": 3,
   "metadata": {},
   "outputs": [
    {
     "name": "stdout",
     "output_type": "stream",
     "text": [
      "[youtube] Extracting URL: https://www.youtube.com/watch?v=970mayuPPWw\n",
      "[youtube] 970mayuPPWw: Downloading webpage\n",
      "[youtube] 970mayuPPWw: Downloading ios player API JSON\n",
      "[youtube] 970mayuPPWw: Downloading mweb player API JSON\n",
      "[youtube] 970mayuPPWw: Downloading player baafab19\n",
      "[youtube] 970mayuPPWw: Downloading m3u8 information\n",
      "[info] 970mayuPPWw: Downloading 1 format(s): 18\n",
      "[download] Destination: 데이트앱 켰더니 0명‥'결혼 상대' 없는 줄 알았더니 (2024.11.11⧸뉴스투데이⧸MBC).mp4\n",
      "[download] 100% of    8.46MiB in 00:00:01 at 8.38MiB/s   \n"
     ]
    }
   ],
   "source": [
    "import yt_dlp\n",
    "\n",
    "url = \"https://www.youtube.com/watch?v=970mayuPPWw\"\n",
    "\n",
    "ydl_opts = {\n",
    "    'format': 'best',  # 가장 좋은 화질의 비디오를 다운로드\n",
    "    'outtmpl': '%(title)s.%(ext)s',  # 파일 이름 포맷 지정\n",
    "}\n",
    "\n",
    "with yt_dlp.YoutubeDL(ydl_opts) as ydl:\n",
    "    ydl.download([url])\n"
   ]
  },
  {
   "cell_type": "code",
   "execution_count": 4,
   "metadata": {},
   "outputs": [
    {
     "name": "stdout",
     "output_type": "stream",
     "text": [
      "[youtube] Extracting URL: https://www.youtube.com/watch?v=970mayuPPWw\n",
      "[youtube] 970mayuPPWw: Downloading webpage\n",
      "[youtube] 970mayuPPWw: Downloading ios player API JSON\n",
      "[youtube] 970mayuPPWw: Downloading mweb player API JSON\n",
      "[youtube] 970mayuPPWw: Downloading m3u8 information\n",
      "[info] 970mayuPPWw: Downloading 1 format(s): 18\n",
      "[download] Destination: 데이트앱 켰더니 0명‥'결혼 상대' 없는 줄 알았더니 (2024.11.11⧸뉴스투데이⧸MBC).mp4\n",
      "[download] 100% of    8.46MiB in 00:00:01 at 7.00MiB/s   \n"
     ]
    }
   ],
   "source": [
    "import yt_dlp\n",
    "\n",
    "url = \"https://www.youtube.com/watch?v=970mayuPPWw\"\n",
    "\n",
    "# 'bestvideo+bestaudio' 옵션으로 고화질 영상과 오디오를 병합, 프레임률 60fps 이상의 영상 선택\n",
    "ydl_opts = {\n",
    "    'format': 'bestvideo[height<=1080][fps>=60]+bestaudio/best',  # 1080p까지의 해상도, 60fps 이상 선택\n",
    "    'outtmpl': '%(title)s.%(ext)s',  # 파일 이름 포맷 지정\n",
    "    'merge_output_format': 'mp4',  # 비디오와 오디오 병합 시 MP4 포맷 사용\n",
    "}\n",
    "\n",
    "with yt_dlp.YoutubeDL(ydl_opts) as ydl:\n",
    "    ydl.download([url])\n"
   ]
  }
 ],
 "metadata": {
  "kernelspec": {
   "display_name": "Python 3",
   "language": "python",
   "name": "python3"
  },
  "language_info": {
   "codemirror_mode": {
    "name": "ipython",
    "version": 3
   },
   "file_extension": ".py",
   "mimetype": "text/x-python",
   "name": "python",
   "nbconvert_exporter": "python",
   "pygments_lexer": "ipython3",
   "version": "3.12.3"
  }
 },
 "nbformat": 4,
 "nbformat_minor": 2
}
