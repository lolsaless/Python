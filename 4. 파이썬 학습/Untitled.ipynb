{
 "cells": [
  {
   "cell_type": "code",
   "execution_count": 2,
   "id": "d8e410fa-b5bc-4759-9225-d3304756bc71",
   "metadata": {},
   "outputs": [
    {
     "name": "stdout",
     "output_type": "stream",
     "text": [
      "30\n"
     ]
    }
   ],
   "source": [
    "class abc:\n",
    "    def __init__(self, a):\n",
    "        self.b = a\n",
    "\n",
    "    def test(self, b):\n",
    "        return self.b * b\n",
    "\n",
    "if __name__ == \"__main__\":\n",
    "    test1 = abc(3)\n",
    "    test2 = abc(4)\n",
    "\n",
    "    print(test1.test(10))"
   ]
  },
  {
   "cell_type": "code",
   "execution_count": 7,
   "id": "60c2034b-46f6-4d4b-8f5c-47927a9cc0e8",
   "metadata": {},
   "outputs": [
    {
     "name": "stdout",
     "output_type": "stream",
     "text": [
      "100\n"
     ]
    }
   ],
   "source": [
    "class Class_test:\n",
    "    def __init__(self, a):\n",
    "        self.a = a\n",
    "        \n",
    "    def abcd(self, b):\n",
    "        return self.a * b\n",
    "\n",
    "if __name__ == \"__main__\":\n",
    "    test1 = Class_test(10)\n",
    "\n",
    "    print(test1.abcd(10))"
   ]
  }
 ],
 "metadata": {
  "kernelspec": {
   "display_name": "Python 3 (ipykernel)",
   "language": "python",
   "name": "python3"
  },
  "language_info": {
   "codemirror_mode": {
    "name": "ipython",
    "version": 3
   },
   "file_extension": ".py",
   "mimetype": "text/x-python",
   "name": "python",
   "nbconvert_exporter": "python",
   "pygments_lexer": "ipython3",
   "version": "3.11.5"
  }
 },
 "nbformat": 4,
 "nbformat_minor": 5
}
