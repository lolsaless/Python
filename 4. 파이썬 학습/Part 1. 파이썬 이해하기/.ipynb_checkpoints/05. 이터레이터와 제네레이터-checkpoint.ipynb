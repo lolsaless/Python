{
 "cells": [
  {
   "cell_type": "code",
   "execution_count": 1,
   "metadata": {},
   "outputs": [
    {
     "name": "stdout",
     "output_type": "stream",
     "text": [
      "1\n",
      "2\n",
      "3\n"
     ]
    }
   ],
   "source": [
    "for i in [1, 2, 3]:\n",
    "    print(i)"
   ]
  },
  {
   "cell_type": "code",
   "execution_count": 8,
   "metadata": {},
   "outputs": [],
   "source": [
    "a = [1, 2, 3]\n",
    "iterator = iter(a)"
   ]
  },
  {
   "cell_type": "code",
   "execution_count": 9,
   "metadata": {},
   "outputs": [
    {
     "data": {
      "text/plain": [
       "list_iterator"
      ]
     },
     "execution_count": 9,
     "metadata": {},
     "output_type": "execute_result"
    }
   ],
   "source": [
    "type(iterator)"
   ]
  },
  {
   "cell_type": "code",
   "execution_count": 10,
   "metadata": {},
   "outputs": [
    {
     "data": {
      "text/plain": [
       "1"
      ]
     },
     "execution_count": 10,
     "metadata": {},
     "output_type": "execute_result"
    }
   ],
   "source": [
    "next(iterator)"
   ]
  },
  {
   "cell_type": "code",
   "execution_count": 11,
   "metadata": {},
   "outputs": [
    {
     "data": {
      "text/plain": [
       "2"
      ]
     },
     "execution_count": 11,
     "metadata": {},
     "output_type": "execute_result"
    }
   ],
   "source": [
    "next(iterator)"
   ]
  },
  {
   "cell_type": "code",
   "execution_count": 12,
   "metadata": {},
   "outputs": [
    {
     "data": {
      "text/plain": [
       "3"
      ]
     },
     "execution_count": 12,
     "metadata": {},
     "output_type": "execute_result"
    }
   ],
   "source": [
    "next(iterator)"
   ]
  },
  {
   "cell_type": "code",
   "execution_count": 13,
   "metadata": {},
   "outputs": [
    {
     "ename": "StopIteration",
     "evalue": "",
     "output_type": "error",
     "traceback": [
      "\u001b[0;31m---------------------------------------------------------------------------\u001b[0m",
      "\u001b[0;31mStopIteration\u001b[0m                             Traceback (most recent call last)",
      "Cell \u001b[0;32mIn[13], line 1\u001b[0m\n\u001b[0;32m----> 1\u001b[0m \u001b[38;5;28mnext\u001b[39m(iterator)\n",
      "\u001b[0;31mStopIteration\u001b[0m: "
     ]
    }
   ],
   "source": [
    "next(iterator)"
   ]
  },
  {
   "cell_type": "code",
   "execution_count": 20,
   "metadata": {},
   "outputs": [],
   "source": [
    "for a in iterator:\n",
    "    print(a)"
   ]
  },
  {
   "cell_type": "code",
   "execution_count": 29,
   "metadata": {},
   "outputs": [],
   "source": [
    "def generator():\n",
    "    yield 'a'\n",
    "    yield 'b'\n",
    "    yield 'c'"
   ]
  },
  {
   "cell_type": "code",
   "execution_count": 30,
   "metadata": {},
   "outputs": [
    {
     "data": {
      "text/plain": [
       "generator"
      ]
     },
     "execution_count": 30,
     "metadata": {},
     "output_type": "execute_result"
    }
   ],
   "source": [
    "g = generator()\n",
    "type(g)"
   ]
  },
  {
   "cell_type": "markdown",
   "metadata": {},
   "source": [
    "## 제네레이터 사용 예시"
   ]
  },
  {
   "cell_type": "code",
   "execution_count": 54,
   "metadata": {},
   "outputs": [],
   "source": [
    "def client_count(total_client):\n",
    "    n = 1\n",
    "    for num in range(total_client):\n",
    "        print(f'{n} 번째 고객님 입장하세요.')\n",
    "        n += 1\n",
    "        yield\n"
   ]
  },
  {
   "cell_type": "code",
   "execution_count": 55,
   "metadata": {},
   "outputs": [],
   "source": [
    "mygen = client_count(100)"
   ]
  },
  {
   "cell_type": "code",
   "execution_count": 56,
   "metadata": {},
   "outputs": [
    {
     "name": "stdout",
     "output_type": "stream",
     "text": [
      "1 번째 고객님 입장하세요.\n"
     ]
    }
   ],
   "source": [
    "next(mygen)"
   ]
  },
  {
   "cell_type": "code",
   "execution_count": 57,
   "metadata": {},
   "outputs": [
    {
     "name": "stdout",
     "output_type": "stream",
     "text": [
      "2 번째 고객님 입장하세요.\n",
      "3 번째 고객님 입장하세요.\n",
      "4 번째 고객님 입장하세요.\n",
      "5 번째 고객님 입장하세요.\n",
      "6 번째 고객님 입장하세요.\n",
      "7 번째 고객님 입장하세요.\n",
      "8 번째 고객님 입장하세요.\n",
      "9 번째 고객님 입장하세요.\n",
      "10 번째 고객님 입장하세요.\n",
      "11 번째 고객님 입장하세요.\n",
      "12 번째 고객님 입장하세요.\n",
      "13 번째 고객님 입장하세요.\n",
      "14 번째 고객님 입장하세요.\n",
      "15 번째 고객님 입장하세요.\n",
      "16 번째 고객님 입장하세요.\n",
      "17 번째 고객님 입장하세요.\n",
      "18 번째 고객님 입장하세요.\n",
      "19 번째 고객님 입장하세요.\n",
      "20 번째 고객님 입장하세요.\n",
      "21 번째 고객님 입장하세요.\n",
      "22 번째 고객님 입장하세요.\n",
      "23 번째 고객님 입장하세요.\n",
      "24 번째 고객님 입장하세요.\n",
      "25 번째 고객님 입장하세요.\n",
      "26 번째 고객님 입장하세요.\n",
      "27 번째 고객님 입장하세요.\n",
      "28 번째 고객님 입장하세요.\n",
      "29 번째 고객님 입장하세요.\n",
      "30 번째 고객님 입장하세요.\n",
      "31 번째 고객님 입장하세요.\n",
      "32 번째 고객님 입장하세요.\n",
      "33 번째 고객님 입장하세요.\n",
      "34 번째 고객님 입장하세요.\n",
      "35 번째 고객님 입장하세요.\n",
      "36 번째 고객님 입장하세요.\n",
      "37 번째 고객님 입장하세요.\n",
      "38 번째 고객님 입장하세요.\n",
      "39 번째 고객님 입장하세요.\n",
      "40 번째 고객님 입장하세요.\n",
      "41 번째 고객님 입장하세요.\n",
      "42 번째 고객님 입장하세요.\n",
      "43 번째 고객님 입장하세요.\n",
      "44 번째 고객님 입장하세요.\n",
      "45 번째 고객님 입장하세요.\n",
      "46 번째 고객님 입장하세요.\n",
      "47 번째 고객님 입장하세요.\n",
      "48 번째 고객님 입장하세요.\n",
      "49 번째 고객님 입장하세요.\n",
      "50 번째 고객님 입장하세요.\n",
      "51 번째 고객님 입장하세요.\n",
      "52 번째 고객님 입장하세요.\n",
      "53 번째 고객님 입장하세요.\n",
      "54 번째 고객님 입장하세요.\n",
      "55 번째 고객님 입장하세요.\n",
      "56 번째 고객님 입장하세요.\n",
      "57 번째 고객님 입장하세요.\n",
      "58 번째 고객님 입장하세요.\n",
      "59 번째 고객님 입장하세요.\n",
      "60 번째 고객님 입장하세요.\n",
      "61 번째 고객님 입장하세요.\n",
      "62 번째 고객님 입장하세요.\n",
      "63 번째 고객님 입장하세요.\n",
      "64 번째 고객님 입장하세요.\n",
      "65 번째 고객님 입장하세요.\n",
      "66 번째 고객님 입장하세요.\n",
      "67 번째 고객님 입장하세요.\n",
      "68 번째 고객님 입장하세요.\n",
      "69 번째 고객님 입장하세요.\n",
      "70 번째 고객님 입장하세요.\n",
      "71 번째 고객님 입장하세요.\n",
      "72 번째 고객님 입장하세요.\n",
      "73 번째 고객님 입장하세요.\n",
      "74 번째 고객님 입장하세요.\n",
      "75 번째 고객님 입장하세요.\n",
      "76 번째 고객님 입장하세요.\n",
      "77 번째 고객님 입장하세요.\n",
      "78 번째 고객님 입장하세요.\n",
      "79 번째 고객님 입장하세요.\n",
      "80 번째 고객님 입장하세요.\n",
      "81 번째 고객님 입장하세요.\n",
      "82 번째 고객님 입장하세요.\n",
      "83 번째 고객님 입장하세요.\n",
      "84 번째 고객님 입장하세요.\n",
      "85 번째 고객님 입장하세요.\n",
      "86 번째 고객님 입장하세요.\n",
      "87 번째 고객님 입장하세요.\n",
      "88 번째 고객님 입장하세요.\n",
      "89 번째 고객님 입장하세요.\n",
      "90 번째 고객님 입장하세요.\n",
      "91 번째 고객님 입장하세요.\n",
      "92 번째 고객님 입장하세요.\n",
      "93 번째 고객님 입장하세요.\n",
      "94 번째 고객님 입장하세요.\n",
      "95 번째 고객님 입장하세요.\n",
      "96 번째 고객님 입장하세요.\n",
      "97 번째 고객님 입장하세요.\n",
      "98 번째 고객님 입장하세요.\n",
      "99 번째 고객님 입장하세요.\n",
      "100 번째 고객님 입장하세요.\n"
     ]
    },
    {
     "ename": "StopIteration",
     "evalue": "",
     "output_type": "error",
     "traceback": [
      "\u001b[0;31m---------------------------------------------------------------------------\u001b[0m",
      "\u001b[0;31mStopIteration\u001b[0m                             Traceback (most recent call last)",
      "Cell \u001b[0;32mIn[57], line 2\u001b[0m\n\u001b[1;32m      1\u001b[0m \u001b[38;5;28;01mfor\u001b[39;00m i \u001b[38;5;129;01min\u001b[39;00m mygen:\n\u001b[0;32m----> 2\u001b[0m     \u001b[38;5;28mnext\u001b[39m(mygen)\n",
      "\u001b[0;31mStopIteration\u001b[0m: "
     ]
    }
   ],
   "source": [
    "for i in mygen:\n",
    "    next(mygen)"
   ]
  }
 ],
 "metadata": {
  "kernelspec": {
   "display_name": "Python 3 (ipykernel)",
   "language": "python",
   "name": "python3"
  },
  "language_info": {
   "codemirror_mode": {
    "name": "ipython",
    "version": 3
   },
   "file_extension": ".py",
   "mimetype": "text/x-python",
   "name": "python",
   "nbconvert_exporter": "python",
   "pygments_lexer": "ipython3",
   "version": "3.11.5"
  }
 },
 "nbformat": 4,
 "nbformat_minor": 4
}
