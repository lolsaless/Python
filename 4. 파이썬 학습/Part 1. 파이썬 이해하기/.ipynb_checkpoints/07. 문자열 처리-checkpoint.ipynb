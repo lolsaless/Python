{
 "cells": [
  {
   "cell_type": "code",
   "execution_count": 2,
   "id": "a2ba1106-7a93-441c-b911-717078fa0b7c",
   "metadata": {},
   "outputs": [
    {
     "data": {
      "text/plain": [
       "'123'"
      ]
     },
     "execution_count": 2,
     "metadata": {},
     "output_type": "execute_result"
    }
   ],
   "source": [
    "a = 123\n",
    "str(a)"
   ]
  },
  {
   "cell_type": "code",
   "execution_count": 3,
   "id": "06fc6e04-6bfb-455c-929a-8a91a9e4056a",
   "metadata": {},
   "outputs": [
    {
     "data": {
      "text/plain": [
       "'123'"
      ]
     },
     "execution_count": 3,
     "metadata": {},
     "output_type": "execute_result"
    }
   ],
   "source": [
    "a = 123\n",
    "repr(a)"
   ]
  },
  {
   "cell_type": "code",
   "execution_count": 4,
   "id": "535880c8-078d-456b-beec-3185a9d4dad4",
   "metadata": {},
   "outputs": [
    {
     "data": {
      "text/plain": [
       "'Hi'"
      ]
     },
     "execution_count": 4,
     "metadata": {},
     "output_type": "execute_result"
    }
   ],
   "source": [
    "a = \"Hi\"\n",
    "str(a)"
   ]
  },
  {
   "cell_type": "code",
   "execution_count": 5,
   "id": "d08a4b6e-a5aa-4974-8008-53e9993450cd",
   "metadata": {},
   "outputs": [
    {
     "data": {
      "text/plain": [
       "\"'Hi'\""
      ]
     },
     "execution_count": 5,
     "metadata": {},
     "output_type": "execute_result"
    }
   ],
   "source": [
    "a = \"Hi\"\n",
    "repr(a)"
   ]
  },
  {
   "cell_type": "code",
   "execution_count": 6,
   "id": "38151ff5-7dac-4943-b00f-aa6959a61ef1",
   "metadata": {},
   "outputs": [],
   "source": [
    "import datetime"
   ]
  },
  {
   "cell_type": "code",
   "execution_count": 7,
   "id": "4b67b43f-ce4a-44ff-8c7b-09c3f6e61b20",
   "metadata": {},
   "outputs": [
    {
     "data": {
      "text/plain": [
       "'2024-01-01 00:00:00'"
      ]
     },
     "execution_count": 7,
     "metadata": {},
     "output_type": "execute_result"
    }
   ],
   "source": [
    "a = datetime.datetime(2024, 1, 1)\n",
    "str(a)"
   ]
  },
  {
   "cell_type": "code",
   "execution_count": 9,
   "id": "cc5b1c3b-755a-4040-9004-e4afbe51d3e8",
   "metadata": {},
   "outputs": [
    {
     "data": {
      "text/plain": [
       "'datetime.datetime(2024, 1, 1, 0, 0)'"
      ]
     },
     "execution_count": 9,
     "metadata": {},
     "output_type": "execute_result"
    }
   ],
   "source": [
    "a = datetime.datetime(2024, 1, 1)\n",
    "repr(a)"
   ]
  },
  {
   "cell_type": "code",
   "execution_count": 13,
   "id": "f94f7811-c9f9-47dc-8c31-5e65f1aaa878",
   "metadata": {},
   "outputs": [],
   "source": [
    "a = \"Hi my world\"\n",
    "b = str(a)"
   ]
  },
  {
   "cell_type": "code",
   "execution_count": 14,
   "id": "86af3f20-ee7e-453f-9121-2fc100bc3636",
   "metadata": {},
   "outputs": [
    {
     "ename": "SyntaxError",
     "evalue": "invalid syntax (<string>, line 1)",
     "output_type": "error",
     "traceback": [
      "Traceback \u001b[0;36m(most recent call last)\u001b[0m:\n",
      "\u001b[0m  File \u001b[1;32m~/anaconda3/lib/python3.11/site-packages/IPython/core/interactiveshell.py:3526\u001b[0m in \u001b[1;35mrun_code\u001b[0m\n    exec(code_obj, self.user_global_ns, self.user_ns)\u001b[0m\n",
      "\u001b[0;36m  Cell \u001b[0;32mIn[14], line 1\u001b[0;36m\n\u001b[0;31m    eval(b)\u001b[0;36m\n",
      "\u001b[0;36m  File \u001b[0;32m<string>:1\u001b[0;36m\u001b[0m\n\u001b[0;31m    Hi my world\u001b[0m\n\u001b[0m       ^\u001b[0m\n\u001b[0;31mSyntaxError\u001b[0m\u001b[0;31m:\u001b[0m invalid syntax\n"
     ]
    }
   ],
   "source": [
    "eval(b)"
   ]
  },
  {
   "cell_type": "code",
   "execution_count": 15,
   "id": "401d061b-49a4-4721-9c4b-e6fb0929b28d",
   "metadata": {},
   "outputs": [],
   "source": [
    "a = \"Hi my world\"\n",
    "b = repr(a)"
   ]
  },
  {
   "cell_type": "code",
   "execution_count": 16,
   "id": "400a59f4-a1f3-491c-80aa-8801d43c6251",
   "metadata": {},
   "outputs": [
    {
     "data": {
      "text/plain": [
       "'Hi my world'"
      ]
     },
     "execution_count": 16,
     "metadata": {},
     "output_type": "execute_result"
    }
   ],
   "source": [
    "eval(b)"
   ]
  },
  {
   "cell_type": "code",
   "execution_count": 20,
   "id": "5ad7bc92-5625-442c-b2cd-73e242083c1b",
   "metadata": {},
   "outputs": [],
   "source": [
    "a = datetime.datetime(2024, 1, 1)\n",
    "b = str(a)"
   ]
  },
  {
   "cell_type": "code",
   "execution_count": 21,
   "id": "a1294ca8-1a0f-4dbd-8e76-97720e5702d6",
   "metadata": {},
   "outputs": [
    {
     "ename": "SyntaxError",
     "evalue": "leading zeros in decimal integer literals are not permitted; use an 0o prefix for octal integers (<string>, line 1)",
     "output_type": "error",
     "traceback": [
      "Traceback \u001b[0;36m(most recent call last)\u001b[0m:\n",
      "\u001b[0m  File \u001b[1;32m~/anaconda3/lib/python3.11/site-packages/IPython/core/interactiveshell.py:3526\u001b[0m in \u001b[1;35mrun_code\u001b[0m\n    exec(code_obj, self.user_global_ns, self.user_ns)\u001b[0m\n",
      "\u001b[0;36m  Cell \u001b[0;32mIn[21], line 1\u001b[0;36m\n\u001b[0;31m    eval(b)\u001b[0;36m\n",
      "\u001b[0;36m  File \u001b[0;32m<string>:1\u001b[0;36m\u001b[0m\n\u001b[0;31m    2024-01-01 00:00:00\u001b[0m\n\u001b[0m         ^\u001b[0m\n\u001b[0;31mSyntaxError\u001b[0m\u001b[0;31m:\u001b[0m leading zeros in decimal integer literals are not permitted; use an 0o prefix for octal integers\n"
     ]
    }
   ],
   "source": [
    "eval(b)"
   ]
  },
  {
   "cell_type": "code",
   "execution_count": 23,
   "id": "232b4a8d-2d05-4567-81aa-b9e0d8b020d5",
   "metadata": {},
   "outputs": [],
   "source": [
    "a = datetime.datetime(2024, 1, 1)\n",
    "b = repr(a)"
   ]
  },
  {
   "cell_type": "code",
   "execution_count": 24,
   "id": "047f0faa-a9bd-4ad6-8980-11a429596010",
   "metadata": {},
   "outputs": [
    {
     "data": {
      "text/plain": [
       "datetime.datetime(2024, 1, 1, 0, 0)"
      ]
     },
     "execution_count": 24,
     "metadata": {},
     "output_type": "execute_result"
    }
   ],
   "source": [
    "eval(b)"
   ]
  },
  {
   "cell_type": "code",
   "execution_count": 25,
   "id": "2af3b197-dd3c-4beb-a737-667a760fa710",
   "metadata": {},
   "outputs": [
    {
     "data": {
      "text/plain": [
       "datetime.datetime"
      ]
     },
     "execution_count": 25,
     "metadata": {},
     "output_type": "execute_result"
    }
   ],
   "source": [
    "type(eval(b))"
   ]
  }
 ],
 "metadata": {
  "kernelspec": {
   "display_name": "Python 3 (ipykernel)",
   "language": "python",
   "name": "python3"
  },
  "language_info": {
   "codemirror_mode": {
    "name": "ipython",
    "version": 3
   },
   "file_extension": ".py",
   "mimetype": "text/x-python",
   "name": "python",
   "nbconvert_exporter": "python",
   "pygments_lexer": "ipython3",
   "version": "3.11.5"
  }
 },
 "nbformat": 4,
 "nbformat_minor": 5
}
