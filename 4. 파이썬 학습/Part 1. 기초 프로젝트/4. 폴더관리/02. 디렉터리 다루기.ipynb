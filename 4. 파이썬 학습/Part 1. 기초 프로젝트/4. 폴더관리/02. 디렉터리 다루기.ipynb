{
 "cells": [
  {
   "cell_type": "markdown",
   "id": "740aa027-03c7-4ebb-99c6-b5950ebff529",
   "metadata": {},
   "source": [
    "### os.path, pathlib\n",
    "os.path는 경로를 문자열로 다루고, pathlib은 경로를 객체형으로 다루는 차이가 있다."
   ]
  },
  {
   "cell_type": "markdown",
   "id": "d97f031e-e37b-4b5f-9bff-528aafdd5482",
   "metadata": {},
   "source": [
    "`os.path`와 `pathlib`은 경로를 다루는 Python 라이브러리 중에서 두 가지 다른 방식을 제공합니다. 이 두 라이브러리 간의 주요 차이점은 경로를 처리하는 방식과 편의성입니다.\n",
    "\n",
    "1. `os.path`:\n",
    "   - `os.path` 모듈은 경로를 문자열 형식으로 다루는 전통적인 방식을 사용합니다.\n",
    "   - 이 모듈을 사용하면 문자열로 경로를 표현하고 조작할 수 있습니다.\n",
    "   - 예를 들어, `os.path.join()` 함수를 사용하여 디렉토리 및 파일 이름을 문자열로 조합하고 경로를 생성할 수 있습니다.\n",
    "   - 문자열로 표현된 경로를 조작할 때는 경로의 유효성을 검사하고 처리해야 하는 추가 작업이 필요합니다.\n",
    "\n",
    "```python\n",
    "import os\n",
    "\n",
    "path = os.path.join(\"C:\", \"Users\", \"Username\", \"Documents\", \"file.txt\")\n",
    "```\n",
    "\n",
    "2. `pathlib`:\n",
    "   - `pathlib` 모듈은 객체 지향적인 방식으로 경로를 다루는 현대적인 방식을 제공합니다.\n",
    "   - 경로를 객체로 표현하며, 경로 객체는 다양한 메서드와 속성을 가지고 있어 경로를 보다 쉽게 다룰 수 있습니다.\n",
    "   - 예를 들어, 경로 연산과 경로 분리를 통해 보다 쉽게 경로를 다룰 수 있습니다.\n",
    "\n",
    "```python\n",
    "from pathlib import Path\n",
    "\n",
    "path = Path(\"C:/Users/Username/Documents/file.txt\")\n",
    "```\n",
    "\n",
    "주요 차이점:\n",
    "- `os.path`는 문자열 기반의 경로 처리를 하며, 경로 문자열을 직접 조작하고 연산해야 합니다.\n",
    "- `pathlib`는 객체 지향적인 접근 방식을 사용하며, 경로 객체를 생성하고 이 객체를 통해 경로 조작 및 연산을 수행할 수 있습니다.\n",
    "- `pathlib`는 경로 유효성 검사, 파일/디렉토리 존재 여부 확인 등의 기능을 객체 내부에 내장하고 있어 편리하게 사용할 수 있습니다.\n",
    "- `pathlib`는 Python 3.4부터 표준 라이브러리에 포함되어 있으므로 Python 3.4 이상 버전에서 사용할 수 있습니다.\n",
    "\n",
    "요약하면, `pathlib`은 보다 간편하고 안전한 방식으로 경로를 다루는 라이브러리이며, 모던한 Python 코드에서 선호되는 방식입니다."
   ]
  },
  {
   "cell_type": "code",
   "execution_count": 1,
   "id": "1505d3d6-b612-4d94-a55a-e29136735493",
   "metadata": {},
   "outputs": [],
   "source": [
    "import os\n",
    "import pathlib"
   ]
  },
  {
   "cell_type": "code",
   "execution_count": 3,
   "id": "d4623036-a83e-4669-b1f3-342001892a6a",
   "metadata": {},
   "outputs": [
    {
     "name": "stdout",
     "output_type": "stream",
     "text": [
      "/Users/time/Documents/GitHub/Python/4. 파이썬 학습/Part 1. 기초 프로젝트/4. 폴더관리\n"
     ]
    }
   ],
   "source": [
    "print(os.getcwd())"
   ]
  },
  {
   "cell_type": "code",
   "execution_count": 4,
   "id": "e6dadc1d-a02f-4728-819d-e1ba5b799e9a",
   "metadata": {},
   "outputs": [
    {
     "name": "stdout",
     "output_type": "stream",
     "text": [
      "/Users/time/Documents/GitHub/Python/4. 파이썬 학습/Part 1. 기초 프로젝트/4. 폴더관리\n"
     ]
    }
   ],
   "source": [
    "print(pathlib.Path.cwd())"
   ]
  },
  {
   "cell_type": "code",
   "execution_count": 5,
   "id": "6126bdd4-02c0-4b13-80f2-80c6584c3f50",
   "metadata": {},
   "outputs": [],
   "source": [
    "path = '/Users/time/Documents/GitHub/Python/4. 파이썬 학습/Part 1. 기초 프로젝트/4. 폴더관리'"
   ]
  },
  {
   "cell_type": "code",
   "execution_count": 8,
   "id": "a70ab71c-b113-449d-86bd-6ef79c53c4a4",
   "metadata": {},
   "outputs": [
    {
     "name": "stdout",
     "output_type": "stream",
     "text": [
      "True\n"
     ]
    }
   ],
   "source": [
    "print(pathlib.Path.exists(pathlib.Path(path)))"
   ]
  },
  {
   "cell_type": "code",
   "execution_count": 10,
   "id": "800954a0-5af9-44a3-a353-1bb7f6aca46c",
   "metadata": {},
   "outputs": [
    {
     "data": {
      "text/plain": [
       "PosixPath('/Users/time/Documents/GitHub/Python/4. 파이썬 학습/Part 1. 기초 프로젝트/4. 폴더관리')"
      ]
     },
     "execution_count": 10,
     "metadata": {},
     "output_type": "execute_result"
    }
   ],
   "source": [
    "pathlib.Path(path)"
   ]
  },
  {
   "cell_type": "code",
   "execution_count": 11,
   "id": "fb07ebad-5d6c-485c-b588-9e7b225ed851",
   "metadata": {},
   "outputs": [
    {
     "ename": "AttributeError",
     "evalue": "'str' object has no attribute 'stat'",
     "output_type": "error",
     "traceback": [
      "\u001b[0;31m---------------------------------------------------------------------------\u001b[0m",
      "\u001b[0;31mAttributeError\u001b[0m                            Traceback (most recent call last)",
      "Cell \u001b[0;32mIn[11], line 1\u001b[0m\n\u001b[0;32m----> 1\u001b[0m pathlib\u001b[38;5;241m.\u001b[39mPath\u001b[38;5;241m.\u001b[39mexists(path)\n",
      "File \u001b[0;32m~/anaconda3/lib/python3.11/pathlib.py:1235\u001b[0m, in \u001b[0;36mPath.exists\u001b[0;34m(self)\u001b[0m\n\u001b[1;32m   1231\u001b[0m \u001b[38;5;250m\u001b[39m\u001b[38;5;124;03m\"\"\"\u001b[39;00m\n\u001b[1;32m   1232\u001b[0m \u001b[38;5;124;03mWhether this path exists.\u001b[39;00m\n\u001b[1;32m   1233\u001b[0m \u001b[38;5;124;03m\"\"\"\u001b[39;00m\n\u001b[1;32m   1234\u001b[0m \u001b[38;5;28;01mtry\u001b[39;00m:\n\u001b[0;32m-> 1235\u001b[0m     \u001b[38;5;28mself\u001b[39m\u001b[38;5;241m.\u001b[39mstat()\n\u001b[1;32m   1236\u001b[0m \u001b[38;5;28;01mexcept\u001b[39;00m \u001b[38;5;167;01mOSError\u001b[39;00m \u001b[38;5;28;01mas\u001b[39;00m e:\n\u001b[1;32m   1237\u001b[0m     \u001b[38;5;28;01mif\u001b[39;00m \u001b[38;5;129;01mnot\u001b[39;00m _ignore_error(e):\n",
      "\u001b[0;31mAttributeError\u001b[0m: 'str' object has no attribute 'stat'"
     ]
    }
   ],
   "source": [
    "pathlib.Path.exists(path)"
   ]
  },
  {
   "cell_type": "markdown",
   "id": "c841d1ee-1760-46dc-98ce-73a8634b8394",
   "metadata": {},
   "source": [
    "### 디렉토리 만들기"
   ]
  },
  {
   "cell_type": "code",
   "execution_count": 2,
   "id": "b4897ba9-1928-44a2-af36-7200b91a97a0",
   "metadata": {},
   "outputs": [],
   "source": [
    "dir_os = '/Users/time/Documents/GitHub/Python/4. 파이썬 학습/Part 1. 기초 프로젝트/4. 폴더관리/os/new_folder'\n",
    "dir_pathlib = pathlib.Path('/Users/time/Documents/GitHub/Python/4. 파이썬 학습/Part 1. 기초 프로젝트/4. 폴더관리/pathlib/new_folder')"
   ]
  },
  {
   "cell_type": "code",
   "execution_count": 3,
   "id": "cb4a61eb-da86-453b-8316-cd0793b54669",
   "metadata": {},
   "outputs": [],
   "source": [
    "# os\n",
    "if not os.path.exists(dir_os):\n",
    "    os.makedirs(dir_os)"
   ]
  },
  {
   "cell_type": "code",
   "execution_count": 8,
   "id": "e54d6668-5988-4513-b035-74c05c262699",
   "metadata": {},
   "outputs": [
    {
     "ename": "FileNotFoundError",
     "evalue": "[Errno 2] No such file or directory: '/Users/time/Documents/GitHub/Python/4. 파이썬 학습/Part 1. 기초 프로젝트/4. 폴더관리/pathlib/new_folder'",
     "output_type": "error",
     "traceback": [
      "\u001b[0;31m---------------------------------------------------------------------------\u001b[0m",
      "\u001b[0;31mFileNotFoundError\u001b[0m                         Traceback (most recent call last)",
      "Cell \u001b[0;32mIn[8], line 1\u001b[0m\n\u001b[0;32m----> 1\u001b[0m dir_pathlib\u001b[38;5;241m.\u001b[39mmkdir(parents \u001b[38;5;241m=\u001b[39m \u001b[38;5;28;01mFalse\u001b[39;00m, exist_ok \u001b[38;5;241m=\u001b[39m \u001b[38;5;28;01mTrue\u001b[39;00m)\n",
      "File \u001b[0;32m~/anaconda3/lib/python3.11/pathlib.py:1116\u001b[0m, in \u001b[0;36mPath.mkdir\u001b[0;34m(self, mode, parents, exist_ok)\u001b[0m\n\u001b[1;32m   1112\u001b[0m \u001b[38;5;250m\u001b[39m\u001b[38;5;124;03m\"\"\"\u001b[39;00m\n\u001b[1;32m   1113\u001b[0m \u001b[38;5;124;03mCreate a new directory at this given path.\u001b[39;00m\n\u001b[1;32m   1114\u001b[0m \u001b[38;5;124;03m\"\"\"\u001b[39;00m\n\u001b[1;32m   1115\u001b[0m \u001b[38;5;28;01mtry\u001b[39;00m:\n\u001b[0;32m-> 1116\u001b[0m     os\u001b[38;5;241m.\u001b[39mmkdir(\u001b[38;5;28mself\u001b[39m, mode)\n\u001b[1;32m   1117\u001b[0m \u001b[38;5;28;01mexcept\u001b[39;00m \u001b[38;5;167;01mFileNotFoundError\u001b[39;00m:\n\u001b[1;32m   1118\u001b[0m     \u001b[38;5;28;01mif\u001b[39;00m \u001b[38;5;129;01mnot\u001b[39;00m parents \u001b[38;5;129;01mor\u001b[39;00m \u001b[38;5;28mself\u001b[39m\u001b[38;5;241m.\u001b[39mparent \u001b[38;5;241m==\u001b[39m \u001b[38;5;28mself\u001b[39m:\n",
      "\u001b[0;31mFileNotFoundError\u001b[0m: [Errno 2] No such file or directory: '/Users/time/Documents/GitHub/Python/4. 파이썬 학습/Part 1. 기초 프로젝트/4. 폴더관리/pathlib/new_folder'"
     ]
    }
   ],
   "source": [
    "dir_pathlib.mkdir(parents = False, exist_ok = True)"
   ]
  },
  {
   "cell_type": "code",
   "execution_count": 9,
   "id": "f2335b4c-c649-4c3e-9a44-3fa8041e5e50",
   "metadata": {},
   "outputs": [],
   "source": [
    "dir_pathlib.mkdir(parents = True, exist_ok = True)"
   ]
  },
  {
   "cell_type": "code",
   "execution_count": 11,
   "id": "83339617-1be3-4242-9615-1a5b31daabd2",
   "metadata": {},
   "outputs": [],
   "source": [
    "with open(\"새파일.txt\", \"w\") as file:\n",
    "    for i in range(1, 11):\n",
    "        data = \"%d번째 줄입니다. \\n\" % i\n",
    "        file.write(data)"
   ]
  },
  {
   "cell_type": "code",
   "execution_count": 15,
   "id": "203fdf54-b179-4878-8fe7-46aa6fe1c1bc",
   "metadata": {},
   "outputs": [],
   "source": [
    "for i in range(0,10):\n",
    "    name_txt = \"새파일\" + str(i) + \".txt\"\n",
    "    with open(name_txt, \"w\") as f:\n",
    "        data = name_txt\n",
    "        f.write(data)"
   ]
  },
  {
   "cell_type": "code",
   "execution_count": 10,
   "id": "10bd6a07-5d5e-47ea-b876-85a59239cff3",
   "metadata": {},
   "outputs": [
    {
     "name": "stdout",
     "output_type": "stream",
     "text": [
      "['.DS_Store', '새파일8.txt', '새파일.txt', '새파일9.txt', '02. 디렉터리 다루기.ipynb', '.ipynb_checkpoints', '새파일4.txt', '새파일5.txt', '새파일7.txt', '새파일6.txt', '새파일2.txt', '새파일3.txt', '새파일1.txt', '새파일0.txt']\n"
     ]
    }
   ],
   "source": [
    "# 전체 파일 리스트 가져오기\n",
    "print(os.listdir('/Users/time/Documents/GitHub/Python/4. 파이썬 학습/Part 1. 기초 프로젝트/4. 폴더관리'))"
   ]
  },
  {
   "cell_type": "code",
   "execution_count": 5,
   "id": "a8a9eefb-7539-4c52-a23e-499b2a33b245",
   "metadata": {},
   "outputs": [],
   "source": [
    "dir_file = '/Users/time/Documents/GitHub/Python/4. 파이썬 학습/Part 1. 기초 프로젝트/4. 폴더관리'"
   ]
  },
  {
   "cell_type": "code",
   "execution_count": 20,
   "id": "d5be94e2-fd68-482e-b053-5e892e316b85",
   "metadata": {},
   "outputs": [
    {
     "name": "stdout",
     "output_type": "stream",
     "text": [
      ".DS_Store\n"
     ]
    }
   ],
   "source": [
    "print(pathlib.PurePath(os.listdir(dir_file)[0]).name)"
   ]
  },
  {
   "cell_type": "code",
   "execution_count": 21,
   "id": "818c7c6e-bcfb-4097-b9f8-54184e31d34d",
   "metadata": {},
   "outputs": [
    {
     "data": {
      "text/plain": [
       "'.DS_Store'"
      ]
     },
     "execution_count": 21,
     "metadata": {},
     "output_type": "execute_result"
    }
   ],
   "source": [
    "os.listdir(dir_file)[0]"
   ]
  },
  {
   "cell_type": "code",
   "execution_count": 24,
   "id": "86bd507b-b7b7-4595-9fd4-b4af398e2002",
   "metadata": {},
   "outputs": [
    {
     "ename": "TypeError",
     "evalue": "expected str, bytes or os.PathLike object, not list",
     "output_type": "error",
     "traceback": [
      "\u001b[0;31m---------------------------------------------------------------------------\u001b[0m",
      "\u001b[0;31mTypeError\u001b[0m                                 Traceback (most recent call last)",
      "Cell \u001b[0;32mIn[24], line 1\u001b[0m\n\u001b[0;32m----> 1\u001b[0m pathlib\u001b[38;5;241m.\u001b[39mPurePath(os\u001b[38;5;241m.\u001b[39mlistdir(dir_file))\n",
      "File \u001b[0;32m~/anaconda3/lib/python3.11/pathlib.py:477\u001b[0m, in \u001b[0;36mPurePath.__new__\u001b[0;34m(cls, *args)\u001b[0m\n\u001b[1;32m    475\u001b[0m \u001b[38;5;28;01mif\u001b[39;00m \u001b[38;5;28mcls\u001b[39m \u001b[38;5;129;01mis\u001b[39;00m PurePath:\n\u001b[1;32m    476\u001b[0m     \u001b[38;5;28mcls\u001b[39m \u001b[38;5;241m=\u001b[39m PureWindowsPath \u001b[38;5;28;01mif\u001b[39;00m os\u001b[38;5;241m.\u001b[39mname \u001b[38;5;241m==\u001b[39m \u001b[38;5;124m'\u001b[39m\u001b[38;5;124mnt\u001b[39m\u001b[38;5;124m'\u001b[39m \u001b[38;5;28;01melse\u001b[39;00m PurePosixPath\n\u001b[0;32m--> 477\u001b[0m \u001b[38;5;28;01mreturn\u001b[39;00m \u001b[38;5;28mcls\u001b[39m\u001b[38;5;241m.\u001b[39m_from_parts(args)\n",
      "File \u001b[0;32m~/anaconda3/lib/python3.11/pathlib.py:509\u001b[0m, in \u001b[0;36mPurePath._from_parts\u001b[0;34m(cls, args)\u001b[0m\n\u001b[1;32m    504\u001b[0m \u001b[38;5;129m@classmethod\u001b[39m\n\u001b[1;32m    505\u001b[0m \u001b[38;5;28;01mdef\u001b[39;00m \u001b[38;5;21m_from_parts\u001b[39m(\u001b[38;5;28mcls\u001b[39m, args):\n\u001b[1;32m    506\u001b[0m     \u001b[38;5;66;03m# We need to call _parse_args on the instance, so as to get the\u001b[39;00m\n\u001b[1;32m    507\u001b[0m     \u001b[38;5;66;03m# right flavour.\u001b[39;00m\n\u001b[1;32m    508\u001b[0m     \u001b[38;5;28mself\u001b[39m \u001b[38;5;241m=\u001b[39m \u001b[38;5;28mobject\u001b[39m\u001b[38;5;241m.\u001b[39m\u001b[38;5;21m__new__\u001b[39m(\u001b[38;5;28mcls\u001b[39m)\n\u001b[0;32m--> 509\u001b[0m     drv, root, parts \u001b[38;5;241m=\u001b[39m \u001b[38;5;28mself\u001b[39m\u001b[38;5;241m.\u001b[39m_parse_args(args)\n\u001b[1;32m    510\u001b[0m     \u001b[38;5;28mself\u001b[39m\u001b[38;5;241m.\u001b[39m_drv \u001b[38;5;241m=\u001b[39m drv\n\u001b[1;32m    511\u001b[0m     \u001b[38;5;28mself\u001b[39m\u001b[38;5;241m.\u001b[39m_root \u001b[38;5;241m=\u001b[39m root\n",
      "File \u001b[0;32m~/anaconda3/lib/python3.11/pathlib.py:493\u001b[0m, in \u001b[0;36mPurePath._parse_args\u001b[0;34m(cls, args)\u001b[0m\n\u001b[1;32m    491\u001b[0m     parts \u001b[38;5;241m+\u001b[39m\u001b[38;5;241m=\u001b[39m a\u001b[38;5;241m.\u001b[39m_parts\n\u001b[1;32m    492\u001b[0m \u001b[38;5;28;01melse\u001b[39;00m:\n\u001b[0;32m--> 493\u001b[0m     a \u001b[38;5;241m=\u001b[39m os\u001b[38;5;241m.\u001b[39mfspath(a)\n\u001b[1;32m    494\u001b[0m     \u001b[38;5;28;01mif\u001b[39;00m \u001b[38;5;28misinstance\u001b[39m(a, \u001b[38;5;28mstr\u001b[39m):\n\u001b[1;32m    495\u001b[0m         \u001b[38;5;66;03m# Force-cast str subclasses to str (issue #21127)\u001b[39;00m\n\u001b[1;32m    496\u001b[0m         parts\u001b[38;5;241m.\u001b[39mappend(\u001b[38;5;28mstr\u001b[39m(a))\n",
      "\u001b[0;31mTypeError\u001b[0m: expected str, bytes or os.PathLike object, not list"
     ]
    }
   ],
   "source": [
    "pathlib.PurePath(os.listdir(dir_file))"
   ]
  },
  {
   "cell_type": "markdown",
   "id": "e1265794-22d9-4608-98c0-72867cb4e1a5",
   "metadata": {},
   "source": [
    "### 확장자 분리"
   ]
  },
  {
   "cell_type": "code",
   "execution_count": 8,
   "id": "0003a301-caf9-455f-886b-cfff129e8268",
   "metadata": {},
   "outputs": [],
   "source": [
    "file_path = os.path.basename(os.listdir(dir_file)[1])"
   ]
  },
  {
   "cell_type": "code",
   "execution_count": 9,
   "id": "bd9d2fe1-36d2-4e38-861e-1a192c577a06",
   "metadata": {},
   "outputs": [
    {
     "name": "stdout",
     "output_type": "stream",
     "text": [
      "새파일8.txt\n"
     ]
    }
   ],
   "source": [
    "print(file_path)"
   ]
  },
  {
   "cell_type": "code",
   "execution_count": 12,
   "id": "236d2681-73a3-4f56-9199-8bcb7b5bfe80",
   "metadata": {},
   "outputs": [
    {
     "name": "stdout",
     "output_type": "stream",
     "text": [
      "('새파일8', '.txt')\n"
     ]
    }
   ],
   "source": [
    "print(os.path.splitext(file_path))"
   ]
  },
  {
   "cell_type": "code",
   "execution_count": 13,
   "id": "5f7786dd-d68e-49ad-912a-32fad35f6cd8",
   "metadata": {},
   "outputs": [
    {
     "data": {
      "text/plain": [
       "'.txt'"
      ]
     },
     "execution_count": 13,
     "metadata": {},
     "output_type": "execute_result"
    }
   ],
   "source": [
    "pathlib.PurePath(file_path).suffix"
   ]
  }
 ],
 "metadata": {
  "kernelspec": {
   "display_name": "Python 3 (ipykernel)",
   "language": "python",
   "name": "python3"
  },
  "language_info": {
   "codemirror_mode": {
    "name": "ipython",
    "version": 3
   },
   "file_extension": ".py",
   "mimetype": "text/x-python",
   "name": "python",
   "nbconvert_exporter": "python",
   "pygments_lexer": "ipython3",
   "version": "3.11.5"
  }
 },
 "nbformat": 4,
 "nbformat_minor": 5
}
