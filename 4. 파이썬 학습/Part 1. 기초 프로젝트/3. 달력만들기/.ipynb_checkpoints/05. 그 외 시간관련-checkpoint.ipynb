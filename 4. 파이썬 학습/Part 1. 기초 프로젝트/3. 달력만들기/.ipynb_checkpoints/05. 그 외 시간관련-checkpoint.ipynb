{
 "cells": [
  {
   "cell_type": "markdown",
   "id": "281af5a9-f3d0-4c54-89e9-3cddff2a9681",
   "metadata": {},
   "source": [
    "### dateutil\n",
    "parse 함수를 통해 자동으로 날짜 형식을 찾아서 datetime 객체로 변환한다."
   ]
  },
  {
   "cell_type": "code",
   "execution_count": 1,
   "id": "8422de8e-b348-4d6e-beb2-4a50a8e552a7",
   "metadata": {},
   "outputs": [],
   "source": [
    "import datetime"
   ]
  },
  {
   "cell_type": "code",
   "execution_count": 2,
   "id": "03f7cd3a-dfae-4ee1-bb54-51427c9b8a6d",
   "metadata": {},
   "outputs": [
    {
     "data": {
      "text/plain": [
       "datetime.datetime(2024, 1, 6, 0, 0)"
      ]
     },
     "execution_count": 2,
     "metadata": {},
     "output_type": "execute_result"
    }
   ],
   "source": [
    "# striptime 활용\n",
    "date = '2024-01-06'\n",
    "date_parsed = datetime.datetime.strptime(date, '%Y-%m-%d')\n",
    "date_parsed"
   ]
  },
  {
   "cell_type": "code",
   "execution_count": 3,
   "id": "3d43bee9-9b27-4ff8-8726-a24c158841c2",
   "metadata": {},
   "outputs": [],
   "source": [
    "from dateutil.parser import parse"
   ]
  },
  {
   "cell_type": "code",
   "execution_count": 4,
   "id": "85ae1037-3e9d-4dfc-9cdc-a7f276ed72c4",
   "metadata": {},
   "outputs": [
    {
     "data": {
      "text/plain": [
       "datetime.datetime(2024, 1, 6, 0, 0)"
      ]
     },
     "execution_count": 4,
     "metadata": {},
     "output_type": "execute_result"
    }
   ],
   "source": [
    "# dateutil 활용\n",
    "parse(date)"
   ]
  },
  {
   "cell_type": "code",
   "execution_count": 5,
   "id": "45b80ce6-5be0-425b-92b5-e7dc37ebebac",
   "metadata": {},
   "outputs": [
    {
     "data": {
      "text/plain": [
       "datetime.datetime(2022, 10, 15, 16, 5, 32)"
      ]
     },
     "execution_count": 5,
     "metadata": {},
     "output_type": "execute_result"
    }
   ],
   "source": [
    "parse(\"Oct 15, 2022 04:05:32 PM\")"
   ]
  },
  {
   "cell_type": "code",
   "execution_count": 6,
   "id": "bc7b6b70-38e1-4d90-abb0-7aa53219280a",
   "metadata": {},
   "outputs": [],
   "source": [
    "log = 'INFO 2022-01-01T00:00:01 Happy new year, human.'"
   ]
  },
  {
   "cell_type": "code",
   "execution_count": 8,
   "id": "68e414d9-9800-48bf-827b-fb5a01ce441f",
   "metadata": {},
   "outputs": [
    {
     "data": {
      "text/plain": [
       "datetime.datetime(2022, 1, 1, 0, 0, 1)"
      ]
     },
     "execution_count": 8,
     "metadata": {},
     "output_type": "execute_result"
    }
   ],
   "source": [
    "parse(log, fuzzy = True)"
   ]
  },
  {
   "cell_type": "markdown",
   "id": "90d0da5c-5c24-40e5-9f9f-64cd439380a9",
   "metadata": {},
   "source": [
    "### time\n",
    "datetime 라이브러리와 같이 파이썬에서 시간과 날짜를 다루기 위한 내장 라이브러리 <br>\n",
    "프로그램 실행 경과 시간, 프로그램 대기 시간 등을 만들 때 주로 사용"
   ]
  },
  {
   "cell_type": "code",
   "execution_count": 12,
   "id": "867ee1c3-d034-407b-b718-7028f12162da",
   "metadata": {},
   "outputs": [],
   "source": [
    "import time"
   ]
  },
  {
   "cell_type": "code",
   "execution_count": 16,
   "id": "962d0708-1a5a-4358-bdf2-482faf452eaa",
   "metadata": {},
   "outputs": [
    {
     "name": "stdout",
     "output_type": "stream",
     "text": [
      "바로 출력되는 구문\n",
      "3초 후 출력되는 구문\n",
      "1704534907.789941\n",
      "1704534910.7922602\n",
      "실행시간: 3.002319097518921\n"
     ]
    }
   ],
   "source": [
    "print('바로 출력되는 구문')\n",
    "\n",
    "start_time = time.time()\n",
    "time.sleep(3)\n",
    "\n",
    "print('3초 후 출력되는 구문')\n",
    "\n",
    "end_time = time.time()\n",
    "\n",
    "print(start_time)\n",
    "print(end_time)\n",
    "\n",
    "execution_time = end_time - start_time\n",
    "\n",
    "print('실행시간:', execution_time)"
   ]
  },
  {
   "cell_type": "code",
   "execution_count": 18,
   "id": "4544efcb-7364-4e39-be6d-7335e50f59a4",
   "metadata": {},
   "outputs": [
    {
     "name": "stdout",
     "output_type": "stream",
     "text": [
      "반복 횟수 1\n",
      "반복 횟수 2\n",
      "반복 횟수 3\n",
      "반복 횟수 4\n",
      "반복 횟수 5\n",
      "경과 시간은: 5.016714096069336초 입니다.\n",
      "경과 시간은: 5.016714096069336초 입니다.\n"
     ]
    }
   ],
   "source": [
    "start_time = time.time()\n",
    "\n",
    "for i in range(5):\n",
    "    time.sleep(1) # 1초 동안 대기\n",
    "    print('반복 횟수', i + 1)\n",
    "\n",
    "end_time = time.time()\n",
    "elapsed_time = end_time - start_time\n",
    "\n",
    "print('경과 시간은: {}초 입니다.'.format(elapsed_time))\n",
    "print(f'경과 시간은: {elapsed_time}초 입니다.')"
   ]
  },
  {
   "cell_type": "code",
   "execution_count": null,
   "id": "d1f6fc40-2c45-47f1-aa91-5dace12eaba0",
   "metadata": {},
   "outputs": [],
   "source": []
  }
 ],
 "metadata": {
  "kernelspec": {
   "display_name": "Python 3 (ipykernel)",
   "language": "python",
   "name": "python3"
  },
  "language_info": {
   "codemirror_mode": {
    "name": "ipython",
    "version": 3
   },
   "file_extension": ".py",
   "mimetype": "text/x-python",
   "name": "python",
   "nbconvert_exporter": "python",
   "pygments_lexer": "ipython3",
   "version": "3.11.5"
  }
 },
 "nbformat": 4,
 "nbformat_minor": 5
}
