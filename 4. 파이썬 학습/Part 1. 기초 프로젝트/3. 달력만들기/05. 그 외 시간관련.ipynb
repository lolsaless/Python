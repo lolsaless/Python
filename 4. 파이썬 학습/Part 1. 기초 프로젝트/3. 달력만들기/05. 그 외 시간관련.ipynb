{
 "cells": [
  {
   "cell_type": "markdown",
   "id": "281af5a9-f3d0-4c54-89e9-3cddff2a9681",
   "metadata": {},
   "source": [
    "### dateutil\n",
    "parse 함수를 통해 자동으로 날짜 형식을 찾아서 datetime 객체로 변환한다."
   ]
  },
  {
   "cell_type": "code",
   "execution_count": 1,
   "id": "8422de8e-b348-4d6e-beb2-4a50a8e552a7",
   "metadata": {},
   "outputs": [],
   "source": [
    "import datetime"
   ]
  },
  {
   "cell_type": "code",
   "execution_count": null,
   "id": "03f7cd3a-dfae-4ee1-bb54-51427c9b8a6d",
   "metadata": {},
   "outputs": [],
   "source": [
    "# striptime 활용\n",
    "date = "
   ]
  }
 ],
 "metadata": {
  "kernelspec": {
   "display_name": "Python 3 (ipykernel)",
   "language": "python",
   "name": "python3"
  },
  "language_info": {
   "codemirror_mode": {
    "name": "ipython",
    "version": 3
   },
   "file_extension": ".py",
   "mimetype": "text/x-python",
   "name": "python",
   "nbconvert_exporter": "python",
   "pygments_lexer": "ipython3",
   "version": "3.11.5"
  }
 },
 "nbformat": 4,
 "nbformat_minor": 5
}
