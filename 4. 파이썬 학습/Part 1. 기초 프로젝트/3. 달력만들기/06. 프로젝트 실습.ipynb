{
 "cells": [
  {
   "cell_type": "markdown",
   "id": "a2889e71-c41c-40ac-86a8-e2595eae091b",
   "metadata": {},
   "source": [
    "### 윤년 판별 함수"
   ]
  },
  {
   "cell_type": "code",
   "execution_count": 1,
   "id": "408ab227-9f05-4fcf-bef2-84906650bf14",
   "metadata": {},
   "outputs": [],
   "source": [
    "def isLeapYear(year):\n",
    "    return year % 4 == 0 and year % 100 != 0 or year % 400 == 0"
   ]
  },
  {
   "cell_type": "code",
   "execution_count": 2,
   "id": "072c070c-a4cb-4627-8543-b0aa44519f8a",
   "metadata": {},
   "outputs": [
    {
     "data": {
      "text/plain": [
       "True"
      ]
     },
     "execution_count": 2,
     "metadata": {},
     "output_type": "execute_result"
    }
   ],
   "source": [
    "isLeapYear(2020)"
   ]
  },
  {
   "cell_type": "code",
   "execution_count": 3,
   "id": "7ce6447e-c9ff-402f-8b8e-eeceb4d6c0d2",
   "metadata": {},
   "outputs": [
    {
     "data": {
      "text/plain": [
       "False"
      ]
     },
     "execution_count": 3,
     "metadata": {},
     "output_type": "execute_result"
    }
   ],
   "source": [
    "isLeapYear(2022)"
   ]
  },
  {
   "cell_type": "code",
   "execution_count": 4,
   "id": "ef223ced-56e0-4a1d-b4ea-b52a7f7f4dab",
   "metadata": {},
   "outputs": [
    {
     "data": {
      "text/plain": [
       "False"
      ]
     },
     "execution_count": 4,
     "metadata": {},
     "output_type": "execute_result"
    }
   ],
   "source": [
    "import calendar\n",
    "calendar.isleap(2022)"
   ]
  },
  {
   "cell_type": "code",
   "execution_count": 5,
   "id": "0218e5bd-6c47-4a03-ac30-eb8c53f347f7",
   "metadata": {},
   "outputs": [
    {
     "data": {
      "text/plain": [
       "True"
      ]
     },
     "execution_count": 5,
     "metadata": {},
     "output_type": "execute_result"
    }
   ],
   "source": [
    "calendar.isleap(2024)"
   ]
  },
  {
   "cell_type": "markdown",
   "id": "7a5a5cda-9def-4840-b9b8-9b3ce50cd22c",
   "metadata": {},
   "source": [
    "### 마지막 날짜 계산\n",
    "lastday 인수로 년, 월을 넘겨 받아 그 달의 마지막 날짜를 리턴하는 함수"
   ]
  },
  {
   "cell_type": "code",
   "execution_count": 94,
   "id": "f12111eb-92f3-4de4-81b9-5d3ba6acc9cb",
   "metadata": {},
   "outputs": [],
   "source": [
    "def lastday(year, month):\n",
    "    # 각 달의 마지막 날자를 기억하는 리스트 생성\n",
    "    m = [31, 28, 31, 30, 31, 30, 31, 31, 30, 31, 30, 31]\n",
    "\n",
    "    # 2월의 마지막 날짜를 확정: 윤년이면 29일로 수정\n",
    "    if isLeapYear(year):\n",
    "        m[1] = 29\n",
    "    # 마지막 날짜 계산(month - 1)은 파이썬이 0부터 시작하기 때문\n",
    "        return m[month - 1]\n"
   ]
  },
  {
   "cell_type": "code",
   "execution_count": 22,
   "id": "9ed14fc0-66fe-4d30-ad46-eb546938e6c4",
   "metadata": {},
   "outputs": [
    {
     "data": {
      "text/plain": [
       "29"
      ]
     },
     "execution_count": 22,
     "metadata": {},
     "output_type": "execute_result"
    }
   ],
   "source": [
    "lastday(2024, 2)"
   ]
  },
  {
   "cell_type": "code",
   "execution_count": 17,
   "id": "99035245-3c57-4140-82ff-36ff0c9da8a1",
   "metadata": {},
   "outputs": [],
   "source": [
    "lastday(2023, 2)"
   ]
  },
  {
   "cell_type": "markdown",
   "id": "9da7cc27-4441-47a6-a91d-d5bbf1dc08f5",
   "metadata": {},
   "source": [
    "### 지나온 날짜 계산"
   ]
  },
  {
   "cell_type": "code",
   "execution_count": 95,
   "id": "04ababa2-bef1-4022-83a7-c9cbbbc7f4a8",
   "metadata": {},
   "outputs": [],
   "source": [
    "def totalDay(year, month, day):\n",
    "    total = (year - 1) * 365 + (year - 1) // 4 - (year - 1) // 100 + (year - 1) // 400\n",
    "\n",
    "    for i in range(1, month):\n",
    "        total += lastday(year, i)\n",
    "\n",
    "    return total + day"
   ]
  },
  {
   "cell_type": "code",
   "execution_count": 47,
   "id": "d0d4618f-5772-4954-936a-de9dac7b204b",
   "metadata": {},
   "outputs": [
    {
     "data": {
      "text/plain": [
       "738906"
      ]
     },
     "execution_count": 47,
     "metadata": {},
     "output_type": "execute_result"
    }
   ],
   "source": [
    "totalDay(2024, 1, 21)"
   ]
  },
  {
   "cell_type": "code",
   "execution_count": 48,
   "id": "1fd2c725-7265-4754-a7b8-29645528cd70",
   "metadata": {},
   "outputs": [
    {
     "name": "stdout",
     "output_type": "stream",
     "text": [
      "505\n"
     ]
    }
   ],
   "source": [
    "print((2024 - 1) // 4)"
   ]
  },
  {
   "cell_type": "code",
   "execution_count": 84,
   "id": "ffe9be53-07ed-4e11-818c-b76c59857a3c",
   "metadata": {},
   "outputs": [
    {
     "data": {
      "text/plain": [
       "1098"
      ]
     },
     "execution_count": 84,
     "metadata": {},
     "output_type": "execute_result"
    }
   ],
   "source": [
    "totalDay(4, 1, 3)"
   ]
  },
  {
   "cell_type": "markdown",
   "id": "f0888874-9a53-48c7-beac-b1de812141e4",
   "metadata": {},
   "source": [
    "### 요일 반환"
   ]
  },
  {
   "cell_type": "code",
   "execution_count": 96,
   "id": "45ada827-ce19-4d1f-bdc9-76f910d38518",
   "metadata": {},
   "outputs": [],
   "source": [
    "def weekDay(year, month, day):\n",
    "    return totalDay(year, month, day) % 7"
   ]
  },
  {
   "cell_type": "code",
   "execution_count": 99,
   "id": "1eae18b2-6fcd-418e-a968-b1344ffea710",
   "metadata": {},
   "outputs": [
    {
     "data": {
      "text/plain": [
       "738892"
      ]
     },
     "execution_count": 99,
     "metadata": {},
     "output_type": "execute_result"
    }
   ],
   "source": [
    "totalDay(2024, 1, 7)"
   ]
  },
  {
   "cell_type": "code",
   "execution_count": 103,
   "id": "0d338472-dbff-4c98-94ba-b8e6a25bd105",
   "metadata": {},
   "outputs": [
    {
     "data": {
      "text/plain": [
       "1"
      ]
     },
     "execution_count": 103,
     "metadata": {},
     "output_type": "execute_result"
    }
   ],
   "source": [
    "weekDay(2024, 1, 1)"
   ]
  },
  {
   "cell_type": "code",
   "execution_count": 100,
   "id": "b0304ff6-69f7-4a37-b938-aa180078d53d",
   "metadata": {},
   "outputs": [
    {
     "name": "stdout",
     "output_type": "stream",
     "text": [
      "3\n"
     ]
    }
   ],
   "source": [
    "print(10 % 7)"
   ]
  },
  {
   "cell_type": "code",
   "execution_count": null,
   "id": "929923c9-3dac-419a-87df-3ce829accde7",
   "metadata": {},
   "outputs": [],
   "source": [
    "print(10/3)"
   ]
  },
  {
   "cell_type": "code",
   "execution_count": 102,
   "id": "237eaace-4485-485a-b683-224ae842b909",
   "metadata": {},
   "outputs": [],
   "source": [
    "for i in range(6, 1):\n",
    "    print(i)"
   ]
  },
  {
   "cell_type": "markdown",
   "id": "47936487-6433-4f6c-8177-99f8c2808b7a",
   "metadata": {
    "jp-MarkdownHeadingCollapsed": true
   },
   "source": [
    "# ChatGPT 학습"
   ]
  },
  {
   "cell_type": "code",
   "execution_count": 50,
   "id": "9e7c3317-9dcb-45a4-84fa-4dfea4cb041f",
   "metadata": {},
   "outputs": [
    {
     "ename": "TypeError",
     "evalue": "unsupported operand type(s) for +=: 'int' and 'NoneType'",
     "output_type": "error",
     "traceback": [
      "\u001b[0;31m---------------------------------------------------------------------------\u001b[0m",
      "\u001b[0;31mTypeError\u001b[0m                                 Traceback (most recent call last)",
      "Cell \u001b[0;32mIn[50], line 20\u001b[0m\n\u001b[1;32m     17\u001b[0m     \u001b[38;5;28;01mreturn\u001b[39;00m total \u001b[38;5;241m+\u001b[39m day\n\u001b[1;32m     19\u001b[0m \u001b[38;5;66;03m# 함수 호출\u001b[39;00m\n\u001b[0;32m---> 20\u001b[0m \u001b[38;5;28mprint\u001b[39m(totalDay(\u001b[38;5;241m2\u001b[39m, \u001b[38;5;241m3\u001b[39m, \u001b[38;5;241m1\u001b[39m))\n",
      "Cell \u001b[0;32mIn[50], line 15\u001b[0m, in \u001b[0;36mtotalDay\u001b[0;34m(year, month, day)\u001b[0m\n\u001b[1;32m     12\u001b[0m total \u001b[38;5;241m=\u001b[39m (year \u001b[38;5;241m-\u001b[39m \u001b[38;5;241m1\u001b[39m) \u001b[38;5;241m*\u001b[39m \u001b[38;5;241m365\u001b[39m \u001b[38;5;241m+\u001b[39m (year \u001b[38;5;241m-\u001b[39m \u001b[38;5;241m1\u001b[39m) \u001b[38;5;241m/\u001b[39m\u001b[38;5;241m/\u001b[39m \u001b[38;5;241m4\u001b[39m \u001b[38;5;241m-\u001b[39m (year \u001b[38;5;241m-\u001b[39m \u001b[38;5;241m1\u001b[39m) \u001b[38;5;241m/\u001b[39m\u001b[38;5;241m/\u001b[39m \u001b[38;5;241m100\u001b[39m \u001b[38;5;241m+\u001b[39m (year \u001b[38;5;241m-\u001b[39m \u001b[38;5;241m1\u001b[39m) \u001b[38;5;241m/\u001b[39m\u001b[38;5;241m/\u001b[39m \u001b[38;5;241m400\u001b[39m\n\u001b[1;32m     14\u001b[0m \u001b[38;5;28;01mfor\u001b[39;00m i \u001b[38;5;129;01min\u001b[39;00m \u001b[38;5;28mrange\u001b[39m(\u001b[38;5;241m1\u001b[39m, month):\n\u001b[0;32m---> 15\u001b[0m     total \u001b[38;5;241m+\u001b[39m\u001b[38;5;241m=\u001b[39m lastDay(year, i)\n\u001b[1;32m     17\u001b[0m \u001b[38;5;28;01mreturn\u001b[39;00m total \u001b[38;5;241m+\u001b[39m day\n",
      "\u001b[0;31mTypeError\u001b[0m: unsupported operand type(s) for +=: 'int' and 'NoneType'"
     ]
    }
   ],
   "source": [
    "def lastDay(year, month):\n",
    "    # 각 달의 마지막 날자를 기억하는 리스트 생성\n",
    "    m = [31, 28, 31, 30, 31, 30, 31, 31, 30, 31, 30, 31]\n",
    "\n",
    "    # 2월의 마지막 날짜를 확정: 윤년이면 29일로 수정\n",
    "    if isLeapYear(year):\n",
    "        m[1] = 29\n",
    "    # 마지막 날짜 계산(month - 1)은 파이썬이 0부터 시작하기 때문\n",
    "        return m[month - 1]\n",
    "\n",
    "def totalDay(year, month, day):\n",
    "    total = (year - 1) * 365 + (year - 1) // 4 - (year - 1) // 100 + (year - 1) // 400\n",
    "\n",
    "    for i in range(1, month):\n",
    "        total += lastDay(year, i)\n",
    "\n",
    "    return total + day\n",
    "\n",
    "# 함수 호출\n",
    "print(totalDay(2, 3, 1))"
   ]
  },
  {
   "cell_type": "code",
   "execution_count": 85,
   "id": "47eb6e75-3193-4074-b04e-36fabf1c0491",
   "metadata": {},
   "outputs": [
    {
     "ename": "UnboundLocalError",
     "evalue": "cannot access local variable 'last_day' where it is not associated with a value",
     "output_type": "error",
     "traceback": [
      "\u001b[0;31m---------------------------------------------------------------------------\u001b[0m",
      "\u001b[0;31mUnboundLocalError\u001b[0m                         Traceback (most recent call last)",
      "Cell \u001b[0;32mIn[85], line 23\u001b[0m\n\u001b[1;32m     20\u001b[0m     \u001b[38;5;28;01mreturn\u001b[39;00m total \u001b[38;5;241m+\u001b[39m day\n\u001b[1;32m     22\u001b[0m \u001b[38;5;66;03m# 함수 호출\u001b[39;00m\n\u001b[0;32m---> 23\u001b[0m \u001b[38;5;28mprint\u001b[39m(totalDay(\u001b[38;5;241m1\u001b[39m, \u001b[38;5;241m1\u001b[39m, \u001b[38;5;241m3\u001b[39m))\n",
      "Cell \u001b[0;32mIn[85], line 18\u001b[0m, in \u001b[0;36mtotalDay\u001b[0;34m(year, month, day)\u001b[0m\n\u001b[1;32m     16\u001b[0m     \u001b[38;5;28;01mif\u001b[39;00m last_day \u001b[38;5;129;01mis\u001b[39;00m \u001b[38;5;129;01mnot\u001b[39;00m \u001b[38;5;28;01mNone\u001b[39;00m:\n\u001b[1;32m     17\u001b[0m         total \u001b[38;5;241m+\u001b[39m\u001b[38;5;241m=\u001b[39m last_day\n\u001b[0;32m---> 18\u001b[0m \u001b[38;5;28mprint\u001b[39m(last_day)\n\u001b[1;32m     20\u001b[0m \u001b[38;5;28;01mreturn\u001b[39;00m total \u001b[38;5;241m+\u001b[39m day\n",
      "\u001b[0;31mUnboundLocalError\u001b[0m: cannot access local variable 'last_day' where it is not associated with a value"
     ]
    }
   ],
   "source": [
    "def lastDay(year, month):\n",
    "    # 각 달의 마지막 날자를 기억하는 리스트 생성\n",
    "    m = [31, 28, 31, 30, 31, 30, 31, 31, 30, 31, 30, 31]\n",
    "\n",
    "    # 2월의 마지막 날짜를 확정: 윤년이면 29일로 수정\n",
    "    if isLeapYear(year):\n",
    "        m[1] = 29\n",
    "    # 마지막 날짜 계산(month - 1)은 파이썬이 0부터 시작하기 때문\n",
    "    return m[month - 1]\n",
    "\n",
    "def totalDay(year, month, day):\n",
    "    total = (year - 1) * 365 + (year - 1) // 4 - (year - 1) // 100 + (year - 1) // 400\n",
    "\n",
    "    for i in range(1, month):\n",
    "        last_day = lastDay(year, i)\n",
    "        if last_day is not None:\n",
    "            total += last_day\n",
    "    print(last_day)\n",
    "\n",
    "    return total + day\n",
    "\n",
    "# 함수 호출\n",
    "print(totalDay(1, 1, 3))\n"
   ]
  },
  {
   "cell_type": "code",
   "execution_count": 59,
   "id": "87539329-996d-4fc3-957d-cb3377185826",
   "metadata": {},
   "outputs": [],
   "source": [
    "year = 2"
   ]
  },
  {
   "cell_type": "code",
   "execution_count": 60,
   "id": "e0fffc32-92f6-4c06-b027-92324ace7d3d",
   "metadata": {},
   "outputs": [
    {
     "name": "stdout",
     "output_type": "stream",
     "text": [
      "365\n"
     ]
    }
   ],
   "source": [
    "total = (year - 1) * 365 + (year - 1) // 4 - (year - 1) // 100 + (year - 1) // 400\n",
    "print(total)"
   ]
  },
  {
   "cell_type": "code",
   "execution_count": 69,
   "id": "618a315c-234a-471b-b5ab-80ba730975db",
   "metadata": {},
   "outputs": [
    {
     "name": "stdout",
     "output_type": "stream",
     "text": [
      "1\n",
      "2\n",
      "3\n"
     ]
    }
   ],
   "source": [
    "for i in range(1, 4):\n",
    "    print(i)"
   ]
  },
  {
   "cell_type": "code",
   "execution_count": 92,
   "id": "2c13a39a-7911-44f7-afe6-119ff3ec6412",
   "metadata": {},
   "outputs": [
    {
     "name": "stdout",
     "output_type": "stream",
     "text": [
      "51\n"
     ]
    }
   ],
   "source": [
    "def isLeapYear(year):\n",
    "    # 윤년 여부를 판단하는 로직을 추가 (예: 4로 나누어 떨어지면 윤년)\n",
    "    return (year % 4 == 0 and year % 100 != 0) or (year % 400 == 0)\n",
    "\n",
    "def lastDay(year, month):\n",
    "    m = [31, 28, 31, 30, 31, 30, 31, 31, 30, 31, 30, 31]\n",
    "    if isLeapYear(year):\n",
    "        m[1] = 29\n",
    "    return m[month - 1]\n",
    "\n",
    "def totalDay(year, month, day):\n",
    "    total = (year - 1) * 365 + (year - 1) // 4 - (year - 1) // 100 + (year - 1) // 400\n",
    "\n",
    "    for i in range(1, month):\n",
    "        last_day = lastDay(year, i)\n",
    "        if last_day is not None:\n",
    "            total += last_day\n",
    "\n",
    "    return total + day\n",
    "\n",
    "# 함수 호출\n",
    "print(totalDay(1, 2, 20))\n"
   ]
  },
  {
   "cell_type": "code",
   "execution_count": 93,
   "id": "e5e3576c-ad37-4d62-a268-9b04690d0b79",
   "metadata": {},
   "outputs": [
    {
     "name": "stdout",
     "output_type": "stream",
     "text": [
      "3\n"
     ]
    }
   ],
   "source": [
    "def isLeapYear(year):\n",
    "    # Check if a year is a leap year\n",
    "    return (year % 4 == 0 and year % 100 != 0) or (year % 400 == 0)\n",
    "\n",
    "def lastDay(year, month):\n",
    "    # Days in each month, February has 28 days by default\n",
    "    m = [31, 28, 31, 30, 31, 30, 31, 31, 30, 31, 30, 31]\n",
    "    # Adjust for leap year\n",
    "    if isLeapYear(year):\n",
    "        m[1] = 29\n",
    "    return m[month - 1]\n",
    "\n",
    "def totalDay(year, month, day):\n",
    "    total = (year - 1) * 365 + (year - 1) // 4 - (year - 1) // 100 + (year - 1) // 400\n",
    "\n",
    "    for i in range(1, month):\n",
    "        total += lastDay(year, i)\n",
    "\n",
    "    total += day  # Add days of the current month\n",
    "    return total\n",
    "\n",
    "# Function call\n",
    "print(totalDay(1, 1, 3))\n"
   ]
  },
  {
   "cell_type": "code",
   "execution_count": null,
   "id": "df371d25-2714-4270-8963-5713fe13b748",
   "metadata": {},
   "outputs": [],
   "source": []
  }
 ],
 "metadata": {
  "kernelspec": {
   "display_name": "Python 3 (ipykernel)",
   "language": "python",
   "name": "python3"
  },
  "language_info": {
   "codemirror_mode": {
    "name": "ipython",
    "version": 3
   },
   "file_extension": ".py",
   "mimetype": "text/x-python",
   "name": "python",
   "nbconvert_exporter": "python",
   "pygments_lexer": "ipython3",
   "version": "3.11.5"
  }
 },
 "nbformat": 4,
 "nbformat_minor": 5
}
