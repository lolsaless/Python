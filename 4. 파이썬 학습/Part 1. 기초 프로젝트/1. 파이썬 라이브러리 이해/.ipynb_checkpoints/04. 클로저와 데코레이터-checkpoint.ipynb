{
 "cells": [
  {
   "cell_type": "code",
   "execution_count": 1,
   "metadata": {},
   "outputs": [],
   "source": [
    "def mul3(n):\n",
    "    return n * 3"
   ]
  },
  {
   "cell_type": "code",
   "execution_count": 2,
   "metadata": {},
   "outputs": [
    {
     "data": {
      "text/plain": [
       "9"
      ]
     },
     "execution_count": 2,
     "metadata": {},
     "output_type": "execute_result"
    }
   ],
   "source": [
    "mul3(3)"
   ]
  },
  {
   "cell_type": "markdown",
   "metadata": {},
   "source": [
    "## 방법 1. 클래스(class) 사용하기"
   ]
  },
  {
   "cell_type": "code",
   "execution_count": 6,
   "metadata": {},
   "outputs": [],
   "source": [
    "class Mul:\n",
    "    def __init__(self, m):\n",
    "        self.m = m\n",
    "\n",
    "    def mul(self, n):\n",
    "        return self.m * n"
   ]
  },
  {
   "cell_type": "code",
   "execution_count": 7,
   "metadata": {},
   "outputs": [
    {
     "name": "stdout",
     "output_type": "stream",
     "text": [
      "30\n",
      "50\n"
     ]
    },
    {
     "ename": "TypeError",
     "evalue": "'Mul' object is not callable",
     "output_type": "error",
     "traceback": [
      "\u001b[0;31m---------------------------------------------------------------------------\u001b[0m",
      "\u001b[0;31mTypeError\u001b[0m                                 Traceback (most recent call last)",
      "Cell \u001b[0;32mIn[7], line 7\u001b[0m\n\u001b[1;32m      5\u001b[0m \u001b[38;5;28mprint\u001b[39m(mul3\u001b[38;5;241m.\u001b[39mmul(\u001b[38;5;241m10\u001b[39m))\n\u001b[1;32m      6\u001b[0m \u001b[38;5;28mprint\u001b[39m(mul5\u001b[38;5;241m.\u001b[39mmul(\u001b[38;5;241m10\u001b[39m))\n\u001b[0;32m----> 7\u001b[0m \u001b[38;5;28mprint\u001b[39m(mul3(\u001b[38;5;241m10\u001b[39m))\n",
      "\u001b[0;31mTypeError\u001b[0m: 'Mul' object is not callable"
     ]
    }
   ],
   "source": [
    "if __name__ == \"__main__\":\n",
    "    mul3 = Mul(3)\n",
    "    mul5 = Mul(5)\n",
    "\n",
    "    print(mul3.mul(10))\n",
    "    print(mul5.mul(10))\n",
    "    print(mul3(10))"
   ]
  },
  {
   "cell_type": "code",
   "execution_count": 3,
   "metadata": {},
   "outputs": [],
   "source": [
    "class Mul:\n",
    "    def __init__(self, m):\n",
    "        self.m = m\n",
    "\n",
    "    def __call__(self, n):\n",
    "        return self.m * n"
   ]
  },
  {
   "cell_type": "code",
   "execution_count": 4,
   "metadata": {},
   "outputs": [
    {
     "name": "stdout",
     "output_type": "stream",
     "text": [
      "36\n"
     ]
    }
   ],
   "source": [
    "if __name__ == \"__main__\":\n",
    "    test3 = Mul(3)\n",
    "    test5 = Mul(5)\n",
    "\n",
    "    print(test3(12))"
   ]
  },
  {
   "cell_type": "code",
   "execution_count": 9,
   "metadata": {},
   "outputs": [
    {
     "data": {
      "text/plain": [
       "3"
      ]
     },
     "execution_count": 9,
     "metadata": {},
     "output_type": "execute_result"
    }
   ],
   "source": [
    "func1(1, 2)"
   ]
  },
  {
   "cell_type": "code",
   "execution_count": 11,
   "metadata": {},
   "outputs": [],
   "source": [
    "import time"
   ]
  },
  {
   "cell_type": "code",
   "execution_count": 11,
   "metadata": {},
   "outputs": [],
   "source": [
    "import time"
   ]
  },
  {
   "cell_type": "code",
   "execution_count": 11,
   "metadata": {},
   "outputs": [],
   "source": []
  },
  {
   "cell_type": "code",
   "execution_count": 56,
   "metadata": {},
   "outputs": [],
   "source": [
    "def func1(a, b, c):\n",
    "    val = a + b + c\n",
    "    return val\n",
    "\n",
    "def func2(a, b, c):\n",
    "    val = a * b * c\n",
    "    return val"
   ]
  },
  {
   "cell_type": "code",
   "execution_count": null,
   "metadata": {},
   "outputs": [],
   "source": []
  },
  {
   "cell_type": "code",
   "execution_count": 57,
   "metadata": {},
   "outputs": [],
   "source": [
    "def elapsed(func):\n",
    "    def wrapper(c, d, e):\n",
    "        print(\"함수가 실행됩니다.\")\n",
    "        start = time.time()\n",
    "        result = func(c, d, e)\n",
    "        end = time.time()\n",
    "        print(\"함수 수행 시간: %f 초\" %(end - start))\n",
    "        return result\n",
    "    return wrapper"
   ]
  },
  {
   "cell_type": "code",
   "execution_count": 58,
   "metadata": {},
   "outputs": [
    {
     "name": "stdout",
     "output_type": "stream",
     "text": [
      "함수가 실행됩니다.\n",
      "함수 수행 시간: 0.000001 초\n",
      "64\n"
     ]
    }
   ],
   "source": [
    "if __name__ == \"__main__\":\n",
    "    deco1 = elapsed(func2)\n",
    "    result = deco1(1,2,32)\n",
    "    print(result)"
   ]
  },
  {
   "cell_type": "code",
   "execution_count": 22,
   "metadata": {},
   "outputs": [
    {
     "name": "stdout",
     "output_type": "stream",
     "text": [
      "함수가 실행됩니다.\n",
      "함수 수행 시간: 0.000001 초\n",
      "4\n"
     ]
    }
   ],
   "source": [
    "if __name__ == \"__main__\":\n",
    "    deco = elapsed(func2)\n",
    "    result = deco(2,2)\n",
    "    print(result)"
   ]
  },
  {
   "cell_type": "code",
   "execution_count": 59,
   "metadata": {},
   "outputs": [],
   "source": [
    "@elapsed\n",
    "def func1(a, b, c):\n",
    "    val = a + b + c\n",
    "    return val"
   ]
  },
  {
   "cell_type": "code",
   "execution_count": 61,
   "metadata": {},
   "outputs": [
    {
     "name": "stdout",
     "output_type": "stream",
     "text": [
      "함수가 실행됩니다.\n",
      "함수 수행 시간: 0.000003 초\n",
      "6\n"
     ]
    }
   ],
   "source": [
    "if __name__ == \"__main__\":\n",
    "    result = func1(1,2,3)\n",
    "    print(result)"
   ]
  }
 ],
 "metadata": {
  "kernelspec": {
   "display_name": "Python 3 (ipykernel)",
   "language": "python",
   "name": "python3"
  },
  "language_info": {
   "codemirror_mode": {
    "name": "ipython",
    "version": 3
   },
   "file_extension": ".py",
   "mimetype": "text/x-python",
   "name": "python",
   "nbconvert_exporter": "python",
   "pygments_lexer": "ipython3",
   "version": "3.11.5"
  }
 },
 "nbformat": 4,
 "nbformat_minor": 4
}
