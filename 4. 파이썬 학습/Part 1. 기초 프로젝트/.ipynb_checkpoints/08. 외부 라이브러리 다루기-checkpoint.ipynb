{
 "cells": [
  {
   "cell_type": "markdown",
   "id": "0231237d-9775-4f46-a63f-82571094556f",
   "metadata": {},
   "source": [
    "# pip 사용\n",
    "\n",
    "pip install 패키지명\n",
    "pip uninstall 패키지명\n",
    "\n",
    "pip install --upgrade\n",
    "\n",
    "pip list\n",
    "\n",
    "pip list --format=freeze > requirements.txt\n",
    "\n",
    "pip install -r requirements.txt"
   ]
  }
 ],
 "metadata": {
  "kernelspec": {
   "display_name": "Python 3 (ipykernel)",
   "language": "python",
   "name": "python3"
  },
  "language_info": {
   "codemirror_mode": {
    "name": "ipython",
    "version": 3
   },
   "file_extension": ".py",
   "mimetype": "text/x-python",
   "name": "python",
   "nbconvert_exporter": "python",
   "pygments_lexer": "ipython3",
   "version": "3.11.5"
  }
 },
 "nbformat": 4,
 "nbformat_minor": 5
}
