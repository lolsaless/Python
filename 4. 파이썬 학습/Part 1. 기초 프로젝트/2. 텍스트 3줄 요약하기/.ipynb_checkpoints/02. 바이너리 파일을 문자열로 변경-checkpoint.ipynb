{
 "cells": [
  {
   "cell_type": "markdown",
   "id": "5aa0dc82-58de-4f3a-968c-453341733e5d",
   "metadata": {},
   "source": [
    "바이너리 파일이란 0과 1을 이용한 2진수 데이터 만으로 인코딩된 파일이다.\n",
    "데이터를 처리하고 전송하는데 일반적으로 비용이 적게 든다.\n",
    "텍스트 파일에 비해서 데이터 처리 속도가 빠르다.\n",
    "데이터 저장공간도 적게 소모된다."
   ]
  },
  {
   "cell_type": "markdown",
   "id": "cbf3b0dc-ce14-40d3-b919-cbb8ed5361ea",
   "metadata": {},
   "source": [
    "base 64인코딩은 다양한 통신채널을 통해 바이너리 데이터를 안전하게 전송할 수 있다."
   ]
  },
  {
   "cell_type": "markdown",
   "id": "07c3e8fb-a2b4-49c4-9c9f-18b7d710ee34",
   "metadata": {},
   "source": [
    "## 바이트 문자열 인코딩/디코딩"
   ]
  },
  {
   "cell_type": "code",
   "execution_count": 1,
   "id": "faec15b4-de51-4c20-8bdf-103f2dba27ac",
   "metadata": {},
   "outputs": [],
   "source": [
    "import base64"
   ]
  },
  {
   "cell_type": "code",
   "execution_count": 4,
   "id": "ee5d6b6e-02aa-4ad0-b952-5d9448bc8c5c",
   "metadata": {},
   "outputs": [],
   "source": [
    "string = \"Life is too short, We need Python.\""
   ]
  },
  {
   "cell_type": "code",
   "execution_count": 5,
   "id": "824e319a-48e5-47e6-9b59-9ae189f160b6",
   "metadata": {},
   "outputs": [
    {
     "ename": "TypeError",
     "evalue": "a bytes-like object is required, not 'str'",
     "output_type": "error",
     "traceback": [
      "\u001b[0;31m---------------------------------------------------------------------------\u001b[0m",
      "\u001b[0;31mTypeError\u001b[0m                                 Traceback (most recent call last)",
      "Cell \u001b[0;32mIn[5], line 1\u001b[0m\n\u001b[0;32m----> 1\u001b[0m encoded \u001b[38;5;241m=\u001b[39m base64\u001b[38;5;241m.\u001b[39mb64encode(string)\n",
      "File \u001b[0;32m~/anaconda3/lib/python3.11/base64.py:58\u001b[0m, in \u001b[0;36mb64encode\u001b[0;34m(s, altchars)\u001b[0m\n\u001b[1;32m     51\u001b[0m \u001b[38;5;28;01mdef\u001b[39;00m \u001b[38;5;21mb64encode\u001b[39m(s, altchars\u001b[38;5;241m=\u001b[39m\u001b[38;5;28;01mNone\u001b[39;00m):\n\u001b[1;32m     52\u001b[0m \u001b[38;5;250m    \u001b[39m\u001b[38;5;124;03m\"\"\"Encode the bytes-like object s using Base64 and return a bytes object.\u001b[39;00m\n\u001b[1;32m     53\u001b[0m \n\u001b[1;32m     54\u001b[0m \u001b[38;5;124;03m    Optional altchars should be a byte string of length 2 which specifies an\u001b[39;00m\n\u001b[1;32m     55\u001b[0m \u001b[38;5;124;03m    alternative alphabet for the '+' and '/' characters.  This allows an\u001b[39;00m\n\u001b[1;32m     56\u001b[0m \u001b[38;5;124;03m    application to e.g. generate url or filesystem safe Base64 strings.\u001b[39;00m\n\u001b[1;32m     57\u001b[0m \u001b[38;5;124;03m    \"\"\"\u001b[39;00m\n\u001b[0;32m---> 58\u001b[0m     encoded \u001b[38;5;241m=\u001b[39m binascii\u001b[38;5;241m.\u001b[39mb2a_base64(s, newline\u001b[38;5;241m=\u001b[39m\u001b[38;5;28;01mFalse\u001b[39;00m)\n\u001b[1;32m     59\u001b[0m     \u001b[38;5;28;01mif\u001b[39;00m altchars \u001b[38;5;129;01mis\u001b[39;00m \u001b[38;5;129;01mnot\u001b[39;00m \u001b[38;5;28;01mNone\u001b[39;00m:\n\u001b[1;32m     60\u001b[0m         \u001b[38;5;28;01massert\u001b[39;00m \u001b[38;5;28mlen\u001b[39m(altchars) \u001b[38;5;241m==\u001b[39m \u001b[38;5;241m2\u001b[39m, \u001b[38;5;28mrepr\u001b[39m(altchars)\n",
      "\u001b[0;31mTypeError\u001b[0m: a bytes-like object is required, not 'str'"
     ]
    }
   ],
   "source": [
    "encoded = base64.b64encode(string)"
   ]
  },
  {
   "cell_type": "code",
   "execution_count": 6,
   "id": "58865dc9-1245-4925-8b25-67243373719c",
   "metadata": {},
   "outputs": [
    {
     "name": "stdout",
     "output_type": "stream",
     "text": [
      "b'Life is too short, We need Python.'\n"
     ]
    }
   ],
   "source": [
    "# Ascii 인코딩\n",
    "bstring = string.encode('ascii')\n",
    "print(bstring)"
   ]
  },
  {
   "cell_type": "code",
   "execution_count": 7,
   "id": "bc2d57fe-985a-44d1-b17f-db7ac232c945",
   "metadata": {},
   "outputs": [],
   "source": [
    "# base64 인코딩\n",
    "encoded = base64.b64encode(bstring)"
   ]
  },
  {
   "cell_type": "code",
   "execution_count": 8,
   "id": "47a4094e-9d9f-45d5-80ad-7e6620a96123",
   "metadata": {},
   "outputs": [
    {
     "name": "stdout",
     "output_type": "stream",
     "text": [
      "b'TGlmZSBpcyB0b28gc2hvcnQsIFdlIG5lZWQgUHl0aG9uLg=='\n"
     ]
    }
   ],
   "source": [
    "print(encoded)"
   ]
  },
  {
   "cell_type": "code",
   "execution_count": 9,
   "id": "36da0823-6c48-4383-b1b1-71525e7a8f53",
   "metadata": {},
   "outputs": [],
   "source": [
    "# base64 디코딩\n",
    "decoded = base64.decodebytes(encoded)"
   ]
  },
  {
   "cell_type": "code",
   "execution_count": 10,
   "id": "89389642-4c4f-47a9-86d3-0657bf1bc6d5",
   "metadata": {},
   "outputs": [
    {
     "name": "stdout",
     "output_type": "stream",
     "text": [
      "b'Life is too short, We need Python.'\n"
     ]
    }
   ],
   "source": [
    "print(decoded)"
   ]
  },
  {
   "cell_type": "code",
   "execution_count": 11,
   "id": "f6157382-4ea6-48e9-8703-07d8fa988652",
   "metadata": {},
   "outputs": [
    {
     "name": "stdout",
     "output_type": "stream",
     "text": [
      "Life is too short, We need Python.\n"
     ]
    }
   ],
   "source": [
    "# ascii 디코딩\n",
    "decoded_str = decoded.decode('ascii')\n",
    "print(decoded_str)"
   ]
  },
  {
   "cell_type": "markdown",
   "id": "f714e1ff-bbdd-437e-ac05-efe94306c97f",
   "metadata": {},
   "source": [
    "## 이미지 인코딩/디코딩"
   ]
  }
 ],
 "metadata": {
  "kernelspec": {
   "display_name": "Python 3 (ipykernel)",
   "language": "python",
   "name": "python3"
  },
  "language_info": {
   "codemirror_mode": {
    "name": "ipython",
    "version": 3
   },
   "file_extension": ".py",
   "mimetype": "text/x-python",
   "name": "python",
   "nbconvert_exporter": "python",
   "pygments_lexer": "ipython3",
   "version": "3.11.5"
  }
 },
 "nbformat": 4,
 "nbformat_minor": 5
}
