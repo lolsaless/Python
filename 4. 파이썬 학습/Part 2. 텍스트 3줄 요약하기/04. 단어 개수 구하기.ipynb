{
 "cells": [
  {
   "cell_type": "code",
   "execution_count": 2,
   "id": "e169f892-81a4-459e-9cf5-a845e78b56e3",
   "metadata": {},
   "outputs": [],
   "source": [
    "import collections\n",
    "import textwrap\n",
    "import re"
   ]
  },
  {
   "cell_type": "code",
   "execution_count": 4,
   "id": "867532cd-6880-4da7-a4cf-a8acbbd4d6b6",
   "metadata": {},
   "outputs": [],
   "source": [
    "text = '그동안 지장물 보상 문제 등으로 사업 추진에 난항을 겪어 왔던 안양 석수역 주변 도시개발사업이 이르면 오는 3월 착공된다. 사업구역 내 지적·지형도를 다시 그리는 용역이 완료된 데다 지장물 손실 보상 재결 문제가 이달 중 마무리되기 때문이다.2일 안양시와 안양도시공사 등에 따르면 시는 석수역 주변에 무허가 철재상가 난립으로 도시 미관을 해치고 있다고 판단하고 사업비 144억원을 들여 건축물을 체계적으로 정비하는 사업을 추진 중이다.'"
   ]
  },
  {
   "cell_type": "code",
   "execution_count": 5,
   "id": "4dcaedb9-9116-4b1b-bc64-faa7ebc647bf",
   "metadata": {},
   "outputs": [],
   "source": [
    "text = textwrap.fill(text, width = 50)"
   ]
  },
  {
   "cell_type": "code",
   "execution_count": 6,
   "id": "a6a07907-3ace-4dce-9b7d-5757d8253531",
   "metadata": {},
   "outputs": [
    {
     "name": "stdout",
     "output_type": "stream",
     "text": [
      "그동안 지장물 보상 문제 등으로 사업 추진에 난항을 겪어 왔던 안양 석수역 주변\n",
      "도시개발사업이 이르면 오는 3월 착공된다. 사업구역 내 지적·지형도를 다시 그리는 용역이\n",
      "완료된 데다 지장물 손실 보상 재결 문제가 이달 중 마무리되기 때문이다.2일 안양시와\n",
      "안양도시공사 등에 따르면 시는 석수역 주변에 무허가 철재상가 난립으로 도시 미관을 해치고\n",
      "있다고 판단하고 사업비 144억원을 들여 건축물을 체계적으로 정비하는 사업을 추진 중이다.\n"
     ]
    }
   ],
   "source": [
    "print(text)"
   ]
  },
  {
   "cell_type": "code",
   "execution_count": 7,
   "id": "fcf248d5-ebea-472d-b21d-1f3247addf7f",
   "metadata": {},
   "outputs": [
    {
     "name": "stdout",
     "output_type": "stream",
     "text": [
      "['그동안', '지장물', '보상', '문제', '등으로', '사업', '추진에', '난항을', '겪어', '왔던', '안양', '석수역', '주변', '도시개발사업이', '이르면', '오는', '3월', '착공된다', '사업구역', '내', '지적', '지형도를', '다시', '그리는', '용역이', '완료된', '데다', '지장물', '손실', '보상', '재결', '문제가', '이달', '중', '마무리되기', '때문이다', '2일', '안양시와', '안양도시공사', '등에', '따르면', '시는', '석수역', '주변에', '무허가', '철재상가', '난립으로', '도시', '미관을', '해치고', '있다고', '판단하고', '사업비', '144억원을', '들여', '건축물을', '체계적으로', '정비하는', '사업을', '추진', '중이다']\n"
     ]
    }
   ],
   "source": [
    "words = re.findall(r'\\w+', text)\n",
    "print(words)"
   ]
  },
  {
   "cell_type": "markdown",
   "id": "f7bd43d8-6e53-4365-aaa1-a7112bb0ce75",
   "metadata": {},
   "source": [
    "counter 함수는 덧셈, 뺄셈, 교집합, 합집합도 가능하다."
   ]
  },
  {
   "cell_type": "code",
   "execution_count": 8,
   "id": "db255a6a-5d04-4f4f-9dc2-26a1953d864f",
   "metadata": {},
   "outputs": [
    {
     "name": "stdout",
     "output_type": "stream",
     "text": [
      "Counter({'지장물': 2, '보상': 2, '석수역': 2, '그동안': 1, '문제': 1, '등으로': 1, '사업': 1, '추진에': 1, '난항을': 1, '겪어': 1, '왔던': 1, '안양': 1, '주변': 1, '도시개발사업이': 1, '이르면': 1, '오는': 1, '3월': 1, '착공된다': 1, '사업구역': 1, '내': 1, '지적': 1, '지형도를': 1, '다시': 1, '그리는': 1, '용역이': 1, '완료된': 1, '데다': 1, '손실': 1, '재결': 1, '문제가': 1, '이달': 1, '중': 1, '마무리되기': 1, '때문이다': 1, '2일': 1, '안양시와': 1, '안양도시공사': 1, '등에': 1, '따르면': 1, '시는': 1, '주변에': 1, '무허가': 1, '철재상가': 1, '난립으로': 1, '도시': 1, '미관을': 1, '해치고': 1, '있다고': 1, '판단하고': 1, '사업비': 1, '144억원을': 1, '들여': 1, '건축물을': 1, '체계적으로': 1, '정비하는': 1, '사업을': 1, '추진': 1, '중이다': 1})\n"
     ]
    }
   ],
   "source": [
    "counter = collections.Counter(words)\n",
    "print(counter)"
   ]
  },
  {
   "cell_type": "code",
   "execution_count": 10,
   "id": "535b38de-7d7c-4290-a962-945763c6949b",
   "metadata": {},
   "outputs": [],
   "source": [
    "a = collections.Counter(['a', 'b', 'a', 'b', 'c'])"
   ]
  },
  {
   "cell_type": "code",
   "execution_count": 11,
   "id": "106001cf-2bf9-4abe-9c3c-f8b2551041b8",
   "metadata": {},
   "outputs": [
    {
     "name": "stdout",
     "output_type": "stream",
     "text": [
      "Counter({'a': 2, 'b': 2, 'c': 1})\n"
     ]
    }
   ],
   "source": [
    "print(a)"
   ]
  },
  {
   "cell_type": "code",
   "execution_count": 12,
   "id": "a1c02a8c-9547-4ca4-932c-19dec54af120",
   "metadata": {},
   "outputs": [
    {
     "name": "stdout",
     "output_type": "stream",
     "text": [
      "[('지장물', 2), ('보상', 2), ('석수역', 2), ('그동안', 1), ('문제', 1), ('등으로', 1), ('사업', 1), ('추진에', 1), ('난항을', 1), ('겪어', 1)]\n"
     ]
    }
   ],
   "source": [
    "print(counter.most_common(10))"
   ]
  }
 ],
 "metadata": {
  "kernelspec": {
   "display_name": "Python 3 (ipykernel)",
   "language": "python",
   "name": "python3"
  },
  "language_info": {
   "codemirror_mode": {
    "name": "ipython",
    "version": 3
   },
   "file_extension": ".py",
   "mimetype": "text/x-python",
   "name": "python",
   "nbconvert_exporter": "python",
   "pygments_lexer": "ipython3",
   "version": "3.11.5"
  }
 },
 "nbformat": 4,
 "nbformat_minor": 5
}
