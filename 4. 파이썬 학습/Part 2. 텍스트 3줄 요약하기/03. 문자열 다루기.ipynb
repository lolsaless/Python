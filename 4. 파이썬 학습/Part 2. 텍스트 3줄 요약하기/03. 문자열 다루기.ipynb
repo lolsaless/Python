{
 "cells": [
  {
   "cell_type": "code",
   "execution_count": 1,
   "id": "d6317cff-27b0-4cc4-ac4f-7cc06a9fbf05",
   "metadata": {},
   "outputs": [],
   "source": [
    "import textwrap"
   ]
  },
  {
   "cell_type": "code",
   "execution_count": 2,
   "id": "3d49faa8-c03e-412e-8293-fe10d5c21126",
   "metadata": {},
   "outputs": [],
   "source": [
    "text = 'wb는 파일을 이진(binary) 쓰기 모드로 열 때 사용되는 파일 모드입니다. 이 모드를 사용하면 파일에 바이너리 데이터를 쓸 수 있습니다. 이진 쓰기 모드에서 파일을 열 때, 텍스트 데이터가 아니라 이진 데이터를 처리하며, 문자열을 바로 파일에 쓸 수 없습니다.'"
   ]
  },
  {
   "cell_type": "code",
   "execution_count": 3,
   "id": "14111c73-d3e9-4c51-87d0-5e6c591d82a3",
   "metadata": {},
   "outputs": [
    {
     "name": "stdout",
     "output_type": "stream",
     "text": [
      "wb는 파일을 이진(binary) 쓰기 모드로 열 때 사용되는 파일 모드입니다. 이 모드를 사용하면 파일에 바이너리 데이터를 쓸 수 있습니다. 이진 쓰기 모드에서 파일을 열 때, 텍스트 데이터가 아니라 이진 데이터를 처리하며, 문자열을 바로 파일에 쓸 수 없습니다.\n"
     ]
    }
   ],
   "source": [
    "print(text)"
   ]
  },
  {
   "cell_type": "markdown",
   "id": "4fe8cce8-ef93-40a3-bdb4-fe6de17d808d",
   "metadata": {},
   "source": [
    "## textwrap.shorten()"
   ]
  },
  {
   "cell_type": "code",
   "execution_count": 4,
   "id": "9aa068a9-f179-474f-9eb2-e218a78e59c1",
   "metadata": {},
   "outputs": [
    {
     "data": {
      "text/plain": [
       "'wb는 파일을 이진(binary) 쓰기 [...]'"
      ]
     },
     "execution_count": 4,
     "metadata": {},
     "output_type": "execute_result"
    }
   ],
   "source": [
    "textwrap.shorten(text, width = 30)"
   ]
  },
  {
   "cell_type": "code",
   "execution_count": 5,
   "id": "8501406d-8c84-40ea-b3fb-1a5e1a3a28d4",
   "metadata": {},
   "outputs": [
    {
     "data": {
      "text/plain": [
       "'wb는 파일을 이진(binary)...[이하 줄임]'"
      ]
     },
     "execution_count": 5,
     "metadata": {},
     "output_type": "execute_result"
    }
   ],
   "source": [
    "textwrap.shorten(text, width = 30, placeholder = '...[이하 줄임]')"
   ]
  },
  {
   "cell_type": "code",
   "execution_count": 6,
   "id": "29c1625d-64e0-4851-a712-b6605f448fab",
   "metadata": {},
   "outputs": [],
   "source": [
    "wrapped_text = textwrap.wrap(text, width = 20)"
   ]
  },
  {
   "cell_type": "code",
   "execution_count": 7,
   "id": "acb8be30-9adc-4586-a987-fb4d74efd969",
   "metadata": {},
   "outputs": [
    {
     "name": "stdout",
     "output_type": "stream",
     "text": [
      "['wb는 파일을 이진(binary)', '쓰기 모드로 열 때 사용되는 파일', '모드입니다. 이 모드를 사용하면', '파일에 바이너리 데이터를 쓸 수', '있습니다. 이진 쓰기 모드에서 파일을', '열 때, 텍스트 데이터가 아니라 이진', '데이터를 처리하며, 문자열을 바로', '파일에 쓸 수 없습니다.']\n"
     ]
    }
   ],
   "source": [
    "print(wrapped_text)"
   ]
  },
  {
   "cell_type": "code",
   "execution_count": 8,
   "id": "4e0913f0-2cdb-4a40-9cd2-01b34fc19f40",
   "metadata": {},
   "outputs": [
    {
     "name": "stdout",
     "output_type": "stream",
     "text": [
      "wb는 파일을 이진(binary)\n",
      "쓰기 모드로 열 때 사용되는 파일\n",
      "모드입니다. 이 모드를 사용하면\n",
      "파일에 바이너리 데이터를 쓸 수\n",
      "있습니다. 이진 쓰기 모드에서 파일을\n",
      "열 때, 텍스트 데이터가 아니라 이진\n",
      "데이터를 처리하며, 문자열을 바로\n",
      "파일에 쓸 수 없습니다.\n"
     ]
    }
   ],
   "source": [
    "print('\\n'.join(wrapped_text))"
   ]
  },
  {
   "cell_type": "code",
   "execution_count": 9,
   "id": "0d4ec337-4c4c-45ba-a34f-5d898dbb7484",
   "metadata": {},
   "outputs": [],
   "source": [
    "filled_text = textwrap.fill(text, width = 20)"
   ]
  },
  {
   "cell_type": "code",
   "execution_count": 10,
   "id": "715a6565-ab5e-4312-b3d9-709f6d15830e",
   "metadata": {},
   "outputs": [
    {
     "name": "stdout",
     "output_type": "stream",
     "text": [
      "wb는 파일을 이진(binary)\n",
      "쓰기 모드로 열 때 사용되는 파일\n",
      "모드입니다. 이 모드를 사용하면\n",
      "파일에 바이너리 데이터를 쓸 수\n",
      "있습니다. 이진 쓰기 모드에서 파일을\n",
      "열 때, 텍스트 데이터가 아니라 이진\n",
      "데이터를 처리하며, 문자열을 바로\n",
      "파일에 쓸 수 없습니다.\n"
     ]
    }
   ],
   "source": [
    "print(filled_text)"
   ]
  },
  {
   "cell_type": "markdown",
   "id": "b0dec32c-8604-4515-9171-2f1d2fa478cb",
   "metadata": {},
   "source": [
    "## re\n",
    "정규표현식을 처리하는 함수"
   ]
  },
  {
   "cell_type": "code",
   "execution_count": 11,
   "id": "a251d285-e9ad-45e0-9f9c-fae6ec36bc30",
   "metadata": {},
   "outputs": [],
   "source": [
    "import re"
   ]
  },
  {
   "cell_type": "code",
   "execution_count": 12,
   "id": "bd85c61a-ef75-4525-a335-9143e75d35ce",
   "metadata": {},
   "outputs": [],
   "source": [
    "words = re.findall(r'\\w+', text)"
   ]
  },
  {
   "cell_type": "code",
   "execution_count": 13,
   "id": "65fc9cde-0a08-48af-835e-702f048d7d00",
   "metadata": {},
   "outputs": [
    {
     "name": "stdout",
     "output_type": "stream",
     "text": [
      "['wb는', '파일을', '이진', 'binary', '쓰기', '모드로', '열', '때', '사용되는', '파일', '모드입니다', '이', '모드를', '사용하면', '파일에', '바이너리', '데이터를', '쓸', '수', '있습니다', '이진', '쓰기', '모드에서', '파일을', '열', '때', '텍스트', '데이터가', '아니라', '이진', '데이터를', '처리하며', '문자열을', '바로', '파일에', '쓸', '수', '없습니다']\n"
     ]
    }
   ],
   "source": [
    "print(words)"
   ]
  }
 ],
 "metadata": {
  "kernelspec": {
   "display_name": "Python 3 (ipykernel)",
   "language": "python",
   "name": "python3"
  },
  "language_info": {
   "codemirror_mode": {
    "name": "ipython",
    "version": 3
   },
   "file_extension": ".py",
   "mimetype": "text/x-python",
   "name": "python",
   "nbconvert_exporter": "python",
   "pygments_lexer": "ipython3",
   "version": "3.11.5"
  }
 },
 "nbformat": 4,
 "nbformat_minor": 5
}
