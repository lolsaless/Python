{
 "cells": [
  {
   "cell_type": "code",
   "execution_count": 1,
   "id": "07db986a-9cca-4957-8169-b4deee602e3b",
   "metadata": {},
   "outputs": [],
   "source": [
    "a = 19\n",
    "b = 11.4"
   ]
  },
  {
   "cell_type": "code",
   "execution_count": 3,
   "id": "f63fc3cb-584a-4e61-8d33-54e1293f0491",
   "metadata": {},
   "outputs": [
    {
     "name": "stdout",
     "output_type": "stream",
     "text": [
      "19 11.4\n"
     ]
    }
   ],
   "source": [
    "print(a, b)"
   ]
  },
  {
   "cell_type": "code",
   "execution_count": 4,
   "id": "9c451969-e9b2-452b-bb39-8ae2879cbf13",
   "metadata": {},
   "outputs": [
    {
     "data": {
      "text/plain": [
       "'e'"
      ]
     },
     "execution_count": 4,
     "metadata": {},
     "output_type": "execute_result"
    }
   ],
   "source": [
    "a = \"Hello World\"\n",
    "a[1]"
   ]
  },
  {
   "cell_type": "code",
   "execution_count": 6,
   "id": "c4100a7c-fc3b-421f-911f-cca3efb2aa7f",
   "metadata": {},
   "outputs": [
    {
     "data": {
      "text/plain": [
       "'Hello World \\n my world'"
      ]
     },
     "execution_count": 6,
     "metadata": {},
     "output_type": "execute_result"
    }
   ],
   "source": [
    "b = \"Hello World \\n my world\"\n",
    "\n",
    "b"
   ]
  },
  {
   "cell_type": "code",
   "execution_count": 11,
   "id": "fe3c2de7-7ca3-4194-992b-d000e7e8a5a1",
   "metadata": {},
   "outputs": [
    {
     "data": {
      "text/plain": [
       "'jello world'"
      ]
     },
     "execution_count": 11,
     "metadata": {},
     "output_type": "execute_result"
    }
   ],
   "source": [
    "a = 'hello world'\n",
    "a.replace('h', 'j')"
   ]
  },
  {
   "cell_type": "code",
   "execution_count": 14,
   "id": "512e6879-0e7f-4885-bc30-66125d904fcd",
   "metadata": {},
   "outputs": [
    {
     "name": "stdout",
     "output_type": "stream",
     "text": [
      "오늘 기온-3도 이고, 비올 확률은 80% 입니다.\n"
     ]
    }
   ],
   "source": [
    "temperature = -3\n",
    "prob = 80\n",
    "a = '오늘 기온{}도 이고, 비올 확률은 {}% 입니다.'.format(temperature, prob)\n",
    "print(a)"
   ]
  },
  {
   "cell_type": "code",
   "execution_count": 16,
   "id": "165aff2c-4719-4099-9b60-59de75fa5513",
   "metadata": {},
   "outputs": [
    {
     "data": {
      "text/plain": [
       "['Hello', 'world', 'what', 'a', 'nice', 'weather']"
      ]
     },
     "execution_count": 16,
     "metadata": {},
     "output_type": "execute_result"
    }
   ],
   "source": [
    "a = 'Hello world what a nice weather'\n",
    "a.split()"
   ]
  },
  {
   "cell_type": "code",
   "execution_count": null,
   "id": "60a690fe-40df-445c-b727-0c56467ca049",
   "metadata": {},
   "outputs": [],
   "source": []
  }
 ],
 "metadata": {
  "kernelspec": {
   "display_name": "Python 3 (ipykernel)",
   "language": "python",
   "name": "python3"
  },
  "language_info": {
   "codemirror_mode": {
    "name": "ipython",
    "version": 3
   },
   "file_extension": ".py",
   "mimetype": "text/x-python",
   "name": "python",
   "nbconvert_exporter": "python",
   "pygments_lexer": "ipython3",
   "version": "3.11.5"
  }
 },
 "nbformat": 4,
 "nbformat_minor": 5
}
