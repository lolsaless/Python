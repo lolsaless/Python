{
 "cells": [
  {
   "cell_type": "code",
   "execution_count": 1,
   "metadata": {},
   "outputs": [
    {
     "name": "stdout",
     "output_type": "stream",
     "text": [
      "일치하는 숫자를 찾았습니다: [11, 13, 14, 15, 16, 45]\n",
      "2379458번 만에 일치하는 숫자를 찾았습니다.\n"
     ]
    }
   ],
   "source": [
    "import random\n",
    "\n",
    "# 원하는 숫자 리스트\n",
    "target_numbers = [11, 13, 14, 15, 16, 45]\n",
    "count = 0\n",
    "\n",
    "while True:\n",
    "    # 1~45까지의 랜덤한 6개의 숫자를 생성\n",
    "    random_numbers = random.sample(range(1, 46), 6)\n",
    "    random_numbers.sort()  # 정렬\n",
    "    count += 1  # 시도 횟수 카운트\n",
    "\n",
    "    # 생성된 숫자와 목표 숫자가 일치하는지 확인\n",
    "    if random_numbers == target_numbers:\n",
    "        print(f\"일치하는 숫자를 찾았습니다: {random_numbers}\")\n",
    "        print(f\"{count}번 만에 일치하는 숫자를 찾았습니다.\")\n",
    "        break"
   ]
  },
  {
   "cell_type": "code",
   "execution_count": 2,
   "metadata": {},
   "outputs": [
    {
     "name": "stdout",
     "output_type": "stream",
     "text": [
      "/Users/lol/Documents/Github/Python/.venv/bin/python\n"
     ]
    }
   ],
   "source": [
    "import sys\n",
    "print(sys.executable)\n"
   ]
  },
  {
   "cell_type": "code",
   "execution_count": null,
   "metadata": {},
   "outputs": [
    {
     "ename": "",
     "evalue": "",
     "output_type": "error",
     "traceback": [
      "\u001b[1;31m'Python 3.12.3'(으)로 셀을 실행하려면 ipykernel 패키지가 필요합니다.\n",
      "\u001b[1;31m다음 명령어를 실행하여 Python 환경에 'ipykernel'을(를) 설치합니다. \n",
      "\u001b[1;31m 명령: '/opt/homebrew/bin/python3 -m pip install ipykernel -U --user --force-reinstall'"
     ]
    }
   ],
   "source": [
    "/opt/homebrew/bin/python3 -m pip3 install ipykernel -U --user --force-reinstall"
   ]
  }
 ],
 "metadata": {
  "kernelspec": {
   "display_name": "Python 3",
   "language": "python",
   "name": "python3"
  },
  "language_info": {
   "codemirror_mode": {
    "name": "ipython",
    "version": 3
   },
   "file_extension": ".py",
   "mimetype": "text/x-python",
   "name": "python",
   "nbconvert_exporter": "python",
   "pygments_lexer": "ipython3",
   "version": "3.9.6"
  }
 },
 "nbformat": 4,
 "nbformat_minor": 2
}
