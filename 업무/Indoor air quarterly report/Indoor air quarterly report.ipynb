{
 "cells": [
  {
   "cell_type": "code",
   "execution_count": 1,
   "metadata": {},
   "outputs": [],
   "source": [
    "import pandas as pd\n",
    "\n",
    "# 데이터를 읽어오기\n",
    "data_df = pd.read_csv('data.csv')\n",
    "result_df = pd.read_csv('result.csv')\n",
    "\n",
    "# '접수번호'를 기준으로 데이터 병합\n",
    "merged_df = pd.merge(data_df, result_df, on='접수번호', how='inner')\n",
    "\n",
    "# 병합된 데이터를 CSV 파일로 저장\n",
    "merged_df.to_csv('merged_data.csv', index=False)\n"
   ]
  },
  {
   "cell_type": "code",
   "execution_count": 2,
   "metadata": {},
   "outputs": [
    {
     "name": "stdout",
     "output_type": "stream",
     "text": [
      "     #           접수번호        접수일자              검체유형_x            시설명 시료명_x  \\\n",
      "16 NaN  2792400012-01  2024-02-06  실내공기질/실내공기질/다중이용시설            오남역   대합실   \n",
      "17 NaN  2792400012-02  2024-02-06  실내공기질/실내공기질/다중이용시설            오남역   승강장   \n",
      "18 NaN  2792400013-01  2024-02-06  실내공기질/실내공기질/다중이용시설         별내별가람역   승강장   \n",
      "19 NaN  2792400013-02  2024-02-06  실내공기질/실내공기질/다중이용시설         별내별가람역   대합실   \n",
      "20 NaN  2792400014-01  2024-02-06  실내공기질/실내공기질/다중이용시설  남양주시도시공사(진접역)   대합실   \n",
      "\n",
      "    의뢰기관  의뢰자_x  대표자    진행상황  ...  트리클로로에틸렌 아크릴로니트릴  1,2-Dichlorethane  \\\n",
      "16  남양주시  남양주시장  NaN  결과승인완료  ...       NaN     NaN                NaN   \n",
      "17  남양주시  남양주시장  NaN  결과승인완료  ...       NaN     NaN                NaN   \n",
      "18  남양주시  남양주시장  NaN  결과승인완료  ...       NaN     NaN                NaN   \n",
      "19  남양주시  남양주시장  NaN  결과승인완료  ...       NaN     NaN                NaN   \n",
      "20  남양주시  남양주시장  NaN  결과승인완료  ...       NaN     NaN                NaN   \n",
      "\n",
      "    Carbon tetrachloride  테트라클로로에틸렌 클로로포름 황산화물 이황화탄소  총탄화수소 납화합물  \n",
      "16                   NaN        NaN   NaN  NaN   NaN    NaN  NaN  \n",
      "17                   NaN        NaN   NaN  NaN   NaN    NaN  NaN  \n",
      "18                   NaN        NaN   NaN  NaN   NaN    NaN  NaN  \n",
      "19                   NaN        NaN   NaN  NaN   NaN    NaN  NaN  \n",
      "20                   NaN        NaN   NaN  NaN   NaN    NaN  NaN  \n",
      "\n",
      "[5 rows x 91 columns]\n"
     ]
    }
   ],
   "source": [
    "# '실내공기질'이 포함된 데이터만 필터링\n",
    "filtered_df = merged_df[merged_df['검체유형_x'].str.contains('실내공기질', na=False)]\n",
    "\n",
    "# 필터링된 데이터 확인\n",
    "print(filtered_df.head())\n",
    "\n",
    "# 필요한 경우, 필터링된 데이터를 CSV 파일로 저장\n",
    "filtered_df.to_csv('filtered_data.csv', index=False)\n"
   ]
  },
  {
   "cell_type": "code",
   "execution_count": 3,
   "metadata": {},
   "outputs": [
    {
     "name": "stdout",
     "output_type": "stream",
     "text": [
      "    의뢰기관     시설군  배출시설            시설명                     채취장소_x 시료명_x  PM10  \\\n",
      "16  남양주시  다중이용시설  지하역사            오남역   경기 남양주시 오남읍 진건오남로 지하 929   대합실   NaN   \n",
      "17  남양주시  다중이용시설  지하역사            오남역   경기 남양주시 오남읍 진건오남로 지하 929   승강장   NaN   \n",
      "18  남양주시  다중이용시설  지하역사         별내별가람역  경기 남양주시 별내3로 지하 345 (별내동)   승강장   NaN   \n",
      "19  남양주시  다중이용시설  지하역사         별내별가람역  경기 남양주시 별내3로 지하 345 (별내동)   대합실   NaN   \n",
      "20  남양주시  다중이용시설  지하역사  남양주시도시공사(진접역)    경기 남양주시 진접읍 경복대로 지하 244   대합실   NaN   \n",
      "\n",
      "    PM2.5  CO2  폼알데하이드  ...  라돈  라돈(밀폐)   벤젠 톨루엔  에틸벤젠  자일렌 스틸렌  부적합항목  \\\n",
      "16    NaN  NaN     NaN  ... NaN     NaN  NaN NaN   NaN  NaN NaN    NaN   \n",
      "17    NaN  NaN     NaN  ... NaN     NaN  NaN NaN   NaN  NaN NaN    NaN   \n",
      "18    NaN  NaN     NaN  ... NaN     NaN  NaN NaN   NaN  NaN NaN    NaN   \n",
      "19    NaN  NaN     NaN  ... NaN     NaN  NaN NaN   NaN  NaN NaN    NaN   \n",
      "20    NaN  NaN     NaN  ... NaN     NaN  NaN NaN   NaN  NaN NaN    NaN   \n",
      "\n",
      "           확인일           접수번호  \n",
      "16  2024-02-13  2792400012-01  \n",
      "17  2024-02-13  2792400012-02  \n",
      "18  2024-02-13  2792400013-01  \n",
      "19  2024-02-13  2792400013-02  \n",
      "20  2024-02-13  2792400014-01  \n",
      "\n",
      "[5 rows x 21 columns]\n"
     ]
    },
    {
     "name": "stderr",
     "output_type": "stream",
     "text": [
      "/var/folders/g2/25x5n5qd26s9tbxk8l_kj0j00000gn/T/ipykernel_19257/253077848.py:2: SettingWithCopyWarning: \n",
      "A value is trying to be set on a copy of a slice from a DataFrame.\n",
      "Try using .loc[row_indexer,col_indexer] = value instead\n",
      "\n",
      "See the caveats in the documentation: https://pandas.pydata.org/pandas-docs/stable/user_guide/indexing.html#returning-a-view-versus-a-copy\n",
      "  filtered_df['시설군'] = filtered_df['검체유형_x'].str.split('/').str[2]\n"
     ]
    }
   ],
   "source": [
    "# '시설군' 컬럼 추가 (검체유형_x 열에서 파생)\n",
    "filtered_df['시설군'] = filtered_df['검체유형_x'].str.split('/').str[2]\n",
    "\n",
    "# 지정된 열 선택\n",
    "selected_columns = [\n",
    "    '의뢰기관', '시설군', '배출시설', '시설명', '채취장소_x', '시료명_x',\n",
    "    'PM10', 'PM2.5', 'CO2', '폼알데하이드', '부유세균', '라돈', '라돈(밀폐)', '벤젠', '톨루엔', '에틸벤젠', '자일렌', '스틸렌', '부적합항목', '확인일', '접수번호'\n",
    "]\n",
    "\n",
    "# 해당 열만 포함된 새 DataFrame 생성\n",
    "extracted_df = filtered_df[selected_columns]\n",
    "\n",
    "# 필요한 경우, 데이터를 CSV 파일로 저장\n",
    "extracted_df.to_csv('extracted_data.csv', index=False)\n",
    "\n",
    "# 데이터 확인\n",
    "print(extracted_df.head())\n"
   ]
  },
  {
   "cell_type": "code",
   "execution_count": 5,
   "metadata": {},
   "outputs": [],
   "source": [
    "import pandas as pd\n",
    "\n",
    "# 데이터 파일 로드\n",
    "file_path = 'extracted_data.csv'\n",
    "data = pd.read_csv(file_path)\n",
    "\n",
    "# 열 이름 변경\n",
    "rename_columns = {\n",
    "    '의뢰기관': '시군명',\n",
    "    '배출시설': '세부시설군',\n",
    "    '채취장소_x': '주소',\n",
    "    'PM10': '미세먼지(PM10)',\n",
    "    'PM2.5': '초미세먼지(PM2.5)',\n",
    "    'CO2': '이산화탄소',\n",
    "    '부유세균': '총부유세균'\n",
    "}\n",
    "data.rename(columns=rename_columns, inplace=True)\n",
    "\n",
    "# 접수번호의 앞 10자리를 기준으로 새로운 열 생성\n",
    "data['접수번호_10자리'] = data['접수번호'].str[:10]\n",
    "\n",
    "# 시료명 데이터 결합 및 채취지점 생성\n",
    "data['채취지점'] = data.groupby('시설명')['시료명_x'].transform(lambda x: ', '.join(x.unique()))\n",
    "\n",
    "# 수치 데이터의 평균 계산 (접수번호의 앞 10자리를 기준으로)\n",
    "numeric_columns = ['미세먼지(PM10)', '초미세먼지(PM2.5)', '이산화탄소', '폼알데하이드', '총부유세균', '라돈']\n",
    "data_avg = data.groupby(['시설명', '접수번호_10자리']).agg({col: 'mean' for col in numeric_columns}).reset_index()\n",
    "\n",
    "# 채취지점 데이터와 합치기\n",
    "data_merged = data_avg.merge(data.drop(columns=numeric_columns).drop_duplicates(['시설명', '접수번호_10자리']), on=['시설명', '접수번호_10자리'])\n",
    "\n",
    "# 불필요한 시료명_x 열 제거\n",
    "data_merged.drop(columns='시료명_x', inplace=True)\n",
    "\n",
    "# 데이터 정렬\n",
    "data_sorted = data_merged.sort_values(by=['시군명', '시설군', '세부시설군', '시설명', '주소', '채취지점', '미세먼지(PM10)', '초미세먼지(PM2.5)', '이산화탄소', '폼알데하이드', '총부유세균', '라돈'])\n",
    "\n",
    "# 결과 저장\n",
    "output_path = 'report_data.csv'\n",
    "data_sorted.to_csv(output_path, index=False)\n"
   ]
  }
 ],
 "metadata": {
  "kernelspec": {
   "display_name": "Python 3",
   "language": "python",
   "name": "python3"
  },
  "language_info": {
   "codemirror_mode": {
    "name": "ipython",
    "version": 3
   },
   "file_extension": ".py",
   "mimetype": "text/x-python",
   "name": "python",
   "nbconvert_exporter": "python",
   "pygments_lexer": "ipython3",
   "version": "3.12.5"
  }
 },
 "nbformat": 4,
 "nbformat_minor": 2
}
