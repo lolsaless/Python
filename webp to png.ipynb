{
 "cells": [
  {
   "cell_type": "code",
   "execution_count": 1,
   "metadata": {},
   "outputs": [
    {
     "name": "stdout",
     "output_type": "stream",
     "text": [
      "Requirement already satisfied: Pillow in /Library/Frameworks/Python.framework/Versions/3.12/lib/python3.12/site-packages (10.3.0)\n",
      "Note: you may need to restart the kernel to use updated packages.\n"
     ]
    }
   ],
   "source": [
    "pip install Pillow"
   ]
  },
  {
   "cell_type": "code",
   "execution_count": 3,
   "metadata": {},
   "outputs": [
    {
     "name": "stdout",
     "output_type": "stream",
     "text": [
      "Converted /Users/time/Documents/GitHub/Python/image/DALL·E 2024-05-16 13.30.19 - Design an ultra-minimalist logo using the word 'GGL' composed with the imagery of books and trees, where the letters are clearly shaped from these ele.webp to /Users/time/Documents/GitHub/Python/image/DALL·E 2024-05-16 13.30.19 - Design an ultra-minimalist logo using the word 'GGL' composed with the imagery of books and trees, where the letters are clearly shaped from these ele.png\n",
      "Converted /Users/time/Documents/GitHub/Python/image/DALL·E 2024-04-26 20.08.16 - Design a clean, professional logo featuring the initials 'GGL'. The logo should emphasize a fusion of a forest and a book theme, using a minimalist st.webp to /Users/time/Documents/GitHub/Python/image/DALL·E 2024-04-26 20.08.16 - Design a clean, professional logo featuring the initials 'GGL'. The logo should emphasize a fusion of a forest and a book theme, using a minimalist st.png\n",
      "Converted /Users/time/Documents/GitHub/Python/image/DALL·E 2024-04-29 17.08.10 - Create an ultra-minimalist logo using the text 'G,G,L,i,m'. The design incorporates the imagery of books and trees, with the letters shaped from these.webp to /Users/time/Documents/GitHub/Python/image/DALL·E 2024-04-29 17.08.10 - Create an ultra-minimalist logo using the text 'G,G,L,i,m'. The design incorporates the imagery of books and trees, with the letters shaped from these.png\n",
      "Converted /Users/time/Documents/GitHub/Python/image/DALL·E 2024-04-26 20.08.12 - Create a more creative and visually striking logo for 'GGL', integrating the themes of a forest and a book. The design should be imaginative and artis.webp to /Users/time/Documents/GitHub/Python/image/DALL·E 2024-04-26 20.08.12 - Create a more creative and visually striking logo for 'GGL', integrating the themes of a forest and a book. The design should be imaginative and artis.png\n",
      "Converted /Users/time/Documents/GitHub/Python/image/DALL·E 2024-04-28 10.18.18 - Refine the logo to emphasize the letters 'GGL' more prominently, symbolizing the merger of a forest and literature. The design keeps a clean and simpl.webp to /Users/time/Documents/GitHub/Python/image/DALL·E 2024-04-28 10.18.18 - Refine the logo to emphasize the letters 'GGL' more prominently, symbolizing the merger of a forest and literature. The design keeps a clean and simpl.png\n",
      "Converted /Users/time/Documents/GitHub/Python/image/DALL·E 2024-05-16 13.30.31 - Design an ultra-minimalist logo using the word 'GGL' composed with the imagery of books and trees, where the letters are clearly shaped from these ele.webp to /Users/time/Documents/GitHub/Python/image/DALL·E 2024-05-16 13.30.31 - Design an ultra-minimalist logo using the word 'GGL' composed with the imagery of books and trees, where the letters are clearly shaped from these ele.png\n",
      "Converted /Users/time/Documents/GitHub/Python/image/DALL·E 2024-04-28 10.18.13 - Design a simplified and clean logo using the letters 'GGL', symbolizing the merger of a forest and literature. The first 'G' forms a tree trunk, growi.webp to /Users/time/Documents/GitHub/Python/image/DALL·E 2024-04-28 10.18.13 - Design a simplified and clean logo using the letters 'GGL', symbolizing the merger of a forest and literature. The first 'G' forms a tree trunk, growi.png\n",
      "Converted /Users/time/Documents/GitHub/Python/image/DALL·E 2024-04-28 09.58.36 - Design a simple and minimalist logo for 'Gyeonggi Library' with an abstract representation of forest and books themes, using fluid and organic lines. .webp to /Users/time/Documents/GitHub/Python/image/DALL·E 2024-04-28 09.58.36 - Design a simple and minimalist logo for 'Gyeonggi Library' with an abstract representation of forest and books themes, using fluid and organic lines. .png\n",
      "Converted /Users/time/Documents/GitHub/Python/image/DALL·E 2024-05-16 13.30.52 - Redesign the ultra-minimalist 'GGL' logo by incorporating a book imagery at a specific chosen location, while retaining the simple black and white col.webp to /Users/time/Documents/GitHub/Python/image/DALL·E 2024-05-16 13.30.52 - Redesign the ultra-minimalist 'GGL' logo by incorporating a book imagery at a specific chosen location, while retaining the simple black and white col.png\n",
      "Converted /Users/time/Documents/GitHub/Python/image/DALL·E 2024-04-28 10.34.25 - Design a simple and minimalist logo for 'GGL' with an abstract representation of forest and books themes, using fluid and organic lines. Utilize a col.webp to /Users/time/Documents/GitHub/Python/image/DALL·E 2024-04-28 10.34.25 - Design a simple and minimalist logo for 'GGL' with an abstract representation of forest and books themes, using fluid and organic lines. Utilize a col.png\n",
      "Converted /Users/time/Documents/GitHub/Python/image/DALL·E 2024-04-29 16.11.35 - Create a minimalist logo for the word 'GGLim', using simple stylization to suggest the themes of books and trees. The letters should be minimally deta.webp to /Users/time/Documents/GitHub/Python/image/DALL·E 2024-04-29 16.11.35 - Create a minimalist logo for the word 'GGLim', using simple stylization to suggest the themes of books and trees. The letters should be minimally deta.png\n"
     ]
    }
   ],
   "source": [
    "import os\n",
    "from PIL import Image\n",
    "\n",
    "def convert_webp_to_png(folder_path):\n",
    "    # 폴더 내의 모든 파일을 확인\n",
    "    for filename in os.listdir(folder_path):\n",
    "        if filename.endswith('.webp'):\n",
    "            # .webp 파일 경로\n",
    "            webp_file = os.path.join(folder_path, filename)\n",
    "            # .png 파일 경로\n",
    "            png_file = os.path.join(folder_path, filename.replace('.webp', '.png'))\n",
    "            \n",
    "            # 이미지 열기 및 변환\n",
    "            with Image.open(webp_file) as img:\n",
    "                img.save(png_file, 'PNG')\n",
    "            print(f\"Converted {webp_file} to {png_file}\")\n",
    "\n",
    "# 폴더 경로 설정\n",
    "folder_path = '/Users/time/Documents/GitHub/Python/image'  # 'Image' 폴더를 스크립트와 동일한 디렉토리에 두거나 전체 경로를 입력\n",
    "convert_webp_to_png(folder_path)\n"
   ]
  }
 ],
 "metadata": {
  "kernelspec": {
   "display_name": "Python 3",
   "language": "python",
   "name": "python3"
  },
  "language_info": {
   "codemirror_mode": {
    "name": "ipython",
    "version": 3
   },
   "file_extension": ".py",
   "mimetype": "text/x-python",
   "name": "python",
   "nbconvert_exporter": "python",
   "pygments_lexer": "ipython3",
   "version": "3.12.3"
  }
 },
 "nbformat": 4,
 "nbformat_minor": 2
}
