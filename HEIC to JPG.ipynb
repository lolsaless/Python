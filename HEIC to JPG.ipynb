{
 "cells": [
  {
   "cell_type": "code",
   "execution_count": 1,
   "id": "6b72fb07",
   "metadata": {},
   "outputs": [
    {
     "name": "stdout",
     "output_type": "stream",
     "text": [
      "Requirement already satisfied: pillow in c:\\git\\python\\.venv\\lib\\site-packages (11.2.1)\n",
      "Collecting piexif\n",
      "  Downloading piexif-1.1.3-py2.py3-none-any.whl.metadata (3.7 kB)\n",
      "Collecting pillow-heif\n",
      "  Downloading pillow_heif-1.1.0-cp313-cp313-win_amd64.whl.metadata (9.8 kB)\n",
      "Downloading piexif-1.1.3-py2.py3-none-any.whl (20 kB)\n",
      "Downloading pillow_heif-1.1.0-cp313-cp313-win_amd64.whl (5.4 MB)\n",
      "   ---------------------------------------- 0.0/5.4 MB ? eta -:--:--\n",
      "   ---------------------------------------- 5.4/5.4 MB 45.3 MB/s eta 0:00:00\n",
      "Installing collected packages: pillow-heif, piexif\n",
      "Successfully installed piexif-1.1.3 pillow-heif-1.1.0\n",
      "Note: you may need to restart the kernel to use updated packages.\n"
     ]
    },
    {
     "name": "stderr",
     "output_type": "stream",
     "text": [
      "\n",
      "[notice] A new release of pip is available: 25.0.1 -> 25.2\n",
      "[notice] To update, run: python.exe -m pip install --upgrade pip\n"
     ]
    }
   ],
   "source": [
    "pip install pillow piexif pillow-heif\n"
   ]
  },
  {
   "cell_type": "code",
   "execution_count": 4,
   "id": "95b75e5d",
   "metadata": {},
   "outputs": [
    {
     "name": "stdout",
     "output_type": "stream",
     "text": [
      "변환이 완료되었습니다. 출력 폴더: C:\\Users\\waste\\Downloads\\2024 ~ 2025 인서\\converted_jpg\n"
     ]
    }
   ],
   "source": [
    "from PIL import Image\n",
    "import os\n",
    "from pathlib import Path\n",
    "import pillow_heif  # HEIC 지원을 위해 import (자동 등록됨)\n",
    "\n",
    "# 입력 폴더 경로 설정\n",
    "input_folder = Path(r'C:\\Users\\waste\\Downloads\\2024 ~ 2025 인서')\n",
    "\n",
    "# 출력 폴더 생성 (입력 폴더 안에 'converted_jpg' 폴더)\n",
    "output_folder = input_folder / 'converted_jpg'\n",
    "output_folder.mkdir(parents=True, exist_ok=True)  # 폴더가 없으면 생성\n",
    "\n",
    "# HEIC -> JPG 변환 함수 (메타정보 보존)\n",
    "def convert_heic_to_jpg_with_metadata(heic_path, jpg_path):\n",
    "    # HEIC 이미지 열기\n",
    "    im = Image.open(heic_path)\n",
    "    \n",
    "    # EXIF 메타정보 추출 (pillow-heif를 통해 im.info에 저장됨)\n",
    "    exif = im.info.get('exif')\n",
    "    \n",
    "    # JPG로 변환 및 저장 (메타정보 포함)\n",
    "    kwargs = {'quality': 95}\n",
    "    if exif is not None:\n",
    "        kwargs['exif'] = exif\n",
    "    im.convert('RGB').save(jpg_path, 'JPEG', **kwargs)\n",
    "\n",
    "# 폴더 내 모든 HEIC 파일 변환\n",
    "for file_path in input_folder.glob('*.HEIC'):\n",
    "    jpg_file_path = output_folder / (file_path.stem + '.jpg')\n",
    "    convert_heic_to_jpg_with_metadata(file_path, jpg_file_path)\n",
    "\n",
    "print(\"변환이 완료되었습니다. 출력 폴더:\", output_folder)\n"
   ]
  }
 ],
 "metadata": {
  "kernelspec": {
   "display_name": ".venv",
   "language": "python",
   "name": "python3"
  },
  "language_info": {
   "codemirror_mode": {
    "name": "ipython",
    "version": 3
   },
   "file_extension": ".py",
   "mimetype": "text/x-python",
   "name": "python",
   "nbconvert_exporter": "python",
   "pygments_lexer": "ipython3",
   "version": "3.13.3"
  }
 },
 "nbformat": 4,
 "nbformat_minor": 5
}
