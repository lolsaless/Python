{
 "cells": [
  {
   "cell_type": "code",
   "execution_count": 1,
   "id": "41924aec-5779-46e7-9a9c-23a45bb72648",
   "metadata": {},
   "outputs": [],
   "source": [
    "# 날짜 표현 - datetime.date\n",
    "\n",
    "import datetime\n",
    "day1 = datetime.date(2024, 1, 5)"
   ]
  },
  {
   "cell_type": "code",
   "execution_count": 2,
   "id": "4d5b0ee2-49d7-4849-b046-810f7bf46ad9",
   "metadata": {},
   "outputs": [
    {
     "data": {
      "text/plain": [
       "datetime.date(2024, 1, 5)"
      ]
     },
     "execution_count": 2,
     "metadata": {},
     "output_type": "execute_result"
    }
   ],
   "source": [
    "day1"
   ]
  },
  {
   "cell_type": "code",
   "execution_count": 3,
   "id": "b781e0bb-74a9-4b1c-891f-cdaaa8356d67",
   "metadata": {},
   "outputs": [],
   "source": [
    "# 날짜/시간 표현 - datetime.datetime\n",
    "day2 = datetime.datetime(2024, 1, 5, 14, 1, 10)"
   ]
  },
  {
   "cell_type": "code",
   "execution_count": 4,
   "id": "45361acd-ede7-4a16-ae60-53e0ed60a28b",
   "metadata": {},
   "outputs": [
    {
     "data": {
      "text/plain": [
       "datetime.datetime(2024, 1, 5, 14, 1, 10)"
      ]
     },
     "execution_count": 4,
     "metadata": {},
     "output_type": "execute_result"
    }
   ],
   "source": [
    "day2"
   ]
  },
  {
   "cell_type": "code",
   "execution_count": 5,
   "id": "227e3861-a567-493e-b03b-e9077c4163d3",
   "metadata": {},
   "outputs": [
    {
     "data": {
      "text/plain": [
       "2024"
      ]
     },
     "execution_count": 5,
     "metadata": {},
     "output_type": "execute_result"
    }
   ],
   "source": [
    "day2.year"
   ]
  },
  {
   "cell_type": "code",
   "execution_count": 6,
   "id": "be2b4a43-214c-4e04-87c2-0e88a2325f58",
   "metadata": {},
   "outputs": [
    {
     "data": {
      "text/plain": [
       "1"
      ]
     },
     "execution_count": 6,
     "metadata": {},
     "output_type": "execute_result"
    }
   ],
   "source": [
    "day2.month"
   ]
  },
  {
   "cell_type": "code",
   "execution_count": 7,
   "id": "51c78775-f343-4cf2-81e1-c5b9a8a3fb99",
   "metadata": {},
   "outputs": [
    {
     "data": {
      "text/plain": [
       "5"
      ]
     },
     "execution_count": 7,
     "metadata": {},
     "output_type": "execute_result"
    }
   ],
   "source": [
    "day2.day"
   ]
  },
  {
   "cell_type": "code",
   "execution_count": 9,
   "id": "1a831ae2-1628-4a64-bba1-c192163dcc85",
   "metadata": {},
   "outputs": [
    {
     "data": {
      "text/plain": [
       "10"
      ]
     },
     "execution_count": 9,
     "metadata": {},
     "output_type": "execute_result"
    }
   ],
   "source": [
    "day2.hour\n",
    "day2.minute\n",
    "day2.second"
   ]
  },
  {
   "cell_type": "code",
   "execution_count": 11,
   "id": "5f8f7a4d-cb29-4559-ad88-ec912990677f",
   "metadata": {},
   "outputs": [],
   "source": [
    "# 날짜/시간 합치기 - Combine\n",
    "\n",
    "day = datetime.date(2024, 1, 5)\n",
    "time = datetime.time(16, 10, 30)"
   ]
  },
  {
   "cell_type": "code",
   "execution_count": 12,
   "id": "99dda750-bb53-41c1-bd36-950896d3d8d6",
   "metadata": {},
   "outputs": [],
   "source": [
    "dt = datetime.datetime.combine(day, time)"
   ]
  },
  {
   "cell_type": "code",
   "execution_count": 13,
   "id": "c4a4a0a3-dd11-454d-9da4-88c674191fd9",
   "metadata": {},
   "outputs": [
    {
     "data": {
      "text/plain": [
       "datetime.datetime(2024, 1, 5, 16, 10, 30)"
      ]
     },
     "execution_count": 13,
     "metadata": {},
     "output_type": "execute_result"
    }
   ],
   "source": [
    "dt"
   ]
  },
  {
   "cell_type": "code",
   "execution_count": 14,
   "id": "390d1acd-a145-47ca-9e04-4fb6808fb9e6",
   "metadata": {},
   "outputs": [
    {
     "data": {
      "text/plain": [
       "datetime.date(2024, 1, 5)"
      ]
     },
     "execution_count": 14,
     "metadata": {},
     "output_type": "execute_result"
    }
   ],
   "source": [
    "# 현재 날짜/시간 - today, now\n",
    "datetime.date.today()"
   ]
  },
  {
   "cell_type": "code",
   "execution_count": 17,
   "id": "50a42cb3-040d-4af4-b301-246a781ab083",
   "metadata": {},
   "outputs": [
    {
     "data": {
      "text/plain": [
       "datetime.datetime(2024, 1, 5, 14, 7, 46, 585021)"
      ]
     },
     "execution_count": 17,
     "metadata": {},
     "output_type": "execute_result"
    }
   ],
   "source": [
    "datetime.datetime.now()"
   ]
  },
  {
   "cell_type": "code",
   "execution_count": 18,
   "id": "cc2cf93b-56a5-4f39-8a85-a9c843b5283d",
   "metadata": {},
   "outputs": [
    {
     "data": {
      "text/plain": [
       "datetime.datetime(2024, 1, 5, 14, 8, 4, 71897)"
      ]
     },
     "execution_count": 18,
     "metadata": {},
     "output_type": "execute_result"
    }
   ],
   "source": [
    "datetime.datetime.today()"
   ]
  },
  {
   "cell_type": "code",
   "execution_count": 19,
   "id": "54b1d96e-07b9-4fd0-96bf-69c8a6ab4397",
   "metadata": {},
   "outputs": [],
   "source": [
    "# 날짜 계산 - timedelta\n",
    "\n",
    "day1 = datetime.date.today()\n",
    "day2 = datetime.date(2022,10,15)"
   ]
  },
  {
   "cell_type": "code",
   "execution_count": 20,
   "id": "a8097414-f933-4736-a964-98c926d5b5fc",
   "metadata": {},
   "outputs": [],
   "source": [
    "diff = day1- day2"
   ]
  },
  {
   "cell_type": "raw",
   "id": "8c784e05-21c4-45df-9697-b112cbdc38eb",
   "metadata": {},
   "source": [
    "diff"
   ]
  },
  {
   "cell_type": "code",
   "execution_count": 23,
   "id": "1fe17128-1d70-4e7c-883f-fe4f90e4884a",
   "metadata": {},
   "outputs": [],
   "source": [
    "plus = datetime.timedelta(days = 100)"
   ]
  },
  {
   "cell_type": "code",
   "execution_count": 24,
   "id": "f5fdb63c-5e70-4e42-851e-743a897361cd",
   "metadata": {},
   "outputs": [],
   "source": [
    "add = day1 + plus"
   ]
  },
  {
   "cell_type": "code",
   "execution_count": 25,
   "id": "59fad705-4366-4484-8f77-770aa07ca9a0",
   "metadata": {},
   "outputs": [
    {
     "data": {
      "text/plain": [
       "datetime.date(2024, 4, 14)"
      ]
     },
     "execution_count": 25,
     "metadata": {},
     "output_type": "execute_result"
    }
   ],
   "source": [
    "add"
   ]
  },
  {
   "cell_type": "code",
   "execution_count": 26,
   "id": "9e6814eb-c835-4ea7-98b0-3e89fc774a38",
   "metadata": {},
   "outputs": [
    {
     "data": {
      "text/plain": [
       "datetime.date(2024, 1, 5)"
      ]
     },
     "execution_count": 26,
     "metadata": {},
     "output_type": "execute_result"
    }
   ],
   "source": [
    "day1"
   ]
  },
  {
   "cell_type": "code",
   "execution_count": 27,
   "id": "bc9e503c-b451-45b5-a87b-3b243c510949",
   "metadata": {},
   "outputs": [
    {
     "data": {
      "text/plain": [
       "4"
      ]
     },
     "execution_count": 27,
     "metadata": {},
     "output_type": "execute_result"
    }
   ],
   "source": [
    "day1.weekday()"
   ]
  },
  {
   "cell_type": "code",
   "execution_count": null,
   "id": "6e8c46e8-b71b-453d-88b5-107f07392c0e",
   "metadata": {},
   "outputs": [],
   "source": []
  }
 ],
 "metadata": {
  "kernelspec": {
   "display_name": "Python 3 (ipykernel)",
   "language": "python",
   "name": "python3"
  },
  "language_info": {
   "codemirror_mode": {
    "name": "ipython",
    "version": 3
   },
   "file_extension": ".py",
   "mimetype": "text/x-python",
   "name": "python",
   "nbconvert_exporter": "python",
   "pygments_lexer": "ipython3",
   "version": "3.11.5"
  }
 },
 "nbformat": 4,
 "nbformat_minor": 5
}
