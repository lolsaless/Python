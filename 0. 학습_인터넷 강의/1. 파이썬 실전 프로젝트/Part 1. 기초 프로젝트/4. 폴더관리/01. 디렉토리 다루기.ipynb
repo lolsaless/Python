{
 "cells": [
  {
   "cell_type": "code",
   "execution_count": 1,
   "metadata": {},
   "outputs": [],
   "source": [
    "import os\n",
    "import pathlib"
   ]
  },
  {
   "cell_type": "code",
   "execution_count": 4,
   "metadata": {},
   "outputs": [
    {
     "name": "stdout",
     "output_type": "stream",
     "text": [
      "/Users/time/Documents/GitHub/Python/0. 학습_인터넷 강의/1. 파이썬 실전 프로젝트/Part 1. 기초 프로젝트/4. 폴더관리\n",
      "/Users/time/Documents/GitHub/Python/0. 학습_인터넷 강의/1. 파이썬 실전 프로젝트/Part 1. 기초 프로젝트/4. 폴더관리\n"
     ]
    }
   ],
   "source": [
    "print(os.getcwd())\n",
    "print(pathlib.Path.cwd())"
   ]
  },
  {
   "cell_type": "markdown",
   "metadata": {},
   "source": [
    "### 경로존재확인"
   ]
  },
  {
   "cell_type": "code",
   "execution_count": 5,
   "metadata": {},
   "outputs": [],
   "source": [
    "dir_file = r'/Users/time/Documents/GitHub/Python/0. 학습_인터넷 강의/1. 파이썬 실전 프로젝트/Part 1. 기초 프로젝트/4. 폴더관리'"
   ]
  },
  {
   "cell_type": "code",
   "execution_count": 6,
   "metadata": {},
   "outputs": [
    {
     "name": "stdout",
     "output_type": "stream",
     "text": [
      "True\n"
     ]
    }
   ],
   "source": [
    "print(pathlib.Path.exists(pathlib.Path(dir_file)))"
   ]
  },
  {
   "cell_type": "code",
   "execution_count": 7,
   "metadata": {},
   "outputs": [
    {
     "data": {
      "text/plain": [
       "PosixPath('/Users/time/Documents/GitHub/Python/0. 학습_인터넷 강의/1. 파이썬 실전 프로젝트/Part 1. 기초 프로젝트/4. 폴더관리')"
      ]
     },
     "execution_count": 7,
     "metadata": {},
     "output_type": "execute_result"
    }
   ],
   "source": [
    "pathlib.Path(dir_file)"
   ]
  },
  {
   "cell_type": "markdown",
   "metadata": {},
   "source": [
    "### 디렉토리 만들기"
   ]
  },
  {
   "cell_type": "code",
   "execution_count": 8,
   "metadata": {},
   "outputs": [],
   "source": [
    "dir_os = r'/Users/time/Documents/GitHub/Python/0. 학습_인터넷 강의/1. 파이썬 실전 프로젝트/Part 1. 기초 프로젝트/4. 폴더관리/os/new folder'\n",
    "dir_pathlib = r'/Users/time/Documents/GitHub/Python/0. 학습_인터넷 강의/1. 파이썬 실전 프로젝트/Part 1. 기초 프로젝트/4. 폴더관리/pathlib/new_folder'"
   ]
  },
  {
   "cell_type": "code",
   "execution_count": 9,
   "metadata": {},
   "outputs": [],
   "source": [
    "# os\n",
    "if not os.path.exists(dir_os):\n",
    "    os.makedirs(dir_os)"
   ]
  },
  {
   "cell_type": "code",
   "execution_count": 12,
   "metadata": {},
   "outputs": [
    {
     "name": "stdout",
     "output_type": "stream",
     "text": [
      "False\n"
     ]
    }
   ],
   "source": [
    "print(os.path.exists(dir_pathlib))"
   ]
  },
  {
   "cell_type": "code",
   "execution_count": 13,
   "metadata": {},
   "outputs": [
    {
     "ename": "AttributeError",
     "evalue": "'str' object has no attribute 'mkdir'",
     "output_type": "error",
     "traceback": [
      "\u001b[0;31m---------------------------------------------------------------------------\u001b[0m",
      "\u001b[0;31mAttributeError\u001b[0m                            Traceback (most recent call last)",
      "Cell \u001b[0;32mIn[13], line 2\u001b[0m\n\u001b[1;32m      1\u001b[0m \u001b[38;5;66;03m# pathlib\u001b[39;00m\n\u001b[0;32m----> 2\u001b[0m \u001b[43mdir_pathlib\u001b[49m\u001b[38;5;241;43m.\u001b[39;49m\u001b[43mmkdir\u001b[49m(parent \u001b[38;5;241m=\u001b[39m \u001b[38;5;28;01mFalse\u001b[39;00m, exist_ok \u001b[38;5;241m=\u001b[39m \u001b[38;5;28;01mTrue\u001b[39;00m)\n",
      "\u001b[0;31mAttributeError\u001b[0m: 'str' object has no attribute 'mkdir'"
     ]
    }
   ],
   "source": [
    "# pathlib\n",
    "dir_pathlib.mkdir(parent = False, exist_ok = True)"
   ]
  },
  {
   "cell_type": "code",
   "execution_count": null,
   "metadata": {},
   "outputs": [],
   "source": []
  }
 ],
 "metadata": {
  "kernelspec": {
   "display_name": "Python 3",
   "language": "python",
   "name": "python3"
  },
  "language_info": {
   "codemirror_mode": {
    "name": "ipython",
    "version": 3
   },
   "file_extension": ".py",
   "mimetype": "text/x-python",
   "name": "python",
   "nbconvert_exporter": "python",
   "pygments_lexer": "ipython3",
   "version": "3.12.2"
  }
 },
 "nbformat": 4,
 "nbformat_minor": 2
}
