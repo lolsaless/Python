{
 "cells": [
  {
   "cell_type": "code",
   "execution_count": 4,
   "id": "07db986a-9cca-4957-8169-b4deee602e3b",
   "metadata": {},
   "outputs": [],
   "source": [
    "a = 19\n",
    "b = 11.4"
   ]
  },
  {
   "cell_type": "code",
   "execution_count": 5,
   "id": "f63fc3cb-584a-4e61-8d33-54e1293f0491",
   "metadata": {},
   "outputs": [
    {
     "name": "stdout",
     "output_type": "stream",
     "text": [
      "19 11.4\n"
     ]
    }
   ],
   "source": [
    "print(a, b)"
   ]
  },
  {
   "cell_type": "code",
   "execution_count": 6,
   "id": "9c451969-e9b2-452b-bb39-8ae2879cbf13",
   "metadata": {},
   "outputs": [
    {
     "data": {
      "text/plain": [
       "'e'"
      ]
     },
     "execution_count": 6,
     "metadata": {},
     "output_type": "execute_result"
    }
   ],
   "source": [
    "a = \"Hello World\"\n",
    "a[1]"
   ]
  },
  {
   "cell_type": "code",
   "execution_count": 7,
   "id": "c4100a7c-fc3b-421f-911f-cca3efb2aa7f",
   "metadata": {},
   "outputs": [
    {
     "data": {
      "text/plain": [
       "'Hello World \\n my world'"
      ]
     },
     "execution_count": 7,
     "metadata": {},
     "output_type": "execute_result"
    }
   ],
   "source": [
    "b = \"Hello World \\n my world\"\n",
    "\n",
    "b"
   ]
  },
  {
   "cell_type": "code",
   "execution_count": 8,
   "id": "fe3c2de7-7ca3-4194-992b-d000e7e8a5a1",
   "metadata": {},
   "outputs": [
    {
     "data": {
      "text/plain": [
       "'jello world'"
      ]
     },
     "execution_count": 8,
     "metadata": {},
     "output_type": "execute_result"
    }
   ],
   "source": [
    "a = 'hello world'\n",
    "a.replace('h', 'j')"
   ]
  },
  {
   "cell_type": "code",
   "execution_count": 9,
   "id": "512e6879-0e7f-4885-bc30-66125d904fcd",
   "metadata": {},
   "outputs": [
    {
     "name": "stdout",
     "output_type": "stream",
     "text": [
      "오늘 기온-3도 이고, 비올 확률은 80% 입니다.\n"
     ]
    }
   ],
   "source": [
    "temperature = -3\n",
    "prob = 80\n",
    "a = '오늘 기온{}도 이고, 비올 확률은 {}% 입니다.'.format(temperature, prob)\n",
    "print(a)"
   ]
  },
  {
   "cell_type": "code",
   "execution_count": 10,
   "id": "165aff2c-4719-4099-9b60-59de75fa5513",
   "metadata": {},
   "outputs": [
    {
     "data": {
      "text/plain": [
       "['Hello', 'world', 'what', 'a', 'nice', 'weather']"
      ]
     },
     "execution_count": 10,
     "metadata": {},
     "output_type": "execute_result"
    }
   ],
   "source": [
    "a = 'Hello world what a nice weather'\n",
    "a.split()"
   ]
  },
  {
   "cell_type": "code",
   "execution_count": 12,
   "id": "60a690fe-40df-445c-b727-0c56467ca049",
   "metadata": {},
   "outputs": [
    {
     "data": {
      "text/plain": [
       "3"
      ]
     },
     "execution_count": 12,
     "metadata": {},
     "output_type": "execute_result"
    }
   ],
   "source": [
    "def weird_multiply(x, y):\n",
    "    if x > 10:\n",
    "        return x * y\n",
    "    return (x + 2) * y\n",
    "\n",
    "weird_multiply(1, 1)"
   ]
  },
  {
   "cell_type": "code",
   "execution_count": 11,
   "id": "a0d237b6-8290-4692-aa33-d9d0c2fa3d87",
   "metadata": {},
   "outputs": [],
   "source": [
    "%config Completer.use_jedi = False"
   ]
  },
  {
   "cell_type": "markdown",
   "id": "5d8b0409-f459-4022-9943-7560e1cb9ee0",
   "metadata": {},
   "source": [
    "## Class 선언하기\n",
    "객체를 생성하기 위해서는 객체의 모체가 되는 class를 미리 선언해야 한다."
   ]
  },
  {
   "cell_type": "code",
   "execution_count": 3,
   "id": "f587da51-0ff0-4e67-b4ff-5747b0854269",
   "metadata": {},
   "outputs": [],
   "source": [
    "def test1():\n",
    "    pass\n",
    "\n",
    "def test2():\n",
    "    pass"
   ]
  },
  {
   "cell_type": "code",
   "execution_count": 1,
   "id": "0bbe76a5-ee06-44b2-9004-19e75700892c",
   "metadata": {},
   "outputs": [],
   "source": [
    "class person:\n",
    "    pass"
   ]
  },
  {
   "cell_type": "code",
   "execution_count": 4,
   "id": "4c9e82fa-f8fc-44ea-bfb0-1d35e022887f",
   "metadata": {},
   "outputs": [],
   "source": [
    "bob = person()\n",
    "cathy = person()\n",
    "\n",
    "a = list()\n",
    "b = list()"
   ]
  },
  {
   "cell_type": "code",
   "execution_count": 10,
   "id": "bb6967de-e728-4529-87db-dcbf287b8f60",
   "metadata": {},
   "outputs": [
    {
     "name": "stdout",
     "output_type": "stream",
     "text": [
      "<class '__main__.person'> <class '__main__.person'>\n",
      "<class 'list'> <class 'list'>\n"
     ]
    }
   ],
   "source": [
    "print(type(bob), type(cathy))\n",
    "print(type(a), type(b))"
   ]
  },
  {
   "cell_type": "markdown",
   "id": "903f3c6d-e251-4302-9478-2f4b45ca2c98",
   "metadata": {},
   "source": [
    "## 생성자(__init__(self))"
   ]
  },
  {
   "cell_type": "code",
   "execution_count": 12,
   "id": "fe79ef92-a029-4263-8678-f07b4e1afedf",
   "metadata": {},
   "outputs": [
    {
     "name": "stdout",
     "output_type": "stream",
     "text": [
      "<__main__.Person object at 0x10489a750> is generated\n",
      "<__main__.Person object at 0x10489ad90> is generated\n"
     ]
    }
   ],
   "source": [
    "class Person:\n",
    "    def __init__(self):\n",
    "        print(self, 'is generated')\n",
    "\n",
    "p1 = Person()\n",
    "p2 = Person()"
   ]
  },
  {
   "cell_type": "code",
   "execution_count": 18,
   "id": "594d3341-1c7b-416d-880a-72df8b29e232",
   "metadata": {},
   "outputs": [
    {
     "name": "stdout",
     "output_type": "stream",
     "text": [
      "<__main__.Person object at 0x1048a1dd0> is generated\n",
      "<__main__.Person object at 0x1048a1f50> is generated\n",
      "20 aaron\n"
     ]
    }
   ],
   "source": [
    "class Person:\n",
    "    def __init__(self):\n",
    "        print(self, 'is generated')\n",
    "        self.name = 'Kate'\n",
    "        self.age = 10\n",
    "\n",
    "p1 = Person()\n",
    "p2 = Person()\n",
    "\n",
    "p1.age = 20\n",
    "p1.name = 'aaron'\n",
    "\n",
    "print(p1.age, p1.name)"
   ]
  },
  {
   "cell_type": "code",
   "execution_count": null,
   "id": "a0e9ccfc-1678-4dba-b5b6-c37bc91ce7d1",
   "metadata": {},
   "outputs": [],
   "source": [
    "class Person:\n",
    "    def __init__(self, name, age):\n",
    "        # print(self, 'is generated')\n",
    "        self.name = name\n",
    "        self.age = age\n",
    "\n",
    "p1 = Person('Bob', 30)\n",
    "P2 = Person('Kate', 20)\n",
    "\n",
    "print(p1.name, p1.age)\n",
    "print(p2.name, p2.age)"
   ]
  },
  {
   "cell_type": "code",
   "execution_count": 24,
   "id": "fedb328c-02cf-4699-a0a4-b4d3f00091ea",
   "metadata": {},
   "outputs": [
    {
     "name": "stdout",
     "output_type": "stream",
     "text": [
      "Bob 30\n",
      "Kate 20\n",
      "Aaron 10\n"
     ]
    }
   ],
   "source": [
    "class Person:\n",
    "    def __init__(self, name, age = 10):\n",
    "        self.name = name\n",
    "        self.age = age\n",
    "\n",
    "p1 = Person('Bob', 30)\n",
    "p2 = Person('Kate', 20)\n",
    "p3 = Person('Aaron')\n",
    "\n",
    "print(p1.name, p1.age)\n",
    "print(p2.name, p2.age)\n",
    "print(p3.name, p3.age)"
   ]
  },
  {
   "cell_type": "markdown",
   "id": "35f5f9cb-eef0-49a3-8049-69b71dd66fa9",
   "metadata": {},
   "source": [
    "## self\n",
    "파이썬 의 모든 메서드의 첫번째 인자로 self전달"
   ]
  },
  {
   "cell_type": "code",
   "execution_count": 44,
   "id": "cbe0371f-cd07-44d2-bf70-cfcc5913a6a5",
   "metadata": {},
   "outputs": [
    {
     "name": "stdout",
     "output_type": "stream",
     "text": [
      "<__main__.Person object at 0x10553ed90>\n",
      "<__main__.Person object at 0x1048a01d0>\n"
     ]
    }
   ],
   "source": [
    "class Person:\n",
    "    def __init__(self, name, age):\n",
    "        self.name = name\n",
    "        self.age = age\n",
    "\n",
    "    def sleep(self):\n",
    "        print('self:', self)\n",
    "        print(self.name, '은 잠을 잡니다.')\n",
    "        print(self.age, '살 입니다.')\n",
    "\n",
    "a = Person('Aaron', 20)\n",
    "b = Person('Bob', 30)\n",
    "\n",
    "print(a)\n",
    "print(b)"
   ]
  },
  {
   "cell_type": "code",
   "execution_count": 26,
   "id": "224709f8-6666-4bfd-939d-196c936f29f6",
   "metadata": {},
   "outputs": [
    {
     "name": "stdout",
     "output_type": "stream",
     "text": [
      "20\n"
     ]
    }
   ],
   "source": [
    "print(a.age)"
   ]
  },
  {
   "cell_type": "code",
   "execution_count": 32,
   "id": "bf3a48e2-6270-42e3-a6d2-f263243d8a89",
   "metadata": {},
   "outputs": [
    {
     "name": "stdout",
     "output_type": "stream",
     "text": [
      "self: <__main__.Person object at 0x1048a01d0>\n",
      "Aaron 은 잠을 잡니다.\n"
     ]
    }
   ],
   "source": [
    "a.sleep()"
   ]
  },
  {
   "cell_type": "code",
   "execution_count": 33,
   "id": "3d55c449-059d-4121-bbfe-6cfc3dfe0222",
   "metadata": {},
   "outputs": [
    {
     "name": "stdout",
     "output_type": "stream",
     "text": [
      "self: <__main__.Person object at 0x1048a2490>\n",
      "Bob 은 잠을 잡니다.\n"
     ]
    }
   ],
   "source": [
    "b.sleep()"
   ]
  },
  {
   "cell_type": "code",
   "execution_count": 38,
   "id": "ac95ac50-7456-4fa4-9055-83b82e038a3d",
   "metadata": {},
   "outputs": [],
   "source": [
    "c = Person('a', 20)"
   ]
  },
  {
   "cell_type": "code",
   "execution_count": 43,
   "id": "5d471526-86a0-4d1b-97a0-e7662b501aea",
   "metadata": {},
   "outputs": [
    {
     "name": "stdout",
     "output_type": "stream",
     "text": [
      "self: <__main__.Person object at 0x1054d7810>\n",
      "a 은 잠을 잡니다.\n",
      "20 None\n"
     ]
    }
   ],
   "source": [
    "print(c.age, c.sleep())"
   ]
  },
  {
   "cell_type": "code",
   "execution_count": 45,
   "id": "f0160650-f84c-47b7-9267-ce77929223d7",
   "metadata": {},
   "outputs": [
    {
     "name": "stdout",
     "output_type": "stream",
     "text": [
      "self: <__main__.Person object at 0x10553ed90>\n",
      "Aaron 은 잠을 잡니다.\n",
      "20 살 입니다.\n"
     ]
    }
   ],
   "source": [
    "a.sleep()"
   ]
  },
  {
   "cell_type": "markdown",
   "id": "0208dacc-06f6-4d77-8360-08603dec72e5",
   "metadata": {},
   "source": [
    "## method 정의"
   ]
  },
  {
   "cell_type": "code",
   "execution_count": 61,
   "id": "39001a31-00ba-442d-873c-bfa1f44a4a25",
   "metadata": {},
   "outputs": [
    {
     "name": "stdout",
     "output_type": "stream",
     "text": [
      "현재값은: 0\n",
      "현재값은: 3\n",
      "현재값은: 0\n"
     ]
    }
   ],
   "source": [
    "# 1. 숫자를 하나 증가\n",
    "# 2. 숫자를 0으로 초기화\n",
    "\n",
    "class Counter:\n",
    "    def __init__(self):\n",
    "        self.num = 0\n",
    "\n",
    "    def increment(self):\n",
    "        self.num += 1\n",
    "\n",
    "    def reset(self):\n",
    "        self.num = 0\n",
    "\n",
    "    def print_current_value(self):\n",
    "        print(\"현재값은:\", self.num)\n",
    "\n",
    "c1 = Counter()\n",
    "c1.print_current_value()\n",
    "c1.increment()\n",
    "c1.increment()\n",
    "c1.increment()\n",
    "c1.print_current_value()\n",
    "\n",
    "c1.reset()\n",
    "c1.print_current_value()"
   ]
  },
  {
   "cell_type": "markdown",
   "id": "2c8181a7-5996-4a00-b48c-a3162877e789",
   "metadata": {},
   "source": [
    "당신이 작성한 코드에서 발생한 오류는 \"TypeError: 'int' object is not callable\"입니다. 이 오류는 다음 두 가지 이유로 발생했습니다:\n",
    "\n",
    "1. `c1.num(2)`에서 `num`은 변수(속성)인데, 함수처럼 호출하려고 시도했습니다. `self.num`은 객체의 속성이기 때문에 함수처럼 호출할 수 없습니다. 즉, `c1.num(2)`는 `self.num`의 값을 변경하려는 시도로 해석되어 오류가 발생합니다.\n",
    "\n",
    "2. `self.num`은 초기에 0으로 설정되었으며, 함수가 아닌 정수(int) 속성입니다. 따라서 정수를 함수처럼 호출하려고 시도하면 `TypeError`가 발생합니다.\n",
    "\n",
    "올바른 방법은 `self.num` 값을 변경하려면 다음과 같이 속성에 직접 접근하여 값을 할당해야 합니다:\n",
    "\n",
    "```python\n",
    "c1 = Counter()\n",
    "c1.num = 2\n",
    "```\n",
    "\n",
    "이렇게 하면 `c1` 객체의 `num` 속성 값이 2로 설정됩니다."
   ]
  },
  {
   "cell_type": "markdown",
   "id": "32c52e64-1885-4e7e-9a90-59cc7a262510",
   "metadata": {},
   "source": [
    "### static Method\n",
    "instance method: 객체로 호출</br>\n",
    "메쏘드는 객체 레벨로 호출되기 때문에, 해당 메쏘드를 호출한 객체에만 영향을 미친다.</br>\n",
    "class method(static method: class로 호출</br>\n",
    "클래스 메쏘든의 경우, 클래스 레벨로 호출되기 때문에 클래스 멤버 변수만 변경 가능"
   ]
  },
  {
   "cell_type": "code",
   "execution_count": 1,
   "id": "9351087a-3023-448c-8fbc-99787eca2b6f",
   "metadata": {},
   "outputs": [
    {
     "data": {
      "text/plain": [
       "200"
      ]
     },
     "execution_count": 1,
     "metadata": {},
     "output_type": "execute_result"
    }
   ],
   "source": [
    "class Math:\n",
    "    def add(sef, a, b):\n",
    "        return a + b\n",
    "\n",
    "    def multiply(self, a, b):\n",
    "        return a * b\n",
    "\n",
    "m = Math()\n",
    "m.add(10, 20)\n",
    "m.multiply(10, 20)"
   ]
  },
  {
   "cell_type": "code",
   "execution_count": 8,
   "id": "b0b0a436-239e-477c-a06c-f07e523ab769",
   "metadata": {},
   "outputs": [
    {
     "data": {
      "text/plain": [
       "200"
      ]
     },
     "execution_count": 8,
     "metadata": {},
     "output_type": "execute_result"
    }
   ],
   "source": [
    "class Math:\n",
    "    @staticmethod\n",
    "    def add(a, b):\n",
    "        return a + b\n",
    "\n",
    "    @staticmethod\n",
    "    def multiply(a, b):\n",
    "        return a * b\n",
    "\n",
    "Math.add(10, 20)\n",
    "Math.multiply(10, 20)"
   ]
  },
  {
   "cell_type": "markdown",
   "id": "94e25f09-0b62-4b7a-b24c-909e1b317bf9",
   "metadata": {},
   "source": [
    "### method 정의\n",
    "\n",
    "멤버함수라고 하며, 해당 클래스의 Object에서만 호출 가능 </br>\n",
    "method는 객체 레벨에서 호출되며, 해당 객체의 속성에 대한 연산을 수행 </br>\n",
    "{Object}.{method}(  )형태로 호출된다."
   ]
  },
  {
   "cell_type": "code",
   "execution_count": 1,
   "id": "5678c5f8-fdcc-4a3a-b405-c3254a6b7533",
   "metadata": {},
   "outputs": [
    {
     "name": "stdout",
     "output_type": "stream",
     "text": [
      "현재값은: 0\n",
      "현재값은: 0\n"
     ]
    }
   ],
   "source": [
    "class Counter:\n",
    "    def __init__(self):\n",
    "        self.num = 0\n",
    "\n",
    "    def print_currnet_value(self):\n",
    "        print(\"현재값은:\", self.num)\n",
    "\n",
    "c1 = Counter()\n",
    "c1.print_currnet_value()\n",
    "\n",
    "c2 = Counter()\n",
    "c2.print_currnet_value()\n",
    "a = list([1,2,3,4,5])"
   ]
  },
  {
   "cell_type": "code",
   "execution_count": 10,
   "id": "c610f8b0-8b14-4d9b-a7b5-03c31b44959b",
   "metadata": {},
   "outputs": [],
   "source": [
    "a.append(12)"
   ]
  }
 ],
 "metadata": {
  "kernelspec": {
   "display_name": "Python 3 (ipykernel)",
   "language": "python",
   "name": "python3"
  },
  "language_info": {
   "codemirror_mode": {
    "name": "ipython",
    "version": 3
   },
   "file_extension": ".py",
   "mimetype": "text/x-python",
   "name": "python",
   "nbconvert_exporter": "python",
   "pygments_lexer": "ipython3",
   "version": "3.11.5"
  }
 },
 "nbformat": 4,
 "nbformat_minor": 5
}
