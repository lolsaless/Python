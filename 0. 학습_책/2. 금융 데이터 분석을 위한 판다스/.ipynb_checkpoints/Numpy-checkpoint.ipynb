{
 "cells": [
  {
   "cell_type": "code",
   "execution_count": 1,
   "id": "05d6a86a-b261-4e8d-aeb5-68e34f67fd53",
   "metadata": {},
   "outputs": [],
   "source": [
    "import numpy as np"
   ]
  },
  {
   "cell_type": "code",
   "execution_count": 3,
   "id": "d2839aba-84c6-4f9c-8c24-36a055260a3e",
   "metadata": {},
   "outputs": [
    {
     "name": "stdout",
     "output_type": "stream",
     "text": [
      "[1 2 3]\n",
      "<class 'numpy.ndarray'>\n"
     ]
    }
   ],
   "source": [
    "data = [1, 2, 3]\n",
    "arry = np.array(data)\n",
    "print(arry)\n",
    "print(type(arry))"
   ]
  },
  {
   "cell_type": "code",
   "execution_count": 4,
   "id": "50611211-413a-4e42-ab6a-da67fe16554c",
   "metadata": {},
   "outputs": [
    {
     "name": "stdout",
     "output_type": "stream",
     "text": [
      "[10, 20, 30]\n"
     ]
    }
   ],
   "source": [
    "result = []\n",
    "for i in data:\n",
    "    a = i * 10\n",
    "    result.append(a)\n",
    "\n",
    "print(result)"
   ]
  },
  {
   "cell_type": "code",
   "execution_count": 5,
   "id": "d1d92ba9-a428-4aff-874a-707d9eed6103",
   "metadata": {},
   "outputs": [
    {
     "data": {
      "text/plain": [
       "array([1, 2, 3])"
      ]
     },
     "execution_count": 5,
     "metadata": {},
     "output_type": "execute_result"
    }
   ],
   "source": [
    "arry"
   ]
  },
  {
   "cell_type": "code",
   "execution_count": 6,
   "id": "2e835ee2-d2c3-4298-b399-f1353e1cedf3",
   "metadata": {},
   "outputs": [
    {
     "data": {
      "text/plain": [
       "array([10, 20, 30])"
      ]
     },
     "execution_count": 6,
     "metadata": {},
     "output_type": "execute_result"
    }
   ],
   "source": [
    "arry * 10"
   ]
  },
  {
   "cell_type": "code",
   "execution_count": 7,
   "id": "458c0d8f-a641-4a5e-9e44-7cefc29e79f9",
   "metadata": {},
   "outputs": [
    {
     "name": "stdout",
     "output_type": "stream",
     "text": [
      "[[1, 2, 3], [4, 5, 6], [7, 8, 9]]\n"
     ]
    }
   ],
   "source": [
    "data2d = [\n",
    "    [1, 2, 3],\n",
    "    [4, 5, 6],\n",
    "    [7, 8, 9]\n",
    "]\n",
    "\n",
    "print(data2d)"
   ]
  },
  {
   "cell_type": "code",
   "execution_count": 8,
   "id": "44757683-41cd-4f35-a031-9615641892ae",
   "metadata": {},
   "outputs": [
    {
     "data": {
      "text/plain": [
       "[1, 2, 3]"
      ]
     },
     "execution_count": 8,
     "metadata": {},
     "output_type": "execute_result"
    }
   ],
   "source": [
    "data2d[0]"
   ]
  },
  {
   "cell_type": "code",
   "execution_count": 9,
   "id": "15125957-bb6a-46ea-bc24-29880f9c9a65",
   "metadata": {},
   "outputs": [
    {
     "data": {
      "text/plain": [
       "[4, 5, 6]"
      ]
     },
     "execution_count": 9,
     "metadata": {},
     "output_type": "execute_result"
    }
   ],
   "source": [
    "data2d[1]"
   ]
  },
  {
   "cell_type": "code",
   "execution_count": 10,
   "id": "3afcdb85-aa01-49ae-a03f-2fc576a18067",
   "metadata": {},
   "outputs": [
    {
     "data": {
      "text/plain": [
       "list"
      ]
     },
     "execution_count": 10,
     "metadata": {},
     "output_type": "execute_result"
    }
   ],
   "source": [
    "type(data2d)"
   ]
  },
  {
   "cell_type": "code",
   "execution_count": 12,
   "id": "d7da259c-1b54-4797-b16a-9b122d151ec8",
   "metadata": {},
   "outputs": [
    {
     "name": "stdout",
     "output_type": "stream",
     "text": [
      "[1 4 7]\n"
     ]
    }
   ],
   "source": [
    "arry = np.array(data2d)\n",
    "print(arry[:, 0])"
   ]
  },
  {
   "cell_type": "code",
   "execution_count": 16,
   "id": "72b24490-b492-49b5-a317-ef287217f6c4",
   "metadata": {},
   "outputs": [
    {
     "ename": "SyntaxError",
     "evalue": "invalid syntax (3524024334.py, line 1)",
     "output_type": "error",
     "traceback": [
      "\u001b[0;36m  Cell \u001b[0;32mIn[16], line 1\u001b[0;36m\u001b[0m\n\u001b[0;31m    arry([:2, ])\u001b[0m\n\u001b[0m          ^\u001b[0m\n\u001b[0;31mSyntaxError\u001b[0m\u001b[0;31m:\u001b[0m invalid syntax\n"
     ]
    }
   ],
   "source": [
    "arry([:2, ])"
   ]
  },
  {
   "cell_type": "markdown",
   "id": "ab8b9c2b-52e5-4db8-b3c4-3a047eee9ccc",
   "metadata": {},
   "source": [
    "### page 27"
   ]
  },
  {
   "cell_type": "code",
   "execution_count": null,
   "id": "c70bd558-141f-4fe6-9b9e-b09d03f82394",
   "metadata": {},
   "outputs": [],
   "source": []
  }
 ],
 "metadata": {
  "kernelspec": {
   "display_name": "Python 3 (ipykernel)",
   "language": "python",
   "name": "python3"
  },
  "language_info": {
   "codemirror_mode": {
    "name": "ipython",
    "version": 3
   },
   "file_extension": ".py",
   "mimetype": "text/x-python",
   "name": "python",
   "nbconvert_exporter": "python",
   "pygments_lexer": "ipython3",
   "version": "3.11.7"
  }
 },
 "nbformat": 4,
 "nbformat_minor": 5
}
