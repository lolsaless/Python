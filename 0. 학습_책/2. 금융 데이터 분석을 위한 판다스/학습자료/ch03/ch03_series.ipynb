{
 "cells": [
  {
   "cell_type": "markdown",
   "id": "6e3e75e7",
   "metadata": {},
   "source": [
    "## 3.1 시리즈 소개"
   ]
  },
  {
   "cell_type": "code",
   "execution_count": null,
   "id": "072d0cfc",
   "metadata": {},
   "outputs": [],
   "source": [
    "!pip install pandas"
   ]
  },
  {
   "cell_type": "code",
   "execution_count": 1,
   "id": "4502149c",
   "metadata": {},
   "outputs": [],
   "source": [
    "from pandas import Series"
   ]
  },
  {
   "cell_type": "markdown",
   "id": "53c7e93f",
   "metadata": {},
   "source": [
    "## 3.2 시리즈 생성"
   ]
  },
  {
   "cell_type": "code",
   "execution_count": 2,
   "id": "6f8224d2",
   "metadata": {},
   "outputs": [
    {
     "name": "stdout",
     "output_type": "stream",
     "text": [
      "0    10\n",
      "1    20\n",
      "2    30\n",
      "dtype: int64\n"
     ]
    }
   ],
   "source": [
    "from pandas import Series\n",
    "\n",
    "data = [10, 20, 30]\n",
    "s = Series(data)\n",
    "print(s)"
   ]
  },
  {
   "cell_type": "code",
   "execution_count": 3,
   "id": "3a92ff2f",
   "metadata": {},
   "outputs": [
    {
     "name": "stdout",
     "output_type": "stream",
     "text": [
      "0    0\n",
      "1    1\n",
      "2    2\n",
      "3    3\n",
      "4    4\n",
      "dtype: int32\n"
     ]
    }
   ],
   "source": [
    "from pandas import Series\n",
    "import numpy as np\n",
    "\n",
    "data = np.arange(5)\n",
    "s = Series(data)\n",
    "print(s)"
   ]
  },
  {
   "cell_type": "code",
   "execution_count": 6,
   "id": "b50f8d4c",
   "metadata": {},
   "outputs": [
    {
     "name": "stdout",
     "output_type": "stream",
     "text": [
      "0    시가\n",
      "1    고가\n",
      "dtype: object\n"
     ]
    }
   ],
   "source": [
    "data = [\"시가\", \"고가\"]\n",
    "s = Series(data)\n",
    "print(s)"
   ]
  },
  {
   "cell_type": "code",
   "execution_count": 7,
   "id": "f022414b",
   "metadata": {},
   "outputs": [
    {
     "name": "stdout",
     "output_type": "stream",
     "text": [
      "0    samsung\n",
      "1      81000\n",
      "dtype: object\n"
     ]
    }
   ],
   "source": [
    "s = Series(['samsung', 81000])\n",
    "print(s)"
   ]
  },
  {
   "cell_type": "markdown",
   "id": "db3ccd20",
   "metadata": {},
   "source": [
    "## 3.3 시리즈 인덱스"
   ]
  },
  {
   "cell_type": "code",
   "execution_count": 8,
   "id": "d1c9834c",
   "metadata": {},
   "outputs": [
    {
     "name": "stdout",
     "output_type": "stream",
     "text": [
      "RangeIndex(start=0, stop=3, step=1)\n",
      "[0, 1, 2]\n"
     ]
    }
   ],
   "source": [
    "data = [1000, 2000, 3000]\n",
    "s = Series(data)\n",
    "print(s.index)\n",
    "print(s.index.to_list())"
   ]
  },
  {
   "cell_type": "code",
   "execution_count": 10,
   "id": "c234280a",
   "metadata": {},
   "outputs": [
    {
     "name": "stdout",
     "output_type": "stream",
     "text": [
      "메로나     1000\n",
      "구구콘     2000\n",
      "하겐다즈    3000\n",
      "dtype: int64\n"
     ]
    }
   ],
   "source": [
    "data = [1000, 2000, 3000] \n",
    "s = Series(data)\n",
    "s.index = [\"메로나\", \"구구콘\", \"하겐다즈\"]\n",
    "print(s)"
   ]
  },
  {
   "cell_type": "code",
   "execution_count": 9,
   "id": "84bb46e0",
   "metadata": {},
   "outputs": [
    {
     "name": "stdout",
     "output_type": "stream",
     "text": [
      "메로나     1000\n",
      "구구콘     2000\n",
      "하겐다즈    3000\n",
      "dtype: int64\n"
     ]
    }
   ],
   "source": [
    "data = [1000, 2000, 3000]\n",
    "index = [\"메로나\", \"구구콘\", \"하겐다즈\"]\n",
    "\n",
    "s = Series(data, index)\n",
    "print(s)"
   ]
  },
  {
   "cell_type": "code",
   "execution_count": 11,
   "id": "e4b33ecc",
   "metadata": {},
   "outputs": [
    {
     "name": "stdout",
     "output_type": "stream",
     "text": [
      "메로나     1000\n",
      "구구콘     2000\n",
      "하겐다즈    3000\n",
      "dtype: int64\n"
     ]
    }
   ],
   "source": [
    "data = [1000, 2000, 3000]\n",
    "index = [\"메로나\", \"구구콘\", \"하겐다즈\"]\n",
    "\n",
    "s = Series(data=data, index=index)\n",
    "print(s)"
   ]
  },
  {
   "cell_type": "code",
   "execution_count": 12,
   "id": "92e8477b",
   "metadata": {},
   "outputs": [
    {
     "name": "stdout",
     "output_type": "stream",
     "text": [
      "1000     메로나\n",
      "2000     구구콘\n",
      "3000    하겐다즈\n",
      "dtype: object\n"
     ]
    }
   ],
   "source": [
    "k = [1000, 2000, 3000]\n",
    "v = [\"메로나\", \"구구콘\", \"하겐다즈\"]\n",
    "\n",
    "s = Series(data=v, index=k)\n",
    "print(s)"
   ]
  },
  {
   "cell_type": "code",
   "execution_count": 13,
   "id": "3c694a92",
   "metadata": {},
   "outputs": [],
   "source": [
    "s = Series(data, index)\n",
    "s = Series(data, index=index)\n",
    "s = Series(data=data, index=index)\n",
    "s = Series(index=index, data=data)"
   ]
  },
  {
   "cell_type": "code",
   "execution_count": 78,
   "id": "82b90ede",
   "metadata": {
    "scrolled": true
   },
   "outputs": [
    {
     "name": "stdout",
     "output_type": "stream",
     "text": [
      "메로나    1000.0\n",
      "비비빅       NaN\n",
      "구구콘    2000.0\n",
      "dtype: float64\n"
     ]
    }
   ],
   "source": [
    "data = [1000, 2000, 3000]\n",
    "index = ['메로나', '구구콘', '하겐다즈']\n",
    "s = Series(data=data, index=index)\n",
    "s2 = s.reindex([\"메로나\", \"비비빅\", \"구구콘\"])\n",
    "print(s2)"
   ]
  },
  {
   "cell_type": "code",
   "execution_count": 79,
   "id": "a8e52a01",
   "metadata": {},
   "outputs": [
    {
     "name": "stdout",
     "output_type": "stream",
     "text": [
      "메로나    1000.0\n",
      "비비빅       0.0\n",
      "구구콘    2000.0\n",
      "dtype: float64\n"
     ]
    }
   ],
   "source": [
    "print(s2.fillna(0))"
   ]
  },
  {
   "cell_type": "code",
   "execution_count": 80,
   "id": "d57e289c",
   "metadata": {},
   "outputs": [
    {
     "name": "stdout",
     "output_type": "stream",
     "text": [
      "메로나    1000\n",
      "비비빅       0\n",
      "구구콘    2000\n",
      "dtype: int64\n"
     ]
    }
   ],
   "source": [
    "print(s.reindex([\"메로나\", \"비비빅\", \"구구콘\"], fill_value=0))"
   ]
  },
  {
   "cell_type": "code",
   "execution_count": 14,
   "id": "f5ef49c1",
   "metadata": {},
   "outputs": [
    {
     "name": "stdout",
     "output_type": "stream",
     "text": [
      "2019-05-31    42500\n",
      "2019-05-30    42550\n",
      "2019-05-29    41800\n",
      "2019-05-28    42550\n",
      "2019-05-27    42650\n",
      "dtype: int64\n"
     ]
    }
   ],
   "source": [
    "price = [42500, 42550, 41800, 42550, 42650]\n",
    "date = [\"2019-a05-31\", \"2019-05-30\", \"2019-05-29\", \"2019-05-28\", \"2019-05-27\"]\n",
    "s = Series(price, date)\n",
    "print(s)"
   ]
  },
  {
   "cell_type": "code",
   "execution_count": 102,
   "id": "94f16a60",
   "metadata": {},
   "outputs": [],
   "source": [
    "data = {\n",
    "    \"2019-05-31\" : 42500,\n",
    "    \"2019-05-30\" : 42550,\n",
    "    \"2019-05-29\" : 41800,\n",
    "    \"2019-05-28\" : 42550,\n",
    "    \"2019-05-27\" : 42650\n",
    "}\n",
    "s = Series(data)"
   ]
  },
  {
   "cell_type": "code",
   "execution_count": 108,
   "id": "707a4542",
   "metadata": {},
   "outputs": [
    {
     "name": "stdout",
     "output_type": "stream",
     "text": [
      "Index(['2019-05-31', '2019-05-30', '2019-05-29', '2019-05-28', '2019-05-27'], dtype='object')\n",
      "object\n"
     ]
    }
   ],
   "source": [
    "print(s.index)\n",
    "print(s.index.dtype)"
   ]
  },
  {
   "cell_type": "code",
   "execution_count": 109,
   "id": "88857501",
   "metadata": {},
   "outputs": [
    {
     "name": "stdout",
     "output_type": "stream",
     "text": [
      "[42500 42550 41800 42550 42650]\n"
     ]
    }
   ],
   "source": [
    "print(s.values)"
   ]
  },
  {
   "cell_type": "markdown",
   "id": "55976bd9",
   "metadata": {},
   "source": [
    "## 3.4 시리즈 인덱싱"
   ]
  },
  {
   "cell_type": "code",
   "execution_count": 19,
   "id": "ba0c810a",
   "metadata": {},
   "outputs": [
    {
     "name": "stdout",
     "output_type": "stream",
     "text": [
      "1000\n",
      "2000\n",
      "3000\n",
      "3000\n"
     ]
    }
   ],
   "source": [
    "data = [1000, 2000, 3000]\n",
    "s = Series(data=data)\n",
    "\n",
    "print(s.iloc[0])\n",
    "print(s.iloc[1])\n",
    "print(s.iloc[2])\n",
    "print(s.iloc[-1])"
   ]
  },
  {
   "cell_type": "code",
   "execution_count": 21,
   "id": "84962368",
   "metadata": {},
   "outputs": [
    {
     "name": "stdout",
     "output_type": "stream",
     "text": [
      "1000\n",
      "2000\n",
      "3000\n"
     ]
    }
   ],
   "source": [
    "print(s.loc[0])\n",
    "print(s.loc[1])\n",
    "print(s.loc[2])\n",
    "# print(s.loc[-1])   # 에러"
   ]
  },
  {
   "cell_type": "code",
   "execution_count": 22,
   "id": "33d0832c",
   "metadata": {},
   "outputs": [
    {
     "name": "stdout",
     "output_type": "stream",
     "text": [
      "1000\n",
      "1000\n"
     ]
    }
   ],
   "source": [
    "data = [1000, 2000, 3000]\n",
    "index = [\"메로나\", \"구구콘\", \"하겐다즈\"]\n",
    "s = Series(data=data, index=index)\n",
    " \n",
    "print(s.iloc[0])\n",
    "print(s.loc['메로나'])"
   ]
  },
  {
   "cell_type": "code",
   "execution_count": 23,
   "id": "401a5f52",
   "metadata": {},
   "outputs": [
    {
     "name": "stdout",
     "output_type": "stream",
     "text": [
      "1000\n",
      "1000\n"
     ]
    }
   ],
   "source": [
    "print(s['메로나'])\n",
    "print(s[0])"
   ]
  },
  {
   "cell_type": "code",
   "execution_count": 25,
   "id": "8802f1bf",
   "metadata": {},
   "outputs": [
    {
     "name": "stdout",
     "output_type": "stream",
     "text": [
      "10\n"
     ]
    }
   ],
   "source": [
    "s1 = Series([10, 20, 30])\n",
    "s2 = Series([10, 20, 30], index=[1, 2, 3])\n",
    "print(s1[0])\n",
    "# print(s2[0])    # 에러"
   ]
  },
  {
   "cell_type": "code",
   "execution_count": 26,
   "id": "24ced243",
   "metadata": {},
   "outputs": [
    {
     "name": "stdout",
     "output_type": "stream",
     "text": [
      "10\n"
     ]
    }
   ],
   "source": [
    "s3 = Series([10, 20, 30], index=['a', 'b', 'c'])\n",
    "print(s3[0])"
   ]
  },
  {
   "cell_type": "code",
   "execution_count": 71,
   "id": "3f8b0717",
   "metadata": {},
   "outputs": [
    {
     "name": "stdout",
     "output_type": "stream",
     "text": [
      "a\n",
      "c\n"
     ]
    }
   ],
   "source": [
    "print(s3.index[ 0 ])\n",
    "print(s3.index[ -1 ])"
   ]
  },
  {
   "cell_type": "markdown",
   "id": "b7077b3b",
   "metadata": {},
   "source": [
    "## 3.5 시리즈 슬라이싱"
   ]
  },
  {
   "cell_type": "code",
   "execution_count": 27,
   "id": "04189668",
   "metadata": {},
   "outputs": [
    {
     "name": "stdout",
     "output_type": "stream",
     "text": [
      "메로나    1000\n",
      "구구콘    2000\n",
      "dtype: int64\n"
     ]
    }
   ],
   "source": [
    "data = [1000, 2000, 3000]\n",
    "index = [\"메로나\", \"구구콘\", \"하겐다즈\"]\n",
    "s = Series(data=data, index=index)\n",
    "\n",
    "print(s.iloc[0:2])"
   ]
  },
  {
   "cell_type": "code",
   "execution_count": 28,
   "id": "227df0db",
   "metadata": {},
   "outputs": [
    {
     "name": "stdout",
     "output_type": "stream",
     "text": [
      "메로나    1000\n",
      "구구콘    2000\n",
      "dtype: int64\n"
     ]
    }
   ],
   "source": [
    "data = [1000, 2000, 3000]\n",
    "index = [\"메로나\", \"구구콘\", \"하겐다즈\"]\n",
    "s = Series(data=data, index=index)\n",
    "\n",
    "print(s.loc['메로나':'구구콘'])"
   ]
  },
  {
   "cell_type": "code",
   "execution_count": 29,
   "id": "cf85866a",
   "metadata": {},
   "outputs": [
    {
     "name": "stdout",
     "output_type": "stream",
     "text": [
      "메로나     1000\n",
      "하겐다즈    3000\n",
      "dtype: int64\n",
      "메로나     1000\n",
      "하겐다즈    3000\n",
      "dtype: int64\n"
     ]
    }
   ],
   "source": [
    "data = [1000, 2000, 3000]\n",
    "index = [\"메로나\", \"구구콘\", \"하겐다즈\"]\n",
    "s = Series(data=data, index=index)\n",
    "\n",
    "indice = [0, 2]\n",
    "print(s.iloc[ indice ])\n",
    "print(s.iloc[ [0, 2] ])"
   ]
  },
  {
   "cell_type": "code",
   "execution_count": 32,
   "id": "8eb316a9",
   "metadata": {},
   "outputs": [
    {
     "name": "stdout",
     "output_type": "stream",
     "text": [
      "메로나     1000\n",
      "하겐다즈    3000\n",
      "dtype: int64\n",
      "메로나     1000\n",
      "하겐다즈    3000\n",
      "dtype: int64\n"
     ]
    }
   ],
   "source": [
    "data = [1000, 2000, 3000]\n",
    "index = [\"메로나\", \"구구콘\", \"하겐다즈\"]\n",
    "s = Series(data=data, index=index)\n",
    "\n",
    "indice = [\"메로나\", \"하겐다즈\"]\n",
    "print(s.loc[ indice ])\n",
    "print(s.loc[ [\"메로나\", \"하겐다즈\"] ])"
   ]
  },
  {
   "cell_type": "markdown",
   "id": "d9a471eb",
   "metadata": {},
   "source": [
    "## 3.6 시리즈 수정/추가/삭제"
   ]
  },
  {
   "cell_type": "code",
   "execution_count": 45,
   "id": "8c216780",
   "metadata": {},
   "outputs": [
    {
     "name": "stdout",
     "output_type": "stream",
     "text": [
      "메로나      500\n",
      "구구콘     2000\n",
      "하겐다즈    3000\n",
      "dtype: int64\n"
     ]
    }
   ],
   "source": [
    "data = [1000, 2000, 3000]\n",
    "index = [\"메로나\", \"구구콘\", \"하겐다즈\"]\n",
    "s = Series(data=data, index=index)\n",
    "\n",
    "s.loc['메로나'] = 500          # 값 수정\n",
    "print(s)"
   ]
  },
  {
   "cell_type": "code",
   "execution_count": 46,
   "id": "4be728f7",
   "metadata": {},
   "outputs": [],
   "source": [
    "s.iloc[0] = 500            # iloc 연산 사용\n",
    "s['메로나'] = 500          # [ ] 기호 사용"
   ]
  },
  {
   "cell_type": "code",
   "execution_count": 47,
   "id": "8aaf511f",
   "metadata": {},
   "outputs": [
    {
     "name": "stdout",
     "output_type": "stream",
     "text": [
      "메로나      500\n",
      "구구콘     2000\n",
      "하겐다즈    3000\n",
      "비비빅      500\n",
      "dtype: int64\n"
     ]
    }
   ],
   "source": [
    "s.loc['비비빅'] = 500          # 값 추가 \n",
    "print(s)"
   ]
  },
  {
   "cell_type": "code",
   "execution_count": 42,
   "id": "b7417a82",
   "metadata": {},
   "outputs": [
    {
     "name": "stdout",
     "output_type": "stream",
     "text": [
      "구구콘     2000\n",
      "하겐다즈    3000\n",
      "비비빅      500\n",
      "dtype: int64\n"
     ]
    }
   ],
   "source": [
    "print(s.drop('메로나'))"
   ]
  },
  {
   "cell_type": "code",
   "execution_count": 48,
   "id": "ea5ba8f0",
   "metadata": {},
   "outputs": [
    {
     "name": "stdout",
     "output_type": "stream",
     "text": [
      "구구콘     2000\n",
      "하겐다즈    3000\n",
      "비비빅      500\n",
      "dtype: int64\n"
     ]
    }
   ],
   "source": [
    "s = s.drop('메로나')\n",
    "print(s)"
   ]
  },
  {
   "cell_type": "code",
   "execution_count": 49,
   "id": "748cb56f",
   "metadata": {},
   "outputs": [
    {
     "data": {
      "text/plain": [
       "구구콘     2000\n",
       "하겐다즈    3000\n",
       "비비빅      500\n",
       "dtype: int64"
      ]
     },
     "execution_count": 49,
     "metadata": {},
     "output_type": "execute_result"
    }
   ],
   "source": [
    "s"
   ]
  },
  {
   "cell_type": "code",
   "execution_count": 51,
   "id": "525de7eb",
   "metadata": {},
   "outputs": [
    {
     "name": "stdout",
     "output_type": "stream",
     "text": [
      "구구콘     100\n",
      "하겐다즈    100\n",
      "비비빅     500\n",
      "dtype: int64\n"
     ]
    }
   ],
   "source": [
    "s.iloc[ : 2] = 100\n",
    "print(s)"
   ]
  },
  {
   "cell_type": "markdown",
   "id": "08a003c5",
   "metadata": {},
   "source": [
    "## 3.7 시리즈 연산"
   ]
  },
  {
   "cell_type": "code",
   "execution_count": 53,
   "id": "445cecba",
   "metadata": {},
   "outputs": [
    {
     "name": "stdout",
     "output_type": "stream",
     "text": [
      "KT       60\n",
      "NAVER    30\n",
      "SKT      30\n",
      "dtype: int64\n"
     ]
    }
   ],
   "source": [
    "철수 = Series([10, 20, 30], index=['NAVER', 'SKT', 'KT'])\n",
    "영희 = Series([10, 30, 20], index=['SKT', 'KT', 'NAVER'])\n",
    "가족 = 철수 + 영희\n",
    "print(가족)"
   ]
  },
  {
   "cell_type": "code",
   "execution_count": 54,
   "id": "dd9d8243",
   "metadata": {},
   "outputs": [
    {
     "name": "stdout",
     "output_type": "stream",
     "text": [
      "NAVER    100\n",
      "SKT      200\n",
      "KT       300\n",
      "dtype: int64\n"
     ]
    }
   ],
   "source": [
    "print(철수 * 10)"
   ]
  },
  {
   "cell_type": "code",
   "execution_count": 63,
   "id": "a31e4d50",
   "metadata": {},
   "outputs": [
    {
     "name": "stdout",
     "output_type": "stream",
     "text": [
      "0    650\n",
      "1    550\n",
      "2    750\n",
      "3    800\n",
      "4    650\n",
      "dtype: int64\n"
     ]
    }
   ],
   "source": [
    "high = Series([42800, 42700, 42050, 42950, 43000])\n",
    "low = Series([42150, 42150, 41300, 42150, 42350])\n",
    "\n",
    "diff = high - low\n",
    "print(diff)"
   ]
  },
  {
   "cell_type": "code",
   "execution_count": 65,
   "id": "bca211ca",
   "metadata": {},
   "outputs": [
    {
     "name": "stdout",
     "output_type": "stream",
     "text": [
      "800\n",
      "800\n"
     ]
    }
   ],
   "source": [
    "print(diff.max())\n",
    "print(max(diff))"
   ]
  },
  {
   "cell_type": "code",
   "execution_count": 66,
   "id": "09a46647",
   "metadata": {},
   "outputs": [
    {
     "name": "stdout",
     "output_type": "stream",
     "text": [
      "6/1    650\n",
      "6/2    550\n",
      "6/3    750\n",
      "6/4    800\n",
      "6/5    650\n",
      "dtype: int64\n"
     ]
    }
   ],
   "source": [
    "date = [\"6/1\", \"6/2\", \"6/3\", \"6/4\", \"6/5\"]\n",
    "high = Series([42800, 42700, 42050, 42950, 43000], index=date)\n",
    "low = Series([42150, 42150, 41300, 42150, 42350] , index=date)\n",
    "diff = high - low\n",
    "print(diff)"
   ]
  },
  {
   "cell_type": "code",
   "execution_count": 69,
   "id": "a47ca414",
   "metadata": {},
   "outputs": [
    {
     "name": "stdout",
     "output_type": "stream",
     "text": [
      "3\n",
      "6/4\n"
     ]
    }
   ],
   "source": [
    "max_idx = 0\n",
    "max_val = 0\n",
    "\n",
    "for i in range(len(diff)):\n",
    "    if diff[i] > max_val:\n",
    "        max_val = diff[i]\n",
    "        max_idx = i\n",
    "\n",
    "print(max_idx)\n",
    "print(diff.index[max_idx])    "
   ]
  },
  {
   "cell_type": "code",
   "execution_count": 77,
   "id": "947cab86",
   "metadata": {},
   "outputs": [
    {
     "name": "stdout",
     "output_type": "stream",
     "text": [
      "6/4\n",
      "6/2\n"
     ]
    }
   ],
   "source": [
    "print(diff.idxmax())\n",
    "print(diff.idxmin())"
   ]
  },
  {
   "cell_type": "code",
   "execution_count": 82,
   "id": "a07ab93e",
   "metadata": {},
   "outputs": [
    {
     "name": "stdout",
     "output_type": "stream",
     "text": [
      "6/1    1.015421\n",
      "6/2    1.013049\n",
      "6/3    1.018160\n",
      "6/4    1.018980\n",
      "6/5    1.015348\n",
      "dtype: float64\n"
     ]
    }
   ],
   "source": [
    "date = [\"6/1\", \"6/2\", \"6/3\", \"6/4\", \"6/5\"]\n",
    "high = Series([42800, 42700, 42050, 42950, 43000], index=date)\n",
    "low = Series([42150, 42150, 41300, 42150, 42350] , index=date)\n",
    "profit = high / low\n",
    "print(profit)"
   ]
  },
  {
   "cell_type": "code",
   "execution_count": 84,
   "id": "24b4bb27",
   "metadata": {},
   "outputs": [
    {
     "name": "stdout",
     "output_type": "stream",
     "text": [
      "6/1    1.015421\n",
      "6/2    1.028671\n",
      "6/3    1.047351\n",
      "6/4    1.067230\n",
      "6/5    1.083610\n",
      "dtype: float64\n"
     ]
    }
   ],
   "source": [
    "print( profit.cumprod( ) )"
   ]
  },
  {
   "cell_type": "code",
   "execution_count": 85,
   "id": "4f9e698b",
   "metadata": {},
   "outputs": [
    {
     "name": "stdout",
     "output_type": "stream",
     "text": [
      "1.0836101509172456\n"
     ]
    }
   ],
   "source": [
    "print( profit.cumprod( ).iloc[ -1 ] )"
   ]
  },
  {
   "cell_type": "code",
   "execution_count": 86,
   "id": "d3370d4c",
   "metadata": {},
   "outputs": [],
   "source": [
    "data = {\n",
    "    \"삼성전자\": \"전기,전자\",\n",
    "    \"LG전자\": \"전기,전자\",\n",
    "    \"현대차\": \"운수장비\",\n",
    "    \"NAVER\": \"서비스업\",\n",
    "    \"카카오\": \"서비스업\"\n",
    "}\n",
    "s = Series(data)"
   ]
  },
  {
   "cell_type": "code",
   "execution_count": 89,
   "id": "ec00f1c1",
   "metadata": {},
   "outputs": [
    {
     "name": "stdout",
     "output_type": "stream",
     "text": [
      "['전기,전자' '운수장비' '서비스업']\n"
     ]
    }
   ],
   "source": [
    "print(s.unique())"
   ]
  },
  {
   "cell_type": "markdown",
   "id": "bd07a9d6",
   "metadata": {},
   "source": [
    "## 3.8 시리즈와 맵"
   ]
  },
  {
   "cell_type": "code",
   "execution_count": 90,
   "id": "e293e042",
   "metadata": {},
   "outputs": [
    {
     "ename": "TypeError",
     "evalue": "cannot convert the series to <class 'int'>",
     "output_type": "error",
     "traceback": [
      "\u001b[1;31m---------------------------------------------------------------------------\u001b[0m",
      "\u001b[1;31mTypeError\u001b[0m                                 Traceback (most recent call last)",
      "\u001b[1;32m<ipython-input-90-0941866da444>\u001b[0m in \u001b[0;36m<module>\u001b[1;34m\u001b[0m\n\u001b[0;32m      1\u001b[0m \u001b[1;32mfrom\u001b[0m \u001b[0mpandas\u001b[0m \u001b[1;32mimport\u001b[0m \u001b[0mSeries\u001b[0m\u001b[1;33m\u001b[0m\u001b[1;33m\u001b[0m\u001b[0m\n\u001b[0;32m      2\u001b[0m \u001b[0ms\u001b[0m \u001b[1;33m=\u001b[0m \u001b[0mSeries\u001b[0m\u001b[1;33m(\u001b[0m\u001b[1;33m[\u001b[0m\u001b[1;34m\"1,234\"\u001b[0m\u001b[1;33m,\u001b[0m \u001b[1;34m\"5,678\"\u001b[0m\u001b[1;33m,\u001b[0m \u001b[1;34m\"9,876\"\u001b[0m\u001b[1;33m]\u001b[0m\u001b[1;33m)\u001b[0m\u001b[1;33m\u001b[0m\u001b[1;33m\u001b[0m\u001b[0m\n\u001b[1;32m----> 3\u001b[1;33m \u001b[0mprint\u001b[0m\u001b[1;33m(\u001b[0m \u001b[0mint\u001b[0m\u001b[1;33m(\u001b[0m\u001b[0ms\u001b[0m\u001b[1;33m)\u001b[0m \u001b[1;33m)\u001b[0m\u001b[1;33m\u001b[0m\u001b[1;33m\u001b[0m\u001b[0m\n\u001b[0m",
      "\u001b[1;32m~\\anaconda3\\lib\\site-packages\\pandas\\core\\series.py\u001b[0m in \u001b[0;36mwrapper\u001b[1;34m(self)\u001b[0m\n\u001b[0;32m    139\u001b[0m         \u001b[1;32mif\u001b[0m \u001b[0mlen\u001b[0m\u001b[1;33m(\u001b[0m\u001b[0mself\u001b[0m\u001b[1;33m)\u001b[0m \u001b[1;33m==\u001b[0m \u001b[1;36m1\u001b[0m\u001b[1;33m:\u001b[0m\u001b[1;33m\u001b[0m\u001b[1;33m\u001b[0m\u001b[0m\n\u001b[0;32m    140\u001b[0m             \u001b[1;32mreturn\u001b[0m \u001b[0mconverter\u001b[0m\u001b[1;33m(\u001b[0m\u001b[0mself\u001b[0m\u001b[1;33m.\u001b[0m\u001b[0miloc\u001b[0m\u001b[1;33m[\u001b[0m\u001b[1;36m0\u001b[0m\u001b[1;33m]\u001b[0m\u001b[1;33m)\u001b[0m\u001b[1;33m\u001b[0m\u001b[1;33m\u001b[0m\u001b[0m\n\u001b[1;32m--> 141\u001b[1;33m         \u001b[1;32mraise\u001b[0m \u001b[0mTypeError\u001b[0m\u001b[1;33m(\u001b[0m\u001b[1;34mf\"cannot convert the series to {converter}\"\u001b[0m\u001b[1;33m)\u001b[0m\u001b[1;33m\u001b[0m\u001b[1;33m\u001b[0m\u001b[0m\n\u001b[0m\u001b[0;32m    142\u001b[0m \u001b[1;33m\u001b[0m\u001b[0m\n\u001b[0;32m    143\u001b[0m     \u001b[0mwrapper\u001b[0m\u001b[1;33m.\u001b[0m\u001b[0m__name__\u001b[0m \u001b[1;33m=\u001b[0m \u001b[1;34mf\"__{converter.__name__}__\"\u001b[0m\u001b[1;33m\u001b[0m\u001b[1;33m\u001b[0m\u001b[0m\n",
      "\u001b[1;31mTypeError\u001b[0m: cannot convert the series to <class 'int'>"
     ]
    }
   ],
   "source": [
    "from pandas import Series\n",
    "s = Series([\"1,234\", \"5,678\", \"9,876\"])\n",
    "print( int(s) )"
   ]
  },
  {
   "cell_type": "code",
   "execution_count": 91,
   "id": "813f0699",
   "metadata": {},
   "outputs": [
    {
     "name": "stdout",
     "output_type": "stream",
     "text": [
      "1,234 in function\n",
      "5,678 in function\n",
      "9,876 in function\n",
      "0    1,234\n",
      "1    5,678\n",
      "2    9,876\n",
      "dtype: object\n"
     ]
    }
   ],
   "source": [
    "def remove_comma(x) :\n",
    "    print(x, 'in function')\n",
    "    return x\n",
    "\n",
    "s = Series([\"1,234\", \"5,678\", \"9,876\"])\n",
    "result = s.map(remove_comma)\n",
    "print(result)"
   ]
  },
  {
   "cell_type": "code",
   "execution_count": 92,
   "id": "6c1bc854",
   "metadata": {},
   "outputs": [
    {
     "name": "stdout",
     "output_type": "stream",
     "text": [
      "0    1234\n",
      "1    5678\n",
      "2    9876\n",
      "dtype: int64\n"
     ]
    }
   ],
   "source": [
    "from pandas import Series\n",
    "\n",
    "def remove_comma(x) :\n",
    "    return int(x.replace(\",\", \"\"))\n",
    "\n",
    "s = Series([\"1,234\", \"5,678\", \"9,876\"])\n",
    "result = s.map(remove_comma)\n",
    "print(result)"
   ]
  },
  {
   "cell_type": "code",
   "execution_count": 93,
   "id": "70c20541",
   "metadata": {},
   "outputs": [
    {
     "name": "stdout",
     "output_type": "stream",
     "text": [
      "0    작다\n",
      "1    크다\n",
      "2    크다\n",
      "dtype: object\n"
     ]
    }
   ],
   "source": [
    "def is_greater_than_5000(x):\n",
    "    if x > 5000:\n",
    "        return \"크다\"\n",
    "    else:\n",
    "        return \"작다\"\n",
    "\n",
    "s = Series([1234, 5678, 9876])\n",
    "s = s.map(is_greater_than_5000)\n",
    "print(s)"
   ]
  },
  {
   "cell_type": "markdown",
   "id": "643479b0",
   "metadata": {},
   "source": [
    "## 3.9 시리즈 필터링"
   ]
  },
  {
   "cell_type": "code",
   "execution_count": 94,
   "id": "77aaf588",
   "metadata": {},
   "outputs": [
    {
     "name": "stdout",
     "output_type": "stream",
     "text": [
      "2019-05-31     True\n",
      "2019-05-30     True\n",
      "2019-05-29    False\n",
      "2019-05-28     True\n",
      "2019-05-27     True\n",
      "dtype: bool\n"
     ]
    }
   ],
   "source": [
    "from pandas import Series\n",
    "\n",
    "data = [42500, 42550, 41800, 42550, 42650]\n",
    "index = ['2019-05-31', '2019-05-30', '2019-05-29', '2019-05-28', '2019-05-27']\n",
    "s = Series(data=data, index=index)\n",
    "cond = s > 42000\n",
    "print(cond)"
   ]
  },
  {
   "cell_type": "code",
   "execution_count": 95,
   "id": "379a48cc",
   "metadata": {},
   "outputs": [
    {
     "name": "stdout",
     "output_type": "stream",
     "text": [
      "2019-05-31    42500\n",
      "2019-05-30    42550\n",
      "2019-05-28    42550\n",
      "2019-05-27    42650\n",
      "dtype: int64\n"
     ]
    }
   ],
   "source": [
    "print(s[cond])"
   ]
  },
  {
   "cell_type": "code",
   "execution_count": 96,
   "id": "51030d82",
   "metadata": {},
   "outputs": [
    {
     "name": "stdout",
     "output_type": "stream",
     "text": [
      "2019-05-31    False\n",
      "2019-05-30     True\n",
      "2019-05-29    False\n",
      "2019-05-28    False\n",
      "2019-05-27     True\n",
      "dtype: bool\n"
     ]
    }
   ],
   "source": [
    "close = [42500, 42550, 41800, 42550, 42650]\n",
    "open = [42600, 42200, 41850, 42550, 42500]\n",
    "index = ['2019-05-31', '2019-05-30', '2019-05-29', '2019-05-28', '2019-05-27']\n",
    "\n",
    "open = Series(data=open, index=index)\n",
    "close = Series(data=close, index=index)\n",
    "\n",
    "cond = close > open\n",
    "print(cond)"
   ]
  },
  {
   "cell_type": "code",
   "execution_count": 97,
   "id": "d0fc9c97",
   "metadata": {},
   "outputs": [
    {
     "name": "stdout",
     "output_type": "stream",
     "text": [
      "2019-05-30    42550\n",
      "2019-05-27    42650\n",
      "dtype: int64\n"
     ]
    }
   ],
   "source": [
    "cond = close > open\n",
    "print(close[cond])"
   ]
  },
  {
   "cell_type": "code",
   "execution_count": 98,
   "id": "b2e8d8ab",
   "metadata": {},
   "outputs": [
    {
     "name": "stdout",
     "output_type": "stream",
     "text": [
      "2019-05-30    42550\n",
      "2019-05-27    42650\n",
      "dtype: int64\n"
     ]
    }
   ],
   "source": [
    "print(close[close > open])"
   ]
  },
  {
   "cell_type": "code",
   "execution_count": 110,
   "id": "82137cea",
   "metadata": {},
   "outputs": [
    {
     "name": "stdout",
     "output_type": "stream",
     "text": [
      "Index(['2019-05-30', '2019-05-27'], dtype='object')\n",
      "Index(['2019-05-30', '2019-05-27'], dtype='object')\n"
     ]
    }
   ],
   "source": [
    "print(close.index[close > open])\n",
    "print(close[close > open].index)"
   ]
  },
  {
   "cell_type": "code",
   "execution_count": 111,
   "id": "da208b8c",
   "metadata": {},
   "outputs": [
    {
     "name": "stdout",
     "output_type": "stream",
     "text": [
      "2019-05-30    350\n",
      "2019-05-27    150\n",
      "dtype: int64\n"
     ]
    }
   ],
   "source": [
    "close = [42500, 42550, 41800, 42550, 42650]\n",
    "open = [42600, 42200, 41850, 42550, 42500]\n",
    "index = ['2019-05-31', '2019-05-30', '2019-05-29', '2019-05-28', '2019-05-27']\n",
    "\n",
    "open = Series(data=open, index=index)\n",
    "close = Series(data=close, index=index)\n",
    "diff = close - open\n",
    "print(diff[close > open])"
   ]
  },
  {
   "cell_type": "markdown",
   "id": "48c6f713",
   "metadata": {},
   "source": [
    "## 3.10 정렬 및 순위"
   ]
  },
  {
   "cell_type": "code",
   "execution_count": 112,
   "id": "4e1def55",
   "metadata": {},
   "outputs": [
    {
     "name": "stdout",
     "output_type": "stream",
     "text": [
      "000010     3.1\n",
      "000020     2.0\n",
      "000030    10.1\n",
      "000040     5.1\n",
      "dtype: float64\n",
      "000020     2.0\n",
      "000010     3.1\n",
      "000040     5.1\n",
      "000030    10.1\n",
      "dtype: float64\n",
      "000030    10.1\n",
      "000040     5.1\n",
      "000010     3.1\n",
      "000020     2.0\n",
      "dtype: float64\n"
     ]
    }
   ],
   "source": [
    "from pandas import Series\n",
    "\n",
    "data = [3.1, 2.0, 10.1, 5.1]\n",
    "index = ['000010', '000020', '000030', '000040']\n",
    "s = Series(data=data, index=index)\n",
    "print(s)\n",
    "\n",
    "# 정렬 (오름차순)\n",
    "s1 = s.sort_values()\n",
    "print(s1)\n",
    "\n",
    "# 정렬 (내림차순)\n",
    "s2 = s.sort_values(ascending=False)\n",
    "print(s2)"
   ]
  },
  {
   "cell_type": "code",
   "execution_count": 113,
   "id": "5c2e89e5",
   "metadata": {},
   "outputs": [
    {
     "name": "stdout",
     "output_type": "stream",
     "text": [
      "000010    2.5\n",
      "000020    1.0\n",
      "000030    4.0\n",
      "000040    2.5\n",
      "dtype: float64\n"
     ]
    }
   ],
   "source": [
    "data = [3.1, 2.0, 10.1, 3.1]\n",
    "index = ['000010', '000020', '000030', '000040']\n",
    "s = Series(data=data, index=index)\n",
    "print(s.rank())"
   ]
  },
  {
   "cell_type": "code",
   "execution_count": null,
   "id": "7c3a4d38",
   "metadata": {},
   "outputs": [],
   "source": []
  }
 ],
 "metadata": {
  "kernelspec": {
   "display_name": "Python 3",
   "language": "python",
   "name": "python3"
  },
  "language_info": {
   "codemirror_mode": {
    "name": "ipython",
    "version": 3
   },
   "file_extension": ".py",
   "mimetype": "text/x-python",
   "name": "python",
   "nbconvert_exporter": "python",
   "pygments_lexer": "ipython3",
   "version": "3.8.8"
  }
 },
 "nbformat": 4,
 "nbformat_minor": 5
}
