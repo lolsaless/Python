{
 "cells": [
  {
   "cell_type": "markdown",
   "id": "9e444322",
   "metadata": {},
   "source": [
    "## 2.1 넘파이 소개"
   ]
  },
  {
   "cell_type": "code",
   "execution_count": 1,
   "id": "1756cb45",
   "metadata": {},
   "outputs": [
    {
     "name": "stdout",
     "output_type": "stream",
     "text": [
      "Requirement already satisfied: numpy in ./opt/anaconda3/lib/python3.8/site-packages (1.20.1)\r\n"
     ]
    }
   ],
   "source": [
    "!pip install numpy"
   ]
  },
  {
   "cell_type": "code",
   "execution_count": 2,
   "id": "1644a808",
   "metadata": {},
   "outputs": [
    {
     "name": "stdout",
     "output_type": "stream",
     "text": [
      "[1 2 3]\n",
      "<class 'numpy.ndarray'>\n"
     ]
    }
   ],
   "source": [
    "import numpy as np \n",
    "\n",
    "data = [1, 2, 3]\n",
    "arr = np.array(data)\n",
    "print(arr)\n",
    "print(type(arr))"
   ]
  },
  {
   "cell_type": "code",
   "execution_count": 4,
   "id": "039c6786",
   "metadata": {},
   "outputs": [
    {
     "name": "stdout",
     "output_type": "stream",
     "text": [
      "[10, 20, 30]\n"
     ]
    }
   ],
   "source": [
    "data = [1, 2, 3]\n",
    "\n",
    "result = []\n",
    "for i in data:\n",
    "    result.append(i * 10)\n",
    "\n",
    "print(result)"
   ]
  },
  {
   "cell_type": "code",
   "execution_count": 5,
   "id": "68e4d8a3",
   "metadata": {},
   "outputs": [
    {
     "name": "stdout",
     "output_type": "stream",
     "text": [
      "[10 20 30]\n"
     ]
    }
   ],
   "source": [
    "import numpy as np\n",
    "\n",
    "arr = np.array([1, 2, 3])\n",
    "result = arr * 10\n",
    "print(result)"
   ]
  },
  {
   "cell_type": "code",
   "execution_count": 8,
   "id": "243681d6",
   "metadata": {},
   "outputs": [
    {
     "name": "stdout",
     "output_type": "stream",
     "text": [
      "[1, 2, 3]\n"
     ]
    }
   ],
   "source": [
    "data2d = [\n",
    "    [1, 2, 3],\n",
    "    [4, 5, 6],\n",
    "    [7, 8, 9]\n",
    "]\n",
    "\n",
    "print(data2d[0])"
   ]
  },
  {
   "cell_type": "code",
   "execution_count": 7,
   "id": "697b6aeb",
   "metadata": {},
   "outputs": [
    {
     "name": "stdout",
     "output_type": "stream",
     "text": [
      "[1 4 7]\n"
     ]
    }
   ],
   "source": [
    "import numpy as np\n",
    "\n",
    "arr = np.array(data2d)\n",
    "print(arr[:, 0])"
   ]
  },
  {
   "cell_type": "markdown",
   "id": "3b92c6da",
   "metadata": {},
   "source": [
    "## 2.2 ndarray"
   ]
  },
  {
   "cell_type": "code",
   "execution_count": 9,
   "id": "327c6b40",
   "metadata": {},
   "outputs": [
    {
     "name": "stdout",
     "output_type": "stream",
     "text": [
      "[1 2 3 4]\n",
      "<class 'numpy.ndarray'>\n"
     ]
    }
   ],
   "source": [
    "data1 = [1, 2, 3, 4]\n",
    "arr1 = np.array(data1)\n",
    "print(arr1)\n",
    "print(type(arr1))"
   ]
  },
  {
   "cell_type": "code",
   "execution_count": 10,
   "id": "11790e7a",
   "metadata": {},
   "outputs": [
    {
     "name": "stdout",
     "output_type": "stream",
     "text": [
      "[[1 2]\n",
      " [3 4]]\n",
      "<class 'numpy.ndarray'>\n",
      "<class 'numpy.ndarray'>\n"
     ]
    }
   ],
   "source": [
    "data2 = [\n",
    "    [1, 2],\n",
    "    [3, 4]\n",
    "]\n",
    "arr2 = np.array(data2)\n",
    "\n",
    "print(arr2)\n",
    "print(type(arr2))\n",
    "print(type(arr2[0]))"
   ]
  },
  {
   "cell_type": "code",
   "execution_count": 12,
   "id": "7f1e87b7",
   "metadata": {},
   "outputs": [
    {
     "name": "stdout",
     "output_type": "stream",
     "text": [
      "(2, 2)\n",
      "2\n",
      "int64\n"
     ]
    }
   ],
   "source": [
    "print(arr2.shape)\n",
    "print(arr2.ndim)\n",
    "print(arr2.dtype)"
   ]
  },
  {
   "cell_type": "code",
   "execution_count": 14,
   "id": "ccae18a5",
   "metadata": {},
   "outputs": [
    {
     "name": "stdout",
     "output_type": "stream",
     "text": [
      "(4,)\n"
     ]
    }
   ],
   "source": [
    "print(arr1.shape)"
   ]
  },
  {
   "cell_type": "code",
   "execution_count": 15,
   "id": "c01a59f8",
   "metadata": {},
   "outputs": [
    {
     "data": {
      "text/plain": [
       "array([1, 2, 3, 4])"
      ]
     },
     "execution_count": 15,
     "metadata": {},
     "output_type": "execute_result"
    }
   ],
   "source": [
    "arr1"
   ]
  },
  {
   "cell_type": "code",
   "execution_count": 18,
   "id": "8b819969",
   "metadata": {},
   "outputs": [
    {
     "name": "stdout",
     "output_type": "stream",
     "text": [
      "(4, 1)\n"
     ]
    }
   ],
   "source": [
    "data = [\n",
    "    [1],\n",
    "    [2],\n",
    "    [3],\n",
    "    [4]\n",
    "]\n",
    "\n",
    "c = np.array(data)\n",
    "print(c.shape)"
   ]
  },
  {
   "cell_type": "code",
   "execution_count": 19,
   "id": "bf89af4c",
   "metadata": {},
   "outputs": [
    {
     "name": "stdout",
     "output_type": "stream",
     "text": [
      "[0. 0. 0.]\n",
      "[1. 1. 1.]\n"
     ]
    }
   ],
   "source": [
    "print(np.zeros(3))\n",
    "print(np.ones(3))"
   ]
  },
  {
   "cell_type": "code",
   "execution_count": 20,
   "id": "773e1433",
   "metadata": {},
   "outputs": [
    {
     "name": "stdout",
     "output_type": "stream",
     "text": [
      "[[0. 0. 0. 0.]\n",
      " [0. 0. 0. 0.]\n",
      " [0. 0. 0. 0.]]\n"
     ]
    }
   ],
   "source": [
    "size = (3, 4)\n",
    "print(np.zeros(size))"
   ]
  },
  {
   "cell_type": "code",
   "execution_count": 21,
   "id": "bb9df0cd",
   "metadata": {},
   "outputs": [
    {
     "name": "stdout",
     "output_type": "stream",
     "text": [
      "[[0. 0. 0. 0.]\n",
      " [0. 0. 0. 0.]\n",
      " [0. 0. 0. 0.]]\n"
     ]
    }
   ],
   "source": [
    "print(np.zeros((3, 4)))"
   ]
  },
  {
   "cell_type": "code",
   "execution_count": 25,
   "id": "b3b9ca7c",
   "metadata": {},
   "outputs": [
    {
     "name": "stdout",
     "output_type": "stream",
     "text": [
      "[0 1 2 3 4]\n",
      "[1 2 3 4]\n",
      "[1 3]\n"
     ]
    }
   ],
   "source": [
    "print(np.arange(5))\n",
    "print(np.arange(1, 5))\n",
    "print(np.arange(1, 5, 2))"
   ]
  },
  {
   "cell_type": "markdown",
   "id": "a257e4b2",
   "metadata": {},
   "source": [
    "## 2.3 데이터 타입"
   ]
  },
  {
   "cell_type": "code",
   "execution_count": 26,
   "id": "f544a786",
   "metadata": {},
   "outputs": [
    {
     "name": "stdout",
     "output_type": "stream",
     "text": [
      "uint8\n",
      "u\n",
      "1\n"
     ]
    }
   ],
   "source": [
    "arr = np.array([1, 2, 3], dtype=np.uint8)\n",
    "print(arr.dtype)\n",
    "print(arr.dtype.kind)\n",
    "print(arr.dtype.alignment)"
   ]
  },
  {
   "cell_type": "code",
   "execution_count": 27,
   "id": "4c8683c1",
   "metadata": {},
   "outputs": [
    {
     "name": "stdout",
     "output_type": "stream",
     "text": [
      "int8\n"
     ]
    }
   ],
   "source": [
    "arr = arr.astype('int8')\n",
    "print(arr.dtype)"
   ]
  },
  {
   "cell_type": "code",
   "execution_count": 28,
   "id": "950c4273",
   "metadata": {},
   "outputs": [
    {
     "name": "stdout",
     "output_type": "stream",
     "text": [
      "[  0 255]\n",
      "[ 0 -1]\n"
     ]
    }
   ],
   "source": [
    "a = np.array([0, 255], dtype=np.uint8)\n",
    "b = a.astype('int8')\n",
    "print(a)\n",
    "print(b)"
   ]
  },
  {
   "cell_type": "code",
   "execution_count": 29,
   "id": "98d6b014",
   "metadata": {},
   "outputs": [
    {
     "name": "stdout",
     "output_type": "stream",
     "text": [
      "[1.333]\n",
      "[1.333333]\n"
     ]
    }
   ],
   "source": [
    "a16 = np.array([1.333333], dtype=np.float16)\n",
    "a32 = np.array([1.333333], dtype=np.float32)\n",
    "print(a16)\n",
    "print(a32)"
   ]
  },
  {
   "cell_type": "code",
   "execution_count": 34,
   "id": "eb16f83f",
   "metadata": {},
   "outputs": [
    {
     "name": "stdout",
     "output_type": "stream",
     "text": [
      "[0.3333]\n",
      "[0.33333334]\n"
     ]
    }
   ],
   "source": [
    "a16 = np.array([1.0], dtype=np.float16)\n",
    "a32 = np.array([1.0], dtype=np.float32)\n",
    "print(a16/3)\n",
    "print(a32/3)"
   ]
  },
  {
   "cell_type": "code",
   "execution_count": 37,
   "id": "74d6f35e",
   "metadata": {},
   "outputs": [
    {
     "name": "stdout",
     "output_type": "stream",
     "text": [
      "nan <class 'float'>\n",
      "inf <class 'float'>\n",
      "-inf <class 'float'>\n"
     ]
    }
   ],
   "source": [
    "print(np.nan, type(np.nan))\n",
    "print(np.inf, type(np.inf))\n",
    "print(-np.inf, type(-np.inf))"
   ]
  },
  {
   "cell_type": "code",
   "execution_count": 38,
   "id": "0de25683",
   "metadata": {},
   "outputs": [
    {
     "name": "stdout",
     "output_type": "stream",
     "text": [
      "[-inf  inf -inf]\n"
     ]
    },
    {
     "name": "stderr",
     "output_type": "stream",
     "text": [
      "<ipython-input-38-cb6c03859f6d>:2: RuntimeWarning: divide by zero encountered in true_divide\n",
      "  print(arr/0)\n"
     ]
    }
   ],
   "source": [
    "arr = np.array([-1, 2, -3])\n",
    "print(arr/0)"
   ]
  },
  {
   "cell_type": "code",
   "execution_count": 39,
   "id": "8305ac6c",
   "metadata": {},
   "outputs": [
    {
     "name": "stdout",
     "output_type": "stream",
     "text": [
      "[nan nan nan]\n",
      "[inf inf inf]\n"
     ]
    }
   ],
   "source": [
    "arr = np.array([-1, 2, -3])\n",
    "print(arr + np.nan)\n",
    "print(arr + np.inf)"
   ]
  },
  {
   "cell_type": "markdown",
   "id": "b9f5120d",
   "metadata": {},
   "source": [
    "## 2.4 인덱싱과 슬라이싱"
   ]
  },
  {
   "cell_type": "code",
   "execution_count": 40,
   "id": "f4025f4f",
   "metadata": {},
   "outputs": [
    {
     "name": "stdout",
     "output_type": "stream",
     "text": [
      "0\n"
     ]
    }
   ],
   "source": [
    "arr = np.arange(4)\n",
    "print(arr[0])"
   ]
  },
  {
   "cell_type": "code",
   "execution_count": 41,
   "id": "bbc5a65d",
   "metadata": {},
   "outputs": [
    {
     "name": "stdout",
     "output_type": "stream",
     "text": [
      "[0 1]\n"
     ]
    }
   ],
   "source": [
    "arr = np.arange(4).reshape(2, 2)\n",
    "print(arr[0])"
   ]
  },
  {
   "cell_type": "code",
   "execution_count": 42,
   "id": "7c48f42c",
   "metadata": {},
   "outputs": [
    {
     "name": "stdout",
     "output_type": "stream",
     "text": [
      "0\n"
     ]
    }
   ],
   "source": [
    "print(arr[0][0])"
   ]
  },
  {
   "cell_type": "code",
   "execution_count": 43,
   "id": "9ac1b5b5",
   "metadata": {},
   "outputs": [
    {
     "name": "stdout",
     "output_type": "stream",
     "text": [
      "0\n",
      "0\n"
     ]
    }
   ],
   "source": [
    "print(arr[0][0])\n",
    "print(arr[0, 0])"
   ]
  },
  {
   "cell_type": "code",
   "execution_count": 44,
   "id": "fcee2f50",
   "metadata": {},
   "outputs": [
    {
     "name": "stdout",
     "output_type": "stream",
     "text": [
      "88.4 ns ± 0.483 ns per loop (mean ± std. dev. of 7 runs, 10000000 loops each)\n"
     ]
    }
   ],
   "source": [
    "a = np.arange(10000).reshape(100, 100)\n",
    "%timeit a[0, 50]"
   ]
  },
  {
   "cell_type": "code",
   "execution_count": 45,
   "id": "e80ea147",
   "metadata": {},
   "outputs": [
    {
     "name": "stdout",
     "output_type": "stream",
     "text": [
      "155 ns ± 0.455 ns per loop (mean ± std. dev. of 7 runs, 10000000 loops each)\n"
     ]
    }
   ],
   "source": [
    "a = np.arange(10000).reshape(100, 100)\n",
    "%timeit a[0][50]"
   ]
  },
  {
   "cell_type": "code",
   "execution_count": 46,
   "id": "e73fcba7",
   "metadata": {},
   "outputs": [
    {
     "name": "stdout",
     "output_type": "stream",
     "text": [
      "[0 1]\n"
     ]
    }
   ],
   "source": [
    "arr = np.arange(4)\n",
    "print(arr[:2])"
   ]
  },
  {
   "cell_type": "code",
   "execution_count": 47,
   "id": "fe82a293",
   "metadata": {},
   "outputs": [
    {
     "name": "stdout",
     "output_type": "stream",
     "text": [
      "[0 2]\n"
     ]
    }
   ],
   "source": [
    "target = [0, 2]\n",
    "print(arr[target])"
   ]
  },
  {
   "cell_type": "code",
   "execution_count": 48,
   "id": "e70d0a1e",
   "metadata": {},
   "outputs": [
    {
     "name": "stdout",
     "output_type": "stream",
     "text": [
      "[0 2]\n"
     ]
    }
   ],
   "source": [
    "print(arr[ [0, 2] ])"
   ]
  },
  {
   "cell_type": "code",
   "execution_count": 51,
   "id": "30457b66",
   "metadata": {},
   "outputs": [
    {
     "name": "stdout",
     "output_type": "stream",
     "text": [
      "[[0 1 2 3 4]\n",
      " [5 6 7 8 9]]\n"
     ]
    }
   ],
   "source": [
    "arr = np.arange(20).reshape(4, 5)\n",
    "print(arr[:2])"
   ]
  },
  {
   "cell_type": "code",
   "execution_count": 52,
   "id": "1043bcd0",
   "metadata": {},
   "outputs": [
    {
     "data": {
      "text/plain": [
       "array([[ 0,  1,  2,  3,  4],\n",
       "       [ 5,  6,  7,  8,  9],\n",
       "       [10, 11, 12, 13, 14],\n",
       "       [15, 16, 17, 18, 19]])"
      ]
     },
     "execution_count": 52,
     "metadata": {},
     "output_type": "execute_result"
    }
   ],
   "source": [
    "arr"
   ]
  },
  {
   "cell_type": "code",
   "execution_count": 53,
   "id": "4cb99c0e",
   "metadata": {},
   "outputs": [
    {
     "name": "stdout",
     "output_type": "stream",
     "text": [
      "[[0, 1], [5, 6], [10, 11], [15, 16]]\n"
     ]
    }
   ],
   "source": [
    "result = []\n",
    "for row in arr:\n",
    "    row_01 = [row[0], row[1]]\n",
    "    result.append(row_01)\n",
    "\n",
    "print(result)"
   ]
  },
  {
   "cell_type": "code",
   "execution_count": 54,
   "id": "e8df877a",
   "metadata": {},
   "outputs": [
    {
     "name": "stdout",
     "output_type": "stream",
     "text": [
      "[[ 0  1]\n",
      " [ 5  6]\n",
      " [10 11]\n",
      " [15 16]]\n"
     ]
    }
   ],
   "source": [
    "print(arr[:, :2])"
   ]
  },
  {
   "cell_type": "code",
   "execution_count": 55,
   "id": "3d39d6e9",
   "metadata": {},
   "outputs": [
    {
     "name": "stdout",
     "output_type": "stream",
     "text": [
      "[[ 7  8  9]\n",
      " [12 13 14]\n",
      " [17 18 19]]\n",
      "[[ 7  8  9]\n",
      " [12 13 14]\n",
      " [17 18 19]]\n"
     ]
    }
   ],
   "source": [
    "print(arr[1:4, 2:5])\n",
    "print(arr[1:, 2:])"
   ]
  },
  {
   "cell_type": "markdown",
   "id": "5446558a",
   "metadata": {},
   "source": [
    "## 브로드캐스팅"
   ]
  },
  {
   "cell_type": "code",
   "execution_count": 56,
   "id": "b87ca32a",
   "metadata": {},
   "outputs": [
    {
     "name": "stdout",
     "output_type": "stream",
     "text": [
      "[3 5 7]\n",
      "[ 2  6 12]\n",
      "[1 2 3]\n"
     ]
    }
   ],
   "source": [
    "a = np.array( [1, 2, 3] )\n",
    "b = np.array( [2, 3, 4] )\n",
    "print(a + b)\n",
    "print(a * b)\n",
    "print(a % b)"
   ]
  },
  {
   "cell_type": "code",
   "execution_count": 57,
   "id": "9d2c05e1",
   "metadata": {},
   "outputs": [
    {
     "name": "stdout",
     "output_type": "stream",
     "text": [
      "[4 5 6]\n"
     ]
    }
   ],
   "source": [
    "print(a + 3)"
   ]
  },
  {
   "cell_type": "code",
   "execution_count": 58,
   "id": "5fb8aaa7",
   "metadata": {},
   "outputs": [
    {
     "name": "stdout",
     "output_type": "stream",
     "text": [
      "[2700 1300  400 2200 1400]\n"
     ]
    }
   ],
   "source": [
    "high = [92700, 92400, 92100, 94300, 92300]\n",
    "low = [90000, 91100, 91700, 92100, 90900]\n",
    "\n",
    "arr_high = np.array(high)\n",
    "arr_low = np.array(low)\n",
    "\n",
    "arr_diff = arr_high - arr_low\n",
    "print(arr_diff)"
   ]
  },
  {
   "cell_type": "code",
   "execution_count": 60,
   "id": "b4f79a05",
   "metadata": {},
   "outputs": [
    {
     "name": "stdout",
     "output_type": "stream",
     "text": [
      "[458100 459400 459700 467100 458700]\n"
     ]
    }
   ],
   "source": [
    "arr_high_x3 = arr_high * 3\n",
    "arr_low_x2 = arr_low * 2\n",
    "print(arr_high_x3 + arr_low_x2)"
   ]
  },
  {
   "cell_type": "code",
   "execution_count": 61,
   "id": "4372c797",
   "metadata": {},
   "outputs": [],
   "source": [
    "avg = (arr_high * 3) + arr_low * 2"
   ]
  },
  {
   "cell_type": "code",
   "execution_count": 62,
   "id": "b19917de",
   "metadata": {},
   "outputs": [],
   "source": [
    "data = [\n",
    "    [92700, 92400, 92100, 94300, 92300],\n",
    "    [90000, 91100, 91700, 92100, 90900]\n",
    "]\n",
    "arr = np.array(data)"
   ]
  },
  {
   "cell_type": "code",
   "execution_count": 63,
   "id": "557d940f",
   "metadata": {},
   "outputs": [
    {
     "name": "stdout",
     "output_type": "stream",
     "text": [
      "[458100 459400 459700 467100 458700]\n"
     ]
    }
   ],
   "source": [
    "print(arr[0] * 3 + arr[1]  * 2)"
   ]
  },
  {
   "cell_type": "code",
   "execution_count": 64,
   "id": "3fea831a",
   "metadata": {},
   "outputs": [],
   "source": [
    "weight = np.array([3, 2]).reshape(2, 1)"
   ]
  },
  {
   "cell_type": "code",
   "execution_count": 66,
   "id": "10bfc93b",
   "metadata": {},
   "outputs": [
    {
     "name": "stdout",
     "output_type": "stream",
     "text": [
      "[458100 459400 459700 467100 458700]\n"
     ]
    }
   ],
   "source": [
    "print((weight * arr).sum(axis=0))"
   ]
  },
  {
   "cell_type": "markdown",
   "id": "01d2ebf4",
   "metadata": {},
   "source": [
    "## 2.6 조건 연산"
   ]
  },
  {
   "cell_type": "code",
   "execution_count": 67,
   "id": "ccd79f32",
   "metadata": {},
   "outputs": [
    {
     "name": "stdout",
     "output_type": "stream",
     "text": [
      "[False  True  True]\n"
     ]
    }
   ],
   "source": [
    "arr = np.array( [10, 20, 30] )\n",
    "print(arr > 10)"
   ]
  },
  {
   "cell_type": "code",
   "execution_count": 68,
   "id": "bbcbac03",
   "metadata": {},
   "outputs": [
    {
     "name": "stdout",
     "output_type": "stream",
     "text": [
      "[20 30]\n"
     ]
    }
   ],
   "source": [
    "arr = np.array([10, 20, 30])\n",
    "cond = [False, True, True]\n",
    "print(arr[ cond ])"
   ]
  },
  {
   "cell_type": "code",
   "execution_count": 69,
   "id": "703b3c67",
   "metadata": {},
   "outputs": [
    {
     "name": "stdout",
     "output_type": "stream",
     "text": [
      "[20 30]\n"
     ]
    }
   ],
   "source": [
    "arr = np.array([10, 20, 30])\n",
    "print(arr[[False, True, True] ])"
   ]
  },
  {
   "cell_type": "code",
   "execution_count": 70,
   "id": "fd8df978",
   "metadata": {},
   "outputs": [
    {
     "name": "stdout",
     "output_type": "stream",
     "text": [
      "[20 30]\n"
     ]
    }
   ],
   "source": [
    "arr = np.array([10, 20, 30])\n",
    "cond = arr > 10\n",
    "print(arr[ cond ])"
   ]
  },
  {
   "cell_type": "code",
   "execution_count": 71,
   "id": "9549829b",
   "metadata": {},
   "outputs": [
    {
     "name": "stdout",
     "output_type": "stream",
     "text": [
      "[20 30]\n"
     ]
    }
   ],
   "source": [
    "print(arr[ arr > 10 ])"
   ]
  },
  {
   "cell_type": "code",
   "execution_count": 72,
   "id": "4aaa8b78",
   "metadata": {},
   "outputs": [
    {
     "data": {
      "text/plain": [
       "False"
      ]
     },
     "execution_count": 72,
     "metadata": {},
     "output_type": "execute_result"
    }
   ],
   "source": [
    "cond.all()"
   ]
  },
  {
   "cell_type": "code",
   "execution_count": 73,
   "id": "4c8d1db0",
   "metadata": {},
   "outputs": [
    {
     "data": {
      "text/plain": [
       "True"
      ]
     },
     "execution_count": 73,
     "metadata": {},
     "output_type": "execute_result"
    }
   ],
   "source": [
    "cond.any()"
   ]
  },
  {
   "cell_type": "code",
   "execution_count": 74,
   "id": "71351e65",
   "metadata": {},
   "outputs": [
    {
     "name": "stdout",
     "output_type": "stream",
     "text": [
      "[20]\n"
     ]
    }
   ],
   "source": [
    "arr = np.array([10, 20, 30])\n",
    "cond0 = arr > 10\n",
    "cond1 = arr < 30\n",
    "print(arr[ cond0 & cond1 ])"
   ]
  },
  {
   "cell_type": "code",
   "execution_count": 75,
   "id": "f73dba5a",
   "metadata": {},
   "outputs": [
    {
     "name": "stdout",
     "output_type": "stream",
     "text": [
      "[20]\n"
     ]
    }
   ],
   "source": [
    "arr = np.array([10, 20, 30])\n",
    "print(arr[ (arr > 10) & (arr < 30) ])"
   ]
  },
  {
   "cell_type": "code",
   "execution_count": 76,
   "id": "3407011e",
   "metadata": {},
   "outputs": [
    {
     "name": "stdout",
     "output_type": "stream",
     "text": [
      "[0 1 1]\n"
     ]
    }
   ],
   "source": [
    "arr = np.array([10, 20, 30])\n",
    "cond = arr > 10\n",
    "arr[cond] = 1\n",
    "arr[~cond] = 0\n",
    "print(arr)"
   ]
  },
  {
   "cell_type": "code",
   "execution_count": 77,
   "id": "89d99dba",
   "metadata": {},
   "outputs": [
    {
     "name": "stdout",
     "output_type": "stream",
     "text": [
      "[0 1 1]\n"
     ]
    }
   ],
   "source": [
    "arr = np.array([10, 20, 30])\n",
    "arr = np.where( arr > 10, 1, 0)\n",
    "print(arr)"
   ]
  },
  {
   "cell_type": "code",
   "execution_count": 79,
   "id": "a0f2c335",
   "metadata": {},
   "outputs": [],
   "source": [
    "cond = arr > 10\n",
    "arr[cond] = arr[cond] + 10\n",
    "arr[~cond] = arr[~cond] - 10"
   ]
  },
  {
   "cell_type": "code",
   "execution_count": 80,
   "id": "298931b9",
   "metadata": {},
   "outputs": [
    {
     "data": {
      "text/plain": [
       "array([-10,  -9,  -9])"
      ]
     },
     "execution_count": 80,
     "metadata": {},
     "output_type": "execute_result"
    }
   ],
   "source": [
    "arr"
   ]
  },
  {
   "cell_type": "code",
   "execution_count": 82,
   "id": "7105741c",
   "metadata": {},
   "outputs": [
    {
     "name": "stdout",
     "output_type": "stream",
     "text": [
      "[ 0 30 40]\n"
     ]
    }
   ],
   "source": [
    "arr = np.array([10, 20, 30])\n",
    "arr = np.where( arr > 10, arr+10, arr-10)\n",
    "print(arr)"
   ]
  },
  {
   "cell_type": "code",
   "execution_count": 83,
   "id": "117867a8",
   "metadata": {},
   "outputs": [
    {
     "name": "stdout",
     "output_type": "stream",
     "text": [
      "3\n"
     ]
    }
   ],
   "source": [
    "lge = np.array([93000, 82400, 99100, 81000, 72300])\n",
    "result = lge[  lge <= 85000  ]\n",
    "print( len(result) )"
   ]
  },
  {
   "cell_type": "markdown",
   "id": "337bdc15",
   "metadata": {},
   "source": [
    "## 함수와 메서드"
   ]
  },
  {
   "cell_type": "code",
   "execution_count": 84,
   "id": "0c2ab9b7",
   "metadata": {},
   "outputs": [
    {
     "data": {
      "text/plain": [
       "array([[0, 1],\n",
       "       [2, 3],\n",
       "       [4, 5],\n",
       "       [6, 7]])"
      ]
     },
     "execution_count": 84,
     "metadata": {},
     "output_type": "execute_result"
    }
   ],
   "source": [
    "arr = np.arange(8).reshape(4, 2)\n",
    "arr"
   ]
  },
  {
   "cell_type": "code",
   "execution_count": 85,
   "id": "7bba8e17",
   "metadata": {},
   "outputs": [
    {
     "name": "stdout",
     "output_type": "stream",
     "text": [
      "28\n"
     ]
    }
   ],
   "source": [
    "print(arr.sum())"
   ]
  },
  {
   "cell_type": "code",
   "execution_count": 86,
   "id": "d10b9bdb",
   "metadata": {},
   "outputs": [
    {
     "name": "stdout",
     "output_type": "stream",
     "text": [
      "[12 16]\n",
      "[ 1  5  9 13]\n"
     ]
    }
   ],
   "source": [
    "print(arr.sum(axis=0))\n",
    "print(arr.sum(axis=1))"
   ]
  },
  {
   "cell_type": "code",
   "execution_count": 87,
   "id": "84da982c",
   "metadata": {},
   "outputs": [
    {
     "data": {
      "text/plain": [
       "0"
      ]
     },
     "execution_count": 87,
     "metadata": {},
     "output_type": "execute_result"
    }
   ],
   "source": [
    "np.random.randint(3)"
   ]
  },
  {
   "cell_type": "code",
   "execution_count": 88,
   "id": "c4d37f6f",
   "metadata": {},
   "outputs": [
    {
     "data": {
      "text/plain": [
       "array([14, 13, 18,  3, 25])"
      ]
     },
     "execution_count": 88,
     "metadata": {},
     "output_type": "execute_result"
    }
   ],
   "source": [
    "np.random.randint(46, size=5)"
   ]
  },
  {
   "cell_type": "code",
   "execution_count": 90,
   "id": "403b3721",
   "metadata": {},
   "outputs": [
    {
     "data": {
      "text/plain": [
       "array([[ 6,  6, 43, 22, 10],\n",
       "       [34, 25,  2, 32, 21]])"
      ]
     },
     "execution_count": 90,
     "metadata": {},
     "output_type": "execute_result"
    }
   ],
   "source": [
    "np.random.randint(46, size=(2, 5))"
   ]
  },
  {
   "cell_type": "code",
   "execution_count": 91,
   "id": "38fc79bc",
   "metadata": {},
   "outputs": [
    {
     "name": "stdout",
     "output_type": "stream",
     "text": [
      "[ 0.  5. 10.]\n"
     ]
    }
   ],
   "source": [
    "x = np.linspace(0, 10, 3)\n",
    "print(x)"
   ]
  },
  {
   "cell_type": "code",
   "execution_count": 92,
   "id": "2db49dd4",
   "metadata": {},
   "outputs": [],
   "source": [
    "y = x ** 2"
   ]
  },
  {
   "cell_type": "code",
   "execution_count": 93,
   "id": "2d827a98",
   "metadata": {},
   "outputs": [
    {
     "data": {
      "text/plain": [
       "array([  0.,  25., 100.])"
      ]
     },
     "execution_count": 93,
     "metadata": {},
     "output_type": "execute_result"
    }
   ],
   "source": [
    "y"
   ]
  },
  {
   "cell_type": "code",
   "execution_count": 94,
   "id": "5a22dd3f",
   "metadata": {},
   "outputs": [
    {
     "name": "stdout",
     "output_type": "stream",
     "text": [
      "[[0 1 2 3]\n",
      " [4 5 6 7]]\n"
     ]
    }
   ],
   "source": [
    "a = np.arange(4)\n",
    "b = np.arange(4, 8)\n",
    "c = np.vstack([a, b])\n",
    "print(c)"
   ]
  },
  {
   "cell_type": "code",
   "execution_count": 95,
   "id": "082c189a",
   "metadata": {},
   "outputs": [
    {
     "data": {
      "text/plain": [
       "array([0, 1, 2, 3, 4, 5, 6, 7])"
      ]
     },
     "execution_count": 95,
     "metadata": {},
     "output_type": "execute_result"
    }
   ],
   "source": [
    "np.hstack([a, b])"
   ]
  }
 ],
 "metadata": {
  "kernelspec": {
   "display_name": "Python 3.8.8 64-bit ('base': conda)",
   "language": "python",
   "name": "python388jvsc74a57bd0fab3550d34a8c166fb3db63df53dae4e626d4e9fa380cffd1134373ef20e9fe2"
  },
  "language_info": {
   "codemirror_mode": {
    "name": "ipython",
    "version": 3
   },
   "file_extension": ".py",
   "mimetype": "text/x-python",
   "name": "python",
   "nbconvert_exporter": "python",
   "pygments_lexer": "ipython3",
   "version": "3.8.8"
  }
 },
 "nbformat": 4,
 "nbformat_minor": 5
}
