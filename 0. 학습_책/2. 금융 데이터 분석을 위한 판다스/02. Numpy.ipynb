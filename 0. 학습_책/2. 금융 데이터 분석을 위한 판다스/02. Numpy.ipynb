{
 "cells": [
  {
   "cell_type": "code",
   "execution_count": 1,
   "id": "05d6a86a-b261-4e8d-aeb5-68e34f67fd53",
   "metadata": {},
   "outputs": [
    {
     "ename": "ModuleNotFoundError",
     "evalue": "No module named 'numpy'",
     "output_type": "error",
     "traceback": [
      "\u001b[0;31m---------------------------------------------------------------------------\u001b[0m",
      "\u001b[0;31mModuleNotFoundError\u001b[0m                       Traceback (most recent call last)",
      "Cell \u001b[0;32mIn[1], line 1\u001b[0m\n\u001b[0;32m----> 1\u001b[0m \u001b[38;5;28;01mimport\u001b[39;00m \u001b[38;5;21;01mnumpy\u001b[39;00m \u001b[38;5;28;01mas\u001b[39;00m \u001b[38;5;21;01mnp\u001b[39;00m\n",
      "\u001b[0;31mModuleNotFoundError\u001b[0m: No module named 'numpy'"
     ]
    }
   ],
   "source": [
    "import numpy as np"
   ]
  },
  {
   "cell_type": "code",
   "execution_count": 2,
   "id": "d2839aba-84c6-4f9c-8c24-36a055260a3e",
   "metadata": {},
   "outputs": [
    {
     "name": "stdout",
     "output_type": "stream",
     "text": [
      "[1 2 3]\n",
      "<class 'numpy.ndarray'>\n"
     ]
    }
   ],
   "source": [
    "data = [1, 2, 3]\n",
    "arry = np.array(data)\n",
    "print(arry)\n",
    "print(type(arry))"
   ]
  },
  {
   "cell_type": "code",
   "execution_count": 3,
   "id": "50611211-413a-4e42-ab6a-da67fe16554c",
   "metadata": {},
   "outputs": [
    {
     "name": "stdout",
     "output_type": "stream",
     "text": [
      "[10, 20, 30]\n"
     ]
    }
   ],
   "source": [
    "result = []\n",
    "for i in data:\n",
    "    a = i * 10\n",
    "    result.append(a)\n",
    "\n",
    "print(result)"
   ]
  },
  {
   "cell_type": "code",
   "execution_count": 4,
   "id": "d1d92ba9-a428-4aff-874a-707d9eed6103",
   "metadata": {},
   "outputs": [
    {
     "data": {
      "text/plain": [
       "array([1, 2, 3])"
      ]
     },
     "execution_count": 4,
     "metadata": {},
     "output_type": "execute_result"
    }
   ],
   "source": [
    "arry"
   ]
  },
  {
   "cell_type": "code",
   "execution_count": 5,
   "id": "2e835ee2-d2c3-4298-b399-f1353e1cedf3",
   "metadata": {},
   "outputs": [
    {
     "data": {
      "text/plain": [
       "array([10, 20, 30])"
      ]
     },
     "execution_count": 5,
     "metadata": {},
     "output_type": "execute_result"
    }
   ],
   "source": [
    "arry * 10"
   ]
  },
  {
   "cell_type": "code",
   "execution_count": 7,
   "id": "0544e4f5-20e7-4ac6-873e-da7a4b99ccc0",
   "metadata": {},
   "outputs": [
    {
     "name": "stdout",
     "output_type": "stream",
     "text": [
      "[1 2 3]\n"
     ]
    }
   ],
   "source": [
    "print(arry)"
   ]
  },
  {
   "cell_type": "code",
   "execution_count": 6,
   "id": "458c0d8f-a641-4a5e-9e44-7cefc29e79f9",
   "metadata": {},
   "outputs": [
    {
     "name": "stdout",
     "output_type": "stream",
     "text": [
      "[[1, 2, 3], [4, 5, 6], [7, 8, 9]]\n"
     ]
    }
   ],
   "source": [
    "data2d = [\n",
    "    [1, 2, 3],\n",
    "    [4, 5, 6],\n",
    "    [7, 8, 9]\n",
    "]\n",
    "\n",
    "print(data2d)"
   ]
  },
  {
   "cell_type": "code",
   "execution_count": 7,
   "id": "44757683-41cd-4f35-a031-9615641892ae",
   "metadata": {},
   "outputs": [
    {
     "data": {
      "text/plain": [
       "[1, 2, 3]"
      ]
     },
     "execution_count": 7,
     "metadata": {},
     "output_type": "execute_result"
    }
   ],
   "source": [
    "data2d[0]"
   ]
  },
  {
   "cell_type": "code",
   "execution_count": 8,
   "id": "15125957-bb6a-46ea-bc24-29880f9c9a65",
   "metadata": {},
   "outputs": [
    {
     "data": {
      "text/plain": [
       "[4, 5, 6]"
      ]
     },
     "execution_count": 8,
     "metadata": {},
     "output_type": "execute_result"
    }
   ],
   "source": [
    "data2d[1]"
   ]
  },
  {
   "cell_type": "code",
   "execution_count": 9,
   "id": "3afcdb85-aa01-49ae-a03f-2fc576a18067",
   "metadata": {},
   "outputs": [
    {
     "data": {
      "text/plain": [
       "list"
      ]
     },
     "execution_count": 9,
     "metadata": {},
     "output_type": "execute_result"
    }
   ],
   "source": [
    "type(data2d)"
   ]
  },
  {
   "cell_type": "code",
   "execution_count": 10,
   "id": "d7da259c-1b54-4797-b16a-9b122d151ec8",
   "metadata": {},
   "outputs": [
    {
     "name": "stdout",
     "output_type": "stream",
     "text": [
      "[1 4 7]\n"
     ]
    }
   ],
   "source": [
    "arry = np.array(data2d)\n",
    "print(arry[:, 0])"
   ]
  },
  {
   "cell_type": "markdown",
   "id": "ab8b9c2b-52e5-4db8-b3c4-3a047eee9ccc",
   "metadata": {
    "jp-MarkdownHeadingCollapsed": true
   },
   "source": [
    "## page 27\n",
    "numpy는 다차원 배열을 위한 ndarray클래스(타입)를 제공한다.</br>\n",
    "1차원 리스트를 Numpy array 함수에 전달하면 쉽게 ndarray객체로 변환할 수 있다.</br>\n",
    "범용적인 용도로 사용되는 파이썬 list 타입을 행렬과 다차원 배열에 최적화된 ndarray타입으로 변환하는 것이다."
   ]
  },
  {
   "cell_type": "code",
   "execution_count": 13,
   "id": "c70bd558-141f-4fe6-9b9e-b09d03f82394",
   "metadata": {},
   "outputs": [],
   "source": [
    "data1 = [1, 2, 3, 4]\n",
    "\n",
    "arr1 = np.array(data1)"
   ]
  },
  {
   "cell_type": "code",
   "execution_count": 14,
   "id": "340e1289-14bd-41a3-b5ec-d4c27abd51dd",
   "metadata": {},
   "outputs": [
    {
     "name": "stdout",
     "output_type": "stream",
     "text": [
      "[1 2 3 4]\n"
     ]
    }
   ],
   "source": [
    "print(arr1)"
   ]
  },
  {
   "cell_type": "code",
   "execution_count": 16,
   "id": "1578d16d-ca8c-4aa0-8fe2-2347e85a2613",
   "metadata": {},
   "outputs": [
    {
     "name": "stdout",
     "output_type": "stream",
     "text": [
      "<class 'numpy.ndarray'>\n"
     ]
    }
   ],
   "source": [
    "print(type(arr1))"
   ]
  },
  {
   "cell_type": "code",
   "execution_count": 17,
   "id": "4cd2fd2c-6548-45d1-8e89-a9014ef502a3",
   "metadata": {},
   "outputs": [],
   "source": [
    "data2 = [\n",
    "    [1, 2],\n",
    "    [3, 4]\n",
    "]\n",
    "\n",
    "arr2 = np.array(data2)"
   ]
  },
  {
   "cell_type": "code",
   "execution_count": 21,
   "id": "3325c25d-1966-4766-85d0-009192dd5174",
   "metadata": {},
   "outputs": [
    {
     "name": "stdout",
     "output_type": "stream",
     "text": [
      "[1 2]\n"
     ]
    }
   ],
   "source": [
    "print(arr2[0])"
   ]
  },
  {
   "cell_type": "code",
   "execution_count": 22,
   "id": "0216ab03-3424-42d4-ab07-481c3c1e057e",
   "metadata": {},
   "outputs": [
    {
     "name": "stdout",
     "output_type": "stream",
     "text": [
      "[3 4]\n"
     ]
    }
   ],
   "source": [
    "print(arr2[1])"
   ]
  },
  {
   "cell_type": "code",
   "execution_count": 20,
   "id": "c11c22c1-8137-4d56-9efa-eca5704d43df",
   "metadata": {},
   "outputs": [
    {
     "name": "stdout",
     "output_type": "stream",
     "text": [
      "<class 'numpy.ndarray'>\n"
     ]
    }
   ],
   "source": [
    "print(type(arr2[0]))"
   ]
  },
  {
   "cell_type": "markdown",
   "id": "750144b7-7bbb-40d7-8dc7-0cf9978b292b",
   "metadata": {},
   "source": [
    "ndarray 객체의 인스턴스 변수를 사용해서 저장된 데이터의 정보를 조회할 수 있다.</br>\n",
    "shape는 ndarray의 크기 정보를, ndim은 차원 정보를, dtype은 데이터 타입을 표현한다."
   ]
  },
  {
   "cell_type": "code",
   "execution_count": 23,
   "id": "342cfca9-8282-4a2b-899b-88789f3ea6c4",
   "metadata": {},
   "outputs": [
    {
     "name": "stdout",
     "output_type": "stream",
     "text": [
      "(2, 2)\n"
     ]
    }
   ],
   "source": [
    "print(arr2.shape)"
   ]
  },
  {
   "cell_type": "code",
   "execution_count": 24,
   "id": "71d6f31a-f754-4280-917d-71c02be52178",
   "metadata": {},
   "outputs": [
    {
     "name": "stdout",
     "output_type": "stream",
     "text": [
      "2\n"
     ]
    }
   ],
   "source": [
    "print(arr2.ndim)"
   ]
  },
  {
   "cell_type": "code",
   "execution_count": 25,
   "id": "7d75aadb-ba1a-4388-b401-447e78865c7d",
   "metadata": {},
   "outputs": [
    {
     "name": "stdout",
     "output_type": "stream",
     "text": [
      "int64\n"
     ]
    }
   ],
   "source": [
    "print(arr2.dtype)"
   ]
  },
  {
   "cell_type": "code",
   "execution_count": 26,
   "id": "ad953e64-aa64-407a-a3d6-9350603829f3",
   "metadata": {},
   "outputs": [
    {
     "name": "stdout",
     "output_type": "stream",
     "text": [
      "(4,)\n"
     ]
    }
   ],
   "source": [
    "print(arr1.shape)"
   ]
  },
  {
   "cell_type": "markdown",
   "id": "3f1bf546-6c3b-4bea-bb8c-7fece3146f6b",
   "metadata": {},
   "source": [
    "튜플에 하나의 값이 들어 있을 때는 1차원 데이터를 뜻하며, 첫 번째 값이 로우의 길이가 아닌 데이터의 길이다."
   ]
  },
  {
   "cell_type": "code",
   "execution_count": 28,
   "id": "96bcd58f-bc91-4a05-9eb7-630e62ff0fd8",
   "metadata": {},
   "outputs": [
    {
     "name": "stdout",
     "output_type": "stream",
     "text": [
      "[0. 0. 0.]\n"
     ]
    }
   ],
   "source": [
    "print(np.zeros(3))"
   ]
  },
  {
   "cell_type": "code",
   "execution_count": 29,
   "id": "37aba4b0-e86c-4708-b284-d6c9cc685e89",
   "metadata": {},
   "outputs": [
    {
     "name": "stdout",
     "output_type": "stream",
     "text": [
      "[1. 1. 1.]\n"
     ]
    }
   ],
   "source": [
    "print(np.ones(3))"
   ]
  },
  {
   "cell_type": "markdown",
   "id": "883588d6-4ead-453f-81fd-edd00e817979",
   "metadata": {},
   "source": [
    "zeros와 ones 함수는 기본적으로 float타입으로 데이터를 저장한다.</br>\n",
    "출력된 결과에 소수점(dot)은 저장된 데이터가 float타입임을 알려준다."
   ]
  },
  {
   "cell_type": "code",
   "execution_count": 30,
   "id": "b141ed44-8b2f-45d6-b326-d4d9ae0c564a",
   "metadata": {},
   "outputs": [],
   "source": [
    "size = (3, 4)"
   ]
  },
  {
   "cell_type": "code",
   "execution_count": 31,
   "id": "bcbd58f3-983a-4f30-8daa-2cd166244dca",
   "metadata": {},
   "outputs": [
    {
     "data": {
      "text/plain": [
       "tuple"
      ]
     },
     "execution_count": 31,
     "metadata": {},
     "output_type": "execute_result"
    }
   ],
   "source": [
    "type(size)"
   ]
  },
  {
   "cell_type": "code",
   "execution_count": 32,
   "id": "eb9f3a63-54ed-4f02-997d-b5bbbe05af37",
   "metadata": {},
   "outputs": [
    {
     "name": "stdout",
     "output_type": "stream",
     "text": [
      "[[0. 0. 0. 0.]\n",
      " [0. 0. 0. 0.]\n",
      " [0. 0. 0. 0.]]\n"
     ]
    }
   ],
   "source": [
    "print(np.zeros(size))"
   ]
  },
  {
   "cell_type": "code",
   "execution_count": 33,
   "id": "1e1640e9-09f6-4fb1-8485-922fbb0d96aa",
   "metadata": {},
   "outputs": [
    {
     "name": "stdout",
     "output_type": "stream",
     "text": [
      "[0 1 2 3 4]\n",
      "[1 2 3 4]\n",
      "[1 3]\n"
     ]
    }
   ],
   "source": [
    "print(np.arange(5))\n",
    "print(np.arange(1, 5))\n",
    "print(np.arange(1, 5, 2))"
   ]
  },
  {
   "cell_type": "code",
   "execution_count": 34,
   "id": "577fee2f-4a8c-4eea-b8f0-c555fbcd9779",
   "metadata": {},
   "outputs": [
    {
     "name": "stdout",
     "output_type": "stream",
     "text": [
      "[[0 1 2]\n",
      " [3 4 5]]\n"
     ]
    }
   ],
   "source": [
    "ndarr1 = np.arange(6)\n",
    "ndarr2 = ndarr1.reshape(2, 3)\n",
    "print(ndarr2)"
   ]
  },
  {
   "cell_type": "code",
   "execution_count": 35,
   "id": "0599b74c-0d20-4917-895c-36f0f7337941",
   "metadata": {},
   "outputs": [
    {
     "data": {
      "text/plain": [
       "array([[0, 1],\n",
       "       [2, 3],\n",
       "       [4, 5]])"
      ]
     },
     "execution_count": 35,
     "metadata": {},
     "output_type": "execute_result"
    }
   ],
   "source": [
    "ndarr1.reshape(3, 2)"
   ]
  },
  {
   "cell_type": "code",
   "execution_count": 36,
   "id": "3b59efa2-90c3-487c-8d60-c721be783cea",
   "metadata": {},
   "outputs": [
    {
     "name": "stdout",
     "output_type": "stream",
     "text": [
      "uint8\n",
      "u\n",
      "1\n"
     ]
    }
   ],
   "source": [
    "arr = np.array([1, 2, 3], dtype = np.uint8)\n",
    "print(arr.dtype)\n",
    "print(arr.dtype.kind)\n",
    "print(arr.dtype.alignment)"
   ]
  },
  {
   "cell_type": "code",
   "execution_count": 37,
   "id": "b0d4f32d-9b7b-47e4-815c-f8070b169a35",
   "metadata": {},
   "outputs": [
    {
     "name": "stdout",
     "output_type": "stream",
     "text": [
      "int8\n"
     ]
    }
   ],
   "source": [
    "arr = arr.astype('int8')\n",
    "print(arr.dtype)"
   ]
  },
  {
   "cell_type": "code",
   "execution_count": 40,
   "id": "588e1dc9-fcdb-4994-b506-aa728e21b391",
   "metadata": {},
   "outputs": [
    {
     "name": "stdout",
     "output_type": "stream",
     "text": [
      "[  0 255]\n",
      "[ 0 -1]\n"
     ]
    }
   ],
   "source": [
    "a = np.array([0, 255], dtype=np.uint8)\n",
    "b = a.astype('int8')\n",
    "print(a)\n",
    "print(b)"
   ]
  },
  {
   "cell_type": "code",
   "execution_count": 41,
   "id": "5576d713-130f-4e22-89db-eec528439a09",
   "metadata": {},
   "outputs": [
    {
     "name": "stdout",
     "output_type": "stream",
     "text": [
      "[1.333]\n",
      "[1.333333]\n"
     ]
    }
   ],
   "source": [
    "a16 = np.array([1.333333], dtype = np.float16)\n",
    "a32 = np.array([1.333333], dtype = np.float32)\n",
    "print(a16)\n",
    "print(a32)"
   ]
  },
  {
   "cell_type": "code",
   "execution_count": 43,
   "id": "0e855b6a-580d-4e14-8b78-a1106e2910ab",
   "metadata": {},
   "outputs": [
    {
     "name": "stdout",
     "output_type": "stream",
     "text": [
      "[0.3333]\n",
      "[0.33333334]\n"
     ]
    }
   ],
   "source": [
    "a16 = np.array([1.0], dtype = np.float16)\n",
    "a32 = np.array([1.0], dtype = np.float32)\n",
    "print(a16/3)\n",
    "print(a32/3)"
   ]
  },
  {
   "cell_type": "markdown",
   "id": "01e03a93-a159-432d-9227-44f8eee8133c",
   "metadata": {
    "jp-MarkdownHeadingCollapsed": true
   },
   "source": [
    "## 인덱싱과 슬라이싱"
   ]
  },
  {
   "cell_type": "code",
   "execution_count": 8,
   "id": "4ad3f22a-36bf-478b-8fa4-922959a374da",
   "metadata": {},
   "outputs": [],
   "source": [
    "arr = np.arange(4).reshape(2, 2)"
   ]
  },
  {
   "cell_type": "code",
   "execution_count": 9,
   "id": "0847416b-6f19-4788-a5b4-7a16f40434c1",
   "metadata": {},
   "outputs": [
    {
     "name": "stdout",
     "output_type": "stream",
     "text": [
      "[0 1]\n"
     ]
    }
   ],
   "source": [
    "print(arr[0])"
   ]
  },
  {
   "cell_type": "code",
   "execution_count": 10,
   "id": "2341f0db-004c-4122-811e-3771791069dc",
   "metadata": {},
   "outputs": [
    {
     "name": "stdout",
     "output_type": "stream",
     "text": [
      "0\n"
     ]
    }
   ],
   "source": [
    "print(arr[0][0])"
   ]
  },
  {
   "cell_type": "code",
   "execution_count": 11,
   "id": "e27d54d9-57aa-4af0-8c70-fed321d1de49",
   "metadata": {},
   "outputs": [
    {
     "name": "stdout",
     "output_type": "stream",
     "text": [
      "0\n"
     ]
    }
   ],
   "source": [
    "print(arr[0, 0])"
   ]
  },
  {
   "cell_type": "code",
   "execution_count": 13,
   "id": "8f4799b7-86d9-4c31-8d99-fa9721b6d501",
   "metadata": {},
   "outputs": [],
   "source": [
    "a = np.arange(10000).reshape(100, 100)"
   ]
  },
  {
   "cell_type": "code",
   "execution_count": 15,
   "id": "1f86b876-fc7b-4c73-9468-34ed4dc64608",
   "metadata": {},
   "outputs": [
    {
     "name": "stdout",
     "output_type": "stream",
     "text": [
      "125 ns ± 2.49 ns per loop (mean ± std. dev. of 7 runs, 10,000,000 loops each)\n"
     ]
    }
   ],
   "source": [
    "%timeit a[0, 50]"
   ]
  },
  {
   "cell_type": "code",
   "execution_count": 16,
   "id": "aaee1b00-d714-4beb-97ef-3d023ef5ea9c",
   "metadata": {},
   "outputs": [
    {
     "name": "stdout",
     "output_type": "stream",
     "text": [
      "240 ns ± 11.5 ns per loop (mean ± std. dev. of 7 runs, 1,000,000 loops each)\n"
     ]
    }
   ],
   "source": [
    "a = np.arange(10000).reshape(100, 100)\n",
    "%timeit a[0][50]"
   ]
  },
  {
   "cell_type": "code",
   "execution_count": 18,
   "id": "204e0ab4-91bd-4409-b725-5676e3726e3a",
   "metadata": {},
   "outputs": [],
   "source": [
    "arr = np.arange(4)"
   ]
  },
  {
   "cell_type": "code",
   "execution_count": 22,
   "id": "ab399861-11b0-411e-a3cb-d5212aa57d22",
   "metadata": {},
   "outputs": [
    {
     "name": "stdout",
     "output_type": "stream",
     "text": [
      "[0 1 2 3]\n"
     ]
    }
   ],
   "source": [
    "print(arr[ : 4])"
   ]
  },
  {
   "cell_type": "code",
   "execution_count": 24,
   "id": "676605cb-9d52-4707-9e76-563e6c26f163",
   "metadata": {},
   "outputs": [],
   "source": [
    "arr = np.arange(8).reshape(4,2)"
   ]
  },
  {
   "cell_type": "code",
   "execution_count": 25,
   "id": "278af556-bfcc-4d95-96aa-ab8d114f3ef2",
   "metadata": {},
   "outputs": [
    {
     "name": "stdout",
     "output_type": "stream",
     "text": [
      "[[0 1]\n",
      " [2 3]\n",
      " [4 5]\n",
      " [6 7]]\n"
     ]
    }
   ],
   "source": [
    "print(arr)"
   ]
  },
  {
   "cell_type": "code",
   "execution_count": 27,
   "id": "9b6d047f-3eb7-4bb5-9146-08686a6be560",
   "metadata": {},
   "outputs": [
    {
     "name": "stdout",
     "output_type": "stream",
     "text": [
      "[[0 1]\n",
      " [2 3]]\n"
     ]
    }
   ],
   "source": [
    "print(arr[ :2])"
   ]
  },
  {
   "cell_type": "code",
   "execution_count": 31,
   "id": "34d75feb-d97a-4af2-bdce-fb33315ce2d0",
   "metadata": {},
   "outputs": [],
   "source": [
    "target = [0,2]"
   ]
  },
  {
   "cell_type": "code",
   "execution_count": 32,
   "id": "11b788d2-f76b-401f-be39-f9266259d4be",
   "metadata": {},
   "outputs": [
    {
     "name": "stdout",
     "output_type": "stream",
     "text": [
      "[[0 1]\n",
      " [4 5]]\n"
     ]
    }
   ],
   "source": [
    "print(arr[ target ])"
   ]
  },
  {
   "cell_type": "code",
   "execution_count": 33,
   "id": "d64921d4-2b81-4db0-b586-02153d74cff6",
   "metadata": {},
   "outputs": [
    {
     "name": "stdout",
     "output_type": "stream",
     "text": [
      "[[0 1]\n",
      " [4 5]]\n"
     ]
    }
   ],
   "source": [
    "print(arr[[0, 2]])"
   ]
  },
  {
   "cell_type": "code",
   "execution_count": 35,
   "id": "6b9aec5f-cd8c-4ff4-a3b3-1d009281b029",
   "metadata": {},
   "outputs": [
    {
     "name": "stdout",
     "output_type": "stream",
     "text": [
      "[[0 1 2 3 4]\n",
      " [5 6 7 8 9]]\n"
     ]
    }
   ],
   "source": [
    "arr = np.arange(20).reshape(4, 5)\n",
    "print(arr[ : 2])"
   ]
  },
  {
   "cell_type": "code",
   "execution_count": 36,
   "id": "b2d691ba-f9ad-4beb-b4df-1d7e287d42b7",
   "metadata": {},
   "outputs": [
    {
     "data": {
      "text/plain": [
       "array([[ 0,  1,  2,  3,  4],\n",
       "       [ 5,  6,  7,  8,  9],\n",
       "       [10, 11, 12, 13, 14],\n",
       "       [15, 16, 17, 18, 19]])"
      ]
     },
     "execution_count": 36,
     "metadata": {},
     "output_type": "execute_result"
    }
   ],
   "source": [
    "arr"
   ]
  },
  {
   "cell_type": "code",
   "execution_count": 37,
   "id": "8811d60c-6d2c-4c6b-82bb-a65c7ca1ea98",
   "metadata": {},
   "outputs": [
    {
     "data": {
      "text/plain": [
       "array([[0, 1, 2, 3, 4],\n",
       "       [5, 6, 7, 8, 9]])"
      ]
     },
     "execution_count": 37,
     "metadata": {},
     "output_type": "execute_result"
    }
   ],
   "source": [
    "arr[ : 2]"
   ]
  },
  {
   "cell_type": "code",
   "execution_count": 38,
   "id": "293b7c73-c6f1-4d69-9558-891d71a436bb",
   "metadata": {},
   "outputs": [],
   "source": [
    "result = []\n",
    "for i in arr:\n",
    "    row01 = [ i[0], i[1]]\n",
    "    result.append(row01)"
   ]
  },
  {
   "cell_type": "code",
   "execution_count": 39,
   "id": "3897b2c7-27b6-4d4f-ba7a-f5b686c899ce",
   "metadata": {},
   "outputs": [
    {
     "data": {
      "text/plain": [
       "[[0, 1], [5, 6], [10, 11], [15, 16]]"
      ]
     },
     "execution_count": 39,
     "metadata": {},
     "output_type": "execute_result"
    }
   ],
   "source": [
    "result"
   ]
  },
  {
   "cell_type": "code",
   "execution_count": 40,
   "id": "a3a591b3-745c-4285-98ee-65cce28e2f43",
   "metadata": {},
   "outputs": [
    {
     "data": {
      "text/plain": [
       "array([[ 0,  1],\n",
       "       [ 5,  6],\n",
       "       [10, 11],\n",
       "       [15, 16]])"
      ]
     },
     "execution_count": 40,
     "metadata": {},
     "output_type": "execute_result"
    }
   ],
   "source": [
    "arr[ :, :2]"
   ]
  },
  {
   "cell_type": "code",
   "execution_count": 41,
   "id": "f1b8f4b5-5f18-4a3b-a8bf-f3ba1b08d572",
   "metadata": {},
   "outputs": [
    {
     "data": {
      "text/plain": [
       "array([[0, 1],\n",
       "       [5, 6]])"
      ]
     },
     "execution_count": 41,
     "metadata": {},
     "output_type": "execute_result"
    }
   ],
   "source": [
    "arr[ :2, :2]"
   ]
  },
  {
   "cell_type": "code",
   "execution_count": 51,
   "id": "879927b9-4230-4e3d-9221-f9b1eea02e7e",
   "metadata": {},
   "outputs": [
    {
     "data": {
      "text/plain": [
       "array([[13]])"
      ]
     },
     "execution_count": 51,
     "metadata": {},
     "output_type": "execute_result"
    }
   ],
   "source": [
    "arr[2:3, 3:4]"
   ]
  },
  {
   "cell_type": "markdown",
   "id": "32568227-8344-43c4-ae70-2982b1b5df18",
   "metadata": {
    "jp-MarkdownHeadingCollapsed": true
   },
   "source": [
    "## 브로드캐스팅"
   ]
  },
  {
   "cell_type": "code",
   "execution_count": 52,
   "id": "9074a715-1b53-4116-a421-b961eddf5098",
   "metadata": {},
   "outputs": [
    {
     "name": "stdout",
     "output_type": "stream",
     "text": [
      "[3 5 7]\n",
      "[ 2  6 12]\n",
      "[1 2 3]\n"
     ]
    }
   ],
   "source": [
    "a = np.array([1, 2, 3])\n",
    "b = np.array([2, 3, 4])\n",
    "print(a + b)\n",
    "print(a * b)\n",
    "print(a % b)"
   ]
  },
  {
   "cell_type": "code",
   "execution_count": 53,
   "id": "d09c2dcd-1834-40a5-a0bb-121117980ad6",
   "metadata": {},
   "outputs": [
    {
     "name": "stdout",
     "output_type": "stream",
     "text": [
      "[4 5 6]\n"
     ]
    }
   ],
   "source": [
    "print(a + 3)"
   ]
  },
  {
   "cell_type": "code",
   "execution_count": 54,
   "id": "40f83939-5dec-48a4-b58b-c9f85c8ef06a",
   "metadata": {},
   "outputs": [],
   "source": [
    "c = np.arange(2)"
   ]
  },
  {
   "cell_type": "code",
   "execution_count": 55,
   "id": "59cacf84-478c-40cd-8a2d-4dcf3bfbfe68",
   "metadata": {},
   "outputs": [],
   "source": [
    "d = np.arange(6).reshape(3, 2)"
   ]
  },
  {
   "cell_type": "code",
   "execution_count": 60,
   "id": "5515a3ff-f8a9-4075-8063-bf3a2e95261c",
   "metadata": {},
   "outputs": [
    {
     "name": "stdout",
     "output_type": "stream",
     "text": [
      "[[0 2]\n",
      " [2 4]\n",
      " [4 6]]\n"
     ]
    }
   ],
   "source": [
    "print( c + d)"
   ]
  },
  {
   "cell_type": "code",
   "execution_count": 59,
   "id": "4ecd61ec-8fec-493a-bb9d-8a5612f3c4b3",
   "metadata": {},
   "outputs": [
    {
     "data": {
      "text/plain": [
       "array([[0, 1],\n",
       "       [2, 3],\n",
       "       [4, 5]])"
      ]
     },
     "execution_count": 59,
     "metadata": {},
     "output_type": "execute_result"
    }
   ],
   "source": [
    "d"
   ]
  },
  {
   "cell_type": "code",
   "execution_count": 62,
   "id": "c6b936c0-c814-4f5b-b91a-7ed973be2b7d",
   "metadata": {},
   "outputs": [],
   "source": [
    "e = np.arange(3).reshape(3,1)"
   ]
  },
  {
   "cell_type": "code",
   "execution_count": 63,
   "id": "a8eaaad4-ad78-45d9-9eb2-739880d8c4a2",
   "metadata": {},
   "outputs": [
    {
     "data": {
      "text/plain": [
       "array([[0],\n",
       "       [1],\n",
       "       [2]])"
      ]
     },
     "execution_count": 63,
     "metadata": {},
     "output_type": "execute_result"
    }
   ],
   "source": [
    "e"
   ]
  },
  {
   "cell_type": "code",
   "execution_count": 64,
   "id": "cb176ada-6519-40de-9123-3142f0110fdf",
   "metadata": {},
   "outputs": [
    {
     "data": {
      "text/plain": [
       "array([[0, 1],\n",
       "       [3, 4],\n",
       "       [6, 7]])"
      ]
     },
     "execution_count": 64,
     "metadata": {},
     "output_type": "execute_result"
    }
   ],
   "source": [
    "e + d"
   ]
  },
  {
   "cell_type": "code",
   "execution_count": 65,
   "id": "39ec59d8-1332-4cb7-a7d2-fcb969739cf3",
   "metadata": {},
   "outputs": [
    {
     "data": {
      "text/plain": [
       "array([[0, 1],\n",
       "       [3, 4],\n",
       "       [6, 7]])"
      ]
     },
     "execution_count": 65,
     "metadata": {},
     "output_type": "execute_result"
    }
   ],
   "source": [
    "e + d"
   ]
  },
  {
   "cell_type": "code",
   "execution_count": 69,
   "id": "2d5abbf3-3c00-47f2-9c95-20f871b79164",
   "metadata": {},
   "outputs": [],
   "source": [
    "high = [92700, 92400, 92100, 94300, 92300]\n",
    "low = [90000, 91100, 91700, 92100, 90900]\n",
    "\n",
    "arr_high = np.array(high)\n",
    "arr_low = np.array(low)"
   ]
  },
  {
   "cell_type": "code",
   "execution_count": 70,
   "id": "2c6257e7-a0d7-4a40-940a-4aa6d4a827bf",
   "metadata": {},
   "outputs": [],
   "source": [
    "arr_diff = arr_high - arr_low"
   ]
  },
  {
   "cell_type": "code",
   "execution_count": 71,
   "id": "76be8cb6-3fe1-44dd-b8d5-08895e3918fa",
   "metadata": {},
   "outputs": [
    {
     "name": "stdout",
     "output_type": "stream",
     "text": [
      "[2700 1300  400 2200 1400]\n"
     ]
    }
   ],
   "source": [
    "print(arr_diff)"
   ]
  },
  {
   "cell_type": "code",
   "execution_count": 2,
   "id": "14c24df1-c9e2-4fe6-8d58-4e885610fb1a",
   "metadata": {},
   "outputs": [],
   "source": [
    "data = [\n",
    "    [92700, 92400, 92100, 94300, 92300],\n",
    "    [90000, 91100, 91700, 92100, 90900]\n",
    "]"
   ]
  },
  {
   "cell_type": "code",
   "execution_count": 3,
   "id": "fef98db7-2d1e-4577-b98a-d247a436929c",
   "metadata": {},
   "outputs": [],
   "source": [
    "arr = np.array(data)"
   ]
  },
  {
   "cell_type": "code",
   "execution_count": 4,
   "id": "9b4445a1-4eac-4428-9278-ca723e2caf7c",
   "metadata": {},
   "outputs": [
    {
     "data": {
      "text/plain": [
       "array([[92700, 92400, 92100, 94300, 92300],\n",
       "       [90000, 91100, 91700, 92100, 90900]])"
      ]
     },
     "execution_count": 4,
     "metadata": {},
     "output_type": "execute_result"
    }
   ],
   "source": [
    "arr"
   ]
  },
  {
   "cell_type": "code",
   "execution_count": 5,
   "id": "5084ea5f-4dfb-49a3-8bd0-f70eda8758e7",
   "metadata": {},
   "outputs": [
    {
     "data": {
      "text/plain": [
       "array([458100, 459400, 459700, 467100, 458700])"
      ]
     },
     "execution_count": 5,
     "metadata": {},
     "output_type": "execute_result"
    }
   ],
   "source": [
    "arr[0]*3 + arr[1]*2"
   ]
  },
  {
   "cell_type": "code",
   "execution_count": 6,
   "id": "5c6a396b-ae75-47a9-9e3f-bef17016e6de",
   "metadata": {},
   "outputs": [],
   "source": [
    "weight = np.array([3,2]).reshape(2, 1)"
   ]
  },
  {
   "cell_type": "code",
   "execution_count": 7,
   "id": "04504571-152b-4b28-8791-8ca11401322e",
   "metadata": {},
   "outputs": [
    {
     "data": {
      "text/plain": [
       "array([[3],\n",
       "       [2]])"
      ]
     },
     "execution_count": 7,
     "metadata": {},
     "output_type": "execute_result"
    }
   ],
   "source": [
    "weight"
   ]
  },
  {
   "cell_type": "code",
   "execution_count": 8,
   "id": "d406c215-fb99-49a4-b8e0-cf484e968e3b",
   "metadata": {},
   "outputs": [
    {
     "data": {
      "text/plain": [
       "array([458100, 459400, 459700, 467100, 458700])"
      ]
     },
     "execution_count": 8,
     "metadata": {},
     "output_type": "execute_result"
    }
   ],
   "source": [
    "(weight*arr).sum(axis=0)"
   ]
  },
  {
   "cell_type": "code",
   "execution_count": 9,
   "id": "b71bce77-760d-4e73-95cf-8934d8ccb6cf",
   "metadata": {},
   "outputs": [
    {
     "data": {
      "text/plain": [
       "array([1391400,  911600])"
      ]
     },
     "execution_count": 9,
     "metadata": {},
     "output_type": "execute_result"
    }
   ],
   "source": [
    "(weight*arr).sum(axis=1)"
   ]
  },
  {
   "cell_type": "markdown",
   "id": "52499977-11ce-462e-9287-add056611351",
   "metadata": {},
   "source": [
    "## 조건연산"
   ]
  },
  {
   "cell_type": "code",
   "execution_count": 11,
   "id": "2994b653-3294-4aa7-9962-84dc07ce42da",
   "metadata": {},
   "outputs": [
    {
     "name": "stdout",
     "output_type": "stream",
     "text": [
      "[False  True  True]\n"
     ]
    }
   ],
   "source": [
    "arr = np.array([10, 20, 30])\n",
    "print(arr > 10)"
   ]
  },
  {
   "cell_type": "code",
   "execution_count": 15,
   "id": "05c09f66-8312-4a83-85cb-4fa70d5f93b0",
   "metadata": {},
   "outputs": [
    {
     "name": "stdout",
     "output_type": "stream",
     "text": [
      "[10 30]\n"
     ]
    }
   ],
   "source": [
    "arr = np.array([10, 20, 30])\n",
    "cond = [True, False, True]\n",
    "print(arr[ cond ])"
   ]
  },
  {
   "cell_type": "code",
   "execution_count": 16,
   "id": "6a6bea4a-304a-4be2-93b1-d6738cc6ed5f",
   "metadata": {},
   "outputs": [],
   "source": [
    "arr = np.array([10, 20, 30])\n",
    "cond = arr > 10"
   ]
  },
  {
   "cell_type": "code",
   "execution_count": 17,
   "id": "23783bcd-3b76-4aad-abf3-785cf9805aca",
   "metadata": {},
   "outputs": [
    {
     "data": {
      "text/plain": [
       "array([False,  True,  True])"
      ]
     },
     "execution_count": 17,
     "metadata": {},
     "output_type": "execute_result"
    }
   ],
   "source": [
    "cond"
   ]
  },
  {
   "cell_type": "code",
   "execution_count": 18,
   "id": "b8d489cd-4708-4fbb-a871-fcd1576f328e",
   "metadata": {},
   "outputs": [
    {
     "name": "stdout",
     "output_type": "stream",
     "text": [
      "[20 30]\n"
     ]
    }
   ],
   "source": [
    "print(arr[cond])"
   ]
  },
  {
   "cell_type": "code",
   "execution_count": 20,
   "id": "c9255783-ab89-4119-8699-fbc04fd5672a",
   "metadata": {},
   "outputs": [
    {
     "name": "stdout",
     "output_type": "stream",
     "text": [
      "[20 30]\n"
     ]
    }
   ],
   "source": [
    "print(arr[arr > 10])"
   ]
  },
  {
   "cell_type": "code",
   "execution_count": 21,
   "id": "bb375926-54a0-46ff-9207-47ec3e6acf17",
   "metadata": {},
   "outputs": [
    {
     "data": {
      "text/plain": [
       "False"
      ]
     },
     "execution_count": 21,
     "metadata": {},
     "output_type": "execute_result"
    }
   ],
   "source": [
    "cond.all()"
   ]
  },
  {
   "cell_type": "code",
   "execution_count": 22,
   "id": "ede6dfe4-3311-4bfc-b298-f7e7eab292ae",
   "metadata": {},
   "outputs": [
    {
     "data": {
      "text/plain": [
       "True"
      ]
     },
     "execution_count": 22,
     "metadata": {},
     "output_type": "execute_result"
    }
   ],
   "source": [
    "cond.any()"
   ]
  },
  {
   "cell_type": "code",
   "execution_count": 23,
   "id": "6a77ea0b-7575-402c-967b-60215546527c",
   "metadata": {},
   "outputs": [],
   "source": [
    "arr = np.array([10, 20, 30])"
   ]
  },
  {
   "cell_type": "code",
   "execution_count": 24,
   "id": "3644c5a3-f8ef-476e-8081-43439689816f",
   "metadata": {},
   "outputs": [],
   "source": [
    "cond0 = arr > 10"
   ]
  },
  {
   "cell_type": "code",
   "execution_count": 25,
   "id": "34312b99-9fed-4a9e-b412-cdb52823bee4",
   "metadata": {},
   "outputs": [],
   "source": [
    "cond1 = arr < 30"
   ]
  },
  {
   "cell_type": "code",
   "execution_count": 26,
   "id": "9b09c1a1-7bf4-400d-8e8d-02d2ea5d3b05",
   "metadata": {},
   "outputs": [
    {
     "name": "stdout",
     "output_type": "stream",
     "text": [
      "[20]\n"
     ]
    }
   ],
   "source": [
    "print(arr[cond0 & cond1])"
   ]
  },
  {
   "cell_type": "code",
   "execution_count": 28,
   "id": "da57d9cb-5d19-4ed7-bd78-778fe1cab9a6",
   "metadata": {},
   "outputs": [
    {
     "name": "stdout",
     "output_type": "stream",
     "text": [
      "[20]\n"
     ]
    }
   ],
   "source": [
    "print(arr[(arr > 10) & (arr < 30)])"
   ]
  },
  {
   "cell_type": "code",
   "execution_count": 29,
   "id": "82a44b18-6f15-4d91-8acf-cd8a08dbba91",
   "metadata": {},
   "outputs": [],
   "source": [
    "arr = np.array([10, 20, 30])"
   ]
  },
  {
   "cell_type": "code",
   "execution_count": 30,
   "id": "9512a1c9-0aef-493d-b7e5-d3dfdc1a6bbd",
   "metadata": {},
   "outputs": [],
   "source": [
    "cond = arr > 10"
   ]
  },
  {
   "cell_type": "code",
   "execution_count": 31,
   "id": "7fb1309f-38fc-4eac-839b-be5a794d97f9",
   "metadata": {},
   "outputs": [],
   "source": [
    "arr[cond] = 1"
   ]
  },
  {
   "cell_type": "code",
   "execution_count": 32,
   "id": "961927ab-efa1-4cc8-9ece-3f9efccb558a",
   "metadata": {},
   "outputs": [],
   "source": [
    "arr[~cond] = 0"
   ]
  },
  {
   "cell_type": "code",
   "execution_count": 33,
   "id": "b5583e45-a2ef-453d-ad9b-870d012a180e",
   "metadata": {},
   "outputs": [
    {
     "data": {
      "text/plain": [
       "array([False,  True,  True])"
      ]
     },
     "execution_count": 33,
     "metadata": {},
     "output_type": "execute_result"
    }
   ],
   "source": [
    "cond"
   ]
  },
  {
   "cell_type": "code",
   "execution_count": 34,
   "id": "78f62bf0-f8d4-45c5-a326-59b695fa8589",
   "metadata": {},
   "outputs": [
    {
     "data": {
      "text/plain": [
       "array([0, 1, 1])"
      ]
     },
     "execution_count": 34,
     "metadata": {},
     "output_type": "execute_result"
    }
   ],
   "source": [
    "arr"
   ]
  },
  {
   "cell_type": "code",
   "execution_count": 35,
   "id": "066e8e0f-9dcb-42d3-8b25-54f792a3c8af",
   "metadata": {},
   "outputs": [],
   "source": [
    "arr = np.array([10, 20, 30])"
   ]
  },
  {
   "cell_type": "code",
   "execution_count": 36,
   "id": "a1dfe059-1d6d-4dba-956f-da850d7d1089",
   "metadata": {},
   "outputs": [],
   "source": [
    "arr = np.where(arr > 10, 1, 0)"
   ]
  },
  {
   "cell_type": "code",
   "execution_count": 37,
   "id": "a31b8160-8bc1-4e8f-a83b-fbed85c0bca0",
   "metadata": {},
   "outputs": [
    {
     "name": "stdout",
     "output_type": "stream",
     "text": [
      "[0 1 1]\n"
     ]
    }
   ],
   "source": [
    "print(arr)"
   ]
  },
  {
   "cell_type": "code",
   "execution_count": 38,
   "id": "869ba4c1-a820-4e3c-bfef-d3467a532428",
   "metadata": {},
   "outputs": [],
   "source": [
    "arr = np.array([10, 20, 30])"
   ]
  },
  {
   "cell_type": "code",
   "execution_count": 39,
   "id": "aa3be84c-48e9-460c-82a7-f9c455a400ca",
   "metadata": {},
   "outputs": [],
   "source": [
    "arr = np.where(arr >10, arr + 10, arr - 10)"
   ]
  },
  {
   "cell_type": "code",
   "execution_count": 40,
   "id": "d9c4df5f-94f5-40bf-93f6-366939f54fd7",
   "metadata": {},
   "outputs": [
    {
     "name": "stdout",
     "output_type": "stream",
     "text": [
      "[ 0 30 40]\n"
     ]
    }
   ],
   "source": [
    "print(arr)"
   ]
  },
  {
   "cell_type": "markdown",
   "id": "3e132ebf-d7d9-40ec-b506-e725841f21c2",
   "metadata": {},
   "source": [
    "## 함수와 메서드"
   ]
  },
  {
   "cell_type": "code",
   "execution_count": 41,
   "id": "9a54123c-ec18-4e81-9866-894d978bb6c2",
   "metadata": {},
   "outputs": [],
   "source": [
    "arr = np.arange(8).reshape(4,2)"
   ]
  },
  {
   "cell_type": "code",
   "execution_count": 42,
   "id": "caad1ebf-8487-4bbe-b819-1c8414a59c3d",
   "metadata": {},
   "outputs": [
    {
     "name": "stdout",
     "output_type": "stream",
     "text": [
      "28\n"
     ]
    }
   ],
   "source": [
    "print(arr.sum())"
   ]
  },
  {
   "cell_type": "code",
   "execution_count": 43,
   "id": "9c656858-2969-4de4-9aa7-6c97244b94ba",
   "metadata": {},
   "outputs": [
    {
     "data": {
      "text/plain": [
       "array([[0, 1],\n",
       "       [2, 3],\n",
       "       [4, 5],\n",
       "       [6, 7]])"
      ]
     },
     "execution_count": 43,
     "metadata": {},
     "output_type": "execute_result"
    }
   ],
   "source": [
    "arr"
   ]
  },
  {
   "cell_type": "code",
   "execution_count": 44,
   "id": "42b11a66-ff03-4f0a-865b-47bbe172e955",
   "metadata": {},
   "outputs": [
    {
     "name": "stdout",
     "output_type": "stream",
     "text": [
      "[12 16]\n"
     ]
    }
   ],
   "source": [
    "print(arr.sum(axis=0))"
   ]
  },
  {
   "cell_type": "code",
   "execution_count": 45,
   "id": "d3c4dca7-5cab-4040-8a02-56019afd36e9",
   "metadata": {},
   "outputs": [
    {
     "name": "stdout",
     "output_type": "stream",
     "text": [
      "[ 1  5  9 13]\n"
     ]
    }
   ],
   "source": [
    "print(arr.sum(axis=1))"
   ]
  },
  {
   "cell_type": "code",
   "execution_count": 46,
   "id": "80b60365-87b5-479a-97c1-8e4e98c89f77",
   "metadata": {},
   "outputs": [
    {
     "data": {
      "text/plain": [
       "2"
      ]
     },
     "execution_count": 46,
     "metadata": {},
     "output_type": "execute_result"
    }
   ],
   "source": [
    "np.random.randint(3)"
   ]
  },
  {
   "cell_type": "code",
   "execution_count": 47,
   "id": "0f18f854-90ce-4316-bbca-4751a40f0d98",
   "metadata": {},
   "outputs": [
    {
     "data": {
      "text/plain": [
       "array([410, 320, 365,  18, 203])"
      ]
     },
     "execution_count": 47,
     "metadata": {},
     "output_type": "execute_result"
    }
   ],
   "source": [
    "np.random.randint(456, size = 5)"
   ]
  },
  {
   "cell_type": "code",
   "execution_count": 48,
   "id": "37092ee0-5e8c-496c-ac97-5b0b9cb6731b",
   "metadata": {},
   "outputs": [
    {
     "data": {
      "text/plain": [
       "array([[33, 14, 14, 32, 35],\n",
       "       [40, 23, 38, 32, 39]])"
      ]
     },
     "execution_count": 48,
     "metadata": {},
     "output_type": "execute_result"
    }
   ],
   "source": [
    "np.random.randint(46, size = (2, 5))"
   ]
  },
  {
   "cell_type": "code",
   "execution_count": 49,
   "id": "3944786a-fdd9-44c5-bbaa-787428e8540c",
   "metadata": {},
   "outputs": [],
   "source": [
    "x = np.linspace(0, 10, 3)"
   ]
  },
  {
   "cell_type": "code",
   "execution_count": 50,
   "id": "3a632cb7-2dd3-43f0-b627-129cb6c0805f",
   "metadata": {},
   "outputs": [
    {
     "data": {
      "text/plain": [
       "array([ 0.,  5., 10.])"
      ]
     },
     "execution_count": 50,
     "metadata": {},
     "output_type": "execute_result"
    }
   ],
   "source": [
    "x"
   ]
  },
  {
   "cell_type": "code",
   "execution_count": 1,
   "id": "7e7d769b-ccb8-4285-93f6-36cd7571a5e2",
   "metadata": {},
   "outputs": [],
   "source": [
    "import numpy as np"
   ]
  },
  {
   "cell_type": "code",
   "execution_count": 2,
   "id": "c4e7c2ac-3bc6-4cba-8604-3233629c1c48",
   "metadata": {},
   "outputs": [],
   "source": [
    "a = np.arange(4)"
   ]
  },
  {
   "cell_type": "code",
   "execution_count": 3,
   "id": "9dd991b4-7529-4e6c-8cc5-d46782137238",
   "metadata": {},
   "outputs": [],
   "source": [
    "b = np.arange(4, 8)"
   ]
  },
  {
   "cell_type": "code",
   "execution_count": 4,
   "id": "2c40b13c-6a94-4553-8a17-d9de68372110",
   "metadata": {},
   "outputs": [],
   "source": [
    "c = np.vstack([a,b])"
   ]
  },
  {
   "cell_type": "code",
   "execution_count": 5,
   "id": "4b2678c2-86f6-4fa6-921c-2920b0fea006",
   "metadata": {},
   "outputs": [
    {
     "data": {
      "text/plain": [
       "array([[0, 1, 2, 3],\n",
       "       [4, 5, 6, 7]])"
      ]
     },
     "execution_count": 5,
     "metadata": {},
     "output_type": "execute_result"
    }
   ],
   "source": [
    "c"
   ]
  },
  {
   "cell_type": "code",
   "execution_count": 6,
   "id": "03c9ac58-8f29-4517-8008-4699cab523f5",
   "metadata": {},
   "outputs": [],
   "source": [
    "d = np.random.randint(400, size = 4)"
   ]
  },
  {
   "cell_type": "code",
   "execution_count": 7,
   "id": "ed76e36f-9d9c-4d64-a6db-c726bde7fe0d",
   "metadata": {},
   "outputs": [
    {
     "data": {
      "text/plain": [
       "array([320, 113,  88, 313])"
      ]
     },
     "execution_count": 7,
     "metadata": {},
     "output_type": "execute_result"
    }
   ],
   "source": [
    "d"
   ]
  },
  {
   "cell_type": "code",
   "execution_count": 8,
   "id": "44bee9b1-8589-4e7d-b1cc-411e84bde651",
   "metadata": {},
   "outputs": [
    {
     "data": {
      "text/plain": [
       "array([[  0,   1,   2,   3],\n",
       "       [320, 113,  88, 313]])"
      ]
     },
     "execution_count": 8,
     "metadata": {},
     "output_type": "execute_result"
    }
   ],
   "source": [
    "np.vstack([a,d])"
   ]
  },
  {
   "cell_type": "code",
   "execution_count": null,
   "id": "f6ca3104-51e4-4c99-a715-b4c6c94588b7",
   "metadata": {},
   "outputs": [],
   "source": []
  }
 ],
 "metadata": {
  "kernelspec": {
   "display_name": "Python 3 (ipykernel)",
   "language": "python",
   "name": "python3"
  },
  "language_info": {
   "codemirror_mode": {
    "name": "ipython",
    "version": 3
   },
   "file_extension": ".py",
   "mimetype": "text/x-python",
   "name": "python",
   "nbconvert_exporter": "python",
   "pygments_lexer": "ipython3",
   "version": "3.11.8"
  }
 },
 "nbformat": 4,
 "nbformat_minor": 5
}
