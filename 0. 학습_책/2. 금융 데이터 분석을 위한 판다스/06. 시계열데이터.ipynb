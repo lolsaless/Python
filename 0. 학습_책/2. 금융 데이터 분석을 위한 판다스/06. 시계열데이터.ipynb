{
 "cells": [
  {
   "cell_type": "markdown",
   "metadata": {},
   "source": [
    "### 6.1 Timestamp"
   ]
  },
  {
   "cell_type": "code",
   "execution_count": 1,
   "metadata": {},
   "outputs": [
    {
     "name": "stderr",
     "output_type": "stream",
     "text": [
      "/var/folders/r6/411_jjk54hsdvvzw1y199tdm0000gn/T/ipykernel_19771/4080736814.py:1: DeprecationWarning: \n",
      "Pyarrow will become a required dependency of pandas in the next major release of pandas (pandas 3.0),\n",
      "(to allow more performant data types, such as the Arrow string type, and better interoperability with other libraries)\n",
      "but was not found to be installed on your system.\n",
      "If this would cause problems for you,\n",
      "please provide us feedback at https://github.com/pandas-dev/pandas/issues/54466\n",
      "        \n",
      "  import pandas as pd\n"
     ]
    }
   ],
   "source": [
    "import pandas as pd"
   ]
  },
  {
   "cell_type": "code",
   "execution_count": 2,
   "metadata": {},
   "outputs": [
    {
     "name": "stdout",
     "output_type": "stream",
     "text": [
      "<class 'pandas._libs.tslibs.timestamps.Timestamp'>\n",
      "2024-02-26 00:00:00\n"
     ]
    }
   ],
   "source": [
    "ts = pd.to_datetime(\"2024-02-26\")\n",
    "print(type(ts))\n",
    "print(ts)"
   ]
  },
  {
   "cell_type": "code",
   "execution_count": 3,
   "metadata": {},
   "outputs": [
    {
     "name": "stdout",
     "output_type": "stream",
     "text": [
      "2024-02-26 10:49:59\n"
     ]
    }
   ],
   "source": [
    "ts = pd.to_datetime(\"2024-02-26 10:49:59\")\n",
    "print(ts)"
   ]
  },
  {
   "cell_type": "code",
   "execution_count": 4,
   "metadata": {},
   "outputs": [
    {
     "name": "stdout",
     "output_type": "stream",
     "text": [
      "2024-02-26 09:00:00\n"
     ]
    }
   ],
   "source": [
    "print(pd.to_datetime(\"20240226 090000\"))"
   ]
  },
  {
   "cell_type": "code",
   "execution_count": 5,
   "metadata": {},
   "outputs": [
    {
     "name": "stdout",
     "output_type": "stream",
     "text": [
      "2020-07-06 00:00:00\n"
     ]
    }
   ],
   "source": [
    "print(pd.to_datetime(\"06/07/20\", format=\"%d/%m/%y\"))"
   ]
  },
  {
   "cell_type": "code",
   "execution_count": 6,
   "metadata": {},
   "outputs": [
    {
     "name": "stdout",
     "output_type": "stream",
     "text": [
      "2021\n"
     ]
    }
   ],
   "source": [
    "ts = pd.to_datetime(\"20210814\")\n",
    "print(ts.year)"
   ]
  },
  {
   "cell_type": "code",
   "execution_count": 7,
   "metadata": {},
   "outputs": [
    {
     "data": {
      "text/plain": [
       "0"
      ]
     },
     "execution_count": 7,
     "metadata": {},
     "output_type": "execute_result"
    }
   ],
   "source": [
    "ts.hour"
   ]
  },
  {
   "cell_type": "code",
   "execution_count": 8,
   "metadata": {},
   "outputs": [
    {
     "name": "stdout",
     "output_type": "stream",
     "text": [
      "5\n"
     ]
    }
   ],
   "source": [
    "ts = pd.to_datetime(\"20210814\")\n",
    "print(ts.weekday())"
   ]
  },
  {
   "cell_type": "code",
   "execution_count": 9,
   "metadata": {},
   "outputs": [
    {
     "name": "stdout",
     "output_type": "stream",
     "text": [
      "2021-08-14\n"
     ]
    }
   ],
   "source": [
    "print(ts.strftime(\"%Y-%m-%d\"))"
   ]
  },
  {
   "cell_type": "code",
   "execution_count": 10,
   "metadata": {},
   "outputs": [
    {
     "name": "stdout",
     "output_type": "stream",
     "text": [
      "100 days 02:30:30\n"
     ]
    }
   ],
   "source": [
    "diff = pd.Timedelta(days = 100, hours = 2, minutes = 30, seconds = 30)\n",
    "print(diff)"
   ]
  },
  {
   "cell_type": "code",
   "execution_count": 11,
   "metadata": {},
   "outputs": [
    {
     "name": "stdout",
     "output_type": "stream",
     "text": [
      "2021-11-22 02:30:30\n"
     ]
    }
   ],
   "source": [
    "print(ts + diff)"
   ]
  },
  {
   "cell_type": "code",
   "execution_count": 12,
   "metadata": {},
   "outputs": [
    {
     "data": {
      "text/plain": [
       "Timestamp('2021-08-14 00:00:00')"
      ]
     },
     "execution_count": 12,
     "metadata": {},
     "output_type": "execute_result"
    }
   ],
   "source": [
    "ts"
   ]
  },
  {
   "cell_type": "code",
   "execution_count": 13,
   "metadata": {},
   "outputs": [
    {
     "name": "stdout",
     "output_type": "stream",
     "text": [
      "DatetimeIndex(['2021-01-01', '2021-01-02', '2021-01-03'], dtype='datetime64[ns]', freq=None)\n"
     ]
    }
   ],
   "source": [
    "candidates = [\"20210101\", \"20210102\", \"20210103\"]\n",
    "idx = pd.to_datetime(candidates)\n",
    "print(idx)"
   ]
  },
  {
   "cell_type": "code",
   "execution_count": 14,
   "metadata": {},
   "outputs": [
    {
     "name": "stdout",
     "output_type": "stream",
     "text": [
      "2021-01-01 00:00:00\n"
     ]
    }
   ],
   "source": [
    "print(idx[0])"
   ]
  },
  {
   "cell_type": "code",
   "execution_count": 15,
   "metadata": {},
   "outputs": [
    {
     "name": "stdout",
     "output_type": "stream",
     "text": [
      "Index([2021, 2021, 2021], dtype='int32')\n"
     ]
    }
   ],
   "source": [
    "print(idx.year)"
   ]
  },
  {
   "cell_type": "code",
   "execution_count": 16,
   "metadata": {},
   "outputs": [
    {
     "name": "stdout",
     "output_type": "stream",
     "text": [
      "Index([1, 2, 3], dtype='int32')\n"
     ]
    }
   ],
   "source": [
    "print(idx.day)"
   ]
  },
  {
   "cell_type": "code",
   "execution_count": 17,
   "metadata": {},
   "outputs": [
    {
     "name": "stdout",
     "output_type": "stream",
     "text": [
      "51.652054794520545\n"
     ]
    }
   ],
   "source": [
    "day = 1628899200/60/60/24\n",
    "year = day/365\n",
    "print(year)"
   ]
  },
  {
   "cell_type": "code",
   "execution_count": 18,
   "metadata": {},
   "outputs": [
    {
     "name": "stdout",
     "output_type": "stream",
     "text": [
      "2021-08-14 00:00:00\n"
     ]
    }
   ],
   "source": [
    "dt = pd.to_datetime(1628899200, unit=\"s\")\n",
    "print(dt)"
   ]
  },
  {
   "cell_type": "code",
   "execution_count": 19,
   "metadata": {},
   "outputs": [
    {
     "data": {
      "text/html": [
       "<div>\n",
       "<style scoped>\n",
       "    .dataframe tbody tr th:only-of-type {\n",
       "        vertical-align: middle;\n",
       "    }\n",
       "\n",
       "    .dataframe tbody tr th {\n",
       "        vertical-align: top;\n",
       "    }\n",
       "\n",
       "    .dataframe thead th {\n",
       "        text-align: right;\n",
       "    }\n",
       "</style>\n",
       "<table border=\"1\" class=\"dataframe\">\n",
       "  <thead>\n",
       "    <tr style=\"text-align: right;\">\n",
       "      <th></th>\n",
       "      <th>시가</th>\n",
       "      <th>고가</th>\n",
       "      <th>저가</th>\n",
       "      <th>종가</th>\n",
       "    </tr>\n",
       "  </thead>\n",
       "  <tbody>\n",
       "    <tr>\n",
       "      <th>0</th>\n",
       "      <td>272</td>\n",
       "      <td>441</td>\n",
       "      <td>261</td>\n",
       "      <td>125</td>\n",
       "    </tr>\n",
       "    <tr>\n",
       "      <th>1</th>\n",
       "      <td>147</td>\n",
       "      <td>148</td>\n",
       "      <td>460</td>\n",
       "      <td>423</td>\n",
       "    </tr>\n",
       "    <tr>\n",
       "      <th>2</th>\n",
       "      <td>217</td>\n",
       "      <td>405</td>\n",
       "      <td>328</td>\n",
       "      <td>459</td>\n",
       "    </tr>\n",
       "    <tr>\n",
       "      <th>3</th>\n",
       "      <td>292</td>\n",
       "      <td>169</td>\n",
       "      <td>351</td>\n",
       "      <td>391</td>\n",
       "    </tr>\n",
       "    <tr>\n",
       "      <th>4</th>\n",
       "      <td>423</td>\n",
       "      <td>269</td>\n",
       "      <td>221</td>\n",
       "      <td>214</td>\n",
       "    </tr>\n",
       "    <tr>\n",
       "      <th>...</th>\n",
       "      <td>...</td>\n",
       "      <td>...</td>\n",
       "      <td>...</td>\n",
       "      <td>...</td>\n",
       "    </tr>\n",
       "    <tr>\n",
       "      <th>95</th>\n",
       "      <td>327</td>\n",
       "      <td>125</td>\n",
       "      <td>447</td>\n",
       "      <td>327</td>\n",
       "    </tr>\n",
       "    <tr>\n",
       "      <th>96</th>\n",
       "      <td>379</td>\n",
       "      <td>477</td>\n",
       "      <td>268</td>\n",
       "      <td>461</td>\n",
       "    </tr>\n",
       "    <tr>\n",
       "      <th>97</th>\n",
       "      <td>307</td>\n",
       "      <td>474</td>\n",
       "      <td>472</td>\n",
       "      <td>374</td>\n",
       "    </tr>\n",
       "    <tr>\n",
       "      <th>98</th>\n",
       "      <td>497</td>\n",
       "      <td>217</td>\n",
       "      <td>392</td>\n",
       "      <td>473</td>\n",
       "    </tr>\n",
       "    <tr>\n",
       "      <th>99</th>\n",
       "      <td>473</td>\n",
       "      <td>183</td>\n",
       "      <td>276</td>\n",
       "      <td>390</td>\n",
       "    </tr>\n",
       "  </tbody>\n",
       "</table>\n",
       "<p>100 rows × 4 columns</p>\n",
       "</div>"
      ],
      "text/plain": [
       "     시가   고가   저가   종가\n",
       "0   272  441  261  125\n",
       "1   147  148  460  423\n",
       "2   217  405  328  459\n",
       "3   292  169  351  391\n",
       "4   423  269  221  214\n",
       "..  ...  ...  ...  ...\n",
       "95  327  125  447  327\n",
       "96  379  477  268  461\n",
       "97  307  474  472  374\n",
       "98  497  217  392  473\n",
       "99  473  183  276  390\n",
       "\n",
       "[100 rows x 4 columns]"
      ]
     },
     "execution_count": 19,
     "metadata": {},
     "output_type": "execute_result"
    }
   ],
   "source": [
    "import pandas as pd\n",
    "import numpy as np\n",
    "\n",
    "# 임의의 숫자를 생성하여 데이터 프레임 만들기\n",
    "np.random.seed(0)  # 결과의 일관성을 위해 시드 설정\n",
    "data = {\n",
    "    \"시가\": np.random.randint(100, 500, size=100),\n",
    "    \"고가\": np.random.randint(100, 500, size=100),\n",
    "    \"저가\": np.random.randint(100, 500, size=100),\n",
    "    \"종가\": np.random.randint(100, 500, size=100)\n",
    "}\n",
    "\n",
    "df = pd.DataFrame(data)\n",
    "df"
   ]
  },
  {
   "cell_type": "code",
   "execution_count": 20,
   "metadata": {},
   "outputs": [
    {
     "data": {
      "text/html": [
       "<div>\n",
       "<style scoped>\n",
       "    .dataframe tbody tr th:only-of-type {\n",
       "        vertical-align: middle;\n",
       "    }\n",
       "\n",
       "    .dataframe tbody tr th {\n",
       "        vertical-align: top;\n",
       "    }\n",
       "\n",
       "    .dataframe thead th {\n",
       "        text-align: right;\n",
       "    }\n",
       "</style>\n",
       "<table border=\"1\" class=\"dataframe\">\n",
       "  <thead>\n",
       "    <tr style=\"text-align: right;\">\n",
       "      <th></th>\n",
       "      <th>시가</th>\n",
       "      <th>고가</th>\n",
       "      <th>저가</th>\n",
       "      <th>종가</th>\n",
       "    </tr>\n",
       "  </thead>\n",
       "  <tbody>\n",
       "    <tr>\n",
       "      <th>2020-06-01</th>\n",
       "      <td>272</td>\n",
       "      <td>441</td>\n",
       "      <td>261</td>\n",
       "      <td>125</td>\n",
       "    </tr>\n",
       "    <tr>\n",
       "      <th>2020-06-02</th>\n",
       "      <td>147</td>\n",
       "      <td>148</td>\n",
       "      <td>460</td>\n",
       "      <td>423</td>\n",
       "    </tr>\n",
       "    <tr>\n",
       "      <th>2020-06-03</th>\n",
       "      <td>217</td>\n",
       "      <td>405</td>\n",
       "      <td>328</td>\n",
       "      <td>459</td>\n",
       "    </tr>\n",
       "    <tr>\n",
       "      <th>2020-06-04</th>\n",
       "      <td>292</td>\n",
       "      <td>169</td>\n",
       "      <td>351</td>\n",
       "      <td>391</td>\n",
       "    </tr>\n",
       "    <tr>\n",
       "      <th>2020-06-05</th>\n",
       "      <td>423</td>\n",
       "      <td>269</td>\n",
       "      <td>221</td>\n",
       "      <td>214</td>\n",
       "    </tr>\n",
       "    <tr>\n",
       "      <th>...</th>\n",
       "      <td>...</td>\n",
       "      <td>...</td>\n",
       "      <td>...</td>\n",
       "      <td>...</td>\n",
       "    </tr>\n",
       "    <tr>\n",
       "      <th>2020-09-04</th>\n",
       "      <td>327</td>\n",
       "      <td>125</td>\n",
       "      <td>447</td>\n",
       "      <td>327</td>\n",
       "    </tr>\n",
       "    <tr>\n",
       "      <th>2020-09-05</th>\n",
       "      <td>379</td>\n",
       "      <td>477</td>\n",
       "      <td>268</td>\n",
       "      <td>461</td>\n",
       "    </tr>\n",
       "    <tr>\n",
       "      <th>2020-09-06</th>\n",
       "      <td>307</td>\n",
       "      <td>474</td>\n",
       "      <td>472</td>\n",
       "      <td>374</td>\n",
       "    </tr>\n",
       "    <tr>\n",
       "      <th>2020-09-07</th>\n",
       "      <td>497</td>\n",
       "      <td>217</td>\n",
       "      <td>392</td>\n",
       "      <td>473</td>\n",
       "    </tr>\n",
       "    <tr>\n",
       "      <th>2020-09-08</th>\n",
       "      <td>473</td>\n",
       "      <td>183</td>\n",
       "      <td>276</td>\n",
       "      <td>390</td>\n",
       "    </tr>\n",
       "  </tbody>\n",
       "</table>\n",
       "<p>100 rows × 4 columns</p>\n",
       "</div>"
      ],
      "text/plain": [
       "             시가   고가   저가   종가\n",
       "2020-06-01  272  441  261  125\n",
       "2020-06-02  147  148  460  423\n",
       "2020-06-03  217  405  328  459\n",
       "2020-06-04  292  169  351  391\n",
       "2020-06-05  423  269  221  214\n",
       "...         ...  ...  ...  ...\n",
       "2020-09-04  327  125  447  327\n",
       "2020-09-05  379  477  268  461\n",
       "2020-09-06  307  474  472  374\n",
       "2020-09-07  497  217  392  473\n",
       "2020-09-08  473  183  276  390\n",
       "\n",
       "[100 rows x 4 columns]"
      ]
     },
     "execution_count": 20,
     "metadata": {},
     "output_type": "execute_result"
    }
   ],
   "source": [
    "# 기존 데이터 프레임에 날짜 인덱스 추가\n",
    "date_index = pd.date_range(start=\"2020-06-01\", periods=100)\n",
    "df.index = date_index\n",
    "df\n"
   ]
  },
  {
   "cell_type": "code",
   "execution_count": 21,
   "metadata": {},
   "outputs": [
    {
     "name": "stdout",
     "output_type": "stream",
     "text": [
      "시가    272\n",
      "고가    441\n",
      "저가    261\n",
      "종가    125\n",
      "Name: 2020-06-01 00:00:00, dtype: int64\n"
     ]
    }
   ],
   "source": [
    "print(df.loc[\"2020-06-01\"])"
   ]
  },
  {
   "cell_type": "markdown",
   "metadata": {},
   "source": [
    "### 6.2 시계열 데이터 활용"
   ]
  },
  {
   "cell_type": "code",
   "execution_count": 28,
   "metadata": {},
   "outputs": [],
   "source": [
    "import pandas as pd"
   ]
  },
  {
   "cell_type": "code",
   "execution_count": 29,
   "metadata": {},
   "outputs": [
    {
     "name": "stderr",
     "output_type": "stream",
     "text": [
      "/Library/Frameworks/Python.framework/Versions/3.12/lib/python3.12/site-packages/openpyxl/styles/stylesheet.py:226: UserWarning: Workbook contains no default style, apply openpyxl's default\n",
      "  warn(\"Workbook contains no default style, apply openpyxl's default\")\n"
     ]
    }
   ],
   "source": [
    "df = pd.read_excel(\"/Users/time/Documents/GitHub/Python/0. 학습_책/2. 금융 데이터 분석을 위한 판다스/학습자료/ch06/data/ss_ex_1.xlsx\", index_col = 0)"
   ]
  },
  {
   "cell_type": "code",
   "execution_count": 30,
   "metadata": {},
   "outputs": [
    {
     "data": {
      "text/html": [
       "<div>\n",
       "<style scoped>\n",
       "    .dataframe tbody tr th:only-of-type {\n",
       "        vertical-align: middle;\n",
       "    }\n",
       "\n",
       "    .dataframe tbody tr th {\n",
       "        vertical-align: top;\n",
       "    }\n",
       "\n",
       "    .dataframe thead th {\n",
       "        text-align: right;\n",
       "    }\n",
       "</style>\n",
       "<table border=\"1\" class=\"dataframe\">\n",
       "  <thead>\n",
       "    <tr style=\"text-align: right;\">\n",
       "      <th></th>\n",
       "      <th>종가</th>\n",
       "      <th>대비</th>\n",
       "      <th>등락률</th>\n",
       "      <th>시가</th>\n",
       "      <th>고가</th>\n",
       "      <th>저가</th>\n",
       "      <th>거래량</th>\n",
       "      <th>거래대금</th>\n",
       "      <th>시가총액</th>\n",
       "      <th>상장주식수</th>\n",
       "    </tr>\n",
       "    <tr>\n",
       "      <th>일자</th>\n",
       "      <th></th>\n",
       "      <th></th>\n",
       "      <th></th>\n",
       "      <th></th>\n",
       "      <th></th>\n",
       "      <th></th>\n",
       "      <th></th>\n",
       "      <th></th>\n",
       "      <th></th>\n",
       "      <th></th>\n",
       "    </tr>\n",
       "  </thead>\n",
       "  <tbody>\n",
       "    <tr>\n",
       "      <th>2021/08/13</th>\n",
       "      <td>74400</td>\n",
       "      <td>-2600</td>\n",
       "      <td>-3.38</td>\n",
       "      <td>75800</td>\n",
       "      <td>76000</td>\n",
       "      <td>74100</td>\n",
       "      <td>61270643</td>\n",
       "      <td>4575267536355</td>\n",
       "      <td>444151821720000</td>\n",
       "      <td>5969782550</td>\n",
       "    </tr>\n",
       "    <tr>\n",
       "      <th>2021/08/12</th>\n",
       "      <td>77000</td>\n",
       "      <td>-1500</td>\n",
       "      <td>-1.91</td>\n",
       "      <td>77100</td>\n",
       "      <td>78200</td>\n",
       "      <td>76900</td>\n",
       "      <td>42365223</td>\n",
       "      <td>3276635421700</td>\n",
       "      <td>459673256350000</td>\n",
       "      <td>5969782550</td>\n",
       "    </tr>\n",
       "    <tr>\n",
       "      <th>2021/08/11</th>\n",
       "      <td>78500</td>\n",
       "      <td>-1700</td>\n",
       "      <td>-2.12</td>\n",
       "      <td>79600</td>\n",
       "      <td>79800</td>\n",
       "      <td>78500</td>\n",
       "      <td>30241137</td>\n",
       "      <td>2389977254924</td>\n",
       "      <td>468627930175000</td>\n",
       "      <td>5969782550</td>\n",
       "    </tr>\n",
       "    <tr>\n",
       "      <th>2021/08/10</th>\n",
       "      <td>80200</td>\n",
       "      <td>-1300</td>\n",
       "      <td>-1.60</td>\n",
       "      <td>82300</td>\n",
       "      <td>82400</td>\n",
       "      <td>80100</td>\n",
       "      <td>20362639</td>\n",
       "      <td>1643107615500</td>\n",
       "      <td>478776560510000</td>\n",
       "      <td>5969782550</td>\n",
       "    </tr>\n",
       "    <tr>\n",
       "      <th>2021/08/09</th>\n",
       "      <td>81500</td>\n",
       "      <td>0</td>\n",
       "      <td>0.00</td>\n",
       "      <td>81500</td>\n",
       "      <td>82300</td>\n",
       "      <td>80900</td>\n",
       "      <td>15522581</td>\n",
       "      <td>1267668377900</td>\n",
       "      <td>486537277825000</td>\n",
       "      <td>5969782550</td>\n",
       "    </tr>\n",
       "    <tr>\n",
       "      <th>...</th>\n",
       "      <td>...</td>\n",
       "      <td>...</td>\n",
       "      <td>...</td>\n",
       "      <td>...</td>\n",
       "      <td>...</td>\n",
       "      <td>...</td>\n",
       "      <td>...</td>\n",
       "      <td>...</td>\n",
       "      <td>...</td>\n",
       "      <td>...</td>\n",
       "    </tr>\n",
       "    <tr>\n",
       "      <th>2021/02/19</th>\n",
       "      <td>82600</td>\n",
       "      <td>500</td>\n",
       "      <td>0.61</td>\n",
       "      <td>82300</td>\n",
       "      <td>82800</td>\n",
       "      <td>81000</td>\n",
       "      <td>25880879</td>\n",
       "      <td>2121275310450</td>\n",
       "      <td>493104038630000</td>\n",
       "      <td>5969782550</td>\n",
       "    </tr>\n",
       "    <tr>\n",
       "      <th>2021/02/18</th>\n",
       "      <td>82100</td>\n",
       "      <td>-1100</td>\n",
       "      <td>-1.32</td>\n",
       "      <td>83200</td>\n",
       "      <td>83600</td>\n",
       "      <td>82100</td>\n",
       "      <td>21327683</td>\n",
       "      <td>1762033944231</td>\n",
       "      <td>490119147355000</td>\n",
       "      <td>5969782550</td>\n",
       "    </tr>\n",
       "    <tr>\n",
       "      <th>2021/02/17</th>\n",
       "      <td>83200</td>\n",
       "      <td>-1700</td>\n",
       "      <td>-2.00</td>\n",
       "      <td>83900</td>\n",
       "      <td>84200</td>\n",
       "      <td>83000</td>\n",
       "      <td>18307735</td>\n",
       "      <td>1526409421172</td>\n",
       "      <td>496685908160000</td>\n",
       "      <td>5969782550</td>\n",
       "    </tr>\n",
       "    <tr>\n",
       "      <th>2021/02/16</th>\n",
       "      <td>84900</td>\n",
       "      <td>700</td>\n",
       "      <td>0.83</td>\n",
       "      <td>84500</td>\n",
       "      <td>86000</td>\n",
       "      <td>84200</td>\n",
       "      <td>20483100</td>\n",
       "      <td>1740792201903</td>\n",
       "      <td>506834538495000</td>\n",
       "      <td>5969782550</td>\n",
       "    </tr>\n",
       "    <tr>\n",
       "      <th>2021/02/15</th>\n",
       "      <td>84200</td>\n",
       "      <td>2600</td>\n",
       "      <td>3.19</td>\n",
       "      <td>83800</td>\n",
       "      <td>84500</td>\n",
       "      <td>83300</td>\n",
       "      <td>23529706</td>\n",
       "      <td>1978336504100</td>\n",
       "      <td>502655690710000</td>\n",
       "      <td>5969782550</td>\n",
       "    </tr>\n",
       "  </tbody>\n",
       "</table>\n",
       "<p>127 rows × 10 columns</p>\n",
       "</div>"
      ],
      "text/plain": [
       "               종가    대비   등락률     시가     고가     저가       거래량           거래대금  \\\n",
       "일자                                                                            \n",
       "2021/08/13  74400 -2600 -3.38  75800  76000  74100  61270643  4575267536355   \n",
       "2021/08/12  77000 -1500 -1.91  77100  78200  76900  42365223  3276635421700   \n",
       "2021/08/11  78500 -1700 -2.12  79600  79800  78500  30241137  2389977254924   \n",
       "2021/08/10  80200 -1300 -1.60  82300  82400  80100  20362639  1643107615500   \n",
       "2021/08/09  81500     0  0.00  81500  82300  80900  15522581  1267668377900   \n",
       "...           ...   ...   ...    ...    ...    ...       ...            ...   \n",
       "2021/02/19  82600   500  0.61  82300  82800  81000  25880879  2121275310450   \n",
       "2021/02/18  82100 -1100 -1.32  83200  83600  82100  21327683  1762033944231   \n",
       "2021/02/17  83200 -1700 -2.00  83900  84200  83000  18307735  1526409421172   \n",
       "2021/02/16  84900   700  0.83  84500  86000  84200  20483100  1740792201903   \n",
       "2021/02/15  84200  2600  3.19  83800  84500  83300  23529706  1978336504100   \n",
       "\n",
       "                       시가총액       상장주식수  \n",
       "일자                                       \n",
       "2021/08/13  444151821720000  5969782550  \n",
       "2021/08/12  459673256350000  5969782550  \n",
       "2021/08/11  468627930175000  5969782550  \n",
       "2021/08/10  478776560510000  5969782550  \n",
       "2021/08/09  486537277825000  5969782550  \n",
       "...                     ...         ...  \n",
       "2021/02/19  493104038630000  5969782550  \n",
       "2021/02/18  490119147355000  5969782550  \n",
       "2021/02/17  496685908160000  5969782550  \n",
       "2021/02/16  506834538495000  5969782550  \n",
       "2021/02/15  502655690710000  5969782550  \n",
       "\n",
       "[127 rows x 10 columns]"
      ]
     },
     "execution_count": 30,
     "metadata": {},
     "output_type": "execute_result"
    }
   ],
   "source": [
    "df"
   ]
  },
  {
   "cell_type": "code",
   "execution_count": 32,
   "metadata": {},
   "outputs": [],
   "source": [
    "df.index = pd.to_datetime(df.index)"
   ]
  },
  {
   "cell_type": "code",
   "execution_count": 33,
   "metadata": {},
   "outputs": [
    {
     "data": {
      "text/plain": [
       "DatetimeIndex(['2021-08-13', '2021-08-12', '2021-08-11', '2021-08-10',\n",
       "               '2021-08-09', '2021-08-06', '2021-08-05', '2021-08-04',\n",
       "               '2021-08-03', '2021-08-02',\n",
       "               ...\n",
       "               '2021-02-26', '2021-02-25', '2021-02-24', '2021-02-23',\n",
       "               '2021-02-22', '2021-02-19', '2021-02-18', '2021-02-17',\n",
       "               '2021-02-16', '2021-02-15'],\n",
       "              dtype='datetime64[ns]', name='일자', length=127, freq=None)"
      ]
     },
     "execution_count": 33,
     "metadata": {},
     "output_type": "execute_result"
    }
   ],
   "source": [
    "df.index"
   ]
  },
  {
   "cell_type": "code",
   "execution_count": 34,
   "metadata": {},
   "outputs": [],
   "source": [
    "df = df.sort_index()"
   ]
  },
  {
   "cell_type": "code",
   "execution_count": 35,
   "metadata": {},
   "outputs": [
    {
     "data": {
      "text/html": [
       "<div>\n",
       "<style scoped>\n",
       "    .dataframe tbody tr th:only-of-type {\n",
       "        vertical-align: middle;\n",
       "    }\n",
       "\n",
       "    .dataframe tbody tr th {\n",
       "        vertical-align: top;\n",
       "    }\n",
       "\n",
       "    .dataframe thead th {\n",
       "        text-align: right;\n",
       "    }\n",
       "</style>\n",
       "<table border=\"1\" class=\"dataframe\">\n",
       "  <thead>\n",
       "    <tr style=\"text-align: right;\">\n",
       "      <th></th>\n",
       "      <th>종가</th>\n",
       "      <th>대비</th>\n",
       "      <th>등락률</th>\n",
       "      <th>시가</th>\n",
       "      <th>고가</th>\n",
       "      <th>저가</th>\n",
       "      <th>거래량</th>\n",
       "      <th>거래대금</th>\n",
       "      <th>시가총액</th>\n",
       "      <th>상장주식수</th>\n",
       "    </tr>\n",
       "    <tr>\n",
       "      <th>일자</th>\n",
       "      <th></th>\n",
       "      <th></th>\n",
       "      <th></th>\n",
       "      <th></th>\n",
       "      <th></th>\n",
       "      <th></th>\n",
       "      <th></th>\n",
       "      <th></th>\n",
       "      <th></th>\n",
       "      <th></th>\n",
       "    </tr>\n",
       "  </thead>\n",
       "  <tbody>\n",
       "    <tr>\n",
       "      <th>2021-02-15</th>\n",
       "      <td>84200</td>\n",
       "      <td>2600</td>\n",
       "      <td>3.19</td>\n",
       "      <td>83800</td>\n",
       "      <td>84500</td>\n",
       "      <td>83300</td>\n",
       "      <td>23529706</td>\n",
       "      <td>1978336504100</td>\n",
       "      <td>502655690710000</td>\n",
       "      <td>5969782550</td>\n",
       "    </tr>\n",
       "    <tr>\n",
       "      <th>2021-02-16</th>\n",
       "      <td>84900</td>\n",
       "      <td>700</td>\n",
       "      <td>0.83</td>\n",
       "      <td>84500</td>\n",
       "      <td>86000</td>\n",
       "      <td>84200</td>\n",
       "      <td>20483100</td>\n",
       "      <td>1740792201903</td>\n",
       "      <td>506834538495000</td>\n",
       "      <td>5969782550</td>\n",
       "    </tr>\n",
       "    <tr>\n",
       "      <th>2021-02-17</th>\n",
       "      <td>83200</td>\n",
       "      <td>-1700</td>\n",
       "      <td>-2.00</td>\n",
       "      <td>83900</td>\n",
       "      <td>84200</td>\n",
       "      <td>83000</td>\n",
       "      <td>18307735</td>\n",
       "      <td>1526409421172</td>\n",
       "      <td>496685908160000</td>\n",
       "      <td>5969782550</td>\n",
       "    </tr>\n",
       "    <tr>\n",
       "      <th>2021-02-18</th>\n",
       "      <td>82100</td>\n",
       "      <td>-1100</td>\n",
       "      <td>-1.32</td>\n",
       "      <td>83200</td>\n",
       "      <td>83600</td>\n",
       "      <td>82100</td>\n",
       "      <td>21327683</td>\n",
       "      <td>1762033944231</td>\n",
       "      <td>490119147355000</td>\n",
       "      <td>5969782550</td>\n",
       "    </tr>\n",
       "    <tr>\n",
       "      <th>2021-02-19</th>\n",
       "      <td>82600</td>\n",
       "      <td>500</td>\n",
       "      <td>0.61</td>\n",
       "      <td>82300</td>\n",
       "      <td>82800</td>\n",
       "      <td>81000</td>\n",
       "      <td>25880879</td>\n",
       "      <td>2121275310450</td>\n",
       "      <td>493104038630000</td>\n",
       "      <td>5969782550</td>\n",
       "    </tr>\n",
       "    <tr>\n",
       "      <th>...</th>\n",
       "      <td>...</td>\n",
       "      <td>...</td>\n",
       "      <td>...</td>\n",
       "      <td>...</td>\n",
       "      <td>...</td>\n",
       "      <td>...</td>\n",
       "      <td>...</td>\n",
       "      <td>...</td>\n",
       "      <td>...</td>\n",
       "      <td>...</td>\n",
       "    </tr>\n",
       "    <tr>\n",
       "      <th>2021-08-09</th>\n",
       "      <td>81500</td>\n",
       "      <td>0</td>\n",
       "      <td>0.00</td>\n",
       "      <td>81500</td>\n",
       "      <td>82300</td>\n",
       "      <td>80900</td>\n",
       "      <td>15522581</td>\n",
       "      <td>1267668377900</td>\n",
       "      <td>486537277825000</td>\n",
       "      <td>5969782550</td>\n",
       "    </tr>\n",
       "    <tr>\n",
       "      <th>2021-08-10</th>\n",
       "      <td>80200</td>\n",
       "      <td>-1300</td>\n",
       "      <td>-1.60</td>\n",
       "      <td>82300</td>\n",
       "      <td>82400</td>\n",
       "      <td>80100</td>\n",
       "      <td>20362639</td>\n",
       "      <td>1643107615500</td>\n",
       "      <td>478776560510000</td>\n",
       "      <td>5969782550</td>\n",
       "    </tr>\n",
       "    <tr>\n",
       "      <th>2021-08-11</th>\n",
       "      <td>78500</td>\n",
       "      <td>-1700</td>\n",
       "      <td>-2.12</td>\n",
       "      <td>79600</td>\n",
       "      <td>79800</td>\n",
       "      <td>78500</td>\n",
       "      <td>30241137</td>\n",
       "      <td>2389977254924</td>\n",
       "      <td>468627930175000</td>\n",
       "      <td>5969782550</td>\n",
       "    </tr>\n",
       "    <tr>\n",
       "      <th>2021-08-12</th>\n",
       "      <td>77000</td>\n",
       "      <td>-1500</td>\n",
       "      <td>-1.91</td>\n",
       "      <td>77100</td>\n",
       "      <td>78200</td>\n",
       "      <td>76900</td>\n",
       "      <td>42365223</td>\n",
       "      <td>3276635421700</td>\n",
       "      <td>459673256350000</td>\n",
       "      <td>5969782550</td>\n",
       "    </tr>\n",
       "    <tr>\n",
       "      <th>2021-08-13</th>\n",
       "      <td>74400</td>\n",
       "      <td>-2600</td>\n",
       "      <td>-3.38</td>\n",
       "      <td>75800</td>\n",
       "      <td>76000</td>\n",
       "      <td>74100</td>\n",
       "      <td>61270643</td>\n",
       "      <td>4575267536355</td>\n",
       "      <td>444151821720000</td>\n",
       "      <td>5969782550</td>\n",
       "    </tr>\n",
       "  </tbody>\n",
       "</table>\n",
       "<p>127 rows × 10 columns</p>\n",
       "</div>"
      ],
      "text/plain": [
       "               종가    대비   등락률     시가     고가     저가       거래량           거래대금  \\\n",
       "일자                                                                            \n",
       "2021-02-15  84200  2600  3.19  83800  84500  83300  23529706  1978336504100   \n",
       "2021-02-16  84900   700  0.83  84500  86000  84200  20483100  1740792201903   \n",
       "2021-02-17  83200 -1700 -2.00  83900  84200  83000  18307735  1526409421172   \n",
       "2021-02-18  82100 -1100 -1.32  83200  83600  82100  21327683  1762033944231   \n",
       "2021-02-19  82600   500  0.61  82300  82800  81000  25880879  2121275310450   \n",
       "...           ...   ...   ...    ...    ...    ...       ...            ...   \n",
       "2021-08-09  81500     0  0.00  81500  82300  80900  15522581  1267668377900   \n",
       "2021-08-10  80200 -1300 -1.60  82300  82400  80100  20362639  1643107615500   \n",
       "2021-08-11  78500 -1700 -2.12  79600  79800  78500  30241137  2389977254924   \n",
       "2021-08-12  77000 -1500 -1.91  77100  78200  76900  42365223  3276635421700   \n",
       "2021-08-13  74400 -2600 -3.38  75800  76000  74100  61270643  4575267536355   \n",
       "\n",
       "                       시가총액       상장주식수  \n",
       "일자                                       \n",
       "2021-02-15  502655690710000  5969782550  \n",
       "2021-02-16  506834538495000  5969782550  \n",
       "2021-02-17  496685908160000  5969782550  \n",
       "2021-02-18  490119147355000  5969782550  \n",
       "2021-02-19  493104038630000  5969782550  \n",
       "...                     ...         ...  \n",
       "2021-08-09  486537277825000  5969782550  \n",
       "2021-08-10  478776560510000  5969782550  \n",
       "2021-08-11  468627930175000  5969782550  \n",
       "2021-08-12  459673256350000  5969782550  \n",
       "2021-08-13  444151821720000  5969782550  \n",
       "\n",
       "[127 rows x 10 columns]"
      ]
     },
     "execution_count": 35,
     "metadata": {},
     "output_type": "execute_result"
    }
   ],
   "source": [
    "df"
   ]
  },
  {
   "cell_type": "code",
   "execution_count": 36,
   "metadata": {},
   "outputs": [
    {
     "name": "stderr",
     "output_type": "stream",
     "text": [
      "/Library/Frameworks/Python.framework/Versions/3.12/lib/python3.12/site-packages/openpyxl/styles/stylesheet.py:226: UserWarning: Workbook contains no default style, apply openpyxl's default\n",
      "  warn(\"Workbook contains no default style, apply openpyxl's default\")\n"
     ]
    }
   ],
   "source": [
    "df = pd.read_excel(\"/Users/time/Documents/GitHub/Python/0. 학습_책/2. 금융 데이터 분석을 위한 판다스/학습자료/ch06/data/ss_ex_1.xlsx\", parse_dates=[\"일자\"])"
   ]
  },
  {
   "cell_type": "code",
   "execution_count": 37,
   "metadata": {},
   "outputs": [],
   "source": [
    "df = df.sort_values('일자')"
   ]
  },
  {
   "cell_type": "code",
   "execution_count": 38,
   "metadata": {},
   "outputs": [
    {
     "data": {
      "text/html": [
       "<div>\n",
       "<style scoped>\n",
       "    .dataframe tbody tr th:only-of-type {\n",
       "        vertical-align: middle;\n",
       "    }\n",
       "\n",
       "    .dataframe tbody tr th {\n",
       "        vertical-align: top;\n",
       "    }\n",
       "\n",
       "    .dataframe thead th {\n",
       "        text-align: right;\n",
       "    }\n",
       "</style>\n",
       "<table border=\"1\" class=\"dataframe\">\n",
       "  <thead>\n",
       "    <tr style=\"text-align: right;\">\n",
       "      <th></th>\n",
       "      <th>일자</th>\n",
       "      <th>종가</th>\n",
       "      <th>대비</th>\n",
       "      <th>등락률</th>\n",
       "      <th>시가</th>\n",
       "      <th>고가</th>\n",
       "      <th>저가</th>\n",
       "      <th>거래량</th>\n",
       "      <th>거래대금</th>\n",
       "      <th>시가총액</th>\n",
       "      <th>상장주식수</th>\n",
       "    </tr>\n",
       "  </thead>\n",
       "  <tbody>\n",
       "    <tr>\n",
       "      <th>126</th>\n",
       "      <td>2021-02-15</td>\n",
       "      <td>84200</td>\n",
       "      <td>2600</td>\n",
       "      <td>3.19</td>\n",
       "      <td>83800</td>\n",
       "      <td>84500</td>\n",
       "      <td>83300</td>\n",
       "      <td>23529706</td>\n",
       "      <td>1978336504100</td>\n",
       "      <td>502655690710000</td>\n",
       "      <td>5969782550</td>\n",
       "    </tr>\n",
       "    <tr>\n",
       "      <th>125</th>\n",
       "      <td>2021-02-16</td>\n",
       "      <td>84900</td>\n",
       "      <td>700</td>\n",
       "      <td>0.83</td>\n",
       "      <td>84500</td>\n",
       "      <td>86000</td>\n",
       "      <td>84200</td>\n",
       "      <td>20483100</td>\n",
       "      <td>1740792201903</td>\n",
       "      <td>506834538495000</td>\n",
       "      <td>5969782550</td>\n",
       "    </tr>\n",
       "    <tr>\n",
       "      <th>124</th>\n",
       "      <td>2021-02-17</td>\n",
       "      <td>83200</td>\n",
       "      <td>-1700</td>\n",
       "      <td>-2.00</td>\n",
       "      <td>83900</td>\n",
       "      <td>84200</td>\n",
       "      <td>83000</td>\n",
       "      <td>18307735</td>\n",
       "      <td>1526409421172</td>\n",
       "      <td>496685908160000</td>\n",
       "      <td>5969782550</td>\n",
       "    </tr>\n",
       "    <tr>\n",
       "      <th>123</th>\n",
       "      <td>2021-02-18</td>\n",
       "      <td>82100</td>\n",
       "      <td>-1100</td>\n",
       "      <td>-1.32</td>\n",
       "      <td>83200</td>\n",
       "      <td>83600</td>\n",
       "      <td>82100</td>\n",
       "      <td>21327683</td>\n",
       "      <td>1762033944231</td>\n",
       "      <td>490119147355000</td>\n",
       "      <td>5969782550</td>\n",
       "    </tr>\n",
       "    <tr>\n",
       "      <th>122</th>\n",
       "      <td>2021-02-19</td>\n",
       "      <td>82600</td>\n",
       "      <td>500</td>\n",
       "      <td>0.61</td>\n",
       "      <td>82300</td>\n",
       "      <td>82800</td>\n",
       "      <td>81000</td>\n",
       "      <td>25880879</td>\n",
       "      <td>2121275310450</td>\n",
       "      <td>493104038630000</td>\n",
       "      <td>5969782550</td>\n",
       "    </tr>\n",
       "    <tr>\n",
       "      <th>...</th>\n",
       "      <td>...</td>\n",
       "      <td>...</td>\n",
       "      <td>...</td>\n",
       "      <td>...</td>\n",
       "      <td>...</td>\n",
       "      <td>...</td>\n",
       "      <td>...</td>\n",
       "      <td>...</td>\n",
       "      <td>...</td>\n",
       "      <td>...</td>\n",
       "      <td>...</td>\n",
       "    </tr>\n",
       "    <tr>\n",
       "      <th>4</th>\n",
       "      <td>2021-08-09</td>\n",
       "      <td>81500</td>\n",
       "      <td>0</td>\n",
       "      <td>0.00</td>\n",
       "      <td>81500</td>\n",
       "      <td>82300</td>\n",
       "      <td>80900</td>\n",
       "      <td>15522581</td>\n",
       "      <td>1267668377900</td>\n",
       "      <td>486537277825000</td>\n",
       "      <td>5969782550</td>\n",
       "    </tr>\n",
       "    <tr>\n",
       "      <th>3</th>\n",
       "      <td>2021-08-10</td>\n",
       "      <td>80200</td>\n",
       "      <td>-1300</td>\n",
       "      <td>-1.60</td>\n",
       "      <td>82300</td>\n",
       "      <td>82400</td>\n",
       "      <td>80100</td>\n",
       "      <td>20362639</td>\n",
       "      <td>1643107615500</td>\n",
       "      <td>478776560510000</td>\n",
       "      <td>5969782550</td>\n",
       "    </tr>\n",
       "    <tr>\n",
       "      <th>2</th>\n",
       "      <td>2021-08-11</td>\n",
       "      <td>78500</td>\n",
       "      <td>-1700</td>\n",
       "      <td>-2.12</td>\n",
       "      <td>79600</td>\n",
       "      <td>79800</td>\n",
       "      <td>78500</td>\n",
       "      <td>30241137</td>\n",
       "      <td>2389977254924</td>\n",
       "      <td>468627930175000</td>\n",
       "      <td>5969782550</td>\n",
       "    </tr>\n",
       "    <tr>\n",
       "      <th>1</th>\n",
       "      <td>2021-08-12</td>\n",
       "      <td>77000</td>\n",
       "      <td>-1500</td>\n",
       "      <td>-1.91</td>\n",
       "      <td>77100</td>\n",
       "      <td>78200</td>\n",
       "      <td>76900</td>\n",
       "      <td>42365223</td>\n",
       "      <td>3276635421700</td>\n",
       "      <td>459673256350000</td>\n",
       "      <td>5969782550</td>\n",
       "    </tr>\n",
       "    <tr>\n",
       "      <th>0</th>\n",
       "      <td>2021-08-13</td>\n",
       "      <td>74400</td>\n",
       "      <td>-2600</td>\n",
       "      <td>-3.38</td>\n",
       "      <td>75800</td>\n",
       "      <td>76000</td>\n",
       "      <td>74100</td>\n",
       "      <td>61270643</td>\n",
       "      <td>4575267536355</td>\n",
       "      <td>444151821720000</td>\n",
       "      <td>5969782550</td>\n",
       "    </tr>\n",
       "  </tbody>\n",
       "</table>\n",
       "<p>127 rows × 11 columns</p>\n",
       "</div>"
      ],
      "text/plain": [
       "            일자     종가    대비   등락률     시가     고가     저가       거래량  \\\n",
       "126 2021-02-15  84200  2600  3.19  83800  84500  83300  23529706   \n",
       "125 2021-02-16  84900   700  0.83  84500  86000  84200  20483100   \n",
       "124 2021-02-17  83200 -1700 -2.00  83900  84200  83000  18307735   \n",
       "123 2021-02-18  82100 -1100 -1.32  83200  83600  82100  21327683   \n",
       "122 2021-02-19  82600   500  0.61  82300  82800  81000  25880879   \n",
       "..         ...    ...   ...   ...    ...    ...    ...       ...   \n",
       "4   2021-08-09  81500     0  0.00  81500  82300  80900  15522581   \n",
       "3   2021-08-10  80200 -1300 -1.60  82300  82400  80100  20362639   \n",
       "2   2021-08-11  78500 -1700 -2.12  79600  79800  78500  30241137   \n",
       "1   2021-08-12  77000 -1500 -1.91  77100  78200  76900  42365223   \n",
       "0   2021-08-13  74400 -2600 -3.38  75800  76000  74100  61270643   \n",
       "\n",
       "              거래대금             시가총액       상장주식수  \n",
       "126  1978336504100  502655690710000  5969782550  \n",
       "125  1740792201903  506834538495000  5969782550  \n",
       "124  1526409421172  496685908160000  5969782550  \n",
       "123  1762033944231  490119147355000  5969782550  \n",
       "122  2121275310450  493104038630000  5969782550  \n",
       "..             ...              ...         ...  \n",
       "4    1267668377900  486537277825000  5969782550  \n",
       "3    1643107615500  478776560510000  5969782550  \n",
       "2    2389977254924  468627930175000  5969782550  \n",
       "1    3276635421700  459673256350000  5969782550  \n",
       "0    4575267536355  444151821720000  5969782550  \n",
       "\n",
       "[127 rows x 11 columns]"
      ]
     },
     "execution_count": 38,
     "metadata": {},
     "output_type": "execute_result"
    }
   ],
   "source": [
    "df"
   ]
  },
  {
   "cell_type": "code",
   "execution_count": 39,
   "metadata": {},
   "outputs": [],
   "source": [
    "df = df.sort_index()"
   ]
  },
  {
   "cell_type": "code",
   "execution_count": 40,
   "metadata": {},
   "outputs": [
    {
     "data": {
      "text/html": [
       "<div>\n",
       "<style scoped>\n",
       "    .dataframe tbody tr th:only-of-type {\n",
       "        vertical-align: middle;\n",
       "    }\n",
       "\n",
       "    .dataframe tbody tr th {\n",
       "        vertical-align: top;\n",
       "    }\n",
       "\n",
       "    .dataframe thead th {\n",
       "        text-align: right;\n",
       "    }\n",
       "</style>\n",
       "<table border=\"1\" class=\"dataframe\">\n",
       "  <thead>\n",
       "    <tr style=\"text-align: right;\">\n",
       "      <th></th>\n",
       "      <th>일자</th>\n",
       "      <th>종가</th>\n",
       "      <th>대비</th>\n",
       "      <th>등락률</th>\n",
       "      <th>시가</th>\n",
       "      <th>고가</th>\n",
       "      <th>저가</th>\n",
       "      <th>거래량</th>\n",
       "      <th>거래대금</th>\n",
       "      <th>시가총액</th>\n",
       "      <th>상장주식수</th>\n",
       "    </tr>\n",
       "  </thead>\n",
       "  <tbody>\n",
       "    <tr>\n",
       "      <th>0</th>\n",
       "      <td>2021-08-13</td>\n",
       "      <td>74400</td>\n",
       "      <td>-2600</td>\n",
       "      <td>-3.38</td>\n",
       "      <td>75800</td>\n",
       "      <td>76000</td>\n",
       "      <td>74100</td>\n",
       "      <td>61270643</td>\n",
       "      <td>4575267536355</td>\n",
       "      <td>444151821720000</td>\n",
       "      <td>5969782550</td>\n",
       "    </tr>\n",
       "    <tr>\n",
       "      <th>1</th>\n",
       "      <td>2021-08-12</td>\n",
       "      <td>77000</td>\n",
       "      <td>-1500</td>\n",
       "      <td>-1.91</td>\n",
       "      <td>77100</td>\n",
       "      <td>78200</td>\n",
       "      <td>76900</td>\n",
       "      <td>42365223</td>\n",
       "      <td>3276635421700</td>\n",
       "      <td>459673256350000</td>\n",
       "      <td>5969782550</td>\n",
       "    </tr>\n",
       "    <tr>\n",
       "      <th>2</th>\n",
       "      <td>2021-08-11</td>\n",
       "      <td>78500</td>\n",
       "      <td>-1700</td>\n",
       "      <td>-2.12</td>\n",
       "      <td>79600</td>\n",
       "      <td>79800</td>\n",
       "      <td>78500</td>\n",
       "      <td>30241137</td>\n",
       "      <td>2389977254924</td>\n",
       "      <td>468627930175000</td>\n",
       "      <td>5969782550</td>\n",
       "    </tr>\n",
       "    <tr>\n",
       "      <th>3</th>\n",
       "      <td>2021-08-10</td>\n",
       "      <td>80200</td>\n",
       "      <td>-1300</td>\n",
       "      <td>-1.60</td>\n",
       "      <td>82300</td>\n",
       "      <td>82400</td>\n",
       "      <td>80100</td>\n",
       "      <td>20362639</td>\n",
       "      <td>1643107615500</td>\n",
       "      <td>478776560510000</td>\n",
       "      <td>5969782550</td>\n",
       "    </tr>\n",
       "    <tr>\n",
       "      <th>4</th>\n",
       "      <td>2021-08-09</td>\n",
       "      <td>81500</td>\n",
       "      <td>0</td>\n",
       "      <td>0.00</td>\n",
       "      <td>81500</td>\n",
       "      <td>82300</td>\n",
       "      <td>80900</td>\n",
       "      <td>15522581</td>\n",
       "      <td>1267668377900</td>\n",
       "      <td>486537277825000</td>\n",
       "      <td>5969782550</td>\n",
       "    </tr>\n",
       "    <tr>\n",
       "      <th>...</th>\n",
       "      <td>...</td>\n",
       "      <td>...</td>\n",
       "      <td>...</td>\n",
       "      <td>...</td>\n",
       "      <td>...</td>\n",
       "      <td>...</td>\n",
       "      <td>...</td>\n",
       "      <td>...</td>\n",
       "      <td>...</td>\n",
       "      <td>...</td>\n",
       "      <td>...</td>\n",
       "    </tr>\n",
       "    <tr>\n",
       "      <th>122</th>\n",
       "      <td>2021-02-19</td>\n",
       "      <td>82600</td>\n",
       "      <td>500</td>\n",
       "      <td>0.61</td>\n",
       "      <td>82300</td>\n",
       "      <td>82800</td>\n",
       "      <td>81000</td>\n",
       "      <td>25880879</td>\n",
       "      <td>2121275310450</td>\n",
       "      <td>493104038630000</td>\n",
       "      <td>5969782550</td>\n",
       "    </tr>\n",
       "    <tr>\n",
       "      <th>123</th>\n",
       "      <td>2021-02-18</td>\n",
       "      <td>82100</td>\n",
       "      <td>-1100</td>\n",
       "      <td>-1.32</td>\n",
       "      <td>83200</td>\n",
       "      <td>83600</td>\n",
       "      <td>82100</td>\n",
       "      <td>21327683</td>\n",
       "      <td>1762033944231</td>\n",
       "      <td>490119147355000</td>\n",
       "      <td>5969782550</td>\n",
       "    </tr>\n",
       "    <tr>\n",
       "      <th>124</th>\n",
       "      <td>2021-02-17</td>\n",
       "      <td>83200</td>\n",
       "      <td>-1700</td>\n",
       "      <td>-2.00</td>\n",
       "      <td>83900</td>\n",
       "      <td>84200</td>\n",
       "      <td>83000</td>\n",
       "      <td>18307735</td>\n",
       "      <td>1526409421172</td>\n",
       "      <td>496685908160000</td>\n",
       "      <td>5969782550</td>\n",
       "    </tr>\n",
       "    <tr>\n",
       "      <th>125</th>\n",
       "      <td>2021-02-16</td>\n",
       "      <td>84900</td>\n",
       "      <td>700</td>\n",
       "      <td>0.83</td>\n",
       "      <td>84500</td>\n",
       "      <td>86000</td>\n",
       "      <td>84200</td>\n",
       "      <td>20483100</td>\n",
       "      <td>1740792201903</td>\n",
       "      <td>506834538495000</td>\n",
       "      <td>5969782550</td>\n",
       "    </tr>\n",
       "    <tr>\n",
       "      <th>126</th>\n",
       "      <td>2021-02-15</td>\n",
       "      <td>84200</td>\n",
       "      <td>2600</td>\n",
       "      <td>3.19</td>\n",
       "      <td>83800</td>\n",
       "      <td>84500</td>\n",
       "      <td>83300</td>\n",
       "      <td>23529706</td>\n",
       "      <td>1978336504100</td>\n",
       "      <td>502655690710000</td>\n",
       "      <td>5969782550</td>\n",
       "    </tr>\n",
       "  </tbody>\n",
       "</table>\n",
       "<p>127 rows × 11 columns</p>\n",
       "</div>"
      ],
      "text/plain": [
       "            일자     종가    대비   등락률     시가     고가     저가       거래량  \\\n",
       "0   2021-08-13  74400 -2600 -3.38  75800  76000  74100  61270643   \n",
       "1   2021-08-12  77000 -1500 -1.91  77100  78200  76900  42365223   \n",
       "2   2021-08-11  78500 -1700 -2.12  79600  79800  78500  30241137   \n",
       "3   2021-08-10  80200 -1300 -1.60  82300  82400  80100  20362639   \n",
       "4   2021-08-09  81500     0  0.00  81500  82300  80900  15522581   \n",
       "..         ...    ...   ...   ...    ...    ...    ...       ...   \n",
       "122 2021-02-19  82600   500  0.61  82300  82800  81000  25880879   \n",
       "123 2021-02-18  82100 -1100 -1.32  83200  83600  82100  21327683   \n",
       "124 2021-02-17  83200 -1700 -2.00  83900  84200  83000  18307735   \n",
       "125 2021-02-16  84900   700  0.83  84500  86000  84200  20483100   \n",
       "126 2021-02-15  84200  2600  3.19  83800  84500  83300  23529706   \n",
       "\n",
       "              거래대금             시가총액       상장주식수  \n",
       "0    4575267536355  444151821720000  5969782550  \n",
       "1    3276635421700  459673256350000  5969782550  \n",
       "2    2389977254924  468627930175000  5969782550  \n",
       "3    1643107615500  478776560510000  5969782550  \n",
       "4    1267668377900  486537277825000  5969782550  \n",
       "..             ...              ...         ...  \n",
       "122  2121275310450  493104038630000  5969782550  \n",
       "123  1762033944231  490119147355000  5969782550  \n",
       "124  1526409421172  496685908160000  5969782550  \n",
       "125  1740792201903  506834538495000  5969782550  \n",
       "126  1978336504100  502655690710000  5969782550  \n",
       "\n",
       "[127 rows x 11 columns]"
      ]
     },
     "execution_count": 40,
     "metadata": {},
     "output_type": "execute_result"
    }
   ],
   "source": [
    "df"
   ]
  },
  {
   "cell_type": "code",
   "execution_count": 41,
   "metadata": {},
   "outputs": [
    {
     "name": "stdout",
     "output_type": "stream",
     "text": [
      "datetime64[ns]\n"
     ]
    }
   ],
   "source": [
    "print(df['일자'].dtype)"
   ]
  },
  {
   "cell_type": "code",
   "execution_count": 42,
   "metadata": {},
   "outputs": [
    {
     "name": "stdout",
     "output_type": "stream",
     "text": [
      "<class 'pandas._libs.tslibs.timestamps.Timestamp'>\n"
     ]
    }
   ],
   "source": [
    "print(type(df['일자'].iloc[0]))"
   ]
  },
  {
   "cell_type": "code",
   "execution_count": 43,
   "metadata": {},
   "outputs": [
    {
     "data": {
      "text/plain": [
       "Index([  0,   1,   2,   3,   4,   5,   6,   7,   8,   9,\n",
       "       ...\n",
       "       117, 118, 119, 120, 121, 122, 123, 124, 125, 126],\n",
       "      dtype='int64', length=127)"
      ]
     },
     "execution_count": 43,
     "metadata": {},
     "output_type": "execute_result"
    }
   ],
   "source": [
    "df.index"
   ]
  },
  {
   "cell_type": "code",
   "execution_count": 44,
   "metadata": {},
   "outputs": [
    {
     "data": {
      "text/plain": [
       "0      3\n",
       "1      3\n",
       "2      3\n",
       "3      3\n",
       "4      3\n",
       "      ..\n",
       "122    1\n",
       "123    1\n",
       "124    1\n",
       "125    1\n",
       "126    1\n",
       "Name: 일자, Length: 127, dtype: int32"
      ]
     },
     "execution_count": 44,
     "metadata": {},
     "output_type": "execute_result"
    }
   ],
   "source": [
    "df['일자'].dt.quarter"
   ]
  },
  {
   "cell_type": "code",
   "execution_count": null,
   "metadata": {},
   "outputs": [],
   "source": []
  }
 ],
 "metadata": {
  "kernelspec": {
   "display_name": "Python 3",
   "language": "python",
   "name": "python3"
  },
  "language_info": {
   "codemirror_mode": {
    "name": "ipython",
    "version": 3
   },
   "file_extension": ".py",
   "mimetype": "text/x-python",
   "name": "python",
   "nbconvert_exporter": "python",
   "pygments_lexer": "ipython3",
   "version": "3.12.2"
  }
 },
 "nbformat": 4,
 "nbformat_minor": 2
}
