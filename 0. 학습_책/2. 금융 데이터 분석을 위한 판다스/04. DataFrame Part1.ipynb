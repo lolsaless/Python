{
 "cells": [
  {
   "cell_type": "markdown",
   "id": "8836f79e-af7f-428a-9821-7752f300d798",
   "metadata": {},
   "source": [
    "## 4.1 데이터프레임 소개 및 생성"
   ]
  },
  {
   "cell_type": "code",
   "execution_count": 3,
   "id": "da1f73d4-e666-447c-ad1f-5843c699df7f",
   "metadata": {},
   "outputs": [],
   "source": [
    "import pandas as pd"
   ]
  },
  {
   "cell_type": "code",
   "execution_count": 4,
   "id": "830e0ca2-3eea-46f7-ae6c-95f85c1e56b9",
   "metadata": {},
   "outputs": [
    {
     "name": "stdout",
     "output_type": "stream",
     "text": [
      "     종목코드    종목명   현재가\n",
      "0  037730     3R  1510\n",
      "1  036360  3Soft  1790\n",
      "2  005760   Acts  1185\n"
     ]
    }
   ],
   "source": [
    "data = {\n",
    "    '종목코드': ['037730', '036360', '005760'],\n",
    "    '종목명': ['3R', '3Soft', 'Acts'],\n",
    "    '현재가': [1510, 1790, 1185]\n",
    "}\n",
    "\n",
    "df = pd.DataFrame(data)\n",
    "\n",
    "print(df)"
   ]
  },
  {
   "cell_type": "code",
   "execution_count": null,
   "id": "20cf9f48-f1ea-4c13-92f4-8d391cbf0f51",
   "metadata": {},
   "outputs": [],
   "source": []
  }
 ],
 "metadata": {
  "kernelspec": {
   "display_name": "Python 3 (ipykernel)",
   "language": "python",
   "name": "python3"
  },
  "language_info": {
   "codemirror_mode": {
    "name": "ipython",
    "version": 3
   },
   "file_extension": ".py",
   "mimetype": "text/x-python",
   "name": "python",
   "nbconvert_exporter": "python",
   "pygments_lexer": "ipython3",
   "version": "3.12.2"
  }
 },
 "nbformat": 4,
 "nbformat_minor": 5
}
