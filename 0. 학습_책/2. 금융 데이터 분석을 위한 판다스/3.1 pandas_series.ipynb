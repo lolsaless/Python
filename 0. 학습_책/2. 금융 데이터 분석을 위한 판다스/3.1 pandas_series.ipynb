{
 "cells": [
  {
   "cell_type": "code",
   "execution_count": 8,
   "id": "ab2dd332-78c8-45cd-bb1d-9a3aafdfc5d6",
   "metadata": {},
   "outputs": [],
   "source": [
    "import pandas as pd"
   ]
  },
  {
   "cell_type": "code",
   "execution_count": 9,
   "id": "a8763a49-3b9c-4f34-b2f2-ec3c8060f7fa",
   "metadata": {},
   "outputs": [
    {
     "name": "stdout",
     "output_type": "stream",
     "text": [
      "0    10\n",
      "1    20\n",
      "2    30\n",
      "dtype: int64\n"
     ]
    }
   ],
   "source": [
    "data = [10, 20, 30]\n",
    "s = pd.Series(data)\n",
    "print(s)"
   ]
  },
  {
   "cell_type": "code",
   "execution_count": 10,
   "id": "a902f4f9-c09e-413e-be9a-9af0da791ff8",
   "metadata": {},
   "outputs": [
    {
     "data": {
      "text/plain": [
       "0    10\n",
       "1    20\n",
       "2    30\n",
       "dtype: int64"
      ]
     },
     "execution_count": 10,
     "metadata": {},
     "output_type": "execute_result"
    }
   ],
   "source": [
    "s"
   ]
  },
  {
   "cell_type": "code",
   "execution_count": 11,
   "id": "885d93f4-fed9-4b54-9aea-b8873dbb8867",
   "metadata": {},
   "outputs": [],
   "source": [
    "import numpy as np"
   ]
  },
  {
   "cell_type": "code",
   "execution_count": 12,
   "id": "e938d31f-9aab-4d90-b7a6-aead7c7dcb44",
   "metadata": {},
   "outputs": [],
   "source": [
    "data = np.arange(3)"
   ]
  },
  {
   "cell_type": "code",
   "execution_count": 13,
   "id": "0b712d20-0e83-4177-98ff-90bca8619f73",
   "metadata": {},
   "outputs": [],
   "source": [
    "s = pd.Series(data)"
   ]
  },
  {
   "cell_type": "code",
   "execution_count": 14,
   "id": "75a3498f-78de-41e7-a600-ae7a0f897ee4",
   "metadata": {},
   "outputs": [
    {
     "name": "stdout",
     "output_type": "stream",
     "text": [
      "0    0\n",
      "1    1\n",
      "2    2\n",
      "dtype: int64\n"
     ]
    }
   ],
   "source": [
    "print(s)"
   ]
  },
  {
   "cell_type": "code",
   "execution_count": 16,
   "id": "bdf439d2-7011-4d1d-a86e-92dc74b45c4c",
   "metadata": {},
   "outputs": [
    {
     "name": "stdout",
     "output_type": "stream",
     "text": [
      "0    시가\n",
      "1    고가\n",
      "dtype: object\n"
     ]
    }
   ],
   "source": [
    "data = [\"시가\", \"고가\"]\n",
    "s = pd.Series(data)\n",
    "print(s)"
   ]
  },
  {
   "cell_type": "code",
   "execution_count": 20,
   "id": "6b6c2386-aad7-4d21-a8c0-3b47f6639f53",
   "metadata": {},
   "outputs": [],
   "source": [
    "s = pd.Series([\"samsung\", 81000])"
   ]
  },
  {
   "cell_type": "code",
   "execution_count": 21,
   "id": "ae7ea90f-44cd-4638-a671-055504322015",
   "metadata": {},
   "outputs": [
    {
     "data": {
      "text/plain": [
       "0    samsung\n",
       "1      81000\n",
       "dtype: object"
      ]
     },
     "execution_count": 21,
     "metadata": {},
     "output_type": "execute_result"
    }
   ],
   "source": [
    "s"
   ]
  },
  {
   "cell_type": "markdown",
   "id": "46b46478-c6fb-4d84-a14e-3e8e19bded88",
   "metadata": {},
   "source": [
    "## 시리즈 인덱스"
   ]
  },
  {
   "cell_type": "code",
   "execution_count": 22,
   "id": "b929d5eb-b9d9-4de4-b728-f18bc84f6971",
   "metadata": {},
   "outputs": [
    {
     "name": "stdout",
     "output_type": "stream",
     "text": [
      "RangeIndex(start=0, stop=3, step=1)\n",
      "[0, 1, 2]\n"
     ]
    }
   ],
   "source": [
    "data = [1000, 2000, 3000]\n",
    "s = pd.Series(data)\n",
    "print(s.index)\n",
    "print(s.index.to_list())"
   ]
  },
  {
   "cell_type": "code",
   "execution_count": 23,
   "id": "d1e2f237-0ea6-4818-bac1-a951faf94b14",
   "metadata": {},
   "outputs": [
    {
     "name": "stdout",
     "output_type": "stream",
     "text": [
      "메로나     1000\n",
      "구구콘     2000\n",
      "하겐다즈    3000\n",
      "dtype: int64\n"
     ]
    }
   ],
   "source": [
    "s.index = [\"메로나\", \"구구콘\", \"하겐다즈\"]\n",
    "print(s)"
   ]
  },
  {
   "cell_type": "code",
   "execution_count": 26,
   "id": "c38e5633-3398-4179-a4bf-c89a255c0e65",
   "metadata": {},
   "outputs": [],
   "source": [
    "index = [\"메로나\", \"구구콘\", \"하겐다즈\"]"
   ]
  },
  {
   "cell_type": "code",
   "execution_count": 27,
   "id": "db01583c-dad5-41d1-a7cd-bcf894895490",
   "metadata": {},
   "outputs": [],
   "source": [
    "s = pd.Series(data = data, index = index)"
   ]
  },
  {
   "cell_type": "code",
   "execution_count": 28,
   "id": "93ba3e3d-b1ac-4d0e-8398-992342a2c5a3",
   "metadata": {},
   "outputs": [
    {
     "data": {
      "text/plain": [
       "메로나     1000\n",
       "구구콘     2000\n",
       "하겐다즈    3000\n",
       "dtype: int64"
      ]
     },
     "execution_count": 28,
     "metadata": {},
     "output_type": "execute_result"
    }
   ],
   "source": [
    "s"
   ]
  },
  {
   "cell_type": "code",
   "execution_count": 29,
   "id": "6990c873-36c5-4c1b-b5d3-a6eb4a9e750a",
   "metadata": {},
   "outputs": [],
   "source": [
    "s2 = s.reindex([\"메로나\", \"비비빅\", \"하겐다즈\"])"
   ]
  },
  {
   "cell_type": "code",
   "execution_count": 30,
   "id": "b026ac06-e3ae-416c-9dd7-21fec65fc99f",
   "metadata": {},
   "outputs": [
    {
     "name": "stdout",
     "output_type": "stream",
     "text": [
      "메로나     1000.0\n",
      "비비빅        NaN\n",
      "하겐다즈    3000.0\n",
      "dtype: float64\n"
     ]
    }
   ],
   "source": [
    "print(s2)"
   ]
  },
  {
   "cell_type": "code",
   "execution_count": 31,
   "id": "ec04bae6-1621-43f5-92ba-665c59687ed8",
   "metadata": {},
   "outputs": [
    {
     "name": "stdout",
     "output_type": "stream",
     "text": [
      "메로나     1000.0\n",
      "비비빅        1.0\n",
      "하겐다즈    3000.0\n",
      "dtype: float64\n"
     ]
    }
   ],
   "source": [
    "print(s2.fillna(1))"
   ]
  },
  {
   "cell_type": "code",
   "execution_count": 32,
   "id": "2a5dc674-660d-4cb1-83f7-8aa098408657",
   "metadata": {},
   "outputs": [],
   "source": [
    "s2 = s.reindex([\"메로나\", \"구구콘\", \"비비빅\"], fill_value = 0)"
   ]
  },
  {
   "cell_type": "code",
   "execution_count": 34,
   "id": "ccb452a8-4e00-4a9a-9e8b-0f938568017c",
   "metadata": {},
   "outputs": [
    {
     "name": "stdout",
     "output_type": "stream",
     "text": [
      "메로나    1000\n",
      "구구콘    2000\n",
      "비비빅       0\n",
      "dtype: int64\n"
     ]
    }
   ],
   "source": [
    "print(s2)"
   ]
  },
  {
   "cell_type": "code",
   "execution_count": null,
   "id": "0402393c-ea4f-4414-9539-40bd393955b5",
   "metadata": {},
   "outputs": [],
   "source": []
  }
 ],
 "metadata": {
  "kernelspec": {
   "display_name": "Python 3 (ipykernel)",
   "language": "python",
   "name": "python3"
  },
  "language_info": {
   "codemirror_mode": {
    "name": "ipython",
    "version": 3
   },
   "file_extension": ".py",
   "mimetype": "text/x-python",
   "name": "python",
   "nbconvert_exporter": "python",
   "pygments_lexer": "ipython3",
   "version": "3.11.5"
  }
 },
 "nbformat": 4,
 "nbformat_minor": 5
}
