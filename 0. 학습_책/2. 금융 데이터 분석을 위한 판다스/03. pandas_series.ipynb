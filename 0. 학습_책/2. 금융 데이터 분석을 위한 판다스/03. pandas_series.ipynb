{
 "cells": [
  {
   "cell_type": "code",
   "execution_count": 1,
   "id": "ab2dd332-78c8-45cd-bb1d-9a3aafdfc5d6",
   "metadata": {},
   "outputs": [],
   "source": [
    "import pandas as pd"
   ]
  },
  {
   "cell_type": "code",
   "execution_count": 2,
   "id": "a8763a49-3b9c-4f34-b2f2-ec3c8060f7fa",
   "metadata": {},
   "outputs": [
    {
     "name": "stdout",
     "output_type": "stream",
     "text": [
      "0    10\n",
      "1    20\n",
      "2    30\n",
      "dtype: int64\n"
     ]
    }
   ],
   "source": [
    "data = [10, 20, 30]\n",
    "s = pd.Series(data)\n",
    "print(s)"
   ]
  },
  {
   "cell_type": "code",
   "execution_count": 3,
   "id": "a902f4f9-c09e-413e-be9a-9af0da791ff8",
   "metadata": {},
   "outputs": [
    {
     "data": {
      "text/plain": [
       "0    10\n",
       "1    20\n",
       "2    30\n",
       "dtype: int64"
      ]
     },
     "execution_count": 3,
     "metadata": {},
     "output_type": "execute_result"
    }
   ],
   "source": [
    "s"
   ]
  },
  {
   "cell_type": "code",
   "execution_count": 4,
   "id": "885d93f4-fed9-4b54-9aea-b8873dbb8867",
   "metadata": {},
   "outputs": [],
   "source": [
    "import numpy as np"
   ]
  },
  {
   "cell_type": "code",
   "execution_count": 5,
   "id": "e938d31f-9aab-4d90-b7a6-aead7c7dcb44",
   "metadata": {},
   "outputs": [],
   "source": [
    "data = np.arange(3)"
   ]
  },
  {
   "cell_type": "code",
   "execution_count": 6,
   "id": "0b712d20-0e83-4177-98ff-90bca8619f73",
   "metadata": {},
   "outputs": [],
   "source": [
    "s = pd.Series(data)"
   ]
  },
  {
   "cell_type": "code",
   "execution_count": 7,
   "id": "75a3498f-78de-41e7-a600-ae7a0f897ee4",
   "metadata": {},
   "outputs": [
    {
     "name": "stdout",
     "output_type": "stream",
     "text": [
      "0    0\n",
      "1    1\n",
      "2    2\n",
      "dtype: int64\n"
     ]
    }
   ],
   "source": [
    "print(s)"
   ]
  },
  {
   "cell_type": "code",
   "execution_count": 8,
   "id": "bdf439d2-7011-4d1d-a86e-92dc74b45c4c",
   "metadata": {},
   "outputs": [
    {
     "name": "stdout",
     "output_type": "stream",
     "text": [
      "0    시가\n",
      "1    고가\n",
      "dtype: object\n"
     ]
    }
   ],
   "source": [
    "data = [\"시가\", \"고가\"]\n",
    "s = pd.Series(data)\n",
    "print(s)"
   ]
  },
  {
   "cell_type": "code",
   "execution_count": 9,
   "id": "6b6c2386-aad7-4d21-a8c0-3b47f6639f53",
   "metadata": {},
   "outputs": [],
   "source": [
    "s = pd.Series([\"samsung\", 81000])"
   ]
  },
  {
   "cell_type": "code",
   "execution_count": 10,
   "id": "ae7ea90f-44cd-4638-a671-055504322015",
   "metadata": {},
   "outputs": [
    {
     "data": {
      "text/plain": [
       "0    samsung\n",
       "1      81000\n",
       "dtype: object"
      ]
     },
     "execution_count": 10,
     "metadata": {},
     "output_type": "execute_result"
    }
   ],
   "source": [
    "s"
   ]
  },
  {
   "cell_type": "markdown",
   "id": "46b46478-c6fb-4d84-a14e-3e8e19bded88",
   "metadata": {
    "jp-MarkdownHeadingCollapsed": true
   },
   "source": [
    "## 시리즈 인덱스"
   ]
  },
  {
   "cell_type": "code",
   "execution_count": 11,
   "id": "b929d5eb-b9d9-4de4-b728-f18bc84f6971",
   "metadata": {},
   "outputs": [
    {
     "name": "stdout",
     "output_type": "stream",
     "text": [
      "RangeIndex(start=0, stop=3, step=1)\n",
      "[0, 1, 2]\n"
     ]
    }
   ],
   "source": [
    "data = [1000, 2000, 3000]\n",
    "s = pd.Series(data)\n",
    "print(s.index)\n",
    "print(s.index.to_list())"
   ]
  },
  {
   "cell_type": "code",
   "execution_count": 20,
   "id": "d1e2f237-0ea6-4818-bac1-a951faf94b14",
   "metadata": {},
   "outputs": [
    {
     "name": "stdout",
     "output_type": "stream",
     "text": [
      "메로나    1000\n",
      "구구콘    2000\n",
      "dtype: int64\n"
     ]
    }
   ],
   "source": [
    "s.index = [\"메로나\", \"구구콘\", \"하겐다즈\"]\n",
    "print(s.iloc[0:2])"
   ]
  },
  {
   "cell_type": "code",
   "execution_count": 13,
   "id": "c38e5633-3398-4179-a4bf-c89a255c0e65",
   "metadata": {},
   "outputs": [],
   "source": [
    "index = [\"메로나\", \"구구콘\", \"하겐다즈\"]"
   ]
  },
  {
   "cell_type": "code",
   "execution_count": 14,
   "id": "db01583c-dad5-41d1-a7cd-bcf894895490",
   "metadata": {},
   "outputs": [],
   "source": [
    "s = pd.Series(data = data, index = index)"
   ]
  },
  {
   "cell_type": "code",
   "execution_count": 23,
   "id": "93ba3e3d-b1ac-4d0e-8398-992342a2c5a3",
   "metadata": {},
   "outputs": [
    {
     "data": {
      "text/plain": [
       "메로나     1000\n",
       "구구콘     2000\n",
       "하겐다즈    3000\n",
       "dtype: int64"
      ]
     },
     "execution_count": 23,
     "metadata": {},
     "output_type": "execute_result"
    }
   ],
   "source": [
    "s.iloc[0:3]"
   ]
  },
  {
   "cell_type": "code",
   "execution_count": 16,
   "id": "6990c873-36c5-4c1b-b5d3-a6eb4a9e750a",
   "metadata": {},
   "outputs": [],
   "source": [
    "s2 = s.reindex([\"메로나\", \"비비빅\", \"하겐다즈\"])"
   ]
  },
  {
   "cell_type": "code",
   "execution_count": 17,
   "id": "b026ac06-e3ae-416c-9dd7-21fec65fc99f",
   "metadata": {},
   "outputs": [
    {
     "name": "stdout",
     "output_type": "stream",
     "text": [
      "메로나     1000.0\n",
      "비비빅        NaN\n",
      "하겐다즈    3000.0\n",
      "dtype: float64\n"
     ]
    }
   ],
   "source": [
    "print(s2)"
   ]
  },
  {
   "cell_type": "code",
   "execution_count": 18,
   "id": "ec04bae6-1621-43f5-92ba-665c59687ed8",
   "metadata": {},
   "outputs": [
    {
     "name": "stdout",
     "output_type": "stream",
     "text": [
      "메로나     1000.0\n",
      "비비빅        1.0\n",
      "하겐다즈    3000.0\n",
      "dtype: float64\n"
     ]
    }
   ],
   "source": [
    "print(s2.fillna(1))"
   ]
  },
  {
   "cell_type": "code",
   "execution_count": 32,
   "id": "2a5dc674-660d-4cb1-83f7-8aa098408657",
   "metadata": {},
   "outputs": [],
   "source": [
    "s2 = s.reindex([\"메로나\", \"구구콘\", \"비비빅\"], fill_value = 0)"
   ]
  },
  {
   "cell_type": "code",
   "execution_count": 34,
   "id": "ccb452a8-4e00-4a9a-9e8b-0f938568017c",
   "metadata": {},
   "outputs": [
    {
     "name": "stdout",
     "output_type": "stream",
     "text": [
      "메로나    1000\n",
      "구구콘    2000\n",
      "비비빅       0\n",
      "dtype: int64\n"
     ]
    }
   ],
   "source": [
    "print(s2)"
   ]
  },
  {
   "cell_type": "code",
   "execution_count": 24,
   "id": "0402393c-ea4f-4414-9539-40bd393955b5",
   "metadata": {},
   "outputs": [
    {
     "name": "stdout",
     "output_type": "stream",
     "text": [
      "메로나     1000\n",
      "하겐다즈    3000\n",
      "dtype: int64\n",
      "메로나     1000\n",
      "하겐다즈    3000\n",
      "dtype: int64\n"
     ]
    }
   ],
   "source": [
    "data = [1000, 2000, 3000]\n",
    "index = [\"메로나\", \"구구콘\", \"하겐다즈\"]\n",
    "s = pd.Series(data = data, index = index)\n",
    "\n",
    "indice = [0, 2]\n",
    "print(s.iloc[ indice ])\n",
    "print(s.iloc[ [0, 2] ])"
   ]
  },
  {
   "cell_type": "code",
   "execution_count": 25,
   "id": "5da45821-8f66-4241-a07a-a6ba86a00aea",
   "metadata": {},
   "outputs": [
    {
     "name": "stdout",
     "output_type": "stream",
     "text": [
      "메로나     1000\n",
      "하겐다즈    3000\n",
      "dtype: int64\n"
     ]
    }
   ],
   "source": [
    "indice = [\"메로나\", \"하겐다즈\"]\n",
    "print(s.loc[indice])"
   ]
  },
  {
   "cell_type": "code",
   "execution_count": 31,
   "id": "487dc3ec-b139-452c-90de-4cc769f6a461",
   "metadata": {},
   "outputs": [
    {
     "ename": "KeyError",
     "evalue": "\"None of [Int64Index([1000, 3000], dtype='int64')] are in the [index]\"",
     "output_type": "error",
     "traceback": [
      "\u001b[0;31m---------------------------------------------------------------------------\u001b[0m",
      "\u001b[0;31mKeyError\u001b[0m                                  Traceback (most recent call last)",
      "Cell \u001b[0;32mIn[31], line 2\u001b[0m\n\u001b[1;32m      1\u001b[0m indice \u001b[38;5;241m=\u001b[39m [\u001b[38;5;241m1000\u001b[39m, \u001b[38;5;241m3000\u001b[39m]\n\u001b[0;32m----> 2\u001b[0m \u001b[38;5;28mprint\u001b[39m(s\u001b[38;5;241m.\u001b[39mloc[indice])\n",
      "File \u001b[0;32m~/anaconda3/lib/python3.11/site-packages/pandas/core/indexing.py:1073\u001b[0m, in \u001b[0;36m_LocationIndexer.__getitem__\u001b[0;34m(self, key)\u001b[0m\n\u001b[1;32m   1070\u001b[0m axis \u001b[38;5;241m=\u001b[39m \u001b[38;5;28mself\u001b[39m\u001b[38;5;241m.\u001b[39maxis \u001b[38;5;129;01mor\u001b[39;00m \u001b[38;5;241m0\u001b[39m\n\u001b[1;32m   1072\u001b[0m maybe_callable \u001b[38;5;241m=\u001b[39m com\u001b[38;5;241m.\u001b[39mapply_if_callable(key, \u001b[38;5;28mself\u001b[39m\u001b[38;5;241m.\u001b[39mobj)\n\u001b[0;32m-> 1073\u001b[0m \u001b[38;5;28;01mreturn\u001b[39;00m \u001b[38;5;28mself\u001b[39m\u001b[38;5;241m.\u001b[39m_getitem_axis(maybe_callable, axis\u001b[38;5;241m=\u001b[39maxis)\n",
      "File \u001b[0;32m~/anaconda3/lib/python3.11/site-packages/pandas/core/indexing.py:1301\u001b[0m, in \u001b[0;36m_LocIndexer._getitem_axis\u001b[0;34m(self, key, axis)\u001b[0m\n\u001b[1;32m   1298\u001b[0m     \u001b[38;5;28;01mif\u001b[39;00m \u001b[38;5;28mhasattr\u001b[39m(key, \u001b[38;5;124m\"\u001b[39m\u001b[38;5;124mndim\u001b[39m\u001b[38;5;124m\"\u001b[39m) \u001b[38;5;129;01mand\u001b[39;00m key\u001b[38;5;241m.\u001b[39mndim \u001b[38;5;241m>\u001b[39m \u001b[38;5;241m1\u001b[39m:\n\u001b[1;32m   1299\u001b[0m         \u001b[38;5;28;01mraise\u001b[39;00m \u001b[38;5;167;01mValueError\u001b[39;00m(\u001b[38;5;124m\"\u001b[39m\u001b[38;5;124mCannot index with multidimensional key\u001b[39m\u001b[38;5;124m\"\u001b[39m)\n\u001b[0;32m-> 1301\u001b[0m     \u001b[38;5;28;01mreturn\u001b[39;00m \u001b[38;5;28mself\u001b[39m\u001b[38;5;241m.\u001b[39m_getitem_iterable(key, axis\u001b[38;5;241m=\u001b[39maxis)\n\u001b[1;32m   1303\u001b[0m \u001b[38;5;66;03m# nested tuple slicing\u001b[39;00m\n\u001b[1;32m   1304\u001b[0m \u001b[38;5;28;01mif\u001b[39;00m is_nested_tuple(key, labels):\n",
      "File \u001b[0;32m~/anaconda3/lib/python3.11/site-packages/pandas/core/indexing.py:1239\u001b[0m, in \u001b[0;36m_LocIndexer._getitem_iterable\u001b[0;34m(self, key, axis)\u001b[0m\n\u001b[1;32m   1236\u001b[0m \u001b[38;5;28mself\u001b[39m\u001b[38;5;241m.\u001b[39m_validate_key(key, axis)\n\u001b[1;32m   1238\u001b[0m \u001b[38;5;66;03m# A collection of keys\u001b[39;00m\n\u001b[0;32m-> 1239\u001b[0m keyarr, indexer \u001b[38;5;241m=\u001b[39m \u001b[38;5;28mself\u001b[39m\u001b[38;5;241m.\u001b[39m_get_listlike_indexer(key, axis)\n\u001b[1;32m   1240\u001b[0m \u001b[38;5;28;01mreturn\u001b[39;00m \u001b[38;5;28mself\u001b[39m\u001b[38;5;241m.\u001b[39mobj\u001b[38;5;241m.\u001b[39m_reindex_with_indexers(\n\u001b[1;32m   1241\u001b[0m     {axis: [keyarr, indexer]}, copy\u001b[38;5;241m=\u001b[39m\u001b[38;5;28;01mTrue\u001b[39;00m, allow_dups\u001b[38;5;241m=\u001b[39m\u001b[38;5;28;01mTrue\u001b[39;00m\n\u001b[1;32m   1242\u001b[0m )\n",
      "File \u001b[0;32m~/anaconda3/lib/python3.11/site-packages/pandas/core/indexing.py:1432\u001b[0m, in \u001b[0;36m_LocIndexer._get_listlike_indexer\u001b[0;34m(self, key, axis)\u001b[0m\n\u001b[1;32m   1429\u001b[0m ax \u001b[38;5;241m=\u001b[39m \u001b[38;5;28mself\u001b[39m\u001b[38;5;241m.\u001b[39mobj\u001b[38;5;241m.\u001b[39m_get_axis(axis)\n\u001b[1;32m   1430\u001b[0m axis_name \u001b[38;5;241m=\u001b[39m \u001b[38;5;28mself\u001b[39m\u001b[38;5;241m.\u001b[39mobj\u001b[38;5;241m.\u001b[39m_get_axis_name(axis)\n\u001b[0;32m-> 1432\u001b[0m keyarr, indexer \u001b[38;5;241m=\u001b[39m ax\u001b[38;5;241m.\u001b[39m_get_indexer_strict(key, axis_name)\n\u001b[1;32m   1434\u001b[0m \u001b[38;5;28;01mreturn\u001b[39;00m keyarr, indexer\n",
      "File \u001b[0;32m~/anaconda3/lib/python3.11/site-packages/pandas/core/indexes/base.py:6070\u001b[0m, in \u001b[0;36mIndex._get_indexer_strict\u001b[0;34m(self, key, axis_name)\u001b[0m\n\u001b[1;32m   6067\u001b[0m \u001b[38;5;28;01melse\u001b[39;00m:\n\u001b[1;32m   6068\u001b[0m     keyarr, indexer, new_indexer \u001b[38;5;241m=\u001b[39m \u001b[38;5;28mself\u001b[39m\u001b[38;5;241m.\u001b[39m_reindex_non_unique(keyarr)\n\u001b[0;32m-> 6070\u001b[0m \u001b[38;5;28mself\u001b[39m\u001b[38;5;241m.\u001b[39m_raise_if_missing(keyarr, indexer, axis_name)\n\u001b[1;32m   6072\u001b[0m keyarr \u001b[38;5;241m=\u001b[39m \u001b[38;5;28mself\u001b[39m\u001b[38;5;241m.\u001b[39mtake(indexer)\n\u001b[1;32m   6073\u001b[0m \u001b[38;5;28;01mif\u001b[39;00m \u001b[38;5;28misinstance\u001b[39m(key, Index):\n\u001b[1;32m   6074\u001b[0m     \u001b[38;5;66;03m# GH 42790 - Preserve name from an Index\u001b[39;00m\n",
      "File \u001b[0;32m~/anaconda3/lib/python3.11/site-packages/pandas/core/indexes/base.py:6130\u001b[0m, in \u001b[0;36mIndex._raise_if_missing\u001b[0;34m(self, key, indexer, axis_name)\u001b[0m\n\u001b[1;32m   6128\u001b[0m     \u001b[38;5;28;01mif\u001b[39;00m use_interval_msg:\n\u001b[1;32m   6129\u001b[0m         key \u001b[38;5;241m=\u001b[39m \u001b[38;5;28mlist\u001b[39m(key)\n\u001b[0;32m-> 6130\u001b[0m     \u001b[38;5;28;01mraise\u001b[39;00m \u001b[38;5;167;01mKeyError\u001b[39;00m(\u001b[38;5;124mf\u001b[39m\u001b[38;5;124m\"\u001b[39m\u001b[38;5;124mNone of [\u001b[39m\u001b[38;5;132;01m{\u001b[39;00mkey\u001b[38;5;132;01m}\u001b[39;00m\u001b[38;5;124m] are in the [\u001b[39m\u001b[38;5;132;01m{\u001b[39;00maxis_name\u001b[38;5;132;01m}\u001b[39;00m\u001b[38;5;124m]\u001b[39m\u001b[38;5;124m\"\u001b[39m)\n\u001b[1;32m   6132\u001b[0m not_found \u001b[38;5;241m=\u001b[39m \u001b[38;5;28mlist\u001b[39m(ensure_index(key)[missing_mask\u001b[38;5;241m.\u001b[39mnonzero()[\u001b[38;5;241m0\u001b[39m]]\u001b[38;5;241m.\u001b[39munique())\n\u001b[1;32m   6133\u001b[0m \u001b[38;5;28;01mraise\u001b[39;00m \u001b[38;5;167;01mKeyError\u001b[39;00m(\u001b[38;5;124mf\u001b[39m\u001b[38;5;124m\"\u001b[39m\u001b[38;5;132;01m{\u001b[39;00mnot_found\u001b[38;5;132;01m}\u001b[39;00m\u001b[38;5;124m not in index\u001b[39m\u001b[38;5;124m\"\u001b[39m)\n",
      "\u001b[0;31mKeyError\u001b[0m: \"None of [Int64Index([1000, 3000], dtype='int64')] are in the [index]\""
     ]
    }
   ],
   "source": [
    "indice = [1000, 3000]\n",
    "print(s.loc[indice])"
   ]
  },
  {
   "cell_type": "code",
   "execution_count": 32,
   "id": "1d410daf-a592-4b96-9eac-e2d1fcda0508",
   "metadata": {},
   "outputs": [
    {
     "name": "stdout",
     "output_type": "stream",
     "text": [
      "1000    1000\n",
      "3000    3000\n",
      "dtype: int64\n"
     ]
    }
   ],
   "source": [
    "index = [1000, 2000, 3000]\n",
    "s = pd.Series(data=data, index=index)\n",
    "indice = [1000, 3000]\n",
    "print(s.loc[indice])"
   ]
  },
  {
   "cell_type": "markdown",
   "id": "c830ce91-90f9-44ba-98bf-bb4f8e40bb18",
   "metadata": {
    "jp-MarkdownHeadingCollapsed": true
   },
   "source": [
    "## 시리즈 수정, 추가, 삭제"
   ]
  },
  {
   "cell_type": "code",
   "execution_count": 33,
   "id": "ae718025-b7ad-45cc-8277-1337ad076655",
   "metadata": {},
   "outputs": [
    {
     "data": {
      "text/plain": [
       "[1000, 2000, 3000]"
      ]
     },
     "execution_count": 33,
     "metadata": {},
     "output_type": "execute_result"
    }
   ],
   "source": [
    "data"
   ]
  },
  {
   "cell_type": "code",
   "execution_count": 34,
   "id": "73622895-9da2-492b-a062-9681d1af8218",
   "metadata": {},
   "outputs": [
    {
     "data": {
      "text/plain": [
       "[1000, 2000, 3000]"
      ]
     },
     "execution_count": 34,
     "metadata": {},
     "output_type": "execute_result"
    }
   ],
   "source": [
    "index"
   ]
  },
  {
   "cell_type": "code",
   "execution_count": 35,
   "id": "8fcad246-2898-4562-9fe0-dc419b0cbdb6",
   "metadata": {},
   "outputs": [],
   "source": [
    "data = [1000, 2000, 3000]\n",
    "index = [\"메로나\", \"구구콘\", \"하겐다즈\"]\n",
    "s = pd.Series(data = data, index = index)"
   ]
  },
  {
   "cell_type": "code",
   "execution_count": 36,
   "id": "d6b6b12e-c8c2-46d4-9746-c9180521bfa4",
   "metadata": {},
   "outputs": [
    {
     "data": {
      "text/plain": [
       "메로나     1000\n",
       "구구콘     2000\n",
       "하겐다즈    3000\n",
       "dtype: int64"
      ]
     },
     "execution_count": 36,
     "metadata": {},
     "output_type": "execute_result"
    }
   ],
   "source": [
    "s"
   ]
  },
  {
   "cell_type": "code",
   "execution_count": 37,
   "id": "fc956723-134f-44f5-9d17-e891558a8c82",
   "metadata": {},
   "outputs": [
    {
     "name": "stdout",
     "output_type": "stream",
     "text": [
      "메로나      500\n",
      "구구콘     2000\n",
      "하겐다즈    3000\n",
      "dtype: int64\n"
     ]
    }
   ],
   "source": [
    "s.loc[\"메로나\"] = 500\n",
    "print(s)"
   ]
  },
  {
   "cell_type": "code",
   "execution_count": 39,
   "id": "86f6bac0-c47a-4ddc-9409-c9a3d4ae3cff",
   "metadata": {},
   "outputs": [
    {
     "name": "stdout",
     "output_type": "stream",
     "text": [
      "메로나      500\n",
      "구구콘     2000\n",
      "하겐다즈    3000\n",
      "비비빅      500\n",
      "dtype: int64\n"
     ]
    }
   ],
   "source": [
    "s.loc[\"비비빅\"] = 500\n",
    "print(s)"
   ]
  },
  {
   "cell_type": "code",
   "execution_count": 40,
   "id": "28af2e3b-1980-499b-8b7c-92d6030d95d7",
   "metadata": {},
   "outputs": [
    {
     "name": "stdout",
     "output_type": "stream",
     "text": [
      "구구콘     2000\n",
      "하겐다즈    3000\n",
      "비비빅      500\n",
      "dtype: int64\n"
     ]
    }
   ],
   "source": [
    "print(s.drop('메로나'))"
   ]
  },
  {
   "cell_type": "code",
   "execution_count": 41,
   "id": "6654331c-6382-4e51-8870-759bbebcf729",
   "metadata": {},
   "outputs": [
    {
     "data": {
      "text/plain": [
       "메로나      500\n",
       "구구콘     2000\n",
       "하겐다즈    3000\n",
       "비비빅      500\n",
       "dtype: int64"
      ]
     },
     "execution_count": 41,
     "metadata": {},
     "output_type": "execute_result"
    }
   ],
   "source": [
    "s"
   ]
  },
  {
   "cell_type": "code",
   "execution_count": 42,
   "id": "b330c950-034a-4b9c-9e03-fa0452b4ce54",
   "metadata": {},
   "outputs": [
    {
     "ename": "AttributeError",
     "evalue": "'function' object has no attribute 'iloc'",
     "output_type": "error",
     "traceback": [
      "\u001b[0;31m---------------------------------------------------------------------------\u001b[0m",
      "\u001b[0;31mAttributeError\u001b[0m                            Traceback (most recent call last)",
      "Cell \u001b[0;32mIn[42], line 1\u001b[0m\n\u001b[0;32m----> 1\u001b[0m \u001b[38;5;28mprint\u001b[39m(s\u001b[38;5;241m.\u001b[39mdrop\u001b[38;5;241m.\u001b[39miloc[\u001b[38;5;241m1\u001b[39m])\n",
      "\u001b[0;31mAttributeError\u001b[0m: 'function' object has no attribute 'iloc'"
     ]
    }
   ],
   "source": [
    "print(s.drop.iloc[1])"
   ]
  },
  {
   "cell_type": "code",
   "execution_count": 47,
   "id": "593a4298-f9bd-4df5-a438-fd4a66a4ce65",
   "metadata": {},
   "outputs": [
    {
     "ename": "AttributeError",
     "evalue": "'numpy.int64' object has no attribute 'drop'",
     "output_type": "error",
     "traceback": [
      "\u001b[0;31m---------------------------------------------------------------------------\u001b[0m",
      "\u001b[0;31mAttributeError\u001b[0m                            Traceback (most recent call last)",
      "Cell \u001b[0;32mIn[47], line 1\u001b[0m\n\u001b[0;32m----> 1\u001b[0m \u001b[38;5;28mprint\u001b[39m(s\u001b[38;5;241m.\u001b[39miloc[\u001b[38;5;241m0\u001b[39m]\u001b[38;5;241m.\u001b[39mdrop())\n",
      "\u001b[0;31mAttributeError\u001b[0m: 'numpy.int64' object has no attribute 'drop'"
     ]
    }
   ],
   "source": [
    "print(s.iloc[0].drop())"
   ]
  },
  {
   "cell_type": "code",
   "execution_count": 50,
   "id": "5e79468e-68d2-49e2-be8d-a017a10ee2a5",
   "metadata": {},
   "outputs": [
    {
     "name": "stdout",
     "output_type": "stream",
     "text": [
      "None\n"
     ]
    }
   ],
   "source": [
    "print(s.drop(s.index[0], inplace = True))"
   ]
  },
  {
   "cell_type": "code",
   "execution_count": 51,
   "id": "be5bf436-53c9-4485-a341-f0aeb7979a9e",
   "metadata": {},
   "outputs": [
    {
     "data": {
      "text/plain": [
       "구구콘     2000\n",
       "하겐다즈    3000\n",
       "비비빅      500\n",
       "dtype: int64"
      ]
     },
     "execution_count": 51,
     "metadata": {},
     "output_type": "execute_result"
    }
   ],
   "source": [
    "s"
   ]
  },
  {
   "cell_type": "code",
   "execution_count": 52,
   "id": "eed446b9-7ae6-4d35-82db-8ae51c8c9f4c",
   "metadata": {},
   "outputs": [],
   "source": [
    "s.drop(s.index[0], inplace = True)"
   ]
  },
  {
   "cell_type": "code",
   "execution_count": 53,
   "id": "5ca991a6-df3e-4b42-bd05-43f1691ea254",
   "metadata": {},
   "outputs": [
    {
     "data": {
      "text/plain": [
       "하겐다즈    3000\n",
       "비비빅      500\n",
       "dtype: int64"
      ]
     },
     "execution_count": 53,
     "metadata": {},
     "output_type": "execute_result"
    }
   ],
   "source": [
    "s"
   ]
  },
  {
   "cell_type": "markdown",
   "id": "01ab089a-7c64-41df-94ed-05f5b416294b",
   "metadata": {
    "jp-MarkdownHeadingCollapsed": true
   },
   "source": [
    "## 시리즈 연산"
   ]
  },
  {
   "cell_type": "code",
   "execution_count": 54,
   "id": "17dd9e9b-2fb8-45ec-8cba-0e1c31317d6f",
   "metadata": {},
   "outputs": [],
   "source": [
    "cs = pd.Series([10, 20, 30], index=['Naver', 'SKT', 'KT'])\n",
    "yh = pd.Series([10, 30, 20], index=['SKT', 'KT', 'Naver'])"
   ]
  },
  {
   "cell_type": "code",
   "execution_count": 55,
   "id": "43f1398c-6893-4fc9-9c2b-eca125c497b1",
   "metadata": {},
   "outputs": [],
   "source": [
    "family = cs + yh"
   ]
  },
  {
   "cell_type": "code",
   "execution_count": 57,
   "id": "0ad5f2a7-765c-4664-a972-0276c6b0beed",
   "metadata": {},
   "outputs": [
    {
     "name": "stdout",
     "output_type": "stream",
     "text": [
      "KT       60\n",
      "Naver    30\n",
      "SKT      30\n",
      "dtype: int64\n"
     ]
    }
   ],
   "source": [
    "print(family)"
   ]
  },
  {
   "cell_type": "code",
   "execution_count": 58,
   "id": "e2f9df2b-2f4e-4620-8aa3-b8b913663139",
   "metadata": {},
   "outputs": [
    {
     "name": "stdout",
     "output_type": "stream",
     "text": [
      "Naver    20\n",
      "SKT      30\n",
      "KT       40\n",
      "dtype: int64\n"
     ]
    }
   ],
   "source": [
    "print(cs + 10)"
   ]
  },
  {
   "cell_type": "code",
   "execution_count": 59,
   "id": "14066013-453a-4325-a3a8-1f9c53671395",
   "metadata": {},
   "outputs": [],
   "source": [
    "high = pd.Series([32, 34, 45, 65, 34])\n",
    "low = pd.Series([12, 21, 24, 54, 24])"
   ]
  },
  {
   "cell_type": "code",
   "execution_count": 60,
   "id": "755b8dc7-29d3-4c35-84fe-d1b1b9872dea",
   "metadata": {},
   "outputs": [],
   "source": [
    "diff = high - low"
   ]
  },
  {
   "cell_type": "code",
   "execution_count": 61,
   "id": "23ddc1e5-3ac4-4fad-9377-a5fc28fb3c69",
   "metadata": {},
   "outputs": [
    {
     "data": {
      "text/plain": [
       "0    20\n",
       "1    13\n",
       "2    21\n",
       "3    11\n",
       "4    10\n",
       "dtype: int64"
      ]
     },
     "execution_count": 61,
     "metadata": {},
     "output_type": "execute_result"
    }
   ],
   "source": [
    "diff"
   ]
  },
  {
   "cell_type": "code",
   "execution_count": 62,
   "id": "0865baa0-c06f-4ce5-8806-c771d8bfb25e",
   "metadata": {},
   "outputs": [
    {
     "name": "stdout",
     "output_type": "stream",
     "text": [
      "0    20\n",
      "1    13\n",
      "2    21\n",
      "3    11\n",
      "4    10\n",
      "dtype: int64\n"
     ]
    }
   ],
   "source": [
    "print(diff)"
   ]
  },
  {
   "cell_type": "code",
   "execution_count": 63,
   "id": "cdddfcc3-cea4-43c0-86a9-b1d271ef4371",
   "metadata": {},
   "outputs": [
    {
     "name": "stdout",
     "output_type": "stream",
     "text": [
      "21\n"
     ]
    }
   ],
   "source": [
    "print(diff.max())"
   ]
  },
  {
   "cell_type": "code",
   "execution_count": 64,
   "id": "73ad8de0-4268-4c4e-910d-950ca4b05a46",
   "metadata": {},
   "outputs": [],
   "source": [
    "date = [\"6/1\", \"6/2\", \"6/3\", \"6/4\", \"6/5\"]\n",
    "high = pd.Series([32, 34, 45, 65, 34], index = date)\n",
    "low = pd.Series([12, 21, 24, 54, 24], index = date)"
   ]
  },
  {
   "cell_type": "code",
   "execution_count": 65,
   "id": "5f0053d9-bd4e-4959-bfb9-357a24aea2a3",
   "metadata": {},
   "outputs": [],
   "source": [
    "diff = high - low"
   ]
  },
  {
   "cell_type": "code",
   "execution_count": 66,
   "id": "b66e26ec-2689-4cfc-a179-a3bc222b5618",
   "metadata": {},
   "outputs": [
    {
     "data": {
      "text/plain": [
       "6/1    20\n",
       "6/2    13\n",
       "6/3    21\n",
       "6/4    11\n",
       "6/5    10\n",
       "dtype: int64"
      ]
     },
     "execution_count": 66,
     "metadata": {},
     "output_type": "execute_result"
    }
   ],
   "source": [
    "diff"
   ]
  },
  {
   "cell_type": "code",
   "execution_count": 67,
   "id": "339fd869-c3d4-4721-adc3-9832435d7eab",
   "metadata": {},
   "outputs": [
    {
     "name": "stdout",
     "output_type": "stream",
     "text": [
      "2\n",
      "6/3\n"
     ]
    }
   ],
   "source": [
    "max_inx = 0\n",
    "max_val = 0\n",
    "\n",
    "for i in range(len(diff)):\n",
    "    if diff[i] > max_val:\n",
    "        max_val = diff[i]\n",
    "        max_idx = i\n",
    "\n",
    "print(max_idx)\n",
    "print(diff.index[max_idx])"
   ]
  },
  {
   "cell_type": "code",
   "execution_count": 68,
   "id": "79848124-75f9-47f8-8191-b6b492344e3e",
   "metadata": {},
   "outputs": [
    {
     "data": {
      "text/plain": [
       "6/1    20\n",
       "6/2    13\n",
       "6/3    21\n",
       "6/4    11\n",
       "6/5    10\n",
       "dtype: int64"
      ]
     },
     "execution_count": 68,
     "metadata": {},
     "output_type": "execute_result"
    }
   ],
   "source": [
    "diff"
   ]
  },
  {
   "cell_type": "code",
   "execution_count": 69,
   "id": "ebc4eebb-6a90-4bd4-8775-875e341bf365",
   "metadata": {},
   "outputs": [
    {
     "data": {
      "text/plain": [
       "21"
      ]
     },
     "execution_count": 69,
     "metadata": {},
     "output_type": "execute_result"
    }
   ],
   "source": [
    "diff.max()"
   ]
  },
  {
   "cell_type": "markdown",
   "id": "cdaba996-77a0-4642-90dd-d4da7ddab757",
   "metadata": {},
   "source": [
    "## 3.8 시리즈와 MAP"
   ]
  },
  {
   "cell_type": "code",
   "execution_count": 3,
   "id": "7370d676-e04e-4e3a-ab93-21863605acd8",
   "metadata": {},
   "outputs": [],
   "source": [
    "import pandas as pd\n",
    "s = pd.Series([\"1,234\", \"5,678\", \"9,876\"])"
   ]
  },
  {
   "cell_type": "code",
   "execution_count": 4,
   "id": "b6843a59-171e-486d-8fc9-227a61d7e28f",
   "metadata": {},
   "outputs": [
    {
     "ename": "TypeError",
     "evalue": "cannot convert the series to <class 'int'>",
     "output_type": "error",
     "traceback": [
      "\u001b[0;31m---------------------------------------------------------------------------\u001b[0m",
      "\u001b[0;31mTypeError\u001b[0m                                 Traceback (most recent call last)",
      "Cell \u001b[0;32mIn[4], line 1\u001b[0m\n\u001b[0;32m----> 1\u001b[0m \u001b[38;5;28mprint\u001b[39m(\u001b[38;5;28mint\u001b[39m(s))\n",
      "File \u001b[0;32m~/anaconda3/lib/python3.11/site-packages/pandas/core/series.py:206\u001b[0m, in \u001b[0;36m_coerce_method.<locals>.wrapper\u001b[0;34m(self)\u001b[0m\n\u001b[1;32m    204\u001b[0m \u001b[38;5;28;01mif\u001b[39;00m \u001b[38;5;28mlen\u001b[39m(\u001b[38;5;28mself\u001b[39m) \u001b[38;5;241m==\u001b[39m \u001b[38;5;241m1\u001b[39m:\n\u001b[1;32m    205\u001b[0m     \u001b[38;5;28;01mreturn\u001b[39;00m converter(\u001b[38;5;28mself\u001b[39m\u001b[38;5;241m.\u001b[39miloc[\u001b[38;5;241m0\u001b[39m])\n\u001b[0;32m--> 206\u001b[0m \u001b[38;5;28;01mraise\u001b[39;00m \u001b[38;5;167;01mTypeError\u001b[39;00m(\u001b[38;5;124mf\u001b[39m\u001b[38;5;124m\"\u001b[39m\u001b[38;5;124mcannot convert the series to \u001b[39m\u001b[38;5;132;01m{\u001b[39;00mconverter\u001b[38;5;132;01m}\u001b[39;00m\u001b[38;5;124m\"\u001b[39m)\n",
      "\u001b[0;31mTypeError\u001b[0m: cannot convert the series to <class 'int'>"
     ]
    }
   ],
   "source": [
    "print(int(s))"
   ]
  },
  {
   "cell_type": "code",
   "execution_count": 8,
   "id": "9378cfa0-a345-488f-bf2a-0fed86fdd0c1",
   "metadata": {},
   "outputs": [
    {
     "name": "stdout",
     "output_type": "stream",
     "text": [
      "1,234 in function\n",
      "5,678 in function\n",
      "9,876 in function\n",
      "0    1,234\n",
      "1    5,678\n",
      "2    9,876\n",
      "dtype: object\n"
     ]
    }
   ],
   "source": [
    "import pandas as pd\n",
    "s = pd.Series([\"1,234\", \"5,678\", \"9,876\"])\n",
    "\n",
    "def remove_comma(x):\n",
    "    print(x, 'in function')\n",
    "    return x\n",
    "\n",
    "result = s.map(remove_comma)\n",
    "print(result)"
   ]
  },
  {
   "cell_type": "code",
   "execution_count": 7,
   "id": "6fd97c6d-2091-4a88-94a6-12e02ed38793",
   "metadata": {},
   "outputs": [
    {
     "name": "stdout",
     "output_type": "stream",
     "text": [
      "0    1234\n",
      "1    5678\n",
      "2    9876\n",
      "dtype: int64\n"
     ]
    }
   ],
   "source": [
    "def remove_comma(x):\n",
    "    return int(x.replace(\",\", \"\"))\n",
    "\n",
    "result = s.map(remove_comma)\n",
    "print(result)"
   ]
  },
  {
   "cell_type": "code",
   "execution_count": 11,
   "id": "622b044d-9c3c-4401-877e-c3a914fc86a3",
   "metadata": {},
   "outputs": [
    {
     "name": "stdout",
     "output_type": "stream",
     "text": [
      "0    작다\n",
      "1    크다\n",
      "2    크다\n",
      "dtype: object\n"
     ]
    }
   ],
   "source": [
    "def is_greater_than_5000(x):\n",
    "    if x > 5000:\n",
    "        return \"크다\"\n",
    "    else:\n",
    "        return \"작다\"\n",
    "\n",
    "s = pd.Series([1234, 5678, 9876])\n",
    "s = s.map(is_greater_than_5000)\n",
    "print(s)"
   ]
  },
  {
   "cell_type": "markdown",
   "id": "7e376b83-668c-4ca4-abd5-f283d437877e",
   "metadata": {},
   "source": [
    "## 3.9 시리즈 필터링"
   ]
  },
  {
   "cell_type": "code",
   "execution_count": 1,
   "id": "939c4faf-bab3-4538-8c16-3a7ffd353b41",
   "metadata": {},
   "outputs": [],
   "source": [
    "import pandas as pd"
   ]
  },
  {
   "cell_type": "code",
   "execution_count": 2,
   "id": "266f3df5-30a9-49e4-bfb3-d779b726ff12",
   "metadata": {},
   "outputs": [],
   "source": [
    "data = [42500, 42550, 41800, 42550, 42650]\n",
    "index = ['2019-05-31','2019-05-30','2019-05-29','2019-05-28','2019-05-27']"
   ]
  },
  {
   "cell_type": "code",
   "execution_count": 3,
   "id": "d2c08e7d-deea-4161-8f1e-13523e4d32cc",
   "metadata": {},
   "outputs": [],
   "source": [
    "s = pd.Series(data = data, index = index)"
   ]
  },
  {
   "cell_type": "code",
   "execution_count": 4,
   "id": "a5bec569-f129-4bcc-ba29-6d79c7798b63",
   "metadata": {},
   "outputs": [
    {
     "name": "stdout",
     "output_type": "stream",
     "text": [
      "2019-05-31     True\n",
      "2019-05-30     True\n",
      "2019-05-29    False\n",
      "2019-05-28     True\n",
      "2019-05-27     True\n",
      "dtype: bool\n"
     ]
    }
   ],
   "source": [
    "cond = s > 42000\n",
    "print(cond)"
   ]
  },
  {
   "cell_type": "code",
   "execution_count": 5,
   "id": "f07a962f-45b6-4303-837d-7a835c6d6e79",
   "metadata": {},
   "outputs": [
    {
     "name": "stdout",
     "output_type": "stream",
     "text": [
      "2019-05-31    42500\n",
      "2019-05-30    42550\n",
      "2019-05-29    41800\n",
      "2019-05-28    42550\n",
      "2019-05-27    42650\n",
      "dtype: int64\n"
     ]
    }
   ],
   "source": [
    "print(s)"
   ]
  },
  {
   "cell_type": "code",
   "execution_count": 9,
   "id": "9fdf034a-bb39-4691-ac45-8cca61a430fc",
   "metadata": {},
   "outputs": [
    {
     "name": "stdout",
     "output_type": "stream",
     "text": [
      "2019-05-31    42500\n",
      "2019-05-30    42550\n",
      "2019-05-28    42550\n",
      "2019-05-27    42650\n",
      "dtype: int64\n"
     ]
    }
   ],
   "source": [
    "print(s[cond])"
   ]
  },
  {
   "cell_type": "code",
   "execution_count": 12,
   "id": "ef826f60-2304-41ab-a388-2d87c9fe8a74",
   "metadata": {},
   "outputs": [
    {
     "name": "stdout",
     "output_type": "stream",
     "text": [
      "42650\n"
     ]
    }
   ],
   "source": [
    "print(s['2019-05-27'])"
   ]
  },
  {
   "cell_type": "code",
   "execution_count": 13,
   "id": "755f891a-158a-4ae6-ae60-2f9551275a02",
   "metadata": {},
   "outputs": [],
   "source": [
    "close = [42500, 42550, 41800, 42550, 42650]\n",
    "open = [42600, 42200, 41850, 42550, 42500]\n",
    "index = ['2019-05-31','2019-05-30','2019-05-29','2019-05-28','2019-05-27']"
   ]
  },
  {
   "cell_type": "code",
   "execution_count": 14,
   "id": "e212001b-9dae-4cd0-86f0-d9c3855d594d",
   "metadata": {},
   "outputs": [],
   "source": [
    "open = pd.Series(data = open, index = index)\n",
    "close = pd.Series(data = close, index = index)"
   ]
  },
  {
   "cell_type": "code",
   "execution_count": 15,
   "id": "c0bf88eb-de60-4c1a-870f-f8fa0f0ad371",
   "metadata": {},
   "outputs": [
    {
     "name": "stdout",
     "output_type": "stream",
     "text": [
      "2019-05-31    False\n",
      "2019-05-30     True\n",
      "2019-05-29    False\n",
      "2019-05-28    False\n",
      "2019-05-27     True\n",
      "dtype: bool\n"
     ]
    }
   ],
   "source": [
    "cond = close > open\n",
    "print(cond)"
   ]
  },
  {
   "cell_type": "code",
   "execution_count": 16,
   "id": "079cd2c3-7eec-4314-9707-cd1dfd5d5a46",
   "metadata": {},
   "outputs": [
    {
     "name": "stdout",
     "output_type": "stream",
     "text": [
      "2019-05-30    42550\n",
      "2019-05-27    42650\n",
      "dtype: int64\n"
     ]
    }
   ],
   "source": [
    "print(s[cond])"
   ]
  },
  {
   "cell_type": "code",
   "execution_count": 17,
   "id": "554e497c-946e-4788-97d5-b0990b40c995",
   "metadata": {},
   "outputs": [
    {
     "name": "stdout",
     "output_type": "stream",
     "text": [
      "2019-05-30    42550\n",
      "2019-05-27    42650\n",
      "dtype: int64\n"
     ]
    }
   ],
   "source": [
    "print(close[close > open])"
   ]
  },
  {
   "cell_type": "code",
   "execution_count": 18,
   "id": "0713363e-7786-4004-9f51-b7ca216622af",
   "metadata": {},
   "outputs": [
    {
     "name": "stdout",
     "output_type": "stream",
     "text": [
      "Index(['2019-05-30', '2019-05-27'], dtype='object')\n"
     ]
    }
   ],
   "source": [
    "print(close.index[close > open])"
   ]
  },
  {
   "cell_type": "code",
   "execution_count": 19,
   "id": "48042225-e5c6-4ee8-8fda-7a209d59d935",
   "metadata": {},
   "outputs": [
    {
     "name": "stdout",
     "output_type": "stream",
     "text": [
      "Index(['2019-05-30', '2019-05-27'], dtype='object')\n"
     ]
    }
   ],
   "source": [
    "print(close[close > open].index)"
   ]
  },
  {
   "cell_type": "code",
   "execution_count": 20,
   "id": "471b20ee-e335-4fc1-9959-7001b82e9173",
   "metadata": {},
   "outputs": [
    {
     "name": "stdout",
     "output_type": "stream",
     "text": [
      "2019-05-30    350\n",
      "2019-05-27    150\n",
      "dtype: int64\n"
     ]
    }
   ],
   "source": [
    "diff = close - open\n",
    "print(diff[close > open])"
   ]
  },
  {
   "cell_type": "markdown",
   "id": "c57b3a53-3f83-4e23-8929-09554d46358f",
   "metadata": {},
   "source": [
    "## 3.10 정렬 및 순위"
   ]
  },
  {
   "cell_type": "code",
   "execution_count": 21,
   "id": "e3e1f563-0db9-464c-9e17-6e85120719f5",
   "metadata": {},
   "outputs": [],
   "source": [
    "import pandas as pd"
   ]
  },
  {
   "cell_type": "code",
   "execution_count": 22,
   "id": "2567e739-57f3-4e46-868f-a87895507cbe",
   "metadata": {},
   "outputs": [],
   "source": [
    "data = [3.1, 2.0, 10.1, 5.1]"
   ]
  },
  {
   "cell_type": "code",
   "execution_count": 23,
   "id": "4dcd54de-f08f-4ca0-886c-fb857c23b859",
   "metadata": {},
   "outputs": [],
   "source": [
    "index = ['000010', '000020', '000030', '000040']\n",
    "s = pd.Series(data = data, index = index)"
   ]
  },
  {
   "cell_type": "code",
   "execution_count": 24,
   "id": "7c49d767-db37-4b38-888e-d15a04ffae41",
   "metadata": {},
   "outputs": [
    {
     "name": "stdout",
     "output_type": "stream",
     "text": [
      "000010     3.1\n",
      "000020     2.0\n",
      "000030    10.1\n",
      "000040     5.1\n",
      "dtype: float64\n"
     ]
    }
   ],
   "source": [
    "print(s)"
   ]
  },
  {
   "cell_type": "code",
   "execution_count": 25,
   "id": "7d6d7877-03c9-4937-8929-7da4a0429df9",
   "metadata": {},
   "outputs": [],
   "source": [
    "s1 = s.sort_values()"
   ]
  },
  {
   "cell_type": "code",
   "execution_count": 26,
   "id": "30347b9e-54c2-4b2a-b724-3b1489db8086",
   "metadata": {},
   "outputs": [],
   "source": [
    "s2 = s.sort_values(ascending = False)"
   ]
  },
  {
   "cell_type": "code",
   "execution_count": 32,
   "id": "dc5d8030-b2ba-427c-83a9-3fcd45fdfdae",
   "metadata": {},
   "outputs": [
    {
     "name": "stdout",
     "output_type": "stream",
     "text": [
      "000020     2.0\n",
      "000010     3.1\n",
      "000040     5.1\n",
      "000030    10.1\n",
      "dtype: float64\n",
      "000030    10.1\n",
      "000040     5.1\n",
      "000010     3.1\n",
      "000020     2.0\n",
      "dtype: float64\n"
     ]
    }
   ],
   "source": [
    "print(s1)\n",
    "print(s2)"
   ]
  },
  {
   "cell_type": "code",
   "execution_count": 35,
   "id": "09148922-38cd-42b7-ade8-b83bd532ce62",
   "metadata": {},
   "outputs": [
    {
     "name": "stdout",
     "output_type": "stream",
     "text": [
      "000020     2.0\n",
      "000010     3.1\n",
      "000040     5.1\n",
      "000030    10.1\n",
      "dtype: float64 \n",
      " 000030    10.1\n",
      "000040     5.1\n",
      "000010     3.1\n",
      "000020     2.0\n",
      "dtype: float64\n"
     ]
    }
   ],
   "source": [
    "print(s1, \"\\n\", s2)"
   ]
  },
  {
   "cell_type": "code",
   "execution_count": 36,
   "id": "5b21b5d1-72cb-40e4-899a-559740819f4c",
   "metadata": {},
   "outputs": [
    {
     "name": "stdout",
     "output_type": "stream",
     "text": [
      "000010    2.0\n",
      "000020    1.0\n",
      "000030    4.0\n",
      "000040    3.0\n",
      "dtype: float64\n"
     ]
    }
   ],
   "source": [
    "print(s.rank())"
   ]
  },
  {
   "cell_type": "code",
   "execution_count": 38,
   "id": "45868c46-330b-4a6c-98d6-8487ea980087",
   "metadata": {},
   "outputs": [
    {
     "name": "stdout",
     "output_type": "stream",
     "text": [
      "000010    3.0\n",
      "000020    4.0\n",
      "000030    1.0\n",
      "000040    2.0\n",
      "dtype: float64\n"
     ]
    }
   ],
   "source": [
    "print(s.rank(ascending = False))"
   ]
  },
  {
   "cell_type": "code",
   "execution_count": 39,
   "id": "8824a8bf-bcdb-4a00-b155-09c76ef24416",
   "metadata": {},
   "outputs": [
    {
     "data": {
      "text/plain": [
       "000010     3.1\n",
       "000020     2.0\n",
       "000030    10.1\n",
       "000040     5.1\n",
       "dtype: float64"
      ]
     },
     "execution_count": 39,
     "metadata": {},
     "output_type": "execute_result"
    }
   ],
   "source": [
    "s"
   ]
  },
  {
   "cell_type": "code",
   "execution_count": 40,
   "id": "d6fea899-e9ae-41f2-b41d-ad94ec63b50e",
   "metadata": {},
   "outputs": [
    {
     "data": {
      "text/plain": [
       "000010    2.0\n",
       "000020    1.0\n",
       "000030    4.0\n",
       "000040    3.0\n",
       "dtype: float64"
      ]
     },
     "execution_count": 40,
     "metadata": {},
     "output_type": "execute_result"
    }
   ],
   "source": [
    "s.rank()"
   ]
  },
  {
   "cell_type": "code",
   "execution_count": null,
   "id": "694ef78b-0b05-40e2-b2b4-f01ac78a594d",
   "metadata": {},
   "outputs": [],
   "source": []
  }
 ],
 "metadata": {
  "kernelspec": {
   "display_name": "Python 3 (ipykernel)",
   "language": "python",
   "name": "python3"
  },
  "language_info": {
   "codemirror_mode": {
    "name": "ipython",
    "version": 3
   },
   "file_extension": ".py",
   "mimetype": "text/x-python",
   "name": "python",
   "nbconvert_exporter": "python",
   "pygments_lexer": "ipython3",
   "version": "3.11.7"
  }
 },
 "nbformat": 4,
 "nbformat_minor": 5
}
