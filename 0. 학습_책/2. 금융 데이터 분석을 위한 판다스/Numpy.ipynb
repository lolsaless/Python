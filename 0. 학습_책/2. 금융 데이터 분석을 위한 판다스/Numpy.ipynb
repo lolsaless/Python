{
 "cells": [
  {
   "cell_type": "code",
   "execution_count": 1,
   "id": "05d6a86a-b261-4e8d-aeb5-68e34f67fd53",
   "metadata": {},
   "outputs": [],
   "source": [
    "import numpy as np"
   ]
  },
  {
   "cell_type": "code",
   "execution_count": 2,
   "id": "d2839aba-84c6-4f9c-8c24-36a055260a3e",
   "metadata": {},
   "outputs": [
    {
     "name": "stdout",
     "output_type": "stream",
     "text": [
      "[1 2 3]\n",
      "<class 'numpy.ndarray'>\n"
     ]
    }
   ],
   "source": [
    "data = [1, 2, 3]\n",
    "arry = np.array(data)\n",
    "print(arry)\n",
    "print(type(arry))"
   ]
  },
  {
   "cell_type": "code",
   "execution_count": 3,
   "id": "50611211-413a-4e42-ab6a-da67fe16554c",
   "metadata": {},
   "outputs": [
    {
     "name": "stdout",
     "output_type": "stream",
     "text": [
      "[10, 20, 30]\n"
     ]
    }
   ],
   "source": [
    "result = []\n",
    "for i in data:\n",
    "    a = i * 10\n",
    "    result.append(a)\n",
    "\n",
    "print(result)"
   ]
  },
  {
   "cell_type": "code",
   "execution_count": 4,
   "id": "d1d92ba9-a428-4aff-874a-707d9eed6103",
   "metadata": {},
   "outputs": [
    {
     "data": {
      "text/plain": [
       "array([1, 2, 3])"
      ]
     },
     "execution_count": 4,
     "metadata": {},
     "output_type": "execute_result"
    }
   ],
   "source": [
    "arry"
   ]
  },
  {
   "cell_type": "code",
   "execution_count": 5,
   "id": "2e835ee2-d2c3-4298-b399-f1353e1cedf3",
   "metadata": {},
   "outputs": [
    {
     "data": {
      "text/plain": [
       "array([10, 20, 30])"
      ]
     },
     "execution_count": 5,
     "metadata": {},
     "output_type": "execute_result"
    }
   ],
   "source": [
    "arry * 10"
   ]
  },
  {
   "cell_type": "code",
   "execution_count": 6,
   "id": "458c0d8f-a641-4a5e-9e44-7cefc29e79f9",
   "metadata": {},
   "outputs": [
    {
     "name": "stdout",
     "output_type": "stream",
     "text": [
      "[[1, 2, 3], [4, 5, 6], [7, 8, 9]]\n"
     ]
    }
   ],
   "source": [
    "data2d = [\n",
    "    [1, 2, 3],\n",
    "    [4, 5, 6],\n",
    "    [7, 8, 9]\n",
    "]\n",
    "\n",
    "print(data2d)"
   ]
  },
  {
   "cell_type": "code",
   "execution_count": 7,
   "id": "44757683-41cd-4f35-a031-9615641892ae",
   "metadata": {},
   "outputs": [
    {
     "data": {
      "text/plain": [
       "[1, 2, 3]"
      ]
     },
     "execution_count": 7,
     "metadata": {},
     "output_type": "execute_result"
    }
   ],
   "source": [
    "data2d[0]"
   ]
  },
  {
   "cell_type": "code",
   "execution_count": 8,
   "id": "15125957-bb6a-46ea-bc24-29880f9c9a65",
   "metadata": {},
   "outputs": [
    {
     "data": {
      "text/plain": [
       "[4, 5, 6]"
      ]
     },
     "execution_count": 8,
     "metadata": {},
     "output_type": "execute_result"
    }
   ],
   "source": [
    "data2d[1]"
   ]
  },
  {
   "cell_type": "code",
   "execution_count": 9,
   "id": "3afcdb85-aa01-49ae-a03f-2fc576a18067",
   "metadata": {},
   "outputs": [
    {
     "data": {
      "text/plain": [
       "list"
      ]
     },
     "execution_count": 9,
     "metadata": {},
     "output_type": "execute_result"
    }
   ],
   "source": [
    "type(data2d)"
   ]
  },
  {
   "cell_type": "code",
   "execution_count": 10,
   "id": "d7da259c-1b54-4797-b16a-9b122d151ec8",
   "metadata": {},
   "outputs": [
    {
     "name": "stdout",
     "output_type": "stream",
     "text": [
      "[1 4 7]\n"
     ]
    }
   ],
   "source": [
    "arry = np.array(data2d)\n",
    "print(arry[:, 0])"
   ]
  },
  {
   "cell_type": "markdown",
   "id": "ab8b9c2b-52e5-4db8-b3c4-3a047eee9ccc",
   "metadata": {},
   "source": [
    "### page 27\n",
    "numpy는 다차원 배열을 위한 ndarray클래스(타입)를 제공한다.</br>\n",
    "1차원 리스트를 Numpy array 함수에 전달하면 쉽게 ndarray객체로 변환할 수 있다.</br>\n",
    "범용적인 용도로 사용되는 파이썬 list 타입을 행렬과 다차원 배열에 최적화된 ndarray타입으로 변환하는 것이다."
   ]
  },
  {
   "cell_type": "code",
   "execution_count": 13,
   "id": "c70bd558-141f-4fe6-9b9e-b09d03f82394",
   "metadata": {},
   "outputs": [],
   "source": [
    "data1 = [1, 2, 3, 4]\n",
    "\n",
    "arr1 = np.array(data1)"
   ]
  },
  {
   "cell_type": "code",
   "execution_count": 14,
   "id": "340e1289-14bd-41a3-b5ec-d4c27abd51dd",
   "metadata": {},
   "outputs": [
    {
     "name": "stdout",
     "output_type": "stream",
     "text": [
      "[1 2 3 4]\n"
     ]
    }
   ],
   "source": [
    "print(arr1)"
   ]
  },
  {
   "cell_type": "code",
   "execution_count": 16,
   "id": "1578d16d-ca8c-4aa0-8fe2-2347e85a2613",
   "metadata": {},
   "outputs": [
    {
     "name": "stdout",
     "output_type": "stream",
     "text": [
      "<class 'numpy.ndarray'>\n"
     ]
    }
   ],
   "source": [
    "print(type(arr1))"
   ]
  },
  {
   "cell_type": "code",
   "execution_count": 17,
   "id": "4cd2fd2c-6548-45d1-8e89-a9014ef502a3",
   "metadata": {},
   "outputs": [],
   "source": [
    "data2 = [\n",
    "    [1, 2],\n",
    "    [3, 4]\n",
    "]\n",
    "\n",
    "arr2 = np.array(data2)"
   ]
  },
  {
   "cell_type": "code",
   "execution_count": 21,
   "id": "3325c25d-1966-4766-85d0-009192dd5174",
   "metadata": {},
   "outputs": [
    {
     "name": "stdout",
     "output_type": "stream",
     "text": [
      "[1 2]\n"
     ]
    }
   ],
   "source": [
    "print(arr2[0])"
   ]
  },
  {
   "cell_type": "code",
   "execution_count": 22,
   "id": "0216ab03-3424-42d4-ab07-481c3c1e057e",
   "metadata": {},
   "outputs": [
    {
     "name": "stdout",
     "output_type": "stream",
     "text": [
      "[3 4]\n"
     ]
    }
   ],
   "source": [
    "print(arr2[1])"
   ]
  },
  {
   "cell_type": "code",
   "execution_count": 20,
   "id": "c11c22c1-8137-4d56-9efa-eca5704d43df",
   "metadata": {},
   "outputs": [
    {
     "name": "stdout",
     "output_type": "stream",
     "text": [
      "<class 'numpy.ndarray'>\n"
     ]
    }
   ],
   "source": [
    "print(type(arr2[0]))"
   ]
  },
  {
   "cell_type": "markdown",
   "id": "750144b7-7bbb-40d7-8dc7-0cf9978b292b",
   "metadata": {},
   "source": [
    "ndarray 객체의 인스턴스 변수를 사용해서 저장된 데이터의 정보를 조회할 수 있다.</br>\n",
    "shape는 ndarray의 크기 정보를, ndim은 차원 정보를, dtype은 데이터 타입을 표현한다."
   ]
  },
  {
   "cell_type": "code",
   "execution_count": 23,
   "id": "342cfca9-8282-4a2b-899b-88789f3ea6c4",
   "metadata": {},
   "outputs": [
    {
     "name": "stdout",
     "output_type": "stream",
     "text": [
      "(2, 2)\n"
     ]
    }
   ],
   "source": [
    "print(arr2.shape)"
   ]
  },
  {
   "cell_type": "code",
   "execution_count": 24,
   "id": "71d6f31a-f754-4280-917d-71c02be52178",
   "metadata": {},
   "outputs": [
    {
     "name": "stdout",
     "output_type": "stream",
     "text": [
      "2\n"
     ]
    }
   ],
   "source": [
    "print(arr2.ndim)"
   ]
  },
  {
   "cell_type": "code",
   "execution_count": 25,
   "id": "7d75aadb-ba1a-4388-b401-447e78865c7d",
   "metadata": {},
   "outputs": [
    {
     "name": "stdout",
     "output_type": "stream",
     "text": [
      "int64\n"
     ]
    }
   ],
   "source": [
    "print(arr2.dtype)"
   ]
  },
  {
   "cell_type": "code",
   "execution_count": 26,
   "id": "ad953e64-aa64-407a-a3d6-9350603829f3",
   "metadata": {},
   "outputs": [
    {
     "name": "stdout",
     "output_type": "stream",
     "text": [
      "(4,)\n"
     ]
    }
   ],
   "source": [
    "print(arr1.shape)"
   ]
  },
  {
   "cell_type": "markdown",
   "id": "3f1bf546-6c3b-4bea-bb8c-7fece3146f6b",
   "metadata": {},
   "source": [
    "튜플에 하나의 값이 들어 있을 때는 1차원 데이터를 뜻하며, 첫 번째 값이 로우의 길이가 아닌 데이터의 길이다."
   ]
  },
  {
   "cell_type": "code",
   "execution_count": 28,
   "id": "96bcd58f-bc91-4a05-9eb7-630e62ff0fd8",
   "metadata": {},
   "outputs": [
    {
     "name": "stdout",
     "output_type": "stream",
     "text": [
      "[0. 0. 0.]\n"
     ]
    }
   ],
   "source": [
    "print(np.zeros(3))"
   ]
  },
  {
   "cell_type": "code",
   "execution_count": 29,
   "id": "37aba4b0-e86c-4708-b284-d6c9cc685e89",
   "metadata": {},
   "outputs": [
    {
     "name": "stdout",
     "output_type": "stream",
     "text": [
      "[1. 1. 1.]\n"
     ]
    }
   ],
   "source": [
    "print(np.ones(3))"
   ]
  },
  {
   "cell_type": "markdown",
   "id": "883588d6-4ead-453f-81fd-edd00e817979",
   "metadata": {},
   "source": [
    "zeros와 ones 함수는 기본적으로 float타입으로 데이터를 저장한다.</br>\n",
    "출력된 결과에 소수점(dot)은 저장된 데이터가 float타입임을 알려준다."
   ]
  },
  {
   "cell_type": "code",
   "execution_count": 30,
   "id": "b141ed44-8b2f-45d6-b326-d4d9ae0c564a",
   "metadata": {},
   "outputs": [],
   "source": [
    "size = (3, 4)"
   ]
  },
  {
   "cell_type": "code",
   "execution_count": 31,
   "id": "bcbd58f3-983a-4f30-8daa-2cd166244dca",
   "metadata": {},
   "outputs": [
    {
     "data": {
      "text/plain": [
       "tuple"
      ]
     },
     "execution_count": 31,
     "metadata": {},
     "output_type": "execute_result"
    }
   ],
   "source": [
    "type(size)"
   ]
  },
  {
   "cell_type": "code",
   "execution_count": 32,
   "id": "eb9f3a63-54ed-4f02-997d-b5bbbe05af37",
   "metadata": {},
   "outputs": [
    {
     "name": "stdout",
     "output_type": "stream",
     "text": [
      "[[0. 0. 0. 0.]\n",
      " [0. 0. 0. 0.]\n",
      " [0. 0. 0. 0.]]\n"
     ]
    }
   ],
   "source": [
    "print(np.zeros(size))"
   ]
  },
  {
   "cell_type": "code",
   "execution_count": 33,
   "id": "1e1640e9-09f6-4fb1-8485-922fbb0d96aa",
   "metadata": {},
   "outputs": [
    {
     "name": "stdout",
     "output_type": "stream",
     "text": [
      "[0 1 2 3 4]\n",
      "[1 2 3 4]\n",
      "[1 3]\n"
     ]
    }
   ],
   "source": [
    "print(np.arange(5))\n",
    "print(np.arange(1, 5))\n",
    "print(np.arange(1, 5, 2))"
   ]
  },
  {
   "cell_type": "code",
   "execution_count": 34,
   "id": "577fee2f-4a8c-4eea-b8f0-c555fbcd9779",
   "metadata": {},
   "outputs": [
    {
     "name": "stdout",
     "output_type": "stream",
     "text": [
      "[[0 1 2]\n",
      " [3 4 5]]\n"
     ]
    }
   ],
   "source": [
    "ndarr1 = np.arange(6)\n",
    "ndarr2 = ndarr1.reshape(2, 3)\n",
    "print(ndarr2)"
   ]
  },
  {
   "cell_type": "code",
   "execution_count": 35,
   "id": "0599b74c-0d20-4917-895c-36f0f7337941",
   "metadata": {},
   "outputs": [
    {
     "data": {
      "text/plain": [
       "array([[0, 1],\n",
       "       [2, 3],\n",
       "       [4, 5]])"
      ]
     },
     "execution_count": 35,
     "metadata": {},
     "output_type": "execute_result"
    }
   ],
   "source": [
    "ndarr1.reshape(3, 2)"
   ]
  },
  {
   "cell_type": "code",
   "execution_count": 36,
   "id": "3b59efa2-90c3-487c-8d60-c721be783cea",
   "metadata": {},
   "outputs": [
    {
     "name": "stdout",
     "output_type": "stream",
     "text": [
      "uint8\n",
      "u\n",
      "1\n"
     ]
    }
   ],
   "source": [
    "arr = np.array([1, 2, 3], dtype = np.uint8)\n",
    "print(arr.dtype)\n",
    "print(arr.dtype.kind)\n",
    "print(arr.dtype.alignment)"
   ]
  },
  {
   "cell_type": "code",
   "execution_count": 37,
   "id": "b0d4f32d-9b7b-47e4-815c-f8070b169a35",
   "metadata": {},
   "outputs": [
    {
     "name": "stdout",
     "output_type": "stream",
     "text": [
      "int8\n"
     ]
    }
   ],
   "source": [
    "arr = arr.astype('int8')\n",
    "print(arr.dtype)"
   ]
  },
  {
   "cell_type": "code",
   "execution_count": 40,
   "id": "588e1dc9-fcdb-4994-b506-aa728e21b391",
   "metadata": {},
   "outputs": [
    {
     "name": "stdout",
     "output_type": "stream",
     "text": [
      "[  0 255]\n",
      "[ 0 -1]\n"
     ]
    }
   ],
   "source": [
    "a = np.array([0, 255], dtype=np.uint8)\n",
    "b = a.astype('int8')\n",
    "print(a)\n",
    "print(b)"
   ]
  },
  {
   "cell_type": "code",
   "execution_count": 41,
   "id": "5576d713-130f-4e22-89db-eec528439a09",
   "metadata": {},
   "outputs": [
    {
     "name": "stdout",
     "output_type": "stream",
     "text": [
      "[1.333]\n",
      "[1.333333]\n"
     ]
    }
   ],
   "source": [
    "a16 = np.array([1.333333], dtype = np.float16)\n",
    "a32 = np.array([1.333333], dtype = np.float32)\n",
    "print(a16)\n",
    "print(a32)"
   ]
  },
  {
   "cell_type": "code",
   "execution_count": 43,
   "id": "0e855b6a-580d-4e14-8b78-a1106e2910ab",
   "metadata": {},
   "outputs": [
    {
     "name": "stdout",
     "output_type": "stream",
     "text": [
      "[0.3333]\n",
      "[0.33333334]\n"
     ]
    }
   ],
   "source": [
    "a16 = np.array([1.0], dtype = np.float16)\n",
    "a32 = np.array([1.0], dtype = np.float32)\n",
    "print(a16/3)\n",
    "print(a32/3)"
   ]
  },
  {
   "cell_type": "markdown",
   "id": "01e03a93-a159-432d-9227-44f8eee8133c",
   "metadata": {},
   "source": [
    "## 인덱싱과 슬라이싱"
   ]
  },
  {
   "cell_type": "code",
   "execution_count": null,
   "id": "4ad3f22a-36bf-478b-8fa4-922959a374da",
   "metadata": {},
   "outputs": [],
   "source": []
  }
 ],
 "metadata": {
  "kernelspec": {
   "display_name": "Python 3 (ipykernel)",
   "language": "python",
   "name": "python3"
  },
  "language_info": {
   "codemirror_mode": {
    "name": "ipython",
    "version": 3
   },
   "file_extension": ".py",
   "mimetype": "text/x-python",
   "name": "python",
   "nbconvert_exporter": "python",
   "pygments_lexer": "ipython3",
   "version": "3.11.5"
  }
 },
 "nbformat": 4,
 "nbformat_minor": 5
}
