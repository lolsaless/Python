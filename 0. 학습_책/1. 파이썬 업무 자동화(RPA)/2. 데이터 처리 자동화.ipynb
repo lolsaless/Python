{
 "cells": [
  {
   "cell_type": "code",
   "execution_count": 1,
   "id": "e42c5e50-6011-4a61-9cc7-823619ce66cf",
   "metadata": {},
   "outputs": [],
   "source": [
    "import pandas as pd"
   ]
  },
  {
   "cell_type": "code",
   "execution_count": 2,
   "id": "fe255d58-6df5-4687-a435-4271e3cd4221",
   "metadata": {},
   "outputs": [],
   "source": [
    "import os"
   ]
  },
  {
   "cell_type": "code",
   "execution_count": 9,
   "id": "39bf0503-f759-4e15-9a7b-917df95c8fae",
   "metadata": {},
   "outputs": [],
   "source": [
    "basic_folder = 'new_data2'\n",
    "\n",
    "file_list = os.listdir(f\"./{basic_folder }\")"
   ]
  },
  {
   "cell_type": "code",
   "execution_count": 10,
   "id": "22b73436-4e0c-4a7a-8279-3482b94309d3",
   "metadata": {},
   "outputs": [
    {
     "data": {
      "text/plain": [
       "['product_england_automobile.xlsx',\n",
       " 'product_spain_semiconductor.xlsx',\n",
       " 'product_france_automobile.xlsx',\n",
       " 'product_england_battery.xlsx',\n",
       " 'product_italy_metaverse.xlsx',\n",
       " 'product_spain_automobile.xlsx',\n",
       " 'product_canada_automobile.xlsx',\n",
       " 'product_china_semiconductor.xlsx',\n",
       " 'product_italy_automobile.xlsx',\n",
       " 'product_italy_battery.xlsx',\n",
       " 'product_south_africa_semiconductor.xlsx',\n",
       " 'product_taiwan_battery.xlsx',\n",
       " 'product_america_metaverse.xlsx',\n",
       " 'product_america_battery.xlsx',\n",
       " 'product_france_battery.xlsx',\n",
       " 'product_spain_metaverse.xlsx',\n",
       " 'product_china_metaverse.xlsx',\n",
       " 'product_germany_metaverse.xlsx',\n",
       " 'product_canada_battery.xlsx',\n",
       " 'product_japan_automobile.xlsx',\n",
       " 'product_south_africa_metaverse.xlsx',\n",
       " 'product_japan_metaverse.xlsx',\n",
       " 'product_america_automobile.xlsx',\n",
       " 'product_germany_automobile.xlsx',\n",
       " 'product_china_battery.xlsx',\n",
       " 'product_canada_semiconductor.xlsx',\n",
       " 'product_canada_metaverse.xlsx',\n",
       " 'product_germany_battery.xlsx',\n",
       " 'product_england_metaverse.xlsx',\n",
       " 'product_america_semiconductor.xlsx',\n",
       " 'product_taiwan_metaverse.xlsx',\n",
       " 'product_japan_battery.xlsx',\n",
       " 'product_germany_semiconductor.xlsx',\n",
       " 'product_taiwan_semiconductor.xlsx',\n",
       " 'product_spain_battery.xlsx',\n",
       " 'product_japan_semiconductor.xlsx',\n",
       " 'product_taiwan_automobile.xlsx',\n",
       " 'product_south_africa_automobile.xlsx',\n",
       " 'product_italy_semiconductor.xlsx',\n",
       " 'product_france_metaverse.xlsx',\n",
       " 'product_france_semiconductor.xlsx',\n",
       " 'product_china_automobile.xlsx',\n",
       " 'product_south_africa_battery.xlsx',\n",
       " 'product_england_semiconductor.xlsx']"
      ]
     },
     "execution_count": 10,
     "metadata": {},
     "output_type": "execute_result"
    }
   ],
   "source": [
    "file_list"
   ]
  },
  {
   "cell_type": "code",
   "execution_count": 6,
   "id": "65d21161-8bd2-4afd-b70a-535d02aa5eb9",
   "metadata": {},
   "outputs": [
    {
     "data": {
      "text/plain": [
       "['product_england_automobile.xlsx',\n",
       " 'product_spain_semiconductor.xlsx',\n",
       " 'product_france_automobile.xlsx',\n",
       " 'product_england_battery.xlsx',\n",
       " 'product_italy_metaverse.xlsx',\n",
       " 'product_spain_automobile.xlsx',\n",
       " 'product_canada_automobile.xlsx',\n",
       " 'product_china_semiconductor.xlsx',\n",
       " 'product_italy_automobile.xlsx',\n",
       " 'product_italy_battery.xlsx',\n",
       " 'product_south_africa_semiconductor.xlsx',\n",
       " 'product_taiwan_battery.xlsx',\n",
       " 'product_america_metaverse.xlsx',\n",
       " 'product_america_battery.xlsx',\n",
       " 'product_france_battery.xlsx',\n",
       " 'product_spain_metaverse.xlsx',\n",
       " 'product_china_metaverse.xlsx',\n",
       " 'product_germany_metaverse.xlsx',\n",
       " 'product_canada_battery.xlsx',\n",
       " 'product_japan_automobile.xlsx',\n",
       " 'product_south_africa_metaverse.xlsx',\n",
       " 'product_japan_metaverse.xlsx',\n",
       " 'product_america_automobile.xlsx',\n",
       " 'product_germany_automobile.xlsx',\n",
       " 'product_china_battery.xlsx',\n",
       " 'product_canada_semiconductor.xlsx',\n",
       " 'product_canada_metaverse.xlsx',\n",
       " 'product_germany_battery.xlsx',\n",
       " 'product_england_metaverse.xlsx',\n",
       " 'product_america_semiconductor.xlsx',\n",
       " 'product_taiwan_metaverse.xlsx',\n",
       " 'product_japan_battery.xlsx',\n",
       " 'product_germany_semiconductor.xlsx',\n",
       " 'product_taiwan_semiconductor.xlsx',\n",
       " 'product_spain_battery.xlsx',\n",
       " 'product_japan_semiconductor.xlsx',\n",
       " 'product_taiwan_automobile.xlsx',\n",
       " 'product_south_africa_automobile.xlsx',\n",
       " 'product_italy_semiconductor.xlsx',\n",
       " 'product_france_metaverse.xlsx',\n",
       " 'product_france_semiconductor.xlsx',\n",
       " 'product_china_automobile.xlsx',\n",
       " 'product_south_africa_battery.xlsx',\n",
       " 'product_england_semiconductor.xlsx']"
      ]
     },
     "execution_count": 6,
     "metadata": {},
     "output_type": "execute_result"
    }
   ],
   "source": [
    "file_list_xls = []\n",
    "for i in file_list:\n",
    "    if \".xlsx\" in i:\n",
    "        file_list_xls.append(i)\n",
    "\n",
    "file_list_xls"
   ]
  },
  {
   "cell_type": "code",
   "execution_count": 14,
   "id": "24de759a-c240-4525-aa40-0c9928e3f23d",
   "metadata": {},
   "outputs": [],
   "source": [
    "data_unit_sum = pd.DataFrame()\n",
    "for i in file_list_xls:\n",
    "    df = pd.read_excel(f\"./{basic_folder }/\" + i)\n",
    "    df['나라'] = i.split(\"_\")[1]\n",
    "    data_unit = df[['나라', '조사제품', '제목', '내용']]\n",
    "    data_unit_sum = pd.concat([data_unit_sum, data_unit], axis = 0)\n",
    "\n",
    "data_unit_sum.to_excel('combiend_excel.xlsx')"
   ]
  },
  {
   "cell_type": "code",
   "execution_count": 15,
   "id": "b954ae81-8172-4bb1-8e6d-3a45b074ec23",
   "metadata": {},
   "outputs": [],
   "source": [
    "product_list = data_unit_sum['조사제품'].value_counts()\n",
    "for i in dict(product_list):\n",
    "    xls_name = data_unit_sum[data_unit_sum['조사제품'] == i]\n",
    "    xls_name.to_excel(f\"{i}.xlsx\")"
   ]
  },
  {
   "cell_type": "code",
   "execution_count": 16,
   "id": "ad0411a5-1ac8-45b6-8e73-059d2fe591be",
   "metadata": {},
   "outputs": [
    {
     "data": {
      "text/plain": [
       "metaverse        89\n",
       "battery          86\n",
       "automobile       81\n",
       "semiconductor    80\n",
       "Name: 조사제품, dtype: int64"
      ]
     },
     "execution_count": 16,
     "metadata": {},
     "output_type": "execute_result"
    }
   ],
   "source": [
    "product_list"
   ]
  },
  {
   "cell_type": "code",
   "execution_count": 17,
   "id": "ab23d044-28dd-4a1a-a673-a0267890454a",
   "metadata": {},
   "outputs": [
    {
     "data": {
      "text/plain": [
       "{'metaverse': 89, 'battery': 86, 'automobile': 81, 'semiconductor': 80}"
      ]
     },
     "execution_count": 17,
     "metadata": {},
     "output_type": "execute_result"
    }
   ],
   "source": [
    "dict(product_list)"
   ]
  },
  {
   "cell_type": "code",
   "execution_count": 18,
   "id": "8c510593-2b70-4818-ab41-7d9a38c3320f",
   "metadata": {},
   "outputs": [
    {
     "data": {
      "text/html": [
       "<div>\n",
       "<style scoped>\n",
       "    .dataframe tbody tr th:only-of-type {\n",
       "        vertical-align: middle;\n",
       "    }\n",
       "\n",
       "    .dataframe tbody tr th {\n",
       "        vertical-align: top;\n",
       "    }\n",
       "\n",
       "    .dataframe thead th {\n",
       "        text-align: right;\n",
       "    }\n",
       "</style>\n",
       "<table border=\"1\" class=\"dataframe\">\n",
       "  <thead>\n",
       "    <tr style=\"text-align: right;\">\n",
       "      <th></th>\n",
       "      <th>나라</th>\n",
       "      <th>조사제품</th>\n",
       "      <th>제목</th>\n",
       "      <th>내용</th>\n",
       "    </tr>\n",
       "  </thead>\n",
       "  <tbody>\n",
       "    <tr>\n",
       "      <th>0</th>\n",
       "      <td>spain</td>\n",
       "      <td>semiconductor</td>\n",
       "      <td>Yoon Suk-yeol, first lady, have an eventful fl...</td>\n",
       "      <td>in Spain. Ahead of the summit, a presidential ...</td>\n",
       "    </tr>\n",
       "    <tr>\n",
       "      <th>1</th>\n",
       "      <td>spain</td>\n",
       "      <td>semiconductor</td>\n",
       "      <td>Yoon touts nuclear energy, green tech, chips a...</td>\n",
       "      <td>Yoon returned home on Friday after attending t...</td>\n",
       "    </tr>\n",
       "    <tr>\n",
       "      <th>2</th>\n",
       "      <td>spain</td>\n",
       "      <td>semiconductor</td>\n",
       "      <td>S. Korea, US, Japan agree to step up pressure ...</td>\n",
       "      <td>Madrid, Spain, Wednesday (local time). The las...</td>\n",
       "    </tr>\n",
       "    <tr>\n",
       "      <th>3</th>\n",
       "      <td>spain</td>\n",
       "      <td>semiconductor</td>\n",
       "      <td>Yoon, Kishida exchange political pleasantries ...</td>\n",
       "      <td>MADRID, Spain — President Yoon Suk-yeol and Ja...</td>\n",
       "    </tr>\n",
       "    <tr>\n",
       "      <th>4</th>\n",
       "      <td>spain</td>\n",
       "      <td>semiconductor</td>\n",
       "      <td>(News Focus) Yoon-NATO summit</td>\n",
       "      <td>to Spain put his administration's priorities o...</td>\n",
       "    </tr>\n",
       "    <tr>\n",
       "      <th>...</th>\n",
       "      <td>...</td>\n",
       "      <td>...</td>\n",
       "      <td>...</td>\n",
       "      <td>...</td>\n",
       "    </tr>\n",
       "    <tr>\n",
       "      <th>1</th>\n",
       "      <td>england</td>\n",
       "      <td>semiconductor</td>\n",
       "      <td>Competition in Semiconductor Market Now Intern...</td>\n",
       "      <td>\"The late founder remarked that England invent...</td>\n",
       "    </tr>\n",
       "    <tr>\n",
       "      <th>2</th>\n",
       "      <td>england</td>\n",
       "      <td>semiconductor</td>\n",
       "      <td>Biden’s TikTok Problem</td>\n",
       "      <td>(WSJ) Semiconductor companies told Congress th...</td>\n",
       "    </tr>\n",
       "    <tr>\n",
       "      <th>3</th>\n",
       "      <td>england</td>\n",
       "      <td>semiconductor</td>\n",
       "      <td>[ANALYSIS] Korea aspiring to become battery bu...</td>\n",
       "      <td>to England in June. Also, it was reported that...</td>\n",
       "    </tr>\n",
       "    <tr>\n",
       "      <th>4</th>\n",
       "      <td>england</td>\n",
       "      <td>semiconductor</td>\n",
       "      <td>China Escalates Its Fight Against Big Tech</td>\n",
       "      <td>Further reading: A look at the $150 million se...</td>\n",
       "    </tr>\n",
       "    <tr>\n",
       "      <th>5</th>\n",
       "      <td>england</td>\n",
       "      <td>semiconductor</td>\n",
       "      <td>Lack of Tiny Parts Disrupts Auto Factories Wor...</td>\n",
       "      <td>At the same time, semiconductor makers shifted...</td>\n",
       "    </tr>\n",
       "  </tbody>\n",
       "</table>\n",
       "<p>80 rows × 4 columns</p>\n",
       "</div>"
      ],
      "text/plain": [
       "         나라           조사제품                                                 제목  \\\n",
       "0     spain  semiconductor  Yoon Suk-yeol, first lady, have an eventful fl...   \n",
       "1     spain  semiconductor  Yoon touts nuclear energy, green tech, chips a...   \n",
       "2     spain  semiconductor  S. Korea, US, Japan agree to step up pressure ...   \n",
       "3     spain  semiconductor  Yoon, Kishida exchange political pleasantries ...   \n",
       "4     spain  semiconductor                      (News Focus) Yoon-NATO summit   \n",
       "..      ...            ...                                                ...   \n",
       "1   england  semiconductor  Competition in Semiconductor Market Now Intern...   \n",
       "2   england  semiconductor                             Biden’s TikTok Problem   \n",
       "3   england  semiconductor  [ANALYSIS] Korea aspiring to become battery bu...   \n",
       "4   england  semiconductor         China Escalates Its Fight Against Big Tech   \n",
       "5   england  semiconductor  Lack of Tiny Parts Disrupts Auto Factories Wor...   \n",
       "\n",
       "                                                   내용  \n",
       "0   in Spain. Ahead of the summit, a presidential ...  \n",
       "1   Yoon returned home on Friday after attending t...  \n",
       "2   Madrid, Spain, Wednesday (local time). The las...  \n",
       "3   MADRID, Spain — President Yoon Suk-yeol and Ja...  \n",
       "4   to Spain put his administration's priorities o...  \n",
       "..                                                ...  \n",
       "1   \"The late founder remarked that England invent...  \n",
       "2   (WSJ) Semiconductor companies told Congress th...  \n",
       "3   to England in June. Also, it was reported that...  \n",
       "4   Further reading: A look at the $150 million se...  \n",
       "5   At the same time, semiconductor makers shifted...  \n",
       "\n",
       "[80 rows x 4 columns]"
      ]
     },
     "execution_count": 18,
     "metadata": {},
     "output_type": "execute_result"
    }
   ],
   "source": [
    "xls_name"
   ]
  },
  {
   "cell_type": "markdown",
   "id": "553d2a54-9b41-4ec0-b508-6dce57983153",
   "metadata": {},
   "source": [
    "# pandas 기본 문법"
   ]
  },
  {
   "cell_type": "code",
   "execution_count": 37,
   "id": "2ab129ef-c404-46c7-8bb9-b30641750911",
   "metadata": {},
   "outputs": [],
   "source": [
    "df = pd.read_excel(\"excel_sample.xlsx\")"
   ]
  },
  {
   "cell_type": "code",
   "execution_count": 38,
   "id": "7e4c5d1a-8825-45a8-ac67-58c44eafcb76",
   "metadata": {},
   "outputs": [
    {
     "data": {
      "text/html": [
       "<div>\n",
       "<style scoped>\n",
       "    .dataframe tbody tr th:only-of-type {\n",
       "        vertical-align: middle;\n",
       "    }\n",
       "\n",
       "    .dataframe tbody tr th {\n",
       "        vertical-align: top;\n",
       "    }\n",
       "\n",
       "    .dataframe thead th {\n",
       "        text-align: right;\n",
       "    }\n",
       "</style>\n",
       "<table border=\"1\" class=\"dataframe\">\n",
       "  <thead>\n",
       "    <tr style=\"text-align: right;\">\n",
       "      <th></th>\n",
       "      <th>Unnamed: 0</th>\n",
       "      <th>a</th>\n",
       "      <th>b</th>\n",
       "      <th>c</th>\n",
       "    </tr>\n",
       "  </thead>\n",
       "  <tbody>\n",
       "    <tr>\n",
       "      <th>0</th>\n",
       "      <td>가</td>\n",
       "      <td>1</td>\n",
       "      <td>10</td>\n",
       "      <td>100</td>\n",
       "    </tr>\n",
       "    <tr>\n",
       "      <th>1</th>\n",
       "      <td>나</td>\n",
       "      <td>1000</td>\n",
       "      <td>10000</td>\n",
       "      <td>100000</td>\n",
       "    </tr>\n",
       "    <tr>\n",
       "      <th>2</th>\n",
       "      <td>다</td>\n",
       "      <td>1000000</td>\n",
       "      <td>10000000</td>\n",
       "      <td>100000000</td>\n",
       "    </tr>\n",
       "  </tbody>\n",
       "</table>\n",
       "</div>"
      ],
      "text/plain": [
       "  Unnamed: 0        a         b          c\n",
       "0          가        1        10        100\n",
       "1          나     1000     10000     100000\n",
       "2          다  1000000  10000000  100000000"
      ]
     },
     "execution_count": 38,
     "metadata": {},
     "output_type": "execute_result"
    }
   ],
   "source": [
    "df"
   ]
  },
  {
   "cell_type": "code",
   "execution_count": 39,
   "id": "55a28ad1-0178-456a-ba34-7bd8f71caab4",
   "metadata": {},
   "outputs": [],
   "source": [
    "df1 = df.transpose()"
   ]
  },
  {
   "cell_type": "code",
   "execution_count": 40,
   "id": "eddf0f2f-9df8-4ee8-99b1-8c60c40b4e25",
   "metadata": {},
   "outputs": [
    {
     "data": {
      "text/html": [
       "<div>\n",
       "<style scoped>\n",
       "    .dataframe tbody tr th:only-of-type {\n",
       "        vertical-align: middle;\n",
       "    }\n",
       "\n",
       "    .dataframe tbody tr th {\n",
       "        vertical-align: top;\n",
       "    }\n",
       "\n",
       "    .dataframe thead th {\n",
       "        text-align: right;\n",
       "    }\n",
       "</style>\n",
       "<table border=\"1\" class=\"dataframe\">\n",
       "  <thead>\n",
       "    <tr style=\"text-align: right;\">\n",
       "      <th></th>\n",
       "      <th>0</th>\n",
       "      <th>1</th>\n",
       "      <th>2</th>\n",
       "    </tr>\n",
       "  </thead>\n",
       "  <tbody>\n",
       "    <tr>\n",
       "      <th>Unnamed: 0</th>\n",
       "      <td>가</td>\n",
       "      <td>나</td>\n",
       "      <td>다</td>\n",
       "    </tr>\n",
       "    <tr>\n",
       "      <th>a</th>\n",
       "      <td>1</td>\n",
       "      <td>1000</td>\n",
       "      <td>1000000</td>\n",
       "    </tr>\n",
       "    <tr>\n",
       "      <th>b</th>\n",
       "      <td>10</td>\n",
       "      <td>10000</td>\n",
       "      <td>10000000</td>\n",
       "    </tr>\n",
       "    <tr>\n",
       "      <th>c</th>\n",
       "      <td>100</td>\n",
       "      <td>100000</td>\n",
       "      <td>100000000</td>\n",
       "    </tr>\n",
       "  </tbody>\n",
       "</table>\n",
       "</div>"
      ],
      "text/plain": [
       "              0       1          2\n",
       "Unnamed: 0    가       나          다\n",
       "a             1    1000    1000000\n",
       "b            10   10000   10000000\n",
       "c           100  100000  100000000"
      ]
     },
     "execution_count": 40,
     "metadata": {},
     "output_type": "execute_result"
    }
   ],
   "source": [
    "df1"
   ]
  },
  {
   "cell_type": "code",
   "execution_count": 41,
   "id": "6e82e73f-8d5b-49b3-bc9e-a920527c5f18",
   "metadata": {},
   "outputs": [],
   "source": [
    "df1 = df1.rename(columns = df1.iloc[0])"
   ]
  },
  {
   "cell_type": "code",
   "execution_count": 42,
   "id": "f70faf49-81fb-49df-89fe-9cf8119e6496",
   "metadata": {},
   "outputs": [
    {
     "data": {
      "text/html": [
       "<div>\n",
       "<style scoped>\n",
       "    .dataframe tbody tr th:only-of-type {\n",
       "        vertical-align: middle;\n",
       "    }\n",
       "\n",
       "    .dataframe tbody tr th {\n",
       "        vertical-align: top;\n",
       "    }\n",
       "\n",
       "    .dataframe thead th {\n",
       "        text-align: right;\n",
       "    }\n",
       "</style>\n",
       "<table border=\"1\" class=\"dataframe\">\n",
       "  <thead>\n",
       "    <tr style=\"text-align: right;\">\n",
       "      <th></th>\n",
       "      <th>가</th>\n",
       "      <th>나</th>\n",
       "      <th>다</th>\n",
       "    </tr>\n",
       "  </thead>\n",
       "  <tbody>\n",
       "    <tr>\n",
       "      <th>Unnamed: 0</th>\n",
       "      <td>가</td>\n",
       "      <td>나</td>\n",
       "      <td>다</td>\n",
       "    </tr>\n",
       "    <tr>\n",
       "      <th>a</th>\n",
       "      <td>1</td>\n",
       "      <td>1000</td>\n",
       "      <td>1000000</td>\n",
       "    </tr>\n",
       "    <tr>\n",
       "      <th>b</th>\n",
       "      <td>10</td>\n",
       "      <td>10000</td>\n",
       "      <td>10000000</td>\n",
       "    </tr>\n",
       "    <tr>\n",
       "      <th>c</th>\n",
       "      <td>100</td>\n",
       "      <td>100000</td>\n",
       "      <td>100000000</td>\n",
       "    </tr>\n",
       "  </tbody>\n",
       "</table>\n",
       "</div>"
      ],
      "text/plain": [
       "              가       나          다\n",
       "Unnamed: 0    가       나          다\n",
       "a             1    1000    1000000\n",
       "b            10   10000   10000000\n",
       "c           100  100000  100000000"
      ]
     },
     "execution_count": 42,
     "metadata": {},
     "output_type": "execute_result"
    }
   ],
   "source": [
    "df1"
   ]
  },
  {
   "cell_type": "code",
   "execution_count": 43,
   "id": "75cefa40-c0ce-4970-abe0-1028b0ea67e6",
   "metadata": {},
   "outputs": [],
   "source": [
    "df1 = df1.drop(df1.index[0])"
   ]
  },
  {
   "cell_type": "code",
   "execution_count": 44,
   "id": "474b730e-0f68-4b17-bed3-0798b8736eeb",
   "metadata": {},
   "outputs": [
    {
     "data": {
      "text/html": [
       "<div>\n",
       "<style scoped>\n",
       "    .dataframe tbody tr th:only-of-type {\n",
       "        vertical-align: middle;\n",
       "    }\n",
       "\n",
       "    .dataframe tbody tr th {\n",
       "        vertical-align: top;\n",
       "    }\n",
       "\n",
       "    .dataframe thead th {\n",
       "        text-align: right;\n",
       "    }\n",
       "</style>\n",
       "<table border=\"1\" class=\"dataframe\">\n",
       "  <thead>\n",
       "    <tr style=\"text-align: right;\">\n",
       "      <th></th>\n",
       "      <th>가</th>\n",
       "      <th>나</th>\n",
       "      <th>다</th>\n",
       "    </tr>\n",
       "  </thead>\n",
       "  <tbody>\n",
       "    <tr>\n",
       "      <th>a</th>\n",
       "      <td>1</td>\n",
       "      <td>1000</td>\n",
       "      <td>1000000</td>\n",
       "    </tr>\n",
       "    <tr>\n",
       "      <th>b</th>\n",
       "      <td>10</td>\n",
       "      <td>10000</td>\n",
       "      <td>10000000</td>\n",
       "    </tr>\n",
       "    <tr>\n",
       "      <th>c</th>\n",
       "      <td>100</td>\n",
       "      <td>100000</td>\n",
       "      <td>100000000</td>\n",
       "    </tr>\n",
       "  </tbody>\n",
       "</table>\n",
       "</div>"
      ],
      "text/plain": [
       "     가       나          다\n",
       "a    1    1000    1000000\n",
       "b   10   10000   10000000\n",
       "c  100  100000  100000000"
      ]
     },
     "execution_count": 44,
     "metadata": {},
     "output_type": "execute_result"
    }
   ],
   "source": [
    "df1"
   ]
  },
  {
   "cell_type": "code",
   "execution_count": 45,
   "id": "ecccc189-ab75-4758-8b99-cd806ca0c102",
   "metadata": {},
   "outputs": [],
   "source": [
    "df2 = df\n",
    "df2.index = df2['Unnamed: 0'].values"
   ]
  },
  {
   "cell_type": "code",
   "execution_count": 46,
   "id": "129c5786-3dab-46ee-9f13-a8e8d62f1898",
   "metadata": {},
   "outputs": [
    {
     "data": {
      "text/html": [
       "<div>\n",
       "<style scoped>\n",
       "    .dataframe tbody tr th:only-of-type {\n",
       "        vertical-align: middle;\n",
       "    }\n",
       "\n",
       "    .dataframe tbody tr th {\n",
       "        vertical-align: top;\n",
       "    }\n",
       "\n",
       "    .dataframe thead th {\n",
       "        text-align: right;\n",
       "    }\n",
       "</style>\n",
       "<table border=\"1\" class=\"dataframe\">\n",
       "  <thead>\n",
       "    <tr style=\"text-align: right;\">\n",
       "      <th></th>\n",
       "      <th>Unnamed: 0</th>\n",
       "      <th>a</th>\n",
       "      <th>b</th>\n",
       "      <th>c</th>\n",
       "    </tr>\n",
       "  </thead>\n",
       "  <tbody>\n",
       "    <tr>\n",
       "      <th>가</th>\n",
       "      <td>가</td>\n",
       "      <td>1</td>\n",
       "      <td>10</td>\n",
       "      <td>100</td>\n",
       "    </tr>\n",
       "    <tr>\n",
       "      <th>나</th>\n",
       "      <td>나</td>\n",
       "      <td>1000</td>\n",
       "      <td>10000</td>\n",
       "      <td>100000</td>\n",
       "    </tr>\n",
       "    <tr>\n",
       "      <th>다</th>\n",
       "      <td>다</td>\n",
       "      <td>1000000</td>\n",
       "      <td>10000000</td>\n",
       "      <td>100000000</td>\n",
       "    </tr>\n",
       "  </tbody>\n",
       "</table>\n",
       "</div>"
      ],
      "text/plain": [
       "  Unnamed: 0        a         b          c\n",
       "가          가        1        10        100\n",
       "나          나     1000     10000     100000\n",
       "다          다  1000000  10000000  100000000"
      ]
     },
     "execution_count": 46,
     "metadata": {},
     "output_type": "execute_result"
    }
   ],
   "source": [
    "df2"
   ]
  },
  {
   "cell_type": "code",
   "execution_count": 47,
   "id": "dbce9912-bf08-435d-aa71-db6c7f272906",
   "metadata": {},
   "outputs": [
    {
     "data": {
      "text/plain": [
       "Index(['가', '나', '다'], dtype='object')"
      ]
     },
     "execution_count": 47,
     "metadata": {},
     "output_type": "execute_result"
    }
   ],
   "source": [
    "df2.index"
   ]
  },
  {
   "cell_type": "code",
   "execution_count": 48,
   "id": "82ebb292-8af6-4748-974f-69f0f02bdc5d",
   "metadata": {},
   "outputs": [
    {
     "data": {
      "text/plain": [
       "Index(['가', '나', '다'], dtype='object')"
      ]
     },
     "execution_count": 48,
     "metadata": {},
     "output_type": "execute_result"
    }
   ],
   "source": [
    "df.index"
   ]
  },
  {
   "cell_type": "code",
   "execution_count": 49,
   "id": "4fe5e74b-335c-4f76-a86a-552dddfc4ba1",
   "metadata": {},
   "outputs": [],
   "source": [
    "df2.drop(['Unnamed: 0'], axis = 1, inplace = True)"
   ]
  },
  {
   "cell_type": "code",
   "execution_count": 50,
   "id": "6e028eea-aa4b-4ba2-8ce0-fc59c485c8de",
   "metadata": {},
   "outputs": [
    {
     "data": {
      "text/html": [
       "<div>\n",
       "<style scoped>\n",
       "    .dataframe tbody tr th:only-of-type {\n",
       "        vertical-align: middle;\n",
       "    }\n",
       "\n",
       "    .dataframe tbody tr th {\n",
       "        vertical-align: top;\n",
       "    }\n",
       "\n",
       "    .dataframe thead th {\n",
       "        text-align: right;\n",
       "    }\n",
       "</style>\n",
       "<table border=\"1\" class=\"dataframe\">\n",
       "  <thead>\n",
       "    <tr style=\"text-align: right;\">\n",
       "      <th></th>\n",
       "      <th>a</th>\n",
       "      <th>b</th>\n",
       "      <th>c</th>\n",
       "    </tr>\n",
       "  </thead>\n",
       "  <tbody>\n",
       "    <tr>\n",
       "      <th>가</th>\n",
       "      <td>1</td>\n",
       "      <td>10</td>\n",
       "      <td>100</td>\n",
       "    </tr>\n",
       "    <tr>\n",
       "      <th>나</th>\n",
       "      <td>1000</td>\n",
       "      <td>10000</td>\n",
       "      <td>100000</td>\n",
       "    </tr>\n",
       "    <tr>\n",
       "      <th>다</th>\n",
       "      <td>1000000</td>\n",
       "      <td>10000000</td>\n",
       "      <td>100000000</td>\n",
       "    </tr>\n",
       "  </tbody>\n",
       "</table>\n",
       "</div>"
      ],
      "text/plain": [
       "         a         b          c\n",
       "가        1        10        100\n",
       "나     1000     10000     100000\n",
       "다  1000000  10000000  100000000"
      ]
     },
     "execution_count": 50,
     "metadata": {},
     "output_type": "execute_result"
    }
   ],
   "source": [
    "df2"
   ]
  },
  {
   "cell_type": "code",
   "execution_count": null,
   "id": "afa5b71a-bddb-4b6e-af77-4a3d095654e4",
   "metadata": {},
   "outputs": [],
   "source": []
  }
 ],
 "metadata": {
  "kernelspec": {
   "display_name": "Python 3 (ipykernel)",
   "language": "python",
   "name": "python3"
  },
  "language_info": {
   "codemirror_mode": {
    "name": "ipython",
    "version": 3
   },
   "file_extension": ".py",
   "mimetype": "text/x-python",
   "name": "python",
   "nbconvert_exporter": "python",
   "pygments_lexer": "ipython3",
   "version": "3.11.5"
  }
 },
 "nbformat": 4,
 "nbformat_minor": 5
}
