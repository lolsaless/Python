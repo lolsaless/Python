{
 "cells": [
  {
   "cell_type": "code",
   "execution_count": 16,
   "id": "da3ffa09-f024-4623-8f6f-d716955681d5",
   "metadata": {},
   "outputs": [
    {
     "name": "stdout",
     "output_type": "stream",
     "text": [
      "Note: you may need to restart the kernel to use updated packages.\n"
     ]
    }
   ],
   "source": [
    "pip install pyautogui"
   ]
  },
  {
   "cell_type": "code",
   "execution_count": 17,
   "id": "8cbf663a-9e45-475a-97fc-8dafd8b680d0",
   "metadata": {},
   "outputs": [],
   "source": [
    "import pyautogui as pag"
   ]
  },
  {
   "cell_type": "code",
   "execution_count": 18,
   "id": "a4daad8a-efe7-4650-9823-cd2a505b82da",
   "metadata": {},
   "outputs": [
    {
     "data": {
      "text/plain": [
       "Point(x=1501, y=237)"
      ]
     },
     "execution_count": 18,
     "metadata": {},
     "output_type": "execute_result"
    }
   ],
   "source": [
    "pag.position()"
   ]
  },
  {
   "cell_type": "code",
   "execution_count": 19,
   "id": "89e6c836-7868-4ad4-9aaa-119b0721cdfb",
   "metadata": {},
   "outputs": [],
   "source": [
    "pag.moveTo(x = 180, y = 348)"
   ]
  },
  {
   "cell_type": "code",
   "execution_count": 20,
   "id": "abde417b-6163-4b78-8b39-c80077531a53",
   "metadata": {},
   "outputs": [],
   "source": [
    "pag.dragTo(508, 600, 1, button='left')"
   ]
  },
  {
   "cell_type": "code",
   "execution_count": 22,
   "id": "65d0951f-884c-4f60-b2cb-87bae637a2a3",
   "metadata": {},
   "outputs": [
    {
     "name": "stdout",
     "output_type": "stream",
     "text": [
      "프로그램이 중단되었습니다.\n"
     ]
    }
   ],
   "source": [
    "import pyautogui\n",
    "import time\n",
    "\n",
    "def main():\n",
    "    # 마우스 클릭할 위치 설정\n",
    "    click_position = pyautogui.Point(x=-670, y=307)\n",
    "\n",
    "    # 프로그램 실행\n",
    "    try:\n",
    "        # 마우스 이동 및 클릭\n",
    "        pyautogui.moveTo(click_position)\n",
    "        pyautogui.click()\n",
    "\n",
    "        # 숫자 초기값 설정\n",
    "        number = 2.4\n",
    "\n",
    "        # 2.8까지 0.1씩 증가하면서 반복\n",
    "        while number <= 2.8:\n",
    "            # 숫자 입력 (소수점 2자리까지 반올림)\n",
    "            pyautogui.write(str(round(number, 2)))\n",
    "\n",
    "            # 엔터 키 입력\n",
    "            pyautogui.press('enter')\n",
    "\n",
    "            # 5초 대기\n",
    "            time.sleep(5)\n",
    "\n",
    "            # 숫자 0.1씩 증가\n",
    "            number += 0.01\n",
    "\n",
    "    except KeyboardInterrupt:\n",
    "        print(\"프로그램이 중단되었습니다.\")\n",
    "\n",
    "if __name__ == \"__main__\":\n",
    "    main()\n"
   ]
  },
  {
   "cell_type": "markdown",
   "id": "11ea5d06-33e3-4368-ab04-ccbf3ea5fdae",
   "metadata": {},
   "source": [
    "### "
   ]
  }
 ],
 "metadata": {
  "kernelspec": {
   "display_name": "Python 3 (ipykernel)",
   "language": "python",
   "name": "python3"
  },
  "language_info": {
   "codemirror_mode": {
    "name": "ipython",
    "version": 3
   },
   "file_extension": ".py",
   "mimetype": "text/x-python",
   "name": "python",
   "nbconvert_exporter": "python",
   "pygments_lexer": "ipython3",
   "version": "3.11.5"
  }
 },
 "nbformat": 4,
 "nbformat_minor": 5
}
