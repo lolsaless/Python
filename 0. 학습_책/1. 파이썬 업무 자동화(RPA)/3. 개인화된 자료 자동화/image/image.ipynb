{
 "cells": [
  {
   "cell_type": "markdown",
   "metadata": {
    "id": "Lf9dUEkEC5-q"
   },
   "source": [
    "# 0.사전준비"
   ]
  },
  {
   "cell_type": "markdown",
   "metadata": {
    "id": "u-l1UYSNC8Jx"
   },
   "source": []
  },
  {
   "cell_type": "code",
   "execution_count": null,
   "metadata": {
    "colab": {
     "base_uri": "https://localhost:8080/"
    },
    "executionInfo": {
     "elapsed": 4935,
     "status": "ok",
     "timestamp": 1664251583077,
     "user": {
      "displayName": "hyunco be",
      "userId": "05693185016234383037"
     },
     "user_tz": -540
    },
    "id": "DcJCAh0SC556",
    "outputId": "e80dbf3b-469a-42b4-de2e-18df0437d7d6"
   },
   "outputs": [],
   "source": [
    "# #파일다운로드\n",
    "\n",
    "# #pc/colab용\n",
    "# !pip install gdown==4.5.1\n",
    "# import gdown\n",
    "# import zipfile\n",
    "# google_path = \"https://drive.google.com/uc?id=\"\n",
    "# file_id = '1i2yxTe50T7vFYIxoHfEBUoO2sEUsGEMQ'\n",
    "# output_name = \"image.zip\"\n",
    "# gdown.download(google_path+file_id,output_name,quiet=False)\n",
    "# fantasy_zip = zipfile.ZipFile(\"image.zip\")\n",
    "# fantasy_zip.extractall()\n",
    "# # https://drive.google.com/file/d/1i2yxTe50T7vFYIxoHfEBUoO2sEUsGEMQ/view?usp=sharing"
   ]
  },
  {
   "cell_type": "markdown",
   "metadata": {
    "id": "4TSmz9UcC_OI"
   },
   "source": [
    "# 1.현업적용코드보기"
   ]
  },
  {
   "cell_type": "code",
   "execution_count": null,
   "metadata": {
    "colab": {
     "base_uri": "https://localhost:8080/"
    },
    "executionInfo": {
     "elapsed": 22153,
     "status": "ok",
     "timestamp": 1664251605224,
     "user": {
      "displayName": "hyunco be",
      "userId": "05693185016234383037"
     },
     "user_tz": -540
    },
    "id": "8cpBDwU-C_OI",
    "outputId": "eabe4519-4be9-4231-fb4d-165c27cba9c7"
   },
   "outputs": [],
   "source": [
    "!pip install xlrd==2.0.1\n",
    "#명함(onecode) 폴더만들기\n",
    "import os\n",
    "def createFolder(directory):\n",
    "  try:\n",
    "    if not os.path.exists(directory):\n",
    "      os.makedirs(directory)\n",
    "  except OSError:\n",
    "      print('Error: Creating directory. ' + directory)\n",
    "createFolder('명함(onecode)')\n",
    "\n",
    "import pandas as pd\n",
    "df = pd.read_excel('명함제작용data.xls')\n",
    "width = int(90*96/25.4)\n",
    "height = int(50*96/25.4)\n",
    "from PIL import Image\n",
    "img_basic = Image.open(\"명함기본샘플(90mm-50mm).jpg\")\n",
    "img_logo = Image.open(\"Logo.jpg\")\n",
    "img_resize = img_logo.resize((140, 140))\n",
    "img_basic.paste(im = img_resize,box =(5,24))\n",
    "img_basic.save(\"명함(onecode)/명함기본샘플(90mm-50mm)_logo.jpg\")\n",
    "df_unit = df.loc[0]\n",
    "row1 = df_unit[0]\n",
    "row2 = df_unit[1]\n",
    "row3 = df_unit[2]+\" \"+df_unit[3]\n",
    "row4 = df_unit[4]\n",
    "row5 = \"H.P:\"+df_unit[5]+\"/Tel:\"+df_unit[6]+\"/Fax:\"+df_unit[7]    \n",
    "row6 = \"Email:\"+df_unit[8]\n",
    "row7 = df_unit[8]\n",
    "img = img_basic.copy()\n",
    "#폰트설정\n",
    "from PIL import ImageFont\n",
    "fontsize = 30\n",
    "fnt = ImageFont.truetype(\"SCDream3.otf\", fontsize, encoding=\"UTF-8\")\n",
    "#이미지 글자 삽입\n",
    "from PIL import ImageDraw\n",
    "draw = ImageDraw.Draw(img)\n",
    "text = \"샘플 글자\"\n",
    "draw.text((180,50), text, font=fnt, fill=\"black\")\n",
    "#명함제작에 들어가는 텍스트 입력하기\n",
    "a = 0\n",
    "img = img_basic.copy()\n",
    "fnt = ImageFont.truetype(\"SCDream3.otf\", 10, encoding=\"UTF-8\")\n",
    "draw = ImageDraw.Draw(img)\n",
    "text_list = [\n",
    "    row1,row2,row3,row4,row5,row6,row7\n",
    "]\n",
    "#명함제작에 들어가는 텍스트 입력하기\n",
    "for unit in text_list:\n",
    "    a = a +25\n",
    "    draw.text((150,a), unit, font=fnt, fill=\"black\")\n",
    "#명함저장하기\n",
    "img.save('명함(onecode)/명함_TEST.jpg')\n",
    "for a in range(len(df)):\n",
    "#     print(df.loc[a])\n",
    " #명함제작에 들어가는 텍스트 정하기(내용,크기)\n",
    "    df_unit = df.loc[a]\n",
    "    fnt1 = ImageFont.truetype(\"SCDream3.otf\", 20, encoding=\"UTF-8\")\n",
    "    row1 = df_unit[0]\n",
    "    fnt2 = ImageFont.truetype(\"SCDream3.otf\", 10, encoding=\"UTF-8\")\n",
    "    row2 = df_unit[1]\n",
    "    fnt3 = ImageFont.truetype(\"SCDream3.otf\", 15, encoding=\"UTF-8\")\n",
    "    row3 = df_unit[2]+\" \"+df_unit[3]\n",
    "    fnt4567 = ImageFont.truetype(\"SCDream3.otf\", 10, encoding=\"UTF-8\")\n",
    "    row4 = df_unit[4]\n",
    "    row5 = \"H.P:\"+df_unit[5]+\"/Tel:\"+df_unit[6] \n",
    "    row6 = \"Email:\"+df_unit[8]\n",
    "    row7 = df_unit[9]\n",
    "    text_list = [[row1,fnt1],[row2,fnt2],[row3,fnt3],[row4,fnt4567],[row5,fnt4567],[row6,fnt4567],[row7,fnt4567]]\n",
    "\n",
    "    #명함제작에 들어가는 텍스트 입력하기\n",
    "    a = 0\n",
    "    img = img_basic.copy()\n",
    "    draw = ImageDraw.Draw(img)\n",
    "    for unit in text_list:\n",
    "        a = a +25\n",
    "        draw.text((150,a), unit[0], font=unit[1], fill=\"black\")\n",
    "    img.save(f\"명함(onecode)/{row3}.jpg\")\n",
    "    img.close()"
   ]
  },
  {
   "cell_type": "markdown",
   "metadata": {
    "id": "vyBKS61UC_RP"
   },
   "source": [
    "# 2.Pil 라이브러리 기본문법"
   ]
  },
  {
   "cell_type": "markdown",
   "metadata": {
    "id": "cay2i7LOC_RQ"
   },
   "source": []
  },
  {
   "cell_type": "code",
   "execution_count": null,
   "metadata": {
    "colab": {
     "base_uri": "https://localhost:8080/"
    },
    "executionInfo": {
     "elapsed": 3627,
     "status": "ok",
     "timestamp": 1664251608840,
     "user": {
      "displayName": "hyunco be",
      "userId": "05693185016234383037"
     },
     "user_tz": -540
    },
    "id": "GW0xkqz3C_RQ",
    "outputId": "9b9a74d7-3ba8-414f-ebe7-d8f8090b8680"
   },
   "outputs": [],
   "source": [
    "!pip install PIllow\n",
    "import PIL\n",
    "from PIL import Image"
   ]
  },
  {
   "cell_type": "code",
   "execution_count": null,
   "metadata": {
    "id": "m-i48BkLK9Mm"
   },
   "outputs": [],
   "source": [
    "#write your code (백견이 불여일타)"
   ]
  },
  {
   "cell_type": "code",
   "execution_count": null,
   "metadata": {
    "id": "Kvd7PHidJYMC"
   },
   "outputs": [],
   "source": [
    "#이미지 열기 가로 90mm 세로 50mm이미지 제작\n",
    "IMG = Image.open('명함기본샘플(90mm-50mm).jpg')"
   ]
  },
  {
   "cell_type": "code",
   "execution_count": null,
   "metadata": {
    "id": "Xs37_18pOa_s"
   },
   "outputs": [],
   "source": [
    "#write your code (백견이 불여일타)"
   ]
  },
  {
   "cell_type": "code",
   "execution_count": null,
   "metadata": {
    "colab": {
     "base_uri": "https://localhost:8080/",
     "height": 205
    },
    "executionInfo": {
     "elapsed": 40,
     "status": "ok",
     "timestamp": 1664251608842,
     "user": {
      "displayName": "hyunco be",
      "userId": "05693185016234383037"
     },
     "user_tz": -540
    },
    "id": "8F9iFvDNJg4u",
    "outputId": "fc9fe26b-6d4e-4b40-e170-3c5576a8e263"
   },
   "outputs": [],
   "source": [
    "#이미지 보기\n",
    "display(IMG)"
   ]
  },
  {
   "cell_type": "code",
   "execution_count": null,
   "metadata": {
    "id": "T6wC6_XmOb0E"
   },
   "outputs": [],
   "source": [
    "#write your code (백견이 불여일타)"
   ]
  },
  {
   "cell_type": "code",
   "execution_count": null,
   "metadata": {
    "id": "4qDDW6a9Jg8F"
   },
   "outputs": [],
   "source": [
    "#이미지 저장\n",
    "IMG.save('test_img.jpg')"
   ]
  },
  {
   "cell_type": "code",
   "execution_count": null,
   "metadata": {
    "id": "CSGiOEbcOcTi"
   },
   "outputs": [],
   "source": [
    "#write your code (백견이 불여일타)"
   ]
  },
  {
   "cell_type": "code",
   "execution_count": null,
   "metadata": {
    "colab": {
     "base_uri": "https://localhost:8080/",
     "height": 197
    },
    "executionInfo": {
     "elapsed": 25,
     "status": "ok",
     "timestamp": 1664251608845,
     "user": {
      "displayName": "hyunco be",
      "userId": "05693185016234383037"
     },
     "user_tz": -540
    },
    "id": "M_On1IWYJg_a",
    "outputId": "752d20cf-9b76-4737-d20c-8be8435a8e80"
   },
   "outputs": [],
   "source": [
    "#이미지 크기변환\n",
    "IMG_rs = IMG.resize((100,180))\n",
    "IMG_rs"
   ]
  },
  {
   "cell_type": "code",
   "execution_count": null,
   "metadata": {
    "id": "aBloBXQ7Oc-w"
   },
   "outputs": [],
   "source": [
    "#write your code (백견이 불여일타)"
   ]
  },
  {
   "cell_type": "code",
   "execution_count": null,
   "metadata": {
    "colab": {
     "base_uri": "https://localhost:8080/",
     "height": 205
    },
    "executionInfo": {
     "elapsed": 25,
     "status": "ok",
     "timestamp": 1664251608846,
     "user": {
      "displayName": "hyunco be",
      "userId": "05693185016234383037"
     },
     "user_tz": -540
    },
    "id": "AIqBtqZIJhCk",
    "outputId": "abffc2d8-4284-4411-f152-5017b8d2aafc"
   },
   "outputs": [],
   "source": [
    "#이미지 내 이미지 붙여넣기\n",
    "IMG_logo = Image.open('Logo.jpg')\n",
    "IMG_logo_rs = IMG_logo.resize((140, 140))\n",
    "IMG.paste(im = IMG_logo_rs,box=(5,24))\n",
    "# IMG.paste(im = img_resize,box =(5,24))\n",
    "IMG"
   ]
  },
  {
   "cell_type": "code",
   "execution_count": null,
   "metadata": {
    "id": "lR54gTOsOdqL"
   },
   "outputs": [],
   "source": [
    "#write your code (백견이 불여일타)"
   ]
  },
  {
   "cell_type": "code",
   "execution_count": null,
   "metadata": {
    "colab": {
     "base_uri": "https://localhost:8080/",
     "height": 205
    },
    "executionInfo": {
     "elapsed": 23,
     "status": "ok",
     "timestamp": 1664251608846,
     "user": {
      "displayName": "hyunco be",
      "userId": "05693185016234383037"
     },
     "user_tz": -540
    },
    "id": "WmNSD23bJhF7",
    "outputId": "5725c09a-4cd3-4621-e777-6e1daf2c9d8f"
   },
   "outputs": [],
   "source": [
    "#이미지 글자 삽입 (#폰트설정포함)\n",
    "\n",
    "#폰트설정\n",
    "from PIL import ImageFont #폰트 설정 모듈\n",
    "fontsize = 30\n",
    "fnt = ImageFont.truetype(\"SCDream3.otf\", fontsize, encoding=\"UTF-8\")\n",
    "#이미지 글자 삽입\n",
    "from PIL import ImageDraw #글씨 작성 모듈\n",
    "draw = ImageDraw.Draw(IMG)\n",
    "text = \"명함글씨\"\n",
    "draw.text((180,50), text, font=fnt, fill=\"black\")\n",
    "display(IMG)"
   ]
  },
  {
   "cell_type": "code",
   "execution_count": null,
   "metadata": {
    "id": "-33k7d2fJhKS"
   },
   "outputs": [],
   "source": [
    "#write your code (백견이 불여일타)"
   ]
  },
  {
   "cell_type": "markdown",
   "metadata": {
    "id": "h6IoXTalC_ap"
   },
   "source": [
    "# 3.현업적용사례"
   ]
  },
  {
   "cell_type": "markdown",
   "metadata": {
    "id": "hEZWhw7PC_ap"
   },
   "source": []
  },
  {
   "cell_type": "markdown",
   "metadata": {
    "id": "Pcw8pzdECDWH"
   },
   "source": [
    "## 비현코의 설계노트\n",
    "\n",
    "#### 1) 1000개의 행으로 된 엑셀 파일 확보하기\n",
    "#### 2) 명함 사이즈 템플릿 만들기\n",
    "#### 3) 로고 삽입하기\n",
    "#### 4) 이미지에 글자 삽입하기\n",
    "#### 5) 이미지에 글자 삽입하기"
   ]
  },
  {
   "cell_type": "code",
   "execution_count": null,
   "metadata": {
    "id": "sgCC4ZLzCDWO"
   },
   "outputs": [],
   "source": [
    "#명함에 들어가는 정보\n",
    "#1.로고 - 주식회사 BHCODE\n",
    "#2.회사명 - 주식회사 BHCODE\n",
    "#3.회사주소 - 서울시 강남구 비현동 BHC 14층\n",
    "#4.이름 - 랜덤\n",
    "#5.직위 - 랜덤\n",
    "#6.상위부서이름 - 랜덤\n",
    "#7.팀이름 - 랜덤\n",
    "#8. 전화번호 - 랜덤\n",
    "#9. 사무실번호 - 렌담2\n",
    "#10. FAX번호 - 랜덤\n",
    "#11. 이메일 - 아이디@\n",
    "#12. 회사웹사이트주소 "
   ]
  },
  {
   "cell_type": "markdown",
   "metadata": {
    "id": "x22lCJtZCDWQ"
   },
   "source": [
    "1) 1000개의 행으로 된 엑셀 파일 확보하기"
   ]
  },
  {
   "cell_type": "code",
   "execution_count": null,
   "metadata": {
    "colab": {
     "base_uri": "https://localhost:8080/",
     "height": 243
    },
    "executionInfo": {
     "elapsed": 2838,
     "status": "ok",
     "timestamp": 1664251611664,
     "user": {
      "displayName": "hyunco be",
      "userId": "05693185016234383037"
     },
     "user_tz": -540
    },
    "id": "NDo5KLlMCDWQ",
    "outputId": "7bae305d-a3af-4a6b-d432-b090d04cf372"
   },
   "outputs": [],
   "source": [
    "!pip install xlrd==2.0.1 #버전은 반드시 지켜주세요\n",
    "import pandas as pd\n",
    "df = pd.read_excel('명함제작용data.xls')\n",
    "df.head()"
   ]
  },
  {
   "cell_type": "code",
   "execution_count": null,
   "metadata": {
    "id": "QB_r9umVCDWR"
   },
   "outputs": [],
   "source": [
    "#write your code(백견이불여일타)"
   ]
  },
  {
   "cell_type": "markdown",
   "metadata": {
    "id": "Fc2XsZSfCDWR"
   },
   "source": [
    "2) 명함 사이즈 템플릿 만들기"
   ]
  },
  {
   "cell_type": "code",
   "execution_count": null,
   "metadata": {
    "colab": {
     "base_uri": "https://localhost:8080/"
    },
    "executionInfo": {
     "elapsed": 25,
     "status": "ok",
     "timestamp": 1664251611666,
     "user": {
      "displayName": "hyunco be",
      "userId": "05693185016234383037"
     },
     "user_tz": -540
    },
    "id": "RIz0cIjwCDWS",
    "outputId": "9e6cfda8-7bcc-4c1f-dfdd-7f5cf3aea8ce"
   },
   "outputs": [],
   "source": [
    "width = int(90*96/25.4)\n",
    "height = int(50*96/25.4)\n",
    "print(width,height)"
   ]
  },
  {
   "cell_type": "code",
   "execution_count": null,
   "metadata": {
    "id": "oUkD8gJICDWS"
   },
   "outputs": [],
   "source": [
    "#write your code(백견이불여일타)"
   ]
  },
  {
   "cell_type": "code",
   "execution_count": null,
   "metadata": {
    "id": "ld4ehKAMCDWT"
   },
   "outputs": [],
   "source": [
    "from PIL import Image\n",
    "img_basic = Image.open(\"명함기본샘플(90mm-50mm).jpg\")\n",
    "img_basic.show()"
   ]
  },
  {
   "cell_type": "code",
   "execution_count": null,
   "metadata": {
    "id": "2EtS_PEACDWT"
   },
   "outputs": [],
   "source": [
    "#write your code(백견이불여일타)"
   ]
  },
  {
   "cell_type": "markdown",
   "metadata": {
    "id": "WdGVlFlXCDWT"
   },
   "source": [
    "3) 로고 삽입하기"
   ]
  },
  {
   "cell_type": "code",
   "execution_count": null,
   "metadata": {
    "colab": {
     "base_uri": "https://localhost:8080/",
     "height": 205
    },
    "executionInfo": {
     "elapsed": 1215,
     "status": "ok",
     "timestamp": 1664251612862,
     "user": {
      "displayName": "hyunco be",
      "userId": "05693185016234383037"
     },
     "user_tz": -540
    },
    "id": "Ei7RdRj8CDWU",
    "outputId": "9e64e9e6-4b64-4d00-9d67-88e643d2cec9",
    "scrolled": true
   },
   "outputs": [],
   "source": [
    "from PIL import Image\n",
    "img_basic = Image.open(\"명함기본샘플(90mm-50mm).jpg\")\n",
    "img_logo = Image.open(\"Logo.jpg\")\n",
    "\n",
    "img_resize = img_logo.resize((140, 140))\n",
    "img_basic.paste(im = img_resize,box =(5,24))\n",
    "img_basic.save(\"명함기본샘플(90mm-50mm)_logo.jpg\")\n",
    "img_basic"
   ]
  },
  {
   "cell_type": "code",
   "execution_count": null,
   "metadata": {
    "id": "wrs2SXn_CDWU"
   },
   "outputs": [],
   "source": [
    "#write your code(백견이불여일타)"
   ]
  },
  {
   "cell_type": "markdown",
   "metadata": {
    "id": "kBxMOnNmCDWU"
   },
   "source": [
    "4) 이미지에 글자 삽입하기"
   ]
  },
  {
   "cell_type": "code",
   "execution_count": null,
   "metadata": {
    "colab": {
     "base_uri": "https://localhost:8080/"
    },
    "executionInfo": {
     "elapsed": 28,
     "status": "ok",
     "timestamp": 1664251612863,
     "user": {
      "displayName": "hyunco be",
      "userId": "05693185016234383037"
     },
     "user_tz": -540
    },
    "id": "W9fSfvDoCDWV",
    "outputId": "aa40cdd0-5dac-4372-c7fe-a342aff53545"
   },
   "outputs": [],
   "source": [
    "#들어갈 글자 정리\n",
    "for df_unit in df.loc[0]:\n",
    "    print(df_unit)\n",
    "#들어갈 줄 확인\n",
    "df_unit = df.loc[0]\n",
    "row1 = df_unit[0]\n",
    "row2 = df_unit[1]\n",
    "row3 = df_unit[2]+\" \"+df_unit[3]\n",
    "row4 = df_unit[4]\n",
    "row5 = \"H.P:\"+df_unit[5]+\"/Tel:\"+df_unit[6]+\"/Fax:\"+df_unit[7]    \n",
    "row6 = \"Email:\"+df_unit[8]\n",
    "row7 = df_unit[8]\n"
   ]
  },
  {
   "cell_type": "code",
   "execution_count": null,
   "metadata": {
    "id": "JGpPsKx9CDWV"
   },
   "outputs": [],
   "source": [
    "#write your code(백견이불여일타)"
   ]
  },
  {
   "cell_type": "code",
   "execution_count": null,
   "metadata": {
    "id": "kshQzG26CDWV"
   },
   "outputs": [],
   "source": [
    "#기본이미지 복사(rawdata확보)\n",
    "from PIL import Image\n",
    "img = img_basic.copy()"
   ]
  },
  {
   "cell_type": "markdown",
   "metadata": {
    "id": "LJM8wejyr7a6"
   },
   "source": []
  },
  {
   "cell_type": "code",
   "execution_count": null,
   "metadata": {
    "id": "vNU6QVccCDWV"
   },
   "outputs": [],
   "source": [
    "#write your code(백견이불여일타)"
   ]
  },
  {
   "cell_type": "code",
   "execution_count": null,
   "metadata": {
    "id": "-PnWGgLVCDWW"
   },
   "outputs": [],
   "source": [
    "#폰트설정\n",
    "from PIL import ImageFont\n",
    "fontsize = 30\n",
    "fnt = ImageFont.truetype(\"SCDream3.otf\", fontsize, encoding=\"UTF-8\")"
   ]
  },
  {
   "cell_type": "code",
   "execution_count": null,
   "metadata": {
    "id": "9-oImYy-CDWW"
   },
   "outputs": [],
   "source": [
    "#write your code(백견이불여일타)"
   ]
  },
  {
   "cell_type": "code",
   "execution_count": null,
   "metadata": {
    "id": "h-ssW-pcCDWW"
   },
   "outputs": [],
   "source": [
    "#이미지 글자 삽입\n",
    "from PIL import ImageDraw\n",
    "draw = ImageDraw.Draw(img)\n",
    "text = \"샘플 글자\"\n",
    "draw.text((180,50), text, font=fnt, fill=\"black\")"
   ]
  },
  {
   "cell_type": "code",
   "execution_count": null,
   "metadata": {
    "id": "_XlwmtfWCDWW"
   },
   "outputs": [],
   "source": [
    "#write your code(백견이불여일타)"
   ]
  },
  {
   "cell_type": "code",
   "execution_count": null,
   "metadata": {
    "colab": {
     "base_uri": "https://localhost:8080/",
     "height": 205
    },
    "executionInfo": {
     "elapsed": 24,
     "status": "ok",
     "timestamp": 1664251612865,
     "user": {
      "displayName": "hyunco be",
      "userId": "05693185016234383037"
     },
     "user_tz": -540
    },
    "id": "mJXdRM0yCDWW",
    "outputId": "b95337f9-277f-4656-8ec6-5165b926639d"
   },
   "outputs": [],
   "source": [
    "#이미지 확인\n",
    "img"
   ]
  },
  {
   "cell_type": "code",
   "execution_count": null,
   "metadata": {
    "id": "lYOwzdT1CDWX"
   },
   "outputs": [],
   "source": [
    "#write your code(백견이불여일타)"
   ]
  },
  {
   "cell_type": "code",
   "execution_count": null,
   "metadata": {
    "colab": {
     "base_uri": "https://localhost:8080/"
    },
    "executionInfo": {
     "elapsed": 24,
     "status": "ok",
     "timestamp": 1664251612866,
     "user": {
      "displayName": "hyunco be",
      "userId": "05693185016234383037"
     },
     "user_tz": -540
    },
    "id": "ogPlvl5-CDWX",
    "outputId": "89c62b45-31d3-44ff-a347-12d2a3037686"
   },
   "outputs": [],
   "source": [
    "#명함제작에 들어가는 텍스트 입력하기\n",
    "a = 0\n",
    "img = img_basic.copy()\n",
    "fnt = ImageFont.truetype(\"SCDream3.otf\", 10, encoding=\"UTF-8\")\n",
    "draw = ImageDraw.Draw(img)\n",
    "text_list = [\n",
    "    row1,row2,row3,row4,row5,row6,row7\n",
    "]\n",
    "text_list"
   ]
  },
  {
   "cell_type": "code",
   "execution_count": null,
   "metadata": {
    "colab": {
     "base_uri": "https://localhost:8080/",
     "height": 205
    },
    "executionInfo": {
     "elapsed": 21,
     "status": "ok",
     "timestamp": 1664251612866,
     "user": {
      "displayName": "hyunco be",
      "userId": "05693185016234383037"
     },
     "user_tz": -540
    },
    "id": "PtjLaxbKCDWX",
    "outputId": "c4bbfee3-dd97-4a95-d05a-14e400a259c4"
   },
   "outputs": [],
   "source": [
    "for unit in text_list:\n",
    "    a = a +25\n",
    "    draw.text((150,a), unit, font=fnt, fill=\"black\")\n",
    "img"
   ]
  },
  {
   "cell_type": "code",
   "execution_count": null,
   "metadata": {
    "id": "hZGAw-pNCDWY"
   },
   "outputs": [],
   "source": [
    "#write your code(백견이불여일타)"
   ]
  },
  {
   "cell_type": "code",
   "execution_count": null,
   "metadata": {
    "colab": {
     "base_uri": "https://localhost:8080/",
     "height": 205
    },
    "executionInfo": {
     "elapsed": 22,
     "status": "ok",
     "timestamp": 1664251612868,
     "user": {
      "displayName": "hyunco be",
      "userId": "05693185016234383037"
     },
     "user_tz": -540
    },
    "id": "Cu0mpRiPCDWY",
    "outputId": "613f2566-f7e3-4581-f335-9d59626ceaf7",
    "scrolled": true
   },
   "outputs": [],
   "source": [
    "img"
   ]
  },
  {
   "cell_type": "code",
   "execution_count": null,
   "metadata": {
    "id": "8wnzLngBCDWY"
   },
   "outputs": [],
   "source": [
    "#write your code(백견이불여일타)"
   ]
  },
  {
   "cell_type": "code",
   "execution_count": null,
   "metadata": {
    "id": "MKwd8neGCDWY"
   },
   "outputs": [],
   "source": [
    "#명함저장하기\n",
    "img.save('명함_TEST.jpg')"
   ]
  },
  {
   "cell_type": "code",
   "execution_count": null,
   "metadata": {
    "id": "9wgAB5dzCDWY"
   },
   "outputs": [],
   "source": [
    "#write your code(백견이불여일타)"
   ]
  },
  {
   "cell_type": "markdown",
   "metadata": {
    "id": "O2RkRYH9CDWZ"
   },
   "source": [
    "5) 여러개의 명함제작"
   ]
  },
  {
   "cell_type": "code",
   "execution_count": null,
   "metadata": {
    "colab": {
     "base_uri": "https://localhost:8080/"
    },
    "executionInfo": {
     "elapsed": 22,
     "status": "ok",
     "timestamp": 1664251612869,
     "user": {
      "displayName": "hyunco be",
      "userId": "05693185016234383037"
     },
     "user_tz": -540
    },
    "id": "tJkxyDscCDWZ",
    "outputId": "41aa6494-2de9-4cbb-b51e-660564a15ac0"
   },
   "outputs": [],
   "source": [
    "for a in range(1000):\n",
    "    print(a)"
   ]
  },
  {
   "cell_type": "code",
   "execution_count": null,
   "metadata": {
    "id": "cpndPiMNCDWZ"
   },
   "outputs": [],
   "source": [
    "for a in range(len(df)):\n",
    "#     print(df.loc[a])\n",
    " #명함제작에 들어가는 텍스트 정하기(내용,크기)\n",
    "    df_unit = df.loc[a]\n",
    "\n",
    "    fnt1 = ImageFont.truetype(\"SCDream3.otf\", 20, encoding=\"UTF-8\")\n",
    "    row1 = df_unit[0]\n",
    "\n",
    "    fnt2 = ImageFont.truetype(\"SCDream3.otf\", 10, encoding=\"UTF-8\")\n",
    "    row2 = df_unit[1]\n",
    "    fnt3 = ImageFont.truetype(\"SCDream3.otf\", 15, encoding=\"UTF-8\")\n",
    "    row3 = df_unit[2]+\" \"+df_unit[3]\n",
    "\n",
    "    fnt4567 = ImageFont.truetype(\"SCDream3.otf\", 10, encoding=\"UTF-8\")\n",
    "    row4 = df_unit[4]\n",
    "    row5 = \"H.P:\"+df_unit[5]+\"/Tel:\"+df_unit[6] \n",
    "    row6 = \"Email:\"+df_unit[8]\n",
    "    row7 = df_unit[9]\n",
    "\n",
    "    text_list = [[row1,fnt1],[row2,fnt2],[row3,fnt3],[row4,fnt4567],[row5,fnt4567],[row6,fnt4567],[row7,fnt4567]]\n",
    "\n",
    "    #명함제작에 들어가는 텍스트 입력하기\n",
    "    a = 0\n",
    "    img = img_basic.copy()\n",
    "    draw = ImageDraw.Draw(img)\n",
    "    for unit in text_list:\n",
    "        a = a +25\n",
    "        draw.text((150,a), unit[0], font=unit[1], fill=\"black\")\n",
    "    img.save(f\"명함/{row3}.jpg\")\n",
    "    img.close()"
   ]
  },
  {
   "cell_type": "code",
   "execution_count": null,
   "metadata": {
    "id": "bRhxU8XTCDWa"
   },
   "outputs": [],
   "source": [
    "#write your code(백견이불여일타)"
   ]
  },
  {
   "cell_type": "code",
   "execution_count": null,
   "metadata": {
    "id": "9m1nWjeKG7wl"
   },
   "outputs": [],
   "source": []
  }
 ],
 "metadata": {
  "colab": {
   "collapsed_sections": [],
   "provenance": []
  },
  "kernelspec": {
   "display_name": "Python 3 (ipykernel)",
   "language": "python",
   "name": "python3"
  },
  "language_info": {
   "codemirror_mode": {
    "name": "ipython",
    "version": 3
   },
   "file_extension": ".py",
   "mimetype": "text/x-python",
   "name": "python",
   "nbconvert_exporter": "python",
   "pygments_lexer": "ipython3",
   "version": "3.10.7"
  }
 },
 "nbformat": 4,
 "nbformat_minor": 1
}
