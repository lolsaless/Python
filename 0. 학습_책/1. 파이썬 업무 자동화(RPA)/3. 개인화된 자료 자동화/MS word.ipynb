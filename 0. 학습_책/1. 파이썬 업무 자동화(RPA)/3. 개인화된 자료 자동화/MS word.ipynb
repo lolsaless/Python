{
 "cells": [
  {
   "cell_type": "code",
   "execution_count": 2,
   "id": "61577fcc-e646-4547-86f9-b1ddde093113",
   "metadata": {},
   "outputs": [
    {
     "name": "stdout",
     "output_type": "stream",
     "text": [
      "Collecting python-docx\n",
      "  Downloading python_docx-1.1.0-py3-none-any.whl.metadata (2.0 kB)\n",
      "Requirement already satisfied: lxml>=3.1.0 in /Users/time/anaconda3/lib/python3.11/site-packages (from python-docx) (4.9.3)\n",
      "Requirement already satisfied: typing-extensions in /Users/time/anaconda3/lib/python3.11/site-packages (from python-docx) (4.7.1)\n",
      "Downloading python_docx-1.1.0-py3-none-any.whl (239 kB)\n",
      "\u001b[2K   \u001b[90m━━━━━━━━━━━━━━━━━━━━━━━━━━━━━━━━━━━━━━━━\u001b[0m \u001b[32m239.6/239.6 kB\u001b[0m \u001b[31m3.6 MB/s\u001b[0m eta \u001b[36m0:00:00\u001b[0ma \u001b[36m0:00:01\u001b[0m\n",
      "\u001b[?25hInstalling collected packages: python-docx\n",
      "Successfully installed python-docx-1.1.0\n",
      "Note: you may need to restart the kernel to use updated packages.\n"
     ]
    }
   ],
   "source": [
    "pip install python-docx"
   ]
  },
  {
   "cell_type": "code",
   "execution_count": 3,
   "id": "8012a692-8876-4eb0-a3ca-469a4bc223a8",
   "metadata": {},
   "outputs": [],
   "source": [
    "from docx import Document\n",
    "\n",
    "document = Document()\n",
    "\n",
    "document.save(\"basic/doc_test01.docx\")"
   ]
  },
  {
   "cell_type": "markdown",
   "id": "e91cba59-86bb-4be4-ad64-30ff58c22645",
   "metadata": {},
   "source": [
    "### 텍스트 추가"
   ]
  },
  {
   "cell_type": "code",
   "execution_count": 4,
   "id": "f18fcd66-5a0a-4c05-9cb2-ad09f02f69fc",
   "metadata": {},
   "outputs": [],
   "source": [
    "paragraph = document.add_paragraph(\"Welcome to KongDucks class.\")\n",
    "document.save(\"basic/doc_test02.docx\")"
   ]
  },
  {
   "cell_type": "code",
   "execution_count": 5,
   "id": "9119b865-2f4c-4d0f-9527-fef54a56ab90",
   "metadata": {},
   "outputs": [],
   "source": [
    "# 앞쪽에 텍스트 추가\n",
    "prior_paragraph = paragraph.insert_paragraph_before(\"lolsaless\")\n",
    "document.save(\"basic/doc_test03.docx\")"
   ]
  },
  {
   "cell_type": "code",
   "execution_count": 6,
   "id": "6dc6ef17-7316-4909-b149-62a564ff3def",
   "metadata": {},
   "outputs": [],
   "source": [
    "document.add_heading('welcome to KongDucks world')\n",
    "document.add_heading('hihihi~', level = 2)\n",
    "document.add_page_break()\n",
    "document.add_heading('plus_subject')\n",
    "document.save('basic/doc_test04.docx')"
   ]
  },
  {
   "cell_type": "markdown",
   "id": "cedb95e6-1b16-478b-99dc-190140515575",
   "metadata": {},
   "source": [
    "### 표 추가"
   ]
  },
  {
   "cell_type": "code",
   "execution_count": 7,
   "id": "a1d34724-4c84-471a-9aae-57f1fcf95bd0",
   "metadata": {},
   "outputs": [],
   "source": [
    "table = document.add_table(rows = 2, cols = 2)\n",
    "cell = table.cell(0, 1)\n",
    "cell.text = 'KongDucks, new era of python'\n",
    "document.save('basic/doc_test05.docx')"
   ]
  },
  {
   "cell_type": "code",
   "execution_count": 9,
   "id": "ac15b7bb-3e1a-42af-9876-dc03ba23aea7",
   "metadata": {},
   "outputs": [],
   "source": [
    "row = table.rows[1]\n",
    "row.cells[0].text = 'love love'\n",
    "row.cells[1].text = 'i love cho rong and KondDucks'\n",
    "document.save('basic/doc_test06.docx')"
   ]
  },
  {
   "cell_type": "code",
   "execution_count": 10,
   "id": "d7b973fc-ff1a-4af3-a320-194e635b2176",
   "metadata": {},
   "outputs": [
    {
     "name": "stdout",
     "output_type": "stream",
     "text": [
      "2\n"
     ]
    }
   ],
   "source": [
    "row_count = len(table.rows)\n",
    "print(row_count)"
   ]
  },
  {
   "cell_type": "code",
   "execution_count": null,
   "id": "f8084b53-4f9c-42e5-b2be-6d3f98bae59b",
   "metadata": {},
   "outputs": [],
   "source": []
  }
 ],
 "metadata": {
  "kernelspec": {
   "display_name": "Python 3 (ipykernel)",
   "language": "python",
   "name": "python3"
  },
  "language_info": {
   "codemirror_mode": {
    "name": "ipython",
    "version": 3
   },
   "file_extension": ".py",
   "mimetype": "text/x-python",
   "name": "python",
   "nbconvert_exporter": "python",
   "pygments_lexer": "ipython3",
   "version": "3.11.5"
  }
 },
 "nbformat": 4,
 "nbformat_minor": 5
}
