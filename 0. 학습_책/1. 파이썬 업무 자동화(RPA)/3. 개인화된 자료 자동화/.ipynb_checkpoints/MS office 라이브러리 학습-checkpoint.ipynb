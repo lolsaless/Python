{
 "cells": [
  {
   "cell_type": "code",
   "execution_count": 1,
   "id": "d307cb33-1b76-4504-9f44-e4ea05f3ba00",
   "metadata": {},
   "outputs": [],
   "source": [
    "import openpyxl\n",
    "import os\n",
    "\n",
    "# 디렉토리 생성\n",
    "directory = \"basic\"\n",
    "if not os.path.exists(directory):\n",
    "    os.makedirs(directory)\n",
    "\n",
    "# 새로운 워크북 생성 및 저장\n",
    "wb = openpyxl.Workbook()\n",
    "wb.save(os.path.join(directory, \"test.xlsx\"))"
   ]
  },
  {
   "cell_type": "code",
   "execution_count": 2,
   "id": "f47ba339-26f9-4fc2-ab8f-775b13592deb",
   "metadata": {},
   "outputs": [],
   "source": [
    "# 엑셀 파일 내에 sheet 생성\n",
    "wb.create_sheet(\"sheet_name1\", 0)\n",
    "wb.create_sheet(\"sheet_name2\", 0)\n",
    "wb.create_sheet(\"sheet_name3\", 0)\n",
    "wb.create_sheet(\"sheet_name4\", 0)\n",
    "wb.save(os.path.join(directory, \"test.xlsx\"))"
   ]
  },
  {
   "cell_type": "code",
   "execution_count": 3,
   "id": "51f65c65-279e-44f5-85cc-2232c9f4913e",
   "metadata": {},
   "outputs": [],
   "source": [
    "wb.remove(wb['Sheet'])"
   ]
  },
  {
   "cell_type": "code",
   "execution_count": 4,
   "id": "a03c82c0-63f8-4798-be20-544ac722b581",
   "metadata": {},
   "outputs": [],
   "source": [
    "wb.save(os.path.join(directory, \"test.xlsx\"))"
   ]
  },
  {
   "cell_type": "code",
   "execution_count": 5,
   "id": "e431ffcc-fbf7-4b8b-8113-d096607c54b5",
   "metadata": {},
   "outputs": [],
   "source": [
    "wb.close()"
   ]
  },
  {
   "cell_type": "code",
   "execution_count": 6,
   "id": "449498aa-edd7-469e-9602-0770eb2d831a",
   "metadata": {},
   "outputs": [],
   "source": [
    "wb = openpyxl.load_workbook(os.path.join(directory, \"test.xlsx\"))"
   ]
  },
  {
   "cell_type": "code",
   "execution_count": 7,
   "id": "f3fbf900-793f-4553-a16b-27edf14a2d0b",
   "metadata": {},
   "outputs": [],
   "source": [
    "wb.save('basic/test3.xlsx')\n",
    "wb.close()"
   ]
  },
  {
   "cell_type": "code",
   "execution_count": 8,
   "id": "312edeba-3df8-4175-9ed8-c7b2b4cb8e09",
   "metadata": {},
   "outputs": [],
   "source": [
    "wb = openpyxl.load_workbook(\"basic/test3.xlsx\")"
   ]
  },
  {
   "cell_type": "code",
   "execution_count": 9,
   "id": "dffae7ac-9e4d-466d-8d65-61630f1a2d54",
   "metadata": {},
   "outputs": [],
   "source": [
    "ws = wb['sheet_name2']"
   ]
  },
  {
   "cell_type": "code",
   "execution_count": 10,
   "id": "e2f31c99-8273-422c-af3f-1c471cb78636",
   "metadata": {},
   "outputs": [],
   "source": [
    "ws['B1'] = \"kongduck\""
   ]
  },
  {
   "cell_type": "code",
   "execution_count": 11,
   "id": "17427b51-8e9e-41d9-98ad-1b4b13b4bb92",
   "metadata": {},
   "outputs": [],
   "source": [
    "wb.save(\"text.xlsx\")"
   ]
  },
  {
   "cell_type": "code",
   "execution_count": 12,
   "id": "430e9e3e-8b7f-4ba2-ac85-7000a9e740c9",
   "metadata": {},
   "outputs": [
    {
     "data": {
      "text/plain": [
       "<bound method Workbook.close of <openpyxl.workbook.workbook.Workbook object at 0x10c070a10>>"
      ]
     },
     "execution_count": 12,
     "metadata": {},
     "output_type": "execute_result"
    }
   ],
   "source": [
    "ws.cell(row=2, column=1).value = \"python coding\"\n",
    "ws.append([\"i\", \"like\", \"kongduck\"])\n",
    "wb.save(\"basic/test4.xlsx\")\n",
    "wb.close"
   ]
  },
  {
   "cell_type": "code",
   "execution_count": 13,
   "id": "6daa4413-8a8d-46c9-b211-5f1062cddc47",
   "metadata": {},
   "outputs": [],
   "source": [
    "import openpyxl\n",
    "wb = openpyxl.Workbook()\n",
    "\n",
    "wb.create_sheet('car', 0)\n",
    "wb.create_sheet('semiconductor', 0)\n",
    "wb.create_sheet('metaverse', 0)\n",
    "wb.create_sheet('battery', 0)\n",
    "wb.save('product_info.xlsx')"
   ]
  },
  {
   "cell_type": "code",
   "execution_count": 14,
   "id": "994dd80b-434d-4ccd-93a0-72a886d83837",
   "metadata": {},
   "outputs": [
    {
     "data": {
      "text/plain": [
       "['battery.xlsx', 'metaverse.xlsx', 'semiconductor.xlsx', 'car.xlsx']"
      ]
     },
     "execution_count": 14,
     "metadata": {},
     "output_type": "execute_result"
    }
   ],
   "source": [
    "path = \"practice/참고자료/\"\n",
    "file_list = os.listdir(path)\n",
    "file_list_xlsx = []\n",
    "for i in file_list:\n",
    "    if \".xlsx\" in i:\n",
    "        file_list_xlsx.append(i)\n",
    "\n",
    "file_list = file_list_xlsx\n",
    "file_list"
   ]
  },
  {
   "cell_type": "code",
   "execution_count": 30,
   "id": "c4e67c6f-74b9-4452-b5f0-76da07c696d6",
   "metadata": {},
   "outputs": [
    {
     "ename": "FileNotFoundError",
     "evalue": "[Errno 2] No such file or directory: 'practice/참고자료/9.xlsx'",
     "output_type": "error",
     "traceback": [
      "\u001b[0;31m---------------------------------------------------------------------------\u001b[0m",
      "\u001b[0;31mFileNotFoundError\u001b[0m                         Traceback (most recent call last)",
      "Cell \u001b[0;32mIn[30], line 3\u001b[0m\n\u001b[1;32m      1\u001b[0m \u001b[38;5;28;01mimport\u001b[39;00m \u001b[38;5;21;01mpandas\u001b[39;00m \u001b[38;5;28;01mas\u001b[39;00m \u001b[38;5;21;01mpd\u001b[39;00m\n\u001b[1;32m      2\u001b[0m \u001b[38;5;28;01mfor\u001b[39;00m i \u001b[38;5;129;01min\u001b[39;00m file_list:\n\u001b[0;32m----> 3\u001b[0m     df \u001b[38;5;241m=\u001b[39m pd\u001b[38;5;241m.\u001b[39mread_excel(\u001b[38;5;124mf\u001b[39m\u001b[38;5;124m\"\u001b[39m\u001b[38;5;124mpractice/참고자료/\u001b[39m\u001b[38;5;132;01m{\u001b[39;00mi\u001b[38;5;132;01m}\u001b[39;00m\u001b[38;5;124m\"\u001b[39m)\n\u001b[1;32m      4\u001b[0m     \u001b[38;5;28mprint\u001b[39m(df)\n",
      "File \u001b[0;32m~/anaconda3/lib/python3.11/site-packages/pandas/util/_decorators.py:211\u001b[0m, in \u001b[0;36mdeprecate_kwarg.<locals>._deprecate_kwarg.<locals>.wrapper\u001b[0;34m(*args, **kwargs)\u001b[0m\n\u001b[1;32m    209\u001b[0m     \u001b[38;5;28;01melse\u001b[39;00m:\n\u001b[1;32m    210\u001b[0m         kwargs[new_arg_name] \u001b[38;5;241m=\u001b[39m new_arg_value\n\u001b[0;32m--> 211\u001b[0m \u001b[38;5;28;01mreturn\u001b[39;00m func(\u001b[38;5;241m*\u001b[39margs, \u001b[38;5;241m*\u001b[39m\u001b[38;5;241m*\u001b[39mkwargs)\n",
      "File \u001b[0;32m~/anaconda3/lib/python3.11/site-packages/pandas/util/_decorators.py:331\u001b[0m, in \u001b[0;36mdeprecate_nonkeyword_arguments.<locals>.decorate.<locals>.wrapper\u001b[0;34m(*args, **kwargs)\u001b[0m\n\u001b[1;32m    325\u001b[0m \u001b[38;5;28;01mif\u001b[39;00m \u001b[38;5;28mlen\u001b[39m(args) \u001b[38;5;241m>\u001b[39m num_allow_args:\n\u001b[1;32m    326\u001b[0m     warnings\u001b[38;5;241m.\u001b[39mwarn(\n\u001b[1;32m    327\u001b[0m         msg\u001b[38;5;241m.\u001b[39mformat(arguments\u001b[38;5;241m=\u001b[39m_format_argument_list(allow_args)),\n\u001b[1;32m    328\u001b[0m         \u001b[38;5;167;01mFutureWarning\u001b[39;00m,\n\u001b[1;32m    329\u001b[0m         stacklevel\u001b[38;5;241m=\u001b[39mfind_stack_level(),\n\u001b[1;32m    330\u001b[0m     )\n\u001b[0;32m--> 331\u001b[0m \u001b[38;5;28;01mreturn\u001b[39;00m func(\u001b[38;5;241m*\u001b[39margs, \u001b[38;5;241m*\u001b[39m\u001b[38;5;241m*\u001b[39mkwargs)\n",
      "File \u001b[0;32m~/anaconda3/lib/python3.11/site-packages/pandas/io/excel/_base.py:482\u001b[0m, in \u001b[0;36mread_excel\u001b[0;34m(io, sheet_name, header, names, index_col, usecols, squeeze, dtype, engine, converters, true_values, false_values, skiprows, nrows, na_values, keep_default_na, na_filter, verbose, parse_dates, date_parser, thousands, decimal, comment, skipfooter, convert_float, mangle_dupe_cols, storage_options)\u001b[0m\n\u001b[1;32m    480\u001b[0m \u001b[38;5;28;01mif\u001b[39;00m \u001b[38;5;129;01mnot\u001b[39;00m \u001b[38;5;28misinstance\u001b[39m(io, ExcelFile):\n\u001b[1;32m    481\u001b[0m     should_close \u001b[38;5;241m=\u001b[39m \u001b[38;5;28;01mTrue\u001b[39;00m\n\u001b[0;32m--> 482\u001b[0m     io \u001b[38;5;241m=\u001b[39m ExcelFile(io, storage_options\u001b[38;5;241m=\u001b[39mstorage_options, engine\u001b[38;5;241m=\u001b[39mengine)\n\u001b[1;32m    483\u001b[0m \u001b[38;5;28;01melif\u001b[39;00m engine \u001b[38;5;129;01mand\u001b[39;00m engine \u001b[38;5;241m!=\u001b[39m io\u001b[38;5;241m.\u001b[39mengine:\n\u001b[1;32m    484\u001b[0m     \u001b[38;5;28;01mraise\u001b[39;00m \u001b[38;5;167;01mValueError\u001b[39;00m(\n\u001b[1;32m    485\u001b[0m         \u001b[38;5;124m\"\u001b[39m\u001b[38;5;124mEngine should not be specified when passing \u001b[39m\u001b[38;5;124m\"\u001b[39m\n\u001b[1;32m    486\u001b[0m         \u001b[38;5;124m\"\u001b[39m\u001b[38;5;124man ExcelFile - ExcelFile already has the engine set\u001b[39m\u001b[38;5;124m\"\u001b[39m\n\u001b[1;32m    487\u001b[0m     )\n",
      "File \u001b[0;32m~/anaconda3/lib/python3.11/site-packages/pandas/io/excel/_base.py:1652\u001b[0m, in \u001b[0;36mExcelFile.__init__\u001b[0;34m(self, path_or_buffer, engine, storage_options)\u001b[0m\n\u001b[1;32m   1650\u001b[0m     ext \u001b[38;5;241m=\u001b[39m \u001b[38;5;124m\"\u001b[39m\u001b[38;5;124mxls\u001b[39m\u001b[38;5;124m\"\u001b[39m\n\u001b[1;32m   1651\u001b[0m \u001b[38;5;28;01melse\u001b[39;00m:\n\u001b[0;32m-> 1652\u001b[0m     ext \u001b[38;5;241m=\u001b[39m inspect_excel_format(\n\u001b[1;32m   1653\u001b[0m         content_or_path\u001b[38;5;241m=\u001b[39mpath_or_buffer, storage_options\u001b[38;5;241m=\u001b[39mstorage_options\n\u001b[1;32m   1654\u001b[0m     )\n\u001b[1;32m   1655\u001b[0m     \u001b[38;5;28;01mif\u001b[39;00m ext \u001b[38;5;129;01mis\u001b[39;00m \u001b[38;5;28;01mNone\u001b[39;00m:\n\u001b[1;32m   1656\u001b[0m         \u001b[38;5;28;01mraise\u001b[39;00m \u001b[38;5;167;01mValueError\u001b[39;00m(\n\u001b[1;32m   1657\u001b[0m             \u001b[38;5;124m\"\u001b[39m\u001b[38;5;124mExcel file format cannot be determined, you must specify \u001b[39m\u001b[38;5;124m\"\u001b[39m\n\u001b[1;32m   1658\u001b[0m             \u001b[38;5;124m\"\u001b[39m\u001b[38;5;124man engine manually.\u001b[39m\u001b[38;5;124m\"\u001b[39m\n\u001b[1;32m   1659\u001b[0m         )\n",
      "File \u001b[0;32m~/anaconda3/lib/python3.11/site-packages/pandas/io/excel/_base.py:1525\u001b[0m, in \u001b[0;36minspect_excel_format\u001b[0;34m(content_or_path, storage_options)\u001b[0m\n\u001b[1;32m   1522\u001b[0m \u001b[38;5;28;01mif\u001b[39;00m \u001b[38;5;28misinstance\u001b[39m(content_or_path, \u001b[38;5;28mbytes\u001b[39m):\n\u001b[1;32m   1523\u001b[0m     content_or_path \u001b[38;5;241m=\u001b[39m BytesIO(content_or_path)\n\u001b[0;32m-> 1525\u001b[0m \u001b[38;5;28;01mwith\u001b[39;00m get_handle(\n\u001b[1;32m   1526\u001b[0m     content_or_path, \u001b[38;5;124m\"\u001b[39m\u001b[38;5;124mrb\u001b[39m\u001b[38;5;124m\"\u001b[39m, storage_options\u001b[38;5;241m=\u001b[39mstorage_options, is_text\u001b[38;5;241m=\u001b[39m\u001b[38;5;28;01mFalse\u001b[39;00m\n\u001b[1;32m   1527\u001b[0m ) \u001b[38;5;28;01mas\u001b[39;00m handle:\n\u001b[1;32m   1528\u001b[0m     stream \u001b[38;5;241m=\u001b[39m handle\u001b[38;5;241m.\u001b[39mhandle\n\u001b[1;32m   1529\u001b[0m     stream\u001b[38;5;241m.\u001b[39mseek(\u001b[38;5;241m0\u001b[39m)\n",
      "File \u001b[0;32m~/anaconda3/lib/python3.11/site-packages/pandas/io/common.py:865\u001b[0m, in \u001b[0;36mget_handle\u001b[0;34m(path_or_buf, mode, encoding, compression, memory_map, is_text, errors, storage_options)\u001b[0m\n\u001b[1;32m    856\u001b[0m         handle \u001b[38;5;241m=\u001b[39m \u001b[38;5;28mopen\u001b[39m(\n\u001b[1;32m    857\u001b[0m             handle,\n\u001b[1;32m    858\u001b[0m             ioargs\u001b[38;5;241m.\u001b[39mmode,\n\u001b[0;32m   (...)\u001b[0m\n\u001b[1;32m    861\u001b[0m             newline\u001b[38;5;241m=\u001b[39m\u001b[38;5;124m\"\u001b[39m\u001b[38;5;124m\"\u001b[39m,\n\u001b[1;32m    862\u001b[0m         )\n\u001b[1;32m    863\u001b[0m     \u001b[38;5;28;01melse\u001b[39;00m:\n\u001b[1;32m    864\u001b[0m         \u001b[38;5;66;03m# Binary mode\u001b[39;00m\n\u001b[0;32m--> 865\u001b[0m         handle \u001b[38;5;241m=\u001b[39m \u001b[38;5;28mopen\u001b[39m(handle, ioargs\u001b[38;5;241m.\u001b[39mmode)\n\u001b[1;32m    866\u001b[0m     handles\u001b[38;5;241m.\u001b[39mappend(handle)\n\u001b[1;32m    868\u001b[0m \u001b[38;5;66;03m# Convert BytesIO or file objects passed with an encoding\u001b[39;00m\n",
      "\u001b[0;31mFileNotFoundError\u001b[0m: [Errno 2] No such file or directory: 'practice/참고자료/9.xlsx'"
     ]
    }
   ],
   "source": [
    "import pandas as pd\n",
    "for i in file_list:\n",
    "    df = pd.read_excel(f\"practice/참고자료/{i}\")\n",
    "    print(df)"
   ]
  },
  {
   "cell_type": "code",
   "execution_count": 18,
   "id": "6b8a421c-17b2-4acf-a24b-e538258b99dd",
   "metadata": {},
   "outputs": [],
   "source": [
    "path_dir = \"practice/참고자료/\"\n",
    "files = os.listdir(path_dir)\n",
    "files2 = []\n",
    "for i in files:\n",
    "    if '.xls' in i:\n",
    "        files2.append(i)\n",
    "\n",
    "files = files2\n",
    "file_nm = \"product_info.xlsx\""
   ]
  },
  {
   "cell_type": "code",
   "execution_count": 19,
   "id": "049210a9-158d-4574-b44b-34186719bc1d",
   "metadata": {},
   "outputs": [
    {
     "name": "stderr",
     "output_type": "stream",
     "text": [
      "/Users/time/anaconda3/lib/python3.11/site-packages/openpyxl/worksheet/header_footer.py:48: UserWarning: Cannot parse header or footer so it will be ignored\n",
      "  warn(\"\"\"Cannot parse header or footer so it will be ignored\"\"\")\n",
      "/Users/time/anaconda3/lib/python3.11/site-packages/openpyxl/worksheet/header_footer.py:48: UserWarning: Cannot parse header or footer so it will be ignored\n",
      "  warn(\"\"\"Cannot parse header or footer so it will be ignored\"\"\")\n",
      "/Users/time/anaconda3/lib/python3.11/site-packages/openpyxl/worksheet/header_footer.py:48: UserWarning: Cannot parse header or footer so it will be ignored\n",
      "  warn(\"\"\"Cannot parse header or footer so it will be ignored\"\"\")\n",
      "/Users/time/anaconda3/lib/python3.11/site-packages/openpyxl/worksheet/header_footer.py:48: UserWarning: Cannot parse header or footer so it will be ignored\n",
      "  warn(\"\"\"Cannot parse header or footer so it will be ignored\"\"\")\n"
     ]
    }
   ],
   "source": [
    "with pd.ExcelWriter(file_nm) as writer:\n",
    "    for file_name in files:\n",
    "        df = pd.read_excel(\"practice/참고자료/\" + file_name)\n",
    "        df.to_excel(writer, sheet_name = file_name.replace('.xlsx', ''))"
   ]
  },
  {
   "cell_type": "code",
   "execution_count": 24,
   "id": "5d7c7888-6bbe-4097-9d5b-146dbb2c3a3d",
   "metadata": {},
   "outputs": [
    {
     "name": "stdout",
     "output_type": "stream",
     "text": [
      "   Unnamed: 0    1    2    3    4    5    6\n",
      "0           a  654  624  306  752   98  431\n",
      "1           b  280  694  173  710  574  231\n",
      "2           c  257  425  586  481  433  954\n",
      "3           d  343  432  455  993  518  937\n",
      "4           e  536  329  443  403  234  803\n",
      "..        ...  ...  ...  ...  ...  ...  ...\n",
      "65          c   58  140  336  964  118  693\n",
      "66          d  791  979  191  130  792  257\n",
      "67          e  166  990  510  584  935  868\n",
      "68          f  210  370  858  214  759  310\n",
      "69          g   90  897  970  781  892  410\n",
      "\n",
      "[70 rows x 7 columns]\n"
     ]
    },
    {
     "name": "stderr",
     "output_type": "stream",
     "text": [
      "/var/folders/m4/nljjtp490j73jshmn9k7r0wh0000gn/T/ipykernel_2408/3417561282.py:14: FutureWarning: The frame.append method is deprecated and will be removed from pandas in a future version. Use pandas.concat instead.\n",
      "  excel = excel.append(df, ignore_index = True)\n",
      "/var/folders/m4/nljjtp490j73jshmn9k7r0wh0000gn/T/ipykernel_2408/3417561282.py:14: FutureWarning: The frame.append method is deprecated and will be removed from pandas in a future version. Use pandas.concat instead.\n",
      "  excel = excel.append(df, ignore_index = True)\n",
      "/var/folders/m4/nljjtp490j73jshmn9k7r0wh0000gn/T/ipykernel_2408/3417561282.py:14: FutureWarning: The frame.append method is deprecated and will be removed from pandas in a future version. Use pandas.concat instead.\n",
      "  excel = excel.append(df, ignore_index = True)\n",
      "/var/folders/m4/nljjtp490j73jshmn9k7r0wh0000gn/T/ipykernel_2408/3417561282.py:14: FutureWarning: The frame.append method is deprecated and will be removed from pandas in a future version. Use pandas.concat instead.\n",
      "  excel = excel.append(df, ignore_index = True)\n",
      "/var/folders/m4/nljjtp490j73jshmn9k7r0wh0000gn/T/ipykernel_2408/3417561282.py:14: FutureWarning: The frame.append method is deprecated and will be removed from pandas in a future version. Use pandas.concat instead.\n",
      "  excel = excel.append(df, ignore_index = True)\n",
      "/var/folders/m4/nljjtp490j73jshmn9k7r0wh0000gn/T/ipykernel_2408/3417561282.py:14: FutureWarning: The frame.append method is deprecated and will be removed from pandas in a future version. Use pandas.concat instead.\n",
      "  excel = excel.append(df, ignore_index = True)\n",
      "/var/folders/m4/nljjtp490j73jshmn9k7r0wh0000gn/T/ipykernel_2408/3417561282.py:14: FutureWarning: The frame.append method is deprecated and will be removed from pandas in a future version. Use pandas.concat instead.\n",
      "  excel = excel.append(df, ignore_index = True)\n",
      "/var/folders/m4/nljjtp490j73jshmn9k7r0wh0000gn/T/ipykernel_2408/3417561282.py:14: FutureWarning: The frame.append method is deprecated and will be removed from pandas in a future version. Use pandas.concat instead.\n",
      "  excel = excel.append(df, ignore_index = True)\n",
      "/var/folders/m4/nljjtp490j73jshmn9k7r0wh0000gn/T/ipykernel_2408/3417561282.py:14: FutureWarning: The frame.append method is deprecated and will be removed from pandas in a future version. Use pandas.concat instead.\n",
      "  excel = excel.append(df, ignore_index = True)\n",
      "/var/folders/m4/nljjtp490j73jshmn9k7r0wh0000gn/T/ipykernel_2408/3417561282.py:14: FutureWarning: The frame.append method is deprecated and will be removed from pandas in a future version. Use pandas.concat instead.\n",
      "  excel = excel.append(df, ignore_index = True)\n"
     ]
    }
   ],
   "source": [
    "import os\n",
    "import pandas as pd\n",
    "\n",
    "try:\n",
    "    files = os.listdir('basic/total')\n",
    "    files2 = []\n",
    "    for a in files:\n",
    "        if 'xls' in a:\n",
    "            files2.append(a)\n",
    "    files = files2\n",
    "    excel = pd.DataFrame()\n",
    "    for file_name in files:\n",
    "        df = pd.read_excel('basic/total/' + file_name)\n",
    "        excel = excel.append(df, ignore_index = True)\n",
    "    print(excel)\n",
    "    excel.to_excel('basic/total/result/total.xlsx')\n",
    "except Exception as ex:\n",
    "    print('error' + str(ex))"
   ]
  },
  {
   "cell_type": "code",
   "execution_count": 28,
   "id": "b079575a-41de-4d7d-8ed3-109cf7579ac2",
   "metadata": {},
   "outputs": [],
   "source": [
    "import pandas as pd\n",
    "try:\n",
    "    file = os.listdir('basic/total/')\n",
    "    file_list = []\n",
    "    for i in files:\n",
    "        if '.xls' in i:\n",
    "            file_list.append(i)\n",
    "\n",
    "    file = file_list\n",
    "    file_nm = \"basic/total/result/total_sheet.xlsx\"\n",
    "    xlsx_dir = os.path.join('', file_nm)\n",
    "    with pd.ExcelWriter(xlsx_dir) as writer:\n",
    "        for file_name in file:\n",
    "            df = pd.read_excel(\"basic/total/\" + file_name)\n",
    "            df.to_excel(writer, sheet_name = file_name.replace('.xlsx', ''))\n",
    "except Exception as ex:\n",
    "    print('error' + str(ex))"
   ]
  },
  {
   "cell_type": "code",
   "execution_count": 29,
   "id": "f0bf0ed4-a246-4f3e-bd50-e941d7f8377e",
   "metadata": {},
   "outputs": [
    {
     "name": "stdout",
     "output_type": "stream",
     "text": [
      "Collecting python-pptx\n",
      "  Downloading python_pptx-0.6.23-py3-none-any.whl.metadata (18 kB)\n",
      "Requirement already satisfied: lxml>=3.1.0 in /Users/time/anaconda3/lib/python3.11/site-packages (from python-pptx) (4.9.3)\n",
      "Requirement already satisfied: Pillow>=3.3.2 in /Users/time/anaconda3/lib/python3.11/site-packages (from python-pptx) (10.0.1)\n",
      "Requirement already satisfied: XlsxWriter>=0.5.7 in /Users/time/anaconda3/lib/python3.11/site-packages (from python-pptx) (3.1.1)\n",
      "Downloading python_pptx-0.6.23-py3-none-any.whl (471 kB)\n",
      "\u001b[2K   \u001b[90m━━━━━━━━━━━━━━━━━━━━━━━━━━━━━━━━━━━━━━━━\u001b[0m \u001b[32m471.6/471.6 kB\u001b[0m \u001b[31m2.1 MB/s\u001b[0m eta \u001b[36m0:00:00\u001b[0ma \u001b[36m0:00:01\u001b[0m\n",
      "\u001b[?25hInstalling collected packages: python-pptx\n",
      "Successfully installed python-pptx-0.6.23\n",
      "Note: you may need to restart the kernel to use updated packages.\n"
     ]
    }
   ],
   "source": [
    "pip install python-pptx"
   ]
  },
  {
   "cell_type": "code",
   "execution_count": null,
   "id": "3807038b-2b75-4d8f-b1a0-2078f617bcc7",
   "metadata": {},
   "outputs": [],
   "source": []
  }
 ],
 "metadata": {
  "kernelspec": {
   "display_name": "Python 3 (ipykernel)",
   "language": "python",
   "name": "python3"
  },
  "language_info": {
   "codemirror_mode": {
    "name": "ipython",
    "version": 3
   },
   "file_extension": ".py",
   "mimetype": "text/x-python",
   "name": "python",
   "nbconvert_exporter": "python",
   "pygments_lexer": "ipython3",
   "version": "3.11.5"
  }
 },
 "nbformat": 4,
 "nbformat_minor": 5
}
