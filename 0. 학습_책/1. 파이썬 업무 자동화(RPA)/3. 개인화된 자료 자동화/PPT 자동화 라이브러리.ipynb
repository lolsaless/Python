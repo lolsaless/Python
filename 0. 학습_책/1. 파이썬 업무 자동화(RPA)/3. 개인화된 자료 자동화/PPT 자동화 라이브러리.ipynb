{
 "cells": [
  {
   "cell_type": "code",
   "execution_count": 1,
   "id": "03ba8de6-10c8-43a9-987c-99c1f65a9610",
   "metadata": {},
   "outputs": [],
   "source": [
    "from pptx import Presentation"
   ]
  },
  {
   "cell_type": "code",
   "execution_count": 3,
   "id": "a845b9f0-8b59-4a61-b527-92fe1fe6d198",
   "metadata": {},
   "outputs": [],
   "source": [
    "import os"
   ]
  },
  {
   "cell_type": "code",
   "execution_count": 6,
   "id": "079bd446-51c2-49e8-8c7f-9a1adff81317",
   "metadata": {},
   "outputs": [],
   "source": [
    "directory = \"basic/ppt_data\"\n",
    "if not os.path.exists(directory):\n",
    "    os.makedirs(directory)"
   ]
  },
  {
   "cell_type": "code",
   "execution_count": 7,
   "id": "da35bbf2-9969-4810-b273-6aaba5070560",
   "metadata": {},
   "outputs": [],
   "source": [
    "prs = Presentation()\n",
    "prs.save('basic/ppt_data/test.pptx')"
   ]
  },
  {
   "cell_type": "markdown",
   "id": "82b4f95d-ca6a-4897-a65c-d26931dac346",
   "metadata": {},
   "source": [
    "### 슬라이드 생성"
   ]
  },
  {
   "cell_type": "code",
   "execution_count": 8,
   "id": "832e910e-3eb6-4aa5-a2f7-b982fe468456",
   "metadata": {},
   "outputs": [],
   "source": [
    "title_slide_layout = prs.slide_layouts[0]\n",
    "slide = prs.slides.add_slide(title_slide_layout)\n",
    "prs.save('basic/ppt_data/test.pptx')"
   ]
  },
  {
   "cell_type": "markdown",
   "id": "6dddd8e8-24d9-401b-a939-bb603ef44185",
   "metadata": {},
   "source": [
    "### 슬라이드 내용 입력"
   ]
  },
  {
   "cell_type": "code",
   "execution_count": 10,
   "id": "37379412-c89a-4842-89d9-015d3f515579",
   "metadata": {},
   "outputs": [],
   "source": [
    "title = slide.shapes.title # 타이틀 텍스트 입력\n",
    "subtitle = slide.placeholders[1] # 텍스트 상자 중 2번째 상자에 입력\n",
    "title.text = \"Hello\"\n",
    "subtitle.text = \"Python\"\n",
    "\n",
    "prs.save(\"basic/ppt_data/test.pptx\")"
   ]
  },
  {
   "cell_type": "markdown",
   "id": "00c779ea-42c7-41d1-9d0b-011b27415599",
   "metadata": {},
   "source": [
    "### 슬라이드 이미지 첨부"
   ]
  },
  {
   "cell_type": "code",
   "execution_count": 13,
   "id": "e28e329a-37bf-46c1-984b-c1a256e9b4a4",
   "metadata": {},
   "outputs": [],
   "source": [
    "from pptx import Presentation\n",
    "from pptx.util import Inches\n",
    "\n",
    "img_path = \"basic/ppt_data/test_image.png\"\n",
    "prs = Presentation()\n",
    "blank_slide_layout = prs.slide_layouts[6]\n",
    "slide = prs.slides.add_slide(blank_slide_layout)\n",
    "\n",
    "top = Inches(0) # 이미지의 시작 위치(y)\n",
    "left = Inches(0) # x\n",
    "height = Inches(10) # 세로길이\n",
    "width = Inches(10/1.33) # 가로길이\n",
    "\n",
    "\n",
    "slide.shapes.add_picture(img_path, left, top, height, width)\n",
    "prs.save(\"basic/ppt_data/img_add.pptx\")"
   ]
  }
 ],
 "metadata": {
  "kernelspec": {
   "display_name": "Python 3 (ipykernel)",
   "language": "python",
   "name": "python3"
  },
  "language_info": {
   "codemirror_mode": {
    "name": "ipython",
    "version": 3
   },
   "file_extension": ".py",
   "mimetype": "text/x-python",
   "name": "python",
   "nbconvert_exporter": "python",
   "pygments_lexer": "ipython3",
   "version": "3.11.5"
  }
 },
 "nbformat": 4,
 "nbformat_minor": 5
}
