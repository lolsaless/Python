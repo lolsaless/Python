{
 "cells": [
  {
   "cell_type": "code",
   "execution_count": 8,
   "id": "d307cb33-1b76-4504-9f44-e4ea05f3ba00",
   "metadata": {},
   "outputs": [],
   "source": [
    "import openpyxl\n",
    "import os\n",
    "\n",
    "# 디렉토리 생성\n",
    "directory = \"basic\"\n",
    "if not os.path.exists(directory):\n",
    "    os.makedirs(directory)\n",
    "\n",
    "# 새로운 워크북 생성 및 저장\n",
    "wb = openpyxl.Workbook()\n",
    "wb.save(os.path.join(directory, \"test.xlsx\"))"
   ]
  },
  {
   "cell_type": "code",
   "execution_count": 9,
   "id": "f47ba339-26f9-4fc2-ab8f-775b13592deb",
   "metadata": {},
   "outputs": [],
   "source": [
    "# 엑셀 파일 내에 sheet 생성\n",
    "wb.create_sheet(\"sheet_name1\", 0)\n",
    "wb.create_sheet(\"sheet_name2\", 0)\n",
    "wb.create_sheet(\"sheet_name3\", 0)\n",
    "wb.create_sheet(\"sheet_name4\", 0)\n",
    "wb.save(os.path.join(directory, \"test.xlsx\"))"
   ]
  },
  {
   "cell_type": "code",
   "execution_count": 10,
   "id": "51f65c65-279e-44f5-85cc-2232c9f4913e",
   "metadata": {},
   "outputs": [],
   "source": [
    "wb.remove(wb['Sheet'])"
   ]
  },
  {
   "cell_type": "code",
   "execution_count": 12,
   "id": "a03c82c0-63f8-4798-be20-544ac722b581",
   "metadata": {},
   "outputs": [],
   "source": [
    "wb.save(os.path.join(directory, \"test.xlsx\"))"
   ]
  },
  {
   "cell_type": "code",
   "execution_count": 13,
   "id": "e431ffcc-fbf7-4b8b-8113-d096607c54b5",
   "metadata": {},
   "outputs": [],
   "source": [
    "wb.close()"
   ]
  },
  {
   "cell_type": "code",
   "execution_count": 14,
   "id": "449498aa-edd7-469e-9602-0770eb2d831a",
   "metadata": {},
   "outputs": [],
   "source": [
    "wb = openpyxl.load_workbook(os.path.join(directory, \"test.xlsx\"))"
   ]
  },
  {
   "cell_type": "code",
   "execution_count": 15,
   "id": "f3fbf900-793f-4553-a16b-27edf14a2d0b",
   "metadata": {},
   "outputs": [],
   "source": [
    "wb.save('basic/test3.xlsx')\n",
    "wb.close()"
   ]
  },
  {
   "cell_type": "code",
   "execution_count": 24,
   "id": "312edeba-3df8-4175-9ed8-c7b2b4cb8e09",
   "metadata": {},
   "outputs": [],
   "source": [
    "wb = openpyxl.load_workbook(\"basic/test3.xlsx\")"
   ]
  },
  {
   "cell_type": "code",
   "execution_count": 29,
   "id": "dffae7ac-9e4d-466d-8d65-61630f1a2d54",
   "metadata": {},
   "outputs": [],
   "source": [
    "ws = wb['sheet_name2']"
   ]
  },
  {
   "cell_type": "code",
   "execution_count": 30,
   "id": "e2f31c99-8273-422c-af3f-1c471cb78636",
   "metadata": {},
   "outputs": [],
   "source": [
    "ws['B1'] = \"kongduck\""
   ]
  },
  {
   "cell_type": "code",
   "execution_count": 32,
   "id": "17427b51-8e9e-41d9-98ad-1b4b13b4bb92",
   "metadata": {},
   "outputs": [],
   "source": [
    "wb.save(\"text.xlsx\")"
   ]
  },
  {
   "cell_type": "code",
   "execution_count": 33,
   "id": "430e9e3e-8b7f-4ba2-ac85-7000a9e740c9",
   "metadata": {},
   "outputs": [
    {
     "data": {
      "text/plain": [
       "<bound method Workbook.close of <openpyxl.workbook.workbook.Workbook object at 0x12cc05290>>"
      ]
     },
     "execution_count": 33,
     "metadata": {},
     "output_type": "execute_result"
    }
   ],
   "source": [
    "ws.cell(row=2, column=1).value = \"python coding\"\n",
    "ws.append([\"i\", \"like\", \"kongduck\"])\n",
    "wb.save(\"basic/test4.xlsx\")\n",
    "wb.close"
   ]
  },
  {
   "cell_type": "code",
   "execution_count": null,
   "id": "6daa4413-8a8d-46c9-b211-5f1062cddc47",
   "metadata": {},
   "outputs": [],
   "source": []
  }
 ],
 "metadata": {
  "kernelspec": {
   "display_name": "Python 3 (ipykernel)",
   "language": "python",
   "name": "python3"
  },
  "language_info": {
   "codemirror_mode": {
    "name": "ipython",
    "version": 3
   },
   "file_extension": ".py",
   "mimetype": "text/x-python",
   "name": "python",
   "nbconvert_exporter": "python",
   "pygments_lexer": "ipython3",
   "version": "3.11.5"
  }
 },
 "nbformat": 4,
 "nbformat_minor": 5
}
