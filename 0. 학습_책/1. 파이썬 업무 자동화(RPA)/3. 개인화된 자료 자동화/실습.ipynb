{
 "cells": [
  {
   "cell_type": "code",
   "execution_count": 1,
   "id": "c64889b7-2e62-486f-af7f-511b941a742c",
   "metadata": {},
   "outputs": [],
   "source": [
    "import openpyxl\n",
    "wb = openpyxl.Workbook()"
   ]
  },
  {
   "cell_type": "code",
   "execution_count": 3,
   "id": "ec8f0b87-46dc-49fe-8ace-e66da3faa9de",
   "metadata": {},
   "outputs": [],
   "source": [
    "wb.create_sheet('car', 0)\n",
    "wb.create_sheet('semiconductor', 0)\n",
    "wb.create_sheet('metaverse', 0)\n",
    "wb.create_sheet('battery', 0)\n",
    "wb.save('product_info.xlsx')"
   ]
  },
  {
   "cell_type": "code",
   "execution_count": 4,
   "id": "eeb93152-cdf3-4352-a76a-b5e00864dbc8",
   "metadata": {},
   "outputs": [],
   "source": [
    "path = \"practice/data/\"\n",
    "\n",
    "import os\n",
    "\n",
    "file_list = os.listdir(path)"
   ]
  },
  {
   "cell_type": "code",
   "execution_count": 5,
   "id": "7997fd5f-ad2d-4f0b-9ded-03dbb8da8e9a",
   "metadata": {},
   "outputs": [
    {
     "data": {
      "text/plain": [
       "['battery.xlsx', 'metaverse.xlsx', 'semiconductor.xlsx', 'car.xlsx']"
      ]
     },
     "execution_count": 5,
     "metadata": {},
     "output_type": "execute_result"
    }
   ],
   "source": [
    "file_list"
   ]
  },
  {
   "cell_type": "code",
   "execution_count": 6,
   "id": "b06087a3-8444-4440-bba6-8ba3e7c2260c",
   "metadata": {},
   "outputs": [],
   "source": [
    "file_list_xls = []\n",
    "\n",
    "for i in file_list:\n",
    "    if '.xlsx' in i:\n",
    "        file_list_xls.append(i)\n",
    "\n",
    "file_list = file_list_xls"
   ]
  },
  {
   "cell_type": "code",
   "execution_count": 9,
   "id": "734fb95f-f37e-4e7d-804c-a2de865f3d13",
   "metadata": {},
   "outputs": [
    {
     "name": "stdout",
     "output_type": "stream",
     "text": [
      "     Unnamed: 0  ...                                                 내용\n",
      "0             0  ...  특히한국산업의'미래먹거리'로꼽히는2차전지(전기차배터리)의대중원자재의존도가높아'K배터...\n",
      "1             1  ...  남아프리카공화국에서비롯된신종코로나바이러스감염증(코로나19)변이바이러스인...http...\n",
      "2             2  ...  미국질병통제예방센터에따르면확진자는샌프란시스코에서남아프리카공화국으로여행을갔다가...전...\n",
      "3             3  ...  남아프리카공화국에서시작된오미크론은각국으로확산되며글로벌증시에충격을주고있다.코스피......\n",
      "4             4  ...  앞서정부는오미크론의국내유입을막기위해지난28일0시부터발생국인남아프리카공화국과인접국인....\n",
      "..          ...  ...                                                ...\n",
      "112           0  ...  부동산,고량주섹터가눈에띄는상승세를보인반면,리튬배터리섹터는두드러진약세를...-해외자금...\n",
      "113           1  ...  올해코스피기업공개(IPO)시장이배터리·바이오·인터넷·게임(BBIG)업종에속한성장기업...\n",
      "114           2  ...  (哪吒·눠자)가홍콩증시상장을준비중인것으로알려졌다.신에너지차시장의빠른성장세에힘입어.....\n",
      "115           3  ...  전기차배터리의핵심원료인리튬을확보하기위해치열한경쟁을벌이고있다.전기차판매량급증과...6...\n",
      "116           4  ...  1일오전홍콩증시에서메타버스테마주가강세다.10시27분(현지시각)기준콰이쇼우(1024....\n",
      "\n",
      "[117 rows x 5 columns]\n",
      "     Unnamed: 0  ...                                                 내용\n",
      "0             0  ...  있는남아프리카공화국과EU내에서가장많은오미크론확진자가나온네덜란드의현상황을교민취재를.....\n",
      "1             1  ...  코로나19확산세에관련주들강세,메타버스·NFT강세지속,램테크놀로지가짜보도자료사건에주가...\n",
      "2             2  ...  한전KPS는지난2일(현지시간)남아프리카공화국음푸말랑가(Mpumalanga)주(州)프...\n",
      "3             3  ...  이런비대면기조에현실의모습을옮겨놓은가상현실세계인메타버스(Metaverse)서비스가급부...\n",
      "4             4  ...  요즘유행하는메타버스(metaverse)또한그중하나다.가상과현실을넘나들며새로운가치를창...\n",
      "..          ...  ...                                                ...\n",
      "116           0  ...  통신은글로벌시장의인플레이션압력이높아지는가운데,탈(脫)탄소,메타버스(3차원가상공간)등...\n",
      "117           1  ...  7일오후홍콩증시에서메타버스테마주가강세다.대표적으로뉴본타운(9911.HK)이9%이상,...\n",
      "118           2  ...  섹터별로는과학기술주를비롯해서비스형소프트웨어(SaaS)테마주,클라우드컴퓨팅,홍콩증시재...\n",
      "119           3  ...  이외에도관광,모바일게임,헝다계열사,온라인의료,메타버스,쇼트클립,식품음료,과학기술등대...\n",
      "120           4  ...  동향,메타버스(3차원가상공간)등5가지를꼽았다/이코노텔링그래픽팀.경제전문매체인블룸버그...\n",
      "\n",
      "[121 rows x 5 columns]\n",
      "     Unnamed: 0  ...                                                 내용\n",
      "0             0  ...  메모리반도체D램의'겨울'은벌써끝났다?D램가격이예상보다빠르게바닥을찍고반등할가능성이.....\n",
      "1             1  ...  남아프리카공화국에서보고된뒤전세계로확산중인코로나19‘오미크론’변이바이러스로물류혼란이커...\n",
      "2             2  ...  전세계를덮친물류·반도체대란과'오미크론'변이등신종코로나바이러스감염증(코로나19)대확산...\n",
      "3             3  ...  영국시장조사업체옴디아는반도체부족이해소되는시기를내년봄으로내다봤다.남아프리카공화국에서보...\n",
      "4             4  ...  다만증권가에서는최근전망이개선되며외국인투자자들의유입이이어졌던반도체주에주목하고있다......\n",
      "..          ...  ...                                                ...\n",
      "107           2  ...  미국의투자은행JP모건의아시아기술·미디어및통신연구공동책임자인고쿨하리하란은2일홍콩의사우...\n",
      "108           3  ...  미국이중국공장에최첨단반도체장비를배치하려는SK하이닉스의계획에제동을걸면서중국의반도체자립...\n",
      "109           4  ...  아시아증시는홍콩항셍지수가1.84%나폭락하는등일본중국대만증권등이일제히하락했다.6일아시...\n",
      "110           5  ...  세부적으로보면메모리반도체수출은D램수출이전년동기대비40.4%증가한111억달러를,낸드플...\n",
      "111           6  ...  중국과홍콩으로각각50.3%,21%를수출해중국이전체메모리반도체수출에서차지하는비중은70...\n",
      "\n",
      "[112 rows x 5 columns]\n",
      "     Unnamed: 0  ...                                                 내용\n",
      "0             0  ...  아니라남아프리카공화국,중국등에서제품을생산하고판매하는글로벌회사로성장했다.브라질회사가개...\n",
      "1             1  ...  신종코로나바이러스감염증(코로나19)여파가지속되면서자동차배기가스저감용촉매로쓰이는백금족...\n",
      "2             2  ...  따라자동차매연저감촉매변환기의핵심원재료인촉매귀금속수요가급증하고있다는점이다.이렇다보니러...\n",
      "3             3  ...  올들어처음으로주말특근을재개한자동차업계도추이를지켜보고있다.정부는이날부터4주간...남아...\n",
      "4             4  ...  남아프리카공화국등오미크론변이발생9개국에대한출장을전면금지하며,이외의해외출장은자제하되....\n",
      "..          ...  ...                                                ...\n",
      "116           4  ...  6일오전홍콩증시에서자동차섹터가하락하고있다.디디추싱상폐로인한후폭풍이중국빅테크시장전반으...\n",
      "117           5  ...  7일오전홍콩증시에서헝다계열사종목이오름세를보이고있다.대표적으로대표적으로헝다그룹(333...\n",
      "118           6  ...  메타버스,자동차,전력,교육,제약바이오등대다수섹터가약세를연출했다.항셍테크지수에속한중국...\n",
      "119           7  ...  홍콩증시에상장된중국대표기술주의주가를반영한항셍테크지수(HSTECH)는2.56%떨어진5...\n",
      "120           8  ...  이외에도헝다계열사,담배테마주,쇼트클립테마주,교육,자동차,의료미용등이내림세를보였다.반...\n",
      "\n",
      "[121 rows x 5 columns]\n"
     ]
    },
    {
     "name": "stderr",
     "output_type": "stream",
     "text": [
      "/Users/time/anaconda3/lib/python3.11/site-packages/openpyxl/worksheet/header_footer.py:48: UserWarning: Cannot parse header or footer so it will be ignored\n",
      "  warn(\"\"\"Cannot parse header or footer so it will be ignored\"\"\")\n",
      "/Users/time/anaconda3/lib/python3.11/site-packages/openpyxl/worksheet/header_footer.py:48: UserWarning: Cannot parse header or footer so it will be ignored\n",
      "  warn(\"\"\"Cannot parse header or footer so it will be ignored\"\"\")\n",
      "/Users/time/anaconda3/lib/python3.11/site-packages/openpyxl/worksheet/header_footer.py:48: UserWarning: Cannot parse header or footer so it will be ignored\n",
      "  warn(\"\"\"Cannot parse header or footer so it will be ignored\"\"\")\n",
      "/Users/time/anaconda3/lib/python3.11/site-packages/openpyxl/worksheet/header_footer.py:48: UserWarning: Cannot parse header or footer so it will be ignored\n",
      "  warn(\"\"\"Cannot parse header or footer so it will be ignored\"\"\")\n"
     ]
    }
   ],
   "source": [
    "import pandas as pd\n",
    "\n",
    "for i in file_list:\n",
    "    df = pd.read_excel(f\"practice/data/{i}\")\n",
    "    print(df)"
   ]
  },
  {
   "cell_type": "code",
   "execution_count": 13,
   "id": "64e7df4a-357e-456a-a196-1784e16a1b9c",
   "metadata": {},
   "outputs": [
    {
     "name": "stderr",
     "output_type": "stream",
     "text": [
      "/Users/time/anaconda3/lib/python3.11/site-packages/openpyxl/worksheet/header_footer.py:48: UserWarning: Cannot parse header or footer so it will be ignored\n",
      "  warn(\"\"\"Cannot parse header or footer so it will be ignored\"\"\")\n",
      "/Users/time/anaconda3/lib/python3.11/site-packages/openpyxl/worksheet/header_footer.py:48: UserWarning: Cannot parse header or footer so it will be ignored\n",
      "  warn(\"\"\"Cannot parse header or footer so it will be ignored\"\"\")\n",
      "/Users/time/anaconda3/lib/python3.11/site-packages/openpyxl/worksheet/header_footer.py:48: UserWarning: Cannot parse header or footer so it will be ignored\n",
      "  warn(\"\"\"Cannot parse header or footer so it will be ignored\"\"\")\n",
      "/Users/time/anaconda3/lib/python3.11/site-packages/openpyxl/worksheet/header_footer.py:48: UserWarning: Cannot parse header or footer so it will be ignored\n",
      "  warn(\"\"\"Cannot parse header or footer so it will be ignored\"\"\")\n"
     ]
    }
   ],
   "source": [
    "import pandas as pd\n",
    "import os\n",
    "\n",
    "path_dir = \"practice/data/\"\n",
    "files = os.listdir(path_dir)\n",
    "files_add_list = []\n",
    "\n",
    "for i in files:\n",
    "    if '.xlsx' in i:\n",
    "        files_add_list.append(i)\n",
    "\n",
    "files = files_add_list\n",
    "\n",
    "file_nm = \"product_info.xlsx\"\n",
    "with pd.ExcelWriter(file_nm) as writer:\n",
    "    for file_name in files:\n",
    "        df = pd.read_excel(f\"practice/data/{file_name}\")\n",
    "        df.to_excel(writer, sheet_name = file_name.replace('.xlsx', ''))"
   ]
  },
  {
   "cell_type": "code",
   "execution_count": 14,
   "id": "f24d2d75-595b-424a-ba97-0e11fac303e1",
   "metadata": {},
   "outputs": [
    {
     "name": "stderr",
     "output_type": "stream",
     "text": [
      "/Users/time/anaconda3/lib/python3.11/site-packages/openpyxl/worksheet/header_footer.py:48: UserWarning: Cannot parse header or footer so it will be ignored\n",
      "  warn(\"\"\"Cannot parse header or footer so it will be ignored\"\"\")\n",
      "/Users/time/anaconda3/lib/python3.11/site-packages/openpyxl/worksheet/header_footer.py:48: UserWarning: Cannot parse header or footer so it will be ignored\n",
      "  warn(\"\"\"Cannot parse header or footer so it will be ignored\"\"\")\n",
      "/Users/time/anaconda3/lib/python3.11/site-packages/openpyxl/worksheet/header_footer.py:48: UserWarning: Cannot parse header or footer so it will be ignored\n",
      "  warn(\"\"\"Cannot parse header or footer so it will be ignored\"\"\")\n",
      "/Users/time/anaconda3/lib/python3.11/site-packages/openpyxl/worksheet/header_footer.py:48: UserWarning: Cannot parse header or footer so it will be ignored\n",
      "  warn(\"\"\"Cannot parse header or footer so it will be ignored\"\"\")\n"
     ]
    }
   ],
   "source": [
    "import pandas as pd\n",
    "import os\n",
    "\n",
    "path_dir = \"practice/data/\"\n",
    "files = [file for file in os.listdir(path_dir) if file.endswith('.xlsx')]\n",
    "\n",
    "file_nm = \"product_info.xlsx\"\n",
    "with pd.ExcelWriter(file_nm) as writer:\n",
    "    for file_name in files:\n",
    "        df = pd.read_excel(os.path.join(path_dir, file_name))\n",
    "        sheet_name = os.path.splitext(file_name)[0]  # 확장자 제거\n",
    "        df.to_excel(writer, sheet_name=sheet_name)\n"
   ]
  },
  {
   "cell_type": "code",
   "execution_count": 16,
   "id": "4a58b78b-bf75-4d19-9ab5-fffd0609ca01",
   "metadata": {},
   "outputs": [],
   "source": [
    "from pptx import Presentation as prs"
   ]
  },
  {
   "cell_type": "code",
   "execution_count": 17,
   "id": "8fedfae8-10ff-4ab5-a1f7-14e97566553e",
   "metadata": {},
   "outputs": [],
   "source": [
    "path = \"practice/data\"\n",
    "\n",
    "files = [file for file in os.listdir(path) if file.endswith('.xlsx')]"
   ]
  },
  {
   "cell_type": "code",
   "execution_count": 18,
   "id": "8e1bffd0-2708-4a75-a0e2-7ef61cbf2a0c",
   "metadata": {},
   "outputs": [
    {
     "data": {
      "text/plain": [
       "['battery.xlsx', 'metaverse.xlsx', 'semiconductor.xlsx', 'car.xlsx']"
      ]
     },
     "execution_count": 18,
     "metadata": {},
     "output_type": "execute_result"
    }
   ],
   "source": [
    "files"
   ]
  },
  {
   "cell_type": "code",
   "execution_count": 20,
   "id": "1115d638-9121-4d44-8aaa-232229951bda",
   "metadata": {},
   "outputs": [
    {
     "name": "stdout",
     "output_type": "stream",
     "text": [
      "     Unnamed: 0  ...                                                 내용\n",
      "0             0  ...  특히한국산업의'미래먹거리'로꼽히는2차전지(전기차배터리)의대중원자재의존도가높아'K배터...\n",
      "1             1  ...  남아프리카공화국에서비롯된신종코로나바이러스감염증(코로나19)변이바이러스인...http...\n",
      "2             2  ...  미국질병통제예방센터에따르면확진자는샌프란시스코에서남아프리카공화국으로여행을갔다가...전...\n",
      "3             3  ...  남아프리카공화국에서시작된오미크론은각국으로확산되며글로벌증시에충격을주고있다.코스피......\n",
      "4             4  ...  앞서정부는오미크론의국내유입을막기위해지난28일0시부터발생국인남아프리카공화국과인접국인....\n",
      "..          ...  ...                                                ...\n",
      "112           0  ...  부동산,고량주섹터가눈에띄는상승세를보인반면,리튬배터리섹터는두드러진약세를...-해외자금...\n",
      "113           1  ...  올해코스피기업공개(IPO)시장이배터리·바이오·인터넷·게임(BBIG)업종에속한성장기업...\n",
      "114           2  ...  (哪吒·눠자)가홍콩증시상장을준비중인것으로알려졌다.신에너지차시장의빠른성장세에힘입어.....\n",
      "115           3  ...  전기차배터리의핵심원료인리튬을확보하기위해치열한경쟁을벌이고있다.전기차판매량급증과...6...\n",
      "116           4  ...  1일오전홍콩증시에서메타버스테마주가강세다.10시27분(현지시각)기준콰이쇼우(1024....\n",
      "\n",
      "[117 rows x 5 columns]\n",
      "     Unnamed: 0  ...                                                 내용\n",
      "0             0  ...  있는남아프리카공화국과EU내에서가장많은오미크론확진자가나온네덜란드의현상황을교민취재를.....\n",
      "1             1  ...  코로나19확산세에관련주들강세,메타버스·NFT강세지속,램테크놀로지가짜보도자료사건에주가...\n",
      "2             2  ...  한전KPS는지난2일(현지시간)남아프리카공화국음푸말랑가(Mpumalanga)주(州)프...\n",
      "3             3  ...  이런비대면기조에현실의모습을옮겨놓은가상현실세계인메타버스(Metaverse)서비스가급부...\n",
      "4             4  ...  요즘유행하는메타버스(metaverse)또한그중하나다.가상과현실을넘나들며새로운가치를창...\n",
      "..          ...  ...                                                ...\n",
      "116           0  ...  통신은글로벌시장의인플레이션압력이높아지는가운데,탈(脫)탄소,메타버스(3차원가상공간)등...\n",
      "117           1  ...  7일오후홍콩증시에서메타버스테마주가강세다.대표적으로뉴본타운(9911.HK)이9%이상,...\n",
      "118           2  ...  섹터별로는과학기술주를비롯해서비스형소프트웨어(SaaS)테마주,클라우드컴퓨팅,홍콩증시재...\n",
      "119           3  ...  이외에도관광,모바일게임,헝다계열사,온라인의료,메타버스,쇼트클립,식품음료,과학기술등대...\n",
      "120           4  ...  동향,메타버스(3차원가상공간)등5가지를꼽았다/이코노텔링그래픽팀.경제전문매체인블룸버그...\n",
      "\n",
      "[121 rows x 5 columns]\n",
      "     Unnamed: 0  ...                                                 내용\n",
      "0             0  ...  메모리반도체D램의'겨울'은벌써끝났다?D램가격이예상보다빠르게바닥을찍고반등할가능성이.....\n",
      "1             1  ...  남아프리카공화국에서보고된뒤전세계로확산중인코로나19‘오미크론’변이바이러스로물류혼란이커...\n",
      "2             2  ...  전세계를덮친물류·반도체대란과'오미크론'변이등신종코로나바이러스감염증(코로나19)대확산...\n",
      "3             3  ...  영국시장조사업체옴디아는반도체부족이해소되는시기를내년봄으로내다봤다.남아프리카공화국에서보...\n",
      "4             4  ...  다만증권가에서는최근전망이개선되며외국인투자자들의유입이이어졌던반도체주에주목하고있다......\n",
      "..          ...  ...                                                ...\n",
      "107           2  ...  미국의투자은행JP모건의아시아기술·미디어및통신연구공동책임자인고쿨하리하란은2일홍콩의사우...\n",
      "108           3  ...  미국이중국공장에최첨단반도체장비를배치하려는SK하이닉스의계획에제동을걸면서중국의반도체자립...\n",
      "109           4  ...  아시아증시는홍콩항셍지수가1.84%나폭락하는등일본중국대만증권등이일제히하락했다.6일아시...\n",
      "110           5  ...  세부적으로보면메모리반도체수출은D램수출이전년동기대비40.4%증가한111억달러를,낸드플...\n",
      "111           6  ...  중국과홍콩으로각각50.3%,21%를수출해중국이전체메모리반도체수출에서차지하는비중은70...\n",
      "\n",
      "[112 rows x 5 columns]\n",
      "     Unnamed: 0  ...                                                 내용\n",
      "0             0  ...  아니라남아프리카공화국,중국등에서제품을생산하고판매하는글로벌회사로성장했다.브라질회사가개...\n",
      "1             1  ...  신종코로나바이러스감염증(코로나19)여파가지속되면서자동차배기가스저감용촉매로쓰이는백금족...\n",
      "2             2  ...  따라자동차매연저감촉매변환기의핵심원재료인촉매귀금속수요가급증하고있다는점이다.이렇다보니러...\n",
      "3             3  ...  올들어처음으로주말특근을재개한자동차업계도추이를지켜보고있다.정부는이날부터4주간...남아...\n",
      "4             4  ...  남아프리카공화국등오미크론변이발생9개국에대한출장을전면금지하며,이외의해외출장은자제하되....\n",
      "..          ...  ...                                                ...\n",
      "116           4  ...  6일오전홍콩증시에서자동차섹터가하락하고있다.디디추싱상폐로인한후폭풍이중국빅테크시장전반으...\n",
      "117           5  ...  7일오전홍콩증시에서헝다계열사종목이오름세를보이고있다.대표적으로대표적으로헝다그룹(333...\n",
      "118           6  ...  메타버스,자동차,전력,교육,제약바이오등대다수섹터가약세를연출했다.항셍테크지수에속한중국...\n",
      "119           7  ...  홍콩증시에상장된중국대표기술주의주가를반영한항셍테크지수(HSTECH)는2.56%떨어진5...\n",
      "120           8  ...  이외에도헝다계열사,담배테마주,쇼트클립테마주,교육,자동차,의료미용등이내림세를보였다.반...\n",
      "\n",
      "[121 rows x 5 columns]\n"
     ]
    },
    {
     "name": "stderr",
     "output_type": "stream",
     "text": [
      "/Users/time/anaconda3/lib/python3.11/site-packages/openpyxl/worksheet/header_footer.py:48: UserWarning: Cannot parse header or footer so it will be ignored\n",
      "  warn(\"\"\"Cannot parse header or footer so it will be ignored\"\"\")\n",
      "/Users/time/anaconda3/lib/python3.11/site-packages/openpyxl/worksheet/header_footer.py:48: UserWarning: Cannot parse header or footer so it will be ignored\n",
      "  warn(\"\"\"Cannot parse header or footer so it will be ignored\"\"\")\n",
      "/Users/time/anaconda3/lib/python3.11/site-packages/openpyxl/worksheet/header_footer.py:48: UserWarning: Cannot parse header or footer so it will be ignored\n",
      "  warn(\"\"\"Cannot parse header or footer so it will be ignored\"\"\")\n",
      "/Users/time/anaconda3/lib/python3.11/site-packages/openpyxl/worksheet/header_footer.py:48: UserWarning: Cannot parse header or footer so it will be ignored\n",
      "  warn(\"\"\"Cannot parse header or footer so it will be ignored\"\"\")\n"
     ]
    }
   ],
   "source": [
    "for i in files:\n",
    "    df = pd.read_excel(f\"practice/data/{i}\")\n",
    "    print(df)"
   ]
  },
  {
   "cell_type": "code",
   "execution_count": 23,
   "id": "06fd1fce-1947-441e-9355-68b6fc57558d",
   "metadata": {},
   "outputs": [
    {
     "name": "stderr",
     "output_type": "stream",
     "text": [
      "/Users/time/anaconda3/lib/python3.11/site-packages/openpyxl/worksheet/header_footer.py:48: UserWarning: Cannot parse header or footer so it will be ignored\n",
      "  warn(\"\"\"Cannot parse header or footer so it will be ignored\"\"\")\n",
      "/Users/time/anaconda3/lib/python3.11/site-packages/openpyxl/worksheet/header_footer.py:48: UserWarning: Cannot parse header or footer so it will be ignored\n",
      "  warn(\"\"\"Cannot parse header or footer so it will be ignored\"\"\")\n",
      "/Users/time/anaconda3/lib/python3.11/site-packages/openpyxl/worksheet/header_footer.py:48: UserWarning: Cannot parse header or footer so it will be ignored\n",
      "  warn(\"\"\"Cannot parse header or footer so it will be ignored\"\"\")\n",
      "/Users/time/anaconda3/lib/python3.11/site-packages/openpyxl/worksheet/header_footer.py:48: UserWarning: Cannot parse header or footer so it will be ignored\n",
      "  warn(\"\"\"Cannot parse header or footer so it will be ignored\"\"\")\n"
     ]
    }
   ],
   "source": [
    "import sys\n",
    "from wordcloud import WordCloud\n",
    "for i in files:\n",
    "    df = pd.read_excel(f\"practice/data/{i}\")\n",
    "    df[\"title&script\"] = df[\"제목\"] + df[\"내용\"]\n",
    "    str_unit_sum = ''\n",
    "    for j in range(df.shape[0]):\n",
    "        str_unit = df.loc[j, \"title&script\"]\n",
    "        str_unit_sum = str_unit_sum + str_unit\n",
    "    wc = WordCloud(font_path = \"practice/BMJUA_ttf.ttf\")\n",
    "    wc.generate(str(str_unit_sum))\n",
    "    product_name = i.replace(\".xlsx\", '')\n",
    "    wc.to_file(f\"practice/{product_name}_wordcloud_1.png\")"
   ]
  },
  {
   "cell_type": "code",
   "execution_count": null,
   "id": "37d87f14-d451-4ea0-8023-8ac9363daf08",
   "metadata": {},
   "outputs": [],
   "source": []
  }
 ],
 "metadata": {
  "kernelspec": {
   "display_name": "Python 3 (ipykernel)",
   "language": "python",
   "name": "python3"
  },
  "language_info": {
   "codemirror_mode": {
    "name": "ipython",
    "version": 3
   },
   "file_extension": ".py",
   "mimetype": "text/x-python",
   "name": "python",
   "nbconvert_exporter": "python",
   "pygments_lexer": "ipython3",
   "version": "3.11.5"
  }
 },
 "nbformat": 4,
 "nbformat_minor": 5
}
