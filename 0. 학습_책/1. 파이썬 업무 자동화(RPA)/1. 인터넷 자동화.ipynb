{
 "cells": [
  {
   "cell_type": "markdown",
   "id": "c135ccb7-02fc-4466-baca-a62eed4aab94",
   "metadata": {
    "jp-MarkdownHeadingCollapsed": true
   },
   "source": [
    "# 예제 코드"
   ]
  },
  {
   "cell_type": "code",
   "execution_count": 1,
   "id": "43c1dc25-1ac3-4da4-a096-dacae7f94362",
   "metadata": {},
   "outputs": [],
   "source": [
    "import selenium"
   ]
  },
  {
   "cell_type": "code",
   "execution_count": 2,
   "id": "0e062b74-fd18-486c-af19-894df9adb1df",
   "metadata": {},
   "outputs": [
    {
     "data": {
      "text/plain": [
       "'4.15.2'"
      ]
     },
     "execution_count": 2,
     "metadata": {},
     "output_type": "execute_result"
    }
   ],
   "source": [
    "selenium.__version__"
   ]
  },
  {
   "cell_type": "code",
   "execution_count": 3,
   "id": "bc23eecd-f561-4da9-ad2c-99fc414adffd",
   "metadata": {},
   "outputs": [],
   "source": [
    "import wordcloud"
   ]
  },
  {
   "cell_type": "code",
   "execution_count": 4,
   "id": "1669e961-8cca-4153-b748-5732e1e04ad2",
   "metadata": {},
   "outputs": [
    {
     "data": {
      "text/plain": [
       "'1.9.3'"
      ]
     },
     "execution_count": 4,
     "metadata": {},
     "output_type": "execute_result"
    }
   ],
   "source": [
    "wordcloud.__version__"
   ]
  },
  {
   "cell_type": "markdown",
   "id": "d82138a2-8f1a-41da-b3f1-b7ae43e311a8",
   "metadata": {},
   "source": [
    "### webDriver 라이브러리 가져오기\n",
    "WebDriver라이브러리로 인터넷 브라우저를 구동시키는 역할을 한다."
   ]
  },
  {
   "cell_type": "code",
   "execution_count": 5,
   "id": "ca0dee9d-60aa-46ac-8ab2-23ed8cd2cc28",
   "metadata": {},
   "outputs": [],
   "source": [
    "from selenium import webdriver\n",
    "from selenium.webdriver.chrome.service import Service\n",
    "from webdriver_manager.chrome import ChromeDriverManager\n",
    "from selenium.webdriver.common.by import By\n",
    "service = Service(executable_path = ChromeDriverManager().install()) # 크롬 드라이버 설치\n",
    "options = webdriver.ChromeOptions()\n",
    "options.add_argument('--no-sandbox')"
   ]
  },
  {
   "cell_type": "markdown",
   "id": "df726032-0392-4e2c-a433-652d7afc4af3",
   "metadata": {},
   "source": [
    "### 함께 만들어 볼 프로그램 one code 체험\n",
    "Selenium의 기본을 배우기 전에 완성 코드를 구동해 보고 이렇게 파일이 만들어진다는걸 느껴보자."
   ]
  },
  {
   "cell_type": "code",
   "execution_count": 6,
   "id": "54dd375a-e689-43b8-aadb-0de6314bfe2d",
   "metadata": {},
   "outputs": [],
   "source": [
    "# 0.코드 실행을 기다리는 기능\n",
    "import time\n",
    "st = 5 # 5초를 기다린다.\n",
    "\n",
    "# 1-1. 인터넷 창을 연다.\n",
    "from selenium import webdriver"
   ]
  },
  {
   "cell_type": "code",
   "execution_count": 7,
   "id": "37e47576-0ecc-491d-983d-49b654954cf2",
   "metadata": {},
   "outputs": [],
   "source": [
    "# PC버전\n",
    "driver = webdriver.Chrome(service =  service)"
   ]
  },
  {
   "cell_type": "code",
   "execution_count": 8,
   "id": "d23312a5-f611-405f-b5d5-80dd297c74b5",
   "metadata": {},
   "outputs": [],
   "source": [
    "# 1-2. 네이버에 접속한다.\n",
    "driver.get(\"http://www.naver.com\")"
   ]
  },
  {
   "cell_type": "code",
   "execution_count": 9,
   "id": "5dc71a4d-3e5c-4013-8878-fbed8b90e80e",
   "metadata": {},
   "outputs": [],
   "source": [
    "# 1-3. 키워드 입력하여 검색\n",
    "greenbox = driver.find_element(By.XPATH, \"/html/body/div[2]/div[1]/div/div[3]/div[2]/div/form/fieldset/div/input\")"
   ]
  },
  {
   "cell_type": "code",
   "execution_count": 10,
   "id": "164fc047-1826-46a7-a6e1-5fec1d9e9d69",
   "metadata": {},
   "outputs": [],
   "source": [
    "# 1-4. 검색창에 키워드 전달\n",
    "greenbox.send_keys(\"반도체\")"
   ]
  },
  {
   "cell_type": "code",
   "execution_count": 11,
   "id": "e101d179-3039-4102-a3e5-0c06a0a9d07d",
   "metadata": {},
   "outputs": [],
   "source": [
    "# 1-5. 검색 버튼 클릭\n",
    "driver.find_element(By.ID, \"search-btn\").click()"
   ]
  },
  {
   "cell_type": "code",
   "execution_count": 12,
   "id": "db8928fe-b012-4ceb-b764-1886fc7c4b0f",
   "metadata": {},
   "outputs": [],
   "source": [
    "# 1-6. 반도체 검색 후 뉴스 링크를 바로 접속한다.\n",
    "driver.get(\"https://search.naver.com/search.naver?where=news&sm=tab_jum&query=%EB%B0%98%EB%8F%84%EC%B2%B4\")"
   ]
  },
  {
   "cell_type": "code",
   "execution_count": 13,
   "id": "602fba8b-5691-4917-a5eb-24603259179f",
   "metadata": {},
   "outputs": [],
   "source": [
    "# 1-7. 뉴스 탭에 나오는 기사들을 최신순으로 배열하여 리스트 변수에 담는다.\n",
    "first_sel = driver.find_element(By.XPATH, \"/html/body/div[3]/div[2]/div/div[1]/section/div/div[2]/ul\")"
   ]
  },
  {
   "cell_type": "code",
   "execution_count": 14,
   "id": "53fccc5e-3820-4476-bd80-3064459de665",
   "metadata": {},
   "outputs": [],
   "source": [
    "second_sel = first_sel.find_elements(By.CLASS_NAME, \"news_tit\")"
   ]
  },
  {
   "cell_type": "code",
   "execution_count": 17,
   "id": "6b5fa2bc-d4c2-4940-b266-0a32b7ae2a98",
   "metadata": {},
   "outputs": [
    {
     "name": "stdout",
     "output_type": "stream",
     "text": [
      "-- 추출한 텍스트 --\n",
      "['삼성 반도체, 임원 연봉 동결…경계현, 긴급 회의 소집', '2년만에 반도체 왕좌서 내려온 삼성...다시 1위 꿰찬 기업은', '美 52조·獨 14조·日 12조…\"한국도 반도체 보조금 필요\"', \"'반도체기술 중국 유출 혐의' 삼성전자 前수석연구원 영장 기각\", '반도체 기술 중국 유출 혐의 전 삼성 연구원 영장 기각', \"'중국에 반도체 기술 유출' 삼성전자 전 부장 첫 재판서 혐의 부인\", '\"AI 반도체 수요 급증\"…엔비디아 또 사상최고', \"통상본부장, 반도체 장비 외투기업 '에드워드' 방문\", '중견기업, 1분기 반도체 회복세에 수출 개선 전망', '‘반도체 메가 클러스터’ 꺼낸 尹… 염태영 “선거 개입 멈춰야”']\n"
     ]
    }
   ],
   "source": [
    "news_title_lists = []\n",
    "\n",
    "for i in second_sel:\n",
    "    news_title_lists.append(i.text.replace(\"\\n\", \"\"))\n",
    "\n",
    "print(\"-- 추출한 텍스트 --\")\n",
    "print(news_title_lists)"
   ]
  },
  {
   "cell_type": "code",
   "execution_count": 19,
   "id": "64bb2405-5c35-45e6-8fdc-e84a798ec58c",
   "metadata": {},
   "outputs": [
    {
     "name": "stdout",
     "output_type": "stream",
     "text": [
      "삼성 반도체, 임원 연봉 동결…경계현, 긴급 회의 소집\n",
      "2년만에 반도체 왕좌서 내려온 삼성...다시 1위 꿰찬 기업은\n",
      "美 52조·獨 14조·日 12조…\"한국도 반도체 보조금 필요\"\n",
      "'반도체기술 중국 유출 혐의' 삼성전자 前수석연구원 영장 기각\n",
      "반도체 기술 중국 유출 혐의 전 삼성 연구원 영장 기각\n",
      "'중국에 반도체 기술 유출' 삼성전자 전 부장 첫 재판서 혐의 부인\n",
      "\"AI 반도체 수요 급증\"…엔비디아 또 사상최고\n",
      "통상본부장, 반도체 장비 외투기업 '에드워드' 방문\n",
      "중견기업, 1분기 반도체 회복세에 수출 개선 전망\n",
      "‘반도체 메가 클러스터’ 꺼낸 尹… 염태영 “선거 개입 멈춰야”\n"
     ]
    }
   ],
   "source": [
    "for i in news_title_lists:\n",
    "    print(i)"
   ]
  },
  {
   "cell_type": "code",
   "execution_count": 20,
   "id": "92ed1d07-3846-4da9-baca-32f601fd362f",
   "metadata": {},
   "outputs": [],
   "source": [
    "import pandas as pd"
   ]
  },
  {
   "cell_type": "code",
   "execution_count": 21,
   "id": "91b861a2-9669-4267-9a10-119fa4b93e3b",
   "metadata": {},
   "outputs": [],
   "source": [
    "df = pd.DataFrame(news_title_lists)\n",
    "df.to_excel('naver_news.xlsx')"
   ]
  },
  {
   "cell_type": "code",
   "execution_count": 28,
   "id": "e69e7ba3-58f3-4cf7-bcdc-59f3e2d62f89",
   "metadata": {},
   "outputs": [],
   "source": [
    "from wordcloud import WordCloud, STOPWORDS\n",
    "stopwords = set(STOPWORDS)\n",
    "wc = WordCloud(font_path = \"/System/Library/Fonts/AppleGothic.ttf\", stopwords = stopwords)"
   ]
  },
  {
   "cell_type": "code",
   "execution_count": 29,
   "id": "c5993a15-5e60-45f7-be5c-ba8e7cdd7a46",
   "metadata": {},
   "outputs": [
    {
     "data": {
      "text/plain": [
       "<wordcloud.wordcloud.WordCloud at 0x1241c9510>"
      ]
     },
     "execution_count": 29,
     "metadata": {},
     "output_type": "execute_result"
    }
   ],
   "source": [
    "wc.generate(str(news_title_lists))\n",
    "wc.to_file('wordcloud_bm.png')"
   ]
  },
  {
   "cell_type": "markdown",
   "id": "352c70b6-7ce2-46c6-942d-d080bde62c14",
   "metadata": {
    "jp-MarkdownHeadingCollapsed": true
   },
   "source": [
    "# Selenium 기본"
   ]
  },
  {
   "cell_type": "code",
   "execution_count": 30,
   "id": "db2d609e-ff13-4cc1-86ba-8cc1d6f8b402",
   "metadata": {},
   "outputs": [],
   "source": [
    "driver.get(\"https://www.google.com//?hl=\")"
   ]
  },
  {
   "cell_type": "code",
   "execution_count": 31,
   "id": "78f575af-3f7c-4999-a5d7-2a4f4b098abb",
   "metadata": {},
   "outputs": [],
   "source": [
    "sel = driver.find_element(By.ID, 'gb')"
   ]
  },
  {
   "cell_type": "code",
   "execution_count": 32,
   "id": "6a2f61f2-e1f5-4cf4-bfeb-759d649f05b8",
   "metadata": {},
   "outputs": [
    {
     "name": "stdout",
     "output_type": "stream",
     "text": [
      "Gmail이미지\n",
      "로그인\n"
     ]
    }
   ],
   "source": [
    "print(sel.text)"
   ]
  },
  {
   "cell_type": "code",
   "execution_count": 34,
   "id": "be9d88ec-3839-4f4d-b0cb-76acc1f41fbd",
   "metadata": {},
   "outputs": [],
   "source": [
    "sel2 = driver.find_element(By.XPATH, '/html/body/div[1]/div[1]/div/div/div')"
   ]
  },
  {
   "cell_type": "code",
   "execution_count": 35,
   "id": "8b345c7c-567e-40eb-9455-b57f0ece0725",
   "metadata": {},
   "outputs": [
    {
     "name": "stdout",
     "output_type": "stream",
     "text": [
      "<selenium.webdriver.remote.webelement.WebElement (session=\"373ca59627f116f33c189f38d9ce874b\", element=\"E453A116BB830DD349C74F1BCDC0AE29_element_153\")>\n",
      "Gmail이미지\n",
      "로그인\n"
     ]
    }
   ],
   "source": [
    "print(sel2)\n",
    "print(sel2.text)"
   ]
  },
  {
   "cell_type": "code",
   "execution_count": 41,
   "id": "369a6526-4b24-41cb-81cc-66a678bbff30",
   "metadata": {},
   "outputs": [],
   "source": [
    "sel3 = driver.find_element(By.CLASS_NAME, \"gNO89b\")"
   ]
  },
  {
   "cell_type": "code",
   "execution_count": 42,
   "id": "a7a1aa6b-7070-468e-9863-fb3f3cd8d04a",
   "metadata": {},
   "outputs": [
    {
     "name": "stdout",
     "output_type": "stream",
     "text": [
      "\n"
     ]
    }
   ],
   "source": [
    "print(sel3.text)"
   ]
  },
  {
   "cell_type": "code",
   "execution_count": 43,
   "id": "da5e07e8-3931-4665-9a89-e35322c383c1",
   "metadata": {},
   "outputs": [],
   "source": [
    "sel3 = driver.find_element(By.XPATH, \"/html/body/div[1]/div[3]/form/div[1]/div[1]/div[4]/center/input[1]\")"
   ]
  },
  {
   "cell_type": "code",
   "execution_count": 48,
   "id": "a48bf861-b320-4a0b-ba04-e3f3a2eb65bb",
   "metadata": {},
   "outputs": [
    {
     "name": "stdout",
     "output_type": "stream",
     "text": [
      "\n"
     ]
    }
   ],
   "source": [
    "print(sel3.text)"
   ]
  },
  {
   "cell_type": "raw",
   "id": "ed453ef3-b842-4e49-83c6-271d0b598be9",
   "metadata": {},
   "source": [
    "print(sel3)"
   ]
  },
  {
   "cell_type": "code",
   "execution_count": 49,
   "id": "b5987c28-7956-4c32-8a48-c4beada44511",
   "metadata": {},
   "outputs": [
    {
     "name": "stdout",
     "output_type": "stream",
     "text": [
      "<selenium.webdriver.remote.webelement.WebElement (session=\"373ca59627f116f33c189f38d9ce874b\", element=\"E453A116BB830DD349C74F1BCDC0AE29_element_153\")>\n"
     ]
    }
   ],
   "source": [
    "print(sel2)"
   ]
  },
  {
   "cell_type": "code",
   "execution_count": 50,
   "id": "d696bb23-7f5e-4725-a106-807deaccf515",
   "metadata": {},
   "outputs": [
    {
     "name": "stdout",
     "output_type": "stream",
     "text": [
      "대한민국\n"
     ]
    }
   ],
   "source": [
    "sel4 = driver.find_element(By.CLASS_NAME, \"uU7dJb\")\n",
    "print(sel4.text)"
   ]
  },
  {
   "cell_type": "code",
   "execution_count": 51,
   "id": "26629e76-eb86-463a-997f-97983cb7bc2e",
   "metadata": {},
   "outputs": [
    {
     "name": "stdout",
     "output_type": "stream",
     "text": [
      "147\n"
     ]
    },
    {
     "data": {
      "text/plain": [
       "'<div><div class=\"gb_Oa gb_f gb_fb gb_Pa\" id=\"gb\"><div class=\"gb_zd gb_db gb_od\" data-ogsr-up=\"\"><div><div class=\"gb_Fd gb_I gb_2f gb_Sf\" data-ogbl=\"\"><div class=\"gb_H gb_I\"><a class=\"gb_F\" aria-label=\"Gmail (새 탭에서 열기)\" data-pid=\"23\" href=\"https://mail.google.com/mail/&amp;ogbl\" target=\"_top\">Gmail</a></div><div class=\"gb_H gb_I\"><a class=\"gb_F\" aria-label=\"이미지 검색 (새 탭에서 열기)\" data-pid=\"2\" href=\"https://www.google.com/imghp?hl=ko&amp;ogbl\" target=\"_top\">이미지</a></div></div></div><div class=\"gb_Td\"><div class=\"gb_5c\"><div class=\"gb_l gb_w gb_I\" data-ogsr-fb=\"true\" data-ogsr-alt=\"\" id=\"gbwa\"><div class=\"gb_g\"><a class=\"gb_d\" aria-label=\"Google 앱\" href=\"https://www.google.co.kr/intl/ko/about/products\" aria-expanded=\"false\" role=\"button\" tabindex=\"0\"><svg class=\"gb_i\" focusable=\"false\" viewBox=\"0 0 24 24\"><path d=\"M6,8c1.1,0 2,-0.9 2,-2s-0.9,-2 -2,-2 -2,0.9 -2,2 0.9,2 2,2zM12,20c1.1,0 2,-0.9 2,-2s-0.9,-2 -2,-2 -2,0.9 -2,2 0.9,2 2,2zM6,20c1.1,0 2,-0.9 2,-2s-0.9,-2 -2,-2 -2,0.9 -2,2 0.9,2 2,2zM6,14c1.1,0 2,-0.9 2,-2s-0.9,-2 -2,-2 -2,0.9 -2,2 0.9,2 2,2zM12,14c1.1,0 2,-0.9 2,-2s-0.9,-2 -2,-2 -2,0.9 -2,2 0.9,2 2,2zM16,6c0,1.1 0.9,2 2,2s2,-0.9 2,-2 -0.9,-2 -2,-2 -2,0.9 -2,2zM12,8c1.1,0 2,-0.9 2,-2s-0.9,-2 -2,-2 -2,0.9 -2,2 0.9,2 2,2zM18,14c1.1,0 2,-0.9 2,-2s-0.9,-2 -2,-2 -2,0.9 -2,2 0.9,2 2,2zM18,20c1.1,0 2,-0.9 2,-2s-0.9,-2 -2,-2 -2,0.9 -2,2 0.9,2 2,2z\"></path><image src=\"https://ssl.gstatic.com/gb/images/bar/al-icon.png\" alt=\"\" height=\"24\" width=\"24\" style=\"border:none;display:none \\\\9\"></image></svg></a></div></div></div><a class=\"gb_Aa gb_kd gb_Md gb_le\" aria-label=\"로그인\" href=\"https://accounts.google.com/ServiceLogin?hl=ko&amp;passive=true&amp;continue=https://www.google.com/%3Fhl%3D&amp;ec=GAZAmgQ\" target=\"_top\"><span class=\"gb_Id\">로그인</span></a></div><div style=\"overflow: hidden; position: absolute; top: 0px; visibility: hidden; width: 370px; z-index: 991; height: 0px; margin-top: 49px; transition: height 0.3s ease-in-out 0s; right: 0px; margin-right: 4px;\"><iframe role=\"presentation\" frameborder=\"0\" scrolling=\"no\" name=\"app\" src=\"https://ogs.google.com/widget/app/so?awwd=1&amp;gm3=1&amp;origin=https%3A%2F%2Fwww.google.com&amp;cn=app&amp;pid=1&amp;spid=538&amp;hl=ko\" style=\"height: 100%; width: 100%; color-scheme: light; visibility: hidden;\" aria-modal=\"false\" aria-hidden=\"true\"></iframe></div></div></div></div>'"
      ]
     },
     "execution_count": 51,
     "metadata": {},
     "output_type": "execute_result"
    }
   ],
   "source": [
    "div_sels = driver.find_elements(By.TAG_NAME, 'div')\n",
    "print(len(div_sels))\n",
    "div_sels[2].get_attribute('innerHTML')"
   ]
  },
  {
   "cell_type": "code",
   "execution_count": 53,
   "id": "11d82149-a4a1-4cee-a5d8-54e7b66438ce",
   "metadata": {},
   "outputs": [
    {
     "data": {
      "text/plain": [
       "'LX3sZb'"
      ]
     },
     "execution_count": 53,
     "metadata": {},
     "output_type": "execute_result"
    }
   ],
   "source": [
    "div_sels[2].get_attribute('class')"
   ]
  },
  {
   "cell_type": "code",
   "execution_count": 56,
   "id": "c6f7d63f-41ae-4914-9b7a-f05abbecb4f7",
   "metadata": {},
   "outputs": [
    {
     "data": {
      "text/plain": [
       "'L3eUgb'"
      ]
     },
     "execution_count": 56,
     "metadata": {},
     "output_type": "execute_result"
    }
   ],
   "source": [
    "div_sels[0].get_attribute('class')"
   ]
  },
  {
   "cell_type": "code",
   "execution_count": 61,
   "id": "8a0c797a-5605-43a6-b318-f2bae4bbdb3b",
   "metadata": {},
   "outputs": [],
   "source": [
    "input_sel = driver.find_element(By.ID, 'APjFqb')"
   ]
  },
  {
   "cell_type": "code",
   "execution_count": 62,
   "id": "d9d979de-b750-4037-945d-e02f5824597b",
   "metadata": {},
   "outputs": [],
   "source": [
    "input_sel.send_keys(\"비현코\\n\")"
   ]
  },
  {
   "cell_type": "code",
   "execution_count": 69,
   "id": "2b2697ce-2b41-481e-a56b-2e4f8bedc592",
   "metadata": {},
   "outputs": [],
   "source": [
    "click_sel = driver.find_element(By.XPATH, '/html/body/div[1]/div[3]/form/div[1]/div[1]/div[4]/center/input[2]')"
   ]
  },
  {
   "cell_type": "code",
   "execution_count": 70,
   "id": "2be4f9ea-cdf7-4243-8c47-48e15283b4d9",
   "metadata": {},
   "outputs": [],
   "source": [
    "click_sel.click()"
   ]
  },
  {
   "cell_type": "code",
   "execution_count": 72,
   "id": "e4d988b6-c4fb-49d7-acce-84e0758a6173",
   "metadata": {},
   "outputs": [],
   "source": [
    "driver.get('http://www.google.com/?hl=')\n",
    "html_sel = driver.find_element(By.CLASS_NAME, \"o3j99.n1xJcf.Ne6nSd\")"
   ]
  },
  {
   "cell_type": "code",
   "execution_count": 73,
   "id": "6ae1f9ae-3448-4597-8179-acec4e9c1cd5",
   "metadata": {},
   "outputs": [
    {
     "name": "stdout",
     "output_type": "stream",
     "text": [
      "Google 정보\n",
      "스토어\n",
      "Gmail이미지\n",
      "로그인\n"
     ]
    }
   ],
   "source": [
    "print(html_sel.text)"
   ]
  },
  {
   "cell_type": "code",
   "execution_count": 74,
   "id": "0759619b-7bbe-40d6-b63b-20a48092a643",
   "metadata": {},
   "outputs": [
    {
     "data": {
      "text/plain": [
       "'<style data-iml=\"1705539699461\">.Ne6nSd{display:flex;align-items:center;padding:6px}a.MV3Tnb{display:inline-block;padding:5px;margin:0 5px;color:#202124}a.MV3Tnb:first-of-type{margin-left:15px}.LX3sZb{display:inline-block;flex-grow:1}</style><a class=\"MV3Tnb\" href=\"https://about.google/?fg=1&amp;utm_source=google-KR&amp;utm_medium=referral&amp;utm_campaign=hp-header\" ping=\"/url?sa=t&amp;rct=j&amp;source=webhp&amp;url=https://about.google/%3Ffg%3D1%26utm_source%3Dgoogle-KR%26utm_medium%3Dreferral%26utm_campaign%3Dhp-header&amp;ved=0ahUKEwi_16W_3uWDAxWHlK8BHW0XCJMQkNQCCAI&amp;bl=bG3y&amp;opi=89978449\">Google 정보</a><a class=\"MV3Tnb\" href=\"https://store.google.com/KR?utm_source=hp_header&amp;utm_medium=google_ooo&amp;utm_campaign=GS100042&amp;hl=ko-KR\" ping=\"/url?sa=t&amp;rct=j&amp;source=webhp&amp;url=https://store.google.com/KR%3Futm_source%3Dhp_header%26utm_medium%3Dgoogle_ooo%26utm_campaign%3DGS100042%26hl%3Dko-KR&amp;ved=0ahUKEwi_16W_3uWDAxWHlK8BHW0XCJMQpMwCCAM&amp;bl=bG3y&amp;opi=89978449\">스토어</a><div class=\"LX3sZb\"><div><div class=\"gb_Oa gb_f gb_fb gb_Pa\" id=\"gb\"><div class=\"gb_zd gb_db gb_od\" data-ogsr-up=\"\"><div><div class=\"gb_Fd gb_I gb_2f gb_Sf\" data-ogbl=\"\"><div class=\"gb_H gb_I\"><a class=\"gb_F\" aria-label=\"Gmail (새 탭에서 열기)\" data-pid=\"23\" href=\"https://mail.google.com/mail/&amp;ogbl\" target=\"_top\">Gmail</a></div><div class=\"gb_H gb_I\"><a class=\"gb_F\" aria-label=\"이미지 검색 (새 탭에서 열기)\" data-pid=\"2\" href=\"https://www.google.com/imghp?hl=ko&amp;ogbl\" target=\"_top\">이미지</a></div></div></div><div class=\"gb_Td\"><div class=\"gb_5c\"><div class=\"gb_l gb_w gb_I\" data-ogsr-fb=\"true\" data-ogsr-alt=\"\" id=\"gbwa\"><div class=\"gb_g\"><a class=\"gb_d\" aria-label=\"Google 앱\" href=\"https://www.google.co.kr/intl/ko/about/products\" aria-expanded=\"false\" role=\"button\" tabindex=\"0\"><svg class=\"gb_i\" focusable=\"false\" viewBox=\"0 0 24 24\"><path d=\"M6,8c1.1,0 2,-0.9 2,-2s-0.9,-2 -2,-2 -2,0.9 -2,2 0.9,2 2,2zM12,20c1.1,0 2,-0.9 2,-2s-0.9,-2 -2,-2 -2,0.9 -2,2 0.9,2 2,2zM6,20c1.1,0 2,-0.9 2,-2s-0.9,-2 -2,-2 -2,0.9 -2,2 0.9,2 2,2zM6,14c1.1,0 2,-0.9 2,-2s-0.9,-2 -2,-2 -2,0.9 -2,2 0.9,2 2,2zM12,14c1.1,0 2,-0.9 2,-2s-0.9,-2 -2,-2 -2,0.9 -2,2 0.9,2 2,2zM16,6c0,1.1 0.9,2 2,2s2,-0.9 2,-2 -0.9,-2 -2,-2 -2,0.9 -2,2zM12,8c1.1,0 2,-0.9 2,-2s-0.9,-2 -2,-2 -2,0.9 -2,2 0.9,2 2,2zM18,14c1.1,0 2,-0.9 2,-2s-0.9,-2 -2,-2 -2,0.9 -2,2 0.9,2 2,2zM18,20c1.1,0 2,-0.9 2,-2s-0.9,-2 -2,-2 -2,0.9 -2,2 0.9,2 2,2z\"></path><image src=\"https://ssl.gstatic.com/gb/images/bar/al-icon.png\" alt=\"\" height=\"24\" width=\"24\" style=\"border:none;display:none \\\\9\"></image></svg></a></div></div></div><a class=\"gb_Aa gb_kd gb_Md gb_le\" aria-label=\"로그인\" href=\"https://accounts.google.com/ServiceLogin?hl=ko&amp;passive=true&amp;continue=https://www.google.com/%3Fhl%3D&amp;ec=GAZAmgQ\" target=\"_top\"><span class=\"gb_Id\">로그인</span></a></div><div style=\"overflow: hidden; position: absolute; top: 0px; visibility: hidden; width: 370px; z-index: 991; height: 0px; margin-top: 49px; transition: height 0.3s ease-in-out 0s; right: 0px; margin-right: 4px;\"></div></div></div></div></div>'"
      ]
     },
     "execution_count": 74,
     "metadata": {},
     "output_type": "execute_result"
    }
   ],
   "source": [
    "html_sel.get_attribute('innerHTML')"
   ]
  },
  {
   "cell_type": "code",
   "execution_count": 79,
   "id": "6370c740-ed26-47dd-a85b-ee5598a843c2",
   "metadata": {},
   "outputs": [
    {
     "name": "stdout",
     "output_type": "stream",
     "text": [
      "10.84303sec\n"
     ]
    }
   ],
   "source": [
    "import time\n",
    "import math\n",
    "\n",
    "start = time.time()\n",
    "driver = webdriver.Chrome(service=service)\n",
    "driver.get(\"https://www.google.com/?hl=\")\n",
    "element = driver.find_element(By.CLASS_NAME, 'RNmpXc')\n",
    "driver.execute_script(\"arguments[0].click();\", element)\n",
    "end = time.time()\n",
    "print(f\"{end-start:.5f}sec\")"
   ]
  },
  {
   "cell_type": "code",
   "execution_count": 81,
   "id": "7c0ac00b-dd7b-405f-8a5d-5010a1287b39",
   "metadata": {},
   "outputs": [
    {
     "name": "stdout",
     "output_type": "stream",
     "text": [
      "5초 까지 기다릴 수 있음\n",
      "시작\n",
      "10.05153sec\n"
     ]
    }
   ],
   "source": [
    "import time\n",
    "import math\n",
    "\n",
    "start = time.time()\n",
    "driver.implicitly_wait(time_to_wait = 5) # 사이트 접속, 해당 요소가 나올때 까지 기다리는 시간을 설정\n",
    "print('5초 까지 기다릴 수 있음')\n",
    "driver = webdriver.Chrome(service=service)\n",
    "driver.get(\"https://www.google.com/?hl=\")\n",
    "print('시작')\n",
    "element = driver.find_element(By.CLASS_NAME, 'RNmpXc')\n",
    "driver.execute_script(\"arguments[0].click();\", element)\n",
    "end = time.time()\n",
    "print(f\"{end-start:.5f}sec\")"
   ]
  },
  {
   "cell_type": "markdown",
   "id": "32050f7f-8f54-4f19-a7f4-e9e405102f85",
   "metadata": {},
   "source": [
    "# 인터넷 자동화 실습"
   ]
  },
  {
   "cell_type": "code",
   "execution_count": 82,
   "id": "c55a29df-1629-4b0b-a611-4adeae9d7c64",
   "metadata": {},
   "outputs": [],
   "source": [
    "import selenium"
   ]
  },
  {
   "cell_type": "code",
   "execution_count": null,
   "id": "826ee486-4281-4b01-a618-828978e40c76",
   "metadata": {},
   "outputs": [],
   "source": []
  }
 ],
 "metadata": {
  "kernelspec": {
   "display_name": "Python 3 (ipykernel)",
   "language": "python",
   "name": "python3"
  },
  "language_info": {
   "codemirror_mode": {
    "name": "ipython",
    "version": 3
   },
   "file_extension": ".py",
   "mimetype": "text/x-python",
   "name": "python",
   "nbconvert_exporter": "python",
   "pygments_lexer": "ipython3",
   "version": "3.11.5"
  }
 },
 "nbformat": 4,
 "nbformat_minor": 5
}
