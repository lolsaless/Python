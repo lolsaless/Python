{
 "cells": [
  {
   "cell_type": "code",
   "execution_count": null,
   "metadata": {},
   "outputs": [
    {
     "ename": "",
     "evalue": "",
     "output_type": "error",
     "traceback": [
      "\u001b[1;31m현재 셀 또는 이전 셀에서 코드를 실행하는 동안 Kernel이 충돌했습니다. \n",
      "\u001b[1;31m셀의 코드를 검토하여 가능한 오류 원인을 식별하세요. \n",
      "\u001b[1;31m자세한 내용을 보려면 <a href='https://aka.ms/vscodeJupyterKernelCrash'>여기</a>를 클릭하세요. \n",
      "\u001b[1;31m자세한 내용은 Jupyter <a href='command:jupyter.viewOutput'>로그</a>를 참조하세요."
     ]
    }
   ],
   "source": [
    "import cv2\n",
    "import matplotlib.pyplot as plt\n",
    "\n",
    "# 클릭 이벤트를 처리할 함수 정의\n",
    "def get_coordinates(event, x, y, flags, param):\n",
    "    if event == cv2.EVENT_LBUTTONDOWN:\n",
    "        print(f\"Clicked coordinates: (x={x}, y={y})\")\n",
    "\n",
    "def show_image_with_grid(image_path):\n",
    "    img = cv2.imread(image_path)\n",
    "    img_rgb = cv2.cvtColor(img, cv2.COLOR_BGR2RGB)\n",
    "\n",
    "    h, w, _ = img.shape\n",
    "\n",
    "    # X축과 Y축에 좌표 표시\n",
    "    step = 50\n",
    "    for x in range(0, w, step):\n",
    "        cv2.line(img_rgb, (x, 0), (x, h), (255, 0, 0), 1)\n",
    "        cv2.putText(img_rgb, str(x), (x, 20), cv2.FONT_HERSHEY_SIMPLEX, 0.5, (255, 0, 0), 1)\n",
    "    for y in range(0, h, step):\n",
    "        cv2.line(img_rgb, (0, y), (w, y), (255, 0, 0), 1)\n",
    "        cv2.putText(img_rgb, str(y), (0, y + 20), cv2.FONT_HERSHEY_SIMPLEX, 0.5, (255, 0, 0), 1)\n",
    "\n",
    "    # 윈도우 창 이름 설정\n",
    "    window_name = \"Image with Grid\"\n",
    "\n",
    "    # 윈도우 생성 및 이벤트 연결\n",
    "    cv2.namedWindow(window_name)\n",
    "    cv2.setMouseCallback(window_name, get_coordinates)\n",
    "\n",
    "    # OpenCV는 BGR 포맷을 사용하므로 BGR 포맷으로 변환\n",
    "    img_bgr = cv2.cvtColor(img_rgb, cv2.COLOR_RGB2BGR)\n",
    "\n",
    "    # 이미지 보여주기\n",
    "    while True:\n",
    "        cv2.imshow(window_name, img_bgr)\n",
    "        if cv2.waitKey(20) & 0xFF == 27:  # ESC 키를 누르면 창을 닫음\n",
    "            break\n",
    "\n",
    "    cv2.destroyAllWindows()\n",
    "\n",
    "# 이미지 경로\n",
    "image_path = 'output.jpg'  # 업데이트된 이미지 경로 사용\n",
    "\n",
    "# 이미지 표시\n",
    "show_image_with_grid(image_path)\n"
   ]
  }
 ],
 "metadata": {
  "kernelspec": {
   "display_name": "Python 3",
   "language": "python",
   "name": "python3"
  },
  "language_info": {
   "codemirror_mode": {
    "name": "ipython",
    "version": 3
   },
   "file_extension": ".py",
   "mimetype": "text/x-python",
   "name": "python",
   "nbconvert_exporter": "python",
   "pygments_lexer": "ipython3",
   "version": "3.12.3"
  }
 },
 "nbformat": 4,
 "nbformat_minor": 2
}
