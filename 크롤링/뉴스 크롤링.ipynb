{
 "cells": [
  {
   "cell_type": "code",
   "execution_count": 5,
   "id": "f5ea70cb",
   "metadata": {},
   "outputs": [],
   "source": [
    "from selenium import webdriver\n",
    "from webdriver_manager.chrome import ChromeDriverManager\n",
    "from selenium.webdriver.chrome.service import Service\n",
    "from selenium.webdriver.common.by import By\n",
    "\n",
    "# 크롬드라이버 셋팅\n",
    "def set_chrome_driver(headless=True):\n",
    "    options = webdriver.ChromeOptions()\n",
    "    if headless:\n",
    "        options.add_argument('headless')\n",
    "    options.add_argument(\"user-agent=Mozilla/5.0 (Windows NT 10.0; Win64; x64) AppleWebKit/537.36 (KHTML, like Gecko) Chrome/70.0.3538.77 Safari/537.36\")\n",
    "    driver = webdriver.Chrome(service=Service(ChromeDriverManager().install()), options=options)\n",
    "    return driver"
   ]
  },
  {
   "cell_type": "code",
   "execution_count": 6,
   "id": "41499169",
   "metadata": {},
   "outputs": [],
   "source": [
    "url = 'https://www.investing.com/analysis/us-stock-market-has-plenty-of-reasons-to-rally-after-feds-decision-200634857'"
   ]
  },
  {
   "cell_type": "code",
   "execution_count": null,
   "id": "8bf764c7",
   "metadata": {},
   "outputs": [],
   "source": [
    "# driver 설정\n",
    "driver = set_chrome_driver(False)\n",
    "\n",
    "# URL 요청\n",
    "driver.get(url)\n",
    "\n",
    "# aritivlePage는 신문기사의 본문입니다\n",
    "article_page = driver.find_element(By.CLASS_NAME, 'articlePage')\n",
    "article_page"
   ]
  },
  {
   "cell_type": "code",
   "execution_count": null,
   "id": "1689895b",
   "metadata": {},
   "outputs": [],
   "source": [
    "print(article_page.text)"
   ]
  },
  {
   "cell_type": "code",
   "execution_count": null,
   "id": "efec7afc",
   "metadata": {},
   "outputs": [],
   "source": [
    "print(\"heheheh\")"
   ]
  }
 ],
 "metadata": {
  "kernelspec": {
   "display_name": "Python 3 (ipykernel)",
   "language": "python",
   "name": "python3"
  },
  "language_info": {
   "codemirror_mode": {
    "name": "ipython",
    "version": 3
   },
   "file_extension": ".py",
   "mimetype": "text/x-python",
   "name": "python",
   "nbconvert_exporter": "python",
   "pygments_lexer": "ipython3",
   "version": "3.11.3"
  }
 },
 "nbformat": 4,
 "nbformat_minor": 5
}
