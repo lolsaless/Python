{
 "cells": [
  {
   "cell_type": "markdown",
   "id": "0dee6963-af70-426f-b0b6-3a09f7ab1407",
   "metadata": {},
   "source": [
    "# Numpy\n",
    "Numpy는 Numerical Python의 줄임말로, 파이썬에서 산술 계산을 위한 가장 중요한 패키지다.</br>\n",
    "과학 계산을 위한 대부분의 패키지는 Numpy의 배열 객체를 데이터 교환을 위한 공통 언어처럼 사용한다."
   ]
  },
  {
   "cell_type": "markdown",
   "id": "850a0afb-e56f-4dfc-8098-5d5f3f8bd38e",
   "metadata": {},
   "source": [
    "## Numpy 라이브러리 import"
   ]
  },
  {
   "cell_type": "code",
   "execution_count": 2,
   "id": "ff0365c5-0108-4548-9e9f-57759a95f16b",
   "metadata": {},
   "outputs": [],
   "source": [
    "import numpy as np"
   ]
  },
  {
   "cell_type": "markdown",
   "id": "893019fc-4e22-460d-8e68-8921d0065999",
   "metadata": {},
   "source": [
    "### Numpy ndarray\n",
    "Numpy의 핵심 기능 중 하나이며 N차원 배열 객체다.</br>\n",
    "파이썬에서 할 수 있는 대규모 데이터 집합을 담을 수 있는 빠르고 유연한 자료구조이다."
   ]
  },
  {
   "cell_type": "code",
   "execution_count": 4,
   "id": "6c586de6-c8d4-4f31-a31c-1c7144c4f117",
   "metadata": {},
   "outputs": [
    {
     "name": "stdout",
     "output_type": "stream",
     "text": [
      "[1 2 3] <class 'numpy.ndarray'>\n"
     ]
    }
   ],
   "source": [
    "a = np.array([1, 2, 3])\n",
    "print(a, type(a))"
   ]
  },
  {
   "cell_type": "markdown",
   "id": "128c0885-e6ae-47fc-813a-aff9e9dc0a65",
   "metadata": {},
   "source": [
    "### List와 비교"
   ]
  },
  {
   "cell_type": "code",
   "execution_count": 21,
   "id": "5816993d-7dd3-404d-a1f8-bb77c27ea295",
   "metadata": {},
   "outputs": [
    {
     "name": "stdout",
     "output_type": "stream",
     "text": [
      "[1, 2, 3]\n",
      "[1 2 3]\n"
     ]
    }
   ],
   "source": [
    "L = [1, 2, 3]\n",
    "A = np.array([1, 2, 3])\n",
    "print(L)\n",
    "print(A)"
   ]
  },
  {
   "cell_type": "code",
   "execution_count": 22,
   "id": "9cdd4d1f-88da-4b18-9e4e-f15207198c1f",
   "metadata": {},
   "outputs": [
    {
     "name": "stdout",
     "output_type": "stream",
     "text": [
      "1\n",
      "2\n",
      "3\n"
     ]
    }
   ],
   "source": [
    "for i in L:\n",
    "    print(i)"
   ]
  },
  {
   "cell_type": "code",
   "execution_count": 23,
   "id": "3b28cc3e-f303-450b-87e7-be80d9b6b9c7",
   "metadata": {},
   "outputs": [
    {
     "name": "stdout",
     "output_type": "stream",
     "text": [
      "1\n",
      "2\n",
      "3\n"
     ]
    }
   ],
   "source": [
    "for i in A:\n",
    "    print(i)"
   ]
  },
  {
   "cell_type": "code",
   "execution_count": 24,
   "id": "138c9f6c-23f8-4f1f-ba28-ad4aef4ccce0",
   "metadata": {},
   "outputs": [
    {
     "name": "stdout",
     "output_type": "stream",
     "text": [
      "[1, 2, 3, 4]\n"
     ]
    }
   ],
   "source": [
    "L.append(4)\n",
    "print(L)"
   ]
  },
  {
   "cell_type": "code",
   "execution_count": 25,
   "id": "911681ef-c337-4445-bf05-9e42f55d6b2b",
   "metadata": {},
   "outputs": [
    {
     "name": "stdout",
     "output_type": "stream",
     "text": [
      "[1 2 3 4]\n"
     ]
    }
   ],
   "source": [
    "A = np.append(A, 4)\n",
    "print(A)"
   ]
  },
  {
   "cell_type": "code",
   "execution_count": 26,
   "id": "de852bfc-10a3-439e-83b2-1ecedf74f042",
   "metadata": {},
   "outputs": [
    {
     "name": "stdout",
     "output_type": "stream",
     "text": [
      "[1, 2, 3, 4, 5]\n"
     ]
    }
   ],
   "source": [
    "L = L + [5]\n",
    "print(L)"
   ]
  },
  {
   "cell_type": "code",
   "execution_count": 27,
   "id": "0afc65fd-f160-46c5-a071-761b1d80cdeb",
   "metadata": {},
   "outputs": [
    {
     "name": "stdout",
     "output_type": "stream",
     "text": [
      "[6 7 8 9]\n"
     ]
    }
   ],
   "source": [
    "A = A + np.array([5])\n",
    "print(A) # 브로드캐스팅 현상"
   ]
  },
  {
   "cell_type": "code",
   "execution_count": 29,
   "id": "24d696d6-c841-4284-974e-e96605f104cc",
   "metadata": {},
   "outputs": [
    {
     "name": "stdout",
     "output_type": "stream",
     "text": [
      "[2, 4, 6]\n"
     ]
    }
   ],
   "source": [
    "# list의 모든 원소를 2배로 만들기\n",
    "L = [1, 2, 3]\n",
    "L2 = []\n",
    "for i in L:\n",
    "    L2.append(i * 2)\n",
    "print(L2)"
   ]
  },
  {
   "cell_type": "code",
   "execution_count": 32,
   "id": "8e0d0892-4c6d-4dac-b2b4-3e34880364f1",
   "metadata": {},
   "outputs": [
    {
     "ename": "TypeError",
     "evalue": "append() missing 1 required positional argument: 'values'",
     "output_type": "error",
     "traceback": [
      "\u001b[0;31m---------------------------------------------------------------------------\u001b[0m",
      "\u001b[0;31mTypeError\u001b[0m                                 Traceback (most recent call last)",
      "Cell \u001b[0;32mIn[32], line 5\u001b[0m\n\u001b[1;32m      2\u001b[0m A2 \u001b[38;5;241m=\u001b[39m np\u001b[38;5;241m.\u001b[39marray([])\n\u001b[1;32m      4\u001b[0m \u001b[38;5;28;01mfor\u001b[39;00m i \u001b[38;5;129;01min\u001b[39;00m A:\n\u001b[0;32m----> 5\u001b[0m     A2 \u001b[38;5;241m=\u001b[39m np\u001b[38;5;241m.\u001b[39mappend(i \u001b[38;5;241m*\u001b[39m \u001b[38;5;241m2\u001b[39m)\n\u001b[1;32m      6\u001b[0m \u001b[38;5;28mprint\u001b[39m(A2)\n",
      "\u001b[0;31mTypeError\u001b[0m: append() missing 1 required positional argument: 'values'"
     ]
    }
   ],
   "source": [
    "A = np.array([1, 2, 3])\n",
    "A2 = np.array([])\n",
    "\n",
    "for i in A:\n",
    "    A2 = np.append(i * 2)\n",
    "print(A2)"
   ]
  },
  {
   "cell_type": "code",
   "execution_count": 33,
   "id": "5b3be3cc-41b3-4d6f-9b93-3a6c5b13fee3",
   "metadata": {},
   "outputs": [
    {
     "name": "stdout",
     "output_type": "stream",
     "text": [
      "[2 4 6]\n"
     ]
    }
   ],
   "source": [
    "A = np.array(L)\n",
    "A2 = A * 2\n",
    "print(A2)"
   ]
  },
  {
   "cell_type": "code",
   "execution_count": 34,
   "id": "550bf159-2f43-4150-90d4-eb98fece5d22",
   "metadata": {},
   "outputs": [
    {
     "data": {
      "text/plain": [
       "[1, 2, 3, 1, 2, 3]"
      ]
     },
     "execution_count": 34,
     "metadata": {},
     "output_type": "execute_result"
    }
   ],
   "source": [
    "L * 2"
   ]
  },
  {
   "cell_type": "markdown",
   "id": "bdcbfdb9-f13e-4e58-9db1-185e42b8328a",
   "metadata": {},
   "source": [
    "### 배열\n",
    "Numpy 배열은 모두 같은 유형의 값이며, 음수가 아닌 정수으 튜플로 인덱싱된다. 차원의 수는 배열의 랭크이다.</br>\n",
    "배열의 shape은 각 차우너별 배열 크기의 튜플이다. 중첩된 파이썬 리스트로부터 numpy배열을 초기화 할 수 있고 대괄호를 사용하여 요소에 접근할 수 있다."
   ]
  },
  {
   "cell_type": "code",
   "execution_count": 35,
   "id": "855f4859-2af3-4591-b2c1-255633079eca",
   "metadata": {},
   "outputs": [
    {
     "name": "stdout",
     "output_type": "stream",
     "text": [
      "[1 2 3]\n",
      "<class 'numpy.ndarray'> 1 (3,) int64\n"
     ]
    }
   ],
   "source": [
    "a = np.array([1, 2, 3])\n",
    "print(a)\n",
    "print(type(a), a.ndim, a.shape, a.dtype)"
   ]
  }
 ],
 "metadata": {
  "kernelspec": {
   "display_name": "Python 3 (ipykernel)",
   "language": "python",
   "name": "python3"
  },
  "language_info": {
   "codemirror_mode": {
    "name": "ipython",
    "version": 3
   },
   "file_extension": ".py",
   "mimetype": "text/x-python",
   "name": "python",
   "nbconvert_exporter": "python",
   "pygments_lexer": "ipython3",
   "version": "3.11.5"
  }
 },
 "nbformat": 4,
 "nbformat_minor": 5
}
