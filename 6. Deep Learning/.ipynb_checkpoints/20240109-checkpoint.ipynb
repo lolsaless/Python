{
 "cells": [
  {
   "cell_type": "markdown",
   "id": "fac64315-f6ab-4f87-9d89-22741df9fe72",
   "metadata": {},
   "source": [
    "### Class inheritance(상속)\n",
    "기존에 정의해둔 클래수의 기능을 그대로 물려받을 수 있다."
   ]
  },
  {
   "cell_type": "code",
   "execution_count": 15,
   "id": "fe2f7f29-1395-47de-bb46-0f26d6c6a8cd",
   "metadata": {},
   "outputs": [
    {
     "name": "stdout",
     "output_type": "stream",
     "text": [
      "bob은 chicken을 먹습니다.\n",
      "bob은 30분 잤습니다.\n",
      "bob은 60분 일했습니다.\n"
     ]
    }
   ],
   "source": [
    "class Person:\n",
    "    def __init__(self, name, age):\n",
    "        self.name = name\n",
    "        self.age = age\n",
    "\n",
    "    def eat(self, food):\n",
    "        print('{}은 {}을 먹습니다.'.format(self.name, food))\n",
    "\n",
    "    def sleep(self, minute):\n",
    "        print('{}은 {}분 잤습니다.'.format(self.name, minute))\n",
    "\n",
    "    def work(self, minute):\n",
    "        print('{}은 {}분 일했습니다.'.format(self.name, minute))\n",
    "\n",
    "class Student(Person):\n",
    "    pass\n",
    "\n",
    "class Employee(Person):\n",
    "    pass\n",
    "\n",
    "bob = Person('bob', 25)\n",
    "bob.eat(\"chicken\")\n",
    "bob.sleep(30)\n",
    "bob.work(60)"
   ]
  },
  {
   "cell_type": "code",
   "execution_count": 16,
   "id": "bb1a171e-ea8a-4244-8b3e-38ec6dc9396e",
   "metadata": {},
   "outputs": [
    {
     "name": "stdout",
     "output_type": "stream",
     "text": [
      "Cho은 순대국을 먹습니다.\n",
      "Cho은 420분 잤습니다.\n",
      "Cho은 600분 일했습니다.\n"
     ]
    }
   ],
   "source": [
    "Cho = Student(\"Cho\", \"39\")\n",
    "Cho.eat(\"순대국\")\n",
    "Cho.sleep(420)\n",
    "Cho.work(600)"
   ]
  },
  {
   "cell_type": "markdown",
   "id": "b8acef3f-60ec-4ce2-a636-6345dfec6c3e",
   "metadata": {},
   "source": [
    "## method orverride\n",
    "부모 클래스의 method를 재정의(Override)</br>\n",
    "하위 클래스(자식 클래스)의 인스턴스로 호출시, 재정의된 메소드가 호출됨"
   ]
  },
  {
   "cell_type": "code",
   "execution_count": 27,
   "id": "2e3539cc-e7dd-4c77-b55f-d3f34544d2e7",
   "metadata": {},
   "outputs": [],
   "source": [
    "class Student(Person):\n",
    "    def __init__(self, name, age):\n",
    "        self.name = name\n",
    "        self.age = age\n",
    "    def work(self, minute):\n",
    "        print('{}는 {}분 동안 공부합니다.'.format(self.name, minute))"
   ]
  },
  {
   "cell_type": "code",
   "execution_count": 33,
   "id": "d9f6be70-c511-4f3b-afa8-a28918c76f77",
   "metadata": {},
   "outputs": [
    {
     "name": "stdout",
     "output_type": "stream",
     "text": [
      "조의호는 400분 동안 공부합니다.\n"
     ]
    },
    {
     "data": {
      "text/plain": [
       "'조의호'"
      ]
     },
     "execution_count": 33,
     "metadata": {},
     "output_type": "execute_result"
    }
   ],
   "source": [
    "cho = Student(\"조의호\", 39)\n",
    "cho.work(400)\n",
    "cho.age\n",
    "cho.name"
   ]
  },
  {
   "cell_type": "code",
   "execution_count": 37,
   "id": "470817cb-071e-4ccf-bd2b-5cbf1d4e1ee2",
   "metadata": {},
   "outputs": [
    {
     "name": "stdout",
     "output_type": "stream",
     "text": [
      "bob은 chicken을 먹습니다.\n",
      "bob은 30분 잤습니다.\n",
      "bob은 60분 동안 준비를 합니다.\n",
      "bob는 60분 동안 업무를 합니다.\n"
     ]
    }
   ],
   "source": [
    "class Person:\n",
    "    def __init__(self, name, age):\n",
    "        self.name = name\n",
    "        self.age = age\n",
    "\n",
    "    def eat(self, food):\n",
    "        print('{}은 {}을 먹습니다.'.format(self.name, food))\n",
    "\n",
    "    def sleep(self, minute):\n",
    "        print('{}은 {}분 잤습니다.'.format(self.name, minute))\n",
    "\n",
    "    def work(self, minute):\n",
    "        print('{}은 {}분 동안 준비를 합니다.'.format(self.name, minute))\n",
    "\n",
    "class Student(Person):\n",
    "    def __init__(self, name, age):\n",
    "        self.name = name\n",
    "        self.age = age\n",
    "    def work(self, minute):\n",
    "        super().work(minute)\n",
    "        print('{}는 {}분 동안 공부합니다.'.format(self.name, minute))\n",
    "\n",
    "class Employee(Person):\n",
    "    def __init__(self, name, age):\n",
    "        self.name = name\n",
    "        self.age = age\n",
    "    def work(self, minute):\n",
    "        super().work(minute)\n",
    "        print('{}는 {}분 동안 업무를 합니다.'.format(self.name, minute))\n",
    "        \n",
    "\n",
    "bob = Employee('bob', 25)\n",
    "bob.eat(\"chicken\")\n",
    "bob.sleep(30)\n",
    "bob.work(60)"
   ]
  },
  {
   "cell_type": "markdown",
   "id": "ee85d3b2-83f8-49f6-8770-3124ae68aa15",
   "metadata": {},
   "source": [
    "###"
   ]
  }
 ],
 "metadata": {
  "kernelspec": {
   "display_name": "Python 3 (ipykernel)",
   "language": "python",
   "name": "python3"
  },
  "language_info": {
   "codemirror_mode": {
    "name": "ipython",
    "version": 3
   },
   "file_extension": ".py",
   "mimetype": "text/x-python",
   "name": "python",
   "nbconvert_exporter": "python",
   "pygments_lexer": "ipython3",
   "version": "3.11.5"
  }
 },
 "nbformat": 4,
 "nbformat_minor": 5
}
