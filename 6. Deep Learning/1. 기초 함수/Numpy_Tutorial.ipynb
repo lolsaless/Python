{
 "cells": [
  {
   "cell_type": "markdown",
   "id": "0dee6963-af70-426f-b0b6-3a09f7ab1407",
   "metadata": {},
   "source": [
    "# Numpy\n",
    "Numpy는 Numerical Python의 줄임말로, 파이썬에서 산술 계산을 위한 가장 중요한 패키지다.</br>\n",
    "과학 계산을 위한 대부분의 패키지는 Numpy의 배열 객체를 데이터 교환을 위한 공통 언어처럼 사용한다."
   ]
  },
  {
   "cell_type": "markdown",
   "id": "850a0afb-e56f-4dfc-8098-5d5f3f8bd38e",
   "metadata": {},
   "source": [
    "## Numpy 라이브러리 import"
   ]
  },
  {
   "cell_type": "code",
   "execution_count": 2,
   "id": "ff0365c5-0108-4548-9e9f-57759a95f16b",
   "metadata": {},
   "outputs": [],
   "source": [
    "import numpy as np"
   ]
  },
  {
   "cell_type": "markdown",
   "id": "893019fc-4e22-460d-8e68-8921d0065999",
   "metadata": {},
   "source": [
    "### Numpy ndarray\n",
    "Numpy의 핵심 기능 중 하나는 ndarray라고 하는 N차원의 배열 객체다.</br>\n",
    "파이썬에서 할 수 있는 대규모 데이터 집합을 담을 수 있는 빠르고 유연한 자료구조이다."
   ]
  },
  {
   "cell_type": "code",
   "execution_count": 5,
   "id": "6c586de6-c8d4-4f31-a31c-1c7144c4f117",
   "metadata": {},
   "outputs": [
    {
     "name": "stdout",
     "output_type": "stream",
     "text": [
      "[1 2 3] <class 'numpy.ndarray'>\n"
     ]
    }
   ],
   "source": [
    "a = np.array([1, 2, 3])\n",
    "print(a, type(a))"
   ]
  },
  {
   "cell_type": "markdown",
   "id": "128c0885-e6ae-47fc-813a-aff9e9dc0a65",
   "metadata": {
    "jp-MarkdownHeadingCollapsed": true
   },
   "source": [
    "### List와 비교"
   ]
  },
  {
   "cell_type": "code",
   "execution_count": 21,
   "id": "5816993d-7dd3-404d-a1f8-bb77c27ea295",
   "metadata": {},
   "outputs": [
    {
     "name": "stdout",
     "output_type": "stream",
     "text": [
      "[1, 2, 3]\n",
      "[1 2 3]\n"
     ]
    }
   ],
   "source": [
    "L = [1, 2, 3]\n",
    "A = np.array([1, 2, 3])\n",
    "print(L)\n",
    "print(A)"
   ]
  },
  {
   "cell_type": "code",
   "execution_count": 22,
   "id": "9cdd4d1f-88da-4b18-9e4e-f15207198c1f",
   "metadata": {},
   "outputs": [
    {
     "name": "stdout",
     "output_type": "stream",
     "text": [
      "1\n",
      "2\n",
      "3\n"
     ]
    }
   ],
   "source": [
    "for i in L:\n",
    "    print(i)"
   ]
  },
  {
   "cell_type": "code",
   "execution_count": 23,
   "id": "3b28cc3e-f303-450b-87e7-be80d9b6b9c7",
   "metadata": {},
   "outputs": [
    {
     "name": "stdout",
     "output_type": "stream",
     "text": [
      "1\n",
      "2\n",
      "3\n"
     ]
    }
   ],
   "source": [
    "for i in A:\n",
    "    print(i)"
   ]
  },
  {
   "cell_type": "code",
   "execution_count": 24,
   "id": "138c9f6c-23f8-4f1f-ba28-ad4aef4ccce0",
   "metadata": {},
   "outputs": [
    {
     "name": "stdout",
     "output_type": "stream",
     "text": [
      "[1, 2, 3, 4]\n"
     ]
    }
   ],
   "source": [
    "L.append(4)\n",
    "print(L)"
   ]
  },
  {
   "cell_type": "code",
   "execution_count": 25,
   "id": "911681ef-c337-4445-bf05-9e42f55d6b2b",
   "metadata": {},
   "outputs": [
    {
     "name": "stdout",
     "output_type": "stream",
     "text": [
      "[1 2 3 4]\n"
     ]
    }
   ],
   "source": [
    "A = np.append(A, 4)\n",
    "print(A)"
   ]
  },
  {
   "cell_type": "code",
   "execution_count": 26,
   "id": "de852bfc-10a3-439e-83b2-1ecedf74f042",
   "metadata": {},
   "outputs": [
    {
     "name": "stdout",
     "output_type": "stream",
     "text": [
      "[1, 2, 3, 4, 5]\n"
     ]
    }
   ],
   "source": [
    "L = L + [5]\n",
    "print(L)"
   ]
  },
  {
   "cell_type": "code",
   "execution_count": 27,
   "id": "0afc65fd-f160-46c5-a071-761b1d80cdeb",
   "metadata": {},
   "outputs": [
    {
     "name": "stdout",
     "output_type": "stream",
     "text": [
      "[6 7 8 9]\n"
     ]
    }
   ],
   "source": [
    "A = A + np.array([5])\n",
    "print(A) # 브로드캐스팅 현상"
   ]
  },
  {
   "cell_type": "code",
   "execution_count": 29,
   "id": "24d696d6-c841-4284-974e-e96605f104cc",
   "metadata": {},
   "outputs": [
    {
     "name": "stdout",
     "output_type": "stream",
     "text": [
      "[2, 4, 6]\n"
     ]
    }
   ],
   "source": [
    "# list의 모든 원소를 2배로 만들기\n",
    "L = [1, 2, 3]\n",
    "L2 = []\n",
    "for i in L:\n",
    "    L2.append(i * 2)\n",
    "print(L2)"
   ]
  },
  {
   "cell_type": "code",
   "execution_count": 32,
   "id": "8e0d0892-4c6d-4dac-b2b4-3e34880364f1",
   "metadata": {},
   "outputs": [
    {
     "ename": "TypeError",
     "evalue": "append() missing 1 required positional argument: 'values'",
     "output_type": "error",
     "traceback": [
      "\u001b[0;31m---------------------------------------------------------------------------\u001b[0m",
      "\u001b[0;31mTypeError\u001b[0m                                 Traceback (most recent call last)",
      "Cell \u001b[0;32mIn[32], line 5\u001b[0m\n\u001b[1;32m      2\u001b[0m A2 \u001b[38;5;241m=\u001b[39m np\u001b[38;5;241m.\u001b[39marray([])\n\u001b[1;32m      4\u001b[0m \u001b[38;5;28;01mfor\u001b[39;00m i \u001b[38;5;129;01min\u001b[39;00m A:\n\u001b[0;32m----> 5\u001b[0m     A2 \u001b[38;5;241m=\u001b[39m np\u001b[38;5;241m.\u001b[39mappend(i \u001b[38;5;241m*\u001b[39m \u001b[38;5;241m2\u001b[39m)\n\u001b[1;32m      6\u001b[0m \u001b[38;5;28mprint\u001b[39m(A2)\n",
      "\u001b[0;31mTypeError\u001b[0m: append() missing 1 required positional argument: 'values'"
     ]
    }
   ],
   "source": [
    "A = np.array([1, 2, 3])\n",
    "A2 = np.array([])\n",
    "\n",
    "for i in A:\n",
    "    A2 = np.append(i * 2)\n",
    "print(A2)"
   ]
  },
  {
   "cell_type": "code",
   "execution_count": 33,
   "id": "5b3be3cc-41b3-4d6f-9b93-3a6c5b13fee3",
   "metadata": {},
   "outputs": [
    {
     "name": "stdout",
     "output_type": "stream",
     "text": [
      "[2 4 6]\n"
     ]
    }
   ],
   "source": [
    "A = np.array(L)\n",
    "A2 = A * 2\n",
    "print(A2)"
   ]
  },
  {
   "cell_type": "code",
   "execution_count": 34,
   "id": "550bf159-2f43-4150-90d4-eb98fece5d22",
   "metadata": {},
   "outputs": [
    {
     "data": {
      "text/plain": [
       "[1, 2, 3, 1, 2, 3]"
      ]
     },
     "execution_count": 34,
     "metadata": {},
     "output_type": "execute_result"
    }
   ],
   "source": [
    "L * 2"
   ]
  },
  {
   "cell_type": "markdown",
   "id": "bdcbfdb9-f13e-4e58-9db1-185e42b8328a",
   "metadata": {
    "jp-MarkdownHeadingCollapsed": true
   },
   "source": [
    "### 배열\n",
    "Numpy 배열은 모두 같은 유형의 값이며, 음수가 아닌 정수 튜플로 인덱싱된다. 차원의 수는 배열의 랭크이다.</br>\n",
    "배열의 shape은 각 차원별 배열 크기의 튜플이다. 중첩된 파이썬 리스트로부터 numpy배열을 초기화 할 수 있고 대괄호를 사용하여 요소에 접근할 수 있다."
   ]
  },
  {
   "cell_type": "code",
   "execution_count": 35,
   "id": "855f4859-2af3-4591-b2c1-255633079eca",
   "metadata": {},
   "outputs": [
    {
     "name": "stdout",
     "output_type": "stream",
     "text": [
      "[1 2 3]\n",
      "<class 'numpy.ndarray'> 1 (3,) int64\n"
     ]
    }
   ],
   "source": [
    "a = np.array([1, 2, 3])\n",
    "print(a)\n",
    "print(type(a), a.ndim, a.shape, a.dtype)"
   ]
  },
  {
   "cell_type": "code",
   "execution_count": 8,
   "id": "624c1a48-024f-424b-9616-495296e6b510",
   "metadata": {},
   "outputs": [
    {
     "name": "stdout",
     "output_type": "stream",
     "text": [
      "[9 2 3]\n"
     ]
    }
   ],
   "source": [
    "# asarray를 사용하면 원본 데이터를 그대로 복사(연결되어 있다), 값을 수정하면 원본도 바뀐다.\n",
    "b = np.asarray(a)\n",
    "\n",
    "print(b)"
   ]
  },
  {
   "cell_type": "code",
   "execution_count": 7,
   "id": "28c53802-9029-4f52-a280-444d8840219c",
   "metadata": {},
   "outputs": [
    {
     "name": "stdout",
     "output_type": "stream",
     "text": [
      "[9 2 3]\n",
      "[9 2 3]\n"
     ]
    }
   ],
   "source": [
    "b[0] = 9\n",
    "print(a)\n",
    "print(b)"
   ]
  },
  {
   "cell_type": "code",
   "execution_count": 9,
   "id": "3eebbcff-8049-437d-b0f5-a0d8896648b0",
   "metadata": {},
   "outputs": [
    {
     "name": "stdout",
     "output_type": "stream",
     "text": [
      "[9 2 3]\n"
     ]
    }
   ],
   "source": [
    "c = np.array(a)\n",
    "print(c)"
   ]
  },
  {
   "cell_type": "code",
   "execution_count": 10,
   "id": "389c9daf-ff4c-4862-bde5-f5c14de214e1",
   "metadata": {},
   "outputs": [
    {
     "name": "stdout",
     "output_type": "stream",
     "text": [
      "[9 2 3]\n",
      "[9 2 3]\n",
      "[1 2 3]\n"
     ]
    }
   ],
   "source": [
    "c[0] = 1\n",
    "print(a)\n",
    "print(b)\n",
    "print(c)"
   ]
  },
  {
   "cell_type": "code",
   "execution_count": 19,
   "id": "e7906650-1d37-4e68-9a5a-bad96f44c395",
   "metadata": {},
   "outputs": [
    {
     "name": "stdout",
     "output_type": "stream",
     "text": [
      "[[0. 0. 0. 0.]\n",
      " [0. 0. 0. 0.]\n",
      " [0. 0. 0. 0.]]\n",
      "<class 'numpy.ndarray'>\n",
      "float64\n"
     ]
    }
   ],
   "source": [
    "a = np.zeros((3, 4)) #3행 4열\n",
    "print(a)\n",
    "print(type(a))\n",
    "print(a.dtype)"
   ]
  },
  {
   "cell_type": "code",
   "execution_count": 14,
   "id": "519a5360-97aa-4654-9f67-f2be681ede92",
   "metadata": {},
   "outputs": [
    {
     "name": "stdout",
     "output_type": "stream",
     "text": [
      "[[1. 1.]\n",
      " [1. 1.]\n",
      " [1. 1.]\n",
      " [1. 1.]\n",
      " [1. 1.]]\n"
     ]
    }
   ],
   "source": [
    "b = np.ones((5,2))\n",
    "print(b)"
   ]
  },
  {
   "cell_type": "code",
   "execution_count": 15,
   "id": "a4a3c5c8-c2bf-4272-8c8f-253235ffd916",
   "metadata": {},
   "outputs": [
    {
     "name": "stdout",
     "output_type": "stream",
     "text": [
      "[[4 4 4]\n",
      " [4 4 4]]\n"
     ]
    }
   ],
   "source": [
    "c = np.full((2,3), 4)\n",
    "print(c)"
   ]
  },
  {
   "cell_type": "code",
   "execution_count": 23,
   "id": "849515c9-d08b-4e89-98a9-feafc5f25ca3",
   "metadata": {},
   "outputs": [
    {
     "name": "stdout",
     "output_type": "stream",
     "text": [
      "[[ 2.60605835e-31 -5.21211670e-31  1.30302917e-31]\n",
      " [-5.21211670e-31  1.13363538e-30 -3.51817877e-31]\n",
      " [ 1.30302917e-31 -3.51817877e-31  2.01969522e-31]]\n"
     ]
    }
   ],
   "source": [
    "d = np.empty((3,3))\n",
    "print(d)"
   ]
  },
  {
   "cell_type": "code",
   "execution_count": 25,
   "id": "080a0dbc-e8a8-4e76-a645-f05ec7565f4b",
   "metadata": {},
   "outputs": [
    {
     "name": "stdout",
     "output_type": "stream",
     "text": [
      "[[0. 0. 0. 0.]\n",
      " [0. 0. 0. 0.]\n",
      " [0. 0. 0. 0.]]\n",
      "[[1. 1. 1. 1.]\n",
      " [1. 1. 1. 1.]\n",
      " [1. 1. 1. 1.]]\n",
      "[[2. 2. 2. 2.]\n",
      " [2. 2. 2. 2.]\n",
      " [2. 2. 2. 2.]]\n",
      "[[2. 2. 2. 2.]\n",
      " [2. 2. 2. 2.]\n",
      " [2. 2. 2. 2.]]\n"
     ]
    }
   ],
   "source": [
    "e = np.zeros_like(a)\n",
    "f = np.ones_like(a)\n",
    "g = np.full_like(a, 2)\n",
    "h = np.empty_like(a)\n",
    "print(e)\n",
    "print(f)\n",
    "print(g)\n",
    "print(h)"
   ]
  },
  {
   "cell_type": "code",
   "execution_count": 28,
   "id": "5c1b7b0b-a197-4b1d-bdd6-415039e7e0b9",
   "metadata": {},
   "outputs": [
    {
     "name": "stdout",
     "output_type": "stream",
     "text": [
      "[[1. 0. 0.]\n",
      " [0. 1. 0.]\n",
      " [0. 0. 1.]]\n",
      "[[1. 0. 0. 0. 0. 0. 0. 0. 0. 0.]\n",
      " [0. 1. 0. 0. 0. 0. 0. 0. 0. 0.]\n",
      " [0. 0. 1. 0. 0. 0. 0. 0. 0. 0.]\n",
      " [0. 0. 0. 1. 0. 0. 0. 0. 0. 0.]\n",
      " [0. 0. 0. 0. 1. 0. 0. 0. 0. 0.]\n",
      " [0. 0. 0. 0. 0. 1. 0. 0. 0. 0.]\n",
      " [0. 0. 0. 0. 0. 0. 1. 0. 0. 0.]\n",
      " [0. 0. 0. 0. 0. 0. 0. 1. 0. 0.]\n",
      " [0. 0. 0. 0. 0. 0. 0. 0. 1. 0.]\n",
      " [0. 0. 0. 0. 0. 0. 0. 0. 0. 1.]]\n"
     ]
    }
   ],
   "source": [
    "# 항등행렬, 대각선 방향으로 1을 채우고 나머지는 0\n",
    "i = np.eye(3)\n",
    "j = np.identity(10)\n",
    "print(i)\n",
    "print(j)"
   ]
  },
  {
   "cell_type": "code",
   "execution_count": 36,
   "id": "9a84cfeb-a7ef-43df-955d-a2073510a029",
   "metadata": {},
   "outputs": [
    {
     "name": "stdout",
     "output_type": "stream",
     "text": [
      "[0 1 2 3 4 5 6 7 8 9]\n"
     ]
    }
   ],
   "source": [
    "k = np.arange(10)\n",
    "print(k)"
   ]
  },
  {
   "cell_type": "code",
   "execution_count": 43,
   "id": "c4551aae-18f1-4de8-a018-3bd9f1e5506e",
   "metadata": {},
   "outputs": [
    {
     "name": "stdout",
     "output_type": "stream",
     "text": [
      "[10  9  8  7  6  5  4  3  2  1]\n"
     ]
    }
   ],
   "source": [
    "k = np.arange(10, 0, -1)\n",
    "print(k)"
   ]
  },
  {
   "cell_type": "code",
   "execution_count": 35,
   "id": "0ca8c6a3-946b-492c-89dd-f8eef3482895",
   "metadata": {},
   "outputs": [
    {
     "name": "stdout",
     "output_type": "stream",
     "text": [
      "1\n",
      "2\n",
      "3\n",
      "4\n",
      "5\n",
      "6\n",
      "7\n",
      "8\n",
      "9\n"
     ]
    }
   ],
   "source": [
    "for i in range(1, 10):\n",
    "    print(i)"
   ]
  },
  {
   "cell_type": "code",
   "execution_count": 41,
   "id": "4d9d7da0-7491-465a-9ec2-c75593e831ce",
   "metadata": {},
   "outputs": [
    {
     "name": "stdout",
     "output_type": "stream",
     "text": [
      "[[0.76777479 0.950071  ]\n",
      " [0.99460117 0.85262658]]\n"
     ]
    }
   ],
   "source": [
    "# uniform distribution\n",
    "I = np.random.rand(2,2)\n",
    "print(I)"
   ]
  },
  {
   "cell_type": "code",
   "execution_count": 42,
   "id": "39e6f9da-a095-4a30-a47f-2833008cb858",
   "metadata": {},
   "outputs": [
    {
     "name": "stdout",
     "output_type": "stream",
     "text": [
      "[[-1.80815784  0.38622606]\n",
      " [-0.96925605  0.28784517]]\n"
     ]
    }
   ],
   "source": [
    "# normal distribution\n",
    "m = np.random.randn(2,2)\n",
    "print(m)"
   ]
  },
  {
   "cell_type": "markdown",
   "id": "4f8cee0b-dd85-47f9-abcc-8c912840d2c0",
   "metadata": {
    "jp-MarkdownHeadingCollapsed": true
   },
   "source": [
    "### 배열의 dtype"
   ]
  },
  {
   "cell_type": "code",
   "execution_count": 46,
   "id": "90061c72-98b5-4382-8e42-3fa887da56bf",
   "metadata": {},
   "outputs": [
    {
     "name": "stdout",
     "output_type": "stream",
     "text": [
      "[1 2 3] [1. 2. 3.] [1 2 3]\n",
      "int64 float64 int32\n"
     ]
    }
   ],
   "source": [
    "a = np.array([1, 2, 3])\n",
    "b = np.array([1, 2, 3], dtype = np.float64)\n",
    "c = np.array([1, 2, 3], dtype = np.int32)\n",
    "\n",
    "print(a, b, c)\n",
    "print(a.dtype, b.dtype, c.dtype)"
   ]
  },
  {
   "cell_type": "code",
   "execution_count": 48,
   "id": "384e562c-d143-424d-a6e4-fa96085ff32b",
   "metadata": {},
   "outputs": [
    {
     "name": "stdout",
     "output_type": "stream",
     "text": [
      "int8 int16 int32 int64\n"
     ]
    }
   ],
   "source": [
    "d = np.array([1, 2, 3], dtype = 'i1')\n",
    "e = np.array([1, 2, 3], dtype = 'i2')\n",
    "f = np.array([1, 2, 3], dtype = 'i4')\n",
    "g = np.array([1, 2, 3], dtype = 'i8')\n",
    "\n",
    "print(d.dtype, e.dtype, f.dtype, g.dtype)"
   ]
  },
  {
   "cell_type": "code",
   "execution_count": 49,
   "id": "cdda3867-0486-40e5-82db-5d1754b462d7",
   "metadata": {},
   "outputs": [
    {
     "name": "stdout",
     "output_type": "stream",
     "text": [
      "uint8 uint16 uint32 uint64\n"
     ]
    }
   ],
   "source": [
    "d = np.array([1, 2, 3], dtype = 'u1')\n",
    "e = np.array([1, 2, 3], dtype = 'u2')\n",
    "f = np.array([1, 2, 3], dtype = 'u4')\n",
    "g = np.array([1, 2, 3], dtype = 'u8')\n",
    "\n",
    "print(d.dtype, e.dtype, f.dtype, g.dtype)"
   ]
  },
  {
   "cell_type": "code",
   "execution_count": 50,
   "id": "bac29d6a-a380-49a6-91c0-3414424c5c12",
   "metadata": {},
   "outputs": [
    {
     "name": "stdout",
     "output_type": "stream",
     "text": [
      "float16 float32 float64 float128\n"
     ]
    }
   ],
   "source": [
    "d = np.array([1, 2, 3], dtype = 'f2')\n",
    "e = np.array([1, 2, 3], dtype = 'f4')\n",
    "f = np.array([1, 2, 3], dtype = 'f8')\n",
    "g = np.array([1, 2, 3], dtype = 'f16')\n",
    "\n",
    "print(d.dtype, e.dtype, f.dtype, g.dtype)"
   ]
  },
  {
   "cell_type": "code",
   "execution_count": 55,
   "id": "f60d27b8-fa60-4106-8f08-3b0b1f3c7167",
   "metadata": {},
   "outputs": [
    {
     "name": "stdout",
     "output_type": "stream",
     "text": [
      "int32 float64 float128\n"
     ]
    }
   ],
   "source": [
    "d = np.array([1, 2, 3], dtype = 'i')\n",
    "e = np.array([1, 2, 3], dtype = 'd')\n",
    "f = np.array([1, 2, 3], dtype = 'g')\n",
    "\n",
    "print(d.dtype, e.dtype, f.dtype)"
   ]
  },
  {
   "cell_type": "code",
   "execution_count": 58,
   "id": "b7ea74b2-ff57-4def-96c7-a77a607ca236",
   "metadata": {},
   "outputs": [
    {
     "name": "stdout",
     "output_type": "stream",
     "text": [
      "float64\n"
     ]
    }
   ],
   "source": [
    "d = d.astype(np.float64)\n",
    "print(d.dtype)"
   ]
  },
  {
   "cell_type": "code",
   "execution_count": 61,
   "id": "2679e768-9c4e-48ac-bc4a-15c3740a172e",
   "metadata": {},
   "outputs": [],
   "source": [
    "j = f.astype(f.dtype)"
   ]
  },
  {
   "cell_type": "raw",
   "id": "071af6d6-5539-4239-bddd-12983958fd86",
   "metadata": {},
   "source": [
    "print(j.dtype)"
   ]
  },
  {
   "cell_type": "markdown",
   "id": "6e3a8683-2785-46b3-9ed4-0277c7b57cca",
   "metadata": {},
   "source": [
    "### 배열 Indexing(색인)과 slicing"
   ]
  },
  {
   "cell_type": "code",
   "execution_count": 74,
   "id": "d243d8f2-89ef-4eea-a8ab-6d00c4ece2c7",
   "metadata": {},
   "outputs": [
    {
     "name": "stdout",
     "output_type": "stream",
     "text": [
      "[0 1 2 3 4 5 6 7 8 9]\n"
     ]
    }
   ],
   "source": [
    "a = np.arange(10)\n",
    "print(a)"
   ]
  },
  {
   "cell_type": "code",
   "execution_count": 75,
   "id": "3e00d6ce-19e3-4f47-9935-a5cda9da7045",
   "metadata": {},
   "outputs": [
    {
     "name": "stdout",
     "output_type": "stream",
     "text": [
      "5\n",
      "0\n"
     ]
    }
   ],
   "source": [
    "print(a[5])\n",
    "print(a[0])"
   ]
  },
  {
   "cell_type": "code",
   "execution_count": 76,
   "id": "1bd9342d-b386-489e-87fa-6c28961b6217",
   "metadata": {},
   "outputs": [
    {
     "name": "stdout",
     "output_type": "stream",
     "text": [
      "[5 6 7]\n"
     ]
    }
   ],
   "source": [
    "print(a[5:8])"
   ]
  },
  {
   "cell_type": "code",
   "execution_count": 77,
   "id": "083376fc-f524-4941-b8ea-ae0781a9c6d3",
   "metadata": {},
   "outputs": [
    {
     "name": "stdout",
     "output_type": "stream",
     "text": [
      "9\n"
     ]
    }
   ],
   "source": [
    "print(a[-1])"
   ]
  },
  {
   "cell_type": "code",
   "execution_count": 79,
   "id": "1820a636-c6f5-4ae0-ad05-3539d6166b6e",
   "metadata": {},
   "outputs": [
    {
     "name": "stdout",
     "output_type": "stream",
     "text": [
      "[7 8]\n"
     ]
    }
   ],
   "source": [
    "print(a[7:-1])"
   ]
  },
  {
   "cell_type": "code",
   "execution_count": 80,
   "id": "bcfa9898-effd-422c-a793-2098f54cf2d2",
   "metadata": {},
   "outputs": [
    {
     "name": "stdout",
     "output_type": "stream",
     "text": [
      "[ 0  1  2  3  4 10 10 10  8  9]\n"
     ]
    }
   ],
   "source": [
    "a[5:8] = 10\n",
    "print(a)"
   ]
  },
  {
   "cell_type": "markdown",
   "id": "5c3697ec-ffbb-4e76-8ea6-4874e787ec9c",
   "metadata": {},
   "source": [
    "#### indexing을 사용하면 항상 랭크가 감소합니다. 반면에 slicing을 사용하면 차원이 유지됩니다."
   ]
  },
  {
   "cell_type": "code",
   "execution_count": 81,
   "id": "d6ed6463-2cdf-4e50-9711-b1274d7031f3",
   "metadata": {},
   "outputs": [
    {
     "name": "stdout",
     "output_type": "stream",
     "text": [
      "[ 1  2  3  4  5  6  7  8  9 10 11 12]\n",
      "(12,)\n",
      "1\n"
     ]
    }
   ],
   "source": [
    "b = np.arange(1, 13)\n",
    "print(b)\n",
    "print(b.shape)\n",
    "print(b.ndim)"
   ]
  },
  {
   "cell_type": "code",
   "execution_count": 83,
   "id": "2280d203-3da2-49a8-ad14-3b49355276e6",
   "metadata": {},
   "outputs": [
    {
     "name": "stdout",
     "output_type": "stream",
     "text": [
      "2 () 0\n",
      "[2] (1,) 1\n"
     ]
    }
   ],
   "source": [
    "indexing = b[1]\n",
    "slicing = b[1:2]\n",
    "print(indexing, indexing.shape, indexing.ndim)\n",
    "print(slicing, slicing.shape, slicing.ndim)"
   ]
  },
  {
   "cell_type": "markdown",
   "id": "155e7318-1054-407d-9960-415dc5b2cfcf",
   "metadata": {},
   "source": [
    "이것은 Indexing과 slicing을 함께 사용할 때도 마찬가지이다. Indexing의 개수만큼 랭크는 감소한다."
   ]
  },
  {
   "cell_type": "code",
   "execution_count": 84,
   "id": "25abd83f-8c17-4802-aee3-1c5aa8dcd609",
   "metadata": {},
   "outputs": [
    {
     "name": "stdout",
     "output_type": "stream",
     "text": [
      "[[ 1  2  3  4]\n",
      " [ 5  6  7  8]\n",
      " [ 9 10 11 12]]\n",
      "(3, 4)\n",
      "2\n"
     ]
    }
   ],
   "source": [
    "b = b.reshape(3, 4)\n",
    "print(b)\n",
    "print(b.shape)\n",
    "print(b.ndim)"
   ]
  },
  {
   "cell_type": "code",
   "execution_count": 86,
   "id": "ba9daac1-4ad1-4029-87e5-66b7d36f5612",
   "metadata": {},
   "outputs": [
    {
     "name": "stdout",
     "output_type": "stream",
     "text": [
      "[5 6 7 8] (4,) 1\n",
      "[[5 6 7 8]] (1, 4) 2\n"
     ]
    }
   ],
   "source": [
    "row_r1 = b[1, : ]\n",
    "row_r2 = b[1:2, :]\n",
    "print(row_r1, row_r1.shape, row_r1.ndim)\n",
    "print(row_r2, row_r2.shape, row_r2.ndim)"
   ]
  },
  {
   "cell_type": "markdown",
   "id": "b6237409-70e0-4d19-89c8-609d3f6a7012",
   "metadata": {},
   "source": [
    "#### slicing examples"
   ]
  },
  {
   "cell_type": "code",
   "execution_count": 87,
   "id": "7ffe17f6-a24a-41b5-a4a3-bf68c8e491ab",
   "metadata": {},
   "outputs": [
    {
     "name": "stdout",
     "output_type": "stream",
     "text": [
      "[[[ 0  1  2  3]\n",
      "  [ 4  5  6  7]\n",
      "  [ 8  9 10 11]]\n",
      "\n",
      " [[12 13 14 15]\n",
      "  [16 17 18 19]\n",
      "  [20 21 22 23]]]\n",
      "(2, 3, 4)\n"
     ]
    }
   ],
   "source": [
    "c = np.arange(24).reshape(2,3,4)\n",
    "print(c)\n",
    "print(c.shape)"
   ]
  },
  {
   "cell_type": "code",
   "execution_count": 88,
   "id": "38e3f11a-c42a-4a1b-a02a-e22924d2623a",
   "metadata": {},
   "outputs": [
    {
     "name": "stdout",
     "output_type": "stream",
     "text": [
      "[[[ 0  1  2  3]\n",
      "  [ 4  5  6  7]]\n",
      "\n",
      " [[ 8  9 10 11]\n",
      "  [12 13 14 15]]\n",
      "\n",
      " [[16 17 18 19]\n",
      "  [20 21 22 23]]]\n"
     ]
    }
   ],
   "source": [
    "c = np.arange(24).reshape(3,2,4)\n",
    "print(c)"
   ]
  },
  {
   "cell_type": "code",
   "execution_count": 105,
   "id": "c8ff1ab1-dc37-4692-b4ee-eb9a5a603ca9",
   "metadata": {},
   "outputs": [
    {
     "name": "stdout",
     "output_type": "stream",
     "text": [
      "[[[ 3]\n",
      "  [ 7]]\n",
      "\n",
      " [[11]\n",
      "  [15]]\n",
      "\n",
      " [[19]\n",
      "  [23]]]\n"
     ]
    }
   ],
   "source": [
    "print(c[:,:,3:])"
   ]
  },
  {
   "cell_type": "code",
   "execution_count": 107,
   "id": "5e436ea2-337d-407f-84d9-31205bf1e6cc",
   "metadata": {},
   "outputs": [
    {
     "name": "stdout",
     "output_type": "stream",
     "text": [
      "[[[ 0]\n",
      "  [ 4]]\n",
      "\n",
      " [[ 8]\n",
      "  [12]]\n",
      "\n",
      " [[16]\n",
      "  [20]]]\n"
     ]
    }
   ],
   "source": [
    "print(c[:,:,:1])"
   ]
  },
  {
   "cell_type": "code",
   "execution_count": 106,
   "id": "14635b90-f82d-4884-a7bf-e8ebf1d16fb2",
   "metadata": {},
   "outputs": [
    {
     "name": "stdout",
     "output_type": "stream",
     "text": [
      "[[[0 1 2 3]\n",
      "  [4 5 6 7]]]\n"
     ]
    }
   ],
   "source": [
    "print(c[:1,...])"
   ]
  },
  {
   "cell_type": "code",
   "execution_count": 118,
   "id": "843c7b45-a505-44ee-aa85-03269b9664b3",
   "metadata": {},
   "outputs": [
    {
     "name": "stdout",
     "output_type": "stream",
     "text": [
      "[[[0 1 2 3]\n",
      "  [4 5 6 7]]]\n",
      "[[[0 1 2 3]\n",
      "  [4 5 6 7]]]\n"
     ]
    }
   ],
   "source": [
    "print(c[0:1])\n",
    "print(c[0::3])"
   ]
  },
  {
   "cell_type": "markdown",
   "id": "d51670ab-6511-43a6-8d0e-3db2dec0c102",
   "metadata": {},
   "source": [
    "### boolean indexing"
   ]
  },
  {
   "cell_type": "code",
   "execution_count": 120,
   "id": "da1abc06-a655-4a4c-aac3-68ecd78504ea",
   "metadata": {},
   "outputs": [
    {
     "name": "stdout",
     "output_type": "stream",
     "text": [
      "[[[ 0  1  2  3]\n",
      "  [ 4  5  6  7]\n",
      "  [ 8  9 10 11]]\n",
      "\n",
      " [[12 13 14 15]\n",
      "  [16 17 18 19]\n",
      "  [20 21 22 23]]]\n"
     ]
    }
   ],
   "source": [
    "c = np.arange(24).reshape(2,3,4)\n",
    "print(c)"
   ]
  },
  {
   "cell_type": "code",
   "execution_count": 121,
   "id": "034b6ee9-5bbc-45bd-a477-1f1870a7921c",
   "metadata": {},
   "outputs": [
    {
     "name": "stdout",
     "output_type": "stream",
     "text": [
      "[[[False False False False]\n",
      "  [False False False False]\n",
      "  [False False False  True]]\n",
      "\n",
      " [[ True  True  True  True]\n",
      "  [ True  True  True  True]\n",
      "  [ True  True  True  True]]]\n"
     ]
    }
   ],
   "source": [
    "bool_idx = (c > 10)\n",
    "print(bool_idx)"
   ]
  },
  {
   "cell_type": "code",
   "execution_count": 122,
   "id": "fd119cda-a299-4e77-b9d2-caf149b8c10f",
   "metadata": {},
   "outputs": [
    {
     "name": "stdout",
     "output_type": "stream",
     "text": [
      "[11 12 13 14 15 16 17 18 19 20 21 22 23]\n"
     ]
    }
   ],
   "source": [
    "print(c[bool_idx])"
   ]
  },
  {
   "cell_type": "code",
   "execution_count": 123,
   "id": "ff03edfa-37d0-4b90-bd6c-e224951c6fef",
   "metadata": {},
   "outputs": [
    {
     "name": "stdout",
     "output_type": "stream",
     "text": [
      "[[[ 0  1  2  3]\n",
      "  [ 4  5  6  7]\n",
      "  [ 8  9 10 -1]]\n",
      "\n",
      " [[-1 -1 -1 -1]\n",
      "  [-1 -1 -1 -1]\n",
      "  [-1 -1 -1 -1]]]\n"
     ]
    }
   ],
   "source": [
    "c[c>10] = -1\n",
    "print(c)"
   ]
  },
  {
   "cell_type": "markdown",
   "id": "ded5227f-02ee-4c1f-a2ea-ff5f39c5e226",
   "metadata": {},
   "source": [
    "### fancy indexing"
   ]
  },
  {
   "cell_type": "code",
   "execution_count": 11,
   "id": "4ba7ee8b-1d73-4a20-bd44-c4cc3afb660f",
   "metadata": {},
   "outputs": [
    {
     "name": "stdout",
     "output_type": "stream",
     "text": [
      "[[0]\n",
      " [1]\n",
      " [2]\n",
      " [3]\n",
      " [4]\n",
      " [5]\n",
      " [6]\n",
      " [7]] (8, 1)\n"
     ]
    }
   ],
   "source": [
    "d = np.arange(8).reshape(8,-1)\n",
    "print(d, d.shape)"
   ]
  },
  {
   "cell_type": "code",
   "execution_count": 12,
   "id": "4bf57e4e-7e8d-47b8-be30-7b277f274bb5",
   "metadata": {},
   "outputs": [
    {
     "name": "stdout",
     "output_type": "stream",
     "text": [
      "[[0 0 0 0]\n",
      " [1 1 1 1]\n",
      " [2 2 2 2]\n",
      " [3 3 3 3]\n",
      " [4 4 4 4]\n",
      " [5 5 5 5]\n",
      " [6 6 6 6]\n",
      " [7 7 7 7]] (8, 4)\n"
     ]
    }
   ],
   "source": [
    "d = np.hstack((d, d, d, d))\n",
    "print(d, d.shape)"
   ]
  },
  {
   "cell_type": "code",
   "execution_count": 18,
   "id": "a9c12cbf-3f33-494e-a98a-4a5628cbf409",
   "metadata": {},
   "outputs": [
    {
     "name": "stdout",
     "output_type": "stream",
     "text": [
      "[[3 3 3 3]\n",
      " [5 5 5 5]\n",
      " [1 1 1 1]\n",
      " [0 0 0 0]\n",
      " [1 1 1 1]\n",
      " [2 2 2 2]]\n"
     ]
    }
   ],
   "source": [
    "print(d[[3,5,1,0,1,2]]) # list형태로 데이터 인덱싱"
   ]
  },
  {
   "cell_type": "code",
   "execution_count": 14,
   "id": "88e6931b-4e86-4473-b091-ead021455971",
   "metadata": {},
   "outputs": [
    {
     "name": "stdout",
     "output_type": "stream",
     "text": [
      "[[5 5 5 5]\n",
      " [3 3 3 3]\n",
      " [1 1 1 1]]\n"
     ]
    }
   ],
   "source": [
    "print(d[[-3,-5,-7]]) # list형태로 데이터 인덱싱"
   ]
  },
  {
   "cell_type": "code",
   "execution_count": 19,
   "id": "c0ed0761-7c3d-4ff6-a1a8-b84c022ee767",
   "metadata": {},
   "outputs": [
    {
     "name": "stdout",
     "output_type": "stream",
     "text": [
      "[[ 0  1  2  3]\n",
      " [ 4  5  6  7]\n",
      " [ 8  9 10 11]\n",
      " [12 13 14 15]\n",
      " [16 17 18 19]\n",
      " [20 21 22 23]\n",
      " [24 25 26 27]\n",
      " [28 29 30 31]] (8, 4)\n"
     ]
    }
   ],
   "source": [
    "e = np.arange(32).reshape(8,4)\n",
    "print(e, e.shape)"
   ]
  },
  {
   "cell_type": "code",
   "execution_count": 21,
   "id": "d662e6b0-fb93-45c4-85e7-a6d61e37c5bf",
   "metadata": {},
   "outputs": [
    {
     "name": "stdout",
     "output_type": "stream",
     "text": [
      "[[ 4  5  6  7]\n",
      " [20 21 22 23]\n",
      " [28 29 30 31]\n",
      " [ 8  9 10 11]]\n"
     ]
    }
   ],
   "source": [
    "print(e[[1, 5, 7, 2]])"
   ]
  },
  {
   "cell_type": "code",
   "execution_count": 22,
   "id": "c35574c1-0ca1-4e46-a02c-a0b32a05e9f0",
   "metadata": {},
   "outputs": [
    {
     "name": "stdout",
     "output_type": "stream",
     "text": [
      "[ 4 23 29 10]\n"
     ]
    }
   ],
   "source": [
    "print(e[[1, 5, 7, 2], [0, 3, 1, 2,]])"
   ]
  },
  {
   "cell_type": "code",
   "execution_count": 24,
   "id": "da7ffd02-5afb-4b34-8cae-dfe68a75952c",
   "metadata": {},
   "outputs": [
    {
     "name": "stdout",
     "output_type": "stream",
     "text": [
      "[[ 4  5  6  7]\n",
      " [20 21 22 23]\n",
      " [28 29 30 31]\n",
      " [ 8  9 10 11]]\n"
     ]
    }
   ],
   "source": [
    "print(e[[1, 5, 7, 2]])"
   ]
  },
  {
   "cell_type": "code",
   "execution_count": 31,
   "id": "0e1551ee-5803-4c82-889c-99f8e8625c8a",
   "metadata": {},
   "outputs": [
    {
     "name": "stdout",
     "output_type": "stream",
     "text": [
      "[[ 4  7  5  6]\n",
      " [20 23 21 22]\n",
      " [28 31 29 30]\n",
      " [ 8 11  9 10]]\n"
     ]
    }
   ],
   "source": [
    "print(e[[1, 5, 7, 2]][:, [0, 3, 1, 2]])"
   ]
  },
  {
   "cell_type": "code",
   "execution_count": 32,
   "id": "96798b94-3547-4d21-8e7e-32eb827a7221",
   "metadata": {},
   "outputs": [
    {
     "name": "stdout",
     "output_type": "stream",
     "text": [
      "[4 7 5 6]\n"
     ]
    }
   ],
   "source": [
    "print(e[[1, 5, 7, 2]][0, [0, 3, 1, 2]])"
   ]
  },
  {
   "cell_type": "code",
   "execution_count": 28,
   "id": "e518cfeb-63db-4d34-a8f6-481bfc5003e6",
   "metadata": {},
   "outputs": [
    {
     "name": "stdout",
     "output_type": "stream",
     "text": [
      "[20 23 21 22]\n"
     ]
    }
   ],
   "source": [
    "print(e[[1, 5, 7, 2]][1, [0, 3, 1, 2]])"
   ]
  },
  {
   "cell_type": "code",
   "execution_count": 30,
   "id": "0936c0d4-5170-466d-9faa-2b6aea4cdd67",
   "metadata": {},
   "outputs": [
    {
     "name": "stdout",
     "output_type": "stream",
     "text": [
      "[28 31 29 30]\n"
     ]
    }
   ],
   "source": [
    "print(e[[1, 5, 7, 2]][2, [0, 3, 1, 2]])"
   ]
  },
  {
   "cell_type": "markdown",
   "id": "924cb421-3f0d-4332-babe-d874d79bcf69",
   "metadata": {},
   "source": [
    "### Tranpose"
   ]
  },
  {
   "cell_type": "code",
   "execution_count": 34,
   "id": "c9ab072f-d474-4756-a97d-2a220534471b",
   "metadata": {},
   "outputs": [
    {
     "name": "stdout",
     "output_type": "stream",
     "text": [
      "[[[ 0  1  2  3]\n",
      "  [ 4  5  6  7]]\n",
      "\n",
      " [[ 8  9 10 11]\n",
      "  [12 13 14 15]]] (2, 2, 4)\n"
     ]
    }
   ],
   "source": [
    "f = np.arange(16).reshape(2,2,4)\n",
    "print(f, f.shape)"
   ]
  },
  {
   "cell_type": "code",
   "execution_count": 38,
   "id": "bbff8c69-d608-4175-9a5a-2bec5f893b21",
   "metadata": {},
   "outputs": [
    {
     "name": "stdout",
     "output_type": "stream",
     "text": [
      "[[[ 0  1  2  3]\n",
      "  [ 8  9 10 11]]\n",
      "\n",
      " [[ 4  5  6  7]\n",
      "  [12 13 14 15]]]\n"
     ]
    }
   ],
   "source": [
    "print(f.transpose(1, 0, 2))"
   ]
  },
  {
   "cell_type": "markdown",
   "id": "48632a25-6b15-4dce-98ac-7670be0a5b60",
   "metadata": {},
   "source": [
    "### Numpy 연산"
   ]
  },
  {
   "cell_type": "code",
   "execution_count": 49,
   "id": "9242294e-5a40-44c5-9ce9-fe9349d89ebb",
   "metadata": {},
   "outputs": [
    {
     "name": "stdout",
     "output_type": "stream",
     "text": [
      "[[1. 2.]\n",
      " [3. 4.]]\n",
      "[[5. 6.]\n",
      " [7. 8.]]\n"
     ]
    }
   ],
   "source": [
    "x = np.array([[1, 2], [3, 4]], dtype = np.float64)\n",
    "y = np.array([[5, 6], [7, 8]], dtype = np.float64)\n",
    "print(x)\n",
    "print(y)"
   ]
  },
  {
   "cell_type": "code",
   "execution_count": 44,
   "id": "bd74184a-096d-4ecb-813f-bfe142304d4e",
   "metadata": {},
   "outputs": [
    {
     "name": "stdout",
     "output_type": "stream",
     "text": [
      "[[[1 2]\n",
      "  [3 4]]] (1, 2, 2)\n"
     ]
    }
   ],
   "source": [
    "x = np.arange(1, 5).reshape(1, 2, 2)\n",
    "print(x, x.shape)"
   ]
  },
  {
   "cell_type": "code",
   "execution_count": 51,
   "id": "6e4ea218-da80-437c-b2dc-3ced6b310bfa",
   "metadata": {},
   "outputs": [
    {
     "name": "stdout",
     "output_type": "stream",
     "text": [
      "[[1. 2.]\n",
      " [3. 4.]] (2, 2) float64\n"
     ]
    }
   ],
   "source": [
    "x = np.arange(1, 5).reshape(2, 2).astype(np.float64)\n",
    "print(x, x.shape, x.dtype)"
   ]
  },
  {
   "cell_type": "code",
   "execution_count": 55,
   "id": "787efb72-157d-48a7-8e51-e72bb18a8233",
   "metadata": {},
   "outputs": [
    {
     "name": "stdout",
     "output_type": "stream",
     "text": [
      "[[5. 6.]\n",
      " [7. 8.]] (2, 2) float64\n"
     ]
    }
   ],
   "source": [
    "y = np.arange(5, 9).reshape(2, 2).astype(np.float64)\n",
    "print(y, y.shape, y.dtype)"
   ]
  },
  {
   "cell_type": "code",
   "execution_count": 56,
   "id": "2be6f857-a1cf-41c3-861d-baded1036df0",
   "metadata": {},
   "outputs": [
    {
     "name": "stdout",
     "output_type": "stream",
     "text": [
      "[[ 6.  8.]\n",
      " [10. 12.]]\n",
      "[[ 6.  8.]\n",
      " [10. 12.]]\n"
     ]
    }
   ],
   "source": [
    "print(x + y)\n",
    "print(np.add(x, y))"
   ]
  },
  {
   "cell_type": "code",
   "execution_count": 58,
   "id": "b2601d18-2a68-4178-81aa-01747941408c",
   "metadata": {},
   "outputs": [
    {
     "name": "stdout",
     "output_type": "stream",
     "text": [
      "[[-4. -4.]\n",
      " [-4. -4.]]\n",
      "[[-4. -4.]\n",
      " [-4. -4.]]\n"
     ]
    }
   ],
   "source": [
    "print(x - y)\n",
    "print(np.subtract(x, y))"
   ]
  },
  {
   "cell_type": "code",
   "execution_count": 59,
   "id": "ba1088ba-8e39-419d-a0d2-cfb9be99f241",
   "metadata": {},
   "outputs": [
    {
     "name": "stdout",
     "output_type": "stream",
     "text": [
      "[[ 5. 12.]\n",
      " [21. 32.]]\n",
      "[[ 5. 12.]\n",
      " [21. 32.]]\n"
     ]
    }
   ],
   "source": [
    "print(x * y)\n",
    "print(np.multiply(x, y))"
   ]
  },
  {
   "cell_type": "code",
   "execution_count": 60,
   "id": "5d519c59-f3cf-4a61-bd6c-b6de59de2e1e",
   "metadata": {},
   "outputs": [
    {
     "name": "stdout",
     "output_type": "stream",
     "text": [
      "[[0.2        0.33333333]\n",
      " [0.42857143 0.5       ]]\n",
      "[[0.2        0.33333333]\n",
      " [0.42857143 0.5       ]]\n"
     ]
    }
   ],
   "source": [
    "print(x/y)\n",
    "print(np.divide(x, y))"
   ]
  },
  {
   "cell_type": "code",
   "execution_count": 61,
   "id": "b7df8a05-5b2d-42c5-bde3-f472763b4095",
   "metadata": {},
   "outputs": [
    {
     "name": "stdout",
     "output_type": "stream",
     "text": [
      "[[19. 22.]\n",
      " [43. 50.]]\n",
      "[[19. 22.]\n",
      " [43. 50.]]\n"
     ]
    }
   ],
   "source": [
    "print(x @ y)\n",
    "print(np.matmul(x, y))"
   ]
  },
  {
   "cell_type": "code",
   "execution_count": 69,
   "id": "0c248e08-7b0a-4aa6-85f7-190b051046de",
   "metadata": {},
   "outputs": [
    {
     "name": "stdout",
     "output_type": "stream",
     "text": [
      "[[ 1  2  3  4  5]\n",
      " [ 6  7  8  9 10]]\n"
     ]
    }
   ],
   "source": [
    "z = np.arange(1, 11).reshape(2, 5)\n",
    "print(z)"
   ]
  },
  {
   "cell_type": "code",
   "execution_count": 76,
   "id": "b75a83f0-7c94-4eb1-8c22-3dae073a0906",
   "metadata": {},
   "outputs": [
    {
     "name": "stdout",
     "output_type": "stream",
     "text": [
      "[ 7  9 11 13 15] (5,)\n",
      "[15 40] (2,)\n",
      "[15 40] (2,)\n"
     ]
    }
   ],
   "source": [
    "sum1 = np.sum(z, axis = 0)\n",
    "sum2 = np.sum(z, axis = 1)\n",
    "sum3 = np.sum(z, axis = -1)\n",
    "\n",
    "print(sum1, sum1.shape)\n",
    "print(sum2, sum2.shape)\n",
    "print(sum3, sum3.shape)"
   ]
  },
  {
   "cell_type": "markdown",
   "id": "51f39d7c-af63-4e80-ad7b-90fc52384b93",
   "metadata": {},
   "source": [
    "여기서 축(axis)은 각 배열의 차원에 해당되는 index입니다.</br>\n",
    "axis = 0에 대하여 sum을 하라는 것은 0번 축 혹은 차원이 없어지는 방향으로 원소들을 모두 더하라는 이야기다.</br>\n",
    "즉, 위 예에서 sum1의 경우 z[0, :] + z[1, :]의 연산을 의미하고,</br>\n",
    "sum2의 경우에는 z[:, 0] + z[:, 1] + z[:, 2] + z[:, 3] + z[:, 4]의 연산을 의미한다."
   ]
  },
  {
   "cell_type": "code",
   "execution_count": 70,
   "id": "7e363863-9a55-46a7-8ec2-6ca0fd1e2828",
   "metadata": {},
   "outputs": [
    {
     "name": "stdout",
     "output_type": "stream",
     "text": [
      "[ 7  9 11 13 15]\n"
     ]
    }
   ],
   "source": [
    "print(z[0, :] + z[1, :])"
   ]
  },
  {
   "cell_type": "code",
   "execution_count": 74,
   "id": "b0d7f8ba-421f-4738-acb7-493254d82b65",
   "metadata": {},
   "outputs": [
    {
     "name": "stdout",
     "output_type": "stream",
     "text": [
      "40\n"
     ]
    }
   ],
   "source": [
    "print(z[1, 0] + z[1, 1] + z[1, 2] + z[1, 3] + z[1, 4])"
   ]
  },
  {
   "cell_type": "code",
   "execution_count": 73,
   "id": "d36cd663-7ebd-43be-9f67-2b8bab266775",
   "metadata": {},
   "outputs": [
    {
     "name": "stdout",
     "output_type": "stream",
     "text": [
      "[15 40]\n"
     ]
    }
   ],
   "source": [
    "print(z[:2, 0] + z[:2, 1] + z[:2, 2] + z[:2, 3] + z[:2, 4])"
   ]
  },
  {
   "cell_type": "markdown",
   "id": "2bb8e802-31df-4124-9684-9517edefb2ae",
   "metadata": {},
   "source": [
    "### Broadcasting\n",
    "Broadcasting은 Numpy가 산술 연산을 수행할 때 다른 모양의 배열로 작업할 수 있게 해주는 강력한 매커니즘이다.</br>\n",
    "종종 더 작은 배열과 더 큰 배열이 있을 때 더 작은 배열을 여러 번 사용하여 더 큰 배열에서 어떤 연산을 수행하기를 원할 때가 있다.</br>\n",
    "예를 들어, 행렬의 각 행에 상수 벡터를 추가하려 한다고 가정하자. numpy에서는 다음과 같이 할 수 있다."
   ]
  },
  {
   "cell_type": "code",
   "execution_count": 79,
   "id": "3a215d2e-96b9-40f4-a1a1-7cb4e41a1ce7",
   "metadata": {},
   "outputs": [],
   "source": [
    "x = np.arange(1, 13).reshape(4,3)\n",
    "y = np.array([1, 0, 2])"
   ]
  },
  {
   "cell_type": "code",
   "execution_count": 80,
   "id": "66ad4d64-5c89-47e1-b9e6-5fcfe21dda05",
   "metadata": {},
   "outputs": [
    {
     "name": "stdout",
     "output_type": "stream",
     "text": [
      "[[ 1  2  3]\n",
      " [ 4  5  6]\n",
      " [ 7  8  9]\n",
      " [10 11 12]] (4, 3)\n",
      "[1 0 2] (3,)\n"
     ]
    }
   ],
   "source": [
    "print(x, x.shape)\n",
    "print(y, y.shape)"
   ]
  },
  {
   "cell_type": "code",
   "execution_count": 81,
   "id": "9356a20f-0d6b-4b30-9c95-57bb83658929",
   "metadata": {},
   "outputs": [
    {
     "name": "stdout",
     "output_type": "stream",
     "text": [
      "[[ 2  2  5]\n",
      " [ 5  5  8]\n",
      " [ 8  8 11]\n",
      " [11 11 14]] (4, 3)\n"
     ]
    }
   ],
   "source": [
    "z = x + y\n",
    "print(z, z.shape)"
   ]
  },
  {
   "cell_type": "code",
   "execution_count": 83,
   "id": "02a86a62-41af-4c8b-a50b-02a1caf00086",
   "metadata": {},
   "outputs": [],
   "source": [
    "x = np.arange(1, 4).reshape(1,3)\n",
    "y = np.arange(4, 6).reshape(1,2)"
   ]
  },
  {
   "cell_type": "code",
   "execution_count": 84,
   "id": "854ef19c-413a-4d7e-8392-e28153408344",
   "metadata": {},
   "outputs": [
    {
     "ename": "ValueError",
     "evalue": "operands could not be broadcast together with shapes (1,3) (1,2) ",
     "output_type": "error",
     "traceback": [
      "\u001b[0;31m---------------------------------------------------------------------------\u001b[0m",
      "\u001b[0;31mValueError\u001b[0m                                Traceback (most recent call last)",
      "Cell \u001b[0;32mIn[84], line 1\u001b[0m\n\u001b[0;32m----> 1\u001b[0m \u001b[38;5;28mprint\u001b[39m(x \u001b[38;5;241m+\u001b[39m y)\n",
      "\u001b[0;31mValueError\u001b[0m: operands could not be broadcast together with shapes (1,3) (1,2) "
     ]
    }
   ],
   "source": [
    "print(x + y)"
   ]
  },
  {
   "cell_type": "code",
   "execution_count": 87,
   "id": "6745b243-dc77-4fc7-85be-709b3bd6b005",
   "metadata": {},
   "outputs": [
    {
     "name": "stdout",
     "output_type": "stream",
     "text": [
      "[[4]\n",
      " [5]] (2, 1)\n"
     ]
    }
   ],
   "source": [
    "y = y.swapaxes(0, 1)\n",
    "print(y, y.shape)"
   ]
  },
  {
   "cell_type": "code",
   "execution_count": 88,
   "id": "dee920ac-6384-4867-9d6e-faf6717fb012",
   "metadata": {},
   "outputs": [
    {
     "name": "stdout",
     "output_type": "stream",
     "text": [
      "[[5 6 7]\n",
      " [6 7 8]]\n"
     ]
    }
   ],
   "source": [
    "print(x + y)"
   ]
  },
  {
   "cell_type": "markdown",
   "id": "46e8b1d1-54e1-4e4e-b03f-3286657abf4f",
   "metadata": {},
   "source": [
    "### shape"
   ]
  },
  {
   "cell_type": "code",
   "execution_count": 89,
   "id": "5168892d-f7c4-4e90-b0e4-1c9c6940da1a",
   "metadata": {},
   "outputs": [
    {
     "name": "stdout",
     "output_type": "stream",
     "text": [
      "[[[ 0  1  2  3]\n",
      "  [ 4  5  6  7]\n",
      "  [ 8  9 10 11]]\n",
      "\n",
      " [[12 13 14 15]\n",
      "  [16 17 18 19]\n",
      "  [20 21 22 23]]] (2, 3, 4)\n"
     ]
    }
   ],
   "source": [
    "a = np.arange(24).reshape(2, 3, 4)\n",
    "print(a, a.shape)"
   ]
  },
  {
   "cell_type": "code",
   "execution_count": 95,
   "id": "3edf6da0-0a20-4521-b2fe-b9d00bc3aa06",
   "metadata": {},
   "outputs": [
    {
     "name": "stdout",
     "output_type": "stream",
     "text": [
      "[[ 0  1  2  3  4  5]\n",
      " [ 6  7  8  9 10 11]\n",
      " [12 13 14 15 16 17]\n",
      " [18 19 20 21 22 23]] (4, 6)\n"
     ]
    }
   ],
   "source": [
    "a = a.reshape(4, -1) # -1을 이용하면, 가장 뒷 번호, 24/4는 6이므로 6열로 reshape가 일어난다.\n",
    "print(a, a.shape)"
   ]
  },
  {
   "cell_type": "code",
   "execution_count": 96,
   "id": "96170c9c-4ee1-4576-90e0-9cc53b5e3c2d",
   "metadata": {},
   "outputs": [
    {
     "name": "stdout",
     "output_type": "stream",
     "text": [
      "[[ 0  1  2  3  4  5]\n",
      " [ 6  7  8  9 10 11]\n",
      " [12 13 14 15 16 17]\n",
      " [18 19 20 21 22 23]] (4, 6)\n"
     ]
    }
   ],
   "source": [
    "a = a.reshape(4, 6) # 원래는 이렇게 해야 하지만, -1을 이용하면 굳이 생각하지 않고, 가장 뒷 번호를 이용해 정렬할 수 있다.\n",
    "print(a, a.shape)"
   ]
  },
  {
   "cell_type": "code",
   "execution_count": 97,
   "id": "1df4af83-b181-452a-804d-c21c65bc288e",
   "metadata": {},
   "outputs": [
    {
     "name": "stdout",
     "output_type": "stream",
     "text": [
      "[[[ 0]\n",
      "  [ 1]\n",
      "  [ 2]\n",
      "  [ 3]\n",
      "  [ 4]\n",
      "  [ 5]]\n",
      "\n",
      " [[ 6]\n",
      "  [ 7]\n",
      "  [ 8]\n",
      "  [ 9]\n",
      "  [10]\n",
      "  [11]]\n",
      "\n",
      " [[12]\n",
      "  [13]\n",
      "  [14]\n",
      "  [15]\n",
      "  [16]\n",
      "  [17]]\n",
      "\n",
      " [[18]\n",
      "  [19]\n",
      "  [20]\n",
      "  [21]\n",
      "  [22]\n",
      "  [23]]] (4, 6, 1)\n"
     ]
    }
   ],
   "source": [
    "a = a[..., np.newaxis]\n",
    "print(a, a.shape)"
   ]
  },
  {
   "cell_type": "code",
   "execution_count": 108,
   "id": "975d6d11-3d8d-41ee-b6d4-c4ec7e253cfb",
   "metadata": {},
   "outputs": [
    {
     "name": "stdout",
     "output_type": "stream",
     "text": [
      "[[[ 0  1  2  3  4  5]\n",
      "  [ 6  7  8  9 10 11]\n",
      "  [12 13 14 15 16 17]\n",
      "  [18 19 20 21 22 23]]] (1, 4, 6)\n"
     ]
    }
   ],
   "source": [
    "a = a.reshape(4, -1)\n",
    "a = np.expand_dims(a, axis = 0)\n",
    "print(a, a.shape)"
   ]
  },
  {
   "cell_type": "code",
   "execution_count": 132,
   "id": "cc1e6e4d-c2e1-48ab-95ea-a36dcbd9e087",
   "metadata": {},
   "outputs": [
    {
     "name": "stdout",
     "output_type": "stream",
     "text": [
      "[[[ 0  1  2  3  4  5]\n",
      "  [ 6  7  8  9 10 11]\n",
      "  [12 13 14 15 16 17]\n",
      "  [18 19 20 21 22 23]]] (1, 4, 6)\n"
     ]
    }
   ],
   "source": [
    "a = a.reshape(4, -1)\n",
    "a = np.expand_dims(a, axis = 0)\n",
    "print(a, a.shape)"
   ]
  },
  {
   "cell_type": "code",
   "execution_count": 133,
   "id": "a0fb4c03-7d35-4616-838a-2f383f378252",
   "metadata": {},
   "outputs": [],
   "source": [
    "b = a.copy()"
   ]
  },
  {
   "cell_type": "code",
   "execution_count": 120,
   "id": "ef097f97-2889-4a18-bbc9-dc2e738e5ac5",
   "metadata": {},
   "outputs": [
    {
     "name": "stdout",
     "output_type": "stream",
     "text": [
      "[[[ 0  1  2  3  4  5  0  1  2  3  4  5]\n",
      "  [ 6  7  8  9 10 11  6  7  8  9 10 11]\n",
      "  [12 13 14 15 16 17 12 13 14 15 16 17]\n",
      "  [18 19 20 21 22 23 18 19 20 21 22 23]]] (1, 4, 12)\n"
     ]
    }
   ],
   "source": [
    "c = np.concatenate((a, b), axis = -1)\n",
    "print(c, c.shape)"
   ]
  },
  {
   "cell_type": "code",
   "execution_count": 121,
   "id": "5aa64932-5007-4215-92d1-c27556cf1b01",
   "metadata": {},
   "outputs": [
    {
     "name": "stdout",
     "output_type": "stream",
     "text": [
      "[[[ 0  1  2  3  4  5]\n",
      "  [ 6  7  8  9 10 11]\n",
      "  [12 13 14 15 16 17]\n",
      "  [18 19 20 21 22 23]]\n",
      "\n",
      " [[ 0  1  2  3  4  5]\n",
      "  [ 6  7  8  9 10 11]\n",
      "  [12 13 14 15 16 17]\n",
      "  [18 19 20 21 22 23]]] (2, 4, 6)\n"
     ]
    }
   ],
   "source": [
    "c = np.concatenate((a, b), axis = 0)\n",
    "print(c, c.shape)"
   ]
  },
  {
   "cell_type": "code",
   "execution_count": 130,
   "id": "6a1bcf24-4cdd-453a-861e-99dfbcca2358",
   "metadata": {},
   "outputs": [
    {
     "name": "stdout",
     "output_type": "stream",
     "text": [
      "[[[ 0  1  2  3  4  5]\n",
      "  [ 6  7  8  9 10 11]\n",
      "  [12 13 14 15 16 17]\n",
      "  [18 19 20 21 22 23]\n",
      "  [ 0  1  2  3  4  5]\n",
      "  [ 6  7  8  9 10 11]\n",
      "  [12 13 14 15 16 17]\n",
      "  [18 19 20 21 22 23]]] (1, 8, 6)\n"
     ]
    }
   ],
   "source": [
    "c = np.concatenate((a, b), axis = 1)\n",
    "print(c, c.shape)"
   ]
  },
  {
   "cell_type": "code",
   "execution_count": 131,
   "id": "151ef81a-47ef-4734-8fd7-d872ba13e02d",
   "metadata": {},
   "outputs": [
    {
     "name": "stdout",
     "output_type": "stream",
     "text": [
      "[[[ 0  1  2  3  4  5  0  1  2  3  4  5]\n",
      "  [ 6  7  8  9 10 11  6  7  8  9 10 11]\n",
      "  [12 13 14 15 16 17 12 13 14 15 16 17]\n",
      "  [18 19 20 21 22 23 18 19 20 21 22 23]]] (1, 4, 12)\n"
     ]
    }
   ],
   "source": [
    "c = np.concatenate((a, b), axis = 2)\n",
    "print(c, c.shape)"
   ]
  },
  {
   "cell_type": "code",
   "execution_count": 135,
   "id": "ddc08ce6-7ff8-4bcc-9a0b-bd6659228bf6",
   "metadata": {},
   "outputs": [
    {
     "name": "stdout",
     "output_type": "stream",
     "text": [
      "[[[[ 0  0]\n",
      "   [ 1  1]\n",
      "   [ 2  2]\n",
      "   [ 3  3]\n",
      "   [ 4  4]\n",
      "   [ 5  5]]\n",
      "\n",
      "  [[ 6  6]\n",
      "   [ 7  7]\n",
      "   [ 8  8]\n",
      "   [ 9  9]\n",
      "   [10 10]\n",
      "   [11 11]]\n",
      "\n",
      "  [[12 12]\n",
      "   [13 13]\n",
      "   [14 14]\n",
      "   [15 15]\n",
      "   [16 16]\n",
      "   [17 17]]\n",
      "\n",
      "  [[18 18]\n",
      "   [19 19]\n",
      "   [20 20]\n",
      "   [21 21]\n",
      "   [22 22]\n",
      "   [23 23]]]] (1, 4, 6, 2)\n"
     ]
    }
   ],
   "source": [
    "d = np.stack((a, b), axis = -1)\n",
    "print(d, d.shape)"
   ]
  },
  {
   "cell_type": "code",
   "execution_count": 136,
   "id": "3834e8b6-fcab-412b-b204-bb27846d73f4",
   "metadata": {},
   "outputs": [
    {
     "name": "stdout",
     "output_type": "stream",
     "text": [
      "[[[[ 0  1  2  3  4  5]\n",
      "   [ 6  7  8  9 10 11]\n",
      "   [12 13 14 15 16 17]\n",
      "   [18 19 20 21 22 23]]]\n",
      "\n",
      "\n",
      " [[[ 0  1  2  3  4  5]\n",
      "   [ 6  7  8  9 10 11]\n",
      "   [12 13 14 15 16 17]\n",
      "   [18 19 20 21 22 23]]]] (2, 1, 4, 6)\n"
     ]
    }
   ],
   "source": [
    "d = np.stack((a, b), axis = 0)\n",
    "print(d, d.shape)"
   ]
  },
  {
   "cell_type": "code",
   "execution_count": 138,
   "id": "d0d52ca5-0b73-4510-8554-bb5c553dcb97",
   "metadata": {},
   "outputs": [
    {
     "name": "stdout",
     "output_type": "stream",
     "text": [
      "[[[ 0  1  2  3  4  5]\n",
      "  [ 6  7  8  9 10 11]\n",
      "  [12 13 14 15 16 17]\n",
      "  [18 19 20 21 22 23]]] (1, 4, 6)\n"
     ]
    }
   ],
   "source": [
    "print(a, a.shape)"
   ]
  }
 ],
 "metadata": {
  "kernelspec": {
   "display_name": "Python 3 (ipykernel)",
   "language": "python",
   "name": "python3"
  },
  "language_info": {
   "codemirror_mode": {
    "name": "ipython",
    "version": 3
   },
   "file_extension": ".py",
   "mimetype": "text/x-python",
   "name": "python",
   "nbconvert_exporter": "python",
   "pygments_lexer": "ipython3",
   "version": "3.11.5"
  }
 },
 "nbformat": 4,
 "nbformat_minor": 5
}
