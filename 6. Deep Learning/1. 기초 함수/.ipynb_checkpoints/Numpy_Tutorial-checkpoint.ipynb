{
 "cells": [
  {
   "cell_type": "markdown",
   "id": "0dee6963-af70-426f-b0b6-3a09f7ab1407",
   "metadata": {},
   "source": [
    "# Numpy\n",
    "Numpy는 Numerical Python의 줄임말로, 파이썬에서 산술 계산을 위한 가장 중요한 패키지다.</br>\n",
    "과학 계산을 위한 대부분의 패키지는 Numpy의 배열 객체를 데이터 교환을 위한 공통 언어처럼 사용한다."
   ]
  },
  {
   "cell_type": "markdown",
   "id": "850a0afb-e56f-4dfc-8098-5d5f3f8bd38e",
   "metadata": {},
   "source": [
    "## Numpy 라이브러리 import"
   ]
  },
  {
   "cell_type": "code",
   "execution_count": 1,
   "id": "ff0365c5-0108-4548-9e9f-57759a95f16b",
   "metadata": {},
   "outputs": [],
   "source": [
    "import numpy as np"
   ]
  },
  {
   "cell_type": "markdown",
   "id": "893019fc-4e22-460d-8e68-8921d0065999",
   "metadata": {},
   "source": [
    "### Numpy ndarray\n",
    "Numpy의 핵심 기능 중 하나는 ndarray라고 하는 N차원의 배열 객체다.</br>\n",
    "파이썬에서 할 수 있는 대규모 데이터 집합을 담을 수 있는 빠르고 유연한 자료구조이다."
   ]
  },
  {
   "cell_type": "code",
   "execution_count": 5,
   "id": "6c586de6-c8d4-4f31-a31c-1c7144c4f117",
   "metadata": {},
   "outputs": [
    {
     "name": "stdout",
     "output_type": "stream",
     "text": [
      "[1 2 3] <class 'numpy.ndarray'>\n"
     ]
    }
   ],
   "source": [
    "a = np.array([1, 2, 3])\n",
    "print(a, type(a))"
   ]
  },
  {
   "cell_type": "markdown",
   "id": "128c0885-e6ae-47fc-813a-aff9e9dc0a65",
   "metadata": {
    "jp-MarkdownHeadingCollapsed": true
   },
   "source": [
    "### List와 비교"
   ]
  },
  {
   "cell_type": "code",
   "execution_count": 21,
   "id": "5816993d-7dd3-404d-a1f8-bb77c27ea295",
   "metadata": {},
   "outputs": [
    {
     "name": "stdout",
     "output_type": "stream",
     "text": [
      "[1, 2, 3]\n",
      "[1 2 3]\n"
     ]
    }
   ],
   "source": [
    "L = [1, 2, 3]\n",
    "A = np.array([1, 2, 3])\n",
    "print(L)\n",
    "print(A)"
   ]
  },
  {
   "cell_type": "code",
   "execution_count": 22,
   "id": "9cdd4d1f-88da-4b18-9e4e-f15207198c1f",
   "metadata": {},
   "outputs": [
    {
     "name": "stdout",
     "output_type": "stream",
     "text": [
      "1\n",
      "2\n",
      "3\n"
     ]
    }
   ],
   "source": [
    "for i in L:\n",
    "    print(i)"
   ]
  },
  {
   "cell_type": "code",
   "execution_count": 23,
   "id": "3b28cc3e-f303-450b-87e7-be80d9b6b9c7",
   "metadata": {},
   "outputs": [
    {
     "name": "stdout",
     "output_type": "stream",
     "text": [
      "1\n",
      "2\n",
      "3\n"
     ]
    }
   ],
   "source": [
    "for i in A:\n",
    "    print(i)"
   ]
  },
  {
   "cell_type": "code",
   "execution_count": 24,
   "id": "138c9f6c-23f8-4f1f-ba28-ad4aef4ccce0",
   "metadata": {},
   "outputs": [
    {
     "name": "stdout",
     "output_type": "stream",
     "text": [
      "[1, 2, 3, 4]\n"
     ]
    }
   ],
   "source": [
    "L.append(4)\n",
    "print(L)"
   ]
  },
  {
   "cell_type": "code",
   "execution_count": 25,
   "id": "911681ef-c337-4445-bf05-9e42f55d6b2b",
   "metadata": {},
   "outputs": [
    {
     "name": "stdout",
     "output_type": "stream",
     "text": [
      "[1 2 3 4]\n"
     ]
    }
   ],
   "source": [
    "A = np.append(A, 4)\n",
    "print(A)"
   ]
  },
  {
   "cell_type": "code",
   "execution_count": 26,
   "id": "de852bfc-10a3-439e-83b2-1ecedf74f042",
   "metadata": {},
   "outputs": [
    {
     "name": "stdout",
     "output_type": "stream",
     "text": [
      "[1, 2, 3, 4, 5]\n"
     ]
    }
   ],
   "source": [
    "L = L + [5]\n",
    "print(L)"
   ]
  },
  {
   "cell_type": "code",
   "execution_count": 27,
   "id": "0afc65fd-f160-46c5-a071-761b1d80cdeb",
   "metadata": {},
   "outputs": [
    {
     "name": "stdout",
     "output_type": "stream",
     "text": [
      "[6 7 8 9]\n"
     ]
    }
   ],
   "source": [
    "A = A + np.array([5])\n",
    "print(A) # 브로드캐스팅 현상"
   ]
  },
  {
   "cell_type": "code",
   "execution_count": 29,
   "id": "24d696d6-c841-4284-974e-e96605f104cc",
   "metadata": {},
   "outputs": [
    {
     "name": "stdout",
     "output_type": "stream",
     "text": [
      "[2, 4, 6]\n"
     ]
    }
   ],
   "source": [
    "# list의 모든 원소를 2배로 만들기\n",
    "L = [1, 2, 3]\n",
    "L2 = []\n",
    "for i in L:\n",
    "    L2.append(i * 2)\n",
    "print(L2)"
   ]
  },
  {
   "cell_type": "code",
   "execution_count": 32,
   "id": "8e0d0892-4c6d-4dac-b2b4-3e34880364f1",
   "metadata": {},
   "outputs": [
    {
     "ename": "TypeError",
     "evalue": "append() missing 1 required positional argument: 'values'",
     "output_type": "error",
     "traceback": [
      "\u001b[0;31m---------------------------------------------------------------------------\u001b[0m",
      "\u001b[0;31mTypeError\u001b[0m                                 Traceback (most recent call last)",
      "Cell \u001b[0;32mIn[32], line 5\u001b[0m\n\u001b[1;32m      2\u001b[0m A2 \u001b[38;5;241m=\u001b[39m np\u001b[38;5;241m.\u001b[39marray([])\n\u001b[1;32m      4\u001b[0m \u001b[38;5;28;01mfor\u001b[39;00m i \u001b[38;5;129;01min\u001b[39;00m A:\n\u001b[0;32m----> 5\u001b[0m     A2 \u001b[38;5;241m=\u001b[39m np\u001b[38;5;241m.\u001b[39mappend(i \u001b[38;5;241m*\u001b[39m \u001b[38;5;241m2\u001b[39m)\n\u001b[1;32m      6\u001b[0m \u001b[38;5;28mprint\u001b[39m(A2)\n",
      "\u001b[0;31mTypeError\u001b[0m: append() missing 1 required positional argument: 'values'"
     ]
    }
   ],
   "source": [
    "A = np.array([1, 2, 3])\n",
    "A2 = np.array([])\n",
    "\n",
    "for i in A:\n",
    "    A2 = np.append(i * 2)\n",
    "print(A2)"
   ]
  },
  {
   "cell_type": "code",
   "execution_count": 33,
   "id": "5b3be3cc-41b3-4d6f-9b93-3a6c5b13fee3",
   "metadata": {},
   "outputs": [
    {
     "name": "stdout",
     "output_type": "stream",
     "text": [
      "[2 4 6]\n"
     ]
    }
   ],
   "source": [
    "A = np.array(L)\n",
    "A2 = A * 2\n",
    "print(A2)"
   ]
  },
  {
   "cell_type": "code",
   "execution_count": 34,
   "id": "550bf159-2f43-4150-90d4-eb98fece5d22",
   "metadata": {},
   "outputs": [
    {
     "data": {
      "text/plain": [
       "[1, 2, 3, 1, 2, 3]"
      ]
     },
     "execution_count": 34,
     "metadata": {},
     "output_type": "execute_result"
    }
   ],
   "source": [
    "L * 2"
   ]
  },
  {
   "cell_type": "markdown",
   "id": "bdcbfdb9-f13e-4e58-9db1-185e42b8328a",
   "metadata": {
    "jp-MarkdownHeadingCollapsed": true
   },
   "source": [
    "### 배열\n",
    "Numpy 배열은 모두 같은 유형의 값이며, 음수가 아닌 정수 튜플로 인덱싱된다. 차원의 수는 배열의 랭크이다.</br>\n",
    "배열의 shape은 각 차원별 배열 크기의 튜플이다. 중첩된 파이썬 리스트로부터 numpy배열을 초기화 할 수 있고 대괄호를 사용하여 요소에 접근할 수 있다."
   ]
  },
  {
   "cell_type": "code",
   "execution_count": 35,
   "id": "855f4859-2af3-4591-b2c1-255633079eca",
   "metadata": {},
   "outputs": [
    {
     "name": "stdout",
     "output_type": "stream",
     "text": [
      "[1 2 3]\n",
      "<class 'numpy.ndarray'> 1 (3,) int64\n"
     ]
    }
   ],
   "source": [
    "a = np.array([1, 2, 3])\n",
    "print(a)\n",
    "print(type(a), a.ndim, a.shape, a.dtype)"
   ]
  },
  {
   "cell_type": "code",
   "execution_count": 8,
   "id": "624c1a48-024f-424b-9616-495296e6b510",
   "metadata": {},
   "outputs": [
    {
     "name": "stdout",
     "output_type": "stream",
     "text": [
      "[9 2 3]\n"
     ]
    }
   ],
   "source": [
    "# asarray를 사용하면 원본 데이터를 그대로 복사(연결되어 있다), 값을 수정하면 원본도 바뀐다.\n",
    "b = np.asarray(a)\n",
    "\n",
    "print(b)"
   ]
  },
  {
   "cell_type": "code",
   "execution_count": 7,
   "id": "28c53802-9029-4f52-a280-444d8840219c",
   "metadata": {},
   "outputs": [
    {
     "name": "stdout",
     "output_type": "stream",
     "text": [
      "[9 2 3]\n",
      "[9 2 3]\n"
     ]
    }
   ],
   "source": [
    "b[0] = 9\n",
    "print(a)\n",
    "print(b)"
   ]
  },
  {
   "cell_type": "code",
   "execution_count": 9,
   "id": "3eebbcff-8049-437d-b0f5-a0d8896648b0",
   "metadata": {},
   "outputs": [
    {
     "name": "stdout",
     "output_type": "stream",
     "text": [
      "[9 2 3]\n"
     ]
    }
   ],
   "source": [
    "c = np.array(a)\n",
    "print(c)"
   ]
  },
  {
   "cell_type": "code",
   "execution_count": 10,
   "id": "389c9daf-ff4c-4862-bde5-f5c14de214e1",
   "metadata": {},
   "outputs": [
    {
     "name": "stdout",
     "output_type": "stream",
     "text": [
      "[9 2 3]\n",
      "[9 2 3]\n",
      "[1 2 3]\n"
     ]
    }
   ],
   "source": [
    "c[0] = 1\n",
    "print(a)\n",
    "print(b)\n",
    "print(c)"
   ]
  },
  {
   "cell_type": "code",
   "execution_count": 19,
   "id": "e7906650-1d37-4e68-9a5a-bad96f44c395",
   "metadata": {},
   "outputs": [
    {
     "name": "stdout",
     "output_type": "stream",
     "text": [
      "[[0. 0. 0. 0.]\n",
      " [0. 0. 0. 0.]\n",
      " [0. 0. 0. 0.]]\n",
      "<class 'numpy.ndarray'>\n",
      "float64\n"
     ]
    }
   ],
   "source": [
    "a = np.zeros((3, 4)) #3행 4열\n",
    "print(a)\n",
    "print(type(a))\n",
    "print(a.dtype)"
   ]
  },
  {
   "cell_type": "code",
   "execution_count": 14,
   "id": "519a5360-97aa-4654-9f67-f2be681ede92",
   "metadata": {},
   "outputs": [
    {
     "name": "stdout",
     "output_type": "stream",
     "text": [
      "[[1. 1.]\n",
      " [1. 1.]\n",
      " [1. 1.]\n",
      " [1. 1.]\n",
      " [1. 1.]]\n"
     ]
    }
   ],
   "source": [
    "b = np.ones((5,2))\n",
    "print(b)"
   ]
  },
  {
   "cell_type": "code",
   "execution_count": 15,
   "id": "a4a3c5c8-c2bf-4272-8c8f-253235ffd916",
   "metadata": {},
   "outputs": [
    {
     "name": "stdout",
     "output_type": "stream",
     "text": [
      "[[4 4 4]\n",
      " [4 4 4]]\n"
     ]
    }
   ],
   "source": [
    "c = np.full((2,3), 4)\n",
    "print(c)"
   ]
  },
  {
   "cell_type": "code",
   "execution_count": 23,
   "id": "849515c9-d08b-4e89-98a9-feafc5f25ca3",
   "metadata": {},
   "outputs": [
    {
     "name": "stdout",
     "output_type": "stream",
     "text": [
      "[[ 2.60605835e-31 -5.21211670e-31  1.30302917e-31]\n",
      " [-5.21211670e-31  1.13363538e-30 -3.51817877e-31]\n",
      " [ 1.30302917e-31 -3.51817877e-31  2.01969522e-31]]\n"
     ]
    }
   ],
   "source": [
    "d = np.empty((3,3))\n",
    "print(d)"
   ]
  },
  {
   "cell_type": "code",
   "execution_count": 25,
   "id": "080a0dbc-e8a8-4e76-a645-f05ec7565f4b",
   "metadata": {},
   "outputs": [
    {
     "name": "stdout",
     "output_type": "stream",
     "text": [
      "[[0. 0. 0. 0.]\n",
      " [0. 0. 0. 0.]\n",
      " [0. 0. 0. 0.]]\n",
      "[[1. 1. 1. 1.]\n",
      " [1. 1. 1. 1.]\n",
      " [1. 1. 1. 1.]]\n",
      "[[2. 2. 2. 2.]\n",
      " [2. 2. 2. 2.]\n",
      " [2. 2. 2. 2.]]\n",
      "[[2. 2. 2. 2.]\n",
      " [2. 2. 2. 2.]\n",
      " [2. 2. 2. 2.]]\n"
     ]
    }
   ],
   "source": [
    "e = np.zeros_like(a)\n",
    "f = np.ones_like(a)\n",
    "g = np.full_like(a, 2)\n",
    "h = np.empty_like(a)\n",
    "print(e)\n",
    "print(f)\n",
    "print(g)\n",
    "print(h)"
   ]
  },
  {
   "cell_type": "code",
   "execution_count": 28,
   "id": "5c1b7b0b-a197-4b1d-bdd6-415039e7e0b9",
   "metadata": {},
   "outputs": [
    {
     "name": "stdout",
     "output_type": "stream",
     "text": [
      "[[1. 0. 0.]\n",
      " [0. 1. 0.]\n",
      " [0. 0. 1.]]\n",
      "[[1. 0. 0. 0. 0. 0. 0. 0. 0. 0.]\n",
      " [0. 1. 0. 0. 0. 0. 0. 0. 0. 0.]\n",
      " [0. 0. 1. 0. 0. 0. 0. 0. 0. 0.]\n",
      " [0. 0. 0. 1. 0. 0. 0. 0. 0. 0.]\n",
      " [0. 0. 0. 0. 1. 0. 0. 0. 0. 0.]\n",
      " [0. 0. 0. 0. 0. 1. 0. 0. 0. 0.]\n",
      " [0. 0. 0. 0. 0. 0. 1. 0. 0. 0.]\n",
      " [0. 0. 0. 0. 0. 0. 0. 1. 0. 0.]\n",
      " [0. 0. 0. 0. 0. 0. 0. 0. 1. 0.]\n",
      " [0. 0. 0. 0. 0. 0. 0. 0. 0. 1.]]\n"
     ]
    }
   ],
   "source": [
    "# 항등행렬, 대각선 방향으로 1을 채우고 나머지는 0\n",
    "i = np.eye(3)\n",
    "j = np.identity(10)\n",
    "print(i)\n",
    "print(j)"
   ]
  },
  {
   "cell_type": "code",
   "execution_count": 36,
   "id": "9a84cfeb-a7ef-43df-955d-a2073510a029",
   "metadata": {},
   "outputs": [
    {
     "name": "stdout",
     "output_type": "stream",
     "text": [
      "[0 1 2 3 4 5 6 7 8 9]\n"
     ]
    }
   ],
   "source": [
    "k = np.arange(10)\n",
    "print(k)"
   ]
  },
  {
   "cell_type": "code",
   "execution_count": 43,
   "id": "c4551aae-18f1-4de8-a018-3bd9f1e5506e",
   "metadata": {},
   "outputs": [
    {
     "name": "stdout",
     "output_type": "stream",
     "text": [
      "[10  9  8  7  6  5  4  3  2  1]\n"
     ]
    }
   ],
   "source": [
    "k = np.arange(10, 0, -1)\n",
    "print(k)"
   ]
  },
  {
   "cell_type": "code",
   "execution_count": 35,
   "id": "0ca8c6a3-946b-492c-89dd-f8eef3482895",
   "metadata": {},
   "outputs": [
    {
     "name": "stdout",
     "output_type": "stream",
     "text": [
      "1\n",
      "2\n",
      "3\n",
      "4\n",
      "5\n",
      "6\n",
      "7\n",
      "8\n",
      "9\n"
     ]
    }
   ],
   "source": [
    "for i in range(1, 10):\n",
    "    print(i)"
   ]
  },
  {
   "cell_type": "code",
   "execution_count": 41,
   "id": "4d9d7da0-7491-465a-9ec2-c75593e831ce",
   "metadata": {},
   "outputs": [
    {
     "name": "stdout",
     "output_type": "stream",
     "text": [
      "[[0.76777479 0.950071  ]\n",
      " [0.99460117 0.85262658]]\n"
     ]
    }
   ],
   "source": [
    "# uniform distribution\n",
    "I = np.random.rand(2,2)\n",
    "print(I)"
   ]
  },
  {
   "cell_type": "code",
   "execution_count": 42,
   "id": "39e6f9da-a095-4a30-a47f-2833008cb858",
   "metadata": {},
   "outputs": [
    {
     "name": "stdout",
     "output_type": "stream",
     "text": [
      "[[-1.80815784  0.38622606]\n",
      " [-0.96925605  0.28784517]]\n"
     ]
    }
   ],
   "source": [
    "# normal distribution\n",
    "m = np.random.randn(2,2)\n",
    "print(m)"
   ]
  },
  {
   "cell_type": "markdown",
   "id": "4f8cee0b-dd85-47f9-abcc-8c912840d2c0",
   "metadata": {
    "jp-MarkdownHeadingCollapsed": true
   },
   "source": [
    "### 배열의 dtype"
   ]
  },
  {
   "cell_type": "code",
   "execution_count": 46,
   "id": "90061c72-98b5-4382-8e42-3fa887da56bf",
   "metadata": {},
   "outputs": [
    {
     "name": "stdout",
     "output_type": "stream",
     "text": [
      "[1 2 3] [1. 2. 3.] [1 2 3]\n",
      "int64 float64 int32\n"
     ]
    }
   ],
   "source": [
    "a = np.array([1, 2, 3])\n",
    "b = np.array([1, 2, 3], dtype = np.float64)\n",
    "c = np.array([1, 2, 3], dtype = np.int32)\n",
    "\n",
    "print(a, b, c)\n",
    "print(a.dtype, b.dtype, c.dtype)"
   ]
  },
  {
   "cell_type": "code",
   "execution_count": 48,
   "id": "384e562c-d143-424d-a6e4-fa96085ff32b",
   "metadata": {},
   "outputs": [
    {
     "name": "stdout",
     "output_type": "stream",
     "text": [
      "int8 int16 int32 int64\n"
     ]
    }
   ],
   "source": [
    "d = np.array([1, 2, 3], dtype = 'i1')\n",
    "e = np.array([1, 2, 3], dtype = 'i2')\n",
    "f = np.array([1, 2, 3], dtype = 'i4')\n",
    "g = np.array([1, 2, 3], dtype = 'i8')\n",
    "\n",
    "print(d.dtype, e.dtype, f.dtype, g.dtype)"
   ]
  },
  {
   "cell_type": "code",
   "execution_count": 49,
   "id": "cdda3867-0486-40e5-82db-5d1754b462d7",
   "metadata": {},
   "outputs": [
    {
     "name": "stdout",
     "output_type": "stream",
     "text": [
      "uint8 uint16 uint32 uint64\n"
     ]
    }
   ],
   "source": [
    "d = np.array([1, 2, 3], dtype = 'u1')\n",
    "e = np.array([1, 2, 3], dtype = 'u2')\n",
    "f = np.array([1, 2, 3], dtype = 'u4')\n",
    "g = np.array([1, 2, 3], dtype = 'u8')\n",
    "\n",
    "print(d.dtype, e.dtype, f.dtype, g.dtype)"
   ]
  },
  {
   "cell_type": "code",
   "execution_count": 50,
   "id": "bac29d6a-a380-49a6-91c0-3414424c5c12",
   "metadata": {},
   "outputs": [
    {
     "name": "stdout",
     "output_type": "stream",
     "text": [
      "float16 float32 float64 float128\n"
     ]
    }
   ],
   "source": [
    "d = np.array([1, 2, 3], dtype = 'f2')\n",
    "e = np.array([1, 2, 3], dtype = 'f4')\n",
    "f = np.array([1, 2, 3], dtype = 'f8')\n",
    "g = np.array([1, 2, 3], dtype = 'f16')\n",
    "\n",
    "print(d.dtype, e.dtype, f.dtype, g.dtype)"
   ]
  },
  {
   "cell_type": "code",
   "execution_count": 55,
   "id": "f60d27b8-fa60-4106-8f08-3b0b1f3c7167",
   "metadata": {},
   "outputs": [
    {
     "name": "stdout",
     "output_type": "stream",
     "text": [
      "int32 float64 float128\n"
     ]
    }
   ],
   "source": [
    "d = np.array([1, 2, 3], dtype = 'i')\n",
    "e = np.array([1, 2, 3], dtype = 'd')\n",
    "f = np.array([1, 2, 3], dtype = 'g')\n",
    "\n",
    "print(d.dtype, e.dtype, f.dtype)"
   ]
  },
  {
   "cell_type": "code",
   "execution_count": 58,
   "id": "b7ea74b2-ff57-4def-96c7-a77a607ca236",
   "metadata": {},
   "outputs": [
    {
     "name": "stdout",
     "output_type": "stream",
     "text": [
      "float64\n"
     ]
    }
   ],
   "source": [
    "d = d.astype(np.float64)\n",
    "print(d.dtype)"
   ]
  },
  {
   "cell_type": "code",
   "execution_count": 61,
   "id": "2679e768-9c4e-48ac-bc4a-15c3740a172e",
   "metadata": {},
   "outputs": [],
   "source": [
    "j = f.astype(f.dtype)"
   ]
  },
  {
   "cell_type": "raw",
   "id": "071af6d6-5539-4239-bddd-12983958fd86",
   "metadata": {},
   "source": [
    "print(j.dtype)"
   ]
  },
  {
   "cell_type": "markdown",
   "id": "6e3a8683-2785-46b3-9ed4-0277c7b57cca",
   "metadata": {},
   "source": [
    "### 배열 Indexing(색인)과 slicing"
   ]
  },
  {
   "cell_type": "code",
   "execution_count": 74,
   "id": "d243d8f2-89ef-4eea-a8ab-6d00c4ece2c7",
   "metadata": {},
   "outputs": [
    {
     "name": "stdout",
     "output_type": "stream",
     "text": [
      "[0 1 2 3 4 5 6 7 8 9]\n"
     ]
    }
   ],
   "source": [
    "a = np.arange(10)\n",
    "print(a)"
   ]
  },
  {
   "cell_type": "code",
   "execution_count": 75,
   "id": "3e00d6ce-19e3-4f47-9935-a5cda9da7045",
   "metadata": {},
   "outputs": [
    {
     "name": "stdout",
     "output_type": "stream",
     "text": [
      "5\n",
      "0\n"
     ]
    }
   ],
   "source": [
    "print(a[5])\n",
    "print(a[0])"
   ]
  },
  {
   "cell_type": "code",
   "execution_count": 76,
   "id": "1bd9342d-b386-489e-87fa-6c28961b6217",
   "metadata": {},
   "outputs": [
    {
     "name": "stdout",
     "output_type": "stream",
     "text": [
      "[5 6 7]\n"
     ]
    }
   ],
   "source": [
    "print(a[5:8])"
   ]
  },
  {
   "cell_type": "code",
   "execution_count": 77,
   "id": "083376fc-f524-4941-b8ea-ae0781a9c6d3",
   "metadata": {},
   "outputs": [
    {
     "name": "stdout",
     "output_type": "stream",
     "text": [
      "9\n"
     ]
    }
   ],
   "source": [
    "print(a[-1])"
   ]
  },
  {
   "cell_type": "code",
   "execution_count": 79,
   "id": "1820a636-c6f5-4ae0-ad05-3539d6166b6e",
   "metadata": {},
   "outputs": [
    {
     "name": "stdout",
     "output_type": "stream",
     "text": [
      "[7 8]\n"
     ]
    }
   ],
   "source": [
    "print(a[7:-1])"
   ]
  },
  {
   "cell_type": "code",
   "execution_count": 80,
   "id": "bcfa9898-effd-422c-a793-2098f54cf2d2",
   "metadata": {},
   "outputs": [
    {
     "name": "stdout",
     "output_type": "stream",
     "text": [
      "[ 0  1  2  3  4 10 10 10  8  9]\n"
     ]
    }
   ],
   "source": [
    "a[5:8] = 10\n",
    "print(a)"
   ]
  },
  {
   "cell_type": "markdown",
   "id": "5c3697ec-ffbb-4e76-8ea6-4874e787ec9c",
   "metadata": {},
   "source": [
    "#### indexing을 사용하면 항상 랭크가 감소합니다. 반면에 slicing을 사용하면 차원이 유지됩니다."
   ]
  },
  {
   "cell_type": "code",
   "execution_count": 81,
   "id": "d6ed6463-2cdf-4e50-9711-b1274d7031f3",
   "metadata": {},
   "outputs": [
    {
     "name": "stdout",
     "output_type": "stream",
     "text": [
      "[ 1  2  3  4  5  6  7  8  9 10 11 12]\n",
      "(12,)\n",
      "1\n"
     ]
    }
   ],
   "source": [
    "b = np.arange(1, 13)\n",
    "print(b)\n",
    "print(b.shape)\n",
    "print(b.ndim)"
   ]
  },
  {
   "cell_type": "code",
   "execution_count": 83,
   "id": "2280d203-3da2-49a8-ad14-3b49355276e6",
   "metadata": {},
   "outputs": [
    {
     "name": "stdout",
     "output_type": "stream",
     "text": [
      "2 () 0\n",
      "[2] (1,) 1\n"
     ]
    }
   ],
   "source": [
    "indexing = b[1]\n",
    "slicing = b[1:2]\n",
    "print(indexing, indexing.shape, indexing.ndim)\n",
    "print(slicing, slicing.shape, slicing.ndim)"
   ]
  },
  {
   "cell_type": "markdown",
   "id": "155e7318-1054-407d-9960-415dc5b2cfcf",
   "metadata": {},
   "source": [
    "이것은 Indexing과 slicing을 함께 사용할 때도 마찬가지이다. Indexing의 개수만큼 랭크는 감소한다."
   ]
  },
  {
   "cell_type": "code",
   "execution_count": 84,
   "id": "25abd83f-8c17-4802-aee3-1c5aa8dcd609",
   "metadata": {},
   "outputs": [
    {
     "name": "stdout",
     "output_type": "stream",
     "text": [
      "[[ 1  2  3  4]\n",
      " [ 5  6  7  8]\n",
      " [ 9 10 11 12]]\n",
      "(3, 4)\n",
      "2\n"
     ]
    }
   ],
   "source": [
    "b = b.reshape(3, 4)\n",
    "print(b)\n",
    "print(b.shape)\n",
    "print(b.ndim)"
   ]
  },
  {
   "cell_type": "code",
   "execution_count": 86,
   "id": "ba9daac1-4ad1-4029-87e5-66b7d36f5612",
   "metadata": {},
   "outputs": [
    {
     "name": "stdout",
     "output_type": "stream",
     "text": [
      "[5 6 7 8] (4,) 1\n",
      "[[5 6 7 8]] (1, 4) 2\n"
     ]
    }
   ],
   "source": [
    "row_r1 = b[1, : ]\n",
    "row_r2 = b[1:2, :]\n",
    "print(row_r1, row_r1.shape, row_r1.ndim)\n",
    "print(row_r2, row_r2.shape, row_r2.ndim)"
   ]
  },
  {
   "cell_type": "markdown",
   "id": "b6237409-70e0-4d19-89c8-609d3f6a7012",
   "metadata": {},
   "source": [
    "#### slicing examples"
   ]
  },
  {
   "cell_type": "code",
   "execution_count": 87,
   "id": "7ffe17f6-a24a-41b5-a4a3-bf68c8e491ab",
   "metadata": {},
   "outputs": [
    {
     "name": "stdout",
     "output_type": "stream",
     "text": [
      "[[[ 0  1  2  3]\n",
      "  [ 4  5  6  7]\n",
      "  [ 8  9 10 11]]\n",
      "\n",
      " [[12 13 14 15]\n",
      "  [16 17 18 19]\n",
      "  [20 21 22 23]]]\n",
      "(2, 3, 4)\n"
     ]
    }
   ],
   "source": [
    "c = np.arange(24).reshape(2,3,4)\n",
    "print(c)\n",
    "print(c.shape)"
   ]
  },
  {
   "cell_type": "code",
   "execution_count": 88,
   "id": "38e3f11a-c42a-4a1b-a02a-e22924d2623a",
   "metadata": {},
   "outputs": [
    {
     "name": "stdout",
     "output_type": "stream",
     "text": [
      "[[[ 0  1  2  3]\n",
      "  [ 4  5  6  7]]\n",
      "\n",
      " [[ 8  9 10 11]\n",
      "  [12 13 14 15]]\n",
      "\n",
      " [[16 17 18 19]\n",
      "  [20 21 22 23]]]\n"
     ]
    }
   ],
   "source": [
    "c = np.arange(24).reshape(3,2,4)\n",
    "print(c)"
   ]
  },
  {
   "cell_type": "code",
   "execution_count": 105,
   "id": "c8ff1ab1-dc37-4692-b4ee-eb9a5a603ca9",
   "metadata": {},
   "outputs": [
    {
     "name": "stdout",
     "output_type": "stream",
     "text": [
      "[[[ 3]\n",
      "  [ 7]]\n",
      "\n",
      " [[11]\n",
      "  [15]]\n",
      "\n",
      " [[19]\n",
      "  [23]]]\n"
     ]
    }
   ],
   "source": [
    "print(c[:,:,3:])"
   ]
  },
  {
   "cell_type": "code",
   "execution_count": 107,
   "id": "5e436ea2-337d-407f-84d9-31205bf1e6cc",
   "metadata": {},
   "outputs": [
    {
     "name": "stdout",
     "output_type": "stream",
     "text": [
      "[[[ 0]\n",
      "  [ 4]]\n",
      "\n",
      " [[ 8]\n",
      "  [12]]\n",
      "\n",
      " [[16]\n",
      "  [20]]]\n"
     ]
    }
   ],
   "source": [
    "print(c[:,:,:1])"
   ]
  },
  {
   "cell_type": "code",
   "execution_count": 106,
   "id": "14635b90-f82d-4884-a7bf-e8ebf1d16fb2",
   "metadata": {},
   "outputs": [
    {
     "name": "stdout",
     "output_type": "stream",
     "text": [
      "[[[0 1 2 3]\n",
      "  [4 5 6 7]]]\n"
     ]
    }
   ],
   "source": [
    "print(c[:1,...])"
   ]
  },
  {
   "cell_type": "code",
   "execution_count": 118,
   "id": "843c7b45-a505-44ee-aa85-03269b9664b3",
   "metadata": {},
   "outputs": [
    {
     "name": "stdout",
     "output_type": "stream",
     "text": [
      "[[[0 1 2 3]\n",
      "  [4 5 6 7]]]\n",
      "[[[0 1 2 3]\n",
      "  [4 5 6 7]]]\n"
     ]
    }
   ],
   "source": [
    "print(c[0:1])\n",
    "print(c[0::3])"
   ]
  },
  {
   "cell_type": "markdown",
   "id": "d51670ab-6511-43a6-8d0e-3db2dec0c102",
   "metadata": {},
   "source": [
    "### boolean indexing"
   ]
  },
  {
   "cell_type": "code",
   "execution_count": 120,
   "id": "da1abc06-a655-4a4c-aac3-68ecd78504ea",
   "metadata": {},
   "outputs": [
    {
     "name": "stdout",
     "output_type": "stream",
     "text": [
      "[[[ 0  1  2  3]\n",
      "  [ 4  5  6  7]\n",
      "  [ 8  9 10 11]]\n",
      "\n",
      " [[12 13 14 15]\n",
      "  [16 17 18 19]\n",
      "  [20 21 22 23]]]\n"
     ]
    }
   ],
   "source": [
    "c = np.arange(24).reshape(2,3,4)\n",
    "print(c)"
   ]
  },
  {
   "cell_type": "code",
   "execution_count": 121,
   "id": "034b6ee9-5bbc-45bd-a477-1f1870a7921c",
   "metadata": {},
   "outputs": [
    {
     "name": "stdout",
     "output_type": "stream",
     "text": [
      "[[[False False False False]\n",
      "  [False False False False]\n",
      "  [False False False  True]]\n",
      "\n",
      " [[ True  True  True  True]\n",
      "  [ True  True  True  True]\n",
      "  [ True  True  True  True]]]\n"
     ]
    }
   ],
   "source": [
    "bool_idx = (c > 10)\n",
    "print(bool_idx)"
   ]
  },
  {
   "cell_type": "code",
   "execution_count": 122,
   "id": "fd119cda-a299-4e77-b9d2-caf149b8c10f",
   "metadata": {},
   "outputs": [
    {
     "name": "stdout",
     "output_type": "stream",
     "text": [
      "[11 12 13 14 15 16 17 18 19 20 21 22 23]\n"
     ]
    }
   ],
   "source": [
    "print(c[bool_idx])"
   ]
  },
  {
   "cell_type": "code",
   "execution_count": 123,
   "id": "ff03edfa-37d0-4b90-bd6c-e224951c6fef",
   "metadata": {},
   "outputs": [
    {
     "name": "stdout",
     "output_type": "stream",
     "text": [
      "[[[ 0  1  2  3]\n",
      "  [ 4  5  6  7]\n",
      "  [ 8  9 10 -1]]\n",
      "\n",
      " [[-1 -1 -1 -1]\n",
      "  [-1 -1 -1 -1]\n",
      "  [-1 -1 -1 -1]]]\n"
     ]
    }
   ],
   "source": [
    "c[c>10] = -1\n",
    "print(c)"
   ]
  },
  {
   "cell_type": "markdown",
   "id": "ded5227f-02ee-4c1f-a2ea-ff5f39c5e226",
   "metadata": {},
   "source": [
    "### fancy indexing"
   ]
  },
  {
   "cell_type": "code",
   "execution_count": null,
   "id": "4ba7ee8b-1d73-4a20-bd44-c4cc3afb660f",
   "metadata": {},
   "outputs": [],
   "source": [
    "d = np.arange(8).reshape(8,-1)\n",
    "print(d, d.shape)"
   ]
  },
  {
   "cell_type": "code",
   "execution_count": null,
   "id": "4bf57e4e-7e8d-47b8-be30-7b277f274bb5",
   "metadata": {},
   "outputs": [],
   "source": [
    "d = np.hstack((d, d, d, d))\n",
    "print(d, d.shape)"
   ]
  }
 ],
 "metadata": {
  "kernelspec": {
   "display_name": "Python 3 (ipykernel)",
   "language": "python",
   "name": "python3"
  },
  "language_info": {
   "codemirror_mode": {
    "name": "ipython",
    "version": 3
   },
   "file_extension": ".py",
   "mimetype": "text/x-python",
   "name": "python",
   "nbconvert_exporter": "python",
   "pygments_lexer": "ipython3",
   "version": "3.11.5"
  }
 },
 "nbformat": 4,
 "nbformat_minor": 5
}
