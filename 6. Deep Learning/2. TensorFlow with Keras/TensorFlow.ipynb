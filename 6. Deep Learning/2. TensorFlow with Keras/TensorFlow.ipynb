{
 "cells": [
  {
   "cell_type": "markdown",
   "id": "c2977e28-f6b6-4b2d-bc8e-e43fe7767fd0",
   "metadata": {},
   "source": [
    "# Tensor\n",
    "Tensor는 multi-dimensional array를 나타내는 말로, TensorFlow의 기본 data type이다."
   ]
  },
  {
   "cell_type": "code",
   "execution_count": 8,
   "id": "1548adb5-3f54-4f6c-a616-efe7ebc9df74",
   "metadata": {},
   "outputs": [],
   "source": [
    "import tensorflow as tf\n",
    "from tensorflow import keras\n",
    "import numpy as np"
   ]
  },
  {
   "cell_type": "code",
   "execution_count": 2,
   "id": "68e41a7b-753a-4f27-894f-216d8f4f8d3c",
   "metadata": {},
   "outputs": [
    {
     "name": "stdout",
     "output_type": "stream",
     "text": [
      "tf.Tensor([3. 3.], shape=(2,), dtype=float32)\n"
     ]
    }
   ],
   "source": [
    "# hello world\n",
    "hello = tf.constant([3,3], dtype = tf.float32)\n",
    "print(hello)"
   ]
  },
  {
   "cell_type": "code",
   "execution_count": 4,
   "id": "3a939b2e-5f37-40a4-9235-8941868aea54",
   "metadata": {},
   "outputs": [
    {
     "name": "stdout",
     "output_type": "stream",
     "text": [
      "tf.Tensor(\n",
      "[[1. 2.]\n",
      " [3. 4.]], shape=(2, 2), dtype=float32)\n",
      "<class 'tensorflow.python.framework.ops.EagerTensor'>\n"
     ]
    }
   ],
   "source": [
    "# 상수형 tensor는 아래와 같이 만들 수 있다.\n",
    "# 출력하면 tensor의 값과 함께, shape와 내부의 data type을 함께 볼 수 있다.\n",
    "\n",
    "x = tf.constant([[1.0, 2.0],\n",
    "                 [3.0, 4.0]])\n",
    "print(x)\n",
    "print(type(x))"
   ]
  },
  {
   "cell_type": "code",
   "execution_count": 15,
   "id": "43d38544-3e9a-4970-9f91-c935a304f820",
   "metadata": {},
   "outputs": [
    {
     "name": "stdout",
     "output_type": "stream",
     "text": [
      "<class 'numpy.ndarray'>\n",
      "<class 'list'>\n",
      "[[1. 2.]\n",
      " [3. 4.]] (2, 2) 2\n"
     ]
    }
   ],
   "source": [
    "# 아래와 같이 numpy ndarray나 python의 list도 tensor로 바꿀 수 있다.\n",
    "x_np = np.array([[1.0, 2.0],\n",
    "                 [3.0, 4.0]])\n",
    "x_list = [[1.0, 2.0],\n",
    "          [3.0, 4.0]]\n",
    "\n",
    "print(type(x_np))\n",
    "print(type(x_list))\n",
    "print(x_np, x_np.shape, x_np.ndim)"
   ]
  },
  {
   "cell_type": "code",
   "execution_count": 17,
   "id": "c059ccbe-5d40-4a84-903f-f5be83c5f63c",
   "metadata": {},
   "outputs": [
    {
     "name": "stdout",
     "output_type": "stream",
     "text": [
      "tf.Tensor(\n",
      "[[1. 2.]\n",
      " [3. 4.]], shape=(2, 2), dtype=float64) <class 'tensorflow.python.framework.ops.EagerTensor'>\n",
      "tf.Tensor(\n",
      "[[1. 2.]\n",
      " [3. 4.]], shape=(2, 2), dtype=float32) <class 'tensorflow.python.framework.ops.EagerTensor'>\n"
     ]
    }
   ],
   "source": [
    "x_np = tf.convert_to_tensor(x_np)\n",
    "x_list = tf.convert_to_tensor(x_list)\n",
    "\n",
    "print(x_np, type(x_np))\n",
    "print(x_list, type(x_list))"
   ]
  },
  {
   "cell_type": "code",
   "execution_count": 20,
   "id": "4924b825-526d-4d45-85b6-734380d8cf68",
   "metadata": {},
   "outputs": [
    {
     "data": {
      "text/plain": [
       "array([[1., 2.],\n",
       "       [3., 4.]], dtype=float32)"
      ]
     },
     "execution_count": 20,
     "metadata": {},
     "output_type": "execute_result"
    }
   ],
   "source": [
    "# 반대로 tensor를 다음과 같이 Numpy ndarray로 바꿀 수 있다.\n",
    "x.numpy()"
   ]
  },
  {
   "cell_type": "code",
   "execution_count": 22,
   "id": "5772414d-97c9-4e87-b6f3-cae87483c76e",
   "metadata": {},
   "outputs": [
    {
     "name": "stdout",
     "output_type": "stream",
     "text": [
      "<class 'numpy.ndarray'>\n"
     ]
    }
   ],
   "source": [
    "print(type(x.numpy()))"
   ]
  },
  {
   "cell_type": "code",
   "execution_count": 26,
   "id": "be4891fc-4c32-450f-9bd0-d1b90356f724",
   "metadata": {},
   "outputs": [
    {
     "name": "stdout",
     "output_type": "stream",
     "text": [
      "tf.Tensor(\n",
      "[[1. 1. 1.]\n",
      " [1. 1. 1.]], shape=(2, 3), dtype=float32)\n",
      "[[1. 1. 1.]\n",
      " [1. 1. 1.]]\n"
     ]
    }
   ],
   "source": [
    "a = tf.ones((2,3))\n",
    "print(a)\n",
    "\n",
    "b = np.ones((2,3))\n",
    "print(b)"
   ]
  },
  {
   "cell_type": "code",
   "execution_count": 29,
   "id": "5a17a034-5819-4f17-8272-1032a89e26b7",
   "metadata": {},
   "outputs": [
    {
     "name": "stdout",
     "output_type": "stream",
     "text": [
      "tf.Tensor(\n",
      "[[1. 1. 1.]\n",
      " [1. 1. 1.]], shape=(2, 3), dtype=float32) tf.Tensor(\n",
      "[[0. 0. 0.]\n",
      " [0. 0. 0.]], shape=(2, 3), dtype=float32) tf.Tensor(\n",
      "[[2 2 2]\n",
      " [2 2 2]], shape=(2, 3), dtype=int32)\n"
     ]
    }
   ],
   "source": [
    "a = tf.ones((2,3))\n",
    "b = tf.zeros((2,3))\n",
    "c = tf.fill((2,3), 2)\n",
    "\n",
    "print(a, b, c)"
   ]
  },
  {
   "cell_type": "code",
   "execution_count": 31,
   "id": "c4cf9146-36fc-4291-a7f4-478d4da9d9bc",
   "metadata": {},
   "outputs": [
    {
     "name": "stdout",
     "output_type": "stream",
     "text": [
      "tf.Tensor(\n",
      "[[0 0 0]\n",
      " [0 0 0]], shape=(2, 3), dtype=int32) tf.Tensor(\n",
      "[[1 1 1]\n",
      " [1 1 1]], shape=(2, 3), dtype=int32)\n"
     ]
    }
   ],
   "source": [
    "# _like()를 하면 모양 뿐만 아니라 type까지 가져온다.\n",
    "d = tf.zeros_like(c)\n",
    "e = tf.ones_like(c)\n",
    "print(d, e)"
   ]
  },
  {
   "cell_type": "code",
   "execution_count": 32,
   "id": "c1114185-aa85-4f06-8963-d26c0f938a42",
   "metadata": {},
   "outputs": [
    {
     "name": "stdout",
     "output_type": "stream",
     "text": [
      "tf.Tensor(\n",
      "[[1. 0. 0.]\n",
      " [0. 1. 0.]\n",
      " [0. 0. 1.]], shape=(3, 3), dtype=float32)\n"
     ]
    }
   ],
   "source": [
    "f = tf.eye(3)\n",
    "print(f)"
   ]
  },
  {
   "cell_type": "code",
   "execution_count": 33,
   "id": "13e57874-10dd-44e5-8e4a-405a57d0c31b",
   "metadata": {},
   "outputs": [
    {
     "name": "stdout",
     "output_type": "stream",
     "text": [
      "tf.Tensor([0 1 2 3 4 5 6 7 8 9], shape=(10,), dtype=int32)\n"
     ]
    }
   ],
   "source": [
    "g = tf.range(10)\n",
    "print(g)"
   ]
  },
  {
   "cell_type": "code",
   "execution_count": 34,
   "id": "d5887ef4-ac75-49dc-9052-56a746cbb67a",
   "metadata": {},
   "outputs": [],
   "source": [
    "h = tf.random.uniform((2,2)) # np.rand\n",
    "i = tf.random.normal((2,2)) # np.randn"
   ]
  },
  {
   "cell_type": "markdown",
   "id": "33fec9fa-6a56-4c4a-800d-4a1f91af8d00",
   "metadata": {},
   "source": [
    "## Tensor의 속성"
   ]
  },
  {
   "cell_type": "code",
   "execution_count": 36,
   "id": "2338b6d0-8c28-41e3-8c94-c86e492d3a24",
   "metadata": {},
   "outputs": [
    {
     "name": "stdout",
     "output_type": "stream",
     "text": [
      "shape fo tensor: (3, 4)\n",
      "datatype fo tensor: <dtype: 'float32'>\n"
     ]
    }
   ],
   "source": [
    "tensor = tf.random.normal((3,4))\n",
    "\n",
    "print(f\"shape fo tensor: {tensor.shape}\")\n",
    "print(f\"datatype fo tensor: {tensor.dtype}\")"
   ]
  },
  {
   "cell_type": "code",
   "execution_count": 37,
   "id": "31d14c1a-38d6-4106-9822-69dd963ef85b",
   "metadata": {},
   "outputs": [
    {
     "name": "stdout",
     "output_type": "stream",
     "text": [
      "shape fo tensor: (4, 3)\n",
      "datatype fo tensor: <dtype: 'int32'>\n"
     ]
    }
   ],
   "source": [
    "tensor = tf.reshape(tensor, (4,3))\n",
    "tensor = tf.cast(tensor, tf.int32)\n",
    "\n",
    "print(f\"shape fo tensor: {tensor.shape}\")\n",
    "print(f\"datatype fo tensor: {tensor.dtype}\")"
   ]
  },
  {
   "cell_type": "markdown",
   "id": "c00b7f39-311d-4a7f-a7c8-4b8ce104df35",
   "metadata": {},
   "source": [
    "### Variable\n",
    "Variable은 변할 수 있는 상태를 저장하는데 사용되는 특별한 텐서이다.</br>\n",
    "딥 러닝에서는 학습해야하는 가중치(weight, bias)를 variable로 생성한다."
   ]
  },
  {
   "cell_type": "code",
   "execution_count": 43,
   "id": "15c5225a-b943-4f1b-b5bc-5fd75a1700ad",
   "metadata": {},
   "outputs": [
    {
     "name": "stdout",
     "output_type": "stream",
     "text": [
      "tf.Tensor(\n",
      "[[1. 1. 1. 1.]\n",
      " [1. 1. 1. 1.]\n",
      " [1. 1. 1. 1.]], shape=(3, 4), dtype=float32)\n"
     ]
    },
    {
     "ename": "TypeError",
     "evalue": "'tensorflow.python.framework.ops.EagerTensor' object does not support item assignment",
     "output_type": "error",
     "traceback": [
      "\u001b[0;31m---------------------------------------------------------------------------\u001b[0m",
      "\u001b[0;31mTypeError\u001b[0m                                 Traceback (most recent call last)",
      "Cell \u001b[0;32mIn[43], line 5\u001b[0m\n\u001b[1;32m      2\u001b[0m tensor \u001b[38;5;241m=\u001b[39m tf\u001b[38;5;241m.\u001b[39mones((\u001b[38;5;241m3\u001b[39m,\u001b[38;5;241m4\u001b[39m))\n\u001b[1;32m      3\u001b[0m \u001b[38;5;28mprint\u001b[39m(tensor)\n\u001b[0;32m----> 5\u001b[0m tensor[\u001b[38;5;241m0\u001b[39m,\u001b[38;5;241m0\u001b[39m] \u001b[38;5;241m=\u001b[39m \u001b[38;5;241m2.\u001b[39m\n",
      "\u001b[0;31mTypeError\u001b[0m: 'tensorflow.python.framework.ops.EagerTensor' object does not support item assignment"
     ]
    }
   ],
   "source": [
    "# tensor의 값 변경 - 변경 불가능\n",
    "tensor = tf.ones((3,4))\n",
    "print(tensor)\n",
    "\n",
    "tensor[0,0] = 2."
   ]
  },
  {
   "cell_type": "code",
   "execution_count": 48,
   "id": "24b9d671-1203-407a-8120-1fa14ae2d0b6",
   "metadata": {},
   "outputs": [
    {
     "name": "stdout",
     "output_type": "stream",
     "text": [
      "[[1. 1. 1. 1.]\n",
      " [1. 1. 1. 1.]\n",
      " [1. 1. 1. 1.]]\n",
      "[[2. 1. 1. 1.]\n",
      " [1. 1. 1. 1.]\n",
      " [1. 1. 1. 1.]]\n"
     ]
    }
   ],
   "source": [
    "test = np.ones((3,4))\n",
    "print(test)\n",
    "\n",
    "test[0,0] = 2\n",
    "print(test)"
   ]
  },
  {
   "cell_type": "code",
   "execution_count": 45,
   "id": "387f8435-8c8f-4c7d-b611-c2ea6e0c95cc",
   "metadata": {},
   "outputs": [
    {
     "name": "stdout",
     "output_type": "stream",
     "text": [
      "<tf.Variable 'Variable:0' shape=(3, 4) dtype=float32, numpy=\n",
      "array([[1., 1., 1., 1.],\n",
      "       [1., 1., 1., 1.],\n",
      "       [1., 1., 1., 1.]], dtype=float32)>\n",
      "<tf.Variable 'Variable:0' shape=(3, 4) dtype=float32, numpy=\n",
      "array([[2., 1., 1., 1.],\n",
      "       [1., 1., 1., 1.],\n",
      "       [1., 1., 1., 1.]], dtype=float32)>\n"
     ]
    }
   ],
   "source": [
    "# variable 만들기, 값 변경\n",
    "variable = tf.Variable(tensor)\n",
    "print(variable)\n",
    "\n",
    "variable[0,0].assign(2)\n",
    "print(variable)"
   ]
  },
  {
   "cell_type": "code",
   "execution_count": 50,
   "id": "5ce2635d-1791-4d34-a2d7-9dec3bade390",
   "metadata": {},
   "outputs": [
    {
     "name": "stdout",
     "output_type": "stream",
     "text": [
      "<tf.Variable 'Variable:0' shape=(2, 2) dtype=float32, numpy=\n",
      "array([[ 0.20620306, -0.75076514],\n",
      "       [-1.1637049 ,  0.05804265]], dtype=float32)>\n"
     ]
    }
   ],
   "source": [
    "# 초기값을 사용해서 Variable을 생성할 수 있다.\n",
    "initial_value = tf.random.normal(shape = (2,2))\n",
    "weight = tf.Variable(initial_value)\n",
    "print(weight)"
   ]
  },
  {
   "cell_type": "code",
   "execution_count": 51,
   "id": "b5ff88c7-2099-4e80-b4cf-f0c8c10600a3",
   "metadata": {},
   "outputs": [
    {
     "name": "stdout",
     "output_type": "stream",
     "text": [
      "<tf.Variable 'Variable:0' shape=(2, 2) dtype=float32, numpy=\n",
      "array([[ 2.        , -0.75076514],\n",
      "       [-1.1637049 ,  0.05804265]], dtype=float32)>\n"
     ]
    }
   ],
   "source": [
    "weight[0,0].assign(2)\n",
    "print(weight)"
   ]
  },
  {
   "cell_type": "code",
   "execution_count": 54,
   "id": "5d4bcc7d-5120-4da5-928c-5dcb452c9720",
   "metadata": {},
   "outputs": [
    {
     "name": "stdout",
     "output_type": "stream",
     "text": [
      "<tf.Variable 'Variable:0' shape=(2, 2) dtype=float32, numpy=\n",
      "array([[ 0.03770087, -0.54099184],\n",
      "       [-0.9948532 ,  0.86480314]], dtype=float32)>\n"
     ]
    }
   ],
   "source": [
    "# 아래와 같이 variable을 초기화해주는 initializer를 사용할 수 있다.\n",
    "weight = tf.Variable(tf.random_normal_initializer(stddev=1.)(shape=(2,2)))\n",
    "print(weight)"
   ]
  },
  {
   "cell_type": "code",
   "execution_count": 55,
   "id": "21eb1060-9daa-4317-899f-0dca1873551b",
   "metadata": {},
   "outputs": [
    {
     "name": "stdout",
     "output_type": "stream",
     "text": [
      "tf.Tensor(\n",
      "[[-0.37631673 -0.2799352 ]\n",
      " [ 0.9516725  -0.6419305 ]], shape=(2, 2), dtype=float32)\n",
      "<tf.Variable 'Variable:0' shape=(2, 2) dtype=float32, numpy=\n",
      "array([[-0.37631673, -0.2799352 ],\n",
      "       [ 0.9516725 , -0.6419305 ]], dtype=float32)>\n"
     ]
    }
   ],
   "source": [
    "# variabl은 .assing(value), .assign_add(increment), assign_sub(decrement)를 이용해 값을 갱신한다.\n",
    "new_value = tf.random.normal(shape=(2,2))\n",
    "print(new_value)\n",
    "weight.assign(new_value)\n",
    "print(weight)"
   ]
  },
  {
   "cell_type": "code",
   "execution_count": 56,
   "id": "21b04ecd-9ccf-4546-ad67-e09da832bf40",
   "metadata": {},
   "outputs": [
    {
     "name": "stdout",
     "output_type": "stream",
     "text": [
      "<tf.Variable 'Variable:0' shape=(2, 2) dtype=float32, numpy=\n",
      "array([[-1.3763168 , -1.2799352 ],\n",
      "       [-0.04832751, -1.6419306 ]], dtype=float32)>\n"
     ]
    }
   ],
   "source": [
    "add_value = tf.ones(shape=(2,2))\n",
    "weight.assign_sub(add_value)\n",
    "print(weight)"
   ]
  },
  {
   "cell_type": "code",
   "execution_count": 58,
   "id": "85568389-a1de-42f9-811a-bfcaf839ec47",
   "metadata": {},
   "outputs": [
    {
     "name": "stdout",
     "output_type": "stream",
     "text": [
      "tf.Tensor(\n",
      "[[1. 1.]\n",
      " [1. 1.]], shape=(2, 2), dtype=float32)\n",
      "<tf.Variable 'Variable:0' shape=(2, 2) dtype=float32, numpy=\n",
      "array([[0.6236832 , 0.72006476],\n",
      "       [1.9516726 , 0.35806942]], dtype=float32)>\n"
     ]
    }
   ],
   "source": [
    "print(add_value)\n",
    "weight.assign_add(add_value)\n",
    "print(weight)"
   ]
  },
  {
   "cell_type": "markdown",
   "id": "57c049f8-e43d-4b1a-a562-56b0e5cbef83",
   "metadata": {},
   "source": [
    "### indexing과 slicing"
   ]
  },
  {
   "cell_type": "code",
   "execution_count": 59,
   "id": "31d44e28-51f1-454a-9584-39b6b54dff81",
   "metadata": {},
   "outputs": [
    {
     "name": "stdout",
     "output_type": "stream",
     "text": [
      "tf.Tensor(\n",
      "[[ 1  2  3  4]\n",
      " [ 5  6  7  8]\n",
      " [ 9 10 11 12]], shape=(3, 4), dtype=int32)\n"
     ]
    }
   ],
   "source": [
    "a = tf.range(1, 13)\n",
    "a = tf.reshape(a, (3,4))\n",
    "print(a)"
   ]
  },
  {
   "cell_type": "code",
   "execution_count": 73,
   "id": "42c122fb-63a2-4ba1-8a3c-c0328080c98b",
   "metadata": {},
   "outputs": [
    {
     "name": "stdout",
     "output_type": "stream",
     "text": [
      "tf.Tensor([5 6 7 8], shape=(4,), dtype=int32)\n",
      "tf.Tensor(4, shape=(), dtype=int32)\n",
      "tf.Tensor([1 5 9], shape=(3,), dtype=int32)\n"
     ]
    }
   ],
   "source": [
    "# indexing\n",
    "print(a[1])\n",
    "print(a[0,-1])\n",
    "print(a[...,0])"
   ]
  },
  {
   "cell_type": "code",
   "execution_count": 75,
   "id": "b37b22ef-fe12-4162-bc55-ee4c3abc5666",
   "metadata": {},
   "outputs": [
    {
     "name": "stdout",
     "output_type": "stream",
     "text": [
      "tf.Tensor([[5 6 7 8]], shape=(1, 4), dtype=int32)\n",
      "tf.Tensor(\n",
      "[[3 4]\n",
      " [7 8]], shape=(2, 2), dtype=int32)\n"
     ]
    }
   ],
   "source": [
    "# slicing\n",
    "print(a[1:-1])\n",
    "print(a[:2, 2:])"
   ]
  },
  {
   "cell_type": "markdown",
   "id": "ffa9f9fa-8fc7-4663-83a3-c10a107338e1",
   "metadata": {},
   "source": [
    "### Transpose"
   ]
  },
  {
   "cell_type": "code",
   "execution_count": 78,
   "id": "80d3a0b4-70fd-4aa9-b4a8-0dc2ddfff0ba",
   "metadata": {},
   "outputs": [
    {
     "name": "stdout",
     "output_type": "stream",
     "text": [
      "tf.Tensor(\n",
      "[[[ 0  1  2  3]\n",
      "  [ 4  5  6  7]]\n",
      "\n",
      " [[ 8  9 10 11]\n",
      "  [12 13 14 15]]], shape=(2, 2, 4), dtype=int32)\n"
     ]
    }
   ],
   "source": [
    "a = tf.range(16)\n",
    "a = tf.reshape(a, (2, 2, -1))\n",
    "print(a)"
   ]
  },
  {
   "cell_type": "code",
   "execution_count": 79,
   "id": "44d849ea-1dfc-4bca-ab19-214251e924e1",
   "metadata": {},
   "outputs": [
    {
     "name": "stdout",
     "output_type": "stream",
     "text": [
      "tf.Tensor(\n",
      "[[[ 0  4]\n",
      "  [ 8 12]]\n",
      "\n",
      " [[ 1  5]\n",
      "  [ 9 13]]\n",
      "\n",
      " [[ 2  6]\n",
      "  [10 14]]\n",
      "\n",
      " [[ 3  7]\n",
      "  [11 15]]], shape=(4, 2, 2), dtype=int32)\n"
     ]
    }
   ],
   "source": [
    "b = tf.transpose(a, (2, 0, 1))\n",
    "print(b)"
   ]
  }
 ],
 "metadata": {
  "kernelspec": {
   "display_name": "Python 3 (ipykernel)",
   "language": "python",
   "name": "python3"
  },
  "language_info": {
   "codemirror_mode": {
    "name": "ipython",
    "version": 3
   },
   "file_extension": ".py",
   "mimetype": "text/x-python",
   "name": "python",
   "nbconvert_exporter": "python",
   "pygments_lexer": "ipython3",
   "version": "3.11.5"
  }
 },
 "nbformat": 4,
 "nbformat_minor": 5
}
