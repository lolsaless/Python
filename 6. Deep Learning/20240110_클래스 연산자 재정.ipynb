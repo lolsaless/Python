{
 "cells": [
  {
   "cell_type": "code",
   "execution_count": 3,
   "id": "46323e9b-7284-44a4-b05c-8746bf10870e",
   "metadata": {},
   "outputs": [
    {
     "name": "stdout",
     "output_type": "stream",
     "text": [
      "<__main__.Point object at 0x111ccd350>\n",
      "<__main__.Point object at 0x111f742d0>\n",
      "3, 4\n",
      "2, 7\n"
     ]
    }
   ],
   "source": [
    "class Point:\n",
    "    def __init__(self, x, y):\n",
    "        self.x = x\n",
    "        self.y = y\n",
    "\n",
    "    def print_pt(self):\n",
    "        print('{}, {}'.format(self.x, self.y))\n",
    "\n",
    "p1 = Point(3, 4)\n",
    "p2 = Point(2, 7)\n",
    "\n",
    "print(p1)\n",
    "print(p2)\n",
    "\n",
    "p1.print_pt()\n",
    "p2.print_pt()"
   ]
  },
  {
   "cell_type": "code",
   "execution_count": 2,
   "id": "e24de958-1eb1-44ec-8870-644870e1383a",
   "metadata": {},
   "outputs": [
    {
     "name": "stdout",
     "output_type": "stream",
     "text": [
      "(3, 4)\n",
      "(2, 7)\n"
     ]
    }
   ],
   "source": [
    "class Point:\n",
    "    def __init__(self, x, y):\n",
    "        self.x = x\n",
    "        self.y = y\n",
    "\n",
    "    def __str__(self):\n",
    "        return '({}, {})'.format(self.x, self.y)\n",
    "\n",
    "p1 = Point(3, 4)\n",
    "p2 = Point(2, 7)\n",
    "\n",
    "print(p1)\n",
    "print(p2)"
   ]
  },
  {
   "cell_type": "code",
   "execution_count": 1,
   "id": "eb025097-a308-444d-8faf-23b0f117929a",
   "metadata": {},
   "outputs": [
    {
     "name": "stdout",
     "output_type": "stream",
     "text": [
      "(3, 4)\n",
      "(2, 7)\n",
      "(5, 11)\n"
     ]
    }
   ],
   "source": [
    "class Point:\n",
    "    def __init__(self, x, y):\n",
    "        self.x = x\n",
    "        self.y = y\n",
    "\n",
    "    def add(self, pt):\n",
    "        new_x = self.x + pt.x\n",
    "        new_y = self.y + pt.y\n",
    "        return Point(new_x, new_y)\n",
    "\n",
    "    def __str__(self):\n",
    "        return '({}, {})'.format(self.x, self.y)\n",
    "\n",
    "p1 = Point(3, 4)\n",
    "p2 = Point(2, 7)\n",
    "\n",
    "a = 1 + 2\n",
    "p3 = p1.add(p2)\n",
    "\n",
    "print(p1)\n",
    "print(p2)\n",
    "print(p3)"
   ]
  },
  {
   "cell_type": "code",
   "execution_count": 44,
   "id": "13ab353b-c18b-418b-aeb6-d6a56ba2a173",
   "metadata": {},
   "outputs": [],
   "source": [
    "class Point:\n",
    "    def __init__(self, x, y):\n",
    "        self.x = x\n",
    "        self.y = y\n",
    "\n",
    "    def __add__(self, pt):\n",
    "        new_x = self.x + pt.x\n",
    "        new_y = self.y + pt.y\n",
    "        return Point(new_x, new_y)\n",
    "\n",
    "    def __sub__(self, pt):\n",
    "        new_x = self.x - pt.x\n",
    "        new_y = self.y - pt.y\n",
    "        return Point(new_x, new_y)\n",
    "\n",
    "    def __mul__(self, factor):\n",
    "        return Point(self.x * factor, self.y * factor)\n",
    "\n",
    "    def get_x(self):\n",
    "        return self.x\n",
    "\n",
    "    def get_y(self):\n",
    "        return self.y\n",
    "\n",
    "    def __len__(self):\n",
    "        return self.x ** 2 + self.y ** 2\n",
    "\n",
    "    def __str__(self):\n",
    "        return '({}, {})'.format(self.x, self.y)"
   ]
  },
  {
   "cell_type": "code",
   "execution_count": 60,
   "id": "dcbb45c1-f084-4db6-9039-02ebf92df755",
   "metadata": {},
   "outputs": [
    {
     "name": "stdout",
     "output_type": "stream",
     "text": [
      "(2, 3)\n",
      "(4, 5)\n",
      "(6, 8)\n",
      "(-2, -2)\n",
      "(6, 9)\n"
     ]
    }
   ],
   "source": [
    "p1 = Point(2, 3)\n",
    "p2 = Point(4, 5)\n",
    "p3 = p1 + p2\n",
    "p4 = p1 - p2\n",
    "\n",
    "p5 = p1 * 3\n",
    "\n",
    "print(p1)\n",
    "print(p2)\n",
    "print(p3)\n",
    "print(p4)\n",
    "print(p5)"
   ]
  },
  {
   "cell_type": "code",
   "execution_count": 53,
   "id": "9dfdcd51-d100-4c85-a0d8-c71303ec5695",
   "metadata": {},
   "outputs": [
    {
     "name": "stdout",
     "output_type": "stream",
     "text": [
      "100\n"
     ]
    }
   ],
   "source": [
    "print(len(p3))"
   ]
  },
  {
   "cell_type": "code",
   "execution_count": 55,
   "id": "7d9a546a-b416-47e3-890d-46777fe8bc64",
   "metadata": {},
   "outputs": [
    {
     "name": "stdout",
     "output_type": "stream",
     "text": [
      "2\n",
      "5\n"
     ]
    }
   ],
   "source": [
    "print(p1.get_x())\n",
    "print(p2.get_y())"
   ]
  },
  {
   "cell_type": "code",
   "execution_count": 56,
   "id": "9d5a4341-302c-43dd-939c-243ba527b4d6",
   "metadata": {},
   "outputs": [],
   "source": [
    "class Point:\n",
    "    def __init__(self, x, y):\n",
    "        self.x = x\n",
    "        self.y = y\n",
    "\n",
    "    def __add__(self, pt):\n",
    "        new_x = self.x + pt.x\n",
    "        new_y = self.y + pt.y\n",
    "        return Point(new_x, new_y)\n",
    "\n",
    "    def __sub__(self, pt):\n",
    "        new_x = self.x - pt.x\n",
    "        new_y = self.y - pt.y\n",
    "        return Point(new_x, new_y)\n",
    "\n",
    "    def __mul__(self, factor):\n",
    "        return Point(self.x * factor, self.y * factor)\n",
    "\n",
    "    def __getitem__(self, index):\n",
    "        if index == 0:\n",
    "            return self.x\n",
    "        elif index == 1:\n",
    "            return self.y\n",
    "        else:\n",
    "            retunr -1\n",
    "\n",
    "    def __len__(self):\n",
    "        return self.x ** 2 + self.y ** 2\n",
    "\n",
    "    def __str__(self):\n",
    "        return '({}, {})'.format(self.x, self.y)"
   ]
  },
  {
   "cell_type": "code",
   "execution_count": 62,
   "id": "b8061920-9fad-402d-86c4-f8ddc9563e41",
   "metadata": {},
   "outputs": [
    {
     "name": "stdout",
     "output_type": "stream",
     "text": [
      "(2, 3)\n",
      "(4, 5)\n",
      "(6, 8)\n",
      "(-2, -2)\n",
      "(6, 9)\n"
     ]
    }
   ],
   "source": [
    "p1 = Point(2, 3)\n",
    "p2 = Point(4, 5)\n",
    "p3 = p1 + p2\n",
    "p4 = p1 - p2\n",
    "\n",
    "p5 = p1 * 3\n",
    "\n",
    "print(p1)\n",
    "print(p2)\n",
    "print(p3)\n",
    "print(p4)\n",
    "print(p5)"
   ]
  }
 ],
 "metadata": {
  "kernelspec": {
   "display_name": "Python 3 (ipykernel)",
   "language": "python",
   "name": "python3"
  },
  "language_info": {
   "codemirror_mode": {
    "name": "ipython",
    "version": 3
   },
   "file_extension": ".py",
   "mimetype": "text/x-python",
   "name": "python",
   "nbconvert_exporter": "python",
   "pygments_lexer": "ipython3",
   "version": "3.11.5"
  }
 },
 "nbformat": 4,
 "nbformat_minor": 5
}
